{
 "cells": [
  {
   "cell_type": "code",
   "execution_count": 1,
   "metadata": {},
   "outputs": [],
   "source": [
    "import src.ka_s.pymoo_plugin as pm\n",
    "import src.ka_s.stochastic as ka_s\n",
    "import src.ka_rp as ka_s2\n",
    "import src.moo_benchmarks as moo\n",
    "import numpy as np\n",
    "\n",
    "import osbrain\n",
    "from osbrain import run_nameserver\n",
    "from osbrain import run_agent\n",
    "import src.blackboard as blackboard\n",
    "import src.bb_opt as bb_opt"
   ]
  },
  {
   "cell_type": "code",
   "execution_count": 2,
   "metadata": {},
   "outputs": [],
   "source": [
    "a = pm.PyMooAlgorithm()\n",
    "a.sm_type = 'zdt1_benchmark'\n",
    "a._sm = moo.optimization_test_functions('zdt1')\n",
    "objs = {}\n",
    "dvs = {}\n",
    "for x in range(3):\n",
    "    dvs['x{}'.format(x)] = {'ll':0.0, 'ul':1.0, 'variable type': float}\n",
    "for x in range(2):\n",
    "    objs['f{}'.format(x)] = {'ll':0.0, 'ul':1.0, 'goal':'lt', 'variable type': float}\n",
    "\n",
    "a._design_variables = dvs\n",
    "a._objectives = objs\n",
    "a.setup_problem()"
   ]
  },
  {
   "cell_type": "code",
   "execution_count": null,
   "metadata": {},
   "outputs": [],
   "source": [
    "prob = a.problem\n",
    "prob._evaluate(np.array([[0.,0.5,0.75], [0.25,0.25,0.25], ]), {})\n",
    "print()"
   ]
  },
  {
   "cell_type": "code",
   "execution_count": null,
   "metadata": {},
   "outputs": [],
   "source": [
    "a.search_method()"
   ]
  },
  {
   "cell_type": "code",
   "execution_count": 2,
   "metadata": {},
   "outputs": [
    {
     "name": "stdout",
     "output_type": "stream",
     "text": [
      "Broadcast server running on 0.0.0.0:9091\n",
      "NS running on 127.0.0.1:13214 (127.0.0.1)\n",
      "URI = PYRO:Pyro.NameServer@127.0.0.1:13214\n",
      "INFO [2021-01-19 13:27:53.387169] (blackboard): Connected agent ka_pymoo of agent type <class 'src.ka_s.pymoo_plugin.PyMooAlgorithm'>\n",
      "=======================================================\n",
      "n_gen |  n_eval |  n_nds  |     eps      |  indicator  \n",
      "=======================================================\n",
      "    1 |      10 |       5 |            - |            -\n",
      "    2 |      20 |       8 |  0.029618264 |        ideal\n",
      "NS shut down.\n"
     ]
    }
   ],
   "source": [
    "ns = run_nameserver()\n",
    "\n",
    "bb = run_agent(name='blackboard', base=bb_opt.BenchmarkBbOpt)\n",
    "objs = {}\n",
    "dvs = {}\n",
    "for x in range(3):\n",
    "    dvs['x{}'.format(x)] = {'ll':0.0, 'ul':1.0, 'variable type': float}\n",
    "for x in range(2):\n",
    "    objs['f{}'.format(x)] = {'ll':0.0, 'ul':1.0, 'goal':'lt', 'variable type': float}\n",
    "bb.initialize_abstract_level_3(design_variables=dvs,objectives=objs)\n",
    "bb.set_attr(sm_type='zdt1_benchmark')\n",
    "bb.set_attr(_sm=moo.optimization_test_functions('zdt1'))\n",
    "bb.connect_agent(pm.PyMooAlgorithm, 'ka_pymoo')\n",
    "#rp = run_agent(name='ka_rp', base=pm.PyMooAlgorithm)\n",
    "rp = ns.proxy('ka_pymoo')\n",
    "rp.setup_problem()\n"
   ]
  },
  {
   "cell_type": "code",
   "execution_count": 3,
   "metadata": {},
   "outputs": [
    {
     "name": "stdout",
     "output_type": "stream",
     "text": [
      "{'new': {'core_[0.7798319806350378,0.33140223070384756,0.05256303023480713]': {'design variables': {'x0': 0.7798319806350378, 'x1': 0.33140223070384756, 'x2': 0.05256303023480713}, 'objective functions': {'f0': 0.77983, 'f1': 1.26933}, 'constraints': {}}, 'core_[0.6960761920189835,0.06899320597981518,0.8760444006243311]': {'design variables': {'x0': 0.6960761920189835, 'x1': 0.06899320597981518, 'x2': 0.8760444006243311}, 'objective functions': {'f0': 0.69608, 'f1': 3.34053}, 'constraints': {}}, 'core_[0.892554945466792,0.5722381106056514,0.2847249164681035]': {'design variables': {'x0': 0.892554945466792, 'x1': 0.5722381106056514, 'x2': 0.2847249164681035}, 'objective functions': {'f0': 0.89255, 'f1': 2.77438}, 'constraints': {}}, 'core_[0.6658878271759956,0.7936068974876561,0.17944723069068902]': {'design variables': {'x0': 0.6658878271759956, 'x1': 0.7936068974876561, 'x2': 0.17944723069068902}, 'objective functions': {'f0': 0.66589, 'f1': 3.48622}, 'constraints': {}}, 'core_[0.025180215930770022,0.9551035420735886,0.6498994660644973]': {'design variables': {'x0': 0.025180215930770022, 'x1': 0.9551035420735886, 'x2': 0.6498994660644973}, 'objective functions': {'f0': 0.02518, 'f1': 7.76749}, 'constraints': {}}, 'core_[0.47658615313157937,0.1748431615951469,0.7949012172014974]': {'design variables': {'x0': 0.47658615313157937, 'x1': 0.1748431615951469, 'x2': 0.7949012172014974}, 'objective functions': {'f0': 0.47659, 'f1': 3.76499}, 'constraints': {}}, 'core_[0.35365632660678514,0.9564548037454422,0.9667696443985574]': {'design variables': {'x0': 0.35365632660678514, 'x1': 0.9564548037454422, 'x2': 0.9667696443985574}, 'objective functions': {'f0': 0.35366, 'f1': 7.80671}, 'constraints': {}}, 'core_[0.010427067034005755,0.045314705900698526,0.976115749418565]': {'design variables': {'x0': 0.010427067034005755, 'x1': 0.045314705900698526, 'x2': 0.976115749418565}, 'objective functions': {'f0': 0.01043, 'f1': 5.35487}, 'constraints': {}}, 'core_[0.9018706477318602,0.4557369496413822,0.765050492198844]': {'design variables': {'x0': 0.9018706477318602, 'x1': 0.4557369496413822, 'x2': 0.765050492198844}, 'objective functions': {'f0': 0.90187, 'f1': 4.07356}, 'constraints': {}}, 'core_[0.4175075043386466,0.6301254701256188,0.8312301988884886]': {'design variables': {'x0': 0.4175075043386466, 'x1': 0.6301254701256188, 'x2': 0.8312301988884886}, 'objective functions': {'f0': 0.41751, 'f1': 5.7976}, 'constraints': {}}, 'core_[0.025180215930770022,0.07354473424101321,0.6498994660644973]': {'design variables': {'x0': 0.025180215930770022, 'x1': 0.07354473424101321, 'x2': 0.6498994660644973}, 'objective functions': {'f0': 0.02518, 'f1': 3.92815}, 'constraints': {}}, 'core_[0.892554945466792,0.5722381106056514,0.9660175868912311]': {'design variables': {'x0': 0.892554945466792, 'x1': 0.5722381106056514, 'x2': 0.9660175868912311}, 'objective functions': {'f0': 0.89255, 'f1': 5.26302}, 'constraints': {}}, 'core_[0.7580673579457756,0.33140223070384756,0.05256303023480713]': {'design variables': {'x0': 0.7580673579457756, 'x1': 0.33140223070384756, 'x2': 0.05256303023480713}, 'objective functions': {'f0': 0.75807, 'f1': 1.28983}, 'constraints': {}}, 'core_[0.011475407857338398,0.9287361885091554,0.976115749418565]': {'design variables': {'x0': 0.011475407857338398, 'x1': 0.9287361885091554, 'x2': 0.976115749418565}, 'objective functions': {'f0': 0.01148, 'f1': 9.24041}, 'constraints': {}}, 'core_[0.010427067034005755,0.926829332258211,0.9337828250976182]': {'design variables': {'x0': 0.010427067034005755, 'x1': 0.926829332258211, 'x2': 0.9337828250976182}, 'objective functions': {'f0': 0.01043, 'f1': 9.06014}, 'constraints': {}}, 'core_[0.35365632660678514,0.9564548037454422,0.282752083125164]': {'design variables': {'x0': 0.35365632660678514, 'x1': 0.9564548037454422, 'x2': 0.282752083125164}, 'objective functions': {'f0': 0.35366, 'f1': 5.05137}, 'constraints': {}}, 'core_[0.024131875256602348,0.07163768051296787,0.6498994660644973]': {'design variables': {'x0': 0.024131875256602348, 'x1': 0.07163768051296787, 'x2': 0.6498994660644973}, 'objective functions': {'f0': 0.02413, 'f1': 3.92678}, 'constraints': {}}, 'core_[0.7597152851922203,0.6409494605846405,0.2847249164681035]': {'design variables': {'x0': 0.7597152851922203, 'x1': 0.6409494605846405, 'x2': 0.2847249164681035}, 'objective functions': {'f0': 0.75972, 'f1': 3.18454}, 'constraints': {}}, 'core_[0.7791579855000691,0.4557369496413822,0.7455562052971266]': {'design variables': {'x0': 0.7791579855000691, 'x1': 0.4557369496413822, 'x2': 0.7455562052971266}, 'objective functions': {'f0': 0.77916, 'f1': 4.17173}, 'constraints': {}}, 'core_[0.9188810406855397,0.33140223070384756,0.05256303023480713]': {'design variables': {'x0': 0.9188810406855397, 'x1': 0.33140223070384756, 'x2': 0.05256303023480713}, 'objective functions': {'f0': 0.91888, 'f1': 1.14463}, 'constraints': {}}}, 'old': {}}\n"
     ]
    }
   ],
   "source": [
    "rp.search_method()\n",
    "print(bb.get_blackboard()['level 3'])"
   ]
  },
  {
   "cell_type": "code",
   "execution_count": null,
   "metadata": {},
   "outputs": [],
   "source": []
  }
 ],
 "metadata": {
  "kernelspec": {
   "display_name": "Python 3",
   "language": "python",
   "name": "python3"
  },
  "language_info": {
   "codemirror_mode": {
    "name": "ipython",
    "version": 3
   },
   "file_extension": ".py",
   "mimetype": "text/x-python",
   "name": "python",
   "nbconvert_exporter": "python",
   "pygments_lexer": "ipython3",
   "version": "3.7.3"
  }
 },
 "nbformat": 4,
 "nbformat_minor": 4
}
