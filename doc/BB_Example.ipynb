{
 "cells": [
  {
   "cell_type": "code",
   "execution_count": 1,
   "metadata": {},
   "outputs": [],
   "source": [
    "import osbrain\n",
    "from osbrain import run_nameserver\n",
    "from osbrain import run_agent\n",
    "from osbrain import logging\n",
    "import numpy as np\n",
    "import blackboard\n",
    "import ka\n",
    "import ka_rp as karp\n",
    "import ka_br as kabr\n",
    "import bb_basic\n",
    "import time\n",
    "import h5py"
   ]
  },
  {
   "cell_type": "markdown",
   "metadata": {},
   "source": [
    "# Building a Blackboard System\n",
    "\n",
    "We start by initializing our multi-agent system using osBrain [1].\n",
    "The current implementation for verification utilizes a traditional blackboard system, where multiple agents are present, but do not act concurrently.\n",
    "For the basic program, three agents will be required.\n",
    "\n",
    "* Agent 1: Blackboard\n",
    "* Agent 2: Knowledge Agent - Reactor Physics (`ka_rp`)\n",
    "* Agent 3: Knowledge Agent - Blackboard Reader (`ka_br`)\n",
    "\n",
    "The blackboard agent will retain all of the results obtained by the neutronics agent on the second abstract level of the blackboard (`level 2`).\n",
    "`level 2` contains raw data in the form of a nested dictionary. \n",
    "This data consists of the design variables (height, smear, and plutonium fraction) and objectives (keff, void coefficient, Doppler coefficient, plutonium fraction).\n",
    "\n",
    "The `ka_rp` simulates a reactor core using a surrogate model, where the design variables are used to predict a set of objective functions.\n",
    "The surrogate model is generated from a set of high-fidelity MCNP solutions, using the `LinearNDinterpolator` from `scipy`, which simply performs multi-dimensional linear interpolations [2][3].\n",
    "To determine the objective functions, the design variables are selected randomly between the minimum and maximum values based on previously performed resarch [4].\n",
    "\n",
    "The `ka_br` examines `level 2` of the blackboard to determine if all of the objective variables are within some desired range.\n",
    "If the `ka_br` finds a core which meets the objective functions, it will place the core name on the first level of the blackboard (`level 1`).\n",
    "This will trigger the end of the simulation.\n",
    "\n",
    "## The Problem\n",
    "\n",
    "This simple implementation is meant to demonstrate the major aspects of a blackboard system, and show how multiple agents are able to communicate.\n",
    "To demonstrate this, we examine a simplified SFR core optimization problem.\n",
    "For this problem, we seek core designs that that fulfill a set of objectives.\n",
    "The design variables include the fuel height (50cm - 80cm), fuel smear (0.5 - 0.7), and the fraction of fissile material that is plutonium (0% - 100%).\n",
    "The objectives for this problem are keff (1.02 - 1.07), void coefficient (-200 - -75), Doppler coefficient (-1.0 - -0.6), and the plutonium content (0% - 60%).\n",
    "This example mearly seeks to find a solution within these ranges.\n",
    "\n",
    "## Agent Initialization\n",
    "\n",
    "We start off by initializing the blackboard, `ka_rp` and `ka_br` agents.\n",
    "The two knowledge agents are initialized using the `connect_agent` function.\n",
    "This connects each agent to the blackboard and connects the three different types of communication that are required to interact with the blackboard.\n",
    "The blackboard is the only agent that knowledge agents (KAs) interact with.\n",
    "KAs never talk with other KAs, and only pass information to each other by writing to the blackboard. \n",
    "This ia a fundamental property of the blackboard systems, even in a multi-agent environment.\n",
    "Three channels of communication are used in the blackboard system: writer, trigger, and execute.\n",
    "\n",
    "The writer channel is a request-reply communication channel, which allows the KA to continually request if the blackboard is currently being written to.\n",
    "If it is, the blackboard informs the KA that another KA is writing and it must wait.\n",
    "The KA will then wait for a second and request the state of the blackboard again, until it is able to write its information.\n",
    "For the traditional blackboard, only one knowledge agent is active at a time, and as such it should never encounter a situation where it will be denied access to the blackboard.\n",
    "\n",
    "The trigger channel contains two communication channels, a publish-subscribe channel and a push-pull channel.\n",
    "The blackboard initiates the publish-subscribe channel, which allows the blackboard to publish a trigger event.\n",
    "The trigger event is used to determine which KA will be selected for execution in the next step.\n",
    "The KAs initiate the push-pull channel, which allows them respond to the trigger publication with their associated trigger value.\n",
    "Trigger values will change for some KAs depending on how the problem is progressing.\n",
    "For the traditional blackboard scheme, the trigger value for the `ka_rp` will always be 1, and the trigger value for the `ka_br` will be 0 if no solution is viable and 10 if a solution is viable.\n",
    "\n",
    "The executor channel is a push-pull channel, where the blackboard will inform a KA that they have been selected for execution.\n",
    "The KA who was executed performs their desired actions and will write their results to the blackboard afterwards.\n",
    "We then enter a loop until the KA has finished their action for the traditional blackboard system.\n",
    "Otherwise, the blackboard could continue on with the process and send another trigger event.\n",
    "\n",
    "Along with the communication channels, we set a couple of desired variables for our KAs.\n",
    "For the `ka-rp` agent no attributes are set, however for the `ka-br`, we set the ranges for our objective functions.\n",
    "These ranges will determine how fast the solution will be found.\n",
    "\n",
    "For the blackboard, the entry type for each abstract level is required to be set.\n",
    "`level 1` requires that the dictionary entry have a key labed `valid`, where the value takes on a `bool` data type.\n",
    "Similarly, `level 1` requires a `reactor parameters` key, where the value is itself a dictionary.\n",
    "The nested dictionary for `reactor parameters` has keys for all of the design variables and objective functions, where each value is simply a `float` data type.\n",
    "\n",
    "It is important that each KA has the correct format for adding to the blackboard.\n",
    "If the keys or datatypes for each entry are not correct, the entry will not be added to the blackboard."
   ]
  },
  {
   "cell_type": "code",
   "execution_count": 2,
   "metadata": {},
   "outputs": [
    {
     "name": "stdout",
     "output_type": "stream",
     "text": [
      "Broadcast server running on 0.0.0.0:9091\n",
      "NS running on 127.0.0.1:12440 (127.0.0.1)\n",
      "URI = PYRO:Pyro.NameServer@127.0.0.1:12440\n",
      "INFO [2020-04-12 16:38:14.964156] (bb): Connected agent ka_rp of agent type rp\n",
      "INFO [2020-04-12 16:38:15.002014] (bb): Connected agent ka_br of agent type br\n",
      "INFO [2020-04-12 16:38:23.048738] (bb): Determining which KA to execute\n",
      "INFO [2020-04-12 16:38:23.050949] (bb): Selecting agent ka_rp (TV: 1.0) to execute (TE: 1)\n",
      "INFO [2020-04-12 16:38:23.052435] (ka_rp): Core design variables determined: {'height': 78.12, 'smear': 67.19, 'pu_content': 0.6}\n",
      "INFO [2020-04-12 16:38:26.056477] (bb): Agent ka_rp given permission to write\n",
      "INFO [2020-04-12 16:38:26.058497] (bb): Determining which KA to execute\n",
      "INFO [2020-04-12 16:38:26.060693] (bb): No KA to execute, waiting to sends trigger again.\n",
      "INFO [2020-04-12 16:38:29.071064] (bb): Determining which KA to execute\n",
      "INFO [2020-04-12 16:38:29.074217] (bb): Selecting agent ka_rp (TV: 1.0) to execute (TE: 3)\n",
      "INFO [2020-04-12 16:38:29.075929] (ka_rp): Core design variables determined: {'height': 64.17, 'smear': 50.48, 'pu_content': 0.88}\n",
      "INFO [2020-04-12 16:38:32.084425] (bb): Agent ka_rp given permission to write\n",
      "INFO [2020-04-12 16:38:32.087118] (bb): Determining which KA to execute\n",
      "INFO [2020-04-12 16:38:32.089670] (bb): No KA to execute, waiting to sends trigger again.\n",
      "INFO [2020-04-12 16:38:35.100019] (bb): Determining which KA to execute\n",
      "INFO [2020-04-12 16:38:35.102599] (bb): Selecting agent ka_br (TV: 10) to execute (TE: 5)\n",
      "INFO [2020-04-12 16:38:38.107716] (bb): Agent ka_br given permission to write\n",
      "INFO [2020-04-12 16:38:38.109928] (bb): Determining which KA to execute\n",
      "INFO [2020-04-12 16:38:38.111780] (bb): Selecting agent ka_rp (TV: 1.0) to execute (TE: 6)\n",
      "INFO [2020-04-12 16:38:38.113061] (ka_rp): Core design variables determined: {'height': 60.6, 'smear': 58.2, 'pu_content': 0.21}\n",
      "INFO [2020-04-12 16:38:38.113505] (bb): Problem complete, shutting agents down\n",
      "INFO [2020-04-12 16:38:38.114787] (ka_br): Agent ka_br shutting down\n",
      "INFO [2020-04-12 16:38:39.117960] (bb): Agent ka_rp given permission to write\n",
      "INFO [2020-04-12 16:38:39.121429] (ka_rp): Agent ka_rp shutting down\n"
     ]
    }
   ],
   "source": [
    "ns = run_nameserver()\n",
    "bb = run_agent(name='bb', base=bb_basic.BbTraditional)\n",
    "\n",
    "bb.connect_agent('rp', 'ka_rp')\n",
    "bb.connect_agent('br', 'ka_br')\n",
    "\n",
    "bb.add_abstract_lvl(1, {'valid': bool})\n",
    "bb.add_abstract_lvl(2, {'reactor parameters': {'height': float, 'smear': float, 'pu_content': float, 'keff': float, 'void_coeff': float, 'doppler_coeff': float}})\n",
    "#bb.load_h5()"
   ]
  },
  {
   "cell_type": "code",
   "execution_count": 3,
   "metadata": {},
   "outputs": [
    {
     "data": {
      "text/plain": [
       "['bb', 'ka_rp', 'ka_br']"
      ]
     },
     "execution_count": 3,
     "metadata": {},
     "output_type": "execute_result"
    }
   ],
   "source": [
    "ns.agents()"
   ]
  },
  {
   "cell_type": "markdown",
   "metadata": {},
   "source": [
    "# Running the Blackboard System\n",
    "\n",
    "The blackboard system is controlled in the following box, where we denote a loop of the basic blackboard functions.\n",
    "osBrain requires that the blackboard system be run externally from the blackboard agent.\n",
    "If the loop seen below is implemented into a function within the blackboard, we get errors associated with blackboard communication.\n",
    "This is due to the fact that each agent is a separate process, and when the blackboard runs a method, it consumes the entire process, preventing the blackboard from processing incoming messages [1].\n",
    "Currently, we avoid this problem by making an `unsafe` call to our `wait_for_ka` action.\n",
    "This runs the `wait_for_ka` action in a separate thread from the `bb`, while this may cause unusual errors it was deemed satisfactory for the verification case.\n",
    "Future iterations of the blackboard system may split the blackboard into a controller and blackboard segment to separate the communication and administration portions.\n",
    "\n",
    "Below we see a simple loop which iterates over the three major steps associated with the blackboard: trigger, controller, and execute.\n",
    "As noted previously, the trigger publishes a request for trigger values, when the agents have responded the controller is initiated.\n",
    "The controller examines all of the KA's trigger values and selects the knowledge agent with the highest trigger values.\n",
    "Executor sends a message the the KA with the highest trigger value and tells it to execute its action.\n",
    "\n",
    "This process will allow us to examine how the lines of communication work, and ensure that the blackboard is functioning properly.\n",
    "Please note that you will see the lines of communication in the box above this."
   ]
  },
  {
   "cell_type": "code",
   "execution_count": 3,
   "metadata": {},
   "outputs": [
    {
     "name": "stdout",
     "output_type": "stream",
     "text": [
      "Finished trigger event: 1\n",
      "Finished trigger event: 2\n",
      "Finished trigger event: 3\n",
      "Finished trigger event: 4\n",
      "Finished trigger event: 5\n",
      "Finished trigger event: 6\n",
      "{'core_[64.17, 50.48, 0.88]': {'valid': True}}\n"
     ]
    }
   ],
   "source": [
    "while not bb.get_attr('_complete'):\n",
    "    bb.publish_trigger()\n",
    "    bb.controller()\n",
    "    bb.send_executor()\n",
    "    bb.wait_for_ka()\n",
    "    print('Finished trigger event: {}'.format(bb.get_attr('_trigger_event')))\n",
    "\n",
    "print(bb.get_attr('abstract_lvls')['level 1'])"
   ]
  },
  {
   "cell_type": "markdown",
   "metadata": {},
   "source": [
    "## Optimal Solution\n",
    "\n",
    "Once the algorithm has been completed, we can examine the solution that was accepted.\n",
    "For this we can take the core name printed above and pull it's information from the H5 archive that the blackboard created [5].\n",
    "Below, we examine all of the reactor parameters associated with the optimal core."
   ]
  },
  {
   "cell_type": "code",
   "execution_count": 5,
   "metadata": {},
   "outputs": [
    {
     "name": "stdout",
     "output_type": "stream",
     "text": [
      "doppler_coeff -0.6544388336078889\n",
      "height 67.38\n",
      "keff 1.0173272145285224\n",
      "pu_content 0.42\n",
      "smear 57.01\n",
      "void_coeff -117.02745911308818\n"
     ]
    }
   ],
   "source": [
    "h5 = h5py.File('bb_archive.h5', 'r')\n",
    "for k,v in h5['level 2']['core_[67.38, 57.01, 0.42]']['reactor parameters'].items():\n",
    "    print(k,v[0])\n",
    "h5.close()"
   ]
  },
  {
   "cell_type": "markdown",
   "metadata": {},
   "source": [
    "# Behind the Scenes\n",
    "\n",
    "The previous two aspects have shown off the blackboard and its interactions with the two types of knowledge agents, but from the outside, the knowledge agents act like a black-box; we tell the agent to run and it returns some value to the blackboard.\n",
    "The glean a better understanding of the blackboard system as a whole, an more in-depth discussion of the knowledge agents inner workings is required.\n",
    "\n",
    "## Reactor Physics Knowledge Agent\n",
    "\n",
    "The `ka_rp` performs three steps when it is executed: determine a set of design variables, calculate the objective functions, and write the results to the blackboard.\n",
    "Determining the design variables is performed stochastically, where each variable is selected within its predefined range.\n",
    "This core design is fed to the next function, which is to calculate the objective functions.\n",
    "Objective functions are calculated using a surrogate model based on previously compiled data [2].\n",
    "Given the core design, a set of objective functions are returned.\n",
    "Both the design variables and objective functions are then written to the blackboard on `level 2`, where all raw data concerning the over-arching problem is held.\n",
    "\n",
    "## Blackboard Reader Knowledge Agent\n",
    "\n",
    "Th `ka_br` reads the blackboard during each trigger event to determine if any solutions is viable.\n",
    "If a solution is viable, it's trigger value is set such that it will be selected over the `ka_rp`.\n",
    "`ka_br` then takes the solution and places it's name on `level_1`, indicating that it has met our conditions.\n",
    "Where solutions should fall within the following ranges, where units are seen in [].\n",
    "\n",
    "* k-eigenvalue: 1.02 - 1.07\n",
    "* Void Coefficient: -200 - -75 [pcm/%void]\n",
    "* Doppler Coefficient: -1.0 - -0.6 [pcm/K]\n",
    "* Pu Fraction: 0 - 60 [%]\n",
    "\n",
    "## Blackboard Agent\n",
    "\n",
    "The blackboard is a unique agent which holds the all of the information obtained by the `ka_rp` agent, and information that has been updated by `ka_br`.\n",
    "This information is stored in two separate abstract levels as hinted at in the previous sections.\n",
    "\n",
    "Abstract level 2 (`level 2`) contains data from the `ka_rp` in the form of a dictionary, whose keys are the core name (in the form of `Core_[design_variables])`).\n",
    "The each core contains a dictionary for the reactor parameters (`reactor parameters`), which is in turn a dictionary for all of the objective and design variables.\n",
    "\n",
    "Abstract level 1 (`level 1`) stores core designs that meet the requirements layed out in the previous section.\n",
    "Currently, when a this `level 1` has an entry, the solution is terminated, however, one can imagine a case where we want to find multiple solutions which meet our objectives.\n",
    "\n",
    "## Concluding Remarks\n",
    "\n",
    "The blackboard system from this example is able to find a solution which falls within our range relatively quickly (typically within 20 iterations).\n",
    "If we were to narrow our margins for a desirable solution, it is imaginable that this time would drastically increase since we are currently applying a brute-force stochastic algorithm to find optimal solutions.\n"
   ]
  },
  {
   "cell_type": "markdown",
   "metadata": {},
   "source": [
    "# References\n",
    "\n",
    "[1] osBrain v0.6.5, (2019), GitHub repository, https://github.com/opensistemas-hub/osbrain.\n",
    "\n",
    "[2] C.J. Werner,  et al.,  “MCNP6.2 Release Notes”,  Los Alamos National Laboratory,  reportLA-UR-18-20808 (2018).\n",
    "\n",
    "[3] E. Jones, E. Oliphant, P. Peterson, et al, “SciPy: Open Source Scientific Tools for Python”,http://www.scipy.org/ (2001).\n",
    "\n",
    "[4] R. Stewart and T.S. Palmer, \"Utilizing a Reduced-Order Model and Physical Programming for Preliminary Reactor Design Optimization,\" PHYSOR-2020, Cambridge, UK, 2020.\n",
    "\n",
    "[5] The HDF Group. \"Hierarchical Data Format, version 5,\"  http://www.hdfgroup.org/HDF5/, (1997).\n"
   ]
  }
 ],
 "metadata": {
  "kernelspec": {
   "display_name": "Python 3",
   "language": "python",
   "name": "python3"
  },
  "language_info": {
   "codemirror_mode": {
    "name": "ipython",
    "version": 3
   },
   "file_extension": ".py",
   "mimetype": "text/x-python",
   "name": "python",
   "nbconvert_exporter": "python",
   "pygments_lexer": "ipython3",
   "version": "3.7.3"
  }
 },
 "nbformat": 4,
 "nbformat_minor": 4
}
