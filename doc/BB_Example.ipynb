{
 "cells": [
  {
   "cell_type": "code",
   "execution_count": 1,
   "metadata": {},
   "outputs": [],
   "source": [
    "import osbrain\n",
    "from osbrain import run_nameserver\n",
    "from osbrain import run_agent\n",
    "from osbrain import logging\n",
    "import numpy as np\n",
    "import blackboard\n",
    "import ka\n",
    "import ka_rp as karp\n",
    "import ka_br as kabr\n",
    "import bb_basic\n",
    "import time\n",
    "import h5py"
   ]
  },
  {
   "cell_type": "markdown",
   "metadata": {},
   "source": [
    "# Building a Blackboard System\n",
    "\n",
    "We start by initializing our multi-agent system using osBrain [1].\n",
    "The current implementation for verification utilizes a traditional blackboard system, where multiple agents are present, but do not act concurrently.\n",
    "For the basic program, three agents will be required.\n",
    "\n",
    "* Agent 1: Blackboard\n",
    "* Agent 2: Knowledge Agent - Reactor Physics (`ka_rp`)\n",
    "* Agent 3: Knowledge Agent - Blackboard Reader (`ka_br`)\n",
    "\n",
    "The blackboard agent will retain all of the results obtained by the neutronics agent on the second abstract level of the blackboard (`level 2`).\n",
    "`level 2` contains raw data in the form of a nested dictionary. \n",
    "This data consists of the design variables (height, smear, and plutonium fraction) and objectives (keff, void coefficient, Doppler coefficient, plutonium fraction).\n",
    "\n",
    "The `ka_rp` simulates a reactor core using a surrogate model, where the design variables are used to predict a set of objective functions.\n",
    "The surrogate model is generated from a set of high-fidelity MCNP solutions, using the `LinearNDinterpolator` from `scipy`, which simply performs multi-dimensional linear interpolations [2][3].\n",
    "To determine the objective functions, the design variables are selected randomly between the minimum and maximum values based on previously performed resarch [4].\n",
    "\n",
    "The `ka_br` examines `level 2` of the blackboard to determine if all of the objective variables are within some desired range.\n",
    "If the `ka_br` finds a core which meets the objective functions, it will place the core name on the first level of the blackboard (`level 1`).\n",
    "This will trigger the end of the simulation.\n",
    "\n",
    "## The Problem\n",
    "\n",
    "This simple implementation is meant to demonstrate the major aspects of a blackboard system, and show how multiple agents are able to communicate.\n",
    "To demonstrate this, we examine a simplified SFR core optimization problem.\n",
    "For this problem, we seek core designs that that fulfill a set of objectives.\n",
    "The design variables include the fuel height (50cm - 80cm), fuel smear (0.5 - 0.7), and the fraction of fissile material that is plutonium (0% - 100%).\n",
    "The objectives for this problem are keff (1.02 - 1.07), void coefficient (-200 - -75), Doppler coefficient (-1.0 - -0.6), and the plutonium content (0% - 60%).\n",
    "This example mearly seeks to find a solution within these ranges.\n",
    "\n",
    "## Agent Initialization\n",
    "\n",
    "We start off by initializing the blackboard, `ka_rp` and `ka_br` agents.\n",
    "The two knowledge agents are initialized using the `connect_agent` function.\n",
    "This connects each agent to the blackboard and connects the three different types of communication that are required to interact with the blackboard.\n",
    "The blackboard is the only agent that knowledge agents (KAs) interact with.\n",
    "KAs never talk with other KAs, and only pass information to each other by writing to the blackboard. \n",
    "This ia a fundamental property of the blackboard systems, even in a multi-agent environment.\n",
    "Three channels of communication are used in the blackboard system: writer, trigger, and execute.\n",
    "\n",
    "The writer channel is a request-reply communication channel, which allows the KA to continually request if the blackboard is currently being written to.\n",
    "If it is, the blackboard informs the KA that another KA is writing and it must wait.\n",
    "The KA will then wait for a second and request the state of the blackboard again, until it is able to write its information.\n",
    "For the traditional blackboard, only one knowledge agent is active at a time, and as such it should never encounter a situation where it will be denied access to the blackboard.\n",
    "\n",
    "The trigger channel contains two communication channels, a publish-subscribe channel and a push-pull channel.\n",
    "The blackboard initiates the publish-subscribe channel, which allows the blackboard to publish a trigger event.\n",
    "The trigger event is used to determine which KA will be selected for execution in the next step.\n",
    "The KAs initiate the push-pull channel, which allows them respond to the trigger publication with their associated trigger value.\n",
    "Trigger values will change for some KAs depending on how the problem is progressing.\n",
    "For the traditional blackboard scheme, the trigger value for the `ka_rp` will always be 1, and the trigger value for the `ka_br` will be 0 if no solution is viable and 10 if a solution is viable.\n",
    "\n",
    "The executor channel is a push-pull channel, where the blackboard will inform a KA that they have been selected for execution.\n",
    "The KA who was executed performs their desired actions and will write their results to the blackboard afterwards.\n",
    "We then enter a loop until the KA has finished their action for the traditional blackboard system.\n",
    "Otherwise, the blackboard could continue on with the process and send another trigger event.\n",
    "\n",
    "Along with the communication channels, we set a couple of desired variables for our KAs.\n",
    "For the `ka-rp` agent no attributes are set, however for the `ka-br`, we set the ranges for our objective functions.\n",
    "These ranges will determine how fast the solution will be found.\n",
    "\n",
    "For the blackboard, the entry type for each abstract level is required to be set.\n",
    "`level 1` requires that the dictionary entry have a key labed `valid`, where the value takes on a `bool` data type.\n",
    "Similarly, `level 1` requires a `reactor parameters` key, where the value is itself a dictionary.\n",
    "The nested dictionary for `reactor parameters` has keys for all of the design variables and objective functions, where each value is simply a `float` data type.\n",
    "\n",
    "It is important that each KA has the correct format for adding to the blackboard.\n",
    "If the keys or datatypes for each entry are not correct, the entry will not be added to the blackboard."
   ]
  },
  {
   "cell_type": "code",
   "execution_count": 9,
   "metadata": {},
   "outputs": [
    {
     "name": "stdout",
     "output_type": "stream",
     "text": [
      "Broadcast server running on 0.0.0.0:9091\n",
      "NS running on 127.0.0.1:18815 (127.0.0.1)\n",
      "URI = PYRO:Pyro.NameServer@127.0.0.1:18815\n",
      "INFO [2020-04-21 18:23:05.146964] (bb): Connected agent ka_rp of agent type <class 'ka_rp.KaRp_verify'>\n",
      "INFO [2020-04-21 18:23:05.187933] (bb): Connected agent ka_br of agent type <class 'ka_br.KaBr_verify'>\n",
      "INFO [2020-04-21 18:23:16.344933] (bb): Determining which KA to execute\n",
      "INFO [2020-04-21 18:23:16.347722] (bb): Selecting agent ka_rp (TV: 1.0) to execute (TE: 1)\n",
      "INFO [2020-04-21 18:23:16.349874] (ka_rp): Core design variables determined: {'height': 67.73, 'smear': 58.92, 'pu_content': 0.08}\n",
      "INFO [2020-04-21 18:23:19.356051] (bb): Agent ka_rp given permission to write\n",
      "INFO [2020-04-21 18:23:19.358423] (bb): Determining which KA to execute\n",
      "INFO [2020-04-21 18:23:19.360994] (bb): No KA to execute, waiting to sends trigger again.\n",
      "INFO [2020-04-21 18:23:22.370775] (bb): Determining which KA to execute\n",
      "INFO [2020-04-21 18:23:22.374219] (bb): Selecting agent ka_rp (TV: 1.0) to execute (TE: 3)\n",
      "INFO [2020-04-21 18:23:22.376100] (ka_rp): Core design variables determined: {'height': 68.05, 'smear': 53.33, 'pu_content': 0.05}\n",
      "INFO [2020-04-21 18:23:25.379944] (bb): Agent ka_rp given permission to write\n",
      "INFO [2020-04-21 18:23:25.382827] (bb): Determining which KA to execute\n",
      "INFO [2020-04-21 18:23:25.385567] (bb): No KA to execute, waiting to sends trigger again.\n",
      "INFO [2020-04-21 18:23:28.395145] (bb): Determining which KA to execute\n",
      "INFO [2020-04-21 18:23:28.397910] (bb): Selecting agent ka_rp (TV: 1.0) to execute (TE: 5)\n",
      "INFO [2020-04-21 18:23:28.399885] (ka_rp): Core design variables determined: {'height': 62.66, 'smear': 63.52, 'pu_content': 0.51}\n",
      "INFO [2020-04-21 18:23:31.407157] (bb): Agent ka_rp given permission to write\n",
      "INFO [2020-04-21 18:23:31.409348] (bb): Determining which KA to execute\n",
      "INFO [2020-04-21 18:23:31.412137] (bb): No KA to execute, waiting to sends trigger again.\n",
      "INFO [2020-04-21 18:23:34.417719] (bb): Determining which KA to execute\n",
      "INFO [2020-04-21 18:23:34.420260] (bb): Selecting agent ka_rp (TV: 1.0) to execute (TE: 7)\n",
      "INFO [2020-04-21 18:23:34.422008] (ka_rp): Core design variables determined: {'height': 61.95, 'smear': 59.37, 'pu_content': 0.33}\n",
      "INFO [2020-04-21 18:23:37.428713] (bb): Agent ka_rp given permission to write\n",
      "INFO [2020-04-21 18:23:37.431505] (bb): Determining which KA to execute\n",
      "INFO [2020-04-21 18:23:37.434334] (bb): No KA to execute, waiting to sends trigger again.\n",
      "INFO [2020-04-21 18:23:40.443818] (bb): Determining which KA to execute\n",
      "INFO [2020-04-21 18:23:40.446788] (bb): Selecting agent ka_rp (TV: 1.0) to execute (TE: 9)\n",
      "INFO [2020-04-21 18:23:40.448465] (ka_rp): Core design variables determined: {'height': 74.97, 'smear': 57.47, 'pu_content': 0.39}\n",
      "NS shut down.\n",
      "INFO [2020-04-21 18:23:43.454180] (bb): Agent ka_rp given permission to write\n"
     ]
    }
   ],
   "source": [
    "ns = run_nameserver()\n",
    "bb = run_agent(name='bb', base=bb_basic.BbTraditional)\n",
    "\n",
    "bb.connect_agent(karp.KaRp_verify, 'ka_rp')\n",
    "bb.connect_agent(kabr.KaBr_verify, 'ka_br')\n",
    "\n",
    "bb.add_abstract_lvl(1, {'valid': bool})\n",
    "bb.add_abstract_lvl(2, {'reactor parameters': {'height': float, 'smear': float, 'pu_content': float, 'keff': float, 'void_coeff': float, 'doppler_coeff': float}})\n",
    "#bb.load_h5()"
   ]
  },
  {
   "cell_type": "code",
   "execution_count": 10,
   "metadata": {},
   "outputs": [
    {
     "data": {
      "text/plain": [
       "['bb', 'ka_rp', 'ka_br']"
      ]
     },
     "execution_count": 10,
     "metadata": {},
     "output_type": "execute_result"
    }
   ],
   "source": [
    "ns.agents()\n",
    "#bb.set_attr(_sleep_limit=0.1)"
   ]
  },
  {
   "cell_type": "markdown",
   "metadata": {},
   "source": [
    "# Running the Blackboard System\n",
    "\n",
    "The blackboard system is controlled in the following box, where we denote a loop of the basic blackboard functions.\n",
    "osBrain requires that the blackboard system be run externally from the blackboard agent.\n",
    "If the loop seen below is implemented into a function within the blackboard, we get errors associated with blackboard communication.\n",
    "This is due to the fact that each agent is a separate process, and when the blackboard runs a method, it consumes the entire process, preventing the blackboard from processing incoming messages [1].\n",
    "Currently, we avoid this problem by making an `unsafe` call to our `wait_for_ka` action.\n",
    "This runs the `wait_for_ka` action in a separate thread from the `bb`, while this may cause unusual errors it was deemed satisfactory for the verification case.\n",
    "Future iterations of the blackboard system may split the blackboard into a controller and blackboard segment to separate the communication and administration portions.\n",
    "\n",
    "Below we see a simple loop which iterates over the three major steps associated with the blackboard: trigger, controller, and execute.\n",
    "As noted previously, the trigger publishes a request for trigger values, when the agents have responded the controller is initiated.\n",
    "The controller examines all of the KA's trigger values and selects the knowledge agent with the highest trigger values.\n",
    "Executor sends a message the the KA with the highest trigger value and tells it to execute its action.\n",
    "\n",
    "This process will allow us to examine how the lines of communication work, and ensure that the blackboard is functioning properly.\n",
    "Please note that you will see the lines of communication in the box above this."
   ]
  },
  {
   "cell_type": "code",
   "execution_count": 11,
   "metadata": {},
   "outputs": [
    {
     "name": "stdout",
     "output_type": "stream",
     "text": [
      "Finished trigger event: 1\n",
      "Finished trigger event: 2\n",
      "Finished trigger event: 3\n",
      "Finished trigger event: 4\n",
      "Finished trigger event: 5\n",
      "Finished trigger event: 6\n",
      "Finished trigger event: 7\n",
      "Finished trigger event: 8\n",
      "Finished trigger event: 9\n"
     ]
    },
    {
     "ename": "KeyboardInterrupt",
     "evalue": "",
     "output_type": "error",
     "traceback": [
      "\u001b[0;31m---------------------------------------------------------------------------\u001b[0m",
      "\u001b[0;31mKeyboardInterrupt\u001b[0m                         Traceback (most recent call last)",
      "\u001b[0;32m<ipython-input-11-9d30614a0d30>\u001b[0m in \u001b[0;36m<module>\u001b[0;34m\u001b[0m\n\u001b[1;32m      1\u001b[0m \u001b[0;32mwhile\u001b[0m \u001b[0;32mnot\u001b[0m \u001b[0mbb\u001b[0m\u001b[0;34m.\u001b[0m\u001b[0mget_attr\u001b[0m\u001b[0;34m(\u001b[0m\u001b[0;34m'_complete'\u001b[0m\u001b[0;34m)\u001b[0m\u001b[0;34m:\u001b[0m\u001b[0;34m\u001b[0m\u001b[0;34m\u001b[0m\u001b[0m\n\u001b[0;32m----> 2\u001b[0;31m     \u001b[0mbb\u001b[0m\u001b[0;34m.\u001b[0m\u001b[0mpublish_trigger\u001b[0m\u001b[0;34m(\u001b[0m\u001b[0;34m)\u001b[0m\u001b[0;34m\u001b[0m\u001b[0;34m\u001b[0m\u001b[0m\n\u001b[0m\u001b[1;32m      3\u001b[0m     \u001b[0mbb\u001b[0m\u001b[0;34m.\u001b[0m\u001b[0mcontroller\u001b[0m\u001b[0;34m(\u001b[0m\u001b[0;34m)\u001b[0m\u001b[0;34m\u001b[0m\u001b[0;34m\u001b[0m\u001b[0m\n\u001b[1;32m      4\u001b[0m     \u001b[0mbb\u001b[0m\u001b[0;34m.\u001b[0m\u001b[0msend_executor\u001b[0m\u001b[0;34m(\u001b[0m\u001b[0;34m)\u001b[0m\u001b[0;34m\u001b[0m\u001b[0;34m\u001b[0m\u001b[0m\n\u001b[1;32m      5\u001b[0m     \u001b[0mbb\u001b[0m\u001b[0;34m.\u001b[0m\u001b[0mwait_for_ka\u001b[0m\u001b[0;34m(\u001b[0m\u001b[0;34m)\u001b[0m\u001b[0;34m\u001b[0m\u001b[0;34m\u001b[0m\u001b[0m\n",
      "\u001b[0;32m~/Library/Python/3.7/lib/python/site-packages/Pyro4/core.py\u001b[0m in \u001b[0;36m__call__\u001b[0;34m(self, *args, **kwargs)\u001b[0m\n\u001b[1;32m    183\u001b[0m         \u001b[0;32mfor\u001b[0m \u001b[0mattempt\u001b[0m \u001b[0;32min\u001b[0m \u001b[0mrange\u001b[0m\u001b[0;34m(\u001b[0m\u001b[0mself\u001b[0m\u001b[0;34m.\u001b[0m\u001b[0m__max_retries\u001b[0m \u001b[0;34m+\u001b[0m \u001b[0;36m1\u001b[0m\u001b[0;34m)\u001b[0m\u001b[0;34m:\u001b[0m\u001b[0;34m\u001b[0m\u001b[0;34m\u001b[0m\u001b[0m\n\u001b[1;32m    184\u001b[0m             \u001b[0;32mtry\u001b[0m\u001b[0;34m:\u001b[0m\u001b[0;34m\u001b[0m\u001b[0;34m\u001b[0m\u001b[0m\n\u001b[0;32m--> 185\u001b[0;31m                 \u001b[0;32mreturn\u001b[0m \u001b[0mself\u001b[0m\u001b[0;34m.\u001b[0m\u001b[0m__send\u001b[0m\u001b[0;34m(\u001b[0m\u001b[0mself\u001b[0m\u001b[0;34m.\u001b[0m\u001b[0m__name\u001b[0m\u001b[0;34m,\u001b[0m \u001b[0margs\u001b[0m\u001b[0;34m,\u001b[0m \u001b[0mkwargs\u001b[0m\u001b[0;34m)\u001b[0m\u001b[0;34m\u001b[0m\u001b[0;34m\u001b[0m\u001b[0m\n\u001b[0m\u001b[1;32m    186\u001b[0m             \u001b[0;32mexcept\u001b[0m \u001b[0;34m(\u001b[0m\u001b[0merrors\u001b[0m\u001b[0;34m.\u001b[0m\u001b[0mConnectionClosedError\u001b[0m\u001b[0;34m,\u001b[0m \u001b[0merrors\u001b[0m\u001b[0;34m.\u001b[0m\u001b[0mTimeoutError\u001b[0m\u001b[0;34m)\u001b[0m\u001b[0;34m:\u001b[0m\u001b[0;34m\u001b[0m\u001b[0;34m\u001b[0m\u001b[0m\n\u001b[1;32m    187\u001b[0m                 \u001b[0;31m# only retry for recoverable network errors\u001b[0m\u001b[0;34m\u001b[0m\u001b[0;34m\u001b[0m\u001b[0;34m\u001b[0m\u001b[0m\n",
      "\u001b[0;32m~/Library/Python/3.7/lib/python/site-packages/osbrain/proxy.py\u001b[0m in \u001b[0;36m_pyroInvoke\u001b[0;34m(self, methodname, args, kwargs, flags, objectId)\u001b[0m\n\u001b[1;32m    217\u001b[0m         \u001b[0;32mtry\u001b[0m\u001b[0;34m:\u001b[0m\u001b[0;34m\u001b[0m\u001b[0;34m\u001b[0m\u001b[0m\n\u001b[1;32m    218\u001b[0m             result = self._remote_call(\n\u001b[0;32m--> 219\u001b[0;31m                 methodname, args, kwargs, flags, objectId)\n\u001b[0m\u001b[1;32m    220\u001b[0m         \u001b[0;32mexcept\u001b[0m \u001b[0mException\u001b[0m\u001b[0;34m:\u001b[0m\u001b[0;34m\u001b[0m\u001b[0;34m\u001b[0m\u001b[0m\n\u001b[1;32m    221\u001b[0m             \u001b[0msys\u001b[0m\u001b[0;34m.\u001b[0m\u001b[0mstdout\u001b[0m\u001b[0;34m.\u001b[0m\u001b[0mwrite\u001b[0m\u001b[0;34m(\u001b[0m\u001b[0;34m''\u001b[0m\u001b[0;34m.\u001b[0m\u001b[0mjoin\u001b[0m\u001b[0;34m(\u001b[0m\u001b[0mPyro4\u001b[0m\u001b[0;34m.\u001b[0m\u001b[0mutil\u001b[0m\u001b[0;34m.\u001b[0m\u001b[0mgetPyroTraceback\u001b[0m\u001b[0;34m(\u001b[0m\u001b[0;34m)\u001b[0m\u001b[0;34m)\u001b[0m\u001b[0;34m)\u001b[0m\u001b[0;34m\u001b[0m\u001b[0;34m\u001b[0m\u001b[0m\n",
      "\u001b[0;32m~/Library/Python/3.7/lib/python/site-packages/osbrain/proxy.py\u001b[0m in \u001b[0;36m_remote_call\u001b[0;34m(self, methodname, args, kwargs, flags, objectId)\u001b[0m\n\u001b[1;32m    261\u001b[0m             result = super()._pyroInvoke(\n\u001b[1;32m    262\u001b[0m                 \u001b[0;34m'safe_call'\u001b[0m\u001b[0;34m,\u001b[0m \u001b[0msafe_args\u001b[0m\u001b[0;34m,\u001b[0m \u001b[0mkwargs\u001b[0m\u001b[0;34m,\u001b[0m\u001b[0;34m\u001b[0m\u001b[0;34m\u001b[0m\u001b[0m\n\u001b[0;32m--> 263\u001b[0;31m                 flags=flags, objectId=objectId)\n\u001b[0m\u001b[1;32m    264\u001b[0m             \u001b[0;32mif\u001b[0m \u001b[0misinstance\u001b[0m\u001b[0;34m(\u001b[0m\u001b[0mresult\u001b[0m\u001b[0;34m,\u001b[0m \u001b[0mException\u001b[0m\u001b[0;34m)\u001b[0m\u001b[0;34m:\u001b[0m\u001b[0;34m\u001b[0m\u001b[0;34m\u001b[0m\u001b[0m\n\u001b[1;32m    265\u001b[0m                 \u001b[0;32mraise\u001b[0m \u001b[0mresult\u001b[0m\u001b[0;34m\u001b[0m\u001b[0;34m\u001b[0m\u001b[0m\n",
      "\u001b[0;32m~/Library/Python/3.7/lib/python/site-packages/Pyro4/core.py\u001b[0m in \u001b[0;36m_pyroInvoke\u001b[0;34m(self, methodname, vargs, kwargs, flags, objectId)\u001b[0m\n\u001b[1;32m    451\u001b[0m                     \u001b[0;32mreturn\u001b[0m \u001b[0;32mNone\u001b[0m  \u001b[0;31m# oneway call, no response data\u001b[0m\u001b[0;34m\u001b[0m\u001b[0;34m\u001b[0m\u001b[0m\n\u001b[1;32m    452\u001b[0m                 \u001b[0;32melse\u001b[0m\u001b[0;34m:\u001b[0m\u001b[0;34m\u001b[0m\u001b[0;34m\u001b[0m\u001b[0m\n\u001b[0;32m--> 453\u001b[0;31m                     \u001b[0mmsg\u001b[0m \u001b[0;34m=\u001b[0m \u001b[0mmessage\u001b[0m\u001b[0;34m.\u001b[0m\u001b[0mMessage\u001b[0m\u001b[0;34m.\u001b[0m\u001b[0mrecv\u001b[0m\u001b[0;34m(\u001b[0m\u001b[0mself\u001b[0m\u001b[0;34m.\u001b[0m\u001b[0m_pyroConnection\u001b[0m\u001b[0;34m,\u001b[0m \u001b[0;34m[\u001b[0m\u001b[0mmessage\u001b[0m\u001b[0;34m.\u001b[0m\u001b[0mMSG_RESULT\u001b[0m\u001b[0;34m]\u001b[0m\u001b[0;34m,\u001b[0m \u001b[0mhmac_key\u001b[0m\u001b[0;34m=\u001b[0m\u001b[0mself\u001b[0m\u001b[0;34m.\u001b[0m\u001b[0m_pyroHmacKey\u001b[0m\u001b[0;34m)\u001b[0m\u001b[0;34m\u001b[0m\u001b[0;34m\u001b[0m\u001b[0m\n\u001b[0m\u001b[1;32m    454\u001b[0m                     \u001b[0;32mif\u001b[0m \u001b[0mconfig\u001b[0m\u001b[0;34m.\u001b[0m\u001b[0mLOGWIRE\u001b[0m\u001b[0;34m:\u001b[0m\u001b[0;34m\u001b[0m\u001b[0;34m\u001b[0m\u001b[0m\n\u001b[1;32m    455\u001b[0m                         \u001b[0m_log_wiredata\u001b[0m\u001b[0;34m(\u001b[0m\u001b[0mlog\u001b[0m\u001b[0;34m,\u001b[0m \u001b[0;34m\"proxy wiredata received\"\u001b[0m\u001b[0;34m,\u001b[0m \u001b[0mmsg\u001b[0m\u001b[0;34m)\u001b[0m\u001b[0;34m\u001b[0m\u001b[0;34m\u001b[0m\u001b[0m\n",
      "\u001b[0;32m~/Library/Python/3.7/lib/python/site-packages/Pyro4/message.py\u001b[0m in \u001b[0;36mrecv\u001b[0;34m(cls, connection, requiredMsgTypes, hmac_key)\u001b[0m\n\u001b[1;32m    166\u001b[0m         \u001b[0mValidates\u001b[0m \u001b[0ma\u001b[0m \u001b[0mHMAC\u001b[0m \u001b[0mchunk\u001b[0m \u001b[0;32mif\u001b[0m \u001b[0mpresent\u001b[0m\u001b[0;34m.\u001b[0m\u001b[0;34m\u001b[0m\u001b[0;34m\u001b[0m\u001b[0m\n\u001b[1;32m    167\u001b[0m         \"\"\"\n\u001b[0;32m--> 168\u001b[0;31m         \u001b[0mmsg\u001b[0m \u001b[0;34m=\u001b[0m \u001b[0mcls\u001b[0m\u001b[0;34m.\u001b[0m\u001b[0mfrom_header\u001b[0m\u001b[0;34m(\u001b[0m\u001b[0mconnection\u001b[0m\u001b[0;34m.\u001b[0m\u001b[0mrecv\u001b[0m\u001b[0;34m(\u001b[0m\u001b[0mcls\u001b[0m\u001b[0;34m.\u001b[0m\u001b[0mheader_size\u001b[0m\u001b[0;34m)\u001b[0m\u001b[0;34m)\u001b[0m\u001b[0;34m\u001b[0m\u001b[0;34m\u001b[0m\u001b[0m\n\u001b[0m\u001b[1;32m    169\u001b[0m         \u001b[0mmsg\u001b[0m\u001b[0;34m.\u001b[0m\u001b[0mhmac_key\u001b[0m \u001b[0;34m=\u001b[0m \u001b[0mhmac_key\u001b[0m\u001b[0;34m\u001b[0m\u001b[0;34m\u001b[0m\u001b[0m\n\u001b[1;32m    170\u001b[0m         \u001b[0;32mif\u001b[0m \u001b[0;36m0\u001b[0m \u001b[0;34m<\u001b[0m \u001b[0mconfig\u001b[0m\u001b[0;34m.\u001b[0m\u001b[0mMAX_MESSAGE_SIZE\u001b[0m \u001b[0;34m<\u001b[0m \u001b[0;34m(\u001b[0m\u001b[0mmsg\u001b[0m\u001b[0;34m.\u001b[0m\u001b[0mdata_size\u001b[0m \u001b[0;34m+\u001b[0m \u001b[0mmsg\u001b[0m\u001b[0;34m.\u001b[0m\u001b[0mannotations_size\u001b[0m\u001b[0;34m)\u001b[0m\u001b[0;34m:\u001b[0m\u001b[0;34m\u001b[0m\u001b[0;34m\u001b[0m\u001b[0m\n",
      "\u001b[0;32m~/Library/Python/3.7/lib/python/site-packages/Pyro4/socketutil.py\u001b[0m in \u001b[0;36mrecv\u001b[0;34m(self, size)\u001b[0m\n\u001b[1;32m    461\u001b[0m \u001b[0;34m\u001b[0m\u001b[0m\n\u001b[1;32m    462\u001b[0m     \u001b[0;32mdef\u001b[0m \u001b[0mrecv\u001b[0m\u001b[0;34m(\u001b[0m\u001b[0mself\u001b[0m\u001b[0;34m,\u001b[0m \u001b[0msize\u001b[0m\u001b[0;34m)\u001b[0m\u001b[0;34m:\u001b[0m\u001b[0;34m\u001b[0m\u001b[0;34m\u001b[0m\u001b[0m\n\u001b[0;32m--> 463\u001b[0;31m         \u001b[0;32mreturn\u001b[0m \u001b[0mreceiveData\u001b[0m\u001b[0;34m(\u001b[0m\u001b[0mself\u001b[0m\u001b[0;34m.\u001b[0m\u001b[0msock\u001b[0m\u001b[0;34m,\u001b[0m \u001b[0msize\u001b[0m\u001b[0;34m)\u001b[0m\u001b[0;34m\u001b[0m\u001b[0;34m\u001b[0m\u001b[0m\n\u001b[0m\u001b[1;32m    464\u001b[0m \u001b[0;34m\u001b[0m\u001b[0m\n\u001b[1;32m    465\u001b[0m     \u001b[0;32mdef\u001b[0m \u001b[0mclose\u001b[0m\u001b[0;34m(\u001b[0m\u001b[0mself\u001b[0m\u001b[0;34m)\u001b[0m\u001b[0;34m:\u001b[0m\u001b[0;34m\u001b[0m\u001b[0;34m\u001b[0m\u001b[0m\n",
      "\u001b[0;32m~/Library/Python/3.7/lib/python/site-packages/Pyro4/socketutil.py\u001b[0m in \u001b[0;36mreceiveData\u001b[0;34m(sock, size)\u001b[0m\n\u001b[1;32m    149\u001b[0m             \u001b[0;32mwhile\u001b[0m \u001b[0;32mTrue\u001b[0m\u001b[0;34m:\u001b[0m\u001b[0;34m\u001b[0m\u001b[0;34m\u001b[0m\u001b[0m\n\u001b[1;32m    150\u001b[0m                 \u001b[0;32mtry\u001b[0m\u001b[0;34m:\u001b[0m\u001b[0;34m\u001b[0m\u001b[0;34m\u001b[0m\u001b[0m\n\u001b[0;32m--> 151\u001b[0;31m                     \u001b[0mdata\u001b[0m \u001b[0;34m=\u001b[0m \u001b[0msock\u001b[0m\u001b[0;34m.\u001b[0m\u001b[0mrecv\u001b[0m\u001b[0;34m(\u001b[0m\u001b[0msize\u001b[0m\u001b[0;34m,\u001b[0m \u001b[0msocket\u001b[0m\u001b[0;34m.\u001b[0m\u001b[0mMSG_WAITALL\u001b[0m\u001b[0;34m)\u001b[0m\u001b[0;34m\u001b[0m\u001b[0;34m\u001b[0m\u001b[0m\n\u001b[0m\u001b[1;32m    152\u001b[0m                     \u001b[0;32mif\u001b[0m \u001b[0mlen\u001b[0m\u001b[0;34m(\u001b[0m\u001b[0mdata\u001b[0m\u001b[0;34m)\u001b[0m \u001b[0;34m==\u001b[0m \u001b[0msize\u001b[0m\u001b[0;34m:\u001b[0m\u001b[0;34m\u001b[0m\u001b[0;34m\u001b[0m\u001b[0m\n\u001b[1;32m    153\u001b[0m                         \u001b[0;32mreturn\u001b[0m \u001b[0mdata\u001b[0m\u001b[0;34m\u001b[0m\u001b[0;34m\u001b[0m\u001b[0m\n",
      "\u001b[0;31mKeyboardInterrupt\u001b[0m: "
     ]
    }
   ],
   "source": [
    "while not bb.get_attr('_complete'):\n",
    "    bb.publish_trigger()\n",
    "    bb.controller()\n",
    "    bb.send_executor()\n",
    "    bb.wait_for_ka()\n",
    "    print('Finished trigger event: {}'.format(bb.get_attr('_trigger_event')))\n",
    "\n",
    "print(bb.get_attr('abstract_lvls')['level 1'])"
   ]
  },
  {
   "cell_type": "markdown",
   "metadata": {},
   "source": [
    "## Optimal Solution\n",
    "\n",
    "Once the algorithm has been completed, we can examine the solution that was accepted.\n",
    "For this we can take the core name printed above and pull it's information from the H5 archive that the blackboard created [5].\n",
    "Below, we examine all of the reactor parameters associated with the optimal core."
   ]
  },
  {
   "cell_type": "code",
   "execution_count": 5,
   "metadata": {},
   "outputs": [
    {
     "name": "stdout",
     "output_type": "stream",
     "text": [
      "doppler_coeff -0.6544388336078889\n",
      "height 67.38\n",
      "keff 1.0173272145285224\n",
      "pu_content 0.42\n",
      "smear 57.01\n",
      "void_coeff -117.02745911308818\n"
     ]
    }
   ],
   "source": [
    "h5 = h5py.File('bb_archive.h5', 'r')\n",
    "for k,v in h5['level 2']['core_[67.38, 57.01, 0.42]']['reactor parameters'].items():\n",
    "    print(k,v[0])\n",
    "h5.close()"
   ]
  },
  {
   "cell_type": "markdown",
   "metadata": {},
   "source": [
    "# Behind the Scenes\n",
    "\n",
    "The previous two aspects have shown off the blackboard and its interactions with the two types of knowledge agents, but from the outside, the knowledge agents act like a black-box; we tell the agent to run and it returns some value to the blackboard.\n",
    "The glean a better understanding of the blackboard system as a whole, an more in-depth discussion of the knowledge agents inner workings is required.\n",
    "\n",
    "## Reactor Physics Knowledge Agent\n",
    "\n",
    "The `ka_rp` performs three steps when it is executed: determine a set of design variables, calculate the objective functions, and write the results to the blackboard.\n",
    "Determining the design variables is performed stochastically, where each variable is selected within its predefined range.\n",
    "This core design is fed to the next function, which is to calculate the objective functions.\n",
    "Objective functions are calculated using a surrogate model based on previously compiled data [2].\n",
    "Given the core design, a set of objective functions are returned.\n",
    "Both the design variables and objective functions are then written to the blackboard on `level 2`, where all raw data concerning the over-arching problem is held.\n",
    "\n",
    "## Blackboard Reader Knowledge Agent\n",
    "\n",
    "Th `ka_br` reads the blackboard during each trigger event to determine if any solutions is viable.\n",
    "If a solution is viable, it's trigger value is set such that it will be selected over the `ka_rp`.\n",
    "`ka_br` then takes the solution and places it's name on `level_1`, indicating that it has met our conditions.\n",
    "Where solutions should fall within the following ranges, where units are seen in [].\n",
    "\n",
    "* k-eigenvalue: 1.02 - 1.07\n",
    "* Void Coefficient: -200 - -75 [pcm/%void]\n",
    "* Doppler Coefficient: -1.0 - -0.6 [pcm/K]\n",
    "* Pu Fraction: 0 - 60 [%]\n",
    "\n",
    "## Blackboard Agent\n",
    "\n",
    "The blackboard is a unique agent which holds the all of the information obtained by the `ka_rp` agent, and information that has been updated by `ka_br`.\n",
    "This information is stored in two separate abstract levels as hinted at in the previous sections.\n",
    "\n",
    "Abstract level 2 (`level 2`) contains data from the `ka_rp` in the form of a dictionary, whose keys are the core name (in the form of `Core_[design_variables])`).\n",
    "The each core contains a dictionary for the reactor parameters (`reactor parameters`), which is in turn a dictionary for all of the objective and design variables.\n",
    "\n",
    "Abstract level 1 (`level 1`) stores core designs that meet the requirements layed out in the previous section.\n",
    "Currently, when a this `level 1` has an entry, the solution is terminated, however, one can imagine a case where we want to find multiple solutions which meet our objectives.\n",
    "\n",
    "## Concluding Remarks\n",
    "\n",
    "The blackboard system from this example is able to find a solution which falls within our range relatively quickly (typically within 20 iterations).\n",
    "If we were to narrow our margins for a desirable solution, it is imaginable that this time would drastically increase since we are currently applying a brute-force stochastic algorithm to find optimal solutions.\n"
   ]
  },
  {
   "cell_type": "markdown",
   "metadata": {},
   "source": [
    "# References\n",
    "\n",
    "[1] osBrain v0.6.5, (2019), GitHub repository, https://github.com/opensistemas-hub/osbrain.\n",
    "\n",
    "[2] C.J. Werner,  et al.,  “MCNP6.2 Release Notes”,  Los Alamos National Laboratory,  reportLA-UR-18-20808 (2018).\n",
    "\n",
    "[3] E. Jones, E. Oliphant, P. Peterson, et al, “SciPy: Open Source Scientific Tools for Python”,http://www.scipy.org/ (2001).\n",
    "\n",
    "[4] R. Stewart and T.S. Palmer, \"Utilizing a Reduced-Order Model and Physical Programming for Preliminary Reactor Design Optimization,\" PHYSOR-2020, Cambridge, UK, 2020.\n",
    "\n",
    "[5] The HDF Group. \"Hierarchical Data Format, version 5,\"  http://www.hdfgroup.org/HDF5/, (1997).\n"
   ]
  }
 ],
 "metadata": {
  "kernelspec": {
   "display_name": "Python 3",
   "language": "python",
   "name": "python3"
  },
  "language_info": {
   "codemirror_mode": {
    "name": "ipython",
    "version": 3
   },
   "file_extension": ".py",
   "mimetype": "text/x-python",
   "name": "python",
   "nbconvert_exporter": "python",
   "pygments_lexer": "ipython3",
   "version": "3.7.3"
  }
 },
 "nbformat": 4,
 "nbformat_minor": 4
}
