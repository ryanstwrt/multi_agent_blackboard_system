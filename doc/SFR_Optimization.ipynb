{
 "cells": [
  {
   "cell_type": "code",
   "execution_count": 1,
   "metadata": {},
   "outputs": [],
   "source": [
    "import fridge\n",
    "import fridge.utilities.h5Interface as h5i\n",
    "import fridge.utilities.reactorInterface as RI\n",
    "import os\n",
    "\n",
    "from scipy.interpolate import interp1d as interp\n",
    "from matplotlib import pyplot as plt\n",
    "import plotly.express as px\n",
    "import plotly.graph_objects as go\n",
    "\n",
    "import osbrain\n",
    "from osbrain import run_nameserver\n",
    "from osbrain import run_agent\n",
    "from osbrain import logging\n",
    "import numpy as np\n",
    "import blackboard\n",
    "import ka\n",
    "import ka_rp as karp\n",
    "import ka_br as kabr\n",
    "import bb_sfr_opt\n",
    "import time"
   ]
  },
  {
   "cell_type": "markdown",
   "metadata": {},
   "source": [
    "# SFR Optimization\n",
    "\n",
    "This example seeks to optimize a SFR design utilizing the blackboard framework.\n",
    "We start first by taking a look at the SFR design data using the `h5` add `reactor` interfaces built into `FRDIGe` [cite].\n",
    "For this we'll examine the objectives that will drive the optimization process: cycle length, plutonium mass, reactivity swing, and core average burnup.\n",
    "Upon examination, we note that we have removed a significant portion of the design space by ensuring that the reactor design has a cycle length greater than 0 days."
   ]
  },
  {
   "cell_type": "code",
   "execution_count": 3,
   "metadata": {},
   "outputs": [],
   "source": [
    "h5_interface = h5i.h5Interface()\n",
    "h5_interface.read_h5('/Users/ryanstewart/projects/sfr_database/SFR_DB.h5')"
   ]
  },
  {
   "cell_type": "code",
   "execution_count": 8,
   "metadata": {},
   "outputs": [],
   "source": [
    "cycle_length_list = []\n",
    "rx_swing_list = []\n",
    "height = []\n",
    "smear = []\n",
    "pu_content = []\n",
    "bu = []\n",
    "pu_mass = []\n",
    "for rx, core in h5_interface.h5file.items():\n",
    "    try:\n",
    "        rx_ = RI.reactorInterface(core)\n",
    "        cycle_length = rx_.extrapolate_value('keff', 'time', 1.0)\n",
    "        rx_swing = rx_.get_reactivity_swing(1.0, cycle_length)\n",
    "        rx_swing_per_day = rx_swing/cycle_length * 30\n",
    "        avg_bu = rx_.get_assembly_avg(cycle_length, 'burnup')\n",
    "        avg_bu_per_day = avg_bu/cycle_length * 30\n",
    "        pu = rx_.get_assembly_pu_mass() * 78 / 4\n",
    "        if cycle_length > 180:\n",
    "            height.append(rx_.rx['independent variables']['height'][0])\n",
    "            smear.append(rx_.rx['independent variables']['smear'][0])\n",
    "            pu_content.append(rx_.rx['independent variables']['pu_content'][0])\n",
    "            cycle_length_list.append(cycle_length)\n",
    "            rx_swing_list.append(rx_swing_per_day)\n",
    "            bu.append(avg_bu_per_day)\n",
    "            pu_mass.append(pu)\n",
    "    except (KeyError, TypeError):\n",
    "        print('didnt get {}'.format(core))"
   ]
  },
  {
   "cell_type": "code",
   "execution_count": 9,
   "metadata": {
    "scrolled": false
   },
   "outputs": [
    {
     "data": {
      "application/vnd.plotly.v1+json": {
       "config": {
        "plotlyServerURL": "https://plot.ly"
       },
       "data": [
        {
         "hovertemplate": "Height (cm)=%{x}<br>Smear=%{y}<br>Cycle Length (days)=%{z}<br>Pu Fraction=%{marker.color}<extra></extra>",
         "legendgroup": "",
         "marker": {
          "color": [
           1,
           0.75,
           1,
           0.875,
           0.875,
           0.75,
           1,
           0.555555,
           0.75,
           1,
           0.555555,
           0.75,
           1,
           0.25,
           0.875,
           0.4,
           0.875,
           0.4,
           0.875,
           0.1,
           0.555555,
           0.75,
           1,
           0.555555,
           0.75,
           1,
           0.25,
           0.555555,
           0.75,
           1,
           0.25,
           0.555555,
           0.75,
           1,
           0.25
          ],
          "coloraxis": "coloraxis",
          "symbol": "circle"
         },
         "mode": "markers",
         "name": "",
         "scene": "scene",
         "showlegend": false,
         "type": "scatter3d",
         "x": [
          70,
          80,
          80,
          65,
          75,
          60,
          60,
          70,
          70,
          70,
          80,
          80,
          80,
          80,
          55,
          65,
          65,
          75,
          75,
          75,
          50,
          50,
          50,
          60,
          60,
          60,
          60,
          70,
          70,
          70,
          70,
          80,
          80,
          80,
          80
         ],
         "y": [
          50,
          50,
          50,
          55,
          55,
          60,
          60,
          60,
          60,
          60,
          60,
          60,
          60,
          60,
          65,
          65,
          65,
          65,
          65,
          65,
          70,
          70,
          70,
          70,
          70,
          70,
          70,
          70,
          70,
          70,
          70,
          70,
          70,
          70,
          70
         ],
         "z": [
          212.32833957553032,
          223.95451210564917,
          367.0816044260034,
          240.31755915317575,
          422.6773957571314,
          243.30916282135797,
          378.0830280830276,
          315.0193050193048,
          442.57246376811554,
          590.8653846153866,
          514.592658907791,
          660.1859678782757,
          822.5474683544314,
          246.71968190854875,
          357.36409608091077,
          271.3991769547327,
          594.4209039548033,
          481.7359855334528,
          858.7551867219967,
          193.48739495798316,
          189.80352303523043,
          306.6827212522581,
          446.15613825983314,
          439.77709454265994,
          578.3753709198829,
          720.0270635994584,
          193.08873720136535,
          691.3569576490896,
          845.6774729842065,
          1014.2968750000044,
          429.1543756145525,
          956.1274509803932,
          1086.794986571164,
          1293.0795847750853,
          661.8634886240491
         ]
        }
       ],
       "layout": {
        "coloraxis": {
         "colorbar": {
          "title": {
           "text": "Pu Fraction"
          }
         },
         "colorscale": [
          [
           0,
           "#0d0887"
          ],
          [
           0.1111111111111111,
           "#46039f"
          ],
          [
           0.2222222222222222,
           "#7201a8"
          ],
          [
           0.3333333333333333,
           "#9c179e"
          ],
          [
           0.4444444444444444,
           "#bd3786"
          ],
          [
           0.5555555555555556,
           "#d8576b"
          ],
          [
           0.6666666666666666,
           "#ed7953"
          ],
          [
           0.7777777777777778,
           "#fb9f3a"
          ],
          [
           0.8888888888888888,
           "#fdca26"
          ],
          [
           1,
           "#f0f921"
          ]
         ]
        },
        "legend": {
         "tracegroupgap": 0
        },
        "margin": {
         "t": 60
        },
        "scene": {
         "domain": {
          "x": [
           0,
           1
          ],
          "y": [
           0,
           1
          ]
         },
         "xaxis": {
          "title": {
           "text": "Height (cm)"
          }
         },
         "yaxis": {
          "title": {
           "text": "Smear"
          }
         },
         "zaxis": {
          "title": {
           "text": "Cycle Length (days)"
          }
         }
        },
        "template": {
         "data": {
          "bar": [
           {
            "error_x": {
             "color": "#2a3f5f"
            },
            "error_y": {
             "color": "#2a3f5f"
            },
            "marker": {
             "line": {
              "color": "#E5ECF6",
              "width": 0.5
             }
            },
            "type": "bar"
           }
          ],
          "barpolar": [
           {
            "marker": {
             "line": {
              "color": "#E5ECF6",
              "width": 0.5
             }
            },
            "type": "barpolar"
           }
          ],
          "carpet": [
           {
            "aaxis": {
             "endlinecolor": "#2a3f5f",
             "gridcolor": "white",
             "linecolor": "white",
             "minorgridcolor": "white",
             "startlinecolor": "#2a3f5f"
            },
            "baxis": {
             "endlinecolor": "#2a3f5f",
             "gridcolor": "white",
             "linecolor": "white",
             "minorgridcolor": "white",
             "startlinecolor": "#2a3f5f"
            },
            "type": "carpet"
           }
          ],
          "choropleth": [
           {
            "colorbar": {
             "outlinewidth": 0,
             "ticks": ""
            },
            "type": "choropleth"
           }
          ],
          "contour": [
           {
            "colorbar": {
             "outlinewidth": 0,
             "ticks": ""
            },
            "colorscale": [
             [
              0,
              "#0d0887"
             ],
             [
              0.1111111111111111,
              "#46039f"
             ],
             [
              0.2222222222222222,
              "#7201a8"
             ],
             [
              0.3333333333333333,
              "#9c179e"
             ],
             [
              0.4444444444444444,
              "#bd3786"
             ],
             [
              0.5555555555555556,
              "#d8576b"
             ],
             [
              0.6666666666666666,
              "#ed7953"
             ],
             [
              0.7777777777777778,
              "#fb9f3a"
             ],
             [
              0.8888888888888888,
              "#fdca26"
             ],
             [
              1,
              "#f0f921"
             ]
            ],
            "type": "contour"
           }
          ],
          "contourcarpet": [
           {
            "colorbar": {
             "outlinewidth": 0,
             "ticks": ""
            },
            "type": "contourcarpet"
           }
          ],
          "heatmap": [
           {
            "colorbar": {
             "outlinewidth": 0,
             "ticks": ""
            },
            "colorscale": [
             [
              0,
              "#0d0887"
             ],
             [
              0.1111111111111111,
              "#46039f"
             ],
             [
              0.2222222222222222,
              "#7201a8"
             ],
             [
              0.3333333333333333,
              "#9c179e"
             ],
             [
              0.4444444444444444,
              "#bd3786"
             ],
             [
              0.5555555555555556,
              "#d8576b"
             ],
             [
              0.6666666666666666,
              "#ed7953"
             ],
             [
              0.7777777777777778,
              "#fb9f3a"
             ],
             [
              0.8888888888888888,
              "#fdca26"
             ],
             [
              1,
              "#f0f921"
             ]
            ],
            "type": "heatmap"
           }
          ],
          "heatmapgl": [
           {
            "colorbar": {
             "outlinewidth": 0,
             "ticks": ""
            },
            "colorscale": [
             [
              0,
              "#0d0887"
             ],
             [
              0.1111111111111111,
              "#46039f"
             ],
             [
              0.2222222222222222,
              "#7201a8"
             ],
             [
              0.3333333333333333,
              "#9c179e"
             ],
             [
              0.4444444444444444,
              "#bd3786"
             ],
             [
              0.5555555555555556,
              "#d8576b"
             ],
             [
              0.6666666666666666,
              "#ed7953"
             ],
             [
              0.7777777777777778,
              "#fb9f3a"
             ],
             [
              0.8888888888888888,
              "#fdca26"
             ],
             [
              1,
              "#f0f921"
             ]
            ],
            "type": "heatmapgl"
           }
          ],
          "histogram": [
           {
            "marker": {
             "colorbar": {
              "outlinewidth": 0,
              "ticks": ""
             }
            },
            "type": "histogram"
           }
          ],
          "histogram2d": [
           {
            "colorbar": {
             "outlinewidth": 0,
             "ticks": ""
            },
            "colorscale": [
             [
              0,
              "#0d0887"
             ],
             [
              0.1111111111111111,
              "#46039f"
             ],
             [
              0.2222222222222222,
              "#7201a8"
             ],
             [
              0.3333333333333333,
              "#9c179e"
             ],
             [
              0.4444444444444444,
              "#bd3786"
             ],
             [
              0.5555555555555556,
              "#d8576b"
             ],
             [
              0.6666666666666666,
              "#ed7953"
             ],
             [
              0.7777777777777778,
              "#fb9f3a"
             ],
             [
              0.8888888888888888,
              "#fdca26"
             ],
             [
              1,
              "#f0f921"
             ]
            ],
            "type": "histogram2d"
           }
          ],
          "histogram2dcontour": [
           {
            "colorbar": {
             "outlinewidth": 0,
             "ticks": ""
            },
            "colorscale": [
             [
              0,
              "#0d0887"
             ],
             [
              0.1111111111111111,
              "#46039f"
             ],
             [
              0.2222222222222222,
              "#7201a8"
             ],
             [
              0.3333333333333333,
              "#9c179e"
             ],
             [
              0.4444444444444444,
              "#bd3786"
             ],
             [
              0.5555555555555556,
              "#d8576b"
             ],
             [
              0.6666666666666666,
              "#ed7953"
             ],
             [
              0.7777777777777778,
              "#fb9f3a"
             ],
             [
              0.8888888888888888,
              "#fdca26"
             ],
             [
              1,
              "#f0f921"
             ]
            ],
            "type": "histogram2dcontour"
           }
          ],
          "mesh3d": [
           {
            "colorbar": {
             "outlinewidth": 0,
             "ticks": ""
            },
            "type": "mesh3d"
           }
          ],
          "parcoords": [
           {
            "line": {
             "colorbar": {
              "outlinewidth": 0,
              "ticks": ""
             }
            },
            "type": "parcoords"
           }
          ],
          "pie": [
           {
            "automargin": true,
            "type": "pie"
           }
          ],
          "scatter": [
           {
            "marker": {
             "colorbar": {
              "outlinewidth": 0,
              "ticks": ""
             }
            },
            "type": "scatter"
           }
          ],
          "scatter3d": [
           {
            "line": {
             "colorbar": {
              "outlinewidth": 0,
              "ticks": ""
             }
            },
            "marker": {
             "colorbar": {
              "outlinewidth": 0,
              "ticks": ""
             }
            },
            "type": "scatter3d"
           }
          ],
          "scattercarpet": [
           {
            "marker": {
             "colorbar": {
              "outlinewidth": 0,
              "ticks": ""
             }
            },
            "type": "scattercarpet"
           }
          ],
          "scattergeo": [
           {
            "marker": {
             "colorbar": {
              "outlinewidth": 0,
              "ticks": ""
             }
            },
            "type": "scattergeo"
           }
          ],
          "scattergl": [
           {
            "marker": {
             "colorbar": {
              "outlinewidth": 0,
              "ticks": ""
             }
            },
            "type": "scattergl"
           }
          ],
          "scattermapbox": [
           {
            "marker": {
             "colorbar": {
              "outlinewidth": 0,
              "ticks": ""
             }
            },
            "type": "scattermapbox"
           }
          ],
          "scatterpolar": [
           {
            "marker": {
             "colorbar": {
              "outlinewidth": 0,
              "ticks": ""
             }
            },
            "type": "scatterpolar"
           }
          ],
          "scatterpolargl": [
           {
            "marker": {
             "colorbar": {
              "outlinewidth": 0,
              "ticks": ""
             }
            },
            "type": "scatterpolargl"
           }
          ],
          "scatterternary": [
           {
            "marker": {
             "colorbar": {
              "outlinewidth": 0,
              "ticks": ""
             }
            },
            "type": "scatterternary"
           }
          ],
          "surface": [
           {
            "colorbar": {
             "outlinewidth": 0,
             "ticks": ""
            },
            "colorscale": [
             [
              0,
              "#0d0887"
             ],
             [
              0.1111111111111111,
              "#46039f"
             ],
             [
              0.2222222222222222,
              "#7201a8"
             ],
             [
              0.3333333333333333,
              "#9c179e"
             ],
             [
              0.4444444444444444,
              "#bd3786"
             ],
             [
              0.5555555555555556,
              "#d8576b"
             ],
             [
              0.6666666666666666,
              "#ed7953"
             ],
             [
              0.7777777777777778,
              "#fb9f3a"
             ],
             [
              0.8888888888888888,
              "#fdca26"
             ],
             [
              1,
              "#f0f921"
             ]
            ],
            "type": "surface"
           }
          ],
          "table": [
           {
            "cells": {
             "fill": {
              "color": "#EBF0F8"
             },
             "line": {
              "color": "white"
             }
            },
            "header": {
             "fill": {
              "color": "#C8D4E3"
             },
             "line": {
              "color": "white"
             }
            },
            "type": "table"
           }
          ]
         },
         "layout": {
          "annotationdefaults": {
           "arrowcolor": "#2a3f5f",
           "arrowhead": 0,
           "arrowwidth": 1
          },
          "coloraxis": {
           "colorbar": {
            "outlinewidth": 0,
            "ticks": ""
           }
          },
          "colorscale": {
           "diverging": [
            [
             0,
             "#8e0152"
            ],
            [
             0.1,
             "#c51b7d"
            ],
            [
             0.2,
             "#de77ae"
            ],
            [
             0.3,
             "#f1b6da"
            ],
            [
             0.4,
             "#fde0ef"
            ],
            [
             0.5,
             "#f7f7f7"
            ],
            [
             0.6,
             "#e6f5d0"
            ],
            [
             0.7,
             "#b8e186"
            ],
            [
             0.8,
             "#7fbc41"
            ],
            [
             0.9,
             "#4d9221"
            ],
            [
             1,
             "#276419"
            ]
           ],
           "sequential": [
            [
             0,
             "#0d0887"
            ],
            [
             0.1111111111111111,
             "#46039f"
            ],
            [
             0.2222222222222222,
             "#7201a8"
            ],
            [
             0.3333333333333333,
             "#9c179e"
            ],
            [
             0.4444444444444444,
             "#bd3786"
            ],
            [
             0.5555555555555556,
             "#d8576b"
            ],
            [
             0.6666666666666666,
             "#ed7953"
            ],
            [
             0.7777777777777778,
             "#fb9f3a"
            ],
            [
             0.8888888888888888,
             "#fdca26"
            ],
            [
             1,
             "#f0f921"
            ]
           ],
           "sequentialminus": [
            [
             0,
             "#0d0887"
            ],
            [
             0.1111111111111111,
             "#46039f"
            ],
            [
             0.2222222222222222,
             "#7201a8"
            ],
            [
             0.3333333333333333,
             "#9c179e"
            ],
            [
             0.4444444444444444,
             "#bd3786"
            ],
            [
             0.5555555555555556,
             "#d8576b"
            ],
            [
             0.6666666666666666,
             "#ed7953"
            ],
            [
             0.7777777777777778,
             "#fb9f3a"
            ],
            [
             0.8888888888888888,
             "#fdca26"
            ],
            [
             1,
             "#f0f921"
            ]
           ]
          },
          "colorway": [
           "#636efa",
           "#EF553B",
           "#00cc96",
           "#ab63fa",
           "#FFA15A",
           "#19d3f3",
           "#FF6692",
           "#B6E880",
           "#FF97FF",
           "#FECB52"
          ],
          "font": {
           "color": "#2a3f5f"
          },
          "geo": {
           "bgcolor": "white",
           "lakecolor": "white",
           "landcolor": "#E5ECF6",
           "showlakes": true,
           "showland": true,
           "subunitcolor": "white"
          },
          "hoverlabel": {
           "align": "left"
          },
          "hovermode": "closest",
          "mapbox": {
           "style": "light"
          },
          "paper_bgcolor": "white",
          "plot_bgcolor": "#E5ECF6",
          "polar": {
           "angularaxis": {
            "gridcolor": "white",
            "linecolor": "white",
            "ticks": ""
           },
           "bgcolor": "#E5ECF6",
           "radialaxis": {
            "gridcolor": "white",
            "linecolor": "white",
            "ticks": ""
           }
          },
          "scene": {
           "xaxis": {
            "backgroundcolor": "#E5ECF6",
            "gridcolor": "white",
            "gridwidth": 2,
            "linecolor": "white",
            "showbackground": true,
            "ticks": "",
            "zerolinecolor": "white"
           },
           "yaxis": {
            "backgroundcolor": "#E5ECF6",
            "gridcolor": "white",
            "gridwidth": 2,
            "linecolor": "white",
            "showbackground": true,
            "ticks": "",
            "zerolinecolor": "white"
           },
           "zaxis": {
            "backgroundcolor": "#E5ECF6",
            "gridcolor": "white",
            "gridwidth": 2,
            "linecolor": "white",
            "showbackground": true,
            "ticks": "",
            "zerolinecolor": "white"
           }
          },
          "shapedefaults": {
           "line": {
            "color": "#2a3f5f"
           }
          },
          "ternary": {
           "aaxis": {
            "gridcolor": "white",
            "linecolor": "white",
            "ticks": ""
           },
           "baxis": {
            "gridcolor": "white",
            "linecolor": "white",
            "ticks": ""
           },
           "bgcolor": "#E5ECF6",
           "caxis": {
            "gridcolor": "white",
            "linecolor": "white",
            "ticks": ""
           }
          },
          "title": {
           "x": 0.05
          },
          "xaxis": {
           "automargin": true,
           "gridcolor": "white",
           "linecolor": "white",
           "ticks": "",
           "title": {
            "standoff": 15
           },
           "zerolinecolor": "white",
           "zerolinewidth": 2
          },
          "yaxis": {
           "automargin": true,
           "gridcolor": "white",
           "linecolor": "white",
           "ticks": "",
           "title": {
            "standoff": 15
           },
           "zerolinecolor": "white",
           "zerolinewidth": 2
          }
         }
        }
       }
      },
      "text/html": [
       "<div>\n",
       "        \n",
       "        \n",
       "            <div id=\"0f5adf45-6e21-4741-84a4-ddbead676017\" class=\"plotly-graph-div\" style=\"height:525px; width:100%;\"></div>\n",
       "            <script type=\"text/javascript\">\n",
       "                require([\"plotly\"], function(Plotly) {\n",
       "                    window.PLOTLYENV=window.PLOTLYENV || {};\n",
       "                    \n",
       "                if (document.getElementById(\"0f5adf45-6e21-4741-84a4-ddbead676017\")) {\n",
       "                    Plotly.newPlot(\n",
       "                        '0f5adf45-6e21-4741-84a4-ddbead676017',\n",
       "                        [{\"hovertemplate\": \"Height (cm)=%{x}<br>Smear=%{y}<br>Cycle Length (days)=%{z}<br>Pu Fraction=%{marker.color}<extra></extra>\", \"legendgroup\": \"\", \"marker\": {\"color\": [1.0, 0.75, 1.0, 0.875, 0.875, 0.75, 1.0, 0.555555, 0.75, 1.0, 0.555555, 0.75, 1.0, 0.25, 0.875, 0.4, 0.875, 0.4, 0.875, 0.1, 0.555555, 0.75, 1.0, 0.555555, 0.75, 1.0, 0.25, 0.555555, 0.75, 1.0, 0.25, 0.555555, 0.75, 1.0, 0.25], \"coloraxis\": \"coloraxis\", \"symbol\": \"circle\"}, \"mode\": \"markers\", \"name\": \"\", \"scene\": \"scene\", \"showlegend\": false, \"type\": \"scatter3d\", \"x\": [70.0, 80.0, 80.0, 65.0, 75.0, 60.0, 60.0, 70.0, 70.0, 70.0, 80.0, 80.0, 80.0, 80.0, 55.0, 65.0, 65.0, 75.0, 75.0, 75.0, 50.0, 50.0, 50.0, 60.0, 60.0, 60.0, 60.0, 70.0, 70.0, 70.0, 70.0, 80.0, 80.0, 80.0, 80.0], \"y\": [50.0, 50.0, 50.0, 55.0, 55.0, 60.0, 60.0, 60.0, 60.0, 60.0, 60.0, 60.0, 60.0, 60.0, 65.0, 65.0, 65.0, 65.0, 65.0, 65.0, 70.0, 70.0, 70.0, 70.0, 70.0, 70.0, 70.0, 70.0, 70.0, 70.0, 70.0, 70.0, 70.0, 70.0, 70.0], \"z\": [212.32833957553032, 223.95451210564917, 367.0816044260034, 240.31755915317575, 422.6773957571314, 243.30916282135797, 378.0830280830276, 315.0193050193048, 442.57246376811554, 590.8653846153866, 514.592658907791, 660.1859678782757, 822.5474683544314, 246.71968190854875, 357.36409608091077, 271.3991769547327, 594.4209039548033, 481.7359855334528, 858.7551867219967, 193.48739495798316, 189.80352303523043, 306.6827212522581, 446.15613825983314, 439.77709454265994, 578.3753709198829, 720.0270635994584, 193.08873720136535, 691.3569576490896, 845.6774729842065, 1014.2968750000044, 429.1543756145525, 956.1274509803932, 1086.794986571164, 1293.0795847750853, 661.8634886240491]}],\n",
       "                        {\"coloraxis\": {\"colorbar\": {\"title\": {\"text\": \"Pu Fraction\"}}, \"colorscale\": [[0.0, \"#0d0887\"], [0.1111111111111111, \"#46039f\"], [0.2222222222222222, \"#7201a8\"], [0.3333333333333333, \"#9c179e\"], [0.4444444444444444, \"#bd3786\"], [0.5555555555555556, \"#d8576b\"], [0.6666666666666666, \"#ed7953\"], [0.7777777777777778, \"#fb9f3a\"], [0.8888888888888888, \"#fdca26\"], [1.0, \"#f0f921\"]]}, \"legend\": {\"tracegroupgap\": 0}, \"margin\": {\"t\": 60}, \"scene\": {\"domain\": {\"x\": [0.0, 1.0], \"y\": [0.0, 1.0]}, \"xaxis\": {\"title\": {\"text\": \"Height (cm)\"}}, \"yaxis\": {\"title\": {\"text\": \"Smear\"}}, \"zaxis\": {\"title\": {\"text\": \"Cycle Length (days)\"}}}, \"template\": {\"data\": {\"bar\": [{\"error_x\": {\"color\": \"#2a3f5f\"}, \"error_y\": {\"color\": \"#2a3f5f\"}, \"marker\": {\"line\": {\"color\": \"#E5ECF6\", \"width\": 0.5}}, \"type\": \"bar\"}], \"barpolar\": [{\"marker\": {\"line\": {\"color\": \"#E5ECF6\", \"width\": 0.5}}, \"type\": \"barpolar\"}], \"carpet\": [{\"aaxis\": {\"endlinecolor\": \"#2a3f5f\", \"gridcolor\": \"white\", \"linecolor\": \"white\", \"minorgridcolor\": \"white\", \"startlinecolor\": \"#2a3f5f\"}, \"baxis\": {\"endlinecolor\": \"#2a3f5f\", \"gridcolor\": \"white\", \"linecolor\": \"white\", \"minorgridcolor\": \"white\", \"startlinecolor\": \"#2a3f5f\"}, \"type\": \"carpet\"}], \"choropleth\": [{\"colorbar\": {\"outlinewidth\": 0, \"ticks\": \"\"}, \"type\": \"choropleth\"}], \"contour\": [{\"colorbar\": {\"outlinewidth\": 0, \"ticks\": \"\"}, \"colorscale\": [[0.0, \"#0d0887\"], [0.1111111111111111, \"#46039f\"], [0.2222222222222222, \"#7201a8\"], [0.3333333333333333, \"#9c179e\"], [0.4444444444444444, \"#bd3786\"], [0.5555555555555556, \"#d8576b\"], [0.6666666666666666, \"#ed7953\"], [0.7777777777777778, \"#fb9f3a\"], [0.8888888888888888, \"#fdca26\"], [1.0, \"#f0f921\"]], \"type\": \"contour\"}], \"contourcarpet\": [{\"colorbar\": {\"outlinewidth\": 0, \"ticks\": \"\"}, \"type\": \"contourcarpet\"}], \"heatmap\": [{\"colorbar\": {\"outlinewidth\": 0, \"ticks\": \"\"}, \"colorscale\": [[0.0, \"#0d0887\"], [0.1111111111111111, \"#46039f\"], [0.2222222222222222, \"#7201a8\"], [0.3333333333333333, \"#9c179e\"], [0.4444444444444444, \"#bd3786\"], [0.5555555555555556, \"#d8576b\"], [0.6666666666666666, \"#ed7953\"], [0.7777777777777778, \"#fb9f3a\"], [0.8888888888888888, \"#fdca26\"], [1.0, \"#f0f921\"]], \"type\": \"heatmap\"}], \"heatmapgl\": [{\"colorbar\": {\"outlinewidth\": 0, \"ticks\": \"\"}, \"colorscale\": [[0.0, \"#0d0887\"], [0.1111111111111111, \"#46039f\"], [0.2222222222222222, \"#7201a8\"], [0.3333333333333333, \"#9c179e\"], [0.4444444444444444, \"#bd3786\"], [0.5555555555555556, \"#d8576b\"], [0.6666666666666666, \"#ed7953\"], [0.7777777777777778, \"#fb9f3a\"], [0.8888888888888888, \"#fdca26\"], [1.0, \"#f0f921\"]], \"type\": \"heatmapgl\"}], \"histogram\": [{\"marker\": {\"colorbar\": {\"outlinewidth\": 0, \"ticks\": \"\"}}, \"type\": \"histogram\"}], \"histogram2d\": [{\"colorbar\": {\"outlinewidth\": 0, \"ticks\": \"\"}, \"colorscale\": [[0.0, \"#0d0887\"], [0.1111111111111111, \"#46039f\"], [0.2222222222222222, \"#7201a8\"], [0.3333333333333333, \"#9c179e\"], [0.4444444444444444, \"#bd3786\"], [0.5555555555555556, \"#d8576b\"], [0.6666666666666666, \"#ed7953\"], [0.7777777777777778, \"#fb9f3a\"], [0.8888888888888888, \"#fdca26\"], [1.0, \"#f0f921\"]], \"type\": \"histogram2d\"}], \"histogram2dcontour\": [{\"colorbar\": {\"outlinewidth\": 0, \"ticks\": \"\"}, \"colorscale\": [[0.0, \"#0d0887\"], [0.1111111111111111, \"#46039f\"], [0.2222222222222222, \"#7201a8\"], [0.3333333333333333, \"#9c179e\"], [0.4444444444444444, \"#bd3786\"], [0.5555555555555556, \"#d8576b\"], [0.6666666666666666, \"#ed7953\"], [0.7777777777777778, \"#fb9f3a\"], [0.8888888888888888, \"#fdca26\"], [1.0, \"#f0f921\"]], \"type\": \"histogram2dcontour\"}], \"mesh3d\": [{\"colorbar\": {\"outlinewidth\": 0, \"ticks\": \"\"}, \"type\": \"mesh3d\"}], \"parcoords\": [{\"line\": {\"colorbar\": {\"outlinewidth\": 0, \"ticks\": \"\"}}, \"type\": \"parcoords\"}], \"pie\": [{\"automargin\": true, \"type\": \"pie\"}], \"scatter\": [{\"marker\": {\"colorbar\": {\"outlinewidth\": 0, \"ticks\": \"\"}}, \"type\": \"scatter\"}], \"scatter3d\": [{\"line\": {\"colorbar\": {\"outlinewidth\": 0, \"ticks\": \"\"}}, \"marker\": {\"colorbar\": {\"outlinewidth\": 0, \"ticks\": \"\"}}, \"type\": \"scatter3d\"}], \"scattercarpet\": [{\"marker\": {\"colorbar\": {\"outlinewidth\": 0, \"ticks\": \"\"}}, \"type\": \"scattercarpet\"}], \"scattergeo\": [{\"marker\": {\"colorbar\": {\"outlinewidth\": 0, \"ticks\": \"\"}}, \"type\": \"scattergeo\"}], \"scattergl\": [{\"marker\": {\"colorbar\": {\"outlinewidth\": 0, \"ticks\": \"\"}}, \"type\": \"scattergl\"}], \"scattermapbox\": [{\"marker\": {\"colorbar\": {\"outlinewidth\": 0, \"ticks\": \"\"}}, \"type\": \"scattermapbox\"}], \"scatterpolar\": [{\"marker\": {\"colorbar\": {\"outlinewidth\": 0, \"ticks\": \"\"}}, \"type\": \"scatterpolar\"}], \"scatterpolargl\": [{\"marker\": {\"colorbar\": {\"outlinewidth\": 0, \"ticks\": \"\"}}, \"type\": \"scatterpolargl\"}], \"scatterternary\": [{\"marker\": {\"colorbar\": {\"outlinewidth\": 0, \"ticks\": \"\"}}, \"type\": \"scatterternary\"}], \"surface\": [{\"colorbar\": {\"outlinewidth\": 0, \"ticks\": \"\"}, \"colorscale\": [[0.0, \"#0d0887\"], [0.1111111111111111, \"#46039f\"], [0.2222222222222222, \"#7201a8\"], [0.3333333333333333, \"#9c179e\"], [0.4444444444444444, \"#bd3786\"], [0.5555555555555556, \"#d8576b\"], [0.6666666666666666, \"#ed7953\"], [0.7777777777777778, \"#fb9f3a\"], [0.8888888888888888, \"#fdca26\"], [1.0, \"#f0f921\"]], \"type\": \"surface\"}], \"table\": [{\"cells\": {\"fill\": {\"color\": \"#EBF0F8\"}, \"line\": {\"color\": \"white\"}}, \"header\": {\"fill\": {\"color\": \"#C8D4E3\"}, \"line\": {\"color\": \"white\"}}, \"type\": \"table\"}]}, \"layout\": {\"annotationdefaults\": {\"arrowcolor\": \"#2a3f5f\", \"arrowhead\": 0, \"arrowwidth\": 1}, \"coloraxis\": {\"colorbar\": {\"outlinewidth\": 0, \"ticks\": \"\"}}, \"colorscale\": {\"diverging\": [[0, \"#8e0152\"], [0.1, \"#c51b7d\"], [0.2, \"#de77ae\"], [0.3, \"#f1b6da\"], [0.4, \"#fde0ef\"], [0.5, \"#f7f7f7\"], [0.6, \"#e6f5d0\"], [0.7, \"#b8e186\"], [0.8, \"#7fbc41\"], [0.9, \"#4d9221\"], [1, \"#276419\"]], \"sequential\": [[0.0, \"#0d0887\"], [0.1111111111111111, \"#46039f\"], [0.2222222222222222, \"#7201a8\"], [0.3333333333333333, \"#9c179e\"], [0.4444444444444444, \"#bd3786\"], [0.5555555555555556, \"#d8576b\"], [0.6666666666666666, \"#ed7953\"], [0.7777777777777778, \"#fb9f3a\"], [0.8888888888888888, \"#fdca26\"], [1.0, \"#f0f921\"]], \"sequentialminus\": [[0.0, \"#0d0887\"], [0.1111111111111111, \"#46039f\"], [0.2222222222222222, \"#7201a8\"], [0.3333333333333333, \"#9c179e\"], [0.4444444444444444, \"#bd3786\"], [0.5555555555555556, \"#d8576b\"], [0.6666666666666666, \"#ed7953\"], [0.7777777777777778, \"#fb9f3a\"], [0.8888888888888888, \"#fdca26\"], [1.0, \"#f0f921\"]]}, \"colorway\": [\"#636efa\", \"#EF553B\", \"#00cc96\", \"#ab63fa\", \"#FFA15A\", \"#19d3f3\", \"#FF6692\", \"#B6E880\", \"#FF97FF\", \"#FECB52\"], \"font\": {\"color\": \"#2a3f5f\"}, \"geo\": {\"bgcolor\": \"white\", \"lakecolor\": \"white\", \"landcolor\": \"#E5ECF6\", \"showlakes\": true, \"showland\": true, \"subunitcolor\": \"white\"}, \"hoverlabel\": {\"align\": \"left\"}, \"hovermode\": \"closest\", \"mapbox\": {\"style\": \"light\"}, \"paper_bgcolor\": \"white\", \"plot_bgcolor\": \"#E5ECF6\", \"polar\": {\"angularaxis\": {\"gridcolor\": \"white\", \"linecolor\": \"white\", \"ticks\": \"\"}, \"bgcolor\": \"#E5ECF6\", \"radialaxis\": {\"gridcolor\": \"white\", \"linecolor\": \"white\", \"ticks\": \"\"}}, \"scene\": {\"xaxis\": {\"backgroundcolor\": \"#E5ECF6\", \"gridcolor\": \"white\", \"gridwidth\": 2, \"linecolor\": \"white\", \"showbackground\": true, \"ticks\": \"\", \"zerolinecolor\": \"white\"}, \"yaxis\": {\"backgroundcolor\": \"#E5ECF6\", \"gridcolor\": \"white\", \"gridwidth\": 2, \"linecolor\": \"white\", \"showbackground\": true, \"ticks\": \"\", \"zerolinecolor\": \"white\"}, \"zaxis\": {\"backgroundcolor\": \"#E5ECF6\", \"gridcolor\": \"white\", \"gridwidth\": 2, \"linecolor\": \"white\", \"showbackground\": true, \"ticks\": \"\", \"zerolinecolor\": \"white\"}}, \"shapedefaults\": {\"line\": {\"color\": \"#2a3f5f\"}}, \"ternary\": {\"aaxis\": {\"gridcolor\": \"white\", \"linecolor\": \"white\", \"ticks\": \"\"}, \"baxis\": {\"gridcolor\": \"white\", \"linecolor\": \"white\", \"ticks\": \"\"}, \"bgcolor\": \"#E5ECF6\", \"caxis\": {\"gridcolor\": \"white\", \"linecolor\": \"white\", \"ticks\": \"\"}}, \"title\": {\"x\": 0.05}, \"xaxis\": {\"automargin\": true, \"gridcolor\": \"white\", \"linecolor\": \"white\", \"ticks\": \"\", \"title\": {\"standoff\": 15}, \"zerolinecolor\": \"white\", \"zerolinewidth\": 2}, \"yaxis\": {\"automargin\": true, \"gridcolor\": \"white\", \"linecolor\": \"white\", \"ticks\": \"\", \"title\": {\"standoff\": 15}, \"zerolinecolor\": \"white\", \"zerolinewidth\": 2}}}},\n",
       "                        {\"responsive\": true}\n",
       "                    ).then(function(){\n",
       "                            \n",
       "var gd = document.getElementById('0f5adf45-6e21-4741-84a4-ddbead676017');\n",
       "var x = new MutationObserver(function (mutations, observer) {{\n",
       "        var display = window.getComputedStyle(gd).display;\n",
       "        if (!display || display === 'none') {{\n",
       "            console.log([gd, 'removed!']);\n",
       "            Plotly.purge(gd);\n",
       "            observer.disconnect();\n",
       "        }}\n",
       "}});\n",
       "\n",
       "// Listen for the removal of the full notebook cells\n",
       "var notebookContainer = gd.closest('#notebook-container');\n",
       "if (notebookContainer) {{\n",
       "    x.observe(notebookContainer, {childList: true});\n",
       "}}\n",
       "\n",
       "// Listen for the clearing of the current output cell\n",
       "var outputEl = gd.closest('.output');\n",
       "if (outputEl) {{\n",
       "    x.observe(outputEl, {childList: true});\n",
       "}}\n",
       "\n",
       "                        })\n",
       "                };\n",
       "                });\n",
       "            </script>\n",
       "        </div>"
      ]
     },
     "metadata": {},
     "output_type": "display_data"
    },
    {
     "data": {
      "application/vnd.plotly.v1+json": {
       "config": {
        "plotlyServerURL": "https://plot.ly"
       },
       "data": [
        {
         "hovertemplate": "Height (cm)=%{x}<br>Smear=%{y}<br>Rx Swing (pcm)=%{z}<br>Pu Fraction=%{marker.color}<extra></extra>",
         "legendgroup": "",
         "marker": {
          "color": [
           1,
           0.75,
           1,
           0.875,
           0.875,
           0.75,
           1,
           0.555555,
           0.75,
           1,
           0.555555,
           0.75,
           1,
           0.25,
           0.875,
           0.4,
           0.875,
           0.4,
           0.875,
           0.1,
           0.555555,
           0.75,
           1,
           0.555555,
           0.75,
           1,
           0.25,
           0.555555,
           0.75,
           1,
           0.25,
           0.555555,
           0.75,
           1,
           0.25
          ],
          "coloraxis": "coloraxis",
          "symbol": "circle"
         },
         "mode": "markers",
         "name": "",
         "scene": "scene",
         "showlegend": false,
         "type": "scatter3d",
         "x": [
          70,
          80,
          80,
          65,
          75,
          60,
          60,
          70,
          70,
          70,
          80,
          80,
          80,
          80,
          55,
          65,
          65,
          75,
          75,
          75,
          50,
          50,
          50,
          60,
          60,
          60,
          60,
          70,
          70,
          70,
          70,
          80,
          80,
          80,
          80
         ],
         "y": [
          50,
          50,
          50,
          55,
          55,
          60,
          60,
          60,
          60,
          60,
          60,
          60,
          60,
          60,
          65,
          65,
          65,
          65,
          65,
          65,
          70,
          70,
          70,
          70,
          70,
          70,
          70,
          70,
          70,
          70,
          70,
          70,
          70,
          70,
          70
         ],
         "z": [
          902.0305487734581,
          763.1216015357402,
          781.87223268903,
          866.181315689739,
          738.4226636239974,
          851.6365715275583,
          867.8283125786721,
          703.0132815567816,
          724.1942945156775,
          739.3837138701537,
          602.0777473703077,
          614.3474481693219,
          628.8522549615084,
          573.31687731325,
          857.8306788105779,
          676.4864835468359,
          719.1600528593492,
          585.6918225519196,
          601.8148214160676,
          538.9329487140416,
          850.273567552309,
          876.3990113124241,
          880.004422011664,
          695.4981685540677,
          703.0493866561735,
          728.5458669189048,
          662.3915191798575,
          592.6000874692522,
          598.3267333727388,
          609.7643779606141,
          557.3209972502796,
          508.5092521656354,
          533.085999680031,
          532.0498486399061,
          487.0165883533776
         ]
        }
       ],
       "layout": {
        "coloraxis": {
         "colorbar": {
          "title": {
           "text": "Pu Fraction"
          }
         },
         "colorscale": [
          [
           0,
           "#0d0887"
          ],
          [
           0.1111111111111111,
           "#46039f"
          ],
          [
           0.2222222222222222,
           "#7201a8"
          ],
          [
           0.3333333333333333,
           "#9c179e"
          ],
          [
           0.4444444444444444,
           "#bd3786"
          ],
          [
           0.5555555555555556,
           "#d8576b"
          ],
          [
           0.6666666666666666,
           "#ed7953"
          ],
          [
           0.7777777777777778,
           "#fb9f3a"
          ],
          [
           0.8888888888888888,
           "#fdca26"
          ],
          [
           1,
           "#f0f921"
          ]
         ]
        },
        "legend": {
         "tracegroupgap": 0
        },
        "margin": {
         "t": 60
        },
        "scene": {
         "domain": {
          "x": [
           0,
           1
          ],
          "y": [
           0,
           1
          ]
         },
         "xaxis": {
          "title": {
           "text": "Height (cm)"
          }
         },
         "yaxis": {
          "title": {
           "text": "Smear"
          }
         },
         "zaxis": {
          "title": {
           "text": "Rx Swing (pcm)"
          }
         }
        },
        "template": {
         "data": {
          "bar": [
           {
            "error_x": {
             "color": "#2a3f5f"
            },
            "error_y": {
             "color": "#2a3f5f"
            },
            "marker": {
             "line": {
              "color": "#E5ECF6",
              "width": 0.5
             }
            },
            "type": "bar"
           }
          ],
          "barpolar": [
           {
            "marker": {
             "line": {
              "color": "#E5ECF6",
              "width": 0.5
             }
            },
            "type": "barpolar"
           }
          ],
          "carpet": [
           {
            "aaxis": {
             "endlinecolor": "#2a3f5f",
             "gridcolor": "white",
             "linecolor": "white",
             "minorgridcolor": "white",
             "startlinecolor": "#2a3f5f"
            },
            "baxis": {
             "endlinecolor": "#2a3f5f",
             "gridcolor": "white",
             "linecolor": "white",
             "minorgridcolor": "white",
             "startlinecolor": "#2a3f5f"
            },
            "type": "carpet"
           }
          ],
          "choropleth": [
           {
            "colorbar": {
             "outlinewidth": 0,
             "ticks": ""
            },
            "type": "choropleth"
           }
          ],
          "contour": [
           {
            "colorbar": {
             "outlinewidth": 0,
             "ticks": ""
            },
            "colorscale": [
             [
              0,
              "#0d0887"
             ],
             [
              0.1111111111111111,
              "#46039f"
             ],
             [
              0.2222222222222222,
              "#7201a8"
             ],
             [
              0.3333333333333333,
              "#9c179e"
             ],
             [
              0.4444444444444444,
              "#bd3786"
             ],
             [
              0.5555555555555556,
              "#d8576b"
             ],
             [
              0.6666666666666666,
              "#ed7953"
             ],
             [
              0.7777777777777778,
              "#fb9f3a"
             ],
             [
              0.8888888888888888,
              "#fdca26"
             ],
             [
              1,
              "#f0f921"
             ]
            ],
            "type": "contour"
           }
          ],
          "contourcarpet": [
           {
            "colorbar": {
             "outlinewidth": 0,
             "ticks": ""
            },
            "type": "contourcarpet"
           }
          ],
          "heatmap": [
           {
            "colorbar": {
             "outlinewidth": 0,
             "ticks": ""
            },
            "colorscale": [
             [
              0,
              "#0d0887"
             ],
             [
              0.1111111111111111,
              "#46039f"
             ],
             [
              0.2222222222222222,
              "#7201a8"
             ],
             [
              0.3333333333333333,
              "#9c179e"
             ],
             [
              0.4444444444444444,
              "#bd3786"
             ],
             [
              0.5555555555555556,
              "#d8576b"
             ],
             [
              0.6666666666666666,
              "#ed7953"
             ],
             [
              0.7777777777777778,
              "#fb9f3a"
             ],
             [
              0.8888888888888888,
              "#fdca26"
             ],
             [
              1,
              "#f0f921"
             ]
            ],
            "type": "heatmap"
           }
          ],
          "heatmapgl": [
           {
            "colorbar": {
             "outlinewidth": 0,
             "ticks": ""
            },
            "colorscale": [
             [
              0,
              "#0d0887"
             ],
             [
              0.1111111111111111,
              "#46039f"
             ],
             [
              0.2222222222222222,
              "#7201a8"
             ],
             [
              0.3333333333333333,
              "#9c179e"
             ],
             [
              0.4444444444444444,
              "#bd3786"
             ],
             [
              0.5555555555555556,
              "#d8576b"
             ],
             [
              0.6666666666666666,
              "#ed7953"
             ],
             [
              0.7777777777777778,
              "#fb9f3a"
             ],
             [
              0.8888888888888888,
              "#fdca26"
             ],
             [
              1,
              "#f0f921"
             ]
            ],
            "type": "heatmapgl"
           }
          ],
          "histogram": [
           {
            "marker": {
             "colorbar": {
              "outlinewidth": 0,
              "ticks": ""
             }
            },
            "type": "histogram"
           }
          ],
          "histogram2d": [
           {
            "colorbar": {
             "outlinewidth": 0,
             "ticks": ""
            },
            "colorscale": [
             [
              0,
              "#0d0887"
             ],
             [
              0.1111111111111111,
              "#46039f"
             ],
             [
              0.2222222222222222,
              "#7201a8"
             ],
             [
              0.3333333333333333,
              "#9c179e"
             ],
             [
              0.4444444444444444,
              "#bd3786"
             ],
             [
              0.5555555555555556,
              "#d8576b"
             ],
             [
              0.6666666666666666,
              "#ed7953"
             ],
             [
              0.7777777777777778,
              "#fb9f3a"
             ],
             [
              0.8888888888888888,
              "#fdca26"
             ],
             [
              1,
              "#f0f921"
             ]
            ],
            "type": "histogram2d"
           }
          ],
          "histogram2dcontour": [
           {
            "colorbar": {
             "outlinewidth": 0,
             "ticks": ""
            },
            "colorscale": [
             [
              0,
              "#0d0887"
             ],
             [
              0.1111111111111111,
              "#46039f"
             ],
             [
              0.2222222222222222,
              "#7201a8"
             ],
             [
              0.3333333333333333,
              "#9c179e"
             ],
             [
              0.4444444444444444,
              "#bd3786"
             ],
             [
              0.5555555555555556,
              "#d8576b"
             ],
             [
              0.6666666666666666,
              "#ed7953"
             ],
             [
              0.7777777777777778,
              "#fb9f3a"
             ],
             [
              0.8888888888888888,
              "#fdca26"
             ],
             [
              1,
              "#f0f921"
             ]
            ],
            "type": "histogram2dcontour"
           }
          ],
          "mesh3d": [
           {
            "colorbar": {
             "outlinewidth": 0,
             "ticks": ""
            },
            "type": "mesh3d"
           }
          ],
          "parcoords": [
           {
            "line": {
             "colorbar": {
              "outlinewidth": 0,
              "ticks": ""
             }
            },
            "type": "parcoords"
           }
          ],
          "pie": [
           {
            "automargin": true,
            "type": "pie"
           }
          ],
          "scatter": [
           {
            "marker": {
             "colorbar": {
              "outlinewidth": 0,
              "ticks": ""
             }
            },
            "type": "scatter"
           }
          ],
          "scatter3d": [
           {
            "line": {
             "colorbar": {
              "outlinewidth": 0,
              "ticks": ""
             }
            },
            "marker": {
             "colorbar": {
              "outlinewidth": 0,
              "ticks": ""
             }
            },
            "type": "scatter3d"
           }
          ],
          "scattercarpet": [
           {
            "marker": {
             "colorbar": {
              "outlinewidth": 0,
              "ticks": ""
             }
            },
            "type": "scattercarpet"
           }
          ],
          "scattergeo": [
           {
            "marker": {
             "colorbar": {
              "outlinewidth": 0,
              "ticks": ""
             }
            },
            "type": "scattergeo"
           }
          ],
          "scattergl": [
           {
            "marker": {
             "colorbar": {
              "outlinewidth": 0,
              "ticks": ""
             }
            },
            "type": "scattergl"
           }
          ],
          "scattermapbox": [
           {
            "marker": {
             "colorbar": {
              "outlinewidth": 0,
              "ticks": ""
             }
            },
            "type": "scattermapbox"
           }
          ],
          "scatterpolar": [
           {
            "marker": {
             "colorbar": {
              "outlinewidth": 0,
              "ticks": ""
             }
            },
            "type": "scatterpolar"
           }
          ],
          "scatterpolargl": [
           {
            "marker": {
             "colorbar": {
              "outlinewidth": 0,
              "ticks": ""
             }
            },
            "type": "scatterpolargl"
           }
          ],
          "scatterternary": [
           {
            "marker": {
             "colorbar": {
              "outlinewidth": 0,
              "ticks": ""
             }
            },
            "type": "scatterternary"
           }
          ],
          "surface": [
           {
            "colorbar": {
             "outlinewidth": 0,
             "ticks": ""
            },
            "colorscale": [
             [
              0,
              "#0d0887"
             ],
             [
              0.1111111111111111,
              "#46039f"
             ],
             [
              0.2222222222222222,
              "#7201a8"
             ],
             [
              0.3333333333333333,
              "#9c179e"
             ],
             [
              0.4444444444444444,
              "#bd3786"
             ],
             [
              0.5555555555555556,
              "#d8576b"
             ],
             [
              0.6666666666666666,
              "#ed7953"
             ],
             [
              0.7777777777777778,
              "#fb9f3a"
             ],
             [
              0.8888888888888888,
              "#fdca26"
             ],
             [
              1,
              "#f0f921"
             ]
            ],
            "type": "surface"
           }
          ],
          "table": [
           {
            "cells": {
             "fill": {
              "color": "#EBF0F8"
             },
             "line": {
              "color": "white"
             }
            },
            "header": {
             "fill": {
              "color": "#C8D4E3"
             },
             "line": {
              "color": "white"
             }
            },
            "type": "table"
           }
          ]
         },
         "layout": {
          "annotationdefaults": {
           "arrowcolor": "#2a3f5f",
           "arrowhead": 0,
           "arrowwidth": 1
          },
          "coloraxis": {
           "colorbar": {
            "outlinewidth": 0,
            "ticks": ""
           }
          },
          "colorscale": {
           "diverging": [
            [
             0,
             "#8e0152"
            ],
            [
             0.1,
             "#c51b7d"
            ],
            [
             0.2,
             "#de77ae"
            ],
            [
             0.3,
             "#f1b6da"
            ],
            [
             0.4,
             "#fde0ef"
            ],
            [
             0.5,
             "#f7f7f7"
            ],
            [
             0.6,
             "#e6f5d0"
            ],
            [
             0.7,
             "#b8e186"
            ],
            [
             0.8,
             "#7fbc41"
            ],
            [
             0.9,
             "#4d9221"
            ],
            [
             1,
             "#276419"
            ]
           ],
           "sequential": [
            [
             0,
             "#0d0887"
            ],
            [
             0.1111111111111111,
             "#46039f"
            ],
            [
             0.2222222222222222,
             "#7201a8"
            ],
            [
             0.3333333333333333,
             "#9c179e"
            ],
            [
             0.4444444444444444,
             "#bd3786"
            ],
            [
             0.5555555555555556,
             "#d8576b"
            ],
            [
             0.6666666666666666,
             "#ed7953"
            ],
            [
             0.7777777777777778,
             "#fb9f3a"
            ],
            [
             0.8888888888888888,
             "#fdca26"
            ],
            [
             1,
             "#f0f921"
            ]
           ],
           "sequentialminus": [
            [
             0,
             "#0d0887"
            ],
            [
             0.1111111111111111,
             "#46039f"
            ],
            [
             0.2222222222222222,
             "#7201a8"
            ],
            [
             0.3333333333333333,
             "#9c179e"
            ],
            [
             0.4444444444444444,
             "#bd3786"
            ],
            [
             0.5555555555555556,
             "#d8576b"
            ],
            [
             0.6666666666666666,
             "#ed7953"
            ],
            [
             0.7777777777777778,
             "#fb9f3a"
            ],
            [
             0.8888888888888888,
             "#fdca26"
            ],
            [
             1,
             "#f0f921"
            ]
           ]
          },
          "colorway": [
           "#636efa",
           "#EF553B",
           "#00cc96",
           "#ab63fa",
           "#FFA15A",
           "#19d3f3",
           "#FF6692",
           "#B6E880",
           "#FF97FF",
           "#FECB52"
          ],
          "font": {
           "color": "#2a3f5f"
          },
          "geo": {
           "bgcolor": "white",
           "lakecolor": "white",
           "landcolor": "#E5ECF6",
           "showlakes": true,
           "showland": true,
           "subunitcolor": "white"
          },
          "hoverlabel": {
           "align": "left"
          },
          "hovermode": "closest",
          "mapbox": {
           "style": "light"
          },
          "paper_bgcolor": "white",
          "plot_bgcolor": "#E5ECF6",
          "polar": {
           "angularaxis": {
            "gridcolor": "white",
            "linecolor": "white",
            "ticks": ""
           },
           "bgcolor": "#E5ECF6",
           "radialaxis": {
            "gridcolor": "white",
            "linecolor": "white",
            "ticks": ""
           }
          },
          "scene": {
           "xaxis": {
            "backgroundcolor": "#E5ECF6",
            "gridcolor": "white",
            "gridwidth": 2,
            "linecolor": "white",
            "showbackground": true,
            "ticks": "",
            "zerolinecolor": "white"
           },
           "yaxis": {
            "backgroundcolor": "#E5ECF6",
            "gridcolor": "white",
            "gridwidth": 2,
            "linecolor": "white",
            "showbackground": true,
            "ticks": "",
            "zerolinecolor": "white"
           },
           "zaxis": {
            "backgroundcolor": "#E5ECF6",
            "gridcolor": "white",
            "gridwidth": 2,
            "linecolor": "white",
            "showbackground": true,
            "ticks": "",
            "zerolinecolor": "white"
           }
          },
          "shapedefaults": {
           "line": {
            "color": "#2a3f5f"
           }
          },
          "ternary": {
           "aaxis": {
            "gridcolor": "white",
            "linecolor": "white",
            "ticks": ""
           },
           "baxis": {
            "gridcolor": "white",
            "linecolor": "white",
            "ticks": ""
           },
           "bgcolor": "#E5ECF6",
           "caxis": {
            "gridcolor": "white",
            "linecolor": "white",
            "ticks": ""
           }
          },
          "title": {
           "x": 0.05
          },
          "xaxis": {
           "automargin": true,
           "gridcolor": "white",
           "linecolor": "white",
           "ticks": "",
           "title": {
            "standoff": 15
           },
           "zerolinecolor": "white",
           "zerolinewidth": 2
          },
          "yaxis": {
           "automargin": true,
           "gridcolor": "white",
           "linecolor": "white",
           "ticks": "",
           "title": {
            "standoff": 15
           },
           "zerolinecolor": "white",
           "zerolinewidth": 2
          }
         }
        }
       }
      },
      "text/html": [
       "<div>\n",
       "        \n",
       "        \n",
       "            <div id=\"068c397c-f2d2-4ad3-8954-4f98b981b278\" class=\"plotly-graph-div\" style=\"height:525px; width:100%;\"></div>\n",
       "            <script type=\"text/javascript\">\n",
       "                require([\"plotly\"], function(Plotly) {\n",
       "                    window.PLOTLYENV=window.PLOTLYENV || {};\n",
       "                    \n",
       "                if (document.getElementById(\"068c397c-f2d2-4ad3-8954-4f98b981b278\")) {\n",
       "                    Plotly.newPlot(\n",
       "                        '068c397c-f2d2-4ad3-8954-4f98b981b278',\n",
       "                        [{\"hovertemplate\": \"Height (cm)=%{x}<br>Smear=%{y}<br>Rx Swing (pcm)=%{z}<br>Pu Fraction=%{marker.color}<extra></extra>\", \"legendgroup\": \"\", \"marker\": {\"color\": [1.0, 0.75, 1.0, 0.875, 0.875, 0.75, 1.0, 0.555555, 0.75, 1.0, 0.555555, 0.75, 1.0, 0.25, 0.875, 0.4, 0.875, 0.4, 0.875, 0.1, 0.555555, 0.75, 1.0, 0.555555, 0.75, 1.0, 0.25, 0.555555, 0.75, 1.0, 0.25, 0.555555, 0.75, 1.0, 0.25], \"coloraxis\": \"coloraxis\", \"symbol\": \"circle\"}, \"mode\": \"markers\", \"name\": \"\", \"scene\": \"scene\", \"showlegend\": false, \"type\": \"scatter3d\", \"x\": [70.0, 80.0, 80.0, 65.0, 75.0, 60.0, 60.0, 70.0, 70.0, 70.0, 80.0, 80.0, 80.0, 80.0, 55.0, 65.0, 65.0, 75.0, 75.0, 75.0, 50.0, 50.0, 50.0, 60.0, 60.0, 60.0, 60.0, 70.0, 70.0, 70.0, 70.0, 80.0, 80.0, 80.0, 80.0], \"y\": [50.0, 50.0, 50.0, 55.0, 55.0, 60.0, 60.0, 60.0, 60.0, 60.0, 60.0, 60.0, 60.0, 60.0, 65.0, 65.0, 65.0, 65.0, 65.0, 65.0, 70.0, 70.0, 70.0, 70.0, 70.0, 70.0, 70.0, 70.0, 70.0, 70.0, 70.0, 70.0, 70.0, 70.0, 70.0], \"z\": [902.0305487734581, 763.1216015357402, 781.87223268903, 866.181315689739, 738.4226636239974, 851.6365715275583, 867.8283125786721, 703.0132815567816, 724.1942945156775, 739.3837138701537, 602.0777473703077, 614.3474481693219, 628.8522549615084, 573.31687731325, 857.8306788105779, 676.4864835468359, 719.1600528593492, 585.6918225519196, 601.8148214160676, 538.9329487140416, 850.273567552309, 876.3990113124241, 880.004422011664, 695.4981685540677, 703.0493866561735, 728.5458669189048, 662.3915191798575, 592.6000874692522, 598.3267333727388, 609.7643779606141, 557.3209972502796, 508.5092521656354, 533.085999680031, 532.0498486399061, 487.0165883533776]}],\n",
       "                        {\"coloraxis\": {\"colorbar\": {\"title\": {\"text\": \"Pu Fraction\"}}, \"colorscale\": [[0.0, \"#0d0887\"], [0.1111111111111111, \"#46039f\"], [0.2222222222222222, \"#7201a8\"], [0.3333333333333333, \"#9c179e\"], [0.4444444444444444, \"#bd3786\"], [0.5555555555555556, \"#d8576b\"], [0.6666666666666666, \"#ed7953\"], [0.7777777777777778, \"#fb9f3a\"], [0.8888888888888888, \"#fdca26\"], [1.0, \"#f0f921\"]]}, \"legend\": {\"tracegroupgap\": 0}, \"margin\": {\"t\": 60}, \"scene\": {\"domain\": {\"x\": [0.0, 1.0], \"y\": [0.0, 1.0]}, \"xaxis\": {\"title\": {\"text\": \"Height (cm)\"}}, \"yaxis\": {\"title\": {\"text\": \"Smear\"}}, \"zaxis\": {\"title\": {\"text\": \"Rx Swing (pcm)\"}}}, \"template\": {\"data\": {\"bar\": [{\"error_x\": {\"color\": \"#2a3f5f\"}, \"error_y\": {\"color\": \"#2a3f5f\"}, \"marker\": {\"line\": {\"color\": \"#E5ECF6\", \"width\": 0.5}}, \"type\": \"bar\"}], \"barpolar\": [{\"marker\": {\"line\": {\"color\": \"#E5ECF6\", \"width\": 0.5}}, \"type\": \"barpolar\"}], \"carpet\": [{\"aaxis\": {\"endlinecolor\": \"#2a3f5f\", \"gridcolor\": \"white\", \"linecolor\": \"white\", \"minorgridcolor\": \"white\", \"startlinecolor\": \"#2a3f5f\"}, \"baxis\": {\"endlinecolor\": \"#2a3f5f\", \"gridcolor\": \"white\", \"linecolor\": \"white\", \"minorgridcolor\": \"white\", \"startlinecolor\": \"#2a3f5f\"}, \"type\": \"carpet\"}], \"choropleth\": [{\"colorbar\": {\"outlinewidth\": 0, \"ticks\": \"\"}, \"type\": \"choropleth\"}], \"contour\": [{\"colorbar\": {\"outlinewidth\": 0, \"ticks\": \"\"}, \"colorscale\": [[0.0, \"#0d0887\"], [0.1111111111111111, \"#46039f\"], [0.2222222222222222, \"#7201a8\"], [0.3333333333333333, \"#9c179e\"], [0.4444444444444444, \"#bd3786\"], [0.5555555555555556, \"#d8576b\"], [0.6666666666666666, \"#ed7953\"], [0.7777777777777778, \"#fb9f3a\"], [0.8888888888888888, \"#fdca26\"], [1.0, \"#f0f921\"]], \"type\": \"contour\"}], \"contourcarpet\": [{\"colorbar\": {\"outlinewidth\": 0, \"ticks\": \"\"}, \"type\": \"contourcarpet\"}], \"heatmap\": [{\"colorbar\": {\"outlinewidth\": 0, \"ticks\": \"\"}, \"colorscale\": [[0.0, \"#0d0887\"], [0.1111111111111111, \"#46039f\"], [0.2222222222222222, \"#7201a8\"], [0.3333333333333333, \"#9c179e\"], [0.4444444444444444, \"#bd3786\"], [0.5555555555555556, \"#d8576b\"], [0.6666666666666666, \"#ed7953\"], [0.7777777777777778, \"#fb9f3a\"], [0.8888888888888888, \"#fdca26\"], [1.0, \"#f0f921\"]], \"type\": \"heatmap\"}], \"heatmapgl\": [{\"colorbar\": {\"outlinewidth\": 0, \"ticks\": \"\"}, \"colorscale\": [[0.0, \"#0d0887\"], [0.1111111111111111, \"#46039f\"], [0.2222222222222222, \"#7201a8\"], [0.3333333333333333, \"#9c179e\"], [0.4444444444444444, \"#bd3786\"], [0.5555555555555556, \"#d8576b\"], [0.6666666666666666, \"#ed7953\"], [0.7777777777777778, \"#fb9f3a\"], [0.8888888888888888, \"#fdca26\"], [1.0, \"#f0f921\"]], \"type\": \"heatmapgl\"}], \"histogram\": [{\"marker\": {\"colorbar\": {\"outlinewidth\": 0, \"ticks\": \"\"}}, \"type\": \"histogram\"}], \"histogram2d\": [{\"colorbar\": {\"outlinewidth\": 0, \"ticks\": \"\"}, \"colorscale\": [[0.0, \"#0d0887\"], [0.1111111111111111, \"#46039f\"], [0.2222222222222222, \"#7201a8\"], [0.3333333333333333, \"#9c179e\"], [0.4444444444444444, \"#bd3786\"], [0.5555555555555556, \"#d8576b\"], [0.6666666666666666, \"#ed7953\"], [0.7777777777777778, \"#fb9f3a\"], [0.8888888888888888, \"#fdca26\"], [1.0, \"#f0f921\"]], \"type\": \"histogram2d\"}], \"histogram2dcontour\": [{\"colorbar\": {\"outlinewidth\": 0, \"ticks\": \"\"}, \"colorscale\": [[0.0, \"#0d0887\"], [0.1111111111111111, \"#46039f\"], [0.2222222222222222, \"#7201a8\"], [0.3333333333333333, \"#9c179e\"], [0.4444444444444444, \"#bd3786\"], [0.5555555555555556, \"#d8576b\"], [0.6666666666666666, \"#ed7953\"], [0.7777777777777778, \"#fb9f3a\"], [0.8888888888888888, \"#fdca26\"], [1.0, \"#f0f921\"]], \"type\": \"histogram2dcontour\"}], \"mesh3d\": [{\"colorbar\": {\"outlinewidth\": 0, \"ticks\": \"\"}, \"type\": \"mesh3d\"}], \"parcoords\": [{\"line\": {\"colorbar\": {\"outlinewidth\": 0, \"ticks\": \"\"}}, \"type\": \"parcoords\"}], \"pie\": [{\"automargin\": true, \"type\": \"pie\"}], \"scatter\": [{\"marker\": {\"colorbar\": {\"outlinewidth\": 0, \"ticks\": \"\"}}, \"type\": \"scatter\"}], \"scatter3d\": [{\"line\": {\"colorbar\": {\"outlinewidth\": 0, \"ticks\": \"\"}}, \"marker\": {\"colorbar\": {\"outlinewidth\": 0, \"ticks\": \"\"}}, \"type\": \"scatter3d\"}], \"scattercarpet\": [{\"marker\": {\"colorbar\": {\"outlinewidth\": 0, \"ticks\": \"\"}}, \"type\": \"scattercarpet\"}], \"scattergeo\": [{\"marker\": {\"colorbar\": {\"outlinewidth\": 0, \"ticks\": \"\"}}, \"type\": \"scattergeo\"}], \"scattergl\": [{\"marker\": {\"colorbar\": {\"outlinewidth\": 0, \"ticks\": \"\"}}, \"type\": \"scattergl\"}], \"scattermapbox\": [{\"marker\": {\"colorbar\": {\"outlinewidth\": 0, \"ticks\": \"\"}}, \"type\": \"scattermapbox\"}], \"scatterpolar\": [{\"marker\": {\"colorbar\": {\"outlinewidth\": 0, \"ticks\": \"\"}}, \"type\": \"scatterpolar\"}], \"scatterpolargl\": [{\"marker\": {\"colorbar\": {\"outlinewidth\": 0, \"ticks\": \"\"}}, \"type\": \"scatterpolargl\"}], \"scatterternary\": [{\"marker\": {\"colorbar\": {\"outlinewidth\": 0, \"ticks\": \"\"}}, \"type\": \"scatterternary\"}], \"surface\": [{\"colorbar\": {\"outlinewidth\": 0, \"ticks\": \"\"}, \"colorscale\": [[0.0, \"#0d0887\"], [0.1111111111111111, \"#46039f\"], [0.2222222222222222, \"#7201a8\"], [0.3333333333333333, \"#9c179e\"], [0.4444444444444444, \"#bd3786\"], [0.5555555555555556, \"#d8576b\"], [0.6666666666666666, \"#ed7953\"], [0.7777777777777778, \"#fb9f3a\"], [0.8888888888888888, \"#fdca26\"], [1.0, \"#f0f921\"]], \"type\": \"surface\"}], \"table\": [{\"cells\": {\"fill\": {\"color\": \"#EBF0F8\"}, \"line\": {\"color\": \"white\"}}, \"header\": {\"fill\": {\"color\": \"#C8D4E3\"}, \"line\": {\"color\": \"white\"}}, \"type\": \"table\"}]}, \"layout\": {\"annotationdefaults\": {\"arrowcolor\": \"#2a3f5f\", \"arrowhead\": 0, \"arrowwidth\": 1}, \"coloraxis\": {\"colorbar\": {\"outlinewidth\": 0, \"ticks\": \"\"}}, \"colorscale\": {\"diverging\": [[0, \"#8e0152\"], [0.1, \"#c51b7d\"], [0.2, \"#de77ae\"], [0.3, \"#f1b6da\"], [0.4, \"#fde0ef\"], [0.5, \"#f7f7f7\"], [0.6, \"#e6f5d0\"], [0.7, \"#b8e186\"], [0.8, \"#7fbc41\"], [0.9, \"#4d9221\"], [1, \"#276419\"]], \"sequential\": [[0.0, \"#0d0887\"], [0.1111111111111111, \"#46039f\"], [0.2222222222222222, \"#7201a8\"], [0.3333333333333333, \"#9c179e\"], [0.4444444444444444, \"#bd3786\"], [0.5555555555555556, \"#d8576b\"], [0.6666666666666666, \"#ed7953\"], [0.7777777777777778, \"#fb9f3a\"], [0.8888888888888888, \"#fdca26\"], [1.0, \"#f0f921\"]], \"sequentialminus\": [[0.0, \"#0d0887\"], [0.1111111111111111, \"#46039f\"], [0.2222222222222222, \"#7201a8\"], [0.3333333333333333, \"#9c179e\"], [0.4444444444444444, \"#bd3786\"], [0.5555555555555556, \"#d8576b\"], [0.6666666666666666, \"#ed7953\"], [0.7777777777777778, \"#fb9f3a\"], [0.8888888888888888, \"#fdca26\"], [1.0, \"#f0f921\"]]}, \"colorway\": [\"#636efa\", \"#EF553B\", \"#00cc96\", \"#ab63fa\", \"#FFA15A\", \"#19d3f3\", \"#FF6692\", \"#B6E880\", \"#FF97FF\", \"#FECB52\"], \"font\": {\"color\": \"#2a3f5f\"}, \"geo\": {\"bgcolor\": \"white\", \"lakecolor\": \"white\", \"landcolor\": \"#E5ECF6\", \"showlakes\": true, \"showland\": true, \"subunitcolor\": \"white\"}, \"hoverlabel\": {\"align\": \"left\"}, \"hovermode\": \"closest\", \"mapbox\": {\"style\": \"light\"}, \"paper_bgcolor\": \"white\", \"plot_bgcolor\": \"#E5ECF6\", \"polar\": {\"angularaxis\": {\"gridcolor\": \"white\", \"linecolor\": \"white\", \"ticks\": \"\"}, \"bgcolor\": \"#E5ECF6\", \"radialaxis\": {\"gridcolor\": \"white\", \"linecolor\": \"white\", \"ticks\": \"\"}}, \"scene\": {\"xaxis\": {\"backgroundcolor\": \"#E5ECF6\", \"gridcolor\": \"white\", \"gridwidth\": 2, \"linecolor\": \"white\", \"showbackground\": true, \"ticks\": \"\", \"zerolinecolor\": \"white\"}, \"yaxis\": {\"backgroundcolor\": \"#E5ECF6\", \"gridcolor\": \"white\", \"gridwidth\": 2, \"linecolor\": \"white\", \"showbackground\": true, \"ticks\": \"\", \"zerolinecolor\": \"white\"}, \"zaxis\": {\"backgroundcolor\": \"#E5ECF6\", \"gridcolor\": \"white\", \"gridwidth\": 2, \"linecolor\": \"white\", \"showbackground\": true, \"ticks\": \"\", \"zerolinecolor\": \"white\"}}, \"shapedefaults\": {\"line\": {\"color\": \"#2a3f5f\"}}, \"ternary\": {\"aaxis\": {\"gridcolor\": \"white\", \"linecolor\": \"white\", \"ticks\": \"\"}, \"baxis\": {\"gridcolor\": \"white\", \"linecolor\": \"white\", \"ticks\": \"\"}, \"bgcolor\": \"#E5ECF6\", \"caxis\": {\"gridcolor\": \"white\", \"linecolor\": \"white\", \"ticks\": \"\"}}, \"title\": {\"x\": 0.05}, \"xaxis\": {\"automargin\": true, \"gridcolor\": \"white\", \"linecolor\": \"white\", \"ticks\": \"\", \"title\": {\"standoff\": 15}, \"zerolinecolor\": \"white\", \"zerolinewidth\": 2}, \"yaxis\": {\"automargin\": true, \"gridcolor\": \"white\", \"linecolor\": \"white\", \"ticks\": \"\", \"title\": {\"standoff\": 15}, \"zerolinecolor\": \"white\", \"zerolinewidth\": 2}}}},\n",
       "                        {\"responsive\": true}\n",
       "                    ).then(function(){\n",
       "                            \n",
       "var gd = document.getElementById('068c397c-f2d2-4ad3-8954-4f98b981b278');\n",
       "var x = new MutationObserver(function (mutations, observer) {{\n",
       "        var display = window.getComputedStyle(gd).display;\n",
       "        if (!display || display === 'none') {{\n",
       "            console.log([gd, 'removed!']);\n",
       "            Plotly.purge(gd);\n",
       "            observer.disconnect();\n",
       "        }}\n",
       "}});\n",
       "\n",
       "// Listen for the removal of the full notebook cells\n",
       "var notebookContainer = gd.closest('#notebook-container');\n",
       "if (notebookContainer) {{\n",
       "    x.observe(notebookContainer, {childList: true});\n",
       "}}\n",
       "\n",
       "// Listen for the clearing of the current output cell\n",
       "var outputEl = gd.closest('.output');\n",
       "if (outputEl) {{\n",
       "    x.observe(outputEl, {childList: true});\n",
       "}}\n",
       "\n",
       "                        })\n",
       "                };\n",
       "                });\n",
       "            </script>\n",
       "        </div>"
      ]
     },
     "metadata": {},
     "output_type": "display_data"
    },
    {
     "data": {
      "application/vnd.plotly.v1+json": {
       "config": {
        "plotlyServerURL": "https://plot.ly"
       },
       "data": [
        {
         "hovertemplate": "Height (cm)=%{x}<br>Smear=%{y}<br>Burnup (GWd/MTU)=%{z}<br>Pu Fraction=%{marker.color}<extra></extra>",
         "legendgroup": "",
         "marker": {
          "color": [
           1,
           0.75,
           1,
           0.875,
           0.875,
           0.75,
           1,
           0.555555,
           0.75,
           1,
           0.555555,
           0.75,
           1,
           0.25,
           0.875,
           0.4,
           0.875,
           0.4,
           0.875,
           0.1,
           0.555555,
           0.75,
           1,
           0.555555,
           0.75,
           1,
           0.25,
           0.555555,
           0.75,
           1,
           0.25,
           0.555555,
           0.75,
           1,
           0.25
          ],
          "coloraxis": "coloraxis",
          "symbol": "circle"
         },
         "mode": "markers",
         "name": "",
         "scene": "scene",
         "showlegend": false,
         "type": "scatter3d",
         "x": [
          70,
          80,
          80,
          65,
          75,
          60,
          60,
          70,
          70,
          70,
          80,
          80,
          80,
          80,
          55,
          65,
          65,
          75,
          75,
          75,
          50,
          50,
          50,
          60,
          60,
          60,
          60,
          70,
          70,
          70,
          70,
          80,
          80,
          80,
          80
         ],
         "y": [
          50,
          50,
          50,
          55,
          55,
          60,
          60,
          60,
          60,
          60,
          60,
          60,
          60,
          60,
          65,
          65,
          65,
          65,
          65,
          65,
          70,
          70,
          70,
          70,
          70,
          70,
          70,
          70,
          70,
          70,
          70,
          70,
          70,
          70,
          70
         ],
         "z": [
          5.284147967569695,
          4.653187198059925,
          4.6236020170485155,
          5.189265761832412,
          4.497347325052933,
          5.170224818530157,
          5.137271880065679,
          4.4533172450787335,
          4.431423691331182,
          4.403607980302854,
          3.8967219111785925,
          3.877502923325075,
          3.852855006876358,
          3.926944211308433,
          5.1894500659860165,
          4.444191368904029,
          4.390967349627917,
          3.8515060255060254,
          3.8055909944327033,
          3.881514954101272,
          5.343920413693035,
          5.317956541691523,
          5.283992833854184,
          4.453225609486206,
          4.431567120111338,
          4.403336578662834,
          4.4879394666314685,
          3.8171462893900676,
          3.7985819129020593,
          3.774510883863113,
          3.8469834749967644,
          3.340093196216754,
          3.3234590771887187,
          3.3029335045473656,
          3.3657634403573167
         ]
        }
       ],
       "layout": {
        "coloraxis": {
         "colorbar": {
          "title": {
           "text": "Pu Fraction"
          }
         },
         "colorscale": [
          [
           0,
           "#0d0887"
          ],
          [
           0.1111111111111111,
           "#46039f"
          ],
          [
           0.2222222222222222,
           "#7201a8"
          ],
          [
           0.3333333333333333,
           "#9c179e"
          ],
          [
           0.4444444444444444,
           "#bd3786"
          ],
          [
           0.5555555555555556,
           "#d8576b"
          ],
          [
           0.6666666666666666,
           "#ed7953"
          ],
          [
           0.7777777777777778,
           "#fb9f3a"
          ],
          [
           0.8888888888888888,
           "#fdca26"
          ],
          [
           1,
           "#f0f921"
          ]
         ]
        },
        "legend": {
         "tracegroupgap": 0
        },
        "margin": {
         "t": 60
        },
        "scene": {
         "domain": {
          "x": [
           0,
           1
          ],
          "y": [
           0,
           1
          ]
         },
         "xaxis": {
          "title": {
           "text": "Height (cm)"
          }
         },
         "yaxis": {
          "title": {
           "text": "Smear"
          }
         },
         "zaxis": {
          "title": {
           "text": "Burnup (GWd/MTU)"
          }
         }
        },
        "template": {
         "data": {
          "bar": [
           {
            "error_x": {
             "color": "#2a3f5f"
            },
            "error_y": {
             "color": "#2a3f5f"
            },
            "marker": {
             "line": {
              "color": "#E5ECF6",
              "width": 0.5
             }
            },
            "type": "bar"
           }
          ],
          "barpolar": [
           {
            "marker": {
             "line": {
              "color": "#E5ECF6",
              "width": 0.5
             }
            },
            "type": "barpolar"
           }
          ],
          "carpet": [
           {
            "aaxis": {
             "endlinecolor": "#2a3f5f",
             "gridcolor": "white",
             "linecolor": "white",
             "minorgridcolor": "white",
             "startlinecolor": "#2a3f5f"
            },
            "baxis": {
             "endlinecolor": "#2a3f5f",
             "gridcolor": "white",
             "linecolor": "white",
             "minorgridcolor": "white",
             "startlinecolor": "#2a3f5f"
            },
            "type": "carpet"
           }
          ],
          "choropleth": [
           {
            "colorbar": {
             "outlinewidth": 0,
             "ticks": ""
            },
            "type": "choropleth"
           }
          ],
          "contour": [
           {
            "colorbar": {
             "outlinewidth": 0,
             "ticks": ""
            },
            "colorscale": [
             [
              0,
              "#0d0887"
             ],
             [
              0.1111111111111111,
              "#46039f"
             ],
             [
              0.2222222222222222,
              "#7201a8"
             ],
             [
              0.3333333333333333,
              "#9c179e"
             ],
             [
              0.4444444444444444,
              "#bd3786"
             ],
             [
              0.5555555555555556,
              "#d8576b"
             ],
             [
              0.6666666666666666,
              "#ed7953"
             ],
             [
              0.7777777777777778,
              "#fb9f3a"
             ],
             [
              0.8888888888888888,
              "#fdca26"
             ],
             [
              1,
              "#f0f921"
             ]
            ],
            "type": "contour"
           }
          ],
          "contourcarpet": [
           {
            "colorbar": {
             "outlinewidth": 0,
             "ticks": ""
            },
            "type": "contourcarpet"
           }
          ],
          "heatmap": [
           {
            "colorbar": {
             "outlinewidth": 0,
             "ticks": ""
            },
            "colorscale": [
             [
              0,
              "#0d0887"
             ],
             [
              0.1111111111111111,
              "#46039f"
             ],
             [
              0.2222222222222222,
              "#7201a8"
             ],
             [
              0.3333333333333333,
              "#9c179e"
             ],
             [
              0.4444444444444444,
              "#bd3786"
             ],
             [
              0.5555555555555556,
              "#d8576b"
             ],
             [
              0.6666666666666666,
              "#ed7953"
             ],
             [
              0.7777777777777778,
              "#fb9f3a"
             ],
             [
              0.8888888888888888,
              "#fdca26"
             ],
             [
              1,
              "#f0f921"
             ]
            ],
            "type": "heatmap"
           }
          ],
          "heatmapgl": [
           {
            "colorbar": {
             "outlinewidth": 0,
             "ticks": ""
            },
            "colorscale": [
             [
              0,
              "#0d0887"
             ],
             [
              0.1111111111111111,
              "#46039f"
             ],
             [
              0.2222222222222222,
              "#7201a8"
             ],
             [
              0.3333333333333333,
              "#9c179e"
             ],
             [
              0.4444444444444444,
              "#bd3786"
             ],
             [
              0.5555555555555556,
              "#d8576b"
             ],
             [
              0.6666666666666666,
              "#ed7953"
             ],
             [
              0.7777777777777778,
              "#fb9f3a"
             ],
             [
              0.8888888888888888,
              "#fdca26"
             ],
             [
              1,
              "#f0f921"
             ]
            ],
            "type": "heatmapgl"
           }
          ],
          "histogram": [
           {
            "marker": {
             "colorbar": {
              "outlinewidth": 0,
              "ticks": ""
             }
            },
            "type": "histogram"
           }
          ],
          "histogram2d": [
           {
            "colorbar": {
             "outlinewidth": 0,
             "ticks": ""
            },
            "colorscale": [
             [
              0,
              "#0d0887"
             ],
             [
              0.1111111111111111,
              "#46039f"
             ],
             [
              0.2222222222222222,
              "#7201a8"
             ],
             [
              0.3333333333333333,
              "#9c179e"
             ],
             [
              0.4444444444444444,
              "#bd3786"
             ],
             [
              0.5555555555555556,
              "#d8576b"
             ],
             [
              0.6666666666666666,
              "#ed7953"
             ],
             [
              0.7777777777777778,
              "#fb9f3a"
             ],
             [
              0.8888888888888888,
              "#fdca26"
             ],
             [
              1,
              "#f0f921"
             ]
            ],
            "type": "histogram2d"
           }
          ],
          "histogram2dcontour": [
           {
            "colorbar": {
             "outlinewidth": 0,
             "ticks": ""
            },
            "colorscale": [
             [
              0,
              "#0d0887"
             ],
             [
              0.1111111111111111,
              "#46039f"
             ],
             [
              0.2222222222222222,
              "#7201a8"
             ],
             [
              0.3333333333333333,
              "#9c179e"
             ],
             [
              0.4444444444444444,
              "#bd3786"
             ],
             [
              0.5555555555555556,
              "#d8576b"
             ],
             [
              0.6666666666666666,
              "#ed7953"
             ],
             [
              0.7777777777777778,
              "#fb9f3a"
             ],
             [
              0.8888888888888888,
              "#fdca26"
             ],
             [
              1,
              "#f0f921"
             ]
            ],
            "type": "histogram2dcontour"
           }
          ],
          "mesh3d": [
           {
            "colorbar": {
             "outlinewidth": 0,
             "ticks": ""
            },
            "type": "mesh3d"
           }
          ],
          "parcoords": [
           {
            "line": {
             "colorbar": {
              "outlinewidth": 0,
              "ticks": ""
             }
            },
            "type": "parcoords"
           }
          ],
          "pie": [
           {
            "automargin": true,
            "type": "pie"
           }
          ],
          "scatter": [
           {
            "marker": {
             "colorbar": {
              "outlinewidth": 0,
              "ticks": ""
             }
            },
            "type": "scatter"
           }
          ],
          "scatter3d": [
           {
            "line": {
             "colorbar": {
              "outlinewidth": 0,
              "ticks": ""
             }
            },
            "marker": {
             "colorbar": {
              "outlinewidth": 0,
              "ticks": ""
             }
            },
            "type": "scatter3d"
           }
          ],
          "scattercarpet": [
           {
            "marker": {
             "colorbar": {
              "outlinewidth": 0,
              "ticks": ""
             }
            },
            "type": "scattercarpet"
           }
          ],
          "scattergeo": [
           {
            "marker": {
             "colorbar": {
              "outlinewidth": 0,
              "ticks": ""
             }
            },
            "type": "scattergeo"
           }
          ],
          "scattergl": [
           {
            "marker": {
             "colorbar": {
              "outlinewidth": 0,
              "ticks": ""
             }
            },
            "type": "scattergl"
           }
          ],
          "scattermapbox": [
           {
            "marker": {
             "colorbar": {
              "outlinewidth": 0,
              "ticks": ""
             }
            },
            "type": "scattermapbox"
           }
          ],
          "scatterpolar": [
           {
            "marker": {
             "colorbar": {
              "outlinewidth": 0,
              "ticks": ""
             }
            },
            "type": "scatterpolar"
           }
          ],
          "scatterpolargl": [
           {
            "marker": {
             "colorbar": {
              "outlinewidth": 0,
              "ticks": ""
             }
            },
            "type": "scatterpolargl"
           }
          ],
          "scatterternary": [
           {
            "marker": {
             "colorbar": {
              "outlinewidth": 0,
              "ticks": ""
             }
            },
            "type": "scatterternary"
           }
          ],
          "surface": [
           {
            "colorbar": {
             "outlinewidth": 0,
             "ticks": ""
            },
            "colorscale": [
             [
              0,
              "#0d0887"
             ],
             [
              0.1111111111111111,
              "#46039f"
             ],
             [
              0.2222222222222222,
              "#7201a8"
             ],
             [
              0.3333333333333333,
              "#9c179e"
             ],
             [
              0.4444444444444444,
              "#bd3786"
             ],
             [
              0.5555555555555556,
              "#d8576b"
             ],
             [
              0.6666666666666666,
              "#ed7953"
             ],
             [
              0.7777777777777778,
              "#fb9f3a"
             ],
             [
              0.8888888888888888,
              "#fdca26"
             ],
             [
              1,
              "#f0f921"
             ]
            ],
            "type": "surface"
           }
          ],
          "table": [
           {
            "cells": {
             "fill": {
              "color": "#EBF0F8"
             },
             "line": {
              "color": "white"
             }
            },
            "header": {
             "fill": {
              "color": "#C8D4E3"
             },
             "line": {
              "color": "white"
             }
            },
            "type": "table"
           }
          ]
         },
         "layout": {
          "annotationdefaults": {
           "arrowcolor": "#2a3f5f",
           "arrowhead": 0,
           "arrowwidth": 1
          },
          "coloraxis": {
           "colorbar": {
            "outlinewidth": 0,
            "ticks": ""
           }
          },
          "colorscale": {
           "diverging": [
            [
             0,
             "#8e0152"
            ],
            [
             0.1,
             "#c51b7d"
            ],
            [
             0.2,
             "#de77ae"
            ],
            [
             0.3,
             "#f1b6da"
            ],
            [
             0.4,
             "#fde0ef"
            ],
            [
             0.5,
             "#f7f7f7"
            ],
            [
             0.6,
             "#e6f5d0"
            ],
            [
             0.7,
             "#b8e186"
            ],
            [
             0.8,
             "#7fbc41"
            ],
            [
             0.9,
             "#4d9221"
            ],
            [
             1,
             "#276419"
            ]
           ],
           "sequential": [
            [
             0,
             "#0d0887"
            ],
            [
             0.1111111111111111,
             "#46039f"
            ],
            [
             0.2222222222222222,
             "#7201a8"
            ],
            [
             0.3333333333333333,
             "#9c179e"
            ],
            [
             0.4444444444444444,
             "#bd3786"
            ],
            [
             0.5555555555555556,
             "#d8576b"
            ],
            [
             0.6666666666666666,
             "#ed7953"
            ],
            [
             0.7777777777777778,
             "#fb9f3a"
            ],
            [
             0.8888888888888888,
             "#fdca26"
            ],
            [
             1,
             "#f0f921"
            ]
           ],
           "sequentialminus": [
            [
             0,
             "#0d0887"
            ],
            [
             0.1111111111111111,
             "#46039f"
            ],
            [
             0.2222222222222222,
             "#7201a8"
            ],
            [
             0.3333333333333333,
             "#9c179e"
            ],
            [
             0.4444444444444444,
             "#bd3786"
            ],
            [
             0.5555555555555556,
             "#d8576b"
            ],
            [
             0.6666666666666666,
             "#ed7953"
            ],
            [
             0.7777777777777778,
             "#fb9f3a"
            ],
            [
             0.8888888888888888,
             "#fdca26"
            ],
            [
             1,
             "#f0f921"
            ]
           ]
          },
          "colorway": [
           "#636efa",
           "#EF553B",
           "#00cc96",
           "#ab63fa",
           "#FFA15A",
           "#19d3f3",
           "#FF6692",
           "#B6E880",
           "#FF97FF",
           "#FECB52"
          ],
          "font": {
           "color": "#2a3f5f"
          },
          "geo": {
           "bgcolor": "white",
           "lakecolor": "white",
           "landcolor": "#E5ECF6",
           "showlakes": true,
           "showland": true,
           "subunitcolor": "white"
          },
          "hoverlabel": {
           "align": "left"
          },
          "hovermode": "closest",
          "mapbox": {
           "style": "light"
          },
          "paper_bgcolor": "white",
          "plot_bgcolor": "#E5ECF6",
          "polar": {
           "angularaxis": {
            "gridcolor": "white",
            "linecolor": "white",
            "ticks": ""
           },
           "bgcolor": "#E5ECF6",
           "radialaxis": {
            "gridcolor": "white",
            "linecolor": "white",
            "ticks": ""
           }
          },
          "scene": {
           "xaxis": {
            "backgroundcolor": "#E5ECF6",
            "gridcolor": "white",
            "gridwidth": 2,
            "linecolor": "white",
            "showbackground": true,
            "ticks": "",
            "zerolinecolor": "white"
           },
           "yaxis": {
            "backgroundcolor": "#E5ECF6",
            "gridcolor": "white",
            "gridwidth": 2,
            "linecolor": "white",
            "showbackground": true,
            "ticks": "",
            "zerolinecolor": "white"
           },
           "zaxis": {
            "backgroundcolor": "#E5ECF6",
            "gridcolor": "white",
            "gridwidth": 2,
            "linecolor": "white",
            "showbackground": true,
            "ticks": "",
            "zerolinecolor": "white"
           }
          },
          "shapedefaults": {
           "line": {
            "color": "#2a3f5f"
           }
          },
          "ternary": {
           "aaxis": {
            "gridcolor": "white",
            "linecolor": "white",
            "ticks": ""
           },
           "baxis": {
            "gridcolor": "white",
            "linecolor": "white",
            "ticks": ""
           },
           "bgcolor": "#E5ECF6",
           "caxis": {
            "gridcolor": "white",
            "linecolor": "white",
            "ticks": ""
           }
          },
          "title": {
           "x": 0.05
          },
          "xaxis": {
           "automargin": true,
           "gridcolor": "white",
           "linecolor": "white",
           "ticks": "",
           "title": {
            "standoff": 15
           },
           "zerolinecolor": "white",
           "zerolinewidth": 2
          },
          "yaxis": {
           "automargin": true,
           "gridcolor": "white",
           "linecolor": "white",
           "ticks": "",
           "title": {
            "standoff": 15
           },
           "zerolinecolor": "white",
           "zerolinewidth": 2
          }
         }
        }
       }
      },
      "text/html": [
       "<div>\n",
       "        \n",
       "        \n",
       "            <div id=\"6ca706bb-e7c4-4402-b63d-378f7bc3805c\" class=\"plotly-graph-div\" style=\"height:525px; width:100%;\"></div>\n",
       "            <script type=\"text/javascript\">\n",
       "                require([\"plotly\"], function(Plotly) {\n",
       "                    window.PLOTLYENV=window.PLOTLYENV || {};\n",
       "                    \n",
       "                if (document.getElementById(\"6ca706bb-e7c4-4402-b63d-378f7bc3805c\")) {\n",
       "                    Plotly.newPlot(\n",
       "                        '6ca706bb-e7c4-4402-b63d-378f7bc3805c',\n",
       "                        [{\"hovertemplate\": \"Height (cm)=%{x}<br>Smear=%{y}<br>Burnup (GWd/MTU)=%{z}<br>Pu Fraction=%{marker.color}<extra></extra>\", \"legendgroup\": \"\", \"marker\": {\"color\": [1.0, 0.75, 1.0, 0.875, 0.875, 0.75, 1.0, 0.555555, 0.75, 1.0, 0.555555, 0.75, 1.0, 0.25, 0.875, 0.4, 0.875, 0.4, 0.875, 0.1, 0.555555, 0.75, 1.0, 0.555555, 0.75, 1.0, 0.25, 0.555555, 0.75, 1.0, 0.25, 0.555555, 0.75, 1.0, 0.25], \"coloraxis\": \"coloraxis\", \"symbol\": \"circle\"}, \"mode\": \"markers\", \"name\": \"\", \"scene\": \"scene\", \"showlegend\": false, \"type\": \"scatter3d\", \"x\": [70.0, 80.0, 80.0, 65.0, 75.0, 60.0, 60.0, 70.0, 70.0, 70.0, 80.0, 80.0, 80.0, 80.0, 55.0, 65.0, 65.0, 75.0, 75.0, 75.0, 50.0, 50.0, 50.0, 60.0, 60.0, 60.0, 60.0, 70.0, 70.0, 70.0, 70.0, 80.0, 80.0, 80.0, 80.0], \"y\": [50.0, 50.0, 50.0, 55.0, 55.0, 60.0, 60.0, 60.0, 60.0, 60.0, 60.0, 60.0, 60.0, 60.0, 65.0, 65.0, 65.0, 65.0, 65.0, 65.0, 70.0, 70.0, 70.0, 70.0, 70.0, 70.0, 70.0, 70.0, 70.0, 70.0, 70.0, 70.0, 70.0, 70.0, 70.0], \"z\": [5.284147967569695, 4.653187198059925, 4.6236020170485155, 5.189265761832412, 4.497347325052933, 5.170224818530157, 5.137271880065679, 4.4533172450787335, 4.431423691331182, 4.403607980302854, 3.8967219111785925, 3.877502923325075, 3.852855006876358, 3.926944211308433, 5.1894500659860165, 4.444191368904029, 4.390967349627917, 3.8515060255060254, 3.8055909944327033, 3.881514954101272, 5.343920413693035, 5.317956541691523, 5.283992833854184, 4.453225609486206, 4.431567120111338, 4.403336578662834, 4.4879394666314685, 3.8171462893900676, 3.7985819129020593, 3.774510883863113, 3.8469834749967644, 3.340093196216754, 3.3234590771887187, 3.3029335045473656, 3.3657634403573167]}],\n",
       "                        {\"coloraxis\": {\"colorbar\": {\"title\": {\"text\": \"Pu Fraction\"}}, \"colorscale\": [[0.0, \"#0d0887\"], [0.1111111111111111, \"#46039f\"], [0.2222222222222222, \"#7201a8\"], [0.3333333333333333, \"#9c179e\"], [0.4444444444444444, \"#bd3786\"], [0.5555555555555556, \"#d8576b\"], [0.6666666666666666, \"#ed7953\"], [0.7777777777777778, \"#fb9f3a\"], [0.8888888888888888, \"#fdca26\"], [1.0, \"#f0f921\"]]}, \"legend\": {\"tracegroupgap\": 0}, \"margin\": {\"t\": 60}, \"scene\": {\"domain\": {\"x\": [0.0, 1.0], \"y\": [0.0, 1.0]}, \"xaxis\": {\"title\": {\"text\": \"Height (cm)\"}}, \"yaxis\": {\"title\": {\"text\": \"Smear\"}}, \"zaxis\": {\"title\": {\"text\": \"Burnup (GWd/MTU)\"}}}, \"template\": {\"data\": {\"bar\": [{\"error_x\": {\"color\": \"#2a3f5f\"}, \"error_y\": {\"color\": \"#2a3f5f\"}, \"marker\": {\"line\": {\"color\": \"#E5ECF6\", \"width\": 0.5}}, \"type\": \"bar\"}], \"barpolar\": [{\"marker\": {\"line\": {\"color\": \"#E5ECF6\", \"width\": 0.5}}, \"type\": \"barpolar\"}], \"carpet\": [{\"aaxis\": {\"endlinecolor\": \"#2a3f5f\", \"gridcolor\": \"white\", \"linecolor\": \"white\", \"minorgridcolor\": \"white\", \"startlinecolor\": \"#2a3f5f\"}, \"baxis\": {\"endlinecolor\": \"#2a3f5f\", \"gridcolor\": \"white\", \"linecolor\": \"white\", \"minorgridcolor\": \"white\", \"startlinecolor\": \"#2a3f5f\"}, \"type\": \"carpet\"}], \"choropleth\": [{\"colorbar\": {\"outlinewidth\": 0, \"ticks\": \"\"}, \"type\": \"choropleth\"}], \"contour\": [{\"colorbar\": {\"outlinewidth\": 0, \"ticks\": \"\"}, \"colorscale\": [[0.0, \"#0d0887\"], [0.1111111111111111, \"#46039f\"], [0.2222222222222222, \"#7201a8\"], [0.3333333333333333, \"#9c179e\"], [0.4444444444444444, \"#bd3786\"], [0.5555555555555556, \"#d8576b\"], [0.6666666666666666, \"#ed7953\"], [0.7777777777777778, \"#fb9f3a\"], [0.8888888888888888, \"#fdca26\"], [1.0, \"#f0f921\"]], \"type\": \"contour\"}], \"contourcarpet\": [{\"colorbar\": {\"outlinewidth\": 0, \"ticks\": \"\"}, \"type\": \"contourcarpet\"}], \"heatmap\": [{\"colorbar\": {\"outlinewidth\": 0, \"ticks\": \"\"}, \"colorscale\": [[0.0, \"#0d0887\"], [0.1111111111111111, \"#46039f\"], [0.2222222222222222, \"#7201a8\"], [0.3333333333333333, \"#9c179e\"], [0.4444444444444444, \"#bd3786\"], [0.5555555555555556, \"#d8576b\"], [0.6666666666666666, \"#ed7953\"], [0.7777777777777778, \"#fb9f3a\"], [0.8888888888888888, \"#fdca26\"], [1.0, \"#f0f921\"]], \"type\": \"heatmap\"}], \"heatmapgl\": [{\"colorbar\": {\"outlinewidth\": 0, \"ticks\": \"\"}, \"colorscale\": [[0.0, \"#0d0887\"], [0.1111111111111111, \"#46039f\"], [0.2222222222222222, \"#7201a8\"], [0.3333333333333333, \"#9c179e\"], [0.4444444444444444, \"#bd3786\"], [0.5555555555555556, \"#d8576b\"], [0.6666666666666666, \"#ed7953\"], [0.7777777777777778, \"#fb9f3a\"], [0.8888888888888888, \"#fdca26\"], [1.0, \"#f0f921\"]], \"type\": \"heatmapgl\"}], \"histogram\": [{\"marker\": {\"colorbar\": {\"outlinewidth\": 0, \"ticks\": \"\"}}, \"type\": \"histogram\"}], \"histogram2d\": [{\"colorbar\": {\"outlinewidth\": 0, \"ticks\": \"\"}, \"colorscale\": [[0.0, \"#0d0887\"], [0.1111111111111111, \"#46039f\"], [0.2222222222222222, \"#7201a8\"], [0.3333333333333333, \"#9c179e\"], [0.4444444444444444, \"#bd3786\"], [0.5555555555555556, \"#d8576b\"], [0.6666666666666666, \"#ed7953\"], [0.7777777777777778, \"#fb9f3a\"], [0.8888888888888888, \"#fdca26\"], [1.0, \"#f0f921\"]], \"type\": \"histogram2d\"}], \"histogram2dcontour\": [{\"colorbar\": {\"outlinewidth\": 0, \"ticks\": \"\"}, \"colorscale\": [[0.0, \"#0d0887\"], [0.1111111111111111, \"#46039f\"], [0.2222222222222222, \"#7201a8\"], [0.3333333333333333, \"#9c179e\"], [0.4444444444444444, \"#bd3786\"], [0.5555555555555556, \"#d8576b\"], [0.6666666666666666, \"#ed7953\"], [0.7777777777777778, \"#fb9f3a\"], [0.8888888888888888, \"#fdca26\"], [1.0, \"#f0f921\"]], \"type\": \"histogram2dcontour\"}], \"mesh3d\": [{\"colorbar\": {\"outlinewidth\": 0, \"ticks\": \"\"}, \"type\": \"mesh3d\"}], \"parcoords\": [{\"line\": {\"colorbar\": {\"outlinewidth\": 0, \"ticks\": \"\"}}, \"type\": \"parcoords\"}], \"pie\": [{\"automargin\": true, \"type\": \"pie\"}], \"scatter\": [{\"marker\": {\"colorbar\": {\"outlinewidth\": 0, \"ticks\": \"\"}}, \"type\": \"scatter\"}], \"scatter3d\": [{\"line\": {\"colorbar\": {\"outlinewidth\": 0, \"ticks\": \"\"}}, \"marker\": {\"colorbar\": {\"outlinewidth\": 0, \"ticks\": \"\"}}, \"type\": \"scatter3d\"}], \"scattercarpet\": [{\"marker\": {\"colorbar\": {\"outlinewidth\": 0, \"ticks\": \"\"}}, \"type\": \"scattercarpet\"}], \"scattergeo\": [{\"marker\": {\"colorbar\": {\"outlinewidth\": 0, \"ticks\": \"\"}}, \"type\": \"scattergeo\"}], \"scattergl\": [{\"marker\": {\"colorbar\": {\"outlinewidth\": 0, \"ticks\": \"\"}}, \"type\": \"scattergl\"}], \"scattermapbox\": [{\"marker\": {\"colorbar\": {\"outlinewidth\": 0, \"ticks\": \"\"}}, \"type\": \"scattermapbox\"}], \"scatterpolar\": [{\"marker\": {\"colorbar\": {\"outlinewidth\": 0, \"ticks\": \"\"}}, \"type\": \"scatterpolar\"}], \"scatterpolargl\": [{\"marker\": {\"colorbar\": {\"outlinewidth\": 0, \"ticks\": \"\"}}, \"type\": \"scatterpolargl\"}], \"scatterternary\": [{\"marker\": {\"colorbar\": {\"outlinewidth\": 0, \"ticks\": \"\"}}, \"type\": \"scatterternary\"}], \"surface\": [{\"colorbar\": {\"outlinewidth\": 0, \"ticks\": \"\"}, \"colorscale\": [[0.0, \"#0d0887\"], [0.1111111111111111, \"#46039f\"], [0.2222222222222222, \"#7201a8\"], [0.3333333333333333, \"#9c179e\"], [0.4444444444444444, \"#bd3786\"], [0.5555555555555556, \"#d8576b\"], [0.6666666666666666, \"#ed7953\"], [0.7777777777777778, \"#fb9f3a\"], [0.8888888888888888, \"#fdca26\"], [1.0, \"#f0f921\"]], \"type\": \"surface\"}], \"table\": [{\"cells\": {\"fill\": {\"color\": \"#EBF0F8\"}, \"line\": {\"color\": \"white\"}}, \"header\": {\"fill\": {\"color\": \"#C8D4E3\"}, \"line\": {\"color\": \"white\"}}, \"type\": \"table\"}]}, \"layout\": {\"annotationdefaults\": {\"arrowcolor\": \"#2a3f5f\", \"arrowhead\": 0, \"arrowwidth\": 1}, \"coloraxis\": {\"colorbar\": {\"outlinewidth\": 0, \"ticks\": \"\"}}, \"colorscale\": {\"diverging\": [[0, \"#8e0152\"], [0.1, \"#c51b7d\"], [0.2, \"#de77ae\"], [0.3, \"#f1b6da\"], [0.4, \"#fde0ef\"], [0.5, \"#f7f7f7\"], [0.6, \"#e6f5d0\"], [0.7, \"#b8e186\"], [0.8, \"#7fbc41\"], [0.9, \"#4d9221\"], [1, \"#276419\"]], \"sequential\": [[0.0, \"#0d0887\"], [0.1111111111111111, \"#46039f\"], [0.2222222222222222, \"#7201a8\"], [0.3333333333333333, \"#9c179e\"], [0.4444444444444444, \"#bd3786\"], [0.5555555555555556, \"#d8576b\"], [0.6666666666666666, \"#ed7953\"], [0.7777777777777778, \"#fb9f3a\"], [0.8888888888888888, \"#fdca26\"], [1.0, \"#f0f921\"]], \"sequentialminus\": [[0.0, \"#0d0887\"], [0.1111111111111111, \"#46039f\"], [0.2222222222222222, \"#7201a8\"], [0.3333333333333333, \"#9c179e\"], [0.4444444444444444, \"#bd3786\"], [0.5555555555555556, \"#d8576b\"], [0.6666666666666666, \"#ed7953\"], [0.7777777777777778, \"#fb9f3a\"], [0.8888888888888888, \"#fdca26\"], [1.0, \"#f0f921\"]]}, \"colorway\": [\"#636efa\", \"#EF553B\", \"#00cc96\", \"#ab63fa\", \"#FFA15A\", \"#19d3f3\", \"#FF6692\", \"#B6E880\", \"#FF97FF\", \"#FECB52\"], \"font\": {\"color\": \"#2a3f5f\"}, \"geo\": {\"bgcolor\": \"white\", \"lakecolor\": \"white\", \"landcolor\": \"#E5ECF6\", \"showlakes\": true, \"showland\": true, \"subunitcolor\": \"white\"}, \"hoverlabel\": {\"align\": \"left\"}, \"hovermode\": \"closest\", \"mapbox\": {\"style\": \"light\"}, \"paper_bgcolor\": \"white\", \"plot_bgcolor\": \"#E5ECF6\", \"polar\": {\"angularaxis\": {\"gridcolor\": \"white\", \"linecolor\": \"white\", \"ticks\": \"\"}, \"bgcolor\": \"#E5ECF6\", \"radialaxis\": {\"gridcolor\": \"white\", \"linecolor\": \"white\", \"ticks\": \"\"}}, \"scene\": {\"xaxis\": {\"backgroundcolor\": \"#E5ECF6\", \"gridcolor\": \"white\", \"gridwidth\": 2, \"linecolor\": \"white\", \"showbackground\": true, \"ticks\": \"\", \"zerolinecolor\": \"white\"}, \"yaxis\": {\"backgroundcolor\": \"#E5ECF6\", \"gridcolor\": \"white\", \"gridwidth\": 2, \"linecolor\": \"white\", \"showbackground\": true, \"ticks\": \"\", \"zerolinecolor\": \"white\"}, \"zaxis\": {\"backgroundcolor\": \"#E5ECF6\", \"gridcolor\": \"white\", \"gridwidth\": 2, \"linecolor\": \"white\", \"showbackground\": true, \"ticks\": \"\", \"zerolinecolor\": \"white\"}}, \"shapedefaults\": {\"line\": {\"color\": \"#2a3f5f\"}}, \"ternary\": {\"aaxis\": {\"gridcolor\": \"white\", \"linecolor\": \"white\", \"ticks\": \"\"}, \"baxis\": {\"gridcolor\": \"white\", \"linecolor\": \"white\", \"ticks\": \"\"}, \"bgcolor\": \"#E5ECF6\", \"caxis\": {\"gridcolor\": \"white\", \"linecolor\": \"white\", \"ticks\": \"\"}}, \"title\": {\"x\": 0.05}, \"xaxis\": {\"automargin\": true, \"gridcolor\": \"white\", \"linecolor\": \"white\", \"ticks\": \"\", \"title\": {\"standoff\": 15}, \"zerolinecolor\": \"white\", \"zerolinewidth\": 2}, \"yaxis\": {\"automargin\": true, \"gridcolor\": \"white\", \"linecolor\": \"white\", \"ticks\": \"\", \"title\": {\"standoff\": 15}, \"zerolinecolor\": \"white\", \"zerolinewidth\": 2}}}},\n",
       "                        {\"responsive\": true}\n",
       "                    ).then(function(){\n",
       "                            \n",
       "var gd = document.getElementById('6ca706bb-e7c4-4402-b63d-378f7bc3805c');\n",
       "var x = new MutationObserver(function (mutations, observer) {{\n",
       "        var display = window.getComputedStyle(gd).display;\n",
       "        if (!display || display === 'none') {{\n",
       "            console.log([gd, 'removed!']);\n",
       "            Plotly.purge(gd);\n",
       "            observer.disconnect();\n",
       "        }}\n",
       "}});\n",
       "\n",
       "// Listen for the removal of the full notebook cells\n",
       "var notebookContainer = gd.closest('#notebook-container');\n",
       "if (notebookContainer) {{\n",
       "    x.observe(notebookContainer, {childList: true});\n",
       "}}\n",
       "\n",
       "// Listen for the clearing of the current output cell\n",
       "var outputEl = gd.closest('.output');\n",
       "if (outputEl) {{\n",
       "    x.observe(outputEl, {childList: true});\n",
       "}}\n",
       "\n",
       "                        })\n",
       "                };\n",
       "                });\n",
       "            </script>\n",
       "        </div>"
      ]
     },
     "metadata": {},
     "output_type": "display_data"
    },
    {
     "data": {
      "application/vnd.plotly.v1+json": {
       "config": {
        "plotlyServerURL": "https://plot.ly"
       },
       "data": [
        {
         "hovertemplate": "Height (cm)=%{x}<br>Smear=%{y}<br>Pu Mass per Cycle (kg)=%{z}<br>Pu Fraction=%{marker.color}<extra></extra>",
         "legendgroup": "",
         "marker": {
          "color": [
           1,
           0.75,
           1,
           0.875,
           0.875,
           0.75,
           1,
           0.555555,
           0.75,
           1,
           0.555555,
           0.75,
           1,
           0.25,
           0.875,
           0.4,
           0.875,
           0.4,
           0.875,
           0.1,
           0.555555,
           0.75,
           1,
           0.555555,
           0.75,
           1,
           0.25,
           0.555555,
           0.75,
           1,
           0.25,
           0.555555,
           0.75,
           1,
           0.25
          ],
          "coloraxis": "coloraxis",
          "symbol": "circle"
         },
         "mode": "markers",
         "name": "",
         "scene": "scene",
         "showlegend": false,
         "type": "scatter3d",
         "x": [
          70,
          80,
          80,
          65,
          75,
          60,
          60,
          70,
          70,
          70,
          80,
          80,
          80,
          80,
          55,
          65,
          65,
          75,
          75,
          75,
          50,
          50,
          50,
          60,
          60,
          60,
          60,
          70,
          70,
          70,
          70,
          80,
          80,
          80,
          80
         ],
         "y": [
          50,
          50,
          50,
          55,
          55,
          60,
          60,
          60,
          60,
          60,
          60,
          60,
          60,
          60,
          65,
          65,
          65,
          65,
          65,
          65,
          70,
          70,
          70,
          70,
          70,
          70,
          70,
          70,
          70,
          70,
          70,
          70,
          70,
          70,
          70
         ],
         "z": [
          1181.9608990061608,
          1006.703762001612,
          1350.8124560070412,
          1053.0379776619268,
          1215.0438203791466,
          906.0333858014503,
          1215.7312104063367,
          779.1160442058998,
          1057.0389501016923,
          1418.353078807393,
          890.4183362353139,
          1208.0445144019338,
          1620.9749472084486,
          397.5570407977096,
          1053.0379776619268,
          562.0579184980147,
          1244.4994281459135,
          648.5283674977092,
          1435.9608786299002,
          160.8830037737118,
          649.2633701715832,
          880.8657917514103,
          1181.9608990061608,
          779.1160442058998,
          1057.0389501016923,
          1418.353078807393,
          347.8624106979959,
          908.9687182402163,
          1233.2121084519745,
          1654.7452586086251,
          405.8394791476619,
          1038.821392274533,
          1409.3852668022564,
          1891.1374384098576,
          463.81654759732794
         ]
        }
       ],
       "layout": {
        "coloraxis": {
         "colorbar": {
          "title": {
           "text": "Pu Fraction"
          }
         },
         "colorscale": [
          [
           0,
           "#0d0887"
          ],
          [
           0.1111111111111111,
           "#46039f"
          ],
          [
           0.2222222222222222,
           "#7201a8"
          ],
          [
           0.3333333333333333,
           "#9c179e"
          ],
          [
           0.4444444444444444,
           "#bd3786"
          ],
          [
           0.5555555555555556,
           "#d8576b"
          ],
          [
           0.6666666666666666,
           "#ed7953"
          ],
          [
           0.7777777777777778,
           "#fb9f3a"
          ],
          [
           0.8888888888888888,
           "#fdca26"
          ],
          [
           1,
           "#f0f921"
          ]
         ]
        },
        "legend": {
         "tracegroupgap": 0
        },
        "margin": {
         "t": 60
        },
        "scene": {
         "domain": {
          "x": [
           0,
           1
          ],
          "y": [
           0,
           1
          ]
         },
         "xaxis": {
          "title": {
           "text": "Height (cm)"
          }
         },
         "yaxis": {
          "title": {
           "text": "Smear"
          }
         },
         "zaxis": {
          "title": {
           "text": "Pu Mass per Cycle (kg)"
          }
         }
        },
        "template": {
         "data": {
          "bar": [
           {
            "error_x": {
             "color": "#2a3f5f"
            },
            "error_y": {
             "color": "#2a3f5f"
            },
            "marker": {
             "line": {
              "color": "#E5ECF6",
              "width": 0.5
             }
            },
            "type": "bar"
           }
          ],
          "barpolar": [
           {
            "marker": {
             "line": {
              "color": "#E5ECF6",
              "width": 0.5
             }
            },
            "type": "barpolar"
           }
          ],
          "carpet": [
           {
            "aaxis": {
             "endlinecolor": "#2a3f5f",
             "gridcolor": "white",
             "linecolor": "white",
             "minorgridcolor": "white",
             "startlinecolor": "#2a3f5f"
            },
            "baxis": {
             "endlinecolor": "#2a3f5f",
             "gridcolor": "white",
             "linecolor": "white",
             "minorgridcolor": "white",
             "startlinecolor": "#2a3f5f"
            },
            "type": "carpet"
           }
          ],
          "choropleth": [
           {
            "colorbar": {
             "outlinewidth": 0,
             "ticks": ""
            },
            "type": "choropleth"
           }
          ],
          "contour": [
           {
            "colorbar": {
             "outlinewidth": 0,
             "ticks": ""
            },
            "colorscale": [
             [
              0,
              "#0d0887"
             ],
             [
              0.1111111111111111,
              "#46039f"
             ],
             [
              0.2222222222222222,
              "#7201a8"
             ],
             [
              0.3333333333333333,
              "#9c179e"
             ],
             [
              0.4444444444444444,
              "#bd3786"
             ],
             [
              0.5555555555555556,
              "#d8576b"
             ],
             [
              0.6666666666666666,
              "#ed7953"
             ],
             [
              0.7777777777777778,
              "#fb9f3a"
             ],
             [
              0.8888888888888888,
              "#fdca26"
             ],
             [
              1,
              "#f0f921"
             ]
            ],
            "type": "contour"
           }
          ],
          "contourcarpet": [
           {
            "colorbar": {
             "outlinewidth": 0,
             "ticks": ""
            },
            "type": "contourcarpet"
           }
          ],
          "heatmap": [
           {
            "colorbar": {
             "outlinewidth": 0,
             "ticks": ""
            },
            "colorscale": [
             [
              0,
              "#0d0887"
             ],
             [
              0.1111111111111111,
              "#46039f"
             ],
             [
              0.2222222222222222,
              "#7201a8"
             ],
             [
              0.3333333333333333,
              "#9c179e"
             ],
             [
              0.4444444444444444,
              "#bd3786"
             ],
             [
              0.5555555555555556,
              "#d8576b"
             ],
             [
              0.6666666666666666,
              "#ed7953"
             ],
             [
              0.7777777777777778,
              "#fb9f3a"
             ],
             [
              0.8888888888888888,
              "#fdca26"
             ],
             [
              1,
              "#f0f921"
             ]
            ],
            "type": "heatmap"
           }
          ],
          "heatmapgl": [
           {
            "colorbar": {
             "outlinewidth": 0,
             "ticks": ""
            },
            "colorscale": [
             [
              0,
              "#0d0887"
             ],
             [
              0.1111111111111111,
              "#46039f"
             ],
             [
              0.2222222222222222,
              "#7201a8"
             ],
             [
              0.3333333333333333,
              "#9c179e"
             ],
             [
              0.4444444444444444,
              "#bd3786"
             ],
             [
              0.5555555555555556,
              "#d8576b"
             ],
             [
              0.6666666666666666,
              "#ed7953"
             ],
             [
              0.7777777777777778,
              "#fb9f3a"
             ],
             [
              0.8888888888888888,
              "#fdca26"
             ],
             [
              1,
              "#f0f921"
             ]
            ],
            "type": "heatmapgl"
           }
          ],
          "histogram": [
           {
            "marker": {
             "colorbar": {
              "outlinewidth": 0,
              "ticks": ""
             }
            },
            "type": "histogram"
           }
          ],
          "histogram2d": [
           {
            "colorbar": {
             "outlinewidth": 0,
             "ticks": ""
            },
            "colorscale": [
             [
              0,
              "#0d0887"
             ],
             [
              0.1111111111111111,
              "#46039f"
             ],
             [
              0.2222222222222222,
              "#7201a8"
             ],
             [
              0.3333333333333333,
              "#9c179e"
             ],
             [
              0.4444444444444444,
              "#bd3786"
             ],
             [
              0.5555555555555556,
              "#d8576b"
             ],
             [
              0.6666666666666666,
              "#ed7953"
             ],
             [
              0.7777777777777778,
              "#fb9f3a"
             ],
             [
              0.8888888888888888,
              "#fdca26"
             ],
             [
              1,
              "#f0f921"
             ]
            ],
            "type": "histogram2d"
           }
          ],
          "histogram2dcontour": [
           {
            "colorbar": {
             "outlinewidth": 0,
             "ticks": ""
            },
            "colorscale": [
             [
              0,
              "#0d0887"
             ],
             [
              0.1111111111111111,
              "#46039f"
             ],
             [
              0.2222222222222222,
              "#7201a8"
             ],
             [
              0.3333333333333333,
              "#9c179e"
             ],
             [
              0.4444444444444444,
              "#bd3786"
             ],
             [
              0.5555555555555556,
              "#d8576b"
             ],
             [
              0.6666666666666666,
              "#ed7953"
             ],
             [
              0.7777777777777778,
              "#fb9f3a"
             ],
             [
              0.8888888888888888,
              "#fdca26"
             ],
             [
              1,
              "#f0f921"
             ]
            ],
            "type": "histogram2dcontour"
           }
          ],
          "mesh3d": [
           {
            "colorbar": {
             "outlinewidth": 0,
             "ticks": ""
            },
            "type": "mesh3d"
           }
          ],
          "parcoords": [
           {
            "line": {
             "colorbar": {
              "outlinewidth": 0,
              "ticks": ""
             }
            },
            "type": "parcoords"
           }
          ],
          "pie": [
           {
            "automargin": true,
            "type": "pie"
           }
          ],
          "scatter": [
           {
            "marker": {
             "colorbar": {
              "outlinewidth": 0,
              "ticks": ""
             }
            },
            "type": "scatter"
           }
          ],
          "scatter3d": [
           {
            "line": {
             "colorbar": {
              "outlinewidth": 0,
              "ticks": ""
             }
            },
            "marker": {
             "colorbar": {
              "outlinewidth": 0,
              "ticks": ""
             }
            },
            "type": "scatter3d"
           }
          ],
          "scattercarpet": [
           {
            "marker": {
             "colorbar": {
              "outlinewidth": 0,
              "ticks": ""
             }
            },
            "type": "scattercarpet"
           }
          ],
          "scattergeo": [
           {
            "marker": {
             "colorbar": {
              "outlinewidth": 0,
              "ticks": ""
             }
            },
            "type": "scattergeo"
           }
          ],
          "scattergl": [
           {
            "marker": {
             "colorbar": {
              "outlinewidth": 0,
              "ticks": ""
             }
            },
            "type": "scattergl"
           }
          ],
          "scattermapbox": [
           {
            "marker": {
             "colorbar": {
              "outlinewidth": 0,
              "ticks": ""
             }
            },
            "type": "scattermapbox"
           }
          ],
          "scatterpolar": [
           {
            "marker": {
             "colorbar": {
              "outlinewidth": 0,
              "ticks": ""
             }
            },
            "type": "scatterpolar"
           }
          ],
          "scatterpolargl": [
           {
            "marker": {
             "colorbar": {
              "outlinewidth": 0,
              "ticks": ""
             }
            },
            "type": "scatterpolargl"
           }
          ],
          "scatterternary": [
           {
            "marker": {
             "colorbar": {
              "outlinewidth": 0,
              "ticks": ""
             }
            },
            "type": "scatterternary"
           }
          ],
          "surface": [
           {
            "colorbar": {
             "outlinewidth": 0,
             "ticks": ""
            },
            "colorscale": [
             [
              0,
              "#0d0887"
             ],
             [
              0.1111111111111111,
              "#46039f"
             ],
             [
              0.2222222222222222,
              "#7201a8"
             ],
             [
              0.3333333333333333,
              "#9c179e"
             ],
             [
              0.4444444444444444,
              "#bd3786"
             ],
             [
              0.5555555555555556,
              "#d8576b"
             ],
             [
              0.6666666666666666,
              "#ed7953"
             ],
             [
              0.7777777777777778,
              "#fb9f3a"
             ],
             [
              0.8888888888888888,
              "#fdca26"
             ],
             [
              1,
              "#f0f921"
             ]
            ],
            "type": "surface"
           }
          ],
          "table": [
           {
            "cells": {
             "fill": {
              "color": "#EBF0F8"
             },
             "line": {
              "color": "white"
             }
            },
            "header": {
             "fill": {
              "color": "#C8D4E3"
             },
             "line": {
              "color": "white"
             }
            },
            "type": "table"
           }
          ]
         },
         "layout": {
          "annotationdefaults": {
           "arrowcolor": "#2a3f5f",
           "arrowhead": 0,
           "arrowwidth": 1
          },
          "coloraxis": {
           "colorbar": {
            "outlinewidth": 0,
            "ticks": ""
           }
          },
          "colorscale": {
           "diverging": [
            [
             0,
             "#8e0152"
            ],
            [
             0.1,
             "#c51b7d"
            ],
            [
             0.2,
             "#de77ae"
            ],
            [
             0.3,
             "#f1b6da"
            ],
            [
             0.4,
             "#fde0ef"
            ],
            [
             0.5,
             "#f7f7f7"
            ],
            [
             0.6,
             "#e6f5d0"
            ],
            [
             0.7,
             "#b8e186"
            ],
            [
             0.8,
             "#7fbc41"
            ],
            [
             0.9,
             "#4d9221"
            ],
            [
             1,
             "#276419"
            ]
           ],
           "sequential": [
            [
             0,
             "#0d0887"
            ],
            [
             0.1111111111111111,
             "#46039f"
            ],
            [
             0.2222222222222222,
             "#7201a8"
            ],
            [
             0.3333333333333333,
             "#9c179e"
            ],
            [
             0.4444444444444444,
             "#bd3786"
            ],
            [
             0.5555555555555556,
             "#d8576b"
            ],
            [
             0.6666666666666666,
             "#ed7953"
            ],
            [
             0.7777777777777778,
             "#fb9f3a"
            ],
            [
             0.8888888888888888,
             "#fdca26"
            ],
            [
             1,
             "#f0f921"
            ]
           ],
           "sequentialminus": [
            [
             0,
             "#0d0887"
            ],
            [
             0.1111111111111111,
             "#46039f"
            ],
            [
             0.2222222222222222,
             "#7201a8"
            ],
            [
             0.3333333333333333,
             "#9c179e"
            ],
            [
             0.4444444444444444,
             "#bd3786"
            ],
            [
             0.5555555555555556,
             "#d8576b"
            ],
            [
             0.6666666666666666,
             "#ed7953"
            ],
            [
             0.7777777777777778,
             "#fb9f3a"
            ],
            [
             0.8888888888888888,
             "#fdca26"
            ],
            [
             1,
             "#f0f921"
            ]
           ]
          },
          "colorway": [
           "#636efa",
           "#EF553B",
           "#00cc96",
           "#ab63fa",
           "#FFA15A",
           "#19d3f3",
           "#FF6692",
           "#B6E880",
           "#FF97FF",
           "#FECB52"
          ],
          "font": {
           "color": "#2a3f5f"
          },
          "geo": {
           "bgcolor": "white",
           "lakecolor": "white",
           "landcolor": "#E5ECF6",
           "showlakes": true,
           "showland": true,
           "subunitcolor": "white"
          },
          "hoverlabel": {
           "align": "left"
          },
          "hovermode": "closest",
          "mapbox": {
           "style": "light"
          },
          "paper_bgcolor": "white",
          "plot_bgcolor": "#E5ECF6",
          "polar": {
           "angularaxis": {
            "gridcolor": "white",
            "linecolor": "white",
            "ticks": ""
           },
           "bgcolor": "#E5ECF6",
           "radialaxis": {
            "gridcolor": "white",
            "linecolor": "white",
            "ticks": ""
           }
          },
          "scene": {
           "xaxis": {
            "backgroundcolor": "#E5ECF6",
            "gridcolor": "white",
            "gridwidth": 2,
            "linecolor": "white",
            "showbackground": true,
            "ticks": "",
            "zerolinecolor": "white"
           },
           "yaxis": {
            "backgroundcolor": "#E5ECF6",
            "gridcolor": "white",
            "gridwidth": 2,
            "linecolor": "white",
            "showbackground": true,
            "ticks": "",
            "zerolinecolor": "white"
           },
           "zaxis": {
            "backgroundcolor": "#E5ECF6",
            "gridcolor": "white",
            "gridwidth": 2,
            "linecolor": "white",
            "showbackground": true,
            "ticks": "",
            "zerolinecolor": "white"
           }
          },
          "shapedefaults": {
           "line": {
            "color": "#2a3f5f"
           }
          },
          "ternary": {
           "aaxis": {
            "gridcolor": "white",
            "linecolor": "white",
            "ticks": ""
           },
           "baxis": {
            "gridcolor": "white",
            "linecolor": "white",
            "ticks": ""
           },
           "bgcolor": "#E5ECF6",
           "caxis": {
            "gridcolor": "white",
            "linecolor": "white",
            "ticks": ""
           }
          },
          "title": {
           "x": 0.05
          },
          "xaxis": {
           "automargin": true,
           "gridcolor": "white",
           "linecolor": "white",
           "ticks": "",
           "title": {
            "standoff": 15
           },
           "zerolinecolor": "white",
           "zerolinewidth": 2
          },
          "yaxis": {
           "automargin": true,
           "gridcolor": "white",
           "linecolor": "white",
           "ticks": "",
           "title": {
            "standoff": 15
           },
           "zerolinecolor": "white",
           "zerolinewidth": 2
          }
         }
        }
       }
      },
      "text/html": [
       "<div>\n",
       "        \n",
       "        \n",
       "            <div id=\"11beb7c3-973a-4899-ac9a-529468b4cf53\" class=\"plotly-graph-div\" style=\"height:525px; width:100%;\"></div>\n",
       "            <script type=\"text/javascript\">\n",
       "                require([\"plotly\"], function(Plotly) {\n",
       "                    window.PLOTLYENV=window.PLOTLYENV || {};\n",
       "                    \n",
       "                if (document.getElementById(\"11beb7c3-973a-4899-ac9a-529468b4cf53\")) {\n",
       "                    Plotly.newPlot(\n",
       "                        '11beb7c3-973a-4899-ac9a-529468b4cf53',\n",
       "                        [{\"hovertemplate\": \"Height (cm)=%{x}<br>Smear=%{y}<br>Pu Mass per Cycle (kg)=%{z}<br>Pu Fraction=%{marker.color}<extra></extra>\", \"legendgroup\": \"\", \"marker\": {\"color\": [1.0, 0.75, 1.0, 0.875, 0.875, 0.75, 1.0, 0.555555, 0.75, 1.0, 0.555555, 0.75, 1.0, 0.25, 0.875, 0.4, 0.875, 0.4, 0.875, 0.1, 0.555555, 0.75, 1.0, 0.555555, 0.75, 1.0, 0.25, 0.555555, 0.75, 1.0, 0.25, 0.555555, 0.75, 1.0, 0.25], \"coloraxis\": \"coloraxis\", \"symbol\": \"circle\"}, \"mode\": \"markers\", \"name\": \"\", \"scene\": \"scene\", \"showlegend\": false, \"type\": \"scatter3d\", \"x\": [70.0, 80.0, 80.0, 65.0, 75.0, 60.0, 60.0, 70.0, 70.0, 70.0, 80.0, 80.0, 80.0, 80.0, 55.0, 65.0, 65.0, 75.0, 75.0, 75.0, 50.0, 50.0, 50.0, 60.0, 60.0, 60.0, 60.0, 70.0, 70.0, 70.0, 70.0, 80.0, 80.0, 80.0, 80.0], \"y\": [50.0, 50.0, 50.0, 55.0, 55.0, 60.0, 60.0, 60.0, 60.0, 60.0, 60.0, 60.0, 60.0, 60.0, 65.0, 65.0, 65.0, 65.0, 65.0, 65.0, 70.0, 70.0, 70.0, 70.0, 70.0, 70.0, 70.0, 70.0, 70.0, 70.0, 70.0, 70.0, 70.0, 70.0, 70.0], \"z\": [1181.9608990061608, 1006.703762001612, 1350.8124560070412, 1053.0379776619268, 1215.0438203791466, 906.0333858014503, 1215.7312104063367, 779.1160442058998, 1057.0389501016923, 1418.353078807393, 890.4183362353139, 1208.0445144019338, 1620.9749472084486, 397.5570407977096, 1053.0379776619268, 562.0579184980147, 1244.4994281459135, 648.5283674977092, 1435.9608786299002, 160.8830037737118, 649.2633701715832, 880.8657917514103, 1181.9608990061608, 779.1160442058998, 1057.0389501016923, 1418.353078807393, 347.8624106979959, 908.9687182402163, 1233.2121084519745, 1654.7452586086251, 405.8394791476619, 1038.821392274533, 1409.3852668022564, 1891.1374384098576, 463.81654759732794]}],\n",
       "                        {\"coloraxis\": {\"colorbar\": {\"title\": {\"text\": \"Pu Fraction\"}}, \"colorscale\": [[0.0, \"#0d0887\"], [0.1111111111111111, \"#46039f\"], [0.2222222222222222, \"#7201a8\"], [0.3333333333333333, \"#9c179e\"], [0.4444444444444444, \"#bd3786\"], [0.5555555555555556, \"#d8576b\"], [0.6666666666666666, \"#ed7953\"], [0.7777777777777778, \"#fb9f3a\"], [0.8888888888888888, \"#fdca26\"], [1.0, \"#f0f921\"]]}, \"legend\": {\"tracegroupgap\": 0}, \"margin\": {\"t\": 60}, \"scene\": {\"domain\": {\"x\": [0.0, 1.0], \"y\": [0.0, 1.0]}, \"xaxis\": {\"title\": {\"text\": \"Height (cm)\"}}, \"yaxis\": {\"title\": {\"text\": \"Smear\"}}, \"zaxis\": {\"title\": {\"text\": \"Pu Mass per Cycle (kg)\"}}}, \"template\": {\"data\": {\"bar\": [{\"error_x\": {\"color\": \"#2a3f5f\"}, \"error_y\": {\"color\": \"#2a3f5f\"}, \"marker\": {\"line\": {\"color\": \"#E5ECF6\", \"width\": 0.5}}, \"type\": \"bar\"}], \"barpolar\": [{\"marker\": {\"line\": {\"color\": \"#E5ECF6\", \"width\": 0.5}}, \"type\": \"barpolar\"}], \"carpet\": [{\"aaxis\": {\"endlinecolor\": \"#2a3f5f\", \"gridcolor\": \"white\", \"linecolor\": \"white\", \"minorgridcolor\": \"white\", \"startlinecolor\": \"#2a3f5f\"}, \"baxis\": {\"endlinecolor\": \"#2a3f5f\", \"gridcolor\": \"white\", \"linecolor\": \"white\", \"minorgridcolor\": \"white\", \"startlinecolor\": \"#2a3f5f\"}, \"type\": \"carpet\"}], \"choropleth\": [{\"colorbar\": {\"outlinewidth\": 0, \"ticks\": \"\"}, \"type\": \"choropleth\"}], \"contour\": [{\"colorbar\": {\"outlinewidth\": 0, \"ticks\": \"\"}, \"colorscale\": [[0.0, \"#0d0887\"], [0.1111111111111111, \"#46039f\"], [0.2222222222222222, \"#7201a8\"], [0.3333333333333333, \"#9c179e\"], [0.4444444444444444, \"#bd3786\"], [0.5555555555555556, \"#d8576b\"], [0.6666666666666666, \"#ed7953\"], [0.7777777777777778, \"#fb9f3a\"], [0.8888888888888888, \"#fdca26\"], [1.0, \"#f0f921\"]], \"type\": \"contour\"}], \"contourcarpet\": [{\"colorbar\": {\"outlinewidth\": 0, \"ticks\": \"\"}, \"type\": \"contourcarpet\"}], \"heatmap\": [{\"colorbar\": {\"outlinewidth\": 0, \"ticks\": \"\"}, \"colorscale\": [[0.0, \"#0d0887\"], [0.1111111111111111, \"#46039f\"], [0.2222222222222222, \"#7201a8\"], [0.3333333333333333, \"#9c179e\"], [0.4444444444444444, \"#bd3786\"], [0.5555555555555556, \"#d8576b\"], [0.6666666666666666, \"#ed7953\"], [0.7777777777777778, \"#fb9f3a\"], [0.8888888888888888, \"#fdca26\"], [1.0, \"#f0f921\"]], \"type\": \"heatmap\"}], \"heatmapgl\": [{\"colorbar\": {\"outlinewidth\": 0, \"ticks\": \"\"}, \"colorscale\": [[0.0, \"#0d0887\"], [0.1111111111111111, \"#46039f\"], [0.2222222222222222, \"#7201a8\"], [0.3333333333333333, \"#9c179e\"], [0.4444444444444444, \"#bd3786\"], [0.5555555555555556, \"#d8576b\"], [0.6666666666666666, \"#ed7953\"], [0.7777777777777778, \"#fb9f3a\"], [0.8888888888888888, \"#fdca26\"], [1.0, \"#f0f921\"]], \"type\": \"heatmapgl\"}], \"histogram\": [{\"marker\": {\"colorbar\": {\"outlinewidth\": 0, \"ticks\": \"\"}}, \"type\": \"histogram\"}], \"histogram2d\": [{\"colorbar\": {\"outlinewidth\": 0, \"ticks\": \"\"}, \"colorscale\": [[0.0, \"#0d0887\"], [0.1111111111111111, \"#46039f\"], [0.2222222222222222, \"#7201a8\"], [0.3333333333333333, \"#9c179e\"], [0.4444444444444444, \"#bd3786\"], [0.5555555555555556, \"#d8576b\"], [0.6666666666666666, \"#ed7953\"], [0.7777777777777778, \"#fb9f3a\"], [0.8888888888888888, \"#fdca26\"], [1.0, \"#f0f921\"]], \"type\": \"histogram2d\"}], \"histogram2dcontour\": [{\"colorbar\": {\"outlinewidth\": 0, \"ticks\": \"\"}, \"colorscale\": [[0.0, \"#0d0887\"], [0.1111111111111111, \"#46039f\"], [0.2222222222222222, \"#7201a8\"], [0.3333333333333333, \"#9c179e\"], [0.4444444444444444, \"#bd3786\"], [0.5555555555555556, \"#d8576b\"], [0.6666666666666666, \"#ed7953\"], [0.7777777777777778, \"#fb9f3a\"], [0.8888888888888888, \"#fdca26\"], [1.0, \"#f0f921\"]], \"type\": \"histogram2dcontour\"}], \"mesh3d\": [{\"colorbar\": {\"outlinewidth\": 0, \"ticks\": \"\"}, \"type\": \"mesh3d\"}], \"parcoords\": [{\"line\": {\"colorbar\": {\"outlinewidth\": 0, \"ticks\": \"\"}}, \"type\": \"parcoords\"}], \"pie\": [{\"automargin\": true, \"type\": \"pie\"}], \"scatter\": [{\"marker\": {\"colorbar\": {\"outlinewidth\": 0, \"ticks\": \"\"}}, \"type\": \"scatter\"}], \"scatter3d\": [{\"line\": {\"colorbar\": {\"outlinewidth\": 0, \"ticks\": \"\"}}, \"marker\": {\"colorbar\": {\"outlinewidth\": 0, \"ticks\": \"\"}}, \"type\": \"scatter3d\"}], \"scattercarpet\": [{\"marker\": {\"colorbar\": {\"outlinewidth\": 0, \"ticks\": \"\"}}, \"type\": \"scattercarpet\"}], \"scattergeo\": [{\"marker\": {\"colorbar\": {\"outlinewidth\": 0, \"ticks\": \"\"}}, \"type\": \"scattergeo\"}], \"scattergl\": [{\"marker\": {\"colorbar\": {\"outlinewidth\": 0, \"ticks\": \"\"}}, \"type\": \"scattergl\"}], \"scattermapbox\": [{\"marker\": {\"colorbar\": {\"outlinewidth\": 0, \"ticks\": \"\"}}, \"type\": \"scattermapbox\"}], \"scatterpolar\": [{\"marker\": {\"colorbar\": {\"outlinewidth\": 0, \"ticks\": \"\"}}, \"type\": \"scatterpolar\"}], \"scatterpolargl\": [{\"marker\": {\"colorbar\": {\"outlinewidth\": 0, \"ticks\": \"\"}}, \"type\": \"scatterpolargl\"}], \"scatterternary\": [{\"marker\": {\"colorbar\": {\"outlinewidth\": 0, \"ticks\": \"\"}}, \"type\": \"scatterternary\"}], \"surface\": [{\"colorbar\": {\"outlinewidth\": 0, \"ticks\": \"\"}, \"colorscale\": [[0.0, \"#0d0887\"], [0.1111111111111111, \"#46039f\"], [0.2222222222222222, \"#7201a8\"], [0.3333333333333333, \"#9c179e\"], [0.4444444444444444, \"#bd3786\"], [0.5555555555555556, \"#d8576b\"], [0.6666666666666666, \"#ed7953\"], [0.7777777777777778, \"#fb9f3a\"], [0.8888888888888888, \"#fdca26\"], [1.0, \"#f0f921\"]], \"type\": \"surface\"}], \"table\": [{\"cells\": {\"fill\": {\"color\": \"#EBF0F8\"}, \"line\": {\"color\": \"white\"}}, \"header\": {\"fill\": {\"color\": \"#C8D4E3\"}, \"line\": {\"color\": \"white\"}}, \"type\": \"table\"}]}, \"layout\": {\"annotationdefaults\": {\"arrowcolor\": \"#2a3f5f\", \"arrowhead\": 0, \"arrowwidth\": 1}, \"coloraxis\": {\"colorbar\": {\"outlinewidth\": 0, \"ticks\": \"\"}}, \"colorscale\": {\"diverging\": [[0, \"#8e0152\"], [0.1, \"#c51b7d\"], [0.2, \"#de77ae\"], [0.3, \"#f1b6da\"], [0.4, \"#fde0ef\"], [0.5, \"#f7f7f7\"], [0.6, \"#e6f5d0\"], [0.7, \"#b8e186\"], [0.8, \"#7fbc41\"], [0.9, \"#4d9221\"], [1, \"#276419\"]], \"sequential\": [[0.0, \"#0d0887\"], [0.1111111111111111, \"#46039f\"], [0.2222222222222222, \"#7201a8\"], [0.3333333333333333, \"#9c179e\"], [0.4444444444444444, \"#bd3786\"], [0.5555555555555556, \"#d8576b\"], [0.6666666666666666, \"#ed7953\"], [0.7777777777777778, \"#fb9f3a\"], [0.8888888888888888, \"#fdca26\"], [1.0, \"#f0f921\"]], \"sequentialminus\": [[0.0, \"#0d0887\"], [0.1111111111111111, \"#46039f\"], [0.2222222222222222, \"#7201a8\"], [0.3333333333333333, \"#9c179e\"], [0.4444444444444444, \"#bd3786\"], [0.5555555555555556, \"#d8576b\"], [0.6666666666666666, \"#ed7953\"], [0.7777777777777778, \"#fb9f3a\"], [0.8888888888888888, \"#fdca26\"], [1.0, \"#f0f921\"]]}, \"colorway\": [\"#636efa\", \"#EF553B\", \"#00cc96\", \"#ab63fa\", \"#FFA15A\", \"#19d3f3\", \"#FF6692\", \"#B6E880\", \"#FF97FF\", \"#FECB52\"], \"font\": {\"color\": \"#2a3f5f\"}, \"geo\": {\"bgcolor\": \"white\", \"lakecolor\": \"white\", \"landcolor\": \"#E5ECF6\", \"showlakes\": true, \"showland\": true, \"subunitcolor\": \"white\"}, \"hoverlabel\": {\"align\": \"left\"}, \"hovermode\": \"closest\", \"mapbox\": {\"style\": \"light\"}, \"paper_bgcolor\": \"white\", \"plot_bgcolor\": \"#E5ECF6\", \"polar\": {\"angularaxis\": {\"gridcolor\": \"white\", \"linecolor\": \"white\", \"ticks\": \"\"}, \"bgcolor\": \"#E5ECF6\", \"radialaxis\": {\"gridcolor\": \"white\", \"linecolor\": \"white\", \"ticks\": \"\"}}, \"scene\": {\"xaxis\": {\"backgroundcolor\": \"#E5ECF6\", \"gridcolor\": \"white\", \"gridwidth\": 2, \"linecolor\": \"white\", \"showbackground\": true, \"ticks\": \"\", \"zerolinecolor\": \"white\"}, \"yaxis\": {\"backgroundcolor\": \"#E5ECF6\", \"gridcolor\": \"white\", \"gridwidth\": 2, \"linecolor\": \"white\", \"showbackground\": true, \"ticks\": \"\", \"zerolinecolor\": \"white\"}, \"zaxis\": {\"backgroundcolor\": \"#E5ECF6\", \"gridcolor\": \"white\", \"gridwidth\": 2, \"linecolor\": \"white\", \"showbackground\": true, \"ticks\": \"\", \"zerolinecolor\": \"white\"}}, \"shapedefaults\": {\"line\": {\"color\": \"#2a3f5f\"}}, \"ternary\": {\"aaxis\": {\"gridcolor\": \"white\", \"linecolor\": \"white\", \"ticks\": \"\"}, \"baxis\": {\"gridcolor\": \"white\", \"linecolor\": \"white\", \"ticks\": \"\"}, \"bgcolor\": \"#E5ECF6\", \"caxis\": {\"gridcolor\": \"white\", \"linecolor\": \"white\", \"ticks\": \"\"}}, \"title\": {\"x\": 0.05}, \"xaxis\": {\"automargin\": true, \"gridcolor\": \"white\", \"linecolor\": \"white\", \"ticks\": \"\", \"title\": {\"standoff\": 15}, \"zerolinecolor\": \"white\", \"zerolinewidth\": 2}, \"yaxis\": {\"automargin\": true, \"gridcolor\": \"white\", \"linecolor\": \"white\", \"ticks\": \"\", \"title\": {\"standoff\": 15}, \"zerolinecolor\": \"white\", \"zerolinewidth\": 2}}}},\n",
       "                        {\"responsive\": true}\n",
       "                    ).then(function(){\n",
       "                            \n",
       "var gd = document.getElementById('11beb7c3-973a-4899-ac9a-529468b4cf53');\n",
       "var x = new MutationObserver(function (mutations, observer) {{\n",
       "        var display = window.getComputedStyle(gd).display;\n",
       "        if (!display || display === 'none') {{\n",
       "            console.log([gd, 'removed!']);\n",
       "            Plotly.purge(gd);\n",
       "            observer.disconnect();\n",
       "        }}\n",
       "}});\n",
       "\n",
       "// Listen for the removal of the full notebook cells\n",
       "var notebookContainer = gd.closest('#notebook-container');\n",
       "if (notebookContainer) {{\n",
       "    x.observe(notebookContainer, {childList: true});\n",
       "}}\n",
       "\n",
       "// Listen for the clearing of the current output cell\n",
       "var outputEl = gd.closest('.output');\n",
       "if (outputEl) {{\n",
       "    x.observe(outputEl, {childList: true});\n",
       "}}\n",
       "\n",
       "                        })\n",
       "                };\n",
       "                });\n",
       "            </script>\n",
       "        </div>"
      ]
     },
     "metadata": {},
     "output_type": "display_data"
    }
   ],
   "source": [
    "fig = px.scatter_3d(x=height, y=smear, z=cycle_length_list, color=pu_content, labels={'x':'Height (cm)', 'y': 'Smear', 'z':'Cycle Length (days)','color':'Pu Fraction'})\n",
    "fig.show()\n",
    "fig2 = px.scatter_3d(x=height, y=smear, z=rx_swing_list, color=pu_content, labels={'x':'Height (cm)', 'y': 'Smear', 'z':'Rx Swing (pcm)','color':'Pu Fraction'})\n",
    "fig2.show()\n",
    "fig3 = px.scatter_3d(x=height, y=smear, z=bu, color=pu_content, labels={'x':'Height (cm)', 'y': 'Smear', 'z':'Burnup (GWd/MTU)','color':'Pu Fraction'})\n",
    "fig3.show()\n",
    "fig4 = px.scatter_3d(x=height, y=smear, z=pu_mass, color=pu_content, labels={'x':'Height (cm)', 'y': 'Smear', 'z':'Pu Mass per Cycle (kg)','color':'Pu Fraction'})\n",
    "fig4.show()"
   ]
  },
  {
   "cell_type": "markdown",
   "metadata": {},
   "source": [
    "# Starting the Blackboard System"
   ]
  },
  {
   "cell_type": "code",
   "execution_count": 2,
   "metadata": {
    "scrolled": false
   },
   "outputs": [
    {
     "name": "stdout",
     "output_type": "stream",
     "text": [
      "Broadcast server running on 0.0.0.0:9091\n",
      "NS running on 127.0.0.1:13097 (127.0.0.1)\n",
      "URI = PYRO:Pyro.NameServer@127.0.0.1:13097\n",
      "INFO [2020-05-06 16:56:42.878231] (bb): Connected agent ka_rp_explore_1 of agent type <class 'ka_rp.KaRpExplore'>\n",
      "INFO [2020-05-06 16:56:42.928931] (bb): Connected agent ka_rp_explore_2 of agent type <class 'ka_rp.KaRpExplore'>\n",
      "INFO [2020-05-06 16:56:42.981695] (bb): Connected agent ka_rp_exploit of agent type <class 'ka_rp.KaRpExploit'>\n",
      "INFO [2020-05-06 16:56:43.026850] (bb): Connected agent ka_br_lvl2 of agent type <class 'ka_br.KaBr_lvl2'>\n",
      "INFO [2020-05-06 16:56:43.077591] (bb): Connected agent ka_br_lvl3 of agent type <class 'ka_br.KaBr_lvl3'>\n",
      "INFO [2020-05-06 16:56:46.098099] (bb): Selecting agent ka_rp_explore_1 (TV: 0.25) to execute (TE: 1)\n",
      "INFO [2020-05-06 16:56:49.113942] (bb): Selecting agent ka_rp_explore_2 (TV: 0.5) to execute (TE: 2)\n",
      "INFO [2020-05-06 16:56:52.128431] (bb): Selecting agent ka_rp_explore_1 (TV: 0.5) to execute (TE: 3)\n",
      "INFO [2020-05-06 16:56:55.140071] (bb): Selecting agent ka_rp_explore_2 (TV: 0.5) to execute (TE: 4)\n",
      "INFO [2020-05-06 16:56:58.151076] (bb): Selecting agent ka_rp_explore_1 (TV: 0.5) to execute (TE: 5)\n",
      "INFO [2020-05-06 16:57:01.163573] (bb): Selecting agent ka_rp_explore_2 (TV: 0.5) to execute (TE: 6)\n",
      "INFO [2020-05-06 16:57:04.172994] (bb): Selecting agent ka_rp_explore_1 (TV: 0.5) to execute (TE: 7)\n",
      "INFO [2020-05-06 16:57:07.186512] (bb): Selecting agent ka_rp_explore_2 (TV: 0.5) to execute (TE: 8)\n",
      "INFO [2020-05-06 16:57:10.198233] (bb): Selecting agent ka_rp_explore_1 (TV: 0.5) to execute (TE: 9)\n",
      "INFO [2020-05-06 16:57:13.209409] (bb): Selecting agent ka_rp_explore_2 (TV: 0.5) to execute (TE: 10)\n",
      "INFO [2020-05-06 16:57:13.218729] (ka_br_lvl3): Core core_[69.6, 57.94, 0.86] Fitness: 1.732912891198961\n",
      "INFO [2020-05-06 16:57:16.219855] (bb): Selecting agent ka_rp_explore_1 (TV: 0.5) to execute (TE: 11)\n",
      "INFO [2020-05-06 16:57:16.230960] (ka_br_lvl3): Core core_[69.6, 57.94, 0.86] Fitness: 1.732912891198961\n",
      "INFO [2020-05-06 16:57:19.231151] (bb): Selecting agent ka_rp_explore_2 (TV: 0.5) to execute (TE: 12)\n",
      "INFO [2020-05-06 16:57:19.242100] (ka_br_lvl3): Core core_[69.6, 57.94, 0.86] Fitness: 1.732912891198961\n",
      "INFO [2020-05-06 16:57:22.240431] (bb): Selecting agent ka_rp_explore_1 (TV: 0.5) to execute (TE: 13)\n",
      "INFO [2020-05-06 16:57:22.252202] (ka_br_lvl3): Core core_[69.6, 57.94, 0.86] Fitness: 1.732912891198961\n",
      "INFO [2020-05-06 16:57:25.252591] (bb): Selecting agent ka_rp_explore_2 (TV: 0.5) to execute (TE: 14)\n",
      "INFO [2020-05-06 16:57:25.265209] (ka_br_lvl3): Core core_[69.6, 57.94, 0.86] Fitness: 1.732912891198961\n",
      "INFO [2020-05-06 16:57:28.262287] (bb): Selecting agent ka_rp_explore_1 (TV: 0.5) to execute (TE: 15)\n",
      "INFO [2020-05-06 16:57:28.274440] (ka_br_lvl3): Core core_[69.6, 57.94, 0.86] Fitness: 1.732912891198961\n",
      "INFO [2020-05-06 16:57:31.273770] (bb): Selecting agent ka_rp_explore_2 (TV: 0.5) to execute (TE: 16)\n",
      "INFO [2020-05-06 16:57:31.285145] (ka_br_lvl3): Core core_[69.6, 57.94, 0.86] Fitness: 1.732912891198961\n",
      "INFO [2020-05-06 16:57:34.283895] (bb): Selecting agent ka_rp_explore_1 (TV: 0.5) to execute (TE: 17)\n",
      "INFO [2020-05-06 16:57:34.296879] (ka_br_lvl3): Core core_[69.6, 57.94, 0.86] Fitness: 1.732912891198961\n",
      "INFO [2020-05-06 16:57:37.292735] (bb): Selecting agent ka_rp_explore_2 (TV: 0.5) to execute (TE: 18)\n",
      "INFO [2020-05-06 16:57:37.305476] (ka_br_lvl3): Core core_[69.6, 57.94, 0.86] Fitness: 1.732912891198961\n",
      "INFO [2020-05-06 16:57:40.301917] (bb): Selecting agent ka_br_lvl3 (TV: 3) to execute (TE: 19)\n",
      "INFO [2020-05-06 16:57:42.823163] (ka_br_lvl3): Core core_[51.91, 66.37, 0.84] Fitness: 1.4092858528306869\n",
      "INFO [2020-05-06 16:57:43.315956] (bb): Selecting agent ka_rp_explore_1 (TV: 0.75) to execute (TE: 20)\n",
      "INFO [2020-05-06 16:57:43.331202] (ka_br_lvl3): Core core_[51.91, 66.37, 0.84] Fitness: 1.4092858528306869\n",
      "INFO [2020-05-06 16:57:46.324596] (bb): Selecting agent ka_rp_explore_2 (TV: 0.75) to execute (TE: 21)\n",
      "INFO [2020-05-06 16:57:46.336197] (ka_br_lvl3): Core core_[51.91, 66.37, 0.84] Fitness: 1.4092858528306869\n",
      "INFO [2020-05-06 16:57:49.338716] (bb): Selecting agent ka_br_lvl3 (TV: 3) to execute (TE: 22)\n",
      "INFO [2020-05-06 16:57:50.856622] (ka_br_lvl3): Core core_[77.96, 53.92, 0.51] Fitness: 2.6155236761169998\n",
      "INFO [2020-05-06 16:57:52.348363] (bb): Selecting agent ka_br_lvl3 (TV: 3) to execute (TE: 23)\n",
      "INFO [2020-05-06 16:57:55.357756] (bb): Selecting agent ka_rp_explore_1 (TV: 1.0) to execute (TE: 24)\n",
      "INFO [2020-05-06 16:57:55.895412] (ka_br_lvl3): Core core_[56.93, 63.53, 0.92] Fitness: 1.41564444161282\n",
      "INFO [2020-05-06 16:57:55.901893] (ka_br_lvl3): Core core_[56.93, 63.53, 0.92] Fitness: 1.41564444161282\n",
      "INFO [2020-05-06 16:57:58.370185] (bb): Selecting agent ka_rp_explore_2 (TV: 1.0) to execute (TE: 25)\n",
      "INFO [2020-05-06 16:57:58.380228] (ka_br_lvl3): Core core_[56.93, 63.53, 0.92] Fitness: 1.41564444161282\n",
      "INFO [2020-05-06 16:58:01.377143] (bb): Selecting agent ka_rp_explore_1 (TV: 0.5) to execute (TE: 26)\n",
      "INFO [2020-05-06 16:58:01.392410] (ka_br_lvl3): Core core_[56.93, 63.53, 0.92] Fitness: 1.41564444161282\n",
      "INFO [2020-05-06 16:58:04.388121] (bb): Selecting agent ka_br_lvl3 (TV: 3) to execute (TE: 27)\n",
      "INFO [2020-05-06 16:58:07.399770] (bb): Selecting agent ka_rp_explore_2 (TV: 0.75) to execute (TE: 28)\n",
      "INFO [2020-05-06 16:58:08.947067] (ka_br_lvl3): Core core_[61.44, 60.27, 1.0] Fitness: 1.348093835616292\n",
      "INFO [2020-05-06 16:58:08.953923] (ka_br_lvl3): Core core_[61.44, 60.27, 1.0] Fitness: 1.348093835616292\n",
      "INFO [2020-05-06 16:58:10.409552] (bb): Selecting agent ka_rp_explore_1 (TV: 0.75) to execute (TE: 29)\n",
      "INFO [2020-05-06 16:58:10.421583] (ka_br_lvl3): Core core_[61.44, 60.27, 1.0] Fitness: 1.348093835616292\n",
      "INFO [2020-05-06 16:58:13.420680] (bb): Selecting agent ka_rp_explore_2 (TV: 0.5) to execute (TE: 30)\n",
      "INFO [2020-05-06 16:58:13.432536] (ka_br_lvl3): Core core_[61.44, 60.27, 1.0] Fitness: 1.348093835616292\n",
      "INFO [2020-05-06 16:58:16.430447] (bb): Selecting agent ka_rp_explore_1 (TV: 0.5) to execute (TE: 31)\n",
      "INFO [2020-05-06 16:58:16.445480] (ka_br_lvl3): Core core_[61.44, 60.27, 1.0] Fitness: 1.348093835616292\n",
      "INFO [2020-05-06 16:58:19.440856] (bb): Selecting agent ka_rp_explore_2 (TV: 0.5) to execute (TE: 32)\n",
      "INFO [2020-05-06 16:58:19.456824] (ka_br_lvl3): Core core_[61.44, 60.27, 1.0] Fitness: 1.348093835616292\n",
      "INFO [2020-05-06 16:58:22.453214] (bb): Selecting agent ka_rp_explore_1 (TV: 0.5) to execute (TE: 33)\n",
      "INFO [2020-05-06 16:58:22.469891] (ka_br_lvl3): Core core_[61.44, 60.27, 1.0] Fitness: 1.348093835616292\n",
      "INFO [2020-05-06 16:58:25.463759] (bb): Selecting agent ka_br_lvl3 (TV: 3) to execute (TE: 34)\n",
      "INFO [2020-05-06 16:58:26.991203] (ka_br_lvl3): Core core_[71.99, 69.18, 0.22] Fitness: 3.0591383302449944\n",
      "INFO [2020-05-06 16:58:28.472018] (bb): Selecting agent ka_br_lvl3 (TV: 3) to execute (TE: 35)\n",
      "INFO [2020-05-06 16:58:30.001419] (ka_br_lvl3): Core core_[71.3, 64.36, 0.53] Fitness: 2.3241102583517326\n",
      "INFO [2020-05-06 16:58:31.482995] (bb): Selecting agent ka_br_lvl3 (TV: 3) to execute (TE: 36)\n",
      "INFO [2020-05-06 16:58:34.493001] (bb): Selecting agent ka_rp_explore_2 (TV: 1.25) to execute (TE: 37)\n",
      "INFO [2020-05-06 16:58:35.028502] (ka_br_lvl3): Core core_[70.8, 69.08, 0.57] Fitness: 2.110721770697101\n",
      "INFO [2020-05-06 16:58:35.036340] (ka_br_lvl3): Core core_[70.8, 69.08, 0.57] Fitness: 2.110721770697101\n",
      "INFO [2020-05-06 16:58:37.505258] (bb): Selecting agent ka_rp_explore_1 (TV: 1.25) to execute (TE: 38)\n",
      "INFO [2020-05-06 16:58:37.522951] (ka_br_lvl3): Core core_[70.8, 69.08, 0.57] Fitness: 2.110721770697101\n",
      "INFO [2020-05-06 16:58:40.519233] (bb): Selecting agent ka_rp_explore_2 (TV: 0.5) to execute (TE: 39)\n",
      "INFO [2020-05-06 16:58:40.537160] (ka_br_lvl3): Core core_[70.8, 69.08, 0.57] Fitness: 2.110721770697101\n",
      "INFO [2020-05-06 16:58:43.533193] (bb): Selecting agent ka_rp_explore_1 (TV: 0.5) to execute (TE: 40)\n",
      "INFO [2020-05-06 16:58:43.551193] (ka_br_lvl3): Core core_[70.8, 69.08, 0.57] Fitness: 2.110721770697101\n",
      "INFO [2020-05-06 16:58:46.544778] (bb): Selecting agent ka_rp_explore_2 (TV: 0.5) to execute (TE: 41)\n",
      "INFO [2020-05-06 16:58:46.562327] (ka_br_lvl3): Core core_[70.8, 69.08, 0.57] Fitness: 2.110721770697101\n",
      "INFO [2020-05-06 16:58:49.558417] (bb): Selecting agent ka_br_lvl3 (TV: 3) to execute (TE: 42)\n"
     ]
    },
    {
     "name": "stdout",
     "output_type": "stream",
     "text": [
      "INFO [2020-05-06 16:58:51.085114] (ka_br_lvl3): Core core_[61.47, 62.55, 0.82] Fitness: 1.6526517300039354\n",
      "INFO [2020-05-06 16:58:52.570033] (bb): Selecting agent ka_rp_explore_1 (TV: 0.75) to execute (TE: 43)\n",
      "INFO [2020-05-06 16:58:52.587834] (ka_br_lvl3): Core core_[61.47, 62.55, 0.82] Fitness: 1.6526517300039354\n",
      "INFO [2020-05-06 16:58:55.584047] (bb): Selecting agent ka_rp_explore_2 (TV: 0.75) to execute (TE: 44)\n",
      "INFO [2020-05-06 16:58:55.602792] (ka_br_lvl3): Core core_[61.47, 62.55, 0.82] Fitness: 1.6526517300039354\n",
      "INFO [2020-05-06 16:58:58.595306] (bb): Selecting agent ka_rp_explore_1 (TV: 0.5) to execute (TE: 45)\n",
      "INFO [2020-05-06 16:58:58.612655] (ka_br_lvl3): Core core_[61.47, 62.55, 0.82] Fitness: 1.6526517300039354\n",
      "INFO [2020-05-06 16:59:01.608190] (bb): Selecting agent ka_rp_explore_2 (TV: 0.5) to execute (TE: 46)\n",
      "INFO [2020-05-06 16:59:01.628177] (ka_br_lvl3): Core core_[61.47, 62.55, 0.82] Fitness: 1.6526517300039354\n",
      "INFO [2020-05-06 16:59:04.619530] (bb): Selecting agent ka_br_lvl3 (TV: 3) to execute (TE: 47)\n",
      "INFO [2020-05-06 16:59:07.629198] (bb): Selecting agent ka_rp_explore_1 (TV: 0.75) to execute (TE: 48)\n",
      "INFO [2020-05-06 16:59:08.173164] (ka_br_lvl3): Core core_[63.23, 57.45, 0.89] Fitness: 1.5913958335461427\n",
      "INFO [2020-05-06 16:59:08.182408] (ka_br_lvl3): Core core_[63.23, 57.45, 0.89] Fitness: 1.5913958335461427\n",
      "INFO [2020-05-06 16:59:10.641066] (bb): Selecting agent ka_br_lvl3 (TV: 3) to execute (TE: 49)\n",
      "INFO [2020-05-06 16:59:13.653835] (bb): Selecting agent ka_rp_explore_2 (TV: 1.0) to execute (TE: 50)\n",
      "INFO [2020-05-06 16:59:15.216644] (ka_br_lvl3): Core core_[68.65, 62.89, 0.62] Fitness: 2.1595699611413384\n",
      "INFO [2020-05-06 16:59:15.226295] (ka_br_lvl3): Core core_[68.65, 62.89, 0.62] Fitness: 2.1595699611413384\n",
      "INFO [2020-05-06 16:59:16.663767] (bb): Selecting agent ka_rp_explore_1 (TV: 0.75) to execute (TE: 51)\n",
      "INFO [2020-05-06 16:59:16.679537] (ka_br_lvl3): Core core_[68.65, 62.89, 0.62] Fitness: 2.1595699611413384\n",
      "INFO [2020-05-06 16:59:19.674030] (bb): Selecting agent ka_br_lvl3 (TV: 3) to execute (TE: 52)\n",
      "INFO [2020-05-06 16:59:21.203682] (ka_br_lvl3): Core core_[78.82, 62.67, 0.46] Fitness: 2.5482238695411956\n",
      "INFO [2020-05-06 16:59:22.681960] (bb): Selecting agent ka_br_lvl3 (TV: 3) to execute (TE: 53)\n",
      "INFO [2020-05-06 16:59:25.690282] (bb): Selecting agent ka_rp_explore_2 (TV: 1.0) to execute (TE: 54)\n",
      "INFO [2020-05-06 16:59:26.740109] (ka_br_lvl3): Core core_[58.04, 68.13, 0.54] Fitness: 2.162115572347735\n",
      "INFO [2020-05-06 16:59:26.749546] (ka_br_lvl3): Core core_[58.04, 68.13, 0.54] Fitness: 2.162115572347735\n",
      "INFO [2020-05-06 16:59:28.703368] (bb): Selecting agent ka_rp_explore_1 (TV: 1.0) to execute (TE: 55)\n",
      "INFO [2020-05-06 16:59:28.724343] (ka_br_lvl3): Core core_[58.04, 68.13, 0.54] Fitness: 2.162115572347735\n",
      "INFO [2020-05-06 16:59:31.715575] (bb): Selecting agent ka_br_lvl3 (TV: 3) to execute (TE: 56)\n",
      "INFO [2020-05-06 16:59:33.237975] (ka_br_lvl3): Core core_[66.66, 62.94, 0.61] Fitness: 2.1868426102066163\n",
      "INFO [2020-05-06 16:59:34.724776] (bb): Selecting agent ka_br_lvl3 (TV: 3) to execute (TE: 57)\n",
      "INFO [2020-05-06 16:59:37.734787] (bb): Selecting agent ka_rp_explore_2 (TV: 1.0) to execute (TE: 58)\n",
      "INFO [2020-05-06 16:59:38.786744] (ka_br_lvl3): Core core_[79.14, 60.95, 0.58] Fitness: 2.3154572752235776\n",
      "INFO [2020-05-06 16:59:38.796379] (ka_br_lvl3): Core core_[79.14, 60.95, 0.58] Fitness: 2.3154572752235776\n",
      "INFO [2020-05-06 16:59:40.746932] (bb): Selecting agent ka_br_lvl3 (TV: 3) to execute (TE: 59)\n",
      "INFO [2020-05-06 16:59:43.278396] (ka_br_lvl3): Core core_[77.1, 58.49, 0.96] Fitness: 1.5358655235555925\n",
      "INFO [2020-05-06 16:59:43.758087] (bb): Selecting agent ka_rp_explore_1 (TV: 1.25) to execute (TE: 60)\n",
      "INFO [2020-05-06 16:59:43.778781] (ka_br_lvl3): Core core_[77.1, 58.49, 0.96] Fitness: 1.5358655235555925\n",
      "INFO [2020-05-06 16:59:46.766766] (bb): Selecting agent ka_br_lvl2 (TV: 4) to execute (TE: 61)\n",
      "INFO [2020-05-06 16:59:46.784861] (ka_br_lvl3): Core core_[77.1, 58.49, 0.96] Fitness: 1.5358655235555925\n",
      "INFO [2020-05-06 16:59:49.780877] (bb): Selecting agent ka_rp_explore_2 (TV: 1.0) to execute (TE: 62)\n",
      "INFO [2020-05-06 16:59:49.802851] (ka_br_lvl3): Core core_[77.1, 58.49, 0.96] Fitness: 1.5358655235555925\n",
      "INFO [2020-05-06 16:59:52.791872] (bb): Selecting agent ka_rp_exploit (TV: 5) to execute (TE: 63)\n",
      "INFO [2020-05-06 16:59:52.817147] (ka_br_lvl3): Core core_[77.1, 58.49, 0.96] Fitness: 1.5358655235555925\n",
      "INFO [2020-05-06 16:59:55.812544] (bb): Selecting agent ka_br_lvl3 (TV: 3) to execute (TE: 64)\n",
      "INFO [2020-05-06 16:59:58.820597] (bb): Selecting agent ka_rp_explore_1 (TV: 1.25) to execute (TE: 65)\n",
      "INFO [2020-05-06 17:00:01.828970] (bb): Selecting agent ka_rp_explore_2 (TV: 1.0) to execute (TE: 66)\n",
      "INFO [2020-05-06 17:00:01.890028] (ka_br_lvl3): Core core_[64.61, 59.16, 0.67] Fitness: 2.0251066240370523\n",
      "INFO [2020-05-06 17:00:01.900342] (ka_br_lvl3): Core core_[64.61, 59.16, 0.67] Fitness: 2.0251066240370523\n",
      "INFO [2020-05-06 17:00:01.909070] (ka_br_lvl3): Core core_[64.61, 59.16, 0.67] Fitness: 2.0251066240370523\n",
      "INFO [2020-05-06 17:00:04.836514] (bb): Selecting agent ka_br_lvl3 (TV: 3) to execute (TE: 67)\n",
      "INFO [2020-05-06 17:00:07.845838] (bb): Selecting agent ka_rp_explore_1 (TV: 0.75) to execute (TE: 68)\n",
      "INFO [2020-05-06 17:00:08.396158] (ka_br_lvl3): Core core_[50.59, 67.43, 0.77] Fitness: 1.487732959827464\n",
      "INFO [2020-05-06 17:00:08.407782] (ka_br_lvl3): Core core_[50.59, 67.43, 0.77] Fitness: 1.487732959827464\n",
      "INFO [2020-05-06 17:00:10.855395] (bb): Selecting agent ka_br_lvl3 (TV: 3) to execute (TE: 69)\n",
      "INFO [2020-05-06 17:00:12.384005] (ka_br_lvl3): Core core_[78.3486, 60.95, 0.58] Fitness: 2.3143811121161377\n",
      "INFO [2020-05-06 17:00:13.868553] (bb): Selecting agent ka_rp_explore_2 (TV: 1.0) to execute (TE: 70)\n",
      "INFO [2020-05-06 17:00:13.893106] (ka_br_lvl3): Core core_[78.3486, 60.95, 0.58] Fitness: 2.3143811121161377\n",
      "INFO [2020-05-06 17:00:16.879345] (bb): Selecting agent ka_br_lvl3 (TV: 3) to execute (TE: 71)\n",
      "INFO [2020-05-06 17:00:18.410944] (ka_br_lvl3): Core core_[79.9314, 60.95, 0.58] Fitness: 2.297763800618806\n",
      "INFO [2020-05-06 17:00:19.889290] (bb): Selecting agent ka_br_lvl3 (TV: 3) to execute (TE: 72)\n",
      "INFO [2020-05-06 17:00:21.420267] (ka_br_lvl3): Core core_[79.14, 60.3405, 0.58] Fitness: 2.3308970850501796\n",
      "INFO [2020-05-06 17:00:22.902096] (bb): Selecting agent ka_br_lvl3 (TV: 3) to execute (TE: 73)\n",
      "INFO [2020-05-06 17:00:24.430351] (ka_br_lvl3): Core core_[79.14, 61.5595, 0.58] Fitness: 2.2883181719238452\n",
      "INFO [2020-05-06 17:00:25.911676] (bb): Selecting agent ka_br_lvl3 (TV: 3) to execute (TE: 74)\n",
      "INFO [2020-05-06 17:00:27.445150] (ka_br_lvl3): Core core_[79.14, 60.95, 0.5742] Fitness: 2.3293229715468797\n",
      "INFO [2020-05-06 17:00:28.921902] (bb): Selecting agent ka_rp_explore_1 (TV: 1.75) to execute (TE: 75)\n",
      "INFO [2020-05-06 17:00:28.951552] (ka_br_lvl3): Core core_[79.14, 60.95, 0.5742] Fitness: 2.3293229715468797\n",
      "INFO [2020-05-06 17:00:31.932807] (bb): Selecting agent ka_rp_explore_2 (TV: 1.5) to execute (TE: 76)\n",
      "INFO [2020-05-06 17:00:31.958134] (ka_br_lvl3): Core core_[79.14, 60.95, 0.5742] Fitness: 2.3293229715468797\n",
      "INFO [2020-05-06 17:00:34.941685] (bb): Selecting agent ka_rp_explore_1 (TV: 0.5) to execute (TE: 77)\n",
      "INFO [2020-05-06 17:00:34.960286] (ka_br_lvl3): Core core_[79.14, 60.95, 0.5742] Fitness: 2.3293229715468797\n",
      "INFO [2020-05-06 17:00:37.949996] (bb): Selecting agent ka_rp_explore_2 (TV: 0.5) to execute (TE: 78)\n",
      "INFO [2020-05-06 17:00:37.973427] (ka_br_lvl3): Core core_[79.14, 60.95, 0.5742] Fitness: 2.3293229715468797\n",
      "INFO [2020-05-06 17:00:40.958912] (bb): Selecting agent ka_br_lvl3 (TV: 3) to execute (TE: 79)\n",
      "INFO [2020-05-06 17:00:42.494104] (ka_br_lvl3): Core core_[79.14, 60.95, 0.5858] Fitness: 2.301591578900275\n",
      "INFO [2020-05-06 17:00:43.968577] (bb): Selecting agent ka_br_lvl3 (TV: 3) to execute (TE: 80)\n",
      "INFO [2020-05-06 17:00:45.500018] (ka_br_lvl3): Core core_[64.37, 68.7, 0.37] Fitness: 2.641051037398727\n",
      "INFO [2020-05-06 17:00:46.978772] (bb): Selecting agent ka_rp_explore_1 (TV: 1.0) to execute (TE: 81)\n",
      "INFO [2020-05-06 17:00:47.009440] (ka_br_lvl3): Core core_[64.37, 68.7, 0.37] Fitness: 2.641051037398727\n",
      "INFO [2020-05-06 17:00:49.989028] (bb): Selecting agent ka_rp_explore_2 (TV: 1.0) to execute (TE: 82)\n"
     ]
    },
    {
     "name": "stdout",
     "output_type": "stream",
     "text": [
      "INFO [2020-05-06 17:00:50.015725] (ka_br_lvl3): Core core_[64.37, 68.7, 0.37] Fitness: 2.641051037398727\n",
      "INFO [2020-05-06 17:00:53.002049] (bb): Selecting agent ka_br_lvl3 (TV: 3) to execute (TE: 83)\n",
      "INFO [2020-05-06 17:00:54.526329] (ka_br_lvl3): Core core_[56.87, 63.49, 0.68] Fitness: 1.8816347071146389\n",
      "INFO [2020-05-06 17:00:56.010956] (bb): Selecting agent ka_rp_explore_1 (TV: 0.75) to execute (TE: 84)\n",
      "INFO [2020-05-06 17:00:56.036732] (ka_br_lvl3): Core core_[56.87, 63.49, 0.68] Fitness: 1.8816347071146389\n",
      "INFO [2020-05-06 17:00:59.022906] (bb): Selecting agent ka_rp_explore_2 (TV: 0.75) to execute (TE: 85)\n",
      "INFO [2020-05-06 17:00:59.050740] (ka_br_lvl3): Core core_[56.87, 63.49, 0.68] Fitness: 1.8816347071146389\n",
      "INFO [2020-05-06 17:01:02.032939] (bb): Selecting agent ka_rp_explore_1 (TV: 0.5) to execute (TE: 86)\n",
      "INFO [2020-05-06 17:01:02.055538] (ka_br_lvl3): Core core_[56.87, 63.49, 0.68] Fitness: 1.8816347071146389\n",
      "INFO [2020-05-06 17:01:05.041386] (bb): Selecting agent ka_br_lvl3 (TV: 3) to execute (TE: 87)\n",
      "INFO [2020-05-06 17:01:08.055327] (bb): Selecting agent ka_rp_explore_2 (TV: 0.75) to execute (TE: 88)\n",
      "INFO [2020-05-06 17:01:10.635479] (ka_br_lvl3): Core core_[59.55, 67.4, 0.84] Fitness: 1.5677602495137057\n",
      "INFO [2020-05-06 17:01:10.648524] (ka_br_lvl3): Core core_[59.55, 67.4, 0.84] Fitness: 1.5677602495137057\n",
      "INFO [2020-05-06 17:01:11.065545] (bb): Selecting agent ka_br_lvl3 (TV: 3) to execute (TE: 89)\n",
      "INFO [2020-05-06 17:01:14.075670] (bb): Selecting agent ka_rp_explore_1 (TV: 1.0) to execute (TE: 90)\n",
      "INFO [2020-05-06 17:01:14.078876] (bb): Writing blackboard to archive\n",
      "INFO [2020-05-06 17:01:14.112426] (ka_br_lvl3): Core core_[67.82, 60.27, 0.75] Fitness: 1.8977648501601916\n",
      "INFO [2020-05-06 17:01:20.088511] (bb): Finished writing to archive\n",
      "INFO [2020-05-06 17:01:20.110303] (ka_br_lvl3): Core core_[67.82, 60.27, 0.75] Fitness: 1.8977648501601916\n",
      "INFO [2020-05-06 17:01:23.098813] (bb): Selecting agent ka_rp_explore_2 (TV: 0.75) to execute (TE: 91)\n",
      "INFO [2020-05-06 17:01:23.128031] (ka_br_lvl3): Core core_[67.82, 60.27, 0.75] Fitness: 1.8977648501601916\n",
      "INFO [2020-05-06 17:01:26.108003] (bb): Selecting agent ka_br_lvl3 (TV: 3) to execute (TE: 92)\n",
      "INFO [2020-05-06 17:01:27.645105] (ka_br_lvl3): Core core_[61.56, 64.08, 0.59] Fitness: 2.1259225435637985\n",
      "INFO [2020-05-06 17:01:29.118524] (bb): Selecting agent ka_rp_explore_1 (TV: 0.75) to execute (TE: 93)\n",
      "INFO [2020-05-06 17:01:29.147278] (ka_br_lvl3): Core core_[61.56, 64.08, 0.59] Fitness: 2.1259225435637985\n",
      "INFO [2020-05-06 17:01:32.131185] (bb): Selecting agent ka_rp_explore_2 (TV: 0.75) to execute (TE: 94)\n",
      "INFO [2020-05-06 17:01:32.160862] (ka_br_lvl3): Core core_[61.56, 64.08, 0.59] Fitness: 2.1259225435637985\n",
      "INFO [2020-05-06 17:01:35.141170] (bb): Selecting agent ka_rp_explore_1 (TV: 0.5) to execute (TE: 95)\n",
      "INFO [2020-05-06 17:01:35.169496] (ka_br_lvl3): Core core_[61.56, 64.08, 0.59] Fitness: 2.1259225435637985\n",
      "INFO [2020-05-06 17:01:38.150850] (bb): Selecting agent ka_rp_explore_2 (TV: 0.5) to execute (TE: 96)\n",
      "INFO [2020-05-06 17:01:38.174711] (ka_br_lvl3): Core core_[61.56, 64.08, 0.59] Fitness: 2.1259225435637985\n",
      "INFO [2020-05-06 17:01:41.158254] (bb): Selecting agent ka_rp_explore_1 (TV: 0.5) to execute (TE: 97)\n",
      "INFO [2020-05-06 17:01:41.187795] (ka_br_lvl3): Core core_[61.56, 64.08, 0.59] Fitness: 2.1259225435637985\n",
      "INFO [2020-05-06 17:01:44.169338] (bb): Selecting agent ka_br_lvl3 (TV: 3) to execute (TE: 98)\n",
      "INFO [2020-05-06 17:01:46.719146] (ka_br_lvl3): Core core_[70.98, 56.19, 0.76] Fitness: 1.9432437839852306\n",
      "INFO [2020-05-06 17:01:47.178988] (bb): Selecting agent ka_rp_explore_2 (TV: 0.75) to execute (TE: 99)\n",
      "INFO [2020-05-06 17:01:47.202343] (ka_br_lvl3): Core core_[70.98, 56.19, 0.76] Fitness: 1.9432437839852306\n",
      "INFO [2020-05-06 17:01:50.191326] (bb): Selecting agent ka_br_lvl3 (TV: 3) to execute (TE: 100)\n",
      "INFO [2020-05-06 17:01:53.202772] (bb): Selecting agent ka_rp_explore_1 (TV: 1.0) to execute (TE: 101)\n",
      "INFO [2020-05-06 17:01:54.771599] (ka_br_lvl3): Core core_[76.33, 62.26, 0.42] Fitness: 2.6634737751911204\n",
      "INFO [2020-05-06 17:01:54.785893] (ka_br_lvl3): Core core_[76.33, 62.26, 0.42] Fitness: 2.6634737751911204\n",
      "INFO [2020-05-06 17:01:56.213146] (bb): Selecting agent ka_br_lvl3 (TV: 3) to execute (TE: 102)\n",
      "INFO [2020-05-06 17:01:59.224826] (bb): Selecting agent ka_rp_explore_2 (TV: 1.0) to execute (TE: 103)\n",
      "INFO [2020-05-06 17:02:02.234251] (bb): Selecting agent ka_rp_explore_1 (TV: 0.75) to execute (TE: 104)\n",
      "INFO [2020-05-06 17:02:02.818547] (ka_br_lvl3): Core core_[55.18, 69.93, 0.54] Fitness: 2.0811347128655213\n",
      "INFO [2020-05-06 17:02:02.833168] (ka_br_lvl3): Core core_[55.18, 69.93, 0.54] Fitness: 2.0811347128655213\n",
      "INFO [2020-05-06 17:02:02.845635] (ka_br_lvl3): Core core_[55.18, 69.93, 0.54] Fitness: 2.0811347128655213\n",
      "INFO [2020-05-06 17:02:05.242840] (bb): Selecting agent ka_br_lvl3 (TV: 3) to execute (TE: 105)\n",
      "INFO [2020-05-06 17:02:06.782606] (ka_br_lvl3): Core core_[70.1, 56.72, 0.99] Fitness: 1.4892958653768176\n",
      "INFO [2020-05-06 17:02:08.253110] (bb): Selecting agent ka_rp_explore_2 (TV: 0.75) to execute (TE: 106)\n",
      "INFO [2020-05-06 17:02:08.288976] (ka_br_lvl3): Core core_[70.1, 56.72, 0.99] Fitness: 1.4892958653768176\n",
      "INFO [2020-05-06 17:02:11.265840] (bb): Selecting agent ka_rp_explore_1 (TV: 0.75) to execute (TE: 107)\n",
      "INFO [2020-05-06 17:02:11.294859] (ka_br_lvl3): Core core_[70.1, 56.72, 0.99] Fitness: 1.4892958653768176\n",
      "INFO [2020-05-06 17:02:14.275222] (bb): Selecting agent ka_br_lvl3 (TV: 3) to execute (TE: 108)\n",
      "INFO [2020-05-06 17:02:15.806501] (ka_br_lvl3): Core core_[78.61, 57.38, 0.84] Fitness: 1.8170972161005412\n",
      "INFO [2020-05-06 17:02:17.288874] (bb): Selecting agent ka_rp_explore_2 (TV: 0.75) to execute (TE: 109)\n",
      "INFO [2020-05-06 17:02:17.313307] (ka_br_lvl3): Core core_[78.61, 57.38, 0.84] Fitness: 1.8170972161005412\n",
      "INFO [2020-05-06 17:02:20.298106] (bb): Selecting agent ka_rp_explore_1 (TV: 0.75) to execute (TE: 110)\n",
      "INFO [2020-05-06 17:02:20.327912] (ka_br_lvl3): Core core_[78.61, 57.38, 0.84] Fitness: 1.8170972161005412\n",
      "INFO [2020-05-06 17:02:23.308996] (bb): Selecting agent ka_rp_explore_2 (TV: 0.5) to execute (TE: 111)\n",
      "INFO [2020-05-06 17:02:23.340896] (ka_br_lvl3): Core core_[78.61, 57.38, 0.84] Fitness: 1.8170972161005412\n",
      "INFO [2020-05-06 17:02:26.321506] (bb): Selecting agent ka_rp_explore_1 (TV: 0.5) to execute (TE: 112)\n",
      "INFO [2020-05-06 17:02:26.353405] (ka_br_lvl3): Core core_[78.61, 57.38, 0.84] Fitness: 1.8170972161005412\n",
      "INFO [2020-05-06 17:02:29.329837] (bb): Selecting agent ka_rp_explore_2 (TV: 0.5) to execute (TE: 113)\n",
      "INFO [2020-05-06 17:02:29.359068] (ka_br_lvl3): Core core_[78.61, 57.38, 0.84] Fitness: 1.8170972161005412\n",
      "INFO [2020-05-06 17:02:32.338862] (bb): Selecting agent ka_br_lvl3 (TV: 3) to execute (TE: 114)\n",
      "INFO [2020-05-06 17:02:35.347059] (bb): Selecting agent ka_rp_explore_1 (TV: 0.75) to execute (TE: 115)\n",
      "INFO [2020-05-06 17:02:38.355158] (bb): Selecting agent ka_rp_explore_2 (TV: 0.75) to execute (TE: 116)\n",
      "INFO [2020-05-06 17:02:41.363130] (bb): No KA to execute, waiting to sends trigger again.\n",
      "INFO [2020-05-06 17:02:44.371100] (bb): Selecting agent ka_rp_explore_2 (TV: 0.5) to execute (TE: 118)\n",
      "INFO [2020-05-06 17:02:47.379180] (bb): Selecting agent ka_rp_explore_1 (TV: 1.0) to execute (TE: 119)\n",
      "INFO [2020-05-06 17:02:50.390418] (bb): Selecting agent ka_rp_explore_2 (TV: 0.5) to execute (TE: 120)\n",
      "INFO [2020-05-06 17:02:50.416044] (ka_br_lvl3): Core core_[77.24, 61.86, 0.44] Fitness: 2.6313485226897293\n",
      "INFO [2020-05-06 17:02:53.403990] (bb): Selecting agent ka_rp_explore_1 (TV: 0.5) to execute (TE: 121)\n",
      "INFO [2020-05-06 17:02:53.430348] (ka_br_lvl3): Core core_[77.24, 61.86, 0.44] Fitness: 2.6313485226897293\n",
      "INFO [2020-05-06 17:02:56.415568] (bb): Selecting agent ka_rp_explore_2 (TV: 0.5) to execute (TE: 122)\n",
      "INFO [2020-05-06 17:02:56.447324] (ka_br_lvl3): Core core_[77.24, 61.86, 0.44] Fitness: 2.6313485226897293\n",
      "INFO [2020-05-06 17:02:59.427311] (bb): Selecting agent ka_rp_explore_1 (TV: 0.5) to execute (TE: 123)\n",
      "INFO [2020-05-06 17:02:59.460481] (ka_br_lvl3): Core core_[77.24, 61.86, 0.44] Fitness: 2.6313485226897293\n",
      "INFO [2020-05-06 17:03:02.439851] (bb): Selecting agent ka_rp_explore_2 (TV: 0.5) to execute (TE: 124)\n"
     ]
    },
    {
     "name": "stdout",
     "output_type": "stream",
     "text": [
      "INFO [2020-05-06 17:03:02.472137] (ka_br_lvl3): Core core_[77.24, 61.86, 0.44] Fitness: 2.6313485226897293\n",
      "INFO [2020-05-06 17:03:05.451651] (bb): Selecting agent ka_rp_explore_1 (TV: 0.5) to execute (TE: 125)\n",
      "INFO [2020-05-06 17:03:05.482076] (ka_br_lvl3): Core core_[77.24, 61.86, 0.44] Fitness: 2.6313485226897293\n",
      "INFO [2020-05-06 17:03:08.458784] (bb): Selecting agent ka_br_lvl3 (TV: 3) to execute (TE: 126)\n",
      "INFO [2020-05-06 17:03:11.471154] (bb): Selecting agent ka_rp_explore_2 (TV: 0.75) to execute (TE: 127)\n",
      "INFO [2020-05-06 17:03:12.032444] (ka_br_lvl3): Core core_[73.25, 65.03, 0.15] Fitness: 3.359666019944928\n",
      "INFO [2020-05-06 17:03:12.046920] (ka_br_lvl3): Core core_[73.25, 65.03, 0.15] Fitness: 3.359666019944928\n",
      "INFO [2020-05-06 17:03:14.480079] (bb): Selecting agent ka_br_lvl3 (TV: 3) to execute (TE: 128)\n",
      "INFO [2020-05-06 17:03:17.033743] (ka_br_lvl3): Core core_[77.68, 61.94, 0.61] Fitness: 2.219197741731478\n",
      "INFO [2020-05-06 17:03:17.492599] (bb): Selecting agent ka_rp_explore_1 (TV: 1.0) to execute (TE: 129)\n",
      "INFO [2020-05-06 17:03:17.536896] (ka_br_lvl3): Core core_[77.68, 61.94, 0.61] Fitness: 2.219197741731478\n",
      "INFO [2020-05-06 17:03:20.503683] (bb): Selecting agent ka_rp_explore_2 (TV: 0.75) to execute (TE: 130)\n",
      "INFO [2020-05-06 17:03:20.536530] (ka_br_lvl3): Core core_[77.68, 61.94, 0.61] Fitness: 2.219197741731478\n",
      "INFO [2020-05-06 17:03:23.512920] (bb): Selecting agent ka_rp_explore_1 (TV: 0.5) to execute (TE: 131)\n",
      "INFO [2020-05-06 17:03:23.544265] (ka_br_lvl3): Core core_[77.68, 61.94, 0.61] Fitness: 2.219197741731478\n",
      "INFO [2020-05-06 17:03:26.523294] (bb): Selecting agent ka_br_lvl3 (TV: 3) to execute (TE: 132)\n",
      "INFO [2020-05-06 17:03:28.061754] (ka_br_lvl3): Core core_[69.08, 65.61, 0.18] Fitness: 2.9997603925128815\n",
      "INFO [2020-05-06 17:03:29.533748] (bb): Selecting agent ka_rp_explore_2 (TV: 0.75) to execute (TE: 133)\n",
      "INFO [2020-05-06 17:03:29.567844] (ka_br_lvl3): Core core_[69.08, 65.61, 0.18] Fitness: 2.9997603925128815\n",
      "INFO [2020-05-06 17:03:32.543880] (bb): Selecting agent ka_rp_explore_1 (TV: 0.75) to execute (TE: 134)\n",
      "INFO [2020-05-06 17:03:32.576135] (ka_br_lvl3): Core core_[69.08, 65.61, 0.18] Fitness: 2.9997603925128815\n",
      "INFO [2020-05-06 17:03:35.552846] (bb): Selecting agent ka_br_lvl3 (TV: 3) to execute (TE: 135)\n",
      "INFO [2020-05-06 17:03:37.101999] (ka_br_lvl3): Core core_[77.9, 59.12, 0.57] Fitness: 2.3817862690384937\n",
      "INFO [2020-05-06 17:03:38.565853] (bb): Selecting agent ka_rp_explore_2 (TV: 0.75) to execute (TE: 136)\n",
      "INFO [2020-05-06 17:03:38.605249] (ka_br_lvl3): Core core_[77.9, 59.12, 0.57] Fitness: 2.3817862690384937\n",
      "INFO [2020-05-06 17:03:41.577144] (bb): Selecting agent ka_br_lvl2 (TV: 4) to execute (TE: 137)\n",
      "INFO [2020-05-06 17:03:41.604280] (ka_br_lvl3): Core core_[77.9, 59.12, 0.57] Fitness: 2.3817862690384937\n",
      "INFO [2020-05-06 17:03:44.591994] (bb): Selecting agent ka_rp_explore_1 (TV: 1.0) to execute (TE: 138)\n",
      "INFO [2020-05-06 17:03:44.627607] (ka_br_lvl3): Core core_[77.9, 59.12, 0.57] Fitness: 2.3817862690384937\n",
      "INFO [2020-05-06 17:03:47.601215] (bb): Selecting agent ka_rp_exploit (TV: 5) to execute (TE: 139)\n",
      "INFO [2020-05-06 17:03:47.643489] (ka_br_lvl3): Core core_[77.9, 59.12, 0.57] Fitness: 2.3817862690384937\n",
      "INFO [2020-05-06 17:03:50.625549] (bb): Selecting agent ka_br_lvl3 (TV: 3) to execute (TE: 140)\n",
      "INFO [2020-05-06 17:03:50.628672] (bb): Writing blackboard to archive\n",
      "INFO [2020-05-06 17:03:56.641724] (bb): Finished writing to archive\n",
      "INFO [2020-05-06 17:03:59.652131] (bb): Selecting agent ka_rp_explore_2 (TV: 1.25) to execute (TE: 141)\n",
      "INFO [2020-05-06 17:04:00.210989] (ka_br_lvl3): Core core_[62.65, 66.14, 0.6] Fitness: 2.1242034956738296\n",
      "INFO [2020-05-06 17:04:00.229174] (ka_br_lvl3): Core core_[62.65, 66.14, 0.6] Fitness: 2.1242034956738296\n",
      "INFO [2020-05-06 17:04:02.660285] (bb): Selecting agent ka_rp_explore_1 (TV: 1.0) to execute (TE: 142)\n",
      "INFO [2020-05-06 17:04:02.696807] (ka_br_lvl3): Core core_[62.65, 66.14, 0.6] Fitness: 2.1242034956738296\n",
      "INFO [2020-05-06 17:04:05.673563] (bb): Selecting agent ka_br_lvl3 (TV: 3) to execute (TE: 143)\n",
      "INFO [2020-05-06 17:04:08.684237] (bb): Selecting agent ka_rp_explore_2 (TV: 0.75) to execute (TE: 144)\n",
      "INFO [2020-05-06 17:04:09.244040] (ka_br_lvl3): Core core_[59.3, 65.82, 0.66] Fitness: 1.9340944203938775\n",
      "INFO [2020-05-06 17:04:09.262211] (ka_br_lvl3): Core core_[59.3, 65.82, 0.66] Fitness: 1.9340944203938775\n",
      "INFO [2020-05-06 17:04:11.694401] (bb): Selecting agent ka_rp_explore_1 (TV: 0.75) to execute (TE: 145)\n",
      "INFO [2020-05-06 17:04:11.732098] (ka_br_lvl3): Core core_[59.3, 65.82, 0.66] Fitness: 1.9340944203938775\n",
      "INFO [2020-05-06 17:04:14.705820] (bb): Selecting agent ka_rp_explore_2 (TV: 0.5) to execute (TE: 146)\n",
      "INFO [2020-05-06 17:04:14.743764] (ka_br_lvl3): Core core_[59.3, 65.82, 0.66] Fitness: 1.9340944203938775\n",
      "INFO [2020-05-06 17:04:17.716382] (bb): Selecting agent ka_rp_explore_1 (TV: 0.5) to execute (TE: 147)\n",
      "INFO [2020-05-06 17:04:17.745560] (ka_br_lvl3): Core core_[59.3, 65.82, 0.66] Fitness: 1.9340944203938775\n",
      "INFO [2020-05-06 17:04:20.727596] (bb): Selecting agent ka_rp_explore_2 (TV: 0.5) to execute (TE: 148)\n",
      "INFO [2020-05-06 17:04:20.767302] (ka_br_lvl3): Core core_[59.3, 65.82, 0.66] Fitness: 1.9340944203938775\n",
      "INFO [2020-05-06 17:04:23.738519] (bb): Selecting agent ka_br_lvl3 (TV: 3) to execute (TE: 149)\n",
      "INFO [2020-05-06 17:04:25.283102] (ka_br_lvl3): Core core_[56.48, 68.07, 0.6] Fitness: 2.0100831285265097\n",
      "INFO [2020-05-06 17:04:26.750481] (bb): Selecting agent ka_rp_explore_1 (TV: 0.75) to execute (TE: 150)\n",
      "INFO [2020-05-06 17:04:26.803567] (ka_br_lvl3): Core core_[56.48, 68.07, 0.6] Fitness: 2.0100831285265097\n",
      "INFO [2020-05-06 17:04:29.760177] (bb): Selecting agent ka_br_lvl2 (TV: 4) to execute (TE: 151)\n",
      "INFO [2020-05-06 17:04:29.791391] (ka_br_lvl3): Core core_[56.48, 68.07, 0.6] Fitness: 2.0100831285265097\n",
      "INFO [2020-05-06 17:04:32.768302] (bb): Selecting agent ka_br_lvl3 (TV: 3) to execute (TE: 152)\n",
      "INFO [2020-05-06 17:04:35.779678] (bb): Selecting agent ka_rp_exploit (TV: 5) to execute (TE: 153)\n",
      "INFO [2020-05-06 17:04:36.349396] (ka_br_lvl3): Core core_[69.7708, 65.61, 0.18] Fitness: 3.0535812048259943\n",
      "INFO [2020-05-06 17:04:36.366392] (ka_br_lvl3): Core core_[69.7708, 65.61, 0.18] Fitness: 3.0535812048259943\n",
      "INFO [2020-05-06 17:04:38.805273] (bb): Selecting agent ka_br_lvl3 (TV: 3) to execute (TE: 154)\n",
      "INFO [2020-05-06 17:04:41.812668] (bb): Selecting agent ka_rp_explore_2 (TV: 1.75) to execute (TE: 155)\n",
      "INFO [2020-05-06 17:04:44.822033] (bb): Selecting agent ka_rp_explore_1 (TV: 1.5) to execute (TE: 156)\n",
      "INFO [2020-05-06 17:04:45.399842] (ka_br_lvl3): Core core_[69.08, 66.2661, 0.18] Fitness: 2.9896522430356516\n",
      "INFO [2020-05-06 17:04:45.419166] (ka_br_lvl3): Core core_[69.08, 66.2661, 0.18] Fitness: 2.9896522430356516\n",
      "INFO [2020-05-06 17:04:45.437647] (ka_br_lvl3): Core core_[69.08, 66.2661, 0.18] Fitness: 2.9896522430356516\n",
      "INFO [2020-05-06 17:04:47.830112] (bb): Selecting agent ka_rp_explore_2 (TV: 0.5) to execute (TE: 157)\n",
      "INFO [2020-05-06 17:04:47.871062] (ka_br_lvl3): Core core_[69.08, 66.2661, 0.18] Fitness: 2.9896522430356516\n",
      "INFO [2020-05-06 17:04:50.841532] (bb): Selecting agent ka_br_lvl3 (TV: 3) to execute (TE: 158)\n",
      "INFO [2020-05-06 17:04:53.405862] (ka_br_lvl3): Core core_[69.08, 65.61, 0.1818] Fitness: 2.998195491772203\n",
      "INFO [2020-05-06 17:04:53.852969] (bb): Selecting agent ka_br_lvl3 (TV: 3) to execute (TE: 159)\n",
      "INFO [2020-05-06 17:04:56.865762] (bb): Selecting agent ka_rp_explore_1 (TV: 1.0) to execute (TE: 160)\n",
      "INFO [2020-05-06 17:04:56.868791] (bb): Writing blackboard to archive\n",
      "INFO [2020-05-06 17:05:02.877183] (bb): Finished writing to archive\n",
      "INFO [2020-05-06 17:05:05.889460] (bb): Selecting agent ka_rp_explore_2 (TV: 1.0) to execute (TE: 161)\n",
      "INFO [2020-05-06 17:05:06.425913] (ka_br_lvl3): Core core_[73.55, 58.58, 0.93] Fitness: 1.6094073909057034\n",
      "INFO [2020-05-06 17:05:06.444506] (ka_br_lvl3): Core core_[73.55, 58.58, 0.93] Fitness: 1.6094073909057034\n",
      "INFO [2020-05-06 17:05:06.462446] (ka_br_lvl3): Core core_[73.55, 58.58, 0.93] Fitness: 1.6094073909057034\n",
      "INFO [2020-05-06 17:05:08.903417] (bb): Selecting agent ka_br_lvl3 (TV: 3) to execute (TE: 162)\n",
      "INFO [2020-05-06 17:05:11.458454] (ka_br_lvl3): Core core_[62.56, 64.32, 0.92] Fitness: 1.4732641149257124\n"
     ]
    },
    {
     "name": "stdout",
     "output_type": "stream",
     "text": [
      "INFO [2020-05-06 17:05:11.911585] (bb): Selecting agent ka_br_lvl3 (TV: 3) to execute (TE: 163)\n",
      "INFO [2020-05-06 17:05:14.922691] (bb): Selecting agent ka_rp_explore_1 (TV: 1.0) to execute (TE: 164)\n",
      "INFO [2020-05-06 17:05:17.931642] (bb): Selecting agent ka_rp_explore_2 (TV: 1.0) to execute (TE: 165)\n",
      "INFO [2020-05-06 17:05:19.521571] (ka_br_lvl3): Core core_[58.707, 65.82, 0.66] Fitness: 1.9319260760968815\n",
      "INFO [2020-05-06 17:05:19.541721] (ka_br_lvl3): Core core_[58.707, 65.82, 0.66] Fitness: 1.9319260760968815\n",
      "INFO [2020-05-06 17:05:19.560322] (ka_br_lvl3): Core core_[58.707, 65.82, 0.66] Fitness: 1.9319260760968815\n",
      "INFO [2020-05-06 17:05:20.940072] (bb): Selecting agent ka_rp_explore_1 (TV: 0.5) to execute (TE: 166)\n",
      "INFO [2020-05-06 17:05:20.981694] (ka_br_lvl3): Core core_[58.707, 65.82, 0.66] Fitness: 1.9319260760968815\n",
      "INFO [2020-05-06 17:05:23.948070] (bb): Selecting agent ka_rp_explore_2 (TV: 0.5) to execute (TE: 167)\n",
      "INFO [2020-05-06 17:05:23.989653] (ka_br_lvl3): Core core_[58.707, 65.82, 0.66] Fitness: 1.9319260760968815\n",
      "INFO [2020-05-06 17:05:26.956359] (bb): Selecting agent ka_rp_explore_1 (TV: 0.5) to execute (TE: 168)\n",
      "INFO [2020-05-06 17:05:26.998275] (ka_br_lvl3): Core core_[58.707, 65.82, 0.66] Fitness: 1.9319260760968815\n",
      "INFO [2020-05-06 17:05:29.964301] (bb): Selecting agent ka_rp_explore_2 (TV: 0.5) to execute (TE: 169)\n",
      "INFO [2020-05-06 17:05:30.002385] (ka_br_lvl3): Core core_[58.707, 65.82, 0.66] Fitness: 1.9319260760968815\n",
      "INFO [2020-05-06 17:05:32.971963] (bb): Selecting agent ka_rp_explore_1 (TV: 0.5) to execute (TE: 170)\n",
      "INFO [2020-05-06 17:05:33.010674] (ka_br_lvl3): Core core_[58.707, 65.82, 0.66] Fitness: 1.9319260760968815\n",
      "INFO [2020-05-06 17:05:35.981292] (bb): Selecting agent ka_rp_explore_2 (TV: 0.5) to execute (TE: 171)\n",
      "INFO [2020-05-06 17:05:36.023031] (ka_br_lvl3): Core core_[58.707, 65.82, 0.66] Fitness: 1.9319260760968815\n",
      "INFO [2020-05-06 17:05:38.990516] (bb): Selecting agent ka_rp_explore_1 (TV: 0.5) to execute (TE: 172)\n",
      "INFO [2020-05-06 17:05:39.027936] (ka_br_lvl3): Core core_[58.707, 65.82, 0.66] Fitness: 1.9319260760968815\n",
      "INFO [2020-05-06 17:05:42.002054] (bb): Selecting agent ka_br_lvl3 (TV: 3) to execute (TE: 173)\n",
      "INFO [2020-05-06 17:05:43.548417] (ka_br_lvl3): Core core_[59.893, 65.82, 0.66] Fitness: 1.9362627646908732\n",
      "INFO [2020-05-06 17:05:45.013616] (bb): Selecting agent ka_br_lvl3 (TV: 3) to execute (TE: 174)\n",
      "INFO [2020-05-06 17:05:46.559994] (ka_br_lvl3): Core core_[59.3, 65.1618, 0.66] Fitness: 1.936037375266644\n",
      "INFO [2020-05-06 17:05:48.020768] (bb): Selecting agent ka_br_lvl2 (TV: 4) to execute (TE: 175)\n",
      "INFO [2020-05-06 17:05:48.054557] (ka_br_lvl3): Core core_[59.3, 65.1618, 0.66] Fitness: 1.936037375266644\n",
      "INFO [2020-05-06 17:05:51.030525] (bb): Selecting agent ka_rp_explore_2 (TV: 1.25) to execute (TE: 176)\n",
      "INFO [2020-05-06 17:05:51.077610] (ka_br_lvl3): Core core_[59.3, 65.1618, 0.66] Fitness: 1.936037375266644\n",
      "INFO [2020-05-06 17:05:54.045637] (bb): Selecting agent ka_rp_exploit (TV: 5) to execute (TE: 177)\n",
      "INFO [2020-05-06 17:05:54.098029] (ka_br_lvl3): Core core_[59.3, 65.1618, 0.66] Fitness: 1.936037375266644\n",
      "INFO [2020-05-06 17:05:57.078520] (bb): Selecting agent ka_rp_explore_1 (TV: 1.5) to execute (TE: 178)\n",
      "INFO [2020-05-06 17:05:57.115790] (ka_br_lvl3): Core core_[59.3, 65.1618, 0.66] Fitness: 1.936037375266644\n",
      "INFO [2020-05-06 17:06:00.087292] (bb): Selecting agent ka_br_lvl3 (TV: 3) to execute (TE: 179)\n",
      "INFO [2020-05-06 17:06:01.637008] (ka_br_lvl3): Core core_[59.3, 66.4782, 0.66] Fitness: 1.9321514655211098\n",
      "INFO [2020-05-06 17:06:03.098673] (bb): Selecting agent ka_br_lvl3 (TV: 3) to execute (TE: 180)\n",
      "INFO [2020-05-06 17:06:04.644071] (ka_br_lvl3): Core core_[59.3, 65.82, 0.6534] Fitness: 1.9481259867249034\n",
      "INFO [2020-05-06 17:06:06.107621] (bb): Selecting agent ka_br_lvl2 (TV: 4) to execute (TE: 181)\n",
      "INFO [2020-05-06 17:06:06.143407] (ka_br_lvl3): Core core_[59.3, 65.82, 0.6534] Fitness: 1.9481259867249034\n",
      "INFO [2020-05-06 17:06:09.117110] (bb): Selecting agent ka_br_lvl3 (TV: 3) to execute (TE: 182)\n",
      "INFO [2020-05-06 17:06:10.660483] (ka_br_lvl3): Core core_[59.3, 65.82, 0.6666] Fitness: 1.9200628540628513\n",
      "INFO [2020-05-06 17:06:12.126650] (bb): Selecting agent ka_rp_exploit (TV: 5) to execute (TE: 183)\n",
      "INFO [2020-05-06 17:06:12.190673] (ka_br_lvl3): Core core_[59.3, 65.82, 0.6666] Fitness: 1.9200628540628513\n",
      "INFO [2020-05-06 17:06:15.157000] (bb): Selecting agent ka_br_lvl3 (TV: 3) to execute (TE: 184)\n",
      "INFO [2020-05-06 17:06:18.170424] (bb): Selecting agent ka_rp_explore_2 (TV: 2.25) to execute (TE: 185)\n",
      "INFO [2020-05-06 17:06:20.257167] (ka_br_lvl3): Core core_[62.37, 68.8, 0.41] Fitness: 2.5322442651136146\n",
      "INFO [2020-05-06 17:06:20.279721] (ka_br_lvl3): Core core_[62.37, 68.8, 0.41] Fitness: 2.5322442651136146\n",
      "INFO [2020-05-06 17:06:21.181226] (bb): Selecting agent ka_br_lvl3 (TV: 3) to execute (TE: 186)\n",
      "INFO [2020-05-06 17:06:24.193057] (bb): Selecting agent ka_rp_explore_1 (TV: 2.25) to execute (TE: 187)\n",
      "INFO [2020-05-06 17:06:24.267818] (ka_br_lvl3): Core core_[61.86, 67.9, 0.67] Fitness: 1.9464108174120323\n",
      "INFO [2020-05-06 17:06:24.285760] (ka_br_lvl3): Core core_[61.86, 67.9, 0.67] Fitness: 1.9464108174120323\n",
      "INFO [2020-05-06 17:06:27.203388] (bb): Selecting agent ka_br_lvl3 (TV: 3) to execute (TE: 188)\n",
      "INFO [2020-05-06 17:06:30.212359] (bb): Selecting agent ka_rp_explore_2 (TV: 1.0) to execute (TE: 189)\n",
      "INFO [2020-05-06 17:06:30.796175] (ka_br_lvl3): Core core_[72.69, 57.15, 0.5] Fitness: 2.5509187378175118\n",
      "INFO [2020-05-06 17:06:30.818877] (ka_br_lvl3): Core core_[72.69, 57.15, 0.5] Fitness: 2.5509187378175118\n",
      "INFO [2020-05-06 17:06:33.225716] (bb): Selecting agent ka_br_lvl3 (TV: 3) to execute (TE: 190)\n",
      "INFO [2020-05-06 17:06:34.775280] (ka_br_lvl3): Core core_[76.92, 63.54, 0.71] Fitness: 1.9326722203436404\n",
      "INFO [2020-05-06 17:06:36.235831] (bb): Selecting agent ka_br_lvl3 (TV: 3) to execute (TE: 191)\n",
      "INFO [2020-05-06 17:06:39.246524] (bb): Selecting agent ka_rp_explore_1 (TV: 1.25) to execute (TE: 192)\n",
      "INFO [2020-05-06 17:06:42.260432] (bb): Selecting agent ka_rp_explore_2 (TV: 1.0) to execute (TE: 193)\n",
      "INFO [2020-05-06 17:06:44.913141] (ka_br_lvl3): Core core_[66.42, 58.53, 0.85] Fitness: 1.700297790813003\n",
      "INFO [2020-05-06 17:06:44.936204] (ka_br_lvl3): Core core_[66.42, 58.53, 0.85] Fitness: 1.700297790813003\n",
      "INFO [2020-05-06 17:06:44.957091] (ka_br_lvl3): Core core_[66.42, 58.53, 0.85] Fitness: 1.700297790813003\n",
      "INFO [2020-05-06 17:06:45.270523] (bb): Selecting agent ka_br_lvl3 (TV: 3) to execute (TE: 194)\n",
      "INFO [2020-05-06 17:06:48.280060] (bb): Selecting agent ka_rp_explore_1 (TV: 0.75) to execute (TE: 195)\n",
      "INFO [2020-05-06 17:06:49.870254] (ka_br_lvl3): Core core_[58.1199, 65.82, 0.66] Fitness: 1.9281332685482384\n",
      "INFO [2020-05-06 17:06:49.892015] (ka_br_lvl3): Core core_[58.1199, 65.82, 0.66] Fitness: 1.9281332685482384\n",
      "INFO [2020-05-06 17:06:51.287332] (bb): Selecting agent ka_br_lvl3 (TV: 3) to execute (TE: 196)\n",
      "INFO [2020-05-06 17:06:53.845721] (ka_br_lvl3): Core core_[59.2941, 65.82, 0.66] Fitness: 1.9340728466479202\n",
      "INFO [2020-05-06 17:06:54.295596] (bb): Selecting agent ka_br_lvl3 (TV: 3) to execute (TE: 197)\n",
      "INFO [2020-05-06 17:06:55.851276] (ka_br_lvl3): Core core_[58.707, 65.1618, 0.66] Fitness: 1.9338690309696478\n",
      "INFO [2020-05-06 17:06:57.305015] (bb): Selecting agent ka_br_lvl3 (TV: 3) to execute (TE: 198)\n",
      "INFO [2020-05-06 17:06:58.863458] (ka_br_lvl3): Core core_[58.707, 66.4782, 0.66] Fitness: 1.9299831212241148\n",
      "INFO [2020-05-06 17:07:00.313132] (bb): Selecting agent ka_rp_explore_2 (TV: 1.5) to execute (TE: 199)\n",
      "INFO [2020-05-06 17:07:00.368524] (ka_br_lvl3): Core core_[58.707, 66.4782, 0.66] Fitness: 1.9299831212241148\n",
      "INFO [2020-05-06 17:07:03.321219] (bb): Selecting agent ka_br_lvl2 (TV: 4) to execute (TE: 200)\n",
      "INFO [2020-05-06 17:07:03.360181] (ka_br_lvl3): Core core_[58.707, 66.4782, 0.66] Fitness: 1.9299831212241148\n",
      "INFO [2020-05-06 17:07:06.333077] (bb): Selecting agent ka_rp_explore_1 (TV: 1.5) to execute (TE: 201)\n",
      "INFO [2020-05-06 17:07:06.378023] (ka_br_lvl3): Core core_[58.707, 66.4782, 0.66] Fitness: 1.9299831212241148\n",
      "INFO [2020-05-06 17:07:09.345917] (bb): Selecting agent ka_rp_exploit (TV: 5) to execute (TE: 202)\n",
      "INFO [2020-05-06 17:07:09.404413] (ka_br_lvl3): Core core_[58.707, 66.4782, 0.66] Fitness: 1.9299831212241148\n"
     ]
    },
    {
     "name": "stdout",
     "output_type": "stream",
     "text": [
      "INFO [2020-05-06 17:07:12.380016] (bb): Selecting agent ka_br_lvl3 (TV: 3) to execute (TE: 203)\n",
      "INFO [2020-05-06 17:07:15.391627] (bb): Selecting agent ka_rp_explore_2 (TV: 1.25) to execute (TE: 204)\n",
      "INFO [2020-05-06 17:07:15.573016] (ka_br_lvl3): Core core_[58.707, 65.82, 0.6534] Fitness: 1.9459576424279073\n",
      "INFO [2020-05-06 17:07:15.597529] (ka_br_lvl3): Core core_[58.707, 65.82, 0.6534] Fitness: 1.9459576424279073\n",
      "INFO [2020-05-06 17:07:18.404086] (bb): Selecting agent ka_rp_explore_1 (TV: 1.0) to execute (TE: 205)\n",
      "INFO [2020-05-06 17:07:18.455509] (ka_br_lvl3): Core core_[58.707, 65.82, 0.6534] Fitness: 1.9459576424279073\n",
      "INFO [2020-05-06 17:07:21.414713] (bb): Selecting agent ka_br_lvl3 (TV: 3) to execute (TE: 206)\n",
      "INFO [2020-05-06 17:07:22.968898] (ka_br_lvl3): Core core_[58.707, 65.82, 0.6666] Fitness: 1.9178945097658557\n",
      "INFO [2020-05-06 17:07:24.425657] (bb): Selecting agent ka_br_lvl3 (TV: 3) to execute (TE: 207)\n",
      "INFO [2020-05-06 17:07:27.004519] (ka_br_lvl3): Core core_[59.893, 65.1618, 0.66] Fitness: 1.93820571956364\n",
      "INFO [2020-05-06 17:07:27.438438] (bb): Selecting agent ka_br_lvl3 (TV: 3) to execute (TE: 208)\n",
      "INFO [2020-05-06 17:07:30.449215] (bb): Selecting agent ka_rp_explore_2 (TV: 1.25) to execute (TE: 209)\n",
      "INFO [2020-05-06 17:07:31.006645] (ka_br_lvl3): Core core_[59.3, 64.5102, 0.66] Fitness: 1.9379608474560923\n",
      "INFO [2020-05-06 17:07:31.029713] (ka_br_lvl3): Core core_[59.3, 64.5102, 0.66] Fitness: 1.9379608474560923\n",
      "INFO [2020-05-06 17:07:33.462143] (bb): Selecting agent ka_br_lvl3 (TV: 3) to execute (TE: 210)\n",
      "INFO [2020-05-06 17:07:35.018043] (ka_br_lvl3): Core core_[59.3, 65.8134, 0.66] Fitness: 1.9341139030771957\n",
      "INFO [2020-05-06 17:07:36.473778] (bb): Selecting agent ka_br_lvl3 (TV: 3) to execute (TE: 211)\n",
      "INFO [2020-05-06 17:07:38.023550] (ka_br_lvl3): Core core_[59.3, 65.1618, 0.6534] Fitness: 1.9500689415976704\n",
      "INFO [2020-05-06 17:07:39.484030] (bb): Selecting agent ka_br_lvl3 (TV: 3) to execute (TE: 212)\n",
      "INFO [2020-05-06 17:07:41.035902] (ka_br_lvl3): Core core_[59.3, 65.1618, 0.6666] Fitness: 1.9220058089356185\n",
      "INFO [2020-05-06 17:07:42.494669] (bb): Selecting agent ka_br_lvl3 (TV: 3) to execute (TE: 213)\n",
      "INFO [2020-05-06 17:07:44.042319] (ka_br_lvl3): Core core_[64.41, 61.35, 0.62] Fitness: 2.119155921562422\n",
      "INFO [2020-05-06 17:07:45.507225] (bb): Selecting agent ka_rp_explore_1 (TV: 2.25) to execute (TE: 214)\n",
      "INFO [2020-05-06 17:07:45.569093] (ka_br_lvl3): Core core_[64.41, 61.35, 0.62] Fitness: 2.119155921562422\n",
      "INFO [2020-05-06 17:07:48.516841] (bb): Selecting agent ka_br_lvl3 (TV: 3) to execute (TE: 215)\n",
      "INFO [2020-05-06 17:07:51.529428] (bb): Selecting agent ka_rp_explore_2 (TV: 1.75) to execute (TE: 216)\n",
      "INFO [2020-05-06 17:07:54.141452] (ka_br_lvl3): Core core_[75.29, 64.41, 0.49] Fitness: 2.4446169314871695\n",
      "INFO [2020-05-06 17:07:54.163989] (ka_br_lvl3): Core core_[75.29, 64.41, 0.49] Fitness: 2.4446169314871695\n",
      "INFO [2020-05-06 17:07:54.541646] (bb): Selecting agent ka_rp_explore_1 (TV: 0.75) to execute (TE: 217)\n",
      "INFO [2020-05-06 17:07:54.588336] (ka_br_lvl3): Core core_[75.29, 64.41, 0.49] Fitness: 2.4446169314871695\n",
      "INFO [2020-05-06 17:07:57.551388] (bb): Selecting agent ka_rp_explore_2 (TV: 0.5) to execute (TE: 218)\n",
      "INFO [2020-05-06 17:07:57.601489] (ka_br_lvl3): Core core_[75.29, 64.41, 0.49] Fitness: 2.4446169314871695\n",
      "INFO [2020-05-06 17:08:00.562836] (bb): Selecting agent ka_br_lvl3 (TV: 3) to execute (TE: 219)\n",
      "INFO [2020-05-06 17:08:03.570359] (bb): Selecting agent ka_rp_explore_1 (TV: 0.75) to execute (TE: 220)\n",
      "INFO [2020-05-06 17:08:05.173157] (ka_br_lvl3): Core core_[58.1199, 65.1618, 0.66] Fitness: 1.930076223421005\n",
      "INFO [2020-05-06 17:08:05.197318] (ka_br_lvl3): Core core_[58.1199, 65.1618, 0.66] Fitness: 1.930076223421005\n",
      "INFO [2020-05-06 17:08:06.578943] (bb): Selecting agent ka_br_lvl3 (TV: 3) to execute (TE: 221)\n",
      "INFO [2020-05-06 17:08:09.133203] (ka_br_lvl3): Core core_[59.2941, 65.1618, 0.66] Fitness: 1.9360158015206874\n",
      "INFO [2020-05-06 17:08:09.586829] (bb): Selecting agent ka_br_lvl3 (TV: 3) to execute (TE: 222)\n",
      "INFO [2020-05-06 17:08:11.141379] (ka_br_lvl3): Core core_[58.707, 64.5102, 0.66] Fitness: 1.9357925031590963\n",
      "INFO [2020-05-06 17:08:12.596228] (bb): Selecting agent ka_br_lvl2 (TV: 4) to execute (TE: 223)\n",
      "INFO [2020-05-06 17:08:12.639984] (ka_br_lvl3): Core core_[58.707, 64.5102, 0.66] Fitness: 1.9357925031590963\n",
      "INFO [2020-05-06 17:08:15.609052] (bb): Selecting agent ka_br_lvl3 (TV: 3) to execute (TE: 224)\n",
      "INFO [2020-05-06 17:08:17.162940] (ka_br_lvl3): Core core_[58.707, 65.8134, 0.66] Fitness: 1.9319455587802001\n",
      "INFO [2020-05-06 17:08:18.623714] (bb): Selecting agent ka_rp_exploit (TV: 5) to execute (TE: 225)\n",
      "INFO [2020-05-06 17:08:18.694796] (ka_br_lvl3): Core core_[58.707, 65.8134, 0.66] Fitness: 1.9319455587802001\n",
      "INFO [2020-05-06 17:08:21.662187] (bb): Selecting agent ka_rp_explore_2 (TV: 2.0) to execute (TE: 226)\n",
      "INFO [2020-05-06 17:08:21.693374] (ka_br_lvl3): Core core_[58.707, 65.8134, 0.66] Fitness: 1.9319455587802001\n",
      "INFO [2020-05-06 17:08:24.671325] (bb): Selecting agent ka_br_lvl3 (TV: 3) to execute (TE: 227)\n",
      "INFO [2020-05-06 17:08:26.733677] (ka_br_lvl3): Core core_[58.707, 65.1618, 0.6534] Fitness: 1.9479005973006742\n",
      "INFO [2020-05-06 17:08:27.680362] (bb): Selecting agent ka_rp_explore_1 (TV: 2.0) to execute (TE: 228)\n",
      "INFO [2020-05-06 17:08:27.730455] (ka_br_lvl3): Core core_[58.707, 65.1618, 0.6534] Fitness: 1.9479005973006742\n",
      "INFO [2020-05-06 17:08:30.687270] (bb): Selecting agent ka_br_lvl3 (TV: 3) to execute (TE: 229)\n",
      "INFO [2020-05-06 17:08:32.242394] (ka_br_lvl3): Core core_[58.707, 65.1618, 0.6666] Fitness: 1.919837464638622\n",
      "INFO [2020-05-06 17:08:33.696534] (bb): Selecting agent ka_br_lvl3 (TV: 3) to execute (TE: 230)\n",
      "INFO [2020-05-06 17:08:36.706558] (bb): Selecting agent ka_rp_explore_2 (TV: 1.25) to execute (TE: 231)\n",
      "INFO [2020-05-06 17:08:39.718077] (bb): Selecting agent ka_rp_explore_1 (TV: 1.0) to execute (TE: 232)\n",
      "INFO [2020-05-06 17:08:42.729954] (bb): No KA to execute, waiting to sends trigger again.\n",
      "INFO [2020-05-06 17:08:45.451496] (ka_br_lvl3): Core core_[57.5387, 65.1618, 0.66] Fitness: 1.9240511827364495\n",
      "INFO [2020-05-06 17:08:45.477527] (ka_br_lvl3): Core core_[57.5387, 65.1618, 0.66] Fitness: 1.9240511827364495\n",
      "INFO [2020-05-06 17:08:45.503158] (ka_br_lvl3): Core core_[57.5387, 65.1618, 0.66] Fitness: 1.9240511827364495\n",
      "INFO [2020-05-06 17:08:45.527024] (ka_br_lvl3): Core core_[57.5387, 65.1618, 0.66] Fitness: 1.9240511827364495\n",
      "INFO [2020-05-06 17:08:45.739836] (bb): No KA to execute, waiting to sends trigger again.\n",
      "INFO [2020-05-06 17:08:45.794188] (ka_br_lvl3): Core core_[57.5387, 65.1618, 0.66] Fitness: 1.9240511827364495\n",
      "INFO [2020-05-06 17:08:48.752488] (bb): Selecting agent ka_rp_explore_2 (TV: 1.0) to execute (TE: 235)\n",
      "INFO [2020-05-06 17:08:48.807243] (ka_br_lvl3): Core core_[57.5387, 65.1618, 0.66] Fitness: 1.9240511827364495\n",
      "INFO [2020-05-06 17:08:51.761594] (bb): Selecting agent ka_rp_explore_1 (TV: 1.0) to execute (TE: 236)\n",
      "INFO [2020-05-06 17:08:51.799316] (ka_br_lvl3): Core core_[57.5387, 65.1618, 0.66] Fitness: 1.9240511827364495\n",
      "INFO [2020-05-06 17:08:54.768578] (bb): Selecting agent ka_rp_explore_2 (TV: 0.5) to execute (TE: 237)\n",
      "INFO [2020-05-06 17:08:54.824050] (ka_br_lvl3): Core core_[57.5387, 65.1618, 0.66] Fitness: 1.9240511827364495\n",
      "INFO [2020-05-06 17:08:57.779743] (bb): Selecting agent ka_br_lvl3 (TV: 3) to execute (TE: 238)\n",
      "INFO [2020-05-06 17:08:59.335816] (ka_br_lvl3): Core core_[58.7011, 65.1618, 0.66] Fitness: 1.933847457223692\n",
      "INFO [2020-05-06 17:09:00.787881] (bb): Selecting agent ka_rp_explore_1 (TV: 0.75) to execute (TE: 239)\n",
      "INFO [2020-05-06 17:09:00.854496] (ka_br_lvl3): Core core_[58.7011, 65.1618, 0.66] Fitness: 1.933847457223692\n",
      "INFO [2020-05-06 17:09:03.795088] (bb): Selecting agent ka_br_lvl3 (TV: 3) to execute (TE: 240)\n",
      "INFO [2020-05-06 17:09:05.357454] (ka_br_lvl3): Core core_[58.1199, 64.5102, 0.66] Fitness: 1.9319996956104537\n",
      "INFO [2020-05-06 17:09:06.801308] (bb): Selecting agent ka_br_lvl3 (TV: 3) to execute (TE: 241)\n",
      "INFO [2020-05-06 17:09:08.362298] (ka_br_lvl3): Core core_[58.1199, 65.8134, 0.66] Fitness: 1.928152751231557\n",
      "INFO [2020-05-06 17:09:09.812495] (bb): Selecting agent ka_rp_explore_2 (TV: 1.25) to execute (TE: 242)\n"
     ]
    },
    {
     "name": "stdout",
     "output_type": "stream",
     "text": [
      "INFO [2020-05-06 17:09:09.875761] (ka_br_lvl3): Core core_[58.1199, 65.8134, 0.66] Fitness: 1.928152751231557\n",
      "INFO [2020-05-06 17:09:12.822551] (bb): Selecting agent ka_rp_explore_1 (TV: 1.0) to execute (TE: 243)\n",
      "INFO [2020-05-06 17:09:12.880054] (ka_br_lvl3): Core core_[58.1199, 65.8134, 0.66] Fitness: 1.928152751231557\n",
      "INFO [2020-05-06 17:09:15.835362] (bb): Selecting agent ka_br_lvl3 (TV: 3) to execute (TE: 244)\n",
      "INFO [2020-05-06 17:09:17.390962] (ka_br_lvl3): Core core_[58.1199, 65.1618, 0.6534] Fitness: 1.9434146202269988\n",
      "INFO [2020-05-06 17:09:18.847173] (bb): Selecting agent ka_rp_explore_2 (TV: 0.75) to execute (TE: 245)\n",
      "INFO [2020-05-06 17:09:18.905185] (ka_br_lvl3): Core core_[58.1199, 65.1618, 0.6534] Fitness: 1.9434146202269988\n",
      "INFO [2020-05-06 17:09:21.857537] (bb): Selecting agent ka_rp_explore_1 (TV: 0.75) to execute (TE: 246)\n",
      "INFO [2020-05-06 17:09:21.916481] (ka_br_lvl3): Core core_[58.1199, 65.1618, 0.6534] Fitness: 1.9434146202269988\n",
      "INFO [2020-05-06 17:09:24.870740] (bb): Selecting agent ka_rp_explore_2 (TV: 0.5) to execute (TE: 247)\n",
      "INFO [2020-05-06 17:09:24.926341] (ka_br_lvl3): Core core_[58.1199, 65.1618, 0.6534] Fitness: 1.9434146202269988\n",
      "INFO [2020-05-06 17:09:27.879245] (bb): Selecting agent ka_br_lvl3 (TV: 3) to execute (TE: 248)\n",
      "INFO [2020-05-06 17:09:29.443752] (ka_br_lvl3): Core core_[58.1199, 65.1618, 0.6666] Fitness: 1.9167378266150115\n",
      "INFO [2020-05-06 17:09:30.889147] (bb): Selecting agent ka_br_lvl3 (TV: 3) to execute (TE: 249)\n",
      "INFO [2020-05-06 17:09:33.473920] (ka_br_lvl3): Core core_[70.9, 68.36, 0.13] Fitness: 3.4215637071507166\n",
      "INFO [2020-05-06 17:09:33.902501] (bb): Selecting agent ka_rp_explore_1 (TV: 1.0) to execute (TE: 250)\n",
      "INFO [2020-05-06 17:09:33.905671] (bb): Writing blackboard to archive\n",
      "INFO [2020-05-06 17:09:39.908742] (bb): Finished writing to archive\n",
      "INFO [2020-05-06 17:09:39.953887] (ka_br_lvl3): Core core_[70.9, 68.36, 0.13] Fitness: 3.4215637071507166\n",
      "INFO [2020-05-06 17:09:42.912332] (bb): Selecting agent ka_br_lvl3 (TV: 3) to execute (TE: 251)\n",
      "INFO [2020-05-06 17:09:45.917526] (bb): Selecting agent ka_rp_explore_2 (TV: 1.25) to execute (TE: 252)\n",
      "INFO [2020-05-06 17:09:47.541297] (ka_br_lvl3): Core core_[64.21, 69.26, 0.43] Fitness: 2.4838681788039905\n",
      "INFO [2020-05-06 17:09:47.569572] (ka_br_lvl3): Core core_[64.21, 69.26, 0.43] Fitness: 2.4838681788039905\n",
      "INFO [2020-05-06 17:09:48.923397] (bb): Selecting agent ka_rp_explore_1 (TV: 0.75) to execute (TE: 253)\n",
      "INFO [2020-05-06 17:09:48.970674] (ka_br_lvl3): Core core_[64.21, 69.26, 0.43] Fitness: 2.4838681788039905\n",
      "INFO [2020-05-06 17:09:51.929072] (bb): Selecting agent ka_br_lvl3 (TV: 3) to execute (TE: 254)\n",
      "INFO [2020-05-06 17:09:54.935187] (bb): Selecting agent ka_rp_explore_2 (TV: 0.75) to execute (TE: 255)\n",
      "INFO [2020-05-06 17:09:55.538028] (ka_br_lvl3): Core core_[67.16, 57.33, 0.76] Fitness: 1.9085216454231178\n",
      "INFO [2020-05-06 17:09:55.565650] (ka_br_lvl3): Core core_[67.16, 57.33, 0.76] Fitness: 1.9085216454231178\n",
      "INFO [2020-05-06 17:09:57.941910] (bb): Selecting agent ka_rp_explore_1 (TV: 0.75) to execute (TE: 256)\n",
      "INFO [2020-05-06 17:09:58.003735] (ka_br_lvl3): Core core_[67.16, 57.33, 0.76] Fitness: 1.9085216454231178\n",
      "INFO [2020-05-06 17:10:00.950208] (bb): Selecting agent ka_rp_explore_2 (TV: 0.5) to execute (TE: 257)\n",
      "INFO [2020-05-06 17:10:01.010429] (ka_br_lvl3): Core core_[67.16, 57.33, 0.76] Fitness: 1.9085216454231178\n",
      "INFO [2020-05-06 17:10:03.960131] (bb): Selecting agent ka_br_lvl3 (TV: 3) to execute (TE: 258)\n",
      "INFO [2020-05-06 17:10:06.970286] (bb): Selecting agent ka_rp_explore_1 (TV: 0.75) to execute (TE: 259)\n",
      "INFO [2020-05-06 17:10:09.597585] (ka_br_lvl3): Core core_[61.34, 69.24, 0.34] Fitness: 2.693557416923385\n",
      "INFO [2020-05-06 17:10:09.625492] (ka_br_lvl3): Core core_[61.34, 69.24, 0.34] Fitness: 2.693557416923385\n",
      "INFO [2020-05-06 17:10:09.981334] (bb): Selecting agent ka_br_lvl2 (TV: 4) to execute (TE: 260)\n",
      "INFO [2020-05-06 17:10:10.029069] (ka_br_lvl3): Core core_[61.34, 69.24, 0.34] Fitness: 2.693557416923385\n",
      "INFO [2020-05-06 17:10:12.992496] (bb): Selecting agent ka_rp_explore_2 (TV: 1.0) to execute (TE: 261)\n",
      "INFO [2020-05-06 17:10:13.053710] (ka_br_lvl3): Core core_[61.34, 69.24, 0.34] Fitness: 2.693557416923385\n",
      "INFO [2020-05-06 17:10:16.006351] (bb): Selecting agent ka_rp_exploit (TV: 5) to execute (TE: 262)\n",
      "INFO [2020-05-06 17:10:16.078129] (ka_br_lvl3): Core core_[61.34, 69.24, 0.34] Fitness: 2.693557416923385\n",
      "INFO [2020-05-06 17:10:19.043905] (bb): Selecting agent ka_rp_explore_1 (TV: 1.0) to execute (TE: 263)\n",
      "INFO [2020-05-06 17:10:19.092855] (ka_br_lvl3): Core core_[61.34, 69.24, 0.34] Fitness: 2.693557416923385\n",
      "INFO [2020-05-06 17:10:22.052255] (bb): Selecting agent ka_br_lvl3 (TV: 3) to execute (TE: 264)\n",
      "INFO [2020-05-06 17:10:25.061331] (bb): Selecting agent ka_rp_explore_2 (TV: 1.0) to execute (TE: 265)\n",
      "INFO [2020-05-06 17:10:26.682511] (ka_br_lvl3): Core core_[64.17, 65.63, 0.7] Fitness: 1.943037620657831\n",
      "INFO [2020-05-06 17:10:26.711414] (ka_br_lvl3): Core core_[64.17, 65.63, 0.7] Fitness: 1.943037620657831\n",
      "INFO [2020-05-06 17:10:28.073642] (bb): Selecting agent ka_rp_explore_1 (TV: 0.75) to execute (TE: 266)\n",
      "INFO [2020-05-06 17:10:28.122570] (ka_br_lvl3): Core core_[64.17, 65.63, 0.7] Fitness: 1.943037620657831\n",
      "INFO [2020-05-06 17:10:31.086781] (bb): Selecting agent ka_br_lvl3 (TV: 3) to execute (TE: 267)\n",
      "INFO [2020-05-06 17:10:34.095958] (bb): Selecting agent ka_rp_explore_2 (TV: 0.75) to execute (TE: 268)\n",
      "INFO [2020-05-06 17:10:36.731690] (ka_br_lvl3): Core core_[72.71, 63.92, 0.18] Fitness: 3.284774510526237\n",
      "INFO [2020-05-06 17:10:36.761412] (ka_br_lvl3): Core core_[72.71, 63.92, 0.18] Fitness: 3.284774510526237\n",
      "INFO [2020-05-06 17:10:37.104243] (bb): Selecting agent ka_br_lvl3 (TV: 3) to execute (TE: 269)\n",
      "INFO [2020-05-06 17:10:38.668821] (ka_br_lvl3): Core core_[66.4884, 57.33, 0.76] Fitness: 1.8962214574247462\n",
      "INFO [2020-05-06 17:10:40.114466] (bb): Selecting agent ka_rp_explore_1 (TV: 1.0) to execute (TE: 270)\n",
      "INFO [2020-05-06 17:10:40.175387] (ka_br_lvl3): Core core_[66.4884, 57.33, 0.76] Fitness: 1.8962214574247462\n",
      "INFO [2020-05-06 17:10:43.126113] (bb): Selecting agent ka_rp_explore_2 (TV: 0.75) to execute (TE: 271)\n",
      "INFO [2020-05-06 17:10:43.188130] (ka_br_lvl3): Core core_[66.4884, 57.33, 0.76] Fitness: 1.8962214574247462\n",
      "INFO [2020-05-06 17:10:46.135433] (bb): Selecting agent ka_rp_explore_1 (TV: 0.5) to execute (TE: 272)\n",
      "INFO [2020-05-06 17:10:46.200137] (ka_br_lvl3): Core core_[66.4884, 57.33, 0.76] Fitness: 1.8962214574247462\n",
      "INFO [2020-05-06 17:10:49.144738] (bb): Selecting agent ka_br_lvl3 (TV: 3) to execute (TE: 273)\n",
      "INFO [2020-05-06 17:10:50.717627] (ka_br_lvl3): Core core_[67.8316, 57.33, 0.76] Fitness: 1.9055003300709192\n",
      "INFO [2020-05-06 17:10:52.156704] (bb): Selecting agent ka_br_lvl3 (TV: 3) to execute (TE: 274)\n",
      "INFO [2020-05-06 17:10:53.726967] (ka_br_lvl3): Core core_[67.16, 56.7567, 0.76] Fitness: 1.9068316943998775\n",
      "INFO [2020-05-06 17:10:55.166964] (bb): Selecting agent ka_rp_explore_2 (TV: 1.0) to execute (TE: 275)\n",
      "INFO [2020-05-06 17:10:55.237793] (ka_br_lvl3): Core core_[67.16, 56.7567, 0.76] Fitness: 1.9068316943998775\n",
      "INFO [2020-05-06 17:10:58.180127] (bb): Selecting agent ka_rp_explore_1 (TV: 1.0) to execute (TE: 276)\n",
      "INFO [2020-05-06 17:10:58.244829] (ka_br_lvl3): Core core_[67.16, 56.7567, 0.76] Fitness: 1.9068316943998775\n",
      "INFO [2020-05-06 17:11:01.188979] (bb): Selecting agent ka_br_lvl3 (TV: 3) to execute (TE: 277)\n",
      "INFO [2020-05-06 17:11:02.754375] (ka_br_lvl3): Core core_[67.16, 57.9033, 0.76] Fitness: 1.8978926923369384\n",
      "INFO [2020-05-06 17:11:04.199854] (bb): Selecting agent ka_rp_explore_2 (TV: 0.75) to execute (TE: 278)\n",
      "INFO [2020-05-06 17:11:04.276982] (ka_br_lvl3): Core core_[67.16, 57.9033, 0.76] Fitness: 1.8978926923369384\n",
      "INFO [2020-05-06 17:11:07.213127] (bb): Selecting agent ka_br_lvl3 (TV: 3) to execute (TE: 279)\n",
      "INFO [2020-05-06 17:11:08.778352] (ka_br_lvl3): Core core_[67.16, 57.33, 0.7524] Fitness: 1.9251754161543393\n",
      "INFO [2020-05-06 17:11:10.223795] (bb): Selecting agent ka_rp_explore_1 (TV: 1.0) to execute (TE: 280)\n",
      "INFO [2020-05-06 17:11:10.294243] (ka_br_lvl3): Core core_[67.16, 57.33, 0.7524] Fitness: 1.9251754161543393\n",
      "INFO [2020-05-06 17:11:13.237382] (bb): Selecting agent ka_rp_explore_2 (TV: 0.75) to execute (TE: 281)\n"
     ]
    },
    {
     "name": "stdout",
     "output_type": "stream",
     "text": [
      "INFO [2020-05-06 17:11:13.302862] (ka_br_lvl3): Core core_[67.16, 57.33, 0.7524] Fitness: 1.9251754161543393\n",
      "INFO [2020-05-06 17:11:16.247053] (bb): Selecting agent ka_rp_explore_1 (TV: 0.5) to execute (TE: 282)\n",
      "INFO [2020-05-06 17:11:16.312445] (ka_br_lvl3): Core core_[67.16, 57.33, 0.7524] Fitness: 1.9251754161543393\n",
      "INFO [2020-05-06 17:11:19.256382] (bb): Selecting agent ka_br_lvl3 (TV: 3) to execute (TE: 283)\n",
      "INFO [2020-05-06 17:11:20.824964] (ka_br_lvl3): Core core_[67.16, 57.33, 0.7676] Fitness: 1.8918678746918967\n",
      "INFO [2020-05-06 17:11:22.267636] (bb): Selecting agent ka_br_lvl3 (TV: 3) to execute (TE: 284)\n",
      "INFO [2020-05-06 17:11:24.855525] (ka_br_lvl3): Core core_[69.27, 64.07, 0.36] Fitness: 2.7499858562118313\n",
      "INFO [2020-05-06 17:11:25.279095] (bb): Selecting agent ka_br_lvl3 (TV: 3) to execute (TE: 285)\n",
      "INFO [2020-05-06 17:11:28.289266] (bb): Selecting agent ka_rp_explore_2 (TV: 1.25) to execute (TE: 286)\n",
      "INFO [2020-05-06 17:11:31.301459] (bb): Selecting agent ka_rp_explore_1 (TV: 1.25) to execute (TE: 287)\n",
      "INFO [2020-05-06 17:11:32.930527] (ka_br_lvl3): Core core_[75.77, 61.56, 0.48] Fitness: 2.5279715673760417\n",
      "INFO [2020-05-06 17:11:32.962484] (ka_br_lvl3): Core core_[75.77, 61.56, 0.48] Fitness: 2.5279715673760417\n",
      "INFO [2020-05-06 17:11:32.993179] (ka_br_lvl3): Core core_[75.77, 61.56, 0.48] Fitness: 2.5279715673760417\n",
      "INFO [2020-05-06 17:11:34.313572] (bb): Selecting agent ka_rp_explore_2 (TV: 0.5) to execute (TE: 288)\n",
      "INFO [2020-05-06 17:11:34.379553] (ka_br_lvl3): Core core_[75.77, 61.56, 0.48] Fitness: 2.5279715673760417\n",
      "INFO [2020-05-06 17:11:37.324816] (bb): Selecting agent ka_br_lvl3 (TV: 3) to execute (TE: 289)\n",
      "INFO [2020-05-06 17:11:40.335432] (bb): Selecting agent ka_rp_explore_1 (TV: 0.75) to execute (TE: 290)\n",
      "INFO [2020-05-06 17:11:40.338211] (bb): Writing blackboard to archive\n",
      "INFO [2020-05-06 17:11:46.347634] (bb): Finished writing to archive\n",
      "INFO [2020-05-06 17:11:48.889637] (ka_br_lvl3): Core core_[59.11, 68.48, 0.75] Fitness: 1.7342080200033916\n",
      "INFO [2020-05-06 17:11:48.921244] (ka_br_lvl3): Core core_[59.11, 68.48, 0.75] Fitness: 1.7342080200033916\n",
      "INFO [2020-05-06 17:11:49.356598] (bb): Selecting agent ka_br_lvl3 (TV: 3) to execute (TE: 291)\n",
      "INFO [2020-05-06 17:11:52.367613] (bb): Selecting agent ka_rp_explore_2 (TV: 1.0) to execute (TE: 292)\n",
      "INFO [2020-05-06 17:11:52.983344] (ka_br_lvl3): Core core_[66.95, 56.43, 0.96] Fitness: 1.511243335057785\n",
      "INFO [2020-05-06 17:11:53.014969] (ka_br_lvl3): Core core_[66.95, 56.43, 0.96] Fitness: 1.511243335057785\n",
      "INFO [2020-05-06 17:11:55.379166] (bb): Selecting agent ka_rp_explore_1 (TV: 0.75) to execute (TE: 293)\n",
      "INFO [2020-05-06 17:11:55.444784] (ka_br_lvl3): Core core_[66.95, 56.43, 0.96] Fitness: 1.511243335057785\n",
      "INFO [2020-05-06 17:11:58.387662] (bb): Selecting agent ka_br_lvl3 (TV: 3) to execute (TE: 294)\n",
      "INFO [2020-05-06 17:12:01.400018] (bb): Selecting agent ka_rp_explore_2 (TV: 0.75) to execute (TE: 295)\n",
      "INFO [2020-05-06 17:12:02.005784] (ka_br_lvl3): Core core_[77.79, 50.48, 0.89] Fitness: 1.8690087306981864\n",
      "INFO [2020-05-06 17:12:02.037806] (ka_br_lvl3): Core core_[77.79, 50.48, 0.89] Fitness: 1.8690087306981864\n",
      "INFO [2020-05-06 17:12:04.411307] (bb): Selecting agent ka_rp_explore_1 (TV: 0.75) to execute (TE: 296)\n",
      "INFO [2020-05-06 17:12:04.478645] (ka_br_lvl3): Core core_[77.79, 50.48, 0.89] Fitness: 1.8690087306981864\n",
      "INFO [2020-05-06 17:12:07.420862] (bb): Selecting agent ka_rp_explore_2 (TV: 0.5) to execute (TE: 297)\n",
      "INFO [2020-05-06 17:12:07.490111] (ka_br_lvl3): Core core_[77.79, 50.48, 0.89] Fitness: 1.8690087306981864\n",
      "INFO [2020-05-06 17:12:10.431073] (bb): Selecting agent ka_rp_explore_1 (TV: 0.5) to execute (TE: 298)\n",
      "INFO [2020-05-06 17:12:10.498869] (ka_br_lvl3): Core core_[77.79, 50.48, 0.89] Fitness: 1.8690087306981864\n",
      "INFO [2020-05-06 17:12:13.442687] (bb): Selecting agent ka_br_lvl3 (TV: 3) to execute (TE: 299)\n",
      "INFO [2020-05-06 17:12:16.455160] (bb): Selecting agent ka_rp_explore_2 (TV: 0.75) to execute (TE: 300)\n",
      "INFO [2020-05-06 17:12:16.457830] (bb): Writing blackboard to archive\n",
      "INFO [2020-05-06 17:12:22.467574] (bb): Finished writing to archive\n",
      "INFO [2020-05-06 17:12:23.493985] (ka_br_lvl3): Core core_[73.4, 56.7, 0.79] Fitness: 1.9553412299519781\n",
      "INFO [2020-05-06 17:12:23.526532] (ka_br_lvl3): Core core_[73.4, 56.7, 0.79] Fitness: 1.9553412299519781\n",
      "INFO [2020-05-06 17:12:25.476249] (bb): Selecting agent ka_br_lvl3 (TV: 3) to execute (TE: 301)\n",
      "INFO [2020-05-06 17:12:28.484997] (bb): Selecting agent ka_rp_explore_1 (TV: 1.0) to execute (TE: 302)\n",
      "INFO [2020-05-06 17:12:31.124221] (ka_br_lvl3): Core core_[70.59, 59.48, 0.62] Fitness: 2.235373482384804\n",
      "INFO [2020-05-06 17:12:31.155167] (ka_br_lvl3): Core core_[70.59, 59.48, 0.62] Fitness: 2.235373482384804\n",
      "INFO [2020-05-06 17:12:31.494566] (bb): Selecting agent ka_rp_explore_2 (TV: 0.75) to execute (TE: 303)\n",
      "INFO [2020-05-06 17:12:31.563209] (ka_br_lvl3): Core core_[70.59, 59.48, 0.62] Fitness: 2.235373482384804\n",
      "INFO [2020-05-06 17:12:34.506154] (bb): Selecting agent ka_br_lvl3 (TV: 3) to execute (TE: 304)\n",
      "INFO [2020-05-06 17:12:37.514387] (bb): Selecting agent ka_rp_explore_1 (TV: 0.75) to execute (TE: 305)\n",
      "INFO [2020-05-06 17:12:38.124094] (ka_br_lvl3): Core core_[70.27, 69.46, 0.33] Fitness: 2.737858441318977\n",
      "INFO [2020-05-06 17:12:38.156575] (ka_br_lvl3): Core core_[70.27, 69.46, 0.33] Fitness: 2.737858441318977\n",
      "INFO [2020-05-06 17:12:40.523164] (bb): Selecting agent ka_br_lvl3 (TV: 3) to execute (TE: 306)\n",
      "INFO [2020-05-06 17:12:43.532132] (bb): Selecting agent ka_rp_explore_2 (TV: 1.0) to execute (TE: 307)\n",
      "INFO [2020-05-06 17:12:44.142493] (ka_br_lvl3): Core core_[61.14, 69.26, 0.59] Fitness: 2.0896830765611867\n",
      "INFO [2020-05-06 17:12:44.175666] (ka_br_lvl3): Core core_[61.14, 69.26, 0.59] Fitness: 2.0896830765611867\n",
      "INFO [2020-05-06 17:12:46.541706] (bb): Selecting agent ka_br_lvl2 (TV: 4) to execute (TE: 308)\n",
      "INFO [2020-05-06 17:12:46.595698] (ka_br_lvl3): Core core_[61.14, 69.26, 0.59] Fitness: 2.0896830765611867\n",
      "INFO [2020-05-06 17:12:49.554854] (bb): Selecting agent ka_rp_explore_1 (TV: 1.0) to execute (TE: 309)\n",
      "INFO [2020-05-06 17:12:49.625462] (ka_br_lvl3): Core core_[61.14, 69.26, 0.59] Fitness: 2.0896830765611867\n",
      "INFO [2020-05-06 17:12:52.565168] (bb): Selecting agent ka_rp_exploit (TV: 5) to execute (TE: 310)\n",
      "INFO [2020-05-06 17:12:52.650106] (ka_br_lvl3): Core core_[61.14, 69.26, 0.59] Fitness: 2.0896830765611867\n",
      "INFO [2020-05-06 17:12:55.606565] (bb): Selecting agent ka_rp_explore_2 (TV: 1.0) to execute (TE: 311)\n",
      "INFO [2020-05-06 17:12:55.707701] (ka_br_lvl3): Core core_[61.14, 69.26, 0.59] Fitness: 2.0896830765611867\n",
      "INFO [2020-05-06 17:12:58.618196] (bb): Selecting agent ka_rp_explore_1 (TV: 0.75) to execute (TE: 312)\n",
      "INFO [2020-05-06 17:12:58.690315] (ka_br_lvl3): Core core_[61.14, 69.26, 0.59] Fitness: 2.0896830765611867\n",
      "INFO [2020-05-06 17:13:01.630153] (bb): Selecting agent ka_br_lvl3 (TV: 3) to execute (TE: 313)\n",
      "INFO [2020-05-06 17:13:04.639635] (bb): Selecting agent ka_rp_explore_2 (TV: 0.75) to execute (TE: 314)\n",
      "INFO [2020-05-06 17:13:05.260044] (ka_br_lvl3): Core core_[69.5673, 69.46, 0.33] Fitness: 2.7362222355964843\n",
      "INFO [2020-05-06 17:13:05.294595] (ka_br_lvl3): Core core_[69.5673, 69.46, 0.33] Fitness: 2.7362222355964843\n",
      "INFO [2020-05-06 17:13:07.648913] (bb): Selecting agent ka_br_lvl2 (TV: 4) to execute (TE: 315)\n",
      "INFO [2020-05-06 17:13:07.706077] (ka_br_lvl3): Core core_[69.5673, 69.46, 0.33] Fitness: 2.7362222355964843\n",
      "INFO [2020-05-06 17:13:10.660390] (bb): Selecting agent ka_br_lvl3 (TV: 3) to execute (TE: 316)\n",
      "INFO [2020-05-06 17:13:12.230632] (ka_br_lvl3): Core core_[70.9727, 69.46, 0.33] Fitness: 2.7314313589444734\n",
      "INFO [2020-05-06 17:13:13.671132] (bb): Selecting agent ka_rp_exploit (TV: 5) to execute (TE: 317)\n",
      "INFO [2020-05-06 17:13:13.753564] (ka_br_lvl3): Core core_[70.9727, 69.46, 0.33] Fitness: 2.7314313589444734\n",
      "INFO [2020-05-06 17:13:16.714018] (bb): Selecting agent ka_rp_explore_1 (TV: 1.5) to execute (TE: 318)\n",
      "INFO [2020-05-06 17:13:16.755743] (ka_br_lvl3): Core core_[70.9727, 69.46, 0.33] Fitness: 2.7314313589444734\n",
      "INFO [2020-05-06 17:13:19.725440] (bb): Selecting agent ka_rp_explore_2 (TV: 1.25) to execute (TE: 319)\n",
      "INFO [2020-05-06 17:13:19.799785] (ka_br_lvl3): Core core_[70.9727, 69.46, 0.33] Fitness: 2.7314313589444734\n"
     ]
    },
    {
     "name": "stdout",
     "output_type": "stream",
     "text": [
      "INFO [2020-05-06 17:13:22.739159] (bb): Selecting agent ka_br_lvl3 (TV: 3) to execute (TE: 320)\n",
      "INFO [2020-05-06 17:13:24.306240] (ka_br_lvl3): Core core_[70.27, 68.7654, 0.33] Fitness: 2.7513339499187133\n",
      "INFO [2020-05-06 17:13:25.750760] (bb): Selecting agent ka_br_lvl3 (TV: 3) to execute (TE: 321)\n",
      "INFO [2020-05-06 17:13:27.325913] (ka_br_lvl3): Core core_[70.27, 70.1546, 0.33] Fitness: nan\n",
      "INFO [2020-05-06 17:13:28.764522] (bb): Selecting agent ka_rp_explore_1 (TV: 1.0) to execute (TE: 322)\n",
      "INFO [2020-05-06 17:13:28.851140] (ka_br_lvl3): Core core_[70.27, 70.1546, 0.33] Fitness: nan\n",
      "INFO [2020-05-06 17:13:31.777593] (bb): Selecting agent ka_rp_explore_2 (TV: 1.0) to execute (TE: 323)\n",
      "INFO [2020-05-06 17:13:31.851854] (ka_br_lvl3): Core core_[70.27, 70.1546, 0.33] Fitness: nan\n",
      "INFO [2020-05-06 17:13:34.790857] (bb): Selecting agent ka_rp_explore_1 (TV: 0.5) to execute (TE: 324)\n",
      "INFO [2020-05-06 17:13:34.865038] (ka_br_lvl3): Core core_[70.27, 70.1546, 0.33] Fitness: nan\n",
      "INFO [2020-05-06 17:13:37.799891] (bb): Selecting agent ka_br_lvl3 (TV: 3) to execute (TE: 325)\n",
      "INFO [2020-05-06 17:13:39.374371] (ka_br_lvl3): Core core_[70.27, 69.46, 0.3267] Fitness: 2.7467764192476345\n",
      "INFO [2020-05-06 17:13:40.807890] (bb): Selecting agent ka_br_lvl3 (TV: 3) to execute (TE: 326)\n",
      "INFO [2020-05-06 17:13:42.381360] (ka_br_lvl3): Core core_[70.27, 69.46, 0.3333] Fitness: 2.7289404633903187\n",
      "INFO [2020-05-06 17:13:43.816203] (bb): Selecting agent ka_rp_explore_2 (TV: 1.0) to execute (TE: 327)\n",
      "INFO [2020-05-06 17:13:43.880180] (ka_br_lvl3): Core core_[70.27, 69.46, 0.3333] Fitness: 2.7289404633903187\n",
      "INFO [2020-05-06 17:13:46.827417] (bb): Selecting agent ka_br_lvl3 (TV: 3) to execute (TE: 328)\n",
      "INFO [2020-05-06 17:13:49.837577] (bb): Selecting agent ka_rp_explore_1 (TV: 1.25) to execute (TE: 329)\n",
      "INFO [2020-05-06 17:13:50.459958] (ka_br_lvl3): Core core_[60.95, 63.8, 0.75] Fitness: 1.7753242988785165\n",
      "INFO [2020-05-06 17:13:50.495954] (ka_br_lvl3): Core core_[60.95, 63.8, 0.75] Fitness: 1.7753242988785165\n",
      "INFO [2020-05-06 17:13:52.848269] (bb): Selecting agent ka_rp_explore_2 (TV: 0.75) to execute (TE: 330)\n",
      "INFO [2020-05-06 17:13:52.922432] (ka_br_lvl3): Core core_[60.95, 63.8, 0.75] Fitness: 1.7753242988785165\n",
      "INFO [2020-05-06 17:13:55.860670] (bb): Selecting agent ka_br_lvl3 (TV: 3) to execute (TE: 331)\n",
      "INFO [2020-05-06 17:13:57.433504] (ka_br_lvl3): Core core_[60.5286, 69.26, 0.59] Fitness: 2.0857946770508793\n",
      "INFO [2020-05-06 17:13:58.872981] (bb): Selecting agent ka_rp_explore_1 (TV: 0.75) to execute (TE: 332)\n",
      "INFO [2020-05-06 17:13:58.979257] (ka_br_lvl3): Core core_[60.5286, 69.26, 0.59] Fitness: 2.0857946770508793\n",
      "INFO [2020-05-06 17:14:01.883940] (bb): Selecting agent ka_rp_explore_2 (TV: 0.75) to execute (TE: 333)\n",
      "INFO [2020-05-06 17:14:01.957813] (ka_br_lvl3): Core core_[60.5286, 69.26, 0.59] Fitness: 2.0857946770508793\n",
      "INFO [2020-05-06 17:14:04.893153] (bb): Selecting agent ka_rp_explore_1 (TV: 0.5) to execute (TE: 334)\n",
      "INFO [2020-05-06 17:14:04.967151] (ka_br_lvl3): Core core_[60.5286, 69.26, 0.59] Fitness: 2.0857946770508793\n",
      "INFO [2020-05-06 17:14:07.902965] (bb): Selecting agent ka_rp_explore_2 (TV: 0.5) to execute (TE: 335)\n",
      "INFO [2020-05-06 17:14:07.979843] (ka_br_lvl3): Core core_[60.5286, 69.26, 0.59] Fitness: 2.0857946770508793\n",
      "INFO [2020-05-06 17:14:10.911003] (bb): Selecting agent ka_br_lvl3 (TV: 3) to execute (TE: 336)\n",
      "INFO [2020-05-06 17:14:12.483960] (ka_br_lvl3): Core core_[61.7514, 69.26, 0.59] Fitness: 2.0879005543076876\n",
      "INFO [2020-05-06 17:14:13.923906] (bb): Selecting agent ka_rp_explore_1 (TV: 0.75) to execute (TE: 337)\n",
      "INFO [2020-05-06 17:14:14.020136] (ka_br_lvl3): Core core_[61.7514, 69.26, 0.59] Fitness: 2.0879005543076876\n",
      "INFO [2020-05-06 17:14:16.933705] (bb): Selecting agent ka_br_lvl3 (TV: 3) to execute (TE: 338)\n",
      "INFO [2020-05-06 17:14:18.507662] (ka_br_lvl3): Core core_[61.14, 68.5674, 0.59] Fitness: 2.1025436812459626\n",
      "INFO [2020-05-06 17:14:19.941588] (bb): Selecting agent ka_br_lvl3 (TV: 3) to execute (TE: 339)\n",
      "INFO [2020-05-06 17:14:21.517328] (ka_br_lvl3): Core core_[61.14, 69.9526, 0.59] Fitness: 2.071028457309752\n",
      "INFO [2020-05-06 17:14:22.948025] (bb): Selecting agent ka_rp_explore_2 (TV: 1.25) to execute (TE: 340)\n",
      "INFO [2020-05-06 17:14:23.035888] (ka_br_lvl3): Core core_[61.14, 69.9526, 0.59] Fitness: 2.071028457309752\n",
      "INFO [2020-05-06 17:14:25.957838] (bb): Selecting agent ka_br_lvl3 (TV: 3) to execute (TE: 341)\n",
      "INFO [2020-05-06 17:14:27.531942] (ka_br_lvl3): Core core_[61.14, 69.26, 0.5841] Fitness: 2.1026241970412065\n",
      "INFO [2020-05-06 17:14:28.967793] (bb): Selecting agent ka_br_lvl3 (TV: 3) to execute (TE: 342)\n",
      "INFO [2020-05-06 17:14:30.545978] (ka_br_lvl3): Core core_[61.14, 69.26, 0.5959] Fitness: 2.076741956081167\n",
      "INFO [2020-05-06 17:14:31.982198] (bb): Selecting agent ka_br_lvl3 (TV: 3) to execute (TE: 343)\n",
      "INFO [2020-05-06 17:14:34.990338] (bb): Selecting agent ka_rp_explore_1 (TV: 1.75) to execute (TE: 344)\n",
      "INFO [2020-05-06 17:14:36.621578] (ka_br_lvl3): Core core_[72.65, 61.22, 0.28] Fitness: 3.0234356111356258\n",
      "INFO [2020-05-06 17:14:36.658005] (ka_br_lvl3): Core core_[72.65, 61.22, 0.28] Fitness: 3.0234356111356258\n",
      "INFO [2020-05-06 17:14:38.001666] (bb): Selecting agent ka_rp_explore_2 (TV: 1.25) to execute (TE: 345)\n",
      "INFO [2020-05-06 17:14:38.068893] (ka_br_lvl3): Core core_[72.65, 61.22, 0.28] Fitness: 3.0234356111356258\n",
      "INFO [2020-05-06 17:14:41.013003] (bb): Selecting agent ka_rp_explore_1 (TV: 0.5) to execute (TE: 346)\n",
      "INFO [2020-05-06 17:14:41.090353] (ka_br_lvl3): Core core_[72.65, 61.22, 0.28] Fitness: 3.0234356111356258\n",
      "INFO [2020-05-06 17:14:44.023724] (bb): Selecting agent ka_br_lvl3 (TV: 3) to execute (TE: 347)\n",
      "INFO [2020-05-06 17:14:47.041545] (bb): Selecting agent ka_rp_explore_2 (TV: 0.75) to execute (TE: 348)\n",
      "INFO [2020-05-06 17:14:47.680898] (ka_br_lvl3): Core core_[65.02, 69.0, 0.54] Fitness: 2.195839507836675\n",
      "INFO [2020-05-06 17:14:47.720892] (ka_br_lvl3): Core core_[65.02, 69.0, 0.54] Fitness: 2.195839507836675\n",
      "INFO [2020-05-06 17:14:50.051375] (bb): Selecting agent ka_rp_explore_1 (TV: 0.75) to execute (TE: 349)\n",
      "INFO [2020-05-06 17:14:50.129595] (ka_br_lvl3): Core core_[65.02, 69.0, 0.54] Fitness: 2.195839507836675\n",
      "INFO [2020-05-06 17:14:53.065553] (bb): Selecting agent ka_rp_explore_2 (TV: 0.5) to execute (TE: 350)\n",
      "INFO [2020-05-06 17:14:53.183720] (ka_br_lvl3): Core core_[65.02, 69.0, 0.54] Fitness: 2.195839507836675\n",
      "INFO [2020-05-06 17:14:56.080069] (bb): Selecting agent ka_br_lvl3 (TV: 3) to execute (TE: 351)\n",
      "INFO [2020-05-06 17:14:58.697039] (ka_br_lvl3): Core core_[63.78, 64.31, 0.95] Fitness: 1.4279510383514358\n",
      "INFO [2020-05-06 17:14:59.093475] (bb): Selecting agent ka_br_lvl3 (TV: 3) to execute (TE: 352)\n",
      "INFO [2020-05-06 17:15:00.673541] (ka_br_lvl3): Core core_[61.14, 61.6, 0.83] Fitness: 1.6375056226756173\n",
      "INFO [2020-05-06 17:15:02.108055] (bb): Selecting agent ka_br_lvl3 (TV: 3) to execute (TE: 353)\n",
      "INFO [2020-05-06 17:15:05.118047] (bb): Selecting agent ka_rp_explore_1 (TV: 1.25) to execute (TE: 354)\n",
      "INFO [2020-05-06 17:15:06.772770] (ka_br_lvl3): Core core_[78.84, 52.25, 0.7] Fitness: 2.2447635144978286\n",
      "INFO [2020-05-06 17:15:06.810112] (ka_br_lvl3): Core core_[78.84, 52.25, 0.7] Fitness: 2.2447635144978286\n",
      "INFO [2020-05-06 17:15:08.134868] (bb): Selecting agent ka_rp_explore_2 (TV: 1.25) to execute (TE: 355)\n",
      "INFO [2020-05-06 17:15:08.211616] (ka_br_lvl3): Core core_[78.84, 52.25, 0.7] Fitness: 2.2447635144978286\n",
      "INFO [2020-05-06 17:15:11.149236] (bb): Selecting agent ka_rp_explore_1 (TV: 0.5) to execute (TE: 356)\n",
      "INFO [2020-05-06 17:15:11.225263] (ka_br_lvl3): Core core_[78.84, 52.25, 0.7] Fitness: 2.2447635144978286\n",
      "INFO [2020-05-06 17:15:14.163810] (bb): Selecting agent ka_rp_explore_2 (TV: 0.5) to execute (TE: 357)\n",
      "INFO [2020-05-06 17:15:14.242409] (ka_br_lvl3): Core core_[78.84, 52.25, 0.7] Fitness: 2.2447635144978286\n",
      "INFO [2020-05-06 17:15:17.173704] (bb): Selecting agent ka_rp_explore_1 (TV: 0.5) to execute (TE: 358)\n",
      "INFO [2020-05-06 17:15:17.251459] (ka_br_lvl3): Core core_[78.84, 52.25, 0.7] Fitness: 2.2447635144978286\n",
      "INFO [2020-05-06 17:15:20.184912] (bb): Selecting agent ka_rp_explore_2 (TV: 0.5) to execute (TE: 359)\n",
      "INFO [2020-05-06 17:15:20.264352] (ka_br_lvl3): Core core_[78.84, 52.25, 0.7] Fitness: 2.2447635144978286\n"
     ]
    },
    {
     "name": "stdout",
     "output_type": "stream",
     "text": [
      "INFO [2020-05-06 17:15:23.193750] (bb): Selecting agent ka_rp_explore_1 (TV: 0.5) to execute (TE: 360)\n",
      "INFO [2020-05-06 17:15:23.272211] (ka_br_lvl3): Core core_[78.84, 52.25, 0.7] Fitness: 2.2447635144978286\n",
      "INFO [2020-05-06 17:15:26.201867] (bb): Selecting agent ka_br_lvl3 (TV: 3) to execute (TE: 361)\n",
      "INFO [2020-05-06 17:15:28.817168] (ka_br_lvl3): Core core_[74.79, 64.63, 0.44] Fitness: 2.557515365696341\n",
      "INFO [2020-05-06 17:15:29.217261] (bb): Selecting agent ka_br_lvl3 (TV: 3) to execute (TE: 362)\n",
      "INFO [2020-05-06 17:15:30.802784] (ka_br_lvl3): Core core_[70.01, 69.28, 0.54] Fitness: 2.1742894910871007\n",
      "INFO [2020-05-06 17:15:32.234948] (bb): Selecting agent ka_rp_explore_2 (TV: 1.0) to execute (TE: 363)\n",
      "INFO [2020-05-06 17:15:32.328649] (ka_br_lvl3): Core core_[70.01, 69.28, 0.54] Fitness: 2.1742894910871007\n",
      "INFO [2020-05-06 17:15:35.243535] (bb): Selecting agent ka_br_lvl3 (TV: 3) to execute (TE: 364)\n",
      "INFO [2020-05-06 17:15:37.862504] (ka_br_lvl3): Core core_[60.47, 60.02, 0.98] Fitness: 1.3769107770956353\n",
      "INFO [2020-05-06 17:15:38.251335] (bb): Selecting agent ka_rp_explore_1 (TV: 1.25) to execute (TE: 365)\n",
      "INFO [2020-05-06 17:15:38.328680] (ka_br_lvl3): Core core_[60.47, 60.02, 0.98] Fitness: 1.3769107770956353\n",
      "INFO [2020-05-06 17:15:41.267793] (bb): Selecting agent ka_rp_explore_2 (TV: 0.75) to execute (TE: 366)\n",
      "INFO [2020-05-06 17:15:41.346537] (ka_br_lvl3): Core core_[60.47, 60.02, 0.98] Fitness: 1.3769107770956353\n",
      "INFO [2020-05-06 17:15:44.285434] (bb): Selecting agent ka_rp_explore_1 (TV: 0.5) to execute (TE: 367)\n",
      "INFO [2020-05-06 17:15:44.366261] (ka_br_lvl3): Core core_[60.47, 60.02, 0.98] Fitness: 1.3769107770956353\n",
      "INFO [2020-05-06 17:15:47.294667] (bb): Selecting agent ka_rp_explore_2 (TV: 0.5) to execute (TE: 368)\n",
      "INFO [2020-05-06 17:15:47.373280] (ka_br_lvl3): Core core_[60.47, 60.02, 0.98] Fitness: 1.3769107770956353\n",
      "INFO [2020-05-06 17:15:50.303055] (bb): Selecting agent ka_br_lvl3 (TV: 3) to execute (TE: 369)\n",
      "INFO [2020-05-06 17:15:51.898184] (ka_br_lvl3): Core core_[68.5, 53.83, 0.77] Fitness: 1.8942131915458096\n",
      "INFO [2020-05-06 17:15:53.319416] (bb): Selecting agent ka_br_lvl3 (TV: 3) to execute (TE: 370)\n",
      "INFO [2020-05-06 17:15:55.944411] (ka_br_lvl3): Core core_[77.1, 61.04, 0.71] Fitness: 2.0052176469288314\n",
      "INFO [2020-05-06 17:15:56.333738] (bb): Selecting agent ka_br_lvl3 (TV: 3) to execute (TE: 371)\n",
      "INFO [2020-05-06 17:15:59.344336] (bb): Selecting agent ka_rp_explore_1 (TV: 1.25) to execute (TE: 372)\n",
      "INFO [2020-05-06 17:15:59.954206] (ka_br_lvl3): Core core_[64.04, 64.63, 0.78] Fitness: 1.767380500528855\n",
      "INFO [2020-05-06 17:15:59.992121] (ka_br_lvl3): Core core_[64.04, 64.63, 0.78] Fitness: 1.767380500528855\n",
      "INFO [2020-05-06 17:16:02.351524] (bb): Selecting agent ka_rp_explore_2 (TV: 1.25) to execute (TE: 373)\n",
      "INFO [2020-05-06 17:16:02.426621] (ka_br_lvl3): Core core_[64.04, 64.63, 0.78] Fitness: 1.767380500528855\n",
      "INFO [2020-05-06 17:16:05.366551] (bb): Selecting agent ka_br_lvl3 (TV: 3) to execute (TE: 374)\n",
      "INFO [2020-05-06 17:16:07.994265] (ka_br_lvl3): Core core_[65.75, 58.07, 0.98] Fitness: 1.4486456114641952\n",
      "INFO [2020-05-06 17:16:08.377404] (bb): Selecting agent ka_rp_explore_1 (TV: 0.75) to execute (TE: 375)\n",
      "INFO [2020-05-06 17:16:08.457312] (ka_br_lvl3): Core core_[65.75, 58.07, 0.98] Fitness: 1.4486456114641952\n",
      "INFO [2020-05-06 17:16:11.386484] (bb): Selecting agent ka_br_lvl3 (TV: 3) to execute (TE: 376)\n",
      "INFO [2020-05-06 17:16:12.971353] (ka_br_lvl3): Core core_[72.18, 65.31, 0.25] Fitness: 3.047077287240339\n",
      "INFO [2020-05-06 17:16:14.401871] (bb): Selecting agent ka_rp_explore_2 (TV: 1.0) to execute (TE: 377)\n",
      "INFO [2020-05-06 17:16:14.496960] (ka_br_lvl3): Core core_[72.18, 65.31, 0.25] Fitness: 3.047077287240339\n",
      "INFO [2020-05-06 17:16:17.419729] (bb): Selecting agent ka_br_lvl3 (TV: 3) to execute (TE: 378)\n",
      "INFO [2020-05-06 17:16:20.432696] (bb): Selecting agent ka_rp_explore_1 (TV: 1.0) to execute (TE: 379)\n",
      "INFO [2020-05-06 17:16:23.441721] (bb): Selecting agent ka_rp_explore_2 (TV: 0.75) to execute (TE: 380)\n",
      "INFO [2020-05-06 17:16:24.143830] (ka_br_lvl3): Core core_[78.7, 55.58, 0.42] Fitness: 2.825466058754359\n",
      "INFO [2020-05-06 17:16:24.183743] (ka_br_lvl3): Core core_[78.7, 55.58, 0.42] Fitness: 2.825466058754359\n",
      "INFO [2020-05-06 17:16:24.221585] (ka_br_lvl3): Core core_[78.7, 55.58, 0.42] Fitness: 2.825466058754359\n",
      "INFO [2020-05-06 17:16:26.459465] (bb): Selecting agent ka_br_lvl3 (TV: 3) to execute (TE: 381)\n",
      "INFO [2020-05-06 17:16:29.477802] (bb): Selecting agent ka_rp_explore_1 (TV: 0.75) to execute (TE: 382)\n",
      "INFO [2020-05-06 17:16:30.125944] (ka_br_lvl3): Core core_[66.34, 66.3, 0.49] Fitness: 2.382408079005495\n",
      "INFO [2020-05-06 17:16:30.165403] (ka_br_lvl3): Core core_[66.34, 66.3, 0.49] Fitness: 2.382408079005495\n",
      "INFO [2020-05-06 17:16:32.486789] (bb): Selecting agent ka_rp_explore_2 (TV: 0.75) to execute (TE: 383)\n",
      "INFO [2020-05-06 17:16:32.615931] (ka_br_lvl3): Core core_[66.34, 66.3, 0.49] Fitness: 2.382408079005495\n",
      "INFO [2020-05-06 17:16:35.502330] (bb): Selecting agent ka_rp_explore_1 (TV: 0.5) to execute (TE: 384)\n",
      "INFO [2020-05-06 17:16:35.582118] (ka_br_lvl3): Core core_[66.34, 66.3, 0.49] Fitness: 2.382408079005495\n",
      "INFO [2020-05-06 17:16:38.519239] (bb): Selecting agent ka_rp_explore_2 (TV: 0.5) to execute (TE: 385)\n",
      "INFO [2020-05-06 17:16:38.603696] (ka_br_lvl3): Core core_[66.34, 66.3, 0.49] Fitness: 2.382408079005495\n",
      "INFO [2020-05-06 17:16:41.528024] (bb): Selecting agent ka_br_lvl3 (TV: 3) to execute (TE: 386)\n",
      "INFO [2020-05-06 17:16:44.147517] (ka_br_lvl3): Core core_[59.62, 67.92, 0.6] Fitness: 2.056625180186555\n",
      "INFO [2020-05-06 17:16:44.535935] (bb): Selecting agent ka_rp_explore_1 (TV: 0.75) to execute (TE: 387)\n",
      "INFO [2020-05-06 17:16:44.631170] (ka_br_lvl3): Core core_[59.62, 67.92, 0.6] Fitness: 2.056625180186555\n",
      "INFO [2020-05-06 17:16:47.551311] (bb): Selecting agent ka_br_lvl3 (TV: 3) to execute (TE: 388)\n",
      "INFO [2020-05-06 17:16:50.570389] (bb): Selecting agent ka_rp_explore_2 (TV: 1.0) to execute (TE: 389)\n",
      "INFO [2020-05-06 17:16:51.199122] (ka_br_lvl3): Core core_[75.32, 60.88, 0.49] Fitness: 2.515574797667587\n",
      "INFO [2020-05-06 17:16:51.241422] (ka_br_lvl3): Core core_[75.32, 60.88, 0.49] Fitness: 2.515574797667587\n",
      "INFO [2020-05-06 17:16:53.583151] (bb): Selecting agent ka_rp_explore_1 (TV: 0.75) to execute (TE: 390)\n",
      "INFO [2020-05-06 17:16:53.664660] (ka_br_lvl3): Core core_[75.32, 60.88, 0.49] Fitness: 2.515574797667587\n",
      "INFO [2020-05-06 17:16:56.598873] (bb): Selecting agent ka_rp_explore_2 (TV: 0.5) to execute (TE: 391)\n",
      "INFO [2020-05-06 17:16:56.682601] (ka_br_lvl3): Core core_[75.32, 60.88, 0.49] Fitness: 2.515574797667587\n",
      "INFO [2020-05-06 17:16:59.612173] (bb): Selecting agent ka_rp_explore_1 (TV: 0.5) to execute (TE: 392)\n",
      "INFO [2020-05-06 17:16:59.695130] (ka_br_lvl3): Core core_[75.32, 60.88, 0.49] Fitness: 2.515574797667587\n",
      "INFO [2020-05-06 17:17:02.625522] (bb): Selecting agent ka_br_lvl3 (TV: 3) to execute (TE: 393)\n",
      "INFO [2020-05-06 17:17:04.212683] (ka_br_lvl3): Core core_[63.75, 63.81, 0.45] Fitness: 2.48663027207744\n",
      "INFO [2020-05-06 17:17:05.636979] (bb): Selecting agent ka_rp_explore_2 (TV: 0.75) to execute (TE: 394)\n",
      "INFO [2020-05-06 17:17:05.733248] (ka_br_lvl3): Core core_[63.75, 63.81, 0.45] Fitness: 2.48663027207744\n",
      "INFO [2020-05-06 17:17:08.650075] (bb): Selecting agent ka_br_lvl3 (TV: 3) to execute (TE: 395)\n",
      "INFO [2020-05-06 17:17:11.280888] (ka_br_lvl3): Core core_[68.16, 51.04, 0.94] Fitness: 1.5652060820537823\n",
      "INFO [2020-05-06 17:17:11.669125] (bb): Selecting agent ka_rp_explore_1 (TV: 1.0) to execute (TE: 396)\n",
      "INFO [2020-05-06 17:17:11.775849] (ka_br_lvl3): Core core_[68.16, 51.04, 0.94] Fitness: 1.5652060820537823\n",
      "INFO [2020-05-06 17:17:14.683744] (bb): Selecting agent ka_br_lvl2 (TV: 4) to execute (TE: 397)\n",
      "INFO [2020-05-06 17:17:14.745490] (ka_br_lvl3): Core core_[68.16, 51.04, 0.94] Fitness: 1.5652060820537823\n",
      "INFO [2020-05-06 17:17:17.695943] (bb): Selecting agent ka_rp_explore_2 (TV: 1.0) to execute (TE: 398)\n",
      "INFO [2020-05-06 17:17:17.777606] (ka_br_lvl3): Core core_[68.16, 51.04, 0.94] Fitness: 1.5652060820537823\n",
      "INFO [2020-05-06 17:17:20.703664] (bb): Selecting agent ka_rp_exploit (TV: 5) to execute (TE: 399)\n",
      "INFO [2020-05-06 17:17:20.803119] (ka_br_lvl3): Core core_[68.16, 51.04, 0.94] Fitness: 1.5652060820537823\n"
     ]
    },
    {
     "name": "stdout",
     "output_type": "stream",
     "text": [
      "INFO [2020-05-06 17:17:23.754359] (bb): Selecting agent ka_br_lvl3 (TV: 3) to execute (TE: 400)\n",
      "INFO [2020-05-06 17:17:23.757563] (bb): Writing blackboard to archive\n",
      "INFO [2020-05-06 17:17:29.773305] (bb): Finished writing to archive\n",
      "INFO [2020-05-06 17:17:32.788021] (bb): Selecting agent ka_rp_explore_1 (TV: 1.25) to execute (TE: 401)\n",
      "INFO [2020-05-06 17:17:35.800448] (bb): Selecting agent ka_rp_explore_2 (TV: 1.0) to execute (TE: 402)\n",
      "INFO [2020-05-06 17:17:38.808708] (bb): No KA to execute, waiting to sends trigger again.\n",
      "INFO [2020-05-06 17:17:40.673436] (ka_br_lvl3): Core core_[79.74, 52.26, 0.56] Fitness: 2.5403799093571737\n",
      "INFO [2020-05-06 17:17:40.715611] (ka_br_lvl3): Core core_[79.74, 52.26, 0.56] Fitness: 2.5403799093571737\n",
      "INFO [2020-05-06 17:17:40.754767] (ka_br_lvl3): Core core_[79.74, 52.26, 0.56] Fitness: 2.5403799093571737\n",
      "INFO [2020-05-06 17:17:40.791868] (ka_br_lvl3): Core core_[79.74, 52.26, 0.56] Fitness: 2.5403799093571737\n",
      "INFO [2020-05-06 17:17:41.821320] (bb): Selecting agent ka_rp_explore_2 (TV: 0.5) to execute (TE: 404)\n",
      "INFO [2020-05-06 17:17:41.906576] (ka_br_lvl3): Core core_[79.74, 52.26, 0.56] Fitness: 2.5403799093571737\n",
      "INFO [2020-05-06 17:17:44.833949] (bb): Selecting agent ka_rp_explore_1 (TV: 1.0) to execute (TE: 405)\n",
      "INFO [2020-05-06 17:17:44.919673] (ka_br_lvl3): Core core_[79.74, 52.26, 0.56] Fitness: 2.5403799093571737\n",
      "INFO [2020-05-06 17:17:47.842747] (bb): Selecting agent ka_br_lvl3 (TV: 3) to execute (TE: 406)\n",
      "INFO [2020-05-06 17:17:50.860873] (bb): Selecting agent ka_rp_explore_2 (TV: 0.75) to execute (TE: 407)\n",
      "INFO [2020-05-06 17:17:51.516776] (ka_br_lvl3): Core core_[63.1125, 63.81, 0.45] Fitness: 2.4724272760478083\n",
      "INFO [2020-05-06 17:17:51.559450] (ka_br_lvl3): Core core_[63.1125, 63.81, 0.45] Fitness: 2.4724272760478083\n",
      "INFO [2020-05-06 17:17:53.870882] (bb): Selecting agent ka_br_lvl3 (TV: 3) to execute (TE: 408)\n",
      "INFO [2020-05-06 17:17:55.465949] (ka_br_lvl3): Core core_[64.3875, 63.81, 0.45] Fitness: 2.4986545288082906\n",
      "INFO [2020-05-06 17:17:56.878494] (bb): Selecting agent ka_br_lvl3 (TV: 3) to execute (TE: 409)\n",
      "INFO [2020-05-06 17:17:58.465141] (ka_br_lvl3): Core core_[63.75, 63.1719, 0.45] Fitness: 2.4832255215990693\n",
      "INFO [2020-05-06 17:17:59.893418] (bb): Selecting agent ka_br_lvl3 (TV: 3) to execute (TE: 410)\n",
      "INFO [2020-05-06 17:18:01.550183] (ka_br_lvl3): Core core_[63.75, 64.4481, 0.45] Fitness: 2.4847466508311435\n",
      "INFO [2020-05-06 17:18:02.914059] (bb): Selecting agent ka_br_lvl3 (TV: 3) to execute (TE: 411)\n",
      "INFO [2020-05-06 17:18:04.508241] (ka_br_lvl3): Core core_[63.75, 63.81, 0.4455] Fitness: 2.4965006182062686\n",
      "INFO [2020-05-06 17:18:05.930845] (bb): Selecting agent ka_rp_explore_1 (TV: 1.75) to execute (TE: 412)\n",
      "INFO [2020-05-06 17:18:06.050790] (ka_br_lvl3): Core core_[63.75, 63.81, 0.4455] Fitness: 2.4965006182062686\n",
      "INFO [2020-05-06 17:18:08.942674] (bb): Selecting agent ka_br_lvl3 (TV: 3) to execute (TE: 413)\n",
      "INFO [2020-05-06 17:18:10.526481] (ka_br_lvl3): Core core_[63.75, 63.81, 0.4545] Fitness: 2.4767599259486115\n",
      "INFO [2020-05-06 17:18:11.959474] (bb): Selecting agent ka_rp_explore_2 (TV: 1.75) to execute (TE: 414)\n",
      "INFO [2020-05-06 17:18:12.059598] (ka_br_lvl3): Core core_[63.75, 63.81, 0.4545] Fitness: 2.4767599259486115\n",
      "INFO [2020-05-06 17:18:14.973885] (bb): Selecting agent ka_rp_explore_1 (TV: 0.75) to execute (TE: 415)\n",
      "INFO [2020-05-06 17:18:15.059917] (ka_br_lvl3): Core core_[63.75, 63.81, 0.4545] Fitness: 2.4767599259486115\n",
      "INFO [2020-05-06 17:18:17.984696] (bb): Selecting agent ka_br_lvl3 (TV: 3) to execute (TE: 416)\n",
      "INFO [2020-05-06 17:18:21.002557] (bb): Selecting agent ka_rp_explore_2 (TV: 0.75) to execute (TE: 417)\n",
      "INFO [2020-05-06 17:18:22.684173] (ka_br_lvl3): Core core_[76.5, 58.29, 0.9] Fitness: 1.6670584377060416\n",
      "INFO [2020-05-06 17:18:22.727299] (ka_br_lvl3): Core core_[76.5, 58.29, 0.9] Fitness: 1.6670584377060416\n",
      "INFO [2020-05-06 17:18:24.012639] (bb): Selecting agent ka_br_lvl3 (TV: 3) to execute (TE: 418)\n",
      "INFO [2020-05-06 17:18:27.026025] (bb): Selecting agent ka_rp_explore_1 (TV: 1.0) to execute (TE: 419)\n",
      "INFO [2020-05-06 17:18:28.704836] (ka_br_lvl3): Core core_[63.24, 69.52, 0.3] Fitness: 2.7964852830081774\n",
      "INFO [2020-05-06 17:18:28.748190] (ka_br_lvl3): Core core_[63.24, 69.52, 0.3] Fitness: 2.7964852830081774\n",
      "INFO [2020-05-06 17:18:30.039404] (bb): Selecting agent ka_rp_explore_2 (TV: 0.75) to execute (TE: 420)\n",
      "INFO [2020-05-06 17:18:30.109585] (ka_br_lvl3): Core core_[63.24, 69.52, 0.3] Fitness: 2.7964852830081774\n",
      "INFO [2020-05-06 17:18:33.054314] (bb): Selecting agent ka_rp_explore_1 (TV: 0.5) to execute (TE: 421)\n",
      "INFO [2020-05-06 17:18:33.141709] (ka_br_lvl3): Core core_[63.24, 69.52, 0.3] Fitness: 2.7964852830081774\n",
      "INFO [2020-05-06 17:18:36.064733] (bb): Selecting agent ka_br_lvl3 (TV: 3) to execute (TE: 422)\n",
      "INFO [2020-05-06 17:18:37.654838] (ka_br_lvl3): Core core_[69.99, 60.14, 0.41] Fitness: 2.7077500337319904\n",
      "INFO [2020-05-06 17:18:39.080735] (bb): Selecting agent ka_rp_explore_2 (TV: 0.75) to execute (TE: 423)\n",
      "INFO [2020-05-06 17:18:39.179818] (ka_br_lvl3): Core core_[69.99, 60.14, 0.41] Fitness: 2.7077500337319904\n",
      "INFO [2020-05-06 17:18:42.098528] (bb): Selecting agent ka_rp_explore_1 (TV: 0.75) to execute (TE: 424)\n",
      "INFO [2020-05-06 17:18:42.186790] (ka_br_lvl3): Core core_[69.99, 60.14, 0.41] Fitness: 2.7077500337319904\n",
      "INFO [2020-05-06 17:18:45.109088] (bb): Selecting agent ka_rp_explore_2 (TV: 0.5) to execute (TE: 425)\n",
      "INFO [2020-05-06 17:18:45.197710] (ka_br_lvl3): Core core_[69.99, 60.14, 0.41] Fitness: 2.7077500337319904\n",
      "INFO [2020-05-06 17:18:48.122204] (bb): Selecting agent ka_rp_explore_1 (TV: 0.5) to execute (TE: 426)\n",
      "INFO [2020-05-06 17:18:48.210104] (ka_br_lvl3): Core core_[69.99, 60.14, 0.41] Fitness: 2.7077500337319904\n",
      "INFO [2020-05-06 17:18:51.131679] (bb): Selecting agent ka_rp_explore_2 (TV: 0.5) to execute (TE: 427)\n",
      "INFO [2020-05-06 17:18:51.211793] (ka_br_lvl3): Core core_[69.99, 60.14, 0.41] Fitness: 2.7077500337319904\n",
      "INFO [2020-05-06 17:18:54.141896] (bb): Selecting agent ka_rp_explore_1 (TV: 0.5) to execute (TE: 428)\n",
      "INFO [2020-05-06 17:18:54.230846] (ka_br_lvl3): Core core_[69.99, 60.14, 0.41] Fitness: 2.7077500337319904\n",
      "INFO [2020-05-06 17:18:57.155659] (bb): Selecting agent ka_rp_explore_2 (TV: 0.5) to execute (TE: 429)\n",
      "INFO [2020-05-06 17:18:57.246196] (ka_br_lvl3): Core core_[69.99, 60.14, 0.41] Fitness: 2.7077500337319904\n",
      "INFO [2020-05-06 17:19:00.173158] (bb): Selecting agent ka_br_lvl3 (TV: 3) to execute (TE: 430)\n",
      "INFO [2020-05-06 17:19:03.182290] (bb): Selecting agent ka_rp_explore_1 (TV: 0.75) to execute (TE: 431)\n",
      "INFO [2020-05-06 17:19:05.976742] (ka_br_lvl3): Core core_[52.36, 67.27, 0.94] Fitness: 1.286809254746296\n",
      "INFO [2020-05-06 17:19:06.024482] (ka_br_lvl3): Core core_[52.36, 67.27, 0.94] Fitness: 1.286809254746296\n",
      "INFO [2020-05-06 17:19:06.190458] (bb): Selecting agent ka_rp_explore_2 (TV: 0.75) to execute (TE: 432)\n",
      "INFO [2020-05-06 17:19:06.261652] (ka_br_lvl3): Core core_[52.36, 67.27, 0.94] Fitness: 1.286809254746296\n",
      "INFO [2020-05-06 17:19:09.204065] (bb): Selecting agent ka_rp_explore_1 (TV: 0.5) to execute (TE: 433)\n",
      "INFO [2020-05-06 17:19:09.295067] (ka_br_lvl3): Core core_[52.36, 67.27, 0.94] Fitness: 1.286809254746296\n",
      "INFO [2020-05-06 17:19:12.222973] (bb): Selecting agent ka_rp_explore_2 (TV: 0.5) to execute (TE: 434)\n",
      "INFO [2020-05-06 17:19:12.313667] (ka_br_lvl3): Core core_[52.36, 67.27, 0.94] Fitness: 1.286809254746296\n",
      "INFO [2020-05-06 17:19:15.237025] (bb): Selecting agent ka_rp_explore_1 (TV: 0.5) to execute (TE: 435)\n",
      "INFO [2020-05-06 17:19:15.326909] (ka_br_lvl3): Core core_[52.36, 67.27, 0.94] Fitness: 1.286809254746296\n",
      "INFO [2020-05-06 17:19:18.252311] (bb): Selecting agent ka_rp_explore_2 (TV: 0.5) to execute (TE: 436)\n",
      "INFO [2020-05-06 17:19:18.350449] (ka_br_lvl3): Core core_[52.36, 67.27, 0.94] Fitness: 1.286809254746296\n",
      "INFO [2020-05-06 17:19:21.270804] (bb): Selecting agent ka_rp_explore_1 (TV: 0.5) to execute (TE: 437)\n",
      "INFO [2020-05-06 17:19:21.362808] (ka_br_lvl3): Core core_[52.36, 67.27, 0.94] Fitness: 1.286809254746296\n",
      "INFO [2020-05-06 17:19:24.289839] (bb): Selecting agent ka_br_lvl3 (TV: 3) to execute (TE: 438)\n",
      "INFO [2020-05-06 17:19:25.886277] (ka_br_lvl3): Core core_[63.94, 61.19, 0.9] Fitness: 1.5534601420395142\n"
     ]
    },
    {
     "name": "stdout",
     "output_type": "stream",
     "text": [
      "INFO [2020-05-06 17:19:27.297509] (bb): Selecting agent ka_rp_explore_2 (TV: 0.75) to execute (TE: 439)\n",
      "INFO [2020-05-06 17:19:27.402913] (ka_br_lvl3): Core core_[63.94, 61.19, 0.9] Fitness: 1.5534601420395142\n",
      "INFO [2020-05-06 17:19:30.307074] (bb): Selecting agent ka_br_lvl3 (TV: 3) to execute (TE: 440)\n",
      "INFO [2020-05-06 17:19:33.322619] (bb): Selecting agent ka_rp_explore_1 (TV: 1.0) to execute (TE: 441)\n",
      "INFO [2020-05-06 17:19:33.982664] (ka_br_lvl3): Core core_[69.11, 57.47, 0.7] Fitness: 2.023022728391963\n",
      "INFO [2020-05-06 17:19:34.028272] (ka_br_lvl3): Core core_[69.11, 57.47, 0.7] Fitness: 2.023022728391963\n",
      "INFO [2020-05-06 17:19:36.334140] (bb): Selecting agent ka_br_lvl3 (TV: 3) to execute (TE: 442)\n",
      "INFO [2020-05-06 17:19:37.918532] (ka_br_lvl3): Core core_[77.12, 55.16, 0.63] Fitness: 2.338394343433596\n",
      "INFO [2020-05-06 17:19:39.348918] (bb): Selecting agent ka_br_lvl3 (TV: 3) to execute (TE: 443)\n",
      "INFO [2020-05-06 17:19:40.938601] (ka_br_lvl3): Core core_[77.94, 59.84, 0.33] Fitness: 2.972418916809727\n",
      "INFO [2020-05-06 17:19:42.357193] (bb): Selecting agent ka_br_lvl3 (TV: 3) to execute (TE: 444)\n",
      "INFO [2020-05-06 17:19:45.371700] (bb): Selecting agent ka_rp_explore_2 (TV: 1.5) to execute (TE: 445)\n",
      "INFO [2020-05-06 17:19:48.056851] (ka_br_lvl3): Core core_[67.29, 59.41, 0.56] Fitness: 2.29701742892031\n",
      "INFO [2020-05-06 17:19:48.101907] (ka_br_lvl3): Core core_[67.29, 59.41, 0.56] Fitness: 2.29701742892031\n",
      "INFO [2020-05-06 17:19:48.382963] (bb): Selecting agent ka_br_lvl3 (TV: 3) to execute (TE: 446)\n",
      "INFO [2020-05-06 17:19:51.393134] (bb): Selecting agent ka_rp_explore_1 (TV: 1.5) to execute (TE: 447)\n",
      "INFO [2020-05-06 17:19:51.520715] (ka_br_lvl3): Core core_[70.87, 54.15, 0.95] Fitness: 1.6059014730333832\n",
      "INFO [2020-05-06 17:19:51.582462] (ka_br_lvl3): Core core_[70.87, 54.15, 0.95] Fitness: 1.6059014730333832\n",
      "INFO [2020-05-06 17:19:54.401894] (bb): Selecting agent ka_rp_explore_2 (TV: 0.75) to execute (TE: 448)\n",
      "INFO [2020-05-06 17:19:54.493911] (ka_br_lvl3): Core core_[70.87, 54.15, 0.95] Fitness: 1.6059014730333832\n",
      "INFO [2020-05-06 17:19:57.414453] (bb): Selecting agent ka_rp_explore_1 (TV: 0.5) to execute (TE: 449)\n",
      "INFO [2020-05-06 17:19:57.507443] (ka_br_lvl3): Core core_[70.87, 54.15, 0.95] Fitness: 1.6059014730333832\n",
      "INFO [2020-05-06 17:20:00.424248] (bb): Selecting agent ka_rp_explore_2 (TV: 0.5) to execute (TE: 450)\n",
      "INFO [2020-05-06 17:20:00.519240] (ka_br_lvl3): Core core_[70.87, 54.15, 0.95] Fitness: 1.6059014730333832\n",
      "INFO [2020-05-06 17:20:03.437730] (bb): Selecting agent ka_br_lvl3 (TV: 3) to execute (TE: 451)\n",
      "INFO [2020-05-06 17:20:06.102406] (ka_br_lvl3): Core core_[65.86, 61.3, 0.57] Fitness: 2.2552399202861135\n",
      "INFO [2020-05-06 17:20:06.451727] (bb): Selecting agent ka_br_lvl3 (TV: 3) to execute (TE: 452)\n",
      "INFO [2020-05-06 17:20:09.463875] (bb): Selecting agent ka_rp_explore_1 (TV: 1.0) to execute (TE: 453)\n",
      "INFO [2020-05-06 17:20:12.134803] (ka_br_lvl3): Core core_[71.52, 63.12, 0.4] Fitness: 2.6757793441552145\n",
      "INFO [2020-05-06 17:20:12.181503] (ka_br_lvl3): Core core_[71.52, 63.12, 0.4] Fitness: 2.6757793441552145\n",
      "INFO [2020-05-06 17:20:12.472720] (bb): Selecting agent ka_rp_explore_2 (TV: 1.0) to execute (TE: 454)\n",
      "INFO [2020-05-06 17:20:12.545445] (ka_br_lvl3): Core core_[71.52, 63.12, 0.4] Fitness: 2.6757793441552145\n",
      "INFO [2020-05-06 17:20:15.482226] (bb): Selecting agent ka_rp_explore_1 (TV: 0.5) to execute (TE: 455)\n",
      "INFO [2020-05-06 17:20:15.575771] (ka_br_lvl3): Core core_[71.52, 63.12, 0.4] Fitness: 2.6757793441552145\n",
      "INFO [2020-05-06 17:20:18.491610] (bb): Selecting agent ka_rp_explore_2 (TV: 0.5) to execute (TE: 456)\n",
      "INFO [2020-05-06 17:20:18.585156] (ka_br_lvl3): Core core_[71.52, 63.12, 0.4] Fitness: 2.6757793441552145\n",
      "INFO [2020-05-06 17:20:21.504728] (bb): Selecting agent ka_rp_explore_1 (TV: 0.5) to execute (TE: 457)\n",
      "INFO [2020-05-06 17:20:21.596429] (ka_br_lvl3): Core core_[71.52, 63.12, 0.4] Fitness: 2.6757793441552145\n",
      "INFO [2020-05-06 17:20:24.512486] (bb): Selecting agent ka_rp_explore_2 (TV: 0.5) to execute (TE: 458)\n",
      "INFO [2020-05-06 17:20:24.605724] (ka_br_lvl3): Core core_[71.52, 63.12, 0.4] Fitness: 2.6757793441552145\n",
      "INFO [2020-05-06 17:20:27.525274] (bb): Selecting agent ka_rp_explore_1 (TV: 0.5) to execute (TE: 459)\n",
      "INFO [2020-05-06 17:20:27.620644] (ka_br_lvl3): Core core_[71.52, 63.12, 0.4] Fitness: 2.6757793441552145\n",
      "INFO [2020-05-06 17:20:30.535855] (bb): Selecting agent ka_rp_explore_2 (TV: 0.5) to execute (TE: 460)\n",
      "INFO [2020-05-06 17:20:30.629015] (ka_br_lvl3): Core core_[71.52, 63.12, 0.4] Fitness: 2.6757793441552145\n",
      "INFO [2020-05-06 17:20:33.545999] (bb): Selecting agent ka_rp_explore_1 (TV: 0.5) to execute (TE: 461)\n",
      "INFO [2020-05-06 17:20:33.639153] (ka_br_lvl3): Core core_[71.52, 63.12, 0.4] Fitness: 2.6757793441552145\n",
      "INFO [2020-05-06 17:20:36.556184] (bb): Selecting agent ka_rp_explore_2 (TV: 0.5) to execute (TE: 462)\n",
      "INFO [2020-05-06 17:20:36.653461] (ka_br_lvl3): Core core_[71.52, 63.12, 0.4] Fitness: 2.6757793441552145\n",
      "INFO [2020-05-06 17:20:39.568084] (bb): Selecting agent ka_br_lvl3 (TV: 3) to execute (TE: 463)\n",
      "INFO [2020-05-06 17:20:42.296655] (ka_br_lvl3): Core core_[62.5, 58.43, 0.66] Fitness: 2.021909514981303\n",
      "INFO [2020-05-06 17:20:42.577654] (bb): Selecting agent ka_br_lvl3 (TV: 3) to execute (TE: 464)\n",
      "INFO [2020-05-06 17:20:45.588670] (bb): Selecting agent ka_rp_explore_1 (TV: 1.0) to execute (TE: 465)\n",
      "INFO [2020-05-06 17:20:46.241633] (ka_br_lvl3): Core core_[66.82, 65.47, 0.96] Fitness: 1.374285028692157\n",
      "INFO [2020-05-06 17:20:46.289082] (ka_br_lvl3): Core core_[66.82, 65.47, 0.96] Fitness: 1.374285028692157\n",
      "INFO [2020-05-06 17:20:48.595385] (bb): Selecting agent ka_br_lvl3 (TV: 3) to execute (TE: 466)\n",
      "INFO [2020-05-06 17:20:51.602343] (bb): Selecting agent ka_rp_explore_2 (TV: 1.25) to execute (TE: 467)\n",
      "INFO [2020-05-06 17:20:54.614248] (bb): Selecting agent ka_rp_explore_1 (TV: 0.75) to execute (TE: 468)\n",
      "INFO [2020-05-06 17:20:55.297103] (ka_br_lvl3): Core core_[72.69, 59.81, 0.51] Fitness: 2.478469095317667\n",
      "INFO [2020-05-06 17:20:55.345242] (ka_br_lvl3): Core core_[72.69, 59.81, 0.51] Fitness: 2.478469095317667\n",
      "INFO [2020-05-06 17:20:55.387500] (ka_br_lvl3): Core core_[72.69, 59.81, 0.51] Fitness: 2.478469095317667\n",
      "INFO [2020-05-06 17:20:57.626445] (bb): Selecting agent ka_rp_explore_2 (TV: 0.5) to execute (TE: 469)\n",
      "INFO [2020-05-06 17:20:57.722122] (ka_br_lvl3): Core core_[72.69, 59.81, 0.51] Fitness: 2.478469095317667\n",
      "INFO [2020-05-06 17:21:00.636185] (bb): Selecting agent ka_rp_explore_1 (TV: 0.5) to execute (TE: 470)\n",
      "INFO [2020-05-06 17:21:00.778453] (ka_br_lvl3): Core core_[72.69, 59.81, 0.51] Fitness: 2.478469095317667\n",
      "INFO [2020-05-06 17:21:03.643390] (bb): Selecting agent ka_rp_explore_2 (TV: 0.5) to execute (TE: 471)\n",
      "INFO [2020-05-06 17:21:03.736695] (ka_br_lvl3): Core core_[72.69, 59.81, 0.51] Fitness: 2.478469095317667\n",
      "INFO [2020-05-06 17:21:06.656964] (bb): Selecting agent ka_rp_explore_1 (TV: 0.5) to execute (TE: 472)\n",
      "INFO [2020-05-06 17:21:06.752797] (ka_br_lvl3): Core core_[72.69, 59.81, 0.51] Fitness: 2.478469095317667\n",
      "INFO [2020-05-06 17:21:09.666773] (bb): Selecting agent ka_br_lvl3 (TV: 3) to execute (TE: 473)\n",
      "INFO [2020-05-06 17:21:11.266472] (ka_br_lvl3): Core core_[71.23, 53.17, 0.83] Fitness: 1.8463382779637039\n",
      "INFO [2020-05-06 17:21:12.679723] (bb): Selecting agent ka_rp_explore_2 (TV: 0.75) to execute (TE: 474)\n",
      "INFO [2020-05-06 17:21:12.799450] (ka_br_lvl3): Core core_[71.23, 53.17, 0.83] Fitness: 1.8463382779637039\n",
      "INFO [2020-05-06 17:21:15.687551] (bb): Selecting agent ka_rp_explore_1 (TV: 0.75) to execute (TE: 475)\n",
      "INFO [2020-05-06 17:21:15.782507] (ka_br_lvl3): Core core_[71.23, 53.17, 0.83] Fitness: 1.8463382779637039\n",
      "INFO [2020-05-06 17:21:18.696267] (bb): Selecting agent ka_br_lvl3 (TV: 3) to execute (TE: 476)\n",
      "INFO [2020-05-06 17:21:20.293071] (ka_br_lvl3): Core core_[74.08, 60.05, 0.72] Fitness: 2.005301721471492\n",
      "INFO [2020-05-06 17:21:21.706275] (bb): Selecting agent ka_rp_explore_2 (TV: 0.75) to execute (TE: 477)\n",
      "INFO [2020-05-06 17:21:21.807251] (ka_br_lvl3): Core core_[74.08, 60.05, 0.72] Fitness: 2.005301721471492\n",
      "INFO [2020-05-06 17:21:24.714297] (bb): Selecting agent ka_rp_explore_1 (TV: 0.75) to execute (TE: 478)\n",
      "INFO [2020-05-06 17:21:24.809573] (ka_br_lvl3): Core core_[74.08, 60.05, 0.72] Fitness: 2.005301721471492\n"
     ]
    },
    {
     "name": "stdout",
     "output_type": "stream",
     "text": [
      "INFO [2020-05-06 17:21:27.723040] (bb): Selecting agent ka_br_lvl3 (TV: 3) to execute (TE: 479)\n",
      "INFO [2020-05-06 17:21:29.317516] (ka_br_lvl3): Core core_[59.69, 59.25, 0.9] Fitness: 1.482686568329922\n",
      "INFO [2020-05-06 17:21:30.730816] (bb): Selecting agent ka_br_lvl3 (TV: 3) to execute (TE: 480)\n",
      "INFO [2020-05-06 17:21:32.323344] (ka_br_lvl3): Core core_[78.44, 63.98, 0.5] Fitness: 2.387389055852549\n",
      "INFO [2020-05-06 17:21:33.743023] (bb): Selecting agent ka_rp_explore_2 (TV: 1.0) to execute (TE: 481)\n",
      "INFO [2020-05-06 17:21:33.844612] (ka_br_lvl3): Core core_[78.44, 63.98, 0.5] Fitness: 2.387389055852549\n",
      "INFO [2020-05-06 17:21:36.754848] (bb): Selecting agent ka_rp_explore_1 (TV: 1.0) to execute (TE: 482)\n",
      "INFO [2020-05-06 17:21:36.851262] (ka_br_lvl3): Core core_[78.44, 63.98, 0.5] Fitness: 2.387389055852549\n",
      "INFO [2020-05-06 17:21:39.770701] (bb): Selecting agent ka_br_lvl3 (TV: 3) to execute (TE: 483)\n",
      "INFO [2020-05-06 17:21:42.407415] (ka_br_lvl3): Core core_[72.6, 58.56, 0.84] Fitness: 1.7912568323565303\n",
      "INFO [2020-05-06 17:21:42.780450] (bb): Selecting agent ka_br_lvl3 (TV: 3) to execute (TE: 484)\n",
      "INFO [2020-05-06 17:21:45.402799] (ka_br_lvl3): Core core_[55.82, 65.63, 0.69] Fitness: 1.8442230217181406\n",
      "INFO [2020-05-06 17:21:45.792403] (bb): Selecting agent ka_br_lvl3 (TV: 3) to execute (TE: 485)\n",
      "INFO [2020-05-06 17:21:48.804646] (bb): Selecting agent ka_rp_explore_2 (TV: 1.25) to execute (TE: 486)\n",
      "INFO [2020-05-06 17:21:51.818891] (bb): Selecting agent ka_rp_explore_1 (TV: 1.25) to execute (TE: 487)\n",
      "INFO [2020-05-06 17:21:54.831528] (bb): No KA to execute, waiting to sends trigger again.\n",
      "INFO [2020-05-06 17:21:56.643745] (ka_br_lvl3): Core core_[54.51, 68.37, 0.54] Fitness: 2.087667158829183\n",
      "INFO [2020-05-06 17:21:56.692266] (ka_br_lvl3): Core core_[54.51, 68.37, 0.54] Fitness: 2.087667158829183\n",
      "INFO [2020-05-06 17:21:56.734897] (ka_br_lvl3): Core core_[54.51, 68.37, 0.54] Fitness: 2.087667158829183\n",
      "INFO [2020-05-06 17:21:56.777967] (ka_br_lvl3): Core core_[54.51, 68.37, 0.54] Fitness: 2.087667158829183\n",
      "INFO [2020-05-06 17:21:57.843121] (bb): Selecting agent ka_rp_explore_1 (TV: 0.5) to execute (TE: 489)\n",
      "INFO [2020-05-06 17:21:57.939327] (ka_br_lvl3): Core core_[54.51, 68.37, 0.54] Fitness: 2.087667158829183\n",
      "INFO [2020-05-06 17:22:00.851486] (bb): Selecting agent ka_rp_explore_2 (TV: 1.0) to execute (TE: 490)\n",
      "INFO [2020-05-06 17:22:00.951707] (ka_br_lvl3): Core core_[54.51, 68.37, 0.54] Fitness: 2.087667158829183\n",
      "INFO [2020-05-06 17:22:03.859664] (bb): Selecting agent ka_rp_explore_1 (TV: 0.5) to execute (TE: 491)\n",
      "INFO [2020-05-06 17:22:03.956720] (ka_br_lvl3): Core core_[54.51, 68.37, 0.54] Fitness: 2.087667158829183\n",
      "INFO [2020-05-06 17:22:06.872663] (bb): Selecting agent ka_br_lvl3 (TV: 3) to execute (TE: 492)\n",
      "INFO [2020-05-06 17:22:08.468638] (ka_br_lvl3): Core core_[74.97, 68.89, 0.34] Fitness: 2.6740190519093243\n",
      "INFO [2020-05-06 17:22:09.881752] (bb): Selecting agent ka_rp_explore_2 (TV: 0.75) to execute (TE: 493)\n",
      "INFO [2020-05-06 17:22:09.996568] (ka_br_lvl3): Core core_[74.97, 68.89, 0.34] Fitness: 2.6740190519093243\n",
      "INFO [2020-05-06 17:22:12.894762] (bb): Selecting agent ka_rp_explore_1 (TV: 0.75) to execute (TE: 494)\n",
      "INFO [2020-05-06 17:22:12.992198] (ka_br_lvl3): Core core_[74.97, 68.89, 0.34] Fitness: 2.6740190519093243\n",
      "INFO [2020-05-06 17:22:15.908368] (bb): Selecting agent ka_rp_explore_2 (TV: 0.5) to execute (TE: 495)\n",
      "INFO [2020-05-06 17:22:16.005926] (ka_br_lvl3): Core core_[74.97, 68.89, 0.34] Fitness: 2.6740190519093243\n",
      "INFO [2020-05-06 17:22:18.918729] (bb): Selecting agent ka_rp_explore_1 (TV: 0.5) to execute (TE: 496)\n",
      "INFO [2020-05-06 17:22:19.017166] (ka_br_lvl3): Core core_[74.97, 68.89, 0.34] Fitness: 2.6740190519093243\n",
      "INFO [2020-05-06 17:22:21.931198] (bb): Selecting agent ka_rp_explore_2 (TV: 0.5) to execute (TE: 497)\n",
      "INFO [2020-05-06 17:22:22.027840] (ka_br_lvl3): Core core_[74.97, 68.89, 0.34] Fitness: 2.6740190519093243\n",
      "INFO [2020-05-06 17:22:24.938714] (bb): Selecting agent ka_br_lvl3 (TV: 3) to execute (TE: 498)\n",
      "INFO [2020-05-06 17:22:26.528389] (ka_br_lvl3): Core core_[72.11, 55.44, 0.87] Fitness: 1.7824224073166375\n",
      "INFO [2020-05-06 17:22:27.946962] (bb): Selecting agent ka_rp_explore_1 (TV: 0.75) to execute (TE: 499)\n",
      "INFO [2020-05-06 17:22:28.077737] (ka_br_lvl3): Core core_[72.11, 55.44, 0.87] Fitness: 1.7824224073166375\n",
      "INFO [2020-05-06 17:22:30.955740] (bb): Selecting agent ka_rp_explore_2 (TV: 0.75) to execute (TE: 500)\n",
      "INFO [2020-05-06 17:22:31.059312] (ka_br_lvl3): Core core_[72.11, 55.44, 0.87] Fitness: 1.7824224073166375\n",
      "INFO [2020-05-06 17:22:33.968430] (bb): Selecting agent ka_rp_explore_1 (TV: 0.5) to execute (TE: 501)\n",
      "INFO [2020-05-06 17:22:34.069468] (ka_br_lvl3): Core core_[72.11, 55.44, 0.87] Fitness: 1.7824224073166375\n",
      "INFO [2020-05-06 17:22:36.982950] (bb): Selecting agent ka_br_lvl3 (TV: 3) to execute (TE: 502)\n",
      "INFO [2020-05-06 17:22:39.612738] (ka_br_lvl3): Core core_[74.28, 65.33, 0.16] Fitness: 3.3455876424418056\n",
      "INFO [2020-05-06 17:22:39.996055] (bb): Selecting agent ka_br_lvl3 (TV: 3) to execute (TE: 503)\n",
      "INFO [2020-05-06 17:22:41.587878] (ka_br_lvl3): Core core_[64.99, 66.05, 0.88] Fitness: 1.53655201081535\n",
      "INFO [2020-05-06 17:22:43.007487] (bb): Selecting agent ka_rp_explore_2 (TV: 1.0) to execute (TE: 504)\n",
      "INFO [2020-05-06 17:22:43.125707] (ka_br_lvl3): Core core_[64.99, 66.05, 0.88] Fitness: 1.53655201081535\n",
      "INFO [2020-05-06 17:22:46.015137] (bb): Selecting agent ka_rp_explore_1 (TV: 1.0) to execute (TE: 505)\n",
      "INFO [2020-05-06 17:22:46.114550] (ka_br_lvl3): Core core_[64.99, 66.05, 0.88] Fitness: 1.53655201081535\n",
      "INFO [2020-05-06 17:22:49.022909] (bb): Selecting agent ka_rp_explore_2 (TV: 0.5) to execute (TE: 506)\n",
      "INFO [2020-05-06 17:22:49.127324] (ka_br_lvl3): Core core_[64.99, 66.05, 0.88] Fitness: 1.53655201081535\n",
      "INFO [2020-05-06 17:22:52.032737] (bb): Selecting agent ka_rp_explore_1 (TV: 0.5) to execute (TE: 507)\n",
      "INFO [2020-05-06 17:22:52.133227] (ka_br_lvl3): Core core_[64.99, 66.05, 0.88] Fitness: 1.53655201081535\n",
      "INFO [2020-05-06 17:22:55.044670] (bb): Selecting agent ka_rp_explore_2 (TV: 0.5) to execute (TE: 508)\n",
      "INFO [2020-05-06 17:22:55.145950] (ka_br_lvl3): Core core_[64.99, 66.05, 0.88] Fitness: 1.53655201081535\n",
      "INFO [2020-05-06 17:22:58.056254] (bb): Selecting agent ka_br_lvl3 (TV: 3) to execute (TE: 509)\n",
      "INFO [2020-05-06 17:23:01.067454] (bb): Selecting agent ka_rp_explore_1 (TV: 0.75) to execute (TE: 510)\n",
      "INFO [2020-05-06 17:23:02.771563] (ka_br_lvl3): Core core_[60.0, 66.46, 0.5] Fitness: 2.2861633049578973\n",
      "INFO [2020-05-06 17:23:02.822097] (ka_br_lvl3): Core core_[60.0, 66.46, 0.5] Fitness: 2.2861633049578973\n",
      "INFO [2020-05-06 17:23:04.078127] (bb): Selecting agent ka_rp_explore_2 (TV: 0.75) to execute (TE: 511)\n",
      "INFO [2020-05-06 17:23:04.160505] (ka_br_lvl3): Core core_[60.0, 66.46, 0.5] Fitness: 2.2861633049578973\n",
      "INFO [2020-05-06 17:23:07.087787] (bb): Selecting agent ka_br_lvl3 (TV: 3) to execute (TE: 512)\n",
      "INFO [2020-05-06 17:23:10.098234] (bb): Selecting agent ka_rp_explore_1 (TV: 0.75) to execute (TE: 513)\n",
      "INFO [2020-05-06 17:23:13.108760] (bb): Selecting agent ka_br_lvl2 (TV: 4) to execute (TE: 514)\n",
      "INFO [2020-05-06 17:23:15.910348] (ka_br_lvl3): Core core_[78.52, 62.19, 0.2] Fitness: 3.309732246829004\n",
      "INFO [2020-05-06 17:23:15.961628] (ka_br_lvl3): Core core_[78.52, 62.19, 0.2] Fitness: 3.309732246829004\n",
      "INFO [2020-05-06 17:23:16.044930] (ka_br_lvl3): Core core_[78.52, 62.19, 0.2] Fitness: 3.309732246829004\n",
      "INFO [2020-05-06 17:23:16.116936] (bb): Selecting agent ka_br_lvl3 (TV: 3) to execute (TE: 515)\n",
      "INFO [2020-05-06 17:23:19.127358] (bb): Selecting agent ka_rp_explore_2 (TV: 1.25) to execute (TE: 516)\n",
      "INFO [2020-05-06 17:23:19.781454] (ka_br_lvl3): Core core_[60.87, 58.57, 0.82] Fitness: 1.6586577999631467\n",
      "INFO [2020-05-06 17:23:19.832691] (ka_br_lvl3): Core core_[60.87, 58.57, 0.82] Fitness: 1.6586577999631467\n",
      "INFO [2020-05-06 17:23:22.138967] (bb): Selecting agent ka_rp_exploit (TV: 5) to execute (TE: 517)\n",
      "INFO [2020-05-06 17:23:22.261367] (ka_br_lvl3): Core core_[60.87, 58.57, 0.82] Fitness: 1.6586577999631467\n",
      "INFO [2020-05-06 17:23:25.204429] (bb): Selecting agent ka_br_lvl3 (TV: 3) to execute (TE: 518)\n",
      "INFO [2020-05-06 17:23:28.212794] (bb): Selecting agent ka_rp_explore_1 (TV: 1.5) to execute (TE: 519)\n"
     ]
    },
    {
     "name": "stdout",
     "output_type": "stream",
     "text": [
      "INFO [2020-05-06 17:23:31.221337] (bb): Selecting agent ka_rp_explore_2 (TV: 1.0) to execute (TE: 520)\n",
      "INFO [2020-05-06 17:23:31.224049] (bb): Writing blackboard to archive\n",
      "INFO [2020-05-06 17:23:37.228581] (bb): Finished writing to archive\n",
      "INFO [2020-05-06 17:23:39.777199] (ka_br_lvl3): Core core_[73.14, 66.97, 0.39] Fitness: 2.6286531878283395\n",
      "INFO [2020-05-06 17:23:39.828156] (ka_br_lvl3): Core core_[73.14, 66.97, 0.39] Fitness: 2.6286531878283395\n",
      "INFO [2020-05-06 17:23:39.874498] (ka_br_lvl3): Core core_[73.14, 66.97, 0.39] Fitness: 2.6286531878283395\n",
      "INFO [2020-05-06 17:23:40.237632] (bb): Selecting agent ka_rp_explore_1 (TV: 0.5) to execute (TE: 521)\n",
      "INFO [2020-05-06 17:23:40.342429] (ka_br_lvl3): Core core_[73.14, 66.97, 0.39] Fitness: 2.6286531878283395\n",
      "INFO [2020-05-06 17:23:43.251907] (bb): Selecting agent ka_br_lvl3 (TV: 3) to execute (TE: 522)\n",
      "INFO [2020-05-06 17:23:45.893264] (ka_br_lvl3): Core core_[79.85, 60.06, 0.39] Fitness: 2.837477020218564\n",
      "INFO [2020-05-06 17:23:46.261755] (bb): Selecting agent ka_rp_explore_2 (TV: 0.75) to execute (TE: 523)\n",
      "INFO [2020-05-06 17:23:46.384528] (ka_br_lvl3): Core core_[79.85, 60.06, 0.39] Fitness: 2.837477020218564\n",
      "INFO [2020-05-06 17:23:49.269910] (bb): Selecting agent ka_rp_explore_1 (TV: 0.75) to execute (TE: 524)\n",
      "INFO [2020-05-06 17:23:49.373796] (ka_br_lvl3): Core core_[79.85, 60.06, 0.39] Fitness: 2.837477020218564\n",
      "INFO [2020-05-06 17:23:52.281493] (bb): Selecting agent ka_rp_explore_2 (TV: 0.5) to execute (TE: 525)\n",
      "INFO [2020-05-06 17:23:52.386943] (ka_br_lvl3): Core core_[79.85, 60.06, 0.39] Fitness: 2.837477020218564\n",
      "INFO [2020-05-06 17:23:55.289927] (bb): Selecting agent ka_br_lvl3 (TV: 3) to execute (TE: 526)\n",
      "INFO [2020-05-06 17:23:56.879368] (ka_br_lvl3): Core core_[59.4, 66.46, 0.5] Fitness: 2.2742064602104817\n",
      "INFO [2020-05-06 17:23:58.303185] (bb): Selecting agent ka_br_lvl3 (TV: 3) to execute (TE: 527)\n",
      "INFO [2020-05-06 17:23:59.902581] (ka_br_lvl3): Core core_[60.6, 66.46, 0.5] Fitness: 2.298120149705313\n",
      "INFO [2020-05-06 17:24:01.312088] (bb): Selecting agent ka_br_lvl2 (TV: 4) to execute (TE: 528)\n",
      "INFO [2020-05-06 17:24:01.396812] (ka_br_lvl3): Core core_[60.6, 66.46, 0.5] Fitness: 2.298120149705313\n",
      "INFO [2020-05-06 17:24:04.326273] (bb): Selecting agent ka_br_lvl3 (TV: 3) to execute (TE: 529)\n",
      "INFO [2020-05-06 17:24:05.974114] (ka_br_lvl3): Core core_[60.0, 65.7954, 0.5] Fitness: 2.2881251521296395\n",
      "INFO [2020-05-06 17:24:07.338062] (bb): Selecting agent ka_rp_exploit (TV: 5) to execute (TE: 530)\n",
      "INFO [2020-05-06 17:24:07.496432] (ka_br_lvl3): Core core_[60.0, 65.7954, 0.5] Fitness: 2.2881251521296395\n",
      "INFO [2020-05-06 17:24:10.419233] (bb): Selecting agent ka_br_lvl3 (TV: 3) to execute (TE: 531)\n",
      "INFO [2020-05-06 17:24:13.428491] (bb): Selecting agent ka_rp_explore_1 (TV: 2.0) to execute (TE: 532)\n",
      "INFO [2020-05-06 17:24:14.581289] (ka_br_lvl3): Core core_[60.0, 67.1246, 0.5] Fitness: 2.2842014577861547\n",
      "INFO [2020-05-06 17:24:14.629483] (ka_br_lvl3): Core core_[60.0, 67.1246, 0.5] Fitness: 2.2842014577861547\n",
      "INFO [2020-05-06 17:24:16.438167] (bb): Selecting agent ka_rp_explore_2 (TV: 2.0) to execute (TE: 533)\n",
      "INFO [2020-05-06 17:24:16.563467] (ka_br_lvl3): Core core_[60.0, 67.1246, 0.5] Fitness: 2.2842014577861547\n",
      "INFO [2020-05-06 17:24:19.449885] (bb): Selecting agent ka_br_lvl3 (TV: 3) to execute (TE: 534)\n",
      "INFO [2020-05-06 17:24:21.048749] (ka_br_lvl3): Core core_[60.0, 66.46, 0.495] Fitness: 2.2978048295997104\n",
      "INFO [2020-05-06 17:24:22.460947] (bb): Selecting agent ka_br_lvl3 (TV: 3) to execute (TE: 535)\n",
      "INFO [2020-05-06 17:24:24.065345] (ka_br_lvl3): Core core_[60.0, 66.46, 0.505] Fitness: 2.2745217803160838\n",
      "INFO [2020-05-06 17:24:25.470476] (bb): Selecting agent ka_br_lvl3 (TV: 3) to execute (TE: 536)\n",
      "INFO [2020-05-06 17:24:28.106203] (ka_br_lvl3): Core core_[77.77, 57.49, 0.66] Fitness: 2.2291640449317187\n",
      "INFO [2020-05-06 17:24:28.480160] (bb): Selecting agent ka_br_lvl3 (TV: 3) to execute (TE: 537)\n",
      "INFO [2020-05-06 17:24:31.489089] (bb): Selecting agent ka_rp_explore_1 (TV: 1.5) to execute (TE: 538)\n",
      "INFO [2020-05-06 17:24:33.142950] (ka_br_lvl3): Core core_[76.57, 61.12, 0.35] Fitness: 2.8750580267128694\n",
      "INFO [2020-05-06 17:24:33.196439] (ka_br_lvl3): Core core_[76.57, 61.12, 0.35] Fitness: 2.8750580267128694\n",
      "INFO [2020-05-06 17:24:34.500674] (bb): Selecting agent ka_rp_explore_2 (TV: 1.5) to execute (TE: 539)\n",
      "INFO [2020-05-06 17:24:34.605937] (ka_br_lvl3): Core core_[76.57, 61.12, 0.35] Fitness: 2.8750580267128694\n",
      "INFO [2020-05-06 17:24:37.509109] (bb): Selecting agent ka_rp_explore_1 (TV: 0.5) to execute (TE: 540)\n",
      "INFO [2020-05-06 17:24:37.614338] (ka_br_lvl3): Core core_[76.57, 61.12, 0.35] Fitness: 2.8750580267128694\n",
      "INFO [2020-05-06 17:24:40.519220] (bb): Selecting agent ka_rp_explore_2 (TV: 0.5) to execute (TE: 541)\n",
      "INFO [2020-05-06 17:24:40.625997] (ka_br_lvl3): Core core_[76.57, 61.12, 0.35] Fitness: 2.8750580267128694\n",
      "INFO [2020-05-06 17:24:43.530561] (bb): Selecting agent ka_br_lvl3 (TV: 3) to execute (TE: 542)\n",
      "INFO [2020-05-06 17:24:45.137789] (ka_br_lvl3): Core core_[65.31, 68.24, 0.22] Fitness: 2.855226999431718\n",
      "INFO [2020-05-06 17:24:46.542155] (bb): Selecting agent ka_rp_explore_1 (TV: 0.75) to execute (TE: 543)\n",
      "INFO [2020-05-06 17:24:46.684673] (ka_br_lvl3): Core core_[65.31, 68.24, 0.22] Fitness: 2.855226999431718\n",
      "INFO [2020-05-06 17:24:49.548862] (bb): Selecting agent ka_rp_explore_2 (TV: 0.75) to execute (TE: 544)\n",
      "INFO [2020-05-06 17:24:49.656030] (ka_br_lvl3): Core core_[65.31, 68.24, 0.22] Fitness: 2.855226999431718\n",
      "INFO [2020-05-06 17:24:52.555696] (bb): Selecting agent ka_br_lvl3 (TV: 3) to execute (TE: 545)\n",
      "INFO [2020-05-06 17:24:55.199078] (ka_br_lvl3): Core core_[79.0515, 60.06, 0.39] Fitness: 2.8253167651734303\n",
      "INFO [2020-05-06 17:24:55.565535] (bb): Selecting agent ka_rp_explore_1 (TV: 0.75) to execute (TE: 546)\n",
      "INFO [2020-05-06 17:24:55.691961] (ka_br_lvl3): Core core_[79.0515, 60.06, 0.39] Fitness: 2.8253167651734303\n",
      "INFO [2020-05-06 17:24:58.572488] (bb): Selecting agent ka_br_lvl3 (TV: 3) to execute (TE: 547)\n",
      "INFO [2020-05-06 17:25:00.175592] (ka_br_lvl3): Core core_[80.6485, 60.06, 0.39] Fitness: nan\n",
      "INFO [2020-05-06 17:25:01.581687] (bb): Selecting agent ka_br_lvl3 (TV: 3) to execute (TE: 548)\n",
      "INFO [2020-05-06 17:25:03.183493] (ka_br_lvl3): Core core_[79.85, 59.4594, 0.39] Fitness: 2.8489103385041834\n",
      "INFO [2020-05-06 17:25:04.594959] (bb): Selecting agent ka_br_lvl3 (TV: 3) to execute (TE: 549)\n",
      "INFO [2020-05-06 17:25:06.197173] (ka_br_lvl3): Core core_[79.85, 60.6606, 0.39] Fitness: 2.8130887601248027\n",
      "INFO [2020-05-06 17:25:07.608739] (bb): Selecting agent ka_rp_explore_2 (TV: 1.5) to execute (TE: 550)\n",
      "INFO [2020-05-06 17:25:07.743574] (ka_br_lvl3): Core core_[79.85, 60.6606, 0.39] Fitness: 2.8130887601248027\n",
      "INFO [2020-05-06 17:25:10.621611] (bb): Selecting agent ka_rp_explore_1 (TV: 1.25) to execute (TE: 551)\n",
      "INFO [2020-05-06 17:25:10.731329] (ka_br_lvl3): Core core_[79.85, 60.6606, 0.39] Fitness: 2.8130887601248027\n",
      "INFO [2020-05-06 17:25:13.629824] (bb): Selecting agent ka_rp_explore_2 (TV: 0.5) to execute (TE: 552)\n",
      "INFO [2020-05-06 17:25:13.738653] (ka_br_lvl3): Core core_[79.85, 60.6606, 0.39] Fitness: 2.8130887601248027\n",
      "INFO [2020-05-06 17:25:16.637652] (bb): Selecting agent ka_br_lvl3 (TV: 3) to execute (TE: 553)\n",
      "INFO [2020-05-06 17:25:18.282728] (ka_br_lvl3): Core core_[79.85, 60.06, 0.3861] Fitness: 2.847876286928652\n",
      "INFO [2020-05-06 17:25:19.645669] (bb): Selecting agent ka_rp_explore_1 (TV: 0.75) to execute (TE: 554)\n",
      "INFO [2020-05-06 17:25:19.775333] (ka_br_lvl3): Core core_[79.85, 60.06, 0.3861] Fitness: 2.847876286928652\n",
      "INFO [2020-05-06 17:25:22.655990] (bb): Selecting agent ka_br_lvl3 (TV: 3) to execute (TE: 555)\n",
      "INFO [2020-05-06 17:25:24.257395] (ka_br_lvl3): Core core_[79.85, 60.06, 0.3939] Fitness: 2.827077753508476\n",
      "INFO [2020-05-06 17:25:25.669490] (bb): Selecting agent ka_rp_explore_2 (TV: 1.0) to execute (TE: 556)\n",
      "INFO [2020-05-06 17:25:25.817957] (ka_br_lvl3): Core core_[79.85, 60.06, 0.3939] Fitness: 2.827077753508476\n",
      "INFO [2020-05-06 17:25:28.679682] (bb): Selecting agent ka_rp_explore_1 (TV: 0.75) to execute (TE: 557)\n",
      "INFO [2020-05-06 17:25:28.786453] (ka_br_lvl3): Core core_[79.85, 60.06, 0.3939] Fitness: 2.827077753508476\n"
     ]
    },
    {
     "name": "stdout",
     "output_type": "stream",
     "text": [
      "INFO [2020-05-06 17:25:31.693603] (bb): Selecting agent ka_br_lvl3 (TV: 3) to execute (TE: 558)\n",
      "INFO [2020-05-06 17:25:34.706504] (bb): Selecting agent ka_rp_explore_2 (TV: 0.75) to execute (TE: 559)\n",
      "INFO [2020-05-06 17:25:37.714839] (bb): Selecting agent ka_rp_explore_1 (TV: 0.75) to execute (TE: 560)\n",
      "INFO [2020-05-06 17:25:37.717914] (bb): Writing blackboard to archive\n",
      "INFO [2020-05-06 17:25:43.727113] (bb): Finished writing to archive\n",
      "INFO [2020-05-06 17:25:45.775303] (ka_br_lvl3): Core core_[73.72, 58.5, 0.51] Fitness: 2.5068998009115377\n",
      "INFO [2020-05-06 17:25:45.830125] (ka_br_lvl3): Core core_[73.72, 58.5, 0.51] Fitness: 2.5068998009115377\n",
      "INFO [2020-05-06 17:25:45.879252] (ka_br_lvl3): Core core_[73.72, 58.5, 0.51] Fitness: 2.5068998009115377\n",
      "INFO [2020-05-06 17:25:46.737164] (bb): Selecting agent ka_rp_explore_2 (TV: 0.5) to execute (TE: 561)\n",
      "INFO [2020-05-06 17:25:46.846842] (ka_br_lvl3): Core core_[73.72, 58.5, 0.51] Fitness: 2.5068998009115377\n",
      "INFO [2020-05-06 17:25:49.745778] (bb): Selecting agent ka_br_lvl3 (TV: 3) to execute (TE: 562)\n",
      "INFO [2020-05-06 17:25:52.754763] (bb): Selecting agent ka_rp_explore_1 (TV: 0.75) to execute (TE: 563)\n",
      "INFO [2020-05-06 17:25:54.482272] (ka_br_lvl3): Core core_[78.82, 58.38, 0.83] Fitness: 1.813197277717649\n",
      "INFO [2020-05-06 17:25:54.537206] (ka_br_lvl3): Core core_[78.82, 58.38, 0.83] Fitness: 1.813197277717649\n",
      "INFO [2020-05-06 17:25:55.762806] (bb): Selecting agent ka_rp_explore_2 (TV: 0.75) to execute (TE: 564)\n",
      "INFO [2020-05-06 17:25:55.899254] (ka_br_lvl3): Core core_[78.82, 58.38, 0.83] Fitness: 1.813197277717649\n",
      "INFO [2020-05-06 17:25:58.771283] (bb): Selecting agent ka_rp_explore_1 (TV: 0.5) to execute (TE: 565)\n",
      "INFO [2020-05-06 17:25:58.882549] (ka_br_lvl3): Core core_[78.82, 58.38, 0.83] Fitness: 1.813197277717649\n",
      "INFO [2020-05-06 17:26:01.781246] (bb): Selecting agent ka_rp_explore_2 (TV: 0.5) to execute (TE: 566)\n",
      "INFO [2020-05-06 17:26:01.888865] (ka_br_lvl3): Core core_[78.82, 58.38, 0.83] Fitness: 1.813197277717649\n",
      "INFO [2020-05-06 17:26:04.789538] (bb): Selecting agent ka_rp_explore_1 (TV: 0.5) to execute (TE: 567)\n",
      "INFO [2020-05-06 17:26:04.901321] (ka_br_lvl3): Core core_[78.82, 58.38, 0.83] Fitness: 1.813197277717649\n",
      "INFO [2020-05-06 17:26:07.805474] (bb): Selecting agent ka_br_lvl3 (TV: 3) to execute (TE: 568)\n",
      "INFO [2020-05-06 17:26:10.816184] (bb): Selecting agent ka_rp_explore_2 (TV: 0.75) to execute (TE: 569)\n",
      "INFO [2020-05-06 17:26:12.558164] (ka_br_lvl3): Core core_[76.46, 56.48, 0.46] Fitness: 2.672862070508318\n",
      "INFO [2020-05-06 17:26:12.613529] (ka_br_lvl3): Core core_[76.46, 56.48, 0.46] Fitness: 2.672862070508318\n",
      "INFO [2020-05-06 17:26:13.828017] (bb): Selecting agent ka_br_lvl3 (TV: 3) to execute (TE: 570)\n",
      "INFO [2020-05-06 17:26:13.830887] (bb): Writing blackboard to archive\n",
      "INFO [2020-05-06 17:26:19.846792] (bb): Finished writing to archive\n",
      "INFO [2020-05-06 17:26:22.862788] (bb): Selecting agent ka_rp_explore_1 (TV: 1.0) to execute (TE: 571)\n",
      "INFO [2020-05-06 17:26:25.874585] (bb): Selecting agent ka_rp_explore_2 (TV: 0.75) to execute (TE: 572)\n",
      "INFO [2020-05-06 17:26:26.112916] (ka_br_lvl3): Core core_[70.42, 51.48, 0.9] Fitness: 1.7065893778187908\n",
      "INFO [2020-05-06 17:26:26.166227] (ka_br_lvl3): Core core_[70.42, 51.48, 0.9] Fitness: 1.7065893778187908\n",
      "INFO [2020-05-06 17:26:26.215841] (ka_br_lvl3): Core core_[70.42, 51.48, 0.9] Fitness: 1.7065893778187908\n",
      "INFO [2020-05-06 17:26:28.884017] (bb): Selecting agent ka_br_lvl3 (TV: 3) to execute (TE: 573)\n",
      "INFO [2020-05-06 17:26:30.491017] (ka_br_lvl3): Core core_[62.71, 61.63, 0.83] Fitness: 1.6570972107954893\n",
      "INFO [2020-05-06 17:26:31.896694] (bb): Selecting agent ka_rp_explore_1 (TV: 0.75) to execute (TE: 574)\n",
      "INFO [2020-05-06 17:26:32.026193] (ka_br_lvl3): Core core_[62.71, 61.63, 0.83] Fitness: 1.6570972107954893\n",
      "INFO [2020-05-06 17:26:34.912515] (bb): Selecting agent ka_rp_explore_2 (TV: 0.75) to execute (TE: 575)\n",
      "INFO [2020-05-06 17:26:35.019803] (ka_br_lvl3): Core core_[62.71, 61.63, 0.83] Fitness: 1.6570972107954893\n",
      "INFO [2020-05-06 17:26:37.927181] (bb): Selecting agent ka_rp_explore_1 (TV: 0.5) to execute (TE: 576)\n",
      "INFO [2020-05-06 17:26:38.092086] (ka_br_lvl3): Core core_[62.71, 61.63, 0.83] Fitness: 1.6570972107954893\n",
      "INFO [2020-05-06 17:26:40.936583] (bb): Selecting agent ka_rp_explore_2 (TV: 0.5) to execute (TE: 577)\n",
      "INFO [2020-05-06 17:26:41.048049] (ka_br_lvl3): Core core_[62.71, 61.63, 0.83] Fitness: 1.6570972107954893\n",
      "INFO [2020-05-06 17:26:43.946862] (bb): Selecting agent ka_br_lvl3 (TV: 3) to execute (TE: 578)\n",
      "INFO [2020-05-06 17:26:46.963424] (bb): Selecting agent ka_rp_explore_1 (TV: 0.75) to execute (TE: 579)\n",
      "INFO [2020-05-06 17:26:49.978008] (bb): Selecting agent ka_rp_explore_2 (TV: 0.75) to execute (TE: 580)\n",
      "INFO [2020-05-06 17:26:50.787549] (ka_br_lvl3): Core core_[75.74, 53.38, 0.99] Fitness: 1.616868890251985\n",
      "INFO [2020-05-06 17:26:50.843655] (ka_br_lvl3): Core core_[75.74, 53.38, 0.99] Fitness: 1.616868890251985\n",
      "INFO [2020-05-06 17:26:50.894276] (ka_br_lvl3): Core core_[75.74, 53.38, 0.99] Fitness: 1.616868890251985\n",
      "INFO [2020-05-06 17:26:52.988415] (bb): Selecting agent ka_rp_explore_1 (TV: 0.5) to execute (TE: 581)\n",
      "INFO [2020-05-06 17:26:53.078066] (ka_br_lvl3): Core core_[75.74, 53.38, 0.99] Fitness: 1.616868890251985\n",
      "INFO [2020-05-06 17:26:56.006587] (bb): Selecting agent ka_rp_explore_2 (TV: 0.5) to execute (TE: 582)\n",
      "INFO [2020-05-06 17:26:56.119607] (ka_br_lvl3): Core core_[75.74, 53.38, 0.99] Fitness: 1.616868890251985\n",
      "INFO [2020-05-06 17:26:59.022636] (bb): Selecting agent ka_br_lvl3 (TV: 3) to execute (TE: 583)\n",
      "INFO [2020-05-06 17:27:01.664743] (ka_br_lvl3): Core core_[52.91, 68.48, 0.75] Fitness: 1.6269229536680223\n",
      "INFO [2020-05-06 17:27:02.033581] (bb): Selecting agent ka_br_lvl3 (TV: 3) to execute (TE: 584)\n",
      "INFO [2020-05-06 17:27:03.650625] (ka_br_lvl3): Core core_[76.51, 53.26, 0.79] Fitness: 2.0288245704553045\n",
      "INFO [2020-05-06 17:27:05.047344] (bb): Selecting agent ka_rp_explore_1 (TV: 1.0) to execute (TE: 585)\n",
      "INFO [2020-05-06 17:27:05.183671] (ka_br_lvl3): Core core_[76.51, 53.26, 0.79] Fitness: 2.0288245704553045\n",
      "INFO [2020-05-06 17:27:08.062751] (bb): Selecting agent ka_rp_explore_2 (TV: 1.0) to execute (TE: 586)\n",
      "INFO [2020-05-06 17:27:08.176156] (ka_br_lvl3): Core core_[76.51, 53.26, 0.79] Fitness: 2.0288245704553045\n",
      "INFO [2020-05-06 17:27:11.077056] (bb): Selecting agent ka_br_lvl3 (TV: 3) to execute (TE: 587)\n",
      "INFO [2020-05-06 17:27:13.736886] (ka_br_lvl3): Core core_[72.69, 53.09, 0.89] Fitness: 1.761096817213984\n",
      "INFO [2020-05-06 17:27:14.096688] (bb): Selecting agent ka_br_lvl3 (TV: 3) to execute (TE: 588)\n",
      "INFO [2020-05-06 17:27:15.718297] (ka_br_lvl3): Core core_[73.88, 55.26, 0.76] Fitness: 2.026316272014839\n",
      "INFO [2020-05-06 17:27:17.106965] (bb): Selecting agent ka_rp_explore_1 (TV: 1.0) to execute (TE: 589)\n",
      "INFO [2020-05-06 17:27:17.258929] (ka_br_lvl3): Core core_[73.88, 55.26, 0.76] Fitness: 2.026316272014839\n",
      "INFO [2020-05-06 17:27:20.118490] (bb): Selecting agent ka_br_lvl3 (TV: 3) to execute (TE: 590)\n",
      "INFO [2020-05-06 17:27:22.772707] (ka_br_lvl3): Core core_[58.05, 67.51, 0.7] Fitness: 1.8394951678609197\n",
      "INFO [2020-05-06 17:27:23.129206] (bb): Selecting agent ka_rp_explore_2 (TV: 1.25) to execute (TE: 591)\n",
      "INFO [2020-05-06 17:27:23.253506] (ka_br_lvl3): Core core_[58.05, 67.51, 0.7] Fitness: 1.8394951678609197\n",
      "INFO [2020-05-06 17:27:26.138288] (bb): Selecting agent ka_br_lvl2 (TV: 4) to execute (TE: 592)\n",
      "INFO [2020-05-06 17:27:26.229452] (ka_br_lvl3): Core core_[58.05, 67.51, 0.7] Fitness: 1.8394951678609197\n",
      "INFO [2020-05-06 17:27:29.146756] (bb): Selecting agent ka_rp_explore_1 (TV: 1.0) to execute (TE: 593)\n",
      "INFO [2020-05-06 17:27:29.260789] (ka_br_lvl3): Core core_[58.05, 67.51, 0.7] Fitness: 1.8394951678609197\n",
      "INFO [2020-05-06 17:27:32.159642] (bb): Selecting agent ka_rp_exploit (TV: 5) to execute (TE: 594)\n",
      "INFO [2020-05-06 17:27:32.296452] (ka_br_lvl3): Core core_[58.05, 67.51, 0.7] Fitness: 1.8394951678609197\n",
      "INFO [2020-05-06 17:27:35.232866] (bb): Selecting agent ka_rp_explore_2 (TV: 1.0) to execute (TE: 595)\n",
      "INFO [2020-05-06 17:27:35.324695] (ka_br_lvl3): Core core_[58.05, 67.51, 0.7] Fitness: 1.8394951678609197\n",
      "INFO [2020-05-06 17:27:38.248619] (bb): Selecting agent ka_br_lvl3 (TV: 3) to execute (TE: 596)\n"
     ]
    },
    {
     "name": "stdout",
     "output_type": "stream",
     "text": [
      "INFO [2020-05-06 17:27:40.912682] (ka_br_lvl3): Core core_[67.83, 67.4, 0.61] Fitness: 2.079597478309601\n",
      "INFO [2020-05-06 17:27:41.261419] (bb): Selecting agent ka_br_lvl3 (TV: 3) to execute (TE: 597)\n",
      "INFO [2020-05-06 17:27:42.879755] (ka_br_lvl3): Core core_[68.08, 59.79, 0.58] Fitness: 2.2741943541465433\n",
      "INFO [2020-05-06 17:27:44.277998] (bb): Selecting agent ka_br_lvl3 (TV: 3) to execute (TE: 598)\n",
      "INFO [2020-05-06 17:27:46.933442] (ka_br_lvl3): Core core_[58.97, 67.24, 0.75] Fitness: 1.737882204333453\n",
      "INFO [2020-05-06 17:27:47.295677] (bb): Selecting agent ka_br_lvl3 (TV: 3) to execute (TE: 599)\n",
      "INFO [2020-05-06 17:27:50.312588] (bb): Selecting agent ka_rp_explore_1 (TV: 1.75) to execute (TE: 600)\n",
      "INFO [2020-05-06 17:27:50.315886] (bb): Writing blackboard to archive\n",
      "INFO [2020-05-06 17:27:56.339216] (bb): Finished writing to archive\n",
      "INFO [2020-05-06 17:27:59.346657] (bb): Selecting agent ka_rp_explore_2 (TV: 1.5) to execute (TE: 601)\n",
      "INFO [2020-05-06 17:28:01.036504] (ka_br_lvl3): Core core_[73.1412, 55.26, 0.76] Fitness: 1.9962057638990451\n",
      "INFO [2020-05-06 17:28:01.095757] (ka_br_lvl3): Core core_[73.1412, 55.26, 0.76] Fitness: 1.9962057638990451\n",
      "INFO [2020-05-06 17:28:01.149254] (ka_br_lvl3): Core core_[73.1412, 55.26, 0.76] Fitness: 1.9962057638990451\n",
      "INFO [2020-05-06 17:28:02.355969] (bb): Selecting agent ka_rp_explore_1 (TV: 0.5) to execute (TE: 602)\n",
      "INFO [2020-05-06 17:28:02.473423] (ka_br_lvl3): Core core_[73.1412, 55.26, 0.76] Fitness: 1.9962057638990451\n",
      "INFO [2020-05-06 17:28:05.365340] (bb): Selecting agent ka_rp_explore_2 (TV: 0.5) to execute (TE: 603)\n",
      "INFO [2020-05-06 17:28:05.481747] (ka_br_lvl3): Core core_[73.1412, 55.26, 0.76] Fitness: 1.9962057638990451\n",
      "INFO [2020-05-06 17:28:08.377784] (bb): Selecting agent ka_rp_explore_1 (TV: 0.5) to execute (TE: 604)\n",
      "INFO [2020-05-06 17:28:08.494212] (ka_br_lvl3): Core core_[73.1412, 55.26, 0.76] Fitness: 1.9962057638990451\n",
      "INFO [2020-05-06 17:28:11.396212] (bb): Selecting agent ka_rp_explore_2 (TV: 0.5) to execute (TE: 605)\n",
      "INFO [2020-05-06 17:28:11.512616] (ka_br_lvl3): Core core_[73.1412, 55.26, 0.76] Fitness: 1.9962057638990451\n",
      "INFO [2020-05-06 17:28:14.409322] (bb): Selecting agent ka_rp_explore_1 (TV: 0.5) to execute (TE: 606)\n",
      "INFO [2020-05-06 17:28:14.526823] (ka_br_lvl3): Core core_[73.1412, 55.26, 0.76] Fitness: 1.9962057638990451\n",
      "INFO [2020-05-06 17:28:17.428066] (bb): Selecting agent ka_br_lvl3 (TV: 3) to execute (TE: 607)\n",
      "INFO [2020-05-06 17:28:19.039193] (ka_br_lvl3): Core core_[74.6188, 55.26, 0.76] Fitness: 2.056140930340699\n",
      "INFO [2020-05-06 17:28:20.447177] (bb): Selecting agent ka_rp_explore_2 (TV: 0.75) to execute (TE: 608)\n",
      "INFO [2020-05-06 17:28:20.564939] (ka_br_lvl3): Core core_[74.6188, 55.26, 0.76] Fitness: 2.056140930340699\n",
      "INFO [2020-05-06 17:28:23.463714] (bb): Selecting agent ka_br_lvl2 (TV: 4) to execute (TE: 609)\n",
      "INFO [2020-05-06 17:28:23.608143] (ka_br_lvl3): Core core_[74.6188, 55.26, 0.76] Fitness: 2.056140930340699\n",
      "INFO [2020-05-06 17:28:26.474900] (bb): Selecting agent ka_rp_explore_1 (TV: 1.0) to execute (TE: 610)\n",
      "INFO [2020-05-06 17:28:26.593367] (ka_br_lvl3): Core core_[74.6188, 55.26, 0.76] Fitness: 2.056140930340699\n",
      "INFO [2020-05-06 17:28:29.485908] (bb): Selecting agent ka_rp_exploit (TV: 5) to execute (TE: 611)\n",
      "INFO [2020-05-06 17:28:29.628322] (ka_br_lvl3): Core core_[74.6188, 55.26, 0.76] Fitness: 2.056140930340699\n",
      "INFO [2020-05-06 17:28:32.568765] (bb): Selecting agent ka_rp_explore_2 (TV: 1.0) to execute (TE: 612)\n",
      "INFO [2020-05-06 17:28:32.663739] (ka_br_lvl3): Core core_[74.6188, 55.26, 0.76] Fitness: 2.056140930340699\n",
      "INFO [2020-05-06 17:28:35.584156] (bb): Selecting agent ka_br_lvl3 (TV: 3) to execute (TE: 613)\n",
      "INFO [2020-05-06 17:28:37.199692] (ka_br_lvl3): Core core_[73.88, 54.7074, 0.76] Fitness: 2.0196821364394104\n",
      "INFO [2020-05-06 17:28:38.600500] (bb): Selecting agent ka_br_lvl3 (TV: 3) to execute (TE: 614)\n",
      "INFO [2020-05-06 17:28:40.223783] (ka_br_lvl3): Core core_[73.88, 55.8126, 0.76] Fitness: 2.0329504075902673\n",
      "INFO [2020-05-06 17:28:41.611242] (bb): Selecting agent ka_br_lvl3 (TV: 3) to execute (TE: 615)\n",
      "INFO [2020-05-06 17:28:43.237232] (ka_br_lvl3): Core core_[73.88, 55.26, 0.7524] Fitness: 2.0423917803752407\n",
      "INFO [2020-05-06 17:28:44.619389] (bb): Selecting agent ka_br_lvl3 (TV: 3) to execute (TE: 616)\n",
      "INFO [2020-05-06 17:28:46.236128] (ka_br_lvl3): Core core_[73.88, 55.26, 0.7676] Fitness: 2.0102407636544366\n",
      "INFO [2020-05-06 17:28:47.636086] (bb): Selecting agent ka_br_lvl3 (TV: 3) to execute (TE: 617)\n",
      "INFO [2020-05-06 17:28:49.260930] (ka_br_lvl3): Core core_[64.84, 61.48, 0.47] Fitness: 2.4453233749561765\n",
      "INFO [2020-05-06 17:28:50.650420] (bb): Selecting agent ka_br_lvl2 (TV: 4) to execute (TE: 618)\n",
      "INFO [2020-05-06 17:28:50.794979] (ka_br_lvl3): Core core_[64.84, 61.48, 0.47] Fitness: 2.4453233749561765\n",
      "INFO [2020-05-06 17:28:53.664914] (bb): Selecting agent ka_rp_explore_1 (TV: 2.25) to execute (TE: 619)\n",
      "INFO [2020-05-06 17:28:53.783132] (ka_br_lvl3): Core core_[64.84, 61.48, 0.47] Fitness: 2.4453233749561765\n",
      "INFO [2020-05-06 17:28:56.683094] (bb): Selecting agent ka_rp_exploit (TV: 5) to execute (TE: 620)\n",
      "INFO [2020-05-06 17:28:56.827059] (ka_br_lvl3): Core core_[64.84, 61.48, 0.47] Fitness: 2.4453233749561765\n",
      "INFO [2020-05-06 17:28:59.761447] (bb): Selecting agent ka_br_lvl3 (TV: 3) to execute (TE: 621)\n",
      "INFO [2020-05-06 17:29:02.778352] (bb): Selecting agent ka_rp_explore_2 (TV: 2.5) to execute (TE: 622)\n",
      "INFO [2020-05-06 17:29:05.786161] (bb): Selecting agent ka_rp_explore_1 (TV: 1.0) to execute (TE: 623)\n",
      "INFO [2020-05-06 17:29:06.072479] (ka_br_lvl3): Core core_[78.09, 57.99, 0.76] Fitness: 1.9875615444917498\n",
      "INFO [2020-05-06 17:29:06.132130] (ka_br_lvl3): Core core_[78.09, 57.99, 0.76] Fitness: 1.9875615444917498\n",
      "INFO [2020-05-06 17:29:06.187247] (ka_br_lvl3): Core core_[78.09, 57.99, 0.76] Fitness: 1.9875615444917498\n",
      "INFO [2020-05-06 17:29:08.801256] (bb): Selecting agent ka_br_lvl3 (TV: 3) to execute (TE: 624)\n",
      "INFO [2020-05-06 17:29:10.421529] (ka_br_lvl3): Core core_[71.89, 64.09, 0.67] Fitness: 2.000225644784536\n",
      "INFO [2020-05-06 17:29:11.813987] (bb): Selecting agent ka_rp_explore_2 (TV: 0.75) to execute (TE: 625)\n",
      "INFO [2020-05-06 17:29:11.968542] (ka_br_lvl3): Core core_[71.89, 64.09, 0.67] Fitness: 2.000225644784536\n",
      "INFO [2020-05-06 17:29:14.828252] (bb): Selecting agent ka_br_lvl3 (TV: 3) to execute (TE: 626)\n",
      "INFO [2020-05-06 17:29:17.498499] (ka_br_lvl3): Core core_[60.51, 69.69, 0.25] Fitness: 2.886223817660151\n",
      "INFO [2020-05-06 17:29:17.836316] (bb): Selecting agent ka_br_lvl3 (TV: 3) to execute (TE: 627)\n",
      "INFO [2020-05-06 17:29:19.500490] (ka_br_lvl3): Core core_[76.28, 64.25, 0.54] Fitness: 2.319955818518505\n",
      "INFO [2020-05-06 17:29:20.852405] (bb): Selecting agent ka_br_lvl3 (TV: 3) to execute (TE: 628)\n",
      "INFO [2020-05-06 17:29:22.486559] (ka_br_lvl3): Core core_[55.16, 67.09, 0.8] Fitness: 1.5872075960720322\n",
      "INFO [2020-05-06 17:29:23.864266] (bb): Selecting agent ka_br_lvl3 (TV: 3) to execute (TE: 629)\n",
      "INFO [2020-05-06 17:29:25.488720] (ka_br_lvl3): Core core_[59.49, 63.78, 0.81] Fitness: 1.642133982910795\n",
      "INFO [2020-05-06 17:29:26.880692] (bb): Selecting agent ka_br_lvl2 (TV: 4) to execute (TE: 630)\n",
      "INFO [2020-05-06 17:29:26.977309] (ka_br_lvl3): Core core_[59.49, 63.78, 0.81] Fitness: 1.642133982910795\n",
      "INFO [2020-05-06 17:29:29.896785] (bb): Selecting agent ka_br_lvl3 (TV: 3) to execute (TE: 631)\n",
      "INFO [2020-05-06 17:29:31.523804] (ka_br_lvl3): Core core_[72.4098, 55.26, 0.76] Fitness: 1.963124404504688\n",
      "INFO [2020-05-06 17:29:32.909150] (bb): Selecting agent ka_rp_exploit (TV: 5) to execute (TE: 632)\n",
      "INFO [2020-05-06 17:29:33.077121] (ka_br_lvl3): Core core_[72.4098, 55.26, 0.76] Fitness: 1.963124404504688\n",
      "INFO [2020-05-06 17:29:36.001316] (bb): Selecting agent ka_rp_explore_1 (TV: 2.5) to execute (TE: 633)\n",
      "INFO [2020-05-06 17:29:36.073783] (ka_br_lvl3): Core core_[72.4098, 55.26, 0.76] Fitness: 1.963124404504688\n",
      "INFO [2020-05-06 17:29:39.017918] (bb): Selecting agent ka_br_lvl3 (TV: 3) to execute (TE: 634)\n",
      "INFO [2020-05-06 17:29:41.151090] (ka_br_lvl3): Core core_[73.8726, 55.26, 0.76] Fitness: 2.0260175410029118\n",
      "INFO [2020-05-06 17:29:42.033284] (bb): Selecting agent ka_br_lvl3 (TV: 3) to execute (TE: 635)\n"
     ]
    },
    {
     "name": "stdout",
     "output_type": "stream",
     "text": [
      "INFO [2020-05-06 17:29:43.691589] (ka_br_lvl3): Core core_[73.1412, 54.7074, 0.76] Fitness: 1.9895716283236164\n",
      "INFO [2020-05-06 17:29:45.043613] (bb): Selecting agent ka_br_lvl3 (TV: 3) to execute (TE: 636)\n",
      "INFO [2020-05-06 17:29:46.669881] (ka_br_lvl3): Core core_[73.1412, 55.8126, 0.76] Fitness: 2.0028398994744734\n",
      "INFO [2020-05-06 17:29:48.060012] (bb): Selecting agent ka_rp_explore_2 (TV: 3.0) to execute (TE: 637)\n",
      "INFO [2020-05-06 17:29:48.215198] (ka_br_lvl3): Core core_[73.1412, 55.8126, 0.76] Fitness: 2.0028398994744734\n",
      "INFO [2020-05-06 17:29:51.070805] (bb): Selecting agent ka_rp_explore_1 (TV: 1.25) to execute (TE: 638)\n",
      "INFO [2020-05-06 17:29:51.194200] (ka_br_lvl3): Core core_[73.1412, 55.8126, 0.76] Fitness: 2.0028398994744734\n",
      "INFO [2020-05-06 17:29:54.083428] (bb): Selecting agent ka_br_lvl3 (TV: 3) to execute (TE: 639)\n",
      "INFO [2020-05-06 17:29:55.709827] (ka_br_lvl3): Core core_[73.1412, 55.26, 0.7524] Fitness: 2.0125671220493815\n",
      "INFO [2020-05-06 17:29:57.097748] (bb): Selecting agent ka_br_lvl3 (TV: 3) to execute (TE: 640)\n",
      "INFO [2020-05-06 17:29:58.716917] (ka_br_lvl3): Core core_[73.1412, 55.26, 0.7676] Fitness: 1.979551993167824\n",
      "INFO [2020-05-06 17:30:00.114490] (bb): Selecting agent ka_rp_explore_2 (TV: 1.0) to execute (TE: 641)\n",
      "INFO [2020-05-06 17:30:00.254752] (ka_br_lvl3): Core core_[73.1412, 55.26, 0.7676] Fitness: 1.979551993167824\n",
      "INFO [2020-05-06 17:30:03.123444] (bb): Selecting agent ka_br_lvl3 (TV: 3) to execute (TE: 642)\n",
      "INFO [2020-05-06 17:30:06.137504] (bb): Selecting agent ka_rp_explore_1 (TV: 1.25) to execute (TE: 643)\n",
      "INFO [2020-05-06 17:30:06.852987] (ka_br_lvl3): Core core_[74.6188, 55.26, 0.7524] Fitness: 2.0722164387011013\n",
      "INFO [2020-05-06 17:30:06.912941] (ka_br_lvl3): Core core_[74.6188, 55.26, 0.7524] Fitness: 2.0722164387011013\n",
      "INFO [2020-05-06 17:30:09.153655] (bb): Selecting agent ka_br_lvl3 (TV: 3) to execute (TE: 644)\n",
      "INFO [2020-05-06 17:30:10.813156] (ka_br_lvl3): Core core_[73.88, 54.7074, 0.7524] Fitness: 2.035757644799812\n",
      "INFO [2020-05-06 17:30:12.164777] (bb): Selecting agent ka_br_lvl3 (TV: 3) to execute (TE: 645)\n",
      "INFO [2020-05-06 17:30:13.791720] (ka_br_lvl3): Core core_[73.88, 55.8126, 0.7524] Fitness: 2.04902591595067\n",
      "INFO [2020-05-06 17:30:15.180844] (bb): Selecting agent ka_rp_explore_2 (TV: 1.25) to execute (TE: 646)\n",
      "INFO [2020-05-06 17:30:15.336641] (ka_br_lvl3): Core core_[73.88, 55.8126, 0.7524] Fitness: 2.04902591595067\n",
      "INFO [2020-05-06 17:30:18.195608] (bb): Selecting agent ka_br_lvl2 (TV: 4) to execute (TE: 647)\n",
      "INFO [2020-05-06 17:30:18.288651] (ka_br_lvl3): Core core_[73.88, 55.8126, 0.7524] Fitness: 2.04902591595067\n",
      "INFO [2020-05-06 17:30:21.204735] (bb): Selecting agent ka_br_lvl3 (TV: 3) to execute (TE: 648)\n",
      "INFO [2020-05-06 17:30:22.823294] (ka_br_lvl3): Core core_[73.88, 55.26, 0.7449] Fitness: 2.0582557688887952\n",
      "INFO [2020-05-06 17:30:24.217070] (bb): Selecting agent ka_rp_exploit (TV: 5) to execute (TE: 649)\n",
      "INFO [2020-05-06 17:30:24.388714] (ka_br_lvl3): Core core_[73.88, 55.26, 0.7449] Fitness: 2.0582557688887952\n",
      "INFO [2020-05-06 17:30:27.309110] (bb): Selecting agent ka_br_lvl3 (TV: 3) to execute (TE: 650)\n",
      "INFO [2020-05-06 17:30:27.311653] (bb): Writing blackboard to archive\n",
      "INFO [2020-05-06 17:30:33.333162] (bb): Finished writing to archive\n",
      "INFO [2020-05-06 17:30:36.347843] (bb): Selecting agent ka_rp_explore_1 (TV: 2.0) to execute (TE: 651)\n",
      "INFO [2020-05-06 17:30:37.525392] (ka_br_lvl3): Core core_[73.88, 55.26, 0.7599] Fitness: 2.026527791861686\n",
      "INFO [2020-05-06 17:30:37.581926] (ka_br_lvl3): Core core_[73.88, 55.26, 0.7599] Fitness: 2.026527791861686\n",
      "INFO [2020-05-06 17:30:39.361495] (bb): Selecting agent ka_br_lvl3 (TV: 3) to execute (TE: 652)\n",
      "INFO [2020-05-06 17:30:41.013885] (ka_br_lvl3): Core core_[64.89, 61.68, 0.88] Fitness: 1.5968879758313692\n",
      "INFO [2020-05-06 17:30:42.371862] (bb): Selecting agent ka_br_lvl3 (TV: 3) to execute (TE: 653)\n",
      "INFO [2020-05-06 17:30:43.996694] (ka_br_lvl3): Core core_[73.62, 58.48, 0.93] Fitness: 1.6122281268537808\n",
      "INFO [2020-05-06 17:30:45.387731] (bb): Selecting agent ka_br_lvl3 (TV: 3) to execute (TE: 654)\n",
      "INFO [2020-05-06 17:30:47.016334] (ka_br_lvl3): Core core_[57.85, 62.5, 0.9] Fitness: 1.4698022864427038\n",
      "INFO [2020-05-06 17:30:48.397601] (bb): Selecting agent ka_br_lvl3 (TV: 3) to execute (TE: 655)\n",
      "INFO [2020-05-06 17:30:50.031486] (ka_br_lvl3): Core core_[75.5172, 64.25, 0.54] Fitness: 2.3293584072378715\n",
      "INFO [2020-05-06 17:30:51.413942] (bb): Selecting agent ka_br_lvl3 (TV: 3) to execute (TE: 656)\n",
      "INFO [2020-05-06 17:30:53.030741] (ka_br_lvl3): Core core_[77.0428, 64.25, 0.54] Fitness: 2.305070125204638\n",
      "INFO [2020-05-06 17:30:54.428381] (bb): Selecting agent ka_br_lvl2 (TV: 4) to execute (TE: 657)\n",
      "INFO [2020-05-06 17:30:54.527123] (ka_br_lvl3): Core core_[77.0428, 64.25, 0.54] Fitness: 2.305070125204638\n",
      "INFO [2020-05-06 17:30:57.439953] (bb): Selecting agent ka_br_lvl2 (TV: 4) to execute (TE: 658)\n",
      "INFO [2020-05-06 17:30:57.539780] (ka_br_lvl3): Core core_[77.0428, 64.25, 0.54] Fitness: 2.305070125204638\n",
      "INFO [2020-05-06 17:31:00.448314] (bb): Selecting agent ka_rp_exploit (TV: 5) to execute (TE: 659)\n",
      "INFO [2020-05-06 17:31:00.611916] (ka_br_lvl3): Core core_[77.0428, 64.25, 0.54] Fitness: 2.305070125204638\n",
      "INFO [2020-05-06 17:31:03.556213] (bb): Selecting agent ka_rp_explore_2 (TV: 3.5) to execute (TE: 660)\n",
      "INFO [2020-05-06 17:31:03.559287] (bb): Writing blackboard to archive\n",
      "INFO [2020-05-06 17:31:09.567424] (bb): Finished writing to archive\n",
      "INFO [2020-05-06 17:31:09.707160] (ka_br_lvl3): Core core_[77.0428, 64.25, 0.54] Fitness: 2.305070125204638\n",
      "INFO [2020-05-06 17:31:12.574302] (bb): Selecting agent ka_rp_exploit (TV: 5) to execute (TE: 661)\n",
      "INFO [2020-05-06 17:31:12.733704] (ka_br_lvl3): Core core_[77.0428, 64.25, 0.54] Fitness: 2.305070125204638\n",
      "INFO [2020-05-06 17:31:15.689219] (bb): Selecting agent ka_br_lvl3 (TV: 3) to execute (TE: 662)\n",
      "INFO [2020-05-06 17:31:18.697026] (bb): Selecting agent ka_rp_explore_1 (TV: 3.0) to execute (TE: 663)\n",
      "INFO [2020-05-06 17:31:18.887766] (ka_br_lvl3): Core core_[76.28, 63.6075, 0.54] Fitness: 2.345914611067112\n",
      "INFO [2020-05-06 17:31:18.965500] (ka_br_lvl3): Core core_[76.28, 63.6075, 0.54] Fitness: 2.345914611067112\n",
      "INFO [2020-05-06 17:31:21.705857] (bb): Selecting agent ka_br_lvl3 (TV: 3) to execute (TE: 664)\n",
      "INFO [2020-05-06 17:31:23.324644] (ka_br_lvl3): Core core_[76.28, 64.8925, 0.54] Fitness: 2.2913473298063183\n",
      "INFO [2020-05-06 17:31:24.713946] (bb): Selecting agent ka_br_lvl3 (TV: 3) to execute (TE: 665)\n",
      "INFO [2020-05-06 17:31:26.342599] (ka_br_lvl3): Core core_[76.28, 64.25, 0.5346] Fitness: 2.3328652599229587\n",
      "INFO [2020-05-06 17:31:27.722826] (bb): Selecting agent ka_br_lvl3 (TV: 3) to execute (TE: 666)\n",
      "INFO [2020-05-06 17:31:29.344374] (ka_br_lvl3): Core core_[76.28, 64.25, 0.5454] Fitness: 2.3070463771140512\n",
      "INFO [2020-05-06 17:31:30.733736] (bb): Selecting agent ka_br_lvl3 (TV: 3) to execute (TE: 667)\n",
      "INFO [2020-05-06 17:31:33.747299] (bb): Selecting agent ka_rp_explore_2 (TV: 2.0) to execute (TE: 668)\n",
      "INFO [2020-05-06 17:31:34.443713] (ka_br_lvl3): Core core_[69.02, 64.25, 0.94] Fitness: 1.4352639411922328\n",
      "INFO [2020-05-06 17:31:34.507650] (ka_br_lvl3): Core core_[69.02, 64.25, 0.94] Fitness: 1.4352639411922328\n",
      "INFO [2020-05-06 17:31:36.760271] (bb): Selecting agent ka_br_lvl3 (TV: 3) to execute (TE: 669)\n",
      "INFO [2020-05-06 17:31:39.770062] (bb): Selecting agent ka_rp_explore_1 (TV: 1.75) to execute (TE: 670)\n",
      "INFO [2020-05-06 17:31:42.777790] (bb): Selecting agent ka_rp_explore_2 (TV: 0.75) to execute (TE: 671)\n",
      "INFO [2020-05-06 17:31:43.043809] (ka_br_lvl3): Core core_[73.1412, 54.7074, 0.7524] Fitness: 2.0059329864739532\n",
      "INFO [2020-05-06 17:31:43.106868] (ka_br_lvl3): Core core_[73.1412, 54.7074, 0.7524] Fitness: 2.0059329864739532\n",
      "INFO [2020-05-06 17:31:43.166859] (ka_br_lvl3): Core core_[73.1412, 54.7074, 0.7524] Fitness: 2.0059329864739532\n",
      "INFO [2020-05-06 17:31:45.785781] (bb): Selecting agent ka_br_lvl3 (TV: 3) to execute (TE: 672)\n",
      "INFO [2020-05-06 17:31:47.405942] (ka_br_lvl3): Core core_[74.6188, 54.7074, 0.7524] Fitness: 2.0655823031256717\n",
      "INFO [2020-05-06 17:31:48.796323] (bb): Selecting agent ka_br_lvl3 (TV: 3) to execute (TE: 673)\n",
      "INFO [2020-05-06 17:31:50.415521] (ka_br_lvl3): Core core_[73.88, 54.1603, 0.7524] Fitness: 2.0291895384420187\n"
     ]
    },
    {
     "name": "stdout",
     "output_type": "stream",
     "text": [
      "INFO [2020-05-06 17:31:51.806213] (bb): Selecting agent ka_br_lvl3 (TV: 3) to execute (TE: 674)\n",
      "INFO [2020-05-06 17:31:53.434202] (ka_br_lvl3): Core core_[73.88, 55.2545, 0.7524] Fitness: 2.042325751157607\n",
      "INFO [2020-05-06 17:31:54.814331] (bb): Selecting agent ka_rp_explore_1 (TV: 1.25) to execute (TE: 675)\n",
      "INFO [2020-05-06 17:31:55.028610] (ka_br_lvl3): Core core_[73.88, 55.2545, 0.7524] Fitness: 2.042325751157607\n",
      "INFO [2020-05-06 17:31:57.827280] (bb): Selecting agent ka_br_lvl2 (TV: 4) to execute (TE: 676)\n",
      "INFO [2020-05-06 17:31:57.932669] (ka_br_lvl3): Core core_[73.88, 55.2545, 0.7524] Fitness: 2.042325751157607\n",
      "INFO [2020-05-06 17:32:00.837245] (bb): Selecting agent ka_br_lvl3 (TV: 3) to execute (TE: 677)\n",
      "INFO [2020-05-06 17:32:02.460141] (ka_br_lvl3): Core core_[73.88, 54.7074, 0.7449] Fitness: 2.051621633313367\n",
      "INFO [2020-05-06 17:32:03.849958] (bb): Selecting agent ka_rp_exploit (TV: 5) to execute (TE: 678)\n",
      "INFO [2020-05-06 17:32:04.031030] (ka_br_lvl3): Core core_[73.88, 54.7074, 0.7449] Fitness: 2.051621633313367\n",
      "INFO [2020-05-06 17:32:06.947914] (bb): Selecting agent ka_br_lvl3 (TV: 3) to execute (TE: 679)\n",
      "INFO [2020-05-06 17:32:09.956594] (bb): Selecting agent ka_rp_explore_2 (TV: 2.25) to execute (TE: 680)\n",
      "INFO [2020-05-06 17:32:09.959242] (bb): Writing blackboard to archive\n",
      "INFO [2020-05-06 17:32:15.971366] (bb): Finished writing to archive\n",
      "INFO [2020-05-06 17:32:18.981306] (bb): Selecting agent ka_rp_explore_1 (TV: 1.5) to execute (TE: 681)\n",
      "INFO [2020-05-06 17:32:19.114422] (ka_br_lvl3): Core core_[73.88, 54.7074, 0.7599] Fitness: 2.019893656286258\n",
      "INFO [2020-05-06 17:32:19.174358] (ka_br_lvl3): Core core_[73.88, 54.7074, 0.7599] Fitness: 2.019893656286258\n",
      "INFO [2020-05-06 17:32:19.235560] (ka_br_lvl3): Core core_[73.88, 54.7074, 0.7599] Fitness: 2.019893656286258\n",
      "INFO [2020-05-06 17:32:22.030217] (bb): Selecting agent ka_br_lvl3 (TV: 3) to execute (TE: 682)\n",
      "INFO [2020-05-06 17:32:23.653901] (ka_br_lvl3): Core core_[67.89, 61.44, 0.82] Fitness: 1.7558344234537748\n",
      "INFO [2020-05-06 17:32:25.038512] (bb): Selecting agent ka_br_lvl3 (TV: 3) to execute (TE: 683)\n",
      "INFO [2020-05-06 17:32:26.709874] (ka_br_lvl3): Core core_[74.762, 64.25, 0.54] Fitness: 2.326308674090378\n",
      "INFO [2020-05-06 17:32:28.048133] (bb): Selecting agent ka_br_lvl2 (TV: 4) to execute (TE: 684)\n",
      "INFO [2020-05-06 17:32:28.151465] (ka_br_lvl3): Core core_[74.762, 64.25, 0.54] Fitness: 2.326308674090378\n",
      "INFO [2020-05-06 17:32:31.056298] (bb): Selecting agent ka_br_lvl3 (TV: 3) to execute (TE: 685)\n",
      "INFO [2020-05-06 17:32:32.678564] (ka_br_lvl3): Core core_[76.2724, 64.25, 0.54] Fitness: 2.3201041290444424\n",
      "INFO [2020-05-06 17:32:34.066404] (bb): Selecting agent ka_rp_exploit (TV: 5) to execute (TE: 686)\n",
      "INFO [2020-05-06 17:32:34.251675] (ka_br_lvl3): Core core_[76.2724, 64.25, 0.54] Fitness: 2.3201041290444424\n",
      "INFO [2020-05-06 17:32:37.160562] (bb): Selecting agent ka_br_lvl3 (TV: 3) to execute (TE: 687)\n",
      "INFO [2020-05-06 17:32:40.173910] (bb): Selecting agent ka_rp_explore_2 (TV: 2.0) to execute (TE: 688)\n",
      "INFO [2020-05-06 17:32:41.818489] (ka_br_lvl3): Core core_[75.5172, 63.6075, 0.54] Fitness: 2.3428341867491724\n",
      "INFO [2020-05-06 17:32:41.887200] (ka_br_lvl3): Core core_[75.5172, 63.6075, 0.54] Fitness: 2.3428341867491724\n",
      "INFO [2020-05-06 17:32:43.220162] (bb): Selecting agent ka_br_lvl3 (TV: 3) to execute (TE: 689)\n",
      "INFO [2020-05-06 17:32:44.830246] (ka_br_lvl3): Core core_[75.5172, 64.8925, 0.54] Fitness: 2.3062330231201855\n",
      "INFO [2020-05-06 17:32:46.232152] (bb): Selecting agent ka_br_lvl3 (TV: 3) to execute (TE: 690)\n",
      "INFO [2020-05-06 17:32:47.857034] (ka_br_lvl3): Core core_[75.5172, 64.25, 0.5346] Fitness: 2.342267848642326\n",
      "INFO [2020-05-06 17:32:49.241342] (bb): Selecting agent ka_br_lvl2 (TV: 4) to execute (TE: 691)\n",
      "INFO [2020-05-06 17:32:49.402436] (ka_br_lvl3): Core core_[75.5172, 64.25, 0.5346] Fitness: 2.342267848642326\n",
      "INFO [2020-05-06 17:32:52.255201] (bb): Selecting agent ka_br_lvl3 (TV: 3) to execute (TE: 692)\n",
      "INFO [2020-05-06 17:32:53.881295] (ka_br_lvl3): Core core_[75.5172, 64.25, 0.5454] Fitness: 2.316448965833418\n",
      "INFO [2020-05-06 17:32:55.267423] (bb): Selecting agent ka_rp_exploit (TV: 5) to execute (TE: 693)\n",
      "INFO [2020-05-06 17:32:55.478546] (ka_br_lvl3): Core core_[75.5172, 64.25, 0.5454] Fitness: 2.316448965833418\n",
      "INFO [2020-05-06 17:32:58.354073] (bb): Selecting agent ka_rp_explore_1 (TV: 3.25) to execute (TE: 694)\n",
      "INFO [2020-05-06 17:32:58.431659] (ka_br_lvl3): Core core_[75.5172, 64.25, 0.5454] Fitness: 2.316448965833418\n",
      "INFO [2020-05-06 17:33:01.365965] (bb): Selecting agent ka_br_lvl3 (TV: 3) to execute (TE: 695)\n",
      "INFO [2020-05-06 17:33:04.378934] (bb): Selecting agent ka_rp_explore_2 (TV: 2.0) to execute (TE: 696)\n",
      "INFO [2020-05-06 17:33:04.565878] (ka_br_lvl3): Core core_[57.2715, 62.5, 0.9] Fitness: 1.4563583764452763\n",
      "INFO [2020-05-06 17:33:04.635764] (ka_br_lvl3): Core core_[57.2715, 62.5, 0.9] Fitness: 1.4563583764452763\n",
      "INFO [2020-05-06 17:33:07.387752] (bb): Selecting agent ka_br_lvl3 (TV: 3) to execute (TE: 697)\n",
      "INFO [2020-05-06 17:33:09.014821] (ka_br_lvl3): Core core_[58.4285, 62.5, 0.9] Fitness: 1.4765922134186331\n",
      "INFO [2020-05-06 17:33:10.395748] (bb): Selecting agent ka_br_lvl3 (TV: 3) to execute (TE: 698)\n",
      "INFO [2020-05-06 17:33:12.025457] (ka_br_lvl3): Core core_[57.85, 61.875, 0.9] Fitness: 1.4659480352782013\n",
      "INFO [2020-05-06 17:33:13.403883] (bb): Selecting agent ka_br_lvl3 (TV: 3) to execute (TE: 699)\n",
      "INFO [2020-05-06 17:33:15.033541] (ka_br_lvl3): Core core_[57.85, 63.125, 0.9] Fitness: 1.4656484617607637\n",
      "INFO [2020-05-06 17:33:16.412081] (bb): Selecting agent ka_br_lvl3 (TV: 3) to execute (TE: 700)\n",
      "INFO [2020-05-06 17:33:18.040704] (ka_br_lvl3): Core core_[57.85, 62.5, 0.891] Fitness: 1.4856302889941797\n",
      "INFO [2020-05-06 17:33:19.419994] (bb): Selecting agent ka_br_lvl3 (TV: 3) to execute (TE: 701)\n",
      "INFO [2020-05-06 17:33:21.050507] (ka_br_lvl3): Core core_[57.85, 62.5, 0.909] Fitness: 1.4539742838912277\n",
      "INFO [2020-05-06 17:33:22.429931] (bb): Selecting agent ka_br_lvl3 (TV: 3) to execute (TE: 702)\n",
      "INFO [2020-05-06 17:33:25.439705] (bb): Selecting agent ka_rp_explore_1 (TV: 2.25) to execute (TE: 703)\n",
      "INFO [2020-05-06 17:33:28.221727] (ka_br_lvl3): Core core_[70.52, 52.39, 0.92] Fitness: 1.6711097995039248\n",
      "INFO [2020-05-06 17:33:28.288266] (ka_br_lvl3): Core core_[70.52, 52.39, 0.92] Fitness: 1.6711097995039248\n",
      "INFO [2020-05-06 17:33:28.448953] (bb): Selecting agent ka_rp_explore_2 (TV: 2.0) to execute (TE: 704)\n",
      "INFO [2020-05-06 17:33:28.597894] (ka_br_lvl3): Core core_[70.52, 52.39, 0.92] Fitness: 1.6711097995039248\n",
      "INFO [2020-05-06 17:33:31.458693] (bb): Selecting agent ka_br_lvl3 (TV: 3) to execute (TE: 705)\n",
      "INFO [2020-05-06 17:33:33.083143] (ka_br_lvl3): Core core_[79.35, 57.64, 0.76] Fitness: 1.9807356593589664\n",
      "INFO [2020-05-06 17:33:34.472294] (bb): Selecting agent ka_br_lvl3 (TV: 3) to execute (TE: 706)\n",
      "INFO [2020-05-06 17:33:36.104050] (ka_br_lvl3): Core core_[73.1412, 54.1603, 0.7524] Fitness: 1.9993648801161588\n",
      "INFO [2020-05-06 17:33:37.483852] (bb): Selecting agent ka_rp_explore_1 (TV: 1.0) to execute (TE: 707)\n",
      "INFO [2020-05-06 17:33:37.652810] (ka_br_lvl3): Core core_[73.1412, 54.1603, 0.7524] Fitness: 1.9993648801161588\n",
      "INFO [2020-05-06 17:33:40.497600] (bb): Selecting agent ka_br_lvl3 (TV: 3) to execute (TE: 708)\n",
      "INFO [2020-05-06 17:33:42.127874] (ka_br_lvl3): Core core_[74.6188, 54.1603, 0.7524] Fitness: 2.056754717463912\n",
      "INFO [2020-05-06 17:33:43.508177] (bb): Selecting agent ka_br_lvl3 (TV: 3) to execute (TE: 709)\n",
      "INFO [2020-05-06 17:33:45.135112] (ka_br_lvl3): Core core_[73.88, 53.6187, 0.7524] Fitness: 2.021399779857744\n",
      "INFO [2020-05-06 17:33:46.515811] (bb): Selecting agent ka_br_lvl3 (TV: 3) to execute (TE: 710)\n",
      "INFO [2020-05-06 17:33:48.144253] (ka_br_lvl3): Core core_[73.88, 54.7019, 0.7524] Fitness: 2.035691615582178\n",
      "INFO [2020-05-06 17:33:49.525720] (bb): Selecting agent ka_br_lvl3 (TV: 3) to execute (TE: 711)\n",
      "INFO [2020-05-06 17:33:51.154081] (ka_br_lvl3): Core core_[73.88, 54.1603, 0.7449] Fitness: 2.0450535269555727\n",
      "INFO [2020-05-06 17:33:52.536757] (bb): Selecting agent ka_rp_explore_2 (TV: 2.0) to execute (TE: 712)\n",
      "INFO [2020-05-06 17:33:52.705780] (ka_br_lvl3): Core core_[73.88, 54.1603, 0.7449] Fitness: 2.0450535269555727\n"
     ]
    },
    {
     "name": "stdout",
     "output_type": "stream",
     "text": [
      "INFO [2020-05-06 17:33:55.547704] (bb): Selecting agent ka_br_lvl3 (TV: 3) to execute (TE: 713)\n",
      "INFO [2020-05-06 17:33:57.178214] (ka_br_lvl3): Core core_[73.88, 54.1603, 0.7599] Fitness: 2.0133255499284637\n",
      "INFO [2020-05-06 17:33:58.557010] (bb): Selecting agent ka_br_lvl3 (TV: 3) to execute (TE: 714)\n",
      "INFO [2020-05-06 17:34:01.569803] (bb): Selecting agent ka_rp_explore_1 (TV: 2.0) to execute (TE: 715)\n",
      "INFO [2020-05-06 17:34:02.282533] (ka_br_lvl3): Core core_[73.1412, 54.7074, 0.7599] Fitness: 1.9897907568858688\n",
      "INFO [2020-05-06 17:34:02.350036] (ka_br_lvl3): Core core_[73.1412, 54.7074, 0.7599] Fitness: 1.9897907568858688\n",
      "INFO [2020-05-06 17:34:04.582521] (bb): Selecting agent ka_rp_explore_2 (TV: 1.0) to execute (TE: 716)\n",
      "INFO [2020-05-06 17:34:04.718015] (ka_br_lvl3): Core core_[73.1412, 54.7074, 0.7599] Fitness: 1.9897907568858688\n",
      "INFO [2020-05-06 17:34:07.591722] (bb): Selecting agent ka_br_lvl3 (TV: 3) to execute (TE: 717)\n",
      "INFO [2020-05-06 17:34:09.215185] (ka_br_lvl3): Core core_[74.6188, 54.7074, 0.7599] Fitness: 2.0497183146121176\n",
      "INFO [2020-05-06 17:34:10.599780] (bb): Selecting agent ka_br_lvl3 (TV: 3) to execute (TE: 718)\n",
      "INFO [2020-05-06 17:34:12.231898] (ka_br_lvl3): Core core_[73.88, 55.2545, 0.7599] Fitness: 2.026461762644052\n",
      "INFO [2020-05-06 17:34:13.607812] (bb): Selecting agent ka_br_lvl3 (TV: 3) to execute (TE: 719)\n",
      "INFO [2020-05-06 17:34:15.234401] (ka_br_lvl3): Core core_[73.88, 54.7074, 0.7523] Fitness: 2.03596916464666\n",
      "INFO [2020-05-06 17:34:16.615857] (bb): Selecting agent ka_br_lvl3 (TV: 3) to execute (TE: 720)\n",
      "INFO [2020-05-06 17:34:18.249930] (ka_br_lvl3): Core core_[73.88, 54.7074, 0.7675] Fitness: 2.003818147925856\n",
      "INFO [2020-05-06 17:34:19.623868] (bb): Selecting agent ka_br_lvl3 (TV: 3) to execute (TE: 721)\n",
      "INFO [2020-05-06 17:34:22.303559] (ka_br_lvl3): Core core_[74.762, 63.6075, 0.54] Fitness: 2.3397844536016787\n",
      "INFO [2020-05-06 17:34:22.635962] (bb): Selecting agent ka_rp_explore_1 (TV: 1.75) to execute (TE: 722)\n",
      "INFO [2020-05-06 17:34:22.742420] (ka_br_lvl3): Core core_[74.762, 63.6075, 0.54] Fitness: 2.3397844536016787\n",
      "INFO [2020-05-06 17:34:25.649381] (bb): Selecting agent ka_br_lvl3 (TV: 3) to execute (TE: 723)\n",
      "INFO [2020-05-06 17:34:27.272955] (ka_br_lvl3): Core core_[76.2724, 63.6075, 0.54] Fitness: 2.3458839198966666\n",
      "INFO [2020-05-06 17:34:28.660939] (bb): Selecting agent ka_br_lvl3 (TV: 3) to execute (TE: 724)\n",
      "INFO [2020-05-06 17:34:30.289488] (ka_br_lvl3): Core core_[75.5172, 62.9714, 0.54] Fitness: 2.3561757328147577\n",
      "INFO [2020-05-06 17:34:31.673572] (bb): Selecting agent ka_br_lvl3 (TV: 3) to execute (TE: 725)\n",
      "INFO [2020-05-06 17:34:33.302874] (ka_br_lvl3): Core core_[75.5172, 64.2436, 0.54] Fitness: 2.3294926406835876\n",
      "INFO [2020-05-06 17:34:34.683111] (bb): Selecting agent ka_br_lvl2 (TV: 4) to execute (TE: 726)\n",
      "INFO [2020-05-06 17:34:34.792076] (ka_br_lvl3): Core core_[75.5172, 64.2436, 0.54] Fitness: 2.3294926406835876\n",
      "INFO [2020-05-06 17:34:37.694017] (bb): Selecting agent ka_br_lvl3 (TV: 3) to execute (TE: 727)\n",
      "INFO [2020-05-06 17:34:39.320074] (ka_br_lvl3): Core core_[75.5172, 63.6075, 0.5346] Fitness: 2.355743628153626\n",
      "INFO [2020-05-06 17:34:40.707639] (bb): Selecting agent ka_rp_exploit (TV: 5) to execute (TE: 728)\n",
      "INFO [2020-05-06 17:34:40.900393] (ka_br_lvl3): Core core_[75.5172, 63.6075, 0.5346] Fitness: 2.355743628153626\n",
      "INFO [2020-05-06 17:34:43.794424] (bb): Selecting agent ka_rp_explore_2 (TV: 3.25) to execute (TE: 729)\n",
      "INFO [2020-05-06 17:34:43.876650] (ka_br_lvl3): Core core_[75.5172, 63.6075, 0.5346] Fitness: 2.355743628153626\n",
      "INFO [2020-05-06 17:34:46.803953] (bb): Selecting agent ka_rp_explore_1 (TV: 2.0) to execute (TE: 730)\n",
      "INFO [2020-05-06 17:34:46.806749] (bb): Writing blackboard to archive\n",
      "INFO [2020-05-06 17:34:52.814322] (bb): Finished writing to archive\n",
      "INFO [2020-05-06 17:34:52.953688] (ka_br_lvl3): Core core_[75.5172, 63.6075, 0.5346] Fitness: 2.355743628153626\n",
      "INFO [2020-05-06 17:34:55.826887] (bb): Selecting agent ka_br_lvl3 (TV: 3) to execute (TE: 731)\n",
      "INFO [2020-05-06 17:34:57.497602] (ka_br_lvl3): Core core_[75.5172, 63.6075, 0.5454] Fitness: 2.329924745344719\n",
      "INFO [2020-05-06 17:34:58.835128] (bb): Selecting agent ka_br_lvl3 (TV: 3) to execute (TE: 732)\n",
      "INFO [2020-05-06 17:35:00.461250] (ka_br_lvl3): Core core_[64.2, 55.39, 0.97] Fitness: 1.4594478699616844\n",
      "INFO [2020-05-06 17:35:01.842903] (bb): Selecting agent ka_rp_explore_2 (TV: 1.0) to execute (TE: 733)\n",
      "INFO [2020-05-06 17:35:02.019814] (ka_br_lvl3): Core core_[64.2, 55.39, 0.97] Fitness: 1.4594478699616844\n",
      "INFO [2020-05-06 17:35:04.850933] (bb): Selecting agent ka_rp_explore_1 (TV: 1.0) to execute (TE: 734)\n",
      "INFO [2020-05-06 17:35:04.991970] (ka_br_lvl3): Core core_[64.2, 55.39, 0.97] Fitness: 1.4594478699616844\n",
      "INFO [2020-05-06 17:35:07.859524] (bb): Selecting agent ka_br_lvl3 (TV: 3) to execute (TE: 735)\n",
      "INFO [2020-05-06 17:35:09.490081] (ka_br_lvl3): Core core_[74.67, 60.46, 0.6] Fitness: 2.2649917309767504\n",
      "INFO [2020-05-06 17:35:10.867885] (bb): Selecting agent ka_br_lvl3 (TV: 3) to execute (TE: 736)\n",
      "INFO [2020-05-06 17:35:13.550160] (ka_br_lvl3): Core core_[70.33, 67.47, 0.6] Fitness: 2.079187245962363\n",
      "INFO [2020-05-06 17:35:13.875708] (bb): Selecting agent ka_br_lvl3 (TV: 3) to execute (TE: 737)\n",
      "INFO [2020-05-06 17:35:16.883875] (bb): Selecting agent ka_rp_explore_2 (TV: 1.25) to execute (TE: 738)\n",
      "INFO [2020-05-06 17:35:19.632352] (ka_br_lvl3): Core core_[61.6, 64.38, 0.73] Fitness: 1.8250040741378162\n",
      "INFO [2020-05-06 17:35:19.701466] (ka_br_lvl3): Core core_[61.6, 64.38, 0.73] Fitness: 1.8250040741378162\n",
      "INFO [2020-05-06 17:35:19.893692] (bb): Selecting agent ka_br_lvl2 (TV: 4) to execute (TE: 739)\n",
      "INFO [2020-05-06 17:35:20.001840] (ka_br_lvl3): Core core_[61.6, 64.38, 0.73] Fitness: 1.8250040741378162\n",
      "INFO [2020-05-06 17:35:22.901435] (bb): Selecting agent ka_rp_explore_1 (TV: 1.5) to execute (TE: 740)\n",
      "INFO [2020-05-06 17:35:23.039897] (ka_br_lvl3): Core core_[61.6, 64.38, 0.73] Fitness: 1.8250040741378162\n",
      "INFO [2020-05-06 17:35:25.911221] (bb): Selecting agent ka_rp_exploit (TV: 5) to execute (TE: 741)\n",
      "INFO [2020-05-06 17:35:26.080085] (ka_br_lvl3): Core core_[61.6, 64.38, 0.73] Fitness: 1.8250040741378162\n",
      "INFO [2020-05-06 17:35:28.960603] (bb): Selecting agent ka_br_lvl3 (TV: 3) to execute (TE: 742)\n",
      "INFO [2020-05-06 17:35:31.968665] (bb): Selecting agent ka_rp_explore_2 (TV: 1.25) to execute (TE: 743)\n",
      "INFO [2020-05-06 17:35:32.155964] (ka_br_lvl3): Core core_[62.59, 65.65, 0.78] Fitness: 1.7333642563716178\n",
      "INFO [2020-05-06 17:35:32.260671] (ka_br_lvl3): Core core_[62.59, 65.65, 0.78] Fitness: 1.7333642563716178\n",
      "INFO [2020-05-06 17:35:34.977842] (bb): Selecting agent ka_br_lvl3 (TV: 3) to execute (TE: 744)\n",
      "INFO [2020-05-06 17:35:36.606193] (ka_br_lvl3): Core core_[62.91, 66.22, 0.95] Fitness: 1.398313174315843\n",
      "INFO [2020-05-06 17:35:37.988090] (bb): Selecting agent ka_br_lvl3 (TV: 3) to execute (TE: 745)\n",
      "INFO [2020-05-06 17:35:40.669196] (ka_br_lvl3): Core core_[75.5097, 63.6075, 0.54] Fitness: 2.3428038994099163\n",
      "INFO [2020-05-06 17:35:41.000148] (bb): Selecting agent ka_br_lvl3 (TV: 3) to execute (TE: 746)\n",
      "INFO [2020-05-06 17:35:44.013930] (bb): Selecting agent ka_rp_explore_1 (TV: 1.75) to execute (TE: 747)\n",
      "INFO [2020-05-06 17:35:44.665360] (ka_br_lvl3): Core core_[77.0351, 63.6075, 0.54] Fitness: 2.3338288758970513\n",
      "INFO [2020-05-06 17:35:44.731116] (ka_br_lvl3): Core core_[77.0351, 63.6075, 0.54] Fitness: 2.3338288758970513\n",
      "INFO [2020-05-06 17:35:47.027593] (bb): Selecting agent ka_rp_explore_2 (TV: 1.25) to execute (TE: 748)\n",
      "INFO [2020-05-06 17:35:47.169930] (ka_br_lvl3): Core core_[77.0351, 63.6075, 0.54] Fitness: 2.3338288758970513\n",
      "INFO [2020-05-06 17:35:50.038732] (bb): Selecting agent ka_br_lvl3 (TV: 3) to execute (TE: 749)\n",
      "INFO [2020-05-06 17:35:51.668825] (ka_br_lvl3): Core core_[76.2724, 62.9714, 0.54] Fitness: 2.3592254659622514\n",
      "INFO [2020-05-06 17:35:53.047259] (bb): Selecting agent ka_br_lvl3 (TV: 3) to execute (TE: 750)\n",
      "INFO [2020-05-06 17:35:54.683099] (ka_br_lvl3): Core core_[76.2724, 64.2436, 0.54] Fitness: 2.3203891007607975\n",
      "INFO [2020-05-06 17:35:56.060934] (bb): Selecting agent ka_br_lvl3 (TV: 3) to execute (TE: 751)\n",
      "INFO [2020-05-06 17:35:57.743385] (ka_br_lvl3): Core core_[76.2724, 63.6075, 0.5346] Fitness: 2.358793361301121\n"
     ]
    },
    {
     "name": "stdout",
     "output_type": "stream",
     "text": [
      "INFO [2020-05-06 17:35:59.070739] (bb): Selecting agent ka_br_lvl3 (TV: 3) to execute (TE: 752)\n",
      "INFO [2020-05-06 17:36:00.704438] (ka_br_lvl3): Core core_[76.2724, 63.6075, 0.5454] Fitness: 2.3329744784922126\n",
      "INFO [2020-05-06 17:36:02.079297] (bb): Selecting agent ka_br_lvl3 (TV: 3) to execute (TE: 753)\n",
      "INFO [2020-05-06 17:36:03.714192] (ka_br_lvl3): Core core_[78.37, 58.36, 0.65] Fitness: 2.2329064462591113\n",
      "INFO [2020-05-06 17:36:05.091659] (bb): Selecting agent ka_br_lvl3 (TV: 3) to execute (TE: 754)\n",
      "INFO [2020-05-06 17:36:08.103225] (bb): Selecting agent ka_rp_explore_1 (TV: 2.0) to execute (TE: 755)\n",
      "INFO [2020-05-06 17:36:10.887141] (ka_br_lvl3): Core core_[62.24, 61.13, 0.74] Fitness: 1.827775138646397\n",
      "INFO [2020-05-06 17:36:10.957328] (ka_br_lvl3): Core core_[62.24, 61.13, 0.74] Fitness: 1.827775138646397\n",
      "INFO [2020-05-06 17:36:11.112516] (bb): Selecting agent ka_rp_explore_2 (TV: 2.0) to execute (TE: 756)\n",
      "INFO [2020-05-06 17:36:11.222962] (ka_br_lvl3): Core core_[62.24, 61.13, 0.74] Fitness: 1.827775138646397\n",
      "INFO [2020-05-06 17:36:14.122401] (bb): Selecting agent ka_rp_explore_1 (TV: 0.5) to execute (TE: 757)\n",
      "INFO [2020-05-06 17:36:14.320118] (ka_br_lvl3): Core core_[62.24, 61.13, 0.74] Fitness: 1.827775138646397\n",
      "INFO [2020-05-06 17:36:17.132900] (bb): Selecting agent ka_rp_explore_2 (TV: 0.5) to execute (TE: 758)\n",
      "INFO [2020-05-06 17:36:17.275003] (ka_br_lvl3): Core core_[62.24, 61.13, 0.74] Fitness: 1.827775138646397\n",
      "INFO [2020-05-06 17:36:20.141095] (bb): Selecting agent ka_rp_explore_1 (TV: 0.5) to execute (TE: 759)\n",
      "INFO [2020-05-06 17:36:20.283432] (ka_br_lvl3): Core core_[62.24, 61.13, 0.74] Fitness: 1.827775138646397\n",
      "INFO [2020-05-06 17:36:23.150028] (bb): Selecting agent ka_rp_explore_2 (TV: 0.5) to execute (TE: 760)\n",
      "INFO [2020-05-06 17:36:23.291540] (ka_br_lvl3): Core core_[62.24, 61.13, 0.74] Fitness: 1.827775138646397\n",
      "INFO [2020-05-06 17:36:26.162965] (bb): Selecting agent ka_rp_explore_1 (TV: 0.5) to execute (TE: 761)\n",
      "INFO [2020-05-06 17:36:26.303237] (ka_br_lvl3): Core core_[62.24, 61.13, 0.74] Fitness: 1.827775138646397\n",
      "INFO [2020-05-06 17:36:29.176794] (bb): Selecting agent ka_rp_explore_2 (TV: 0.5) to execute (TE: 762)\n",
      "INFO [2020-05-06 17:36:29.320218] (ka_br_lvl3): Core core_[62.24, 61.13, 0.74] Fitness: 1.827775138646397\n",
      "INFO [2020-05-06 17:36:32.188952] (bb): Selecting agent ka_rp_explore_1 (TV: 0.5) to execute (TE: 763)\n",
      "INFO [2020-05-06 17:36:32.333550] (ka_br_lvl3): Core core_[62.24, 61.13, 0.74] Fitness: 1.827775138646397\n",
      "INFO [2020-05-06 17:36:35.199847] (bb): Selecting agent ka_br_lvl3 (TV: 3) to execute (TE: 764)\n",
      "INFO [2020-05-06 17:36:36.838035] (ka_br_lvl3): Core core_[78.97, 57.42, 0.36] Fitness: 2.954153994839375\n",
      "INFO [2020-05-06 17:36:38.208263] (bb): Selecting agent ka_rp_explore_2 (TV: 0.75) to execute (TE: 765)\n",
      "INFO [2020-05-06 17:36:38.445745] (ka_br_lvl3): Core core_[78.97, 57.42, 0.36] Fitness: 2.954153994839375\n",
      "INFO [2020-05-06 17:36:41.220264] (bb): Selecting agent ka_rp_explore_1 (TV: 0.75) to execute (TE: 766)\n",
      "INFO [2020-05-06 17:36:41.363820] (ka_br_lvl3): Core core_[78.97, 57.42, 0.36] Fitness: 2.954153994839375\n",
      "INFO [2020-05-06 17:36:44.229109] (bb): Selecting agent ka_br_lvl3 (TV: 3) to execute (TE: 767)\n",
      "INFO [2020-05-06 17:36:45.868816] (ka_br_lvl3): Core core_[69.6267, 67.47, 0.6] Fitness: 2.0842054700631563\n",
      "INFO [2020-05-06 17:36:47.242571] (bb): Selecting agent ka_br_lvl3 (TV: 3) to execute (TE: 768)\n",
      "INFO [2020-05-06 17:36:48.878019] (ka_br_lvl3): Core core_[71.0333, 67.47, 0.6] Fitness: 2.0796265201520274\n",
      "INFO [2020-05-06 17:36:50.252956] (bb): Selecting agent ka_br_lvl3 (TV: 3) to execute (TE: 769)\n",
      "INFO [2020-05-06 17:36:51.896257] (ka_br_lvl3): Core core_[70.33, 66.7953, 0.6] Fitness: 2.095502943183372\n",
      "INFO [2020-05-06 17:36:53.263124] (bb): Selecting agent ka_br_lvl3 (TV: 3) to execute (TE: 770)\n",
      "INFO [2020-05-06 17:36:54.946233] (ka_br_lvl3): Core core_[70.33, 68.1447, 0.6] Fitness: 2.062871548741354\n",
      "INFO [2020-05-06 17:36:56.277658] (bb): Selecting agent ka_br_lvl3 (TV: 3) to execute (TE: 771)\n",
      "INFO [2020-05-06 17:36:57.911461] (ka_br_lvl3): Core core_[70.33, 67.47, 0.594] Fitness: 2.0923349596975376\n",
      "INFO [2020-05-06 17:36:59.296058] (bb): Selecting agent ka_br_lvl3 (TV: 3) to execute (TE: 772)\n",
      "INFO [2020-05-06 17:37:00.939411] (ka_br_lvl3): Core core_[70.33, 67.47, 0.606] Fitness: 2.0660395322271885\n",
      "INFO [2020-05-06 17:37:02.306172] (bb): Selecting agent ka_br_lvl3 (TV: 3) to execute (TE: 773)\n",
      "INFO [2020-05-06 17:37:05.324185] (bb): Selecting agent ka_rp_explore_2 (TV: 2.25) to execute (TE: 774)\n",
      "INFO [2020-05-06 17:37:07.619227] (ka_br_lvl3): Core core_[71.6, 63.09, 0.3] Fitness: 2.9246665569283525\n",
      "INFO [2020-05-06 17:37:07.689122] (ka_br_lvl3): Core core_[71.6, 63.09, 0.3] Fitness: 2.9246665569283525\n",
      "INFO [2020-05-06 17:37:08.333691] (bb): Selecting agent ka_rp_explore_1 (TV: 2.25) to execute (TE: 775)\n",
      "INFO [2020-05-06 17:37:08.449862] (ka_br_lvl3): Core core_[71.6, 63.09, 0.3] Fitness: 2.9246665569283525\n",
      "INFO [2020-05-06 17:37:11.347759] (bb): Selecting agent ka_br_lvl3 (TV: 3) to execute (TE: 776)\n",
      "INFO [2020-05-06 17:37:14.048182] (ka_br_lvl3): Core core_[79.84, 51.84, 0.81] Fitness: 2.0104502397979434\n",
      "INFO [2020-05-06 17:37:14.363655] (bb): Selecting agent ka_br_lvl3 (TV: 3) to execute (TE: 777)\n",
      "INFO [2020-05-06 17:37:17.065512] (ka_br_lvl3): Core core_[78.62, 65.6, 0.31] Fitness: 2.8475105043073734\n",
      "INFO [2020-05-06 17:37:17.375794] (bb): Selecting agent ka_br_lvl3 (TV: 3) to execute (TE: 778)\n",
      "INFO [2020-05-06 17:37:20.384008] (bb): Selecting agent ka_rp_explore_2 (TV: 1.25) to execute (TE: 779)\n",
      "INFO [2020-05-06 17:37:23.396165] (bb): Selecting agent ka_rp_explore_1 (TV: 1.25) to execute (TE: 780)\n",
      "INFO [2020-05-06 17:37:24.140471] (ka_br_lvl3): Core core_[73.39, 60.95, 0.84] Fitness: 1.7130575243840613\n",
      "INFO [2020-05-06 17:37:24.213564] (ka_br_lvl3): Core core_[73.39, 60.95, 0.84] Fitness: 1.7130575243840613\n",
      "INFO [2020-05-06 17:37:24.288325] (ka_br_lvl3): Core core_[73.39, 60.95, 0.84] Fitness: 1.7130575243840613\n",
      "INFO [2020-05-06 17:37:26.413430] (bb): Selecting agent ka_rp_explore_2 (TV: 0.5) to execute (TE: 781)\n",
      "INFO [2020-05-06 17:37:26.560151] (ka_br_lvl3): Core core_[73.39, 60.95, 0.84] Fitness: 1.7130575243840613\n",
      "INFO [2020-05-06 17:37:29.425982] (bb): Selecting agent ka_rp_explore_1 (TV: 0.5) to execute (TE: 782)\n",
      "INFO [2020-05-06 17:37:29.632840] (ka_br_lvl3): Core core_[73.39, 60.95, 0.84] Fitness: 1.7130575243840613\n",
      "INFO [2020-05-06 17:37:32.438763] (bb): Selecting agent ka_rp_explore_2 (TV: 0.5) to execute (TE: 783)\n",
      "INFO [2020-05-06 17:37:32.583520] (ka_br_lvl3): Core core_[73.39, 60.95, 0.84] Fitness: 1.7130575243840613\n",
      "INFO [2020-05-06 17:37:35.452821] (bb): Selecting agent ka_br_lvl3 (TV: 3) to execute (TE: 784)\n",
      "INFO [2020-05-06 17:37:38.464067] (bb): Selecting agent ka_rp_explore_1 (TV: 0.75) to execute (TE: 785)\n",
      "INFO [2020-05-06 17:37:41.318265] (ka_br_lvl3): Core core_[52.76, 67.5, 0.78] Fitness: 1.5780784462279627\n",
      "INFO [2020-05-06 17:37:41.389555] (ka_br_lvl3): Core core_[52.76, 67.5, 0.78] Fitness: 1.5780784462279627\n",
      "INFO [2020-05-06 17:37:41.476221] (bb): Selecting agent ka_rp_explore_2 (TV: 0.75) to execute (TE: 786)\n",
      "INFO [2020-05-06 17:37:41.587572] (ka_br_lvl3): Core core_[52.76, 67.5, 0.78] Fitness: 1.5780784462279627\n",
      "INFO [2020-05-06 17:37:44.492121] (bb): Selecting agent ka_rp_explore_1 (TV: 0.5) to execute (TE: 787)\n",
      "INFO [2020-05-06 17:37:44.637785] (ka_br_lvl3): Core core_[52.76, 67.5, 0.78] Fitness: 1.5780784462279627\n",
      "INFO [2020-05-06 17:37:47.500885] (bb): Selecting agent ka_rp_explore_2 (TV: 0.5) to execute (TE: 788)\n",
      "INFO [2020-05-06 17:37:47.647380] (ka_br_lvl3): Core core_[52.76, 67.5, 0.78] Fitness: 1.5780784462279627\n",
      "INFO [2020-05-06 17:37:50.514077] (bb): Selecting agent ka_rp_explore_1 (TV: 0.5) to execute (TE: 789)\n",
      "INFO [2020-05-06 17:37:50.713162] (ka_br_lvl3): Core core_[52.76, 67.5, 0.78] Fitness: 1.5780784462279627\n",
      "INFO [2020-05-06 17:37:53.524798] (bb): Selecting agent ka_rp_explore_2 (TV: 0.5) to execute (TE: 790)\n",
      "INFO [2020-05-06 17:37:53.669491] (ka_br_lvl3): Core core_[52.76, 67.5, 0.78] Fitness: 1.5780784462279627\n",
      "INFO [2020-05-06 17:37:56.540805] (bb): Selecting agent ka_br_lvl3 (TV: 3) to execute (TE: 791)\n",
      "INFO [2020-05-06 17:37:58.192102] (ka_br_lvl3): Core core_[65.48, 64.34, 0.88] Fitness: 1.5828481177038634\n"
     ]
    },
    {
     "name": "stdout",
     "output_type": "stream",
     "text": [
      "INFO [2020-05-06 17:37:59.550840] (bb): Selecting agent ka_rp_explore_1 (TV: 0.75) to execute (TE: 792)\n",
      "INFO [2020-05-06 17:37:59.726497] (ka_br_lvl3): Core core_[65.48, 64.34, 0.88] Fitness: 1.5828481177038634\n",
      "INFO [2020-05-06 17:38:02.560689] (bb): Selecting agent ka_rp_explore_2 (TV: 0.75) to execute (TE: 793)\n",
      "INFO [2020-05-06 17:38:02.705318] (ka_br_lvl3): Core core_[65.48, 64.34, 0.88] Fitness: 1.5828481177038634\n",
      "INFO [2020-05-06 17:38:05.575060] (bb): Selecting agent ka_rp_explore_1 (TV: 0.5) to execute (TE: 794)\n",
      "INFO [2020-05-06 17:38:05.721462] (ka_br_lvl3): Core core_[65.48, 64.34, 0.88] Fitness: 1.5828481177038634\n",
      "INFO [2020-05-06 17:38:08.591711] (bb): Selecting agent ka_rp_explore_2 (TV: 0.5) to execute (TE: 795)\n",
      "INFO [2020-05-06 17:38:08.735935] (ka_br_lvl3): Core core_[65.48, 64.34, 0.88] Fitness: 1.5828481177038634\n",
      "INFO [2020-05-06 17:38:11.601910] (bb): Selecting agent ka_br_lvl3 (TV: 3) to execute (TE: 796)\n",
      "INFO [2020-05-06 17:38:13.249886] (ka_br_lvl3): Core core_[73.16, 65.49, 0.41] Fitness: 2.6054138087453422\n",
      "INFO [2020-05-06 17:38:14.613751] (bb): Selecting agent ka_br_lvl3 (TV: 3) to execute (TE: 797)\n",
      "INFO [2020-05-06 17:38:16.255814] (ka_br_lvl3): Core core_[76.47, 58.76, 0.38] Fitness: 2.8365428655825324\n",
      "INFO [2020-05-06 17:38:17.623055] (bb): Selecting agent ka_br_lvl3 (TV: 3) to execute (TE: 798)\n",
      "INFO [2020-05-06 17:38:20.318480] (ka_br_lvl3): Core core_[78.12, 63.69, 0.56] Fitness: 2.2611713388458656\n",
      "INFO [2020-05-06 17:38:20.634002] (bb): Selecting agent ka_br_lvl3 (TV: 3) to execute (TE: 799)\n",
      "INFO [2020-05-06 17:38:23.648668] (bb): Selecting agent ka_br_lvl2 (TV: 4) to execute (TE: 800)\n",
      "INFO [2020-05-06 17:38:23.651719] (bb): Writing blackboard to archive\n",
      "INFO [2020-05-06 17:38:29.670097] (bb): Finished writing to archive\n",
      "INFO [2020-05-06 17:38:30.761342] (ka_br_lvl3): Core core_[65.54, 64.03, 0.51] Fitness: 2.388786450226842\n",
      "INFO [2020-05-06 17:38:30.825541] (ka_br_lvl3): Core core_[65.54, 64.03, 0.51] Fitness: 2.388786450226842\n",
      "INFO [2020-05-06 17:38:32.682072] (bb): Selecting agent ka_rp_explore_1 (TV: 1.75) to execute (TE: 801)\n",
      "INFO [2020-05-06 17:38:32.825357] (ka_br_lvl3): Core core_[65.54, 64.03, 0.51] Fitness: 2.388786450226842\n",
      "INFO [2020-05-06 17:38:35.693428] (bb): Selecting agent ka_rp_exploit (TV: 5) to execute (TE: 802)\n",
      "INFO [2020-05-06 17:38:35.921560] (ka_br_lvl3): Core core_[65.54, 64.03, 0.51] Fitness: 2.388786450226842\n",
      "INFO [2020-05-06 17:38:38.848208] (bb): Selecting agent ka_br_lvl3 (TV: 3) to execute (TE: 803)\n",
      "INFO [2020-05-06 17:38:41.865459] (bb): Selecting agent ka_rp_explore_2 (TV: 2.25) to execute (TE: 804)\n",
      "INFO [2020-05-06 17:38:44.882173] (bb): Selecting agent ka_br_lvl2 (TV: 4) to execute (TE: 805)\n",
      "INFO [2020-05-06 17:38:47.892757] (bb): Selecting agent ka_rp_explore_1 (TV: 1.25) to execute (TE: 806)\n",
      "INFO [2020-05-06 17:38:48.364784] (ka_br_lvl3): Core core_[79.43, 53.34, 0.67] Fitness: 2.286498471325457\n",
      "INFO [2020-05-06 17:38:48.434023] (ka_br_lvl3): Core core_[79.43, 53.34, 0.67] Fitness: 2.286498471325457\n",
      "INFO [2020-05-06 17:38:48.499884] (ka_br_lvl3): Core core_[79.43, 53.34, 0.67] Fitness: 2.286498471325457\n",
      "INFO [2020-05-06 17:38:48.564681] (ka_br_lvl3): Core core_[79.43, 53.34, 0.67] Fitness: 2.286498471325457\n",
      "INFO [2020-05-06 17:38:50.910762] (bb): Selecting agent ka_br_lvl3 (TV: 3) to execute (TE: 807)\n",
      "INFO [2020-05-06 17:38:53.924389] (bb): Selecting agent ka_rp_exploit (TV: 5) to execute (TE: 808)\n",
      "INFO [2020-05-06 17:38:54.679964] (ka_br_lvl3): Core core_[54.27, 68.22, 0.76] Fitness: 1.6351921348036256\n",
      "INFO [2020-05-06 17:38:54.798869] (ka_br_lvl3): Core core_[54.27, 68.22, 0.76] Fitness: 1.6351921348036256\n",
      "INFO [2020-05-06 17:38:57.032376] (bb): Selecting agent ka_rp_explore_2 (TV: 1.25) to execute (TE: 809)\n",
      "INFO [2020-05-06 17:38:57.146927] (ka_br_lvl3): Core core_[54.27, 68.22, 0.76] Fitness: 1.6351921348036256\n",
      "INFO [2020-05-06 17:39:00.049965] (bb): Selecting agent ka_rp_explore_1 (TV: 1.0) to execute (TE: 810)\n",
      "INFO [2020-05-06 17:39:00.053230] (bb): Writing blackboard to archive\n",
      "INFO [2020-05-06 17:39:06.063693] (bb): Finished writing to archive\n",
      "INFO [2020-05-06 17:39:06.213570] (ka_br_lvl3): Core core_[54.27, 68.22, 0.76] Fitness: 1.6351921348036256\n",
      "INFO [2020-05-06 17:39:09.074087] (bb): Selecting agent ka_br_lvl3 (TV: 3) to execute (TE: 811)\n",
      "INFO [2020-05-06 17:39:11.787991] (ka_br_lvl3): Core core_[75.7053, 58.76, 0.38] Fitness: 2.8248973464428793\n",
      "INFO [2020-05-06 17:39:12.083255] (bb): Selecting agent ka_rp_explore_2 (TV: 0.75) to execute (TE: 812)\n",
      "INFO [2020-05-06 17:39:12.260094] (ka_br_lvl3): Core core_[75.7053, 58.76, 0.38] Fitness: 2.8248973464428793\n",
      "INFO [2020-05-06 17:39:15.099959] (bb): Selecting agent ka_br_lvl2 (TV: 4) to execute (TE: 813)\n",
      "INFO [2020-05-06 17:39:15.216141] (ka_br_lvl3): Core core_[75.7053, 58.76, 0.38] Fitness: 2.8248973464428793\n",
      "INFO [2020-05-06 17:39:18.112765] (bb): Selecting agent ka_br_lvl3 (TV: 3) to execute (TE: 814)\n",
      "INFO [2020-05-06 17:39:19.775029] (ka_br_lvl3): Core core_[77.2347, 58.76, 0.38] Fitness: 2.848188384722186\n",
      "INFO [2020-05-06 17:39:21.126793] (bb): Selecting agent ka_rp_exploit (TV: 5) to execute (TE: 815)\n",
      "INFO [2020-05-06 17:39:21.392181] (ka_br_lvl3): Core core_[77.2347, 58.76, 0.38] Fitness: 2.848188384722186\n",
      "INFO [2020-05-06 17:39:24.217209] (bb): Selecting agent ka_br_lvl3 (TV: 3) to execute (TE: 816)\n",
      "INFO [2020-05-06 17:39:27.232950] (bb): Selecting agent ka_rp_explore_1 (TV: 1.75) to execute (TE: 817)\n",
      "INFO [2020-05-06 17:39:28.435093] (ka_br_lvl3): Core core_[76.47, 58.1724, 0.38] Fitness: 2.8473342071455985\n",
      "INFO [2020-05-06 17:39:28.501571] (ka_br_lvl3): Core core_[76.47, 58.1724, 0.38] Fitness: 2.8473342071455985\n",
      "INFO [2020-05-06 17:39:30.243669] (bb): Selecting agent ka_br_lvl3 (TV: 3) to execute (TE: 818)\n",
      "INFO [2020-05-06 17:39:31.893017] (ka_br_lvl3): Core core_[76.47, 59.3476, 0.38] Fitness: 2.825751524019467\n",
      "INFO [2020-05-06 17:39:33.261400] (bb): Selecting agent ka_rp_explore_2 (TV: 1.75) to execute (TE: 819)\n",
      "INFO [2020-05-06 17:39:33.468210] (ka_br_lvl3): Core core_[76.47, 59.3476, 0.38] Fitness: 2.825751524019467\n",
      "INFO [2020-05-06 17:39:36.272723] (bb): Selecting agent ka_br_lvl3 (TV: 3) to execute (TE: 820)\n",
      "INFO [2020-05-06 17:39:37.971697] (ka_br_lvl3): Core core_[76.47, 58.76, 0.3762] Fitness: 2.8466754844282596\n",
      "INFO [2020-05-06 17:39:39.281322] (bb): Selecting agent ka_br_lvl3 (TV: 3) to execute (TE: 821)\n",
      "INFO [2020-05-06 17:39:40.938677] (ka_br_lvl3): Core core_[76.47, 58.76, 0.3838] Fitness: 2.8264102467368057\n",
      "INFO [2020-05-06 17:39:42.292147] (bb): Selecting agent ka_br_lvl3 (TV: 3) to execute (TE: 822)\n",
      "INFO [2020-05-06 17:39:45.307840] (bb): Selecting agent ka_rp_explore_1 (TV: 1.5) to execute (TE: 823)\n",
      "INFO [2020-05-06 17:39:46.569388] (ka_br_lvl3): Core core_[64.8846, 64.03, 0.51] Fitness: 2.376782961224262\n",
      "INFO [2020-05-06 17:39:46.640294] (ka_br_lvl3): Core core_[64.8846, 64.03, 0.51] Fitness: 2.376782961224262\n",
      "INFO [2020-05-06 17:39:48.322832] (bb): Selecting agent ka_br_lvl3 (TV: 3) to execute (TE: 824)\n",
      "INFO [2020-05-06 17:39:50.473426] (ka_br_lvl3): Core core_[66.1954, 64.03, 0.51] Fitness: 2.3946950647916463\n",
      "INFO [2020-05-06 17:39:51.338620] (bb): Selecting agent ka_rp_explore_2 (TV: 1.5) to execute (TE: 825)\n",
      "INFO [2020-05-06 17:39:51.562846] (ka_br_lvl3): Core core_[66.1954, 64.03, 0.51] Fitness: 2.3946950647916463\n",
      "INFO [2020-05-06 17:39:54.354721] (bb): Selecting agent ka_br_lvl3 (TV: 3) to execute (TE: 826)\n",
      "INFO [2020-05-06 17:39:55.999757] (ka_br_lvl3): Core core_[65.54, 63.3897, 0.51] Fitness: 2.3869564034506405\n",
      "INFO [2020-05-06 17:39:57.366039] (bb): Selecting agent ka_br_lvl3 (TV: 3) to execute (TE: 827)\n",
      "INFO [2020-05-06 17:39:59.011118] (ka_br_lvl3): Core core_[65.54, 64.6703, 0.51] Fitness: 2.3849299304801312\n",
      "INFO [2020-05-06 17:40:00.383680] (bb): Selecting agent ka_br_lvl3 (TV: 3) to execute (TE: 828)\n",
      "INFO [2020-05-06 17:40:02.030398] (ka_br_lvl3): Core core_[65.54, 64.03, 0.5049] Fitness: 2.399972842506181\n",
      "INFO [2020-05-06 17:40:03.400267] (bb): Selecting agent ka_br_lvl2 (TV: 4) to execute (TE: 829)\n",
      "INFO [2020-05-06 17:40:03.518788] (ka_br_lvl3): Core core_[65.54, 64.03, 0.5049] Fitness: 2.399972842506181\n",
      "INFO [2020-05-06 17:40:06.414497] (bb): Selecting agent ka_rp_explore_1 (TV: 1.75) to execute (TE: 830)\n"
     ]
    },
    {
     "name": "stdout",
     "output_type": "stream",
     "text": [
      "INFO [2020-05-06 17:40:06.564658] (ka_br_lvl3): Core core_[65.54, 64.03, 0.5049] Fitness: 2.399972842506181\n",
      "INFO [2020-05-06 17:40:09.433049] (bb): Selecting agent ka_rp_exploit (TV: 5) to execute (TE: 831)\n",
      "INFO [2020-05-06 17:40:09.616652] (ka_br_lvl3): Core core_[65.54, 64.03, 0.5049] Fitness: 2.399972842506181\n",
      "INFO [2020-05-06 17:40:12.532710] (bb): Selecting agent ka_br_lvl3 (TV: 3) to execute (TE: 832)\n",
      "INFO [2020-05-06 17:40:15.549237] (bb): Selecting agent ka_rp_explore_2 (TV: 2.0) to execute (TE: 833)\n",
      "INFO [2020-05-06 17:40:15.759246] (ka_br_lvl3): Core core_[65.54, 64.03, 0.5151] Fitness: 2.3776000579475025\n",
      "INFO [2020-05-06 17:40:15.859869] (ka_br_lvl3): Core core_[65.54, 64.03, 0.5151] Fitness: 2.3776000579475025\n",
      "INFO [2020-05-06 17:40:18.560708] (bb): Selecting agent ka_br_lvl3 (TV: 3) to execute (TE: 834)\n",
      "INFO [2020-05-06 17:40:21.272833] (ka_br_lvl3): Core core_[70.65, 67.13, 0.31] Fitness: 2.8345197519323806\n",
      "INFO [2020-05-06 17:40:21.574431] (bb): Selecting agent ka_br_lvl3 (TV: 3) to execute (TE: 835)\n",
      "INFO [2020-05-06 17:40:24.279830] (ka_br_lvl3): Core core_[53.7273, 68.22, 0.76] Fitness: 1.6253659447483697\n",
      "INFO [2020-05-06 17:40:24.582313] (bb): Selecting agent ka_rp_explore_1 (TV: 1.5) to execute (TE: 836)\n",
      "INFO [2020-05-06 17:40:24.725121] (ka_br_lvl3): Core core_[53.7273, 68.22, 0.76] Fitness: 1.6253659447483697\n",
      "INFO [2020-05-06 17:40:27.598999] (bb): Selecting agent ka_br_lvl2 (TV: 4) to execute (TE: 837)\n",
      "INFO [2020-05-06 17:40:27.721002] (ka_br_lvl3): Core core_[53.7273, 68.22, 0.76] Fitness: 1.6253659447483697\n",
      "INFO [2020-05-06 17:40:30.608302] (bb): Selecting agent ka_rp_explore_2 (TV: 1.25) to execute (TE: 838)\n",
      "INFO [2020-05-06 17:40:30.765621] (ka_br_lvl3): Core core_[53.7273, 68.22, 0.76] Fitness: 1.6253659447483697\n",
      "INFO [2020-05-06 17:40:33.617573] (bb): Selecting agent ka_rp_exploit (TV: 5) to execute (TE: 839)\n",
      "INFO [2020-05-06 17:40:33.807524] (ka_br_lvl3): Core core_[53.7273, 68.22, 0.76] Fitness: 1.6253659447483697\n",
      "INFO [2020-05-06 17:40:36.722394] (bb): Selecting agent ka_br_lvl3 (TV: 3) to execute (TE: 840)\n",
      "INFO [2020-05-06 17:40:36.724832] (bb): Writing blackboard to archive\n",
      "INFO [2020-05-06 17:40:42.737427] (bb): Finished writing to archive\n",
      "INFO [2020-05-06 17:40:45.444494] (ka_br_lvl3): Core core_[54.8127, 68.22, 0.76] Fitness: 1.645018324858881\n",
      "INFO [2020-05-06 17:40:45.745597] (bb): Selecting agent ka_br_lvl3 (TV: 3) to execute (TE: 841)\n",
      "INFO [2020-05-06 17:40:47.385960] (ka_br_lvl3): Core core_[54.27, 67.5378, 0.76] Fitness: 1.645209651237002\n",
      "INFO [2020-05-06 17:40:48.756172] (bb): Selecting agent ka_br_lvl3 (TV: 3) to execute (TE: 842)\n",
      "INFO [2020-05-06 17:40:50.404768] (ka_br_lvl3): Core core_[54.27, 68.9022, 0.76] Fitness: 1.6251746183702485\n",
      "INFO [2020-05-06 17:40:51.764913] (bb): Selecting agent ka_br_lvl3 (TV: 3) to execute (TE: 843)\n",
      "INFO [2020-05-06 17:40:53.411542] (ka_br_lvl3): Core core_[54.27, 68.22, 0.7524] Fitness: 1.6505236252978899\n",
      "INFO [2020-05-06 17:40:54.773528] (bb): Selecting agent ka_br_lvl2 (TV: 4) to execute (TE: 844)\n",
      "INFO [2020-05-06 17:40:54.900500] (ka_br_lvl3): Core core_[54.27, 68.22, 0.7524] Fitness: 1.6505236252978899\n",
      "INFO [2020-05-06 17:40:57.783429] (bb): Selecting agent ka_br_lvl3 (TV: 3) to execute (TE: 845)\n",
      "INFO [2020-05-06 17:40:59.478729] (ka_br_lvl3): Core core_[54.27, 68.22, 0.7676] Fitness: 1.6198606443093615\n",
      "INFO [2020-05-06 17:41:00.791025] (bb): Selecting agent ka_rp_exploit (TV: 5) to execute (TE: 846)\n",
      "INFO [2020-05-06 17:41:01.010217] (ka_br_lvl3): Core core_[54.27, 68.22, 0.7676] Fitness: 1.6198606443093615\n",
      "INFO [2020-05-06 17:41:03.842158] (bb): Selecting agent ka_br_lvl3 (TV: 3) to execute (TE: 847)\n",
      "INFO [2020-05-06 17:41:06.849642] (bb): Selecting agent ka_rp_explore_1 (TV: 3.0) to execute (TE: 848)\n",
      "INFO [2020-05-06 17:41:09.859100] (bb): Selecting agent ka_rp_explore_2 (TV: 2.75) to execute (TE: 849)\n",
      "INFO [2020-05-06 17:41:12.868876] (bb): No KA to execute, waiting to sends trigger again.\n",
      "INFO [2020-05-06 17:41:13.341429] (ka_br_lvl3): Core core_[64.8846, 63.3897, 0.51] Fitness: 2.37495291444806\n",
      "INFO [2020-05-06 17:41:13.417061] (ka_br_lvl3): Core core_[64.8846, 63.3897, 0.51] Fitness: 2.37495291444806\n",
      "INFO [2020-05-06 17:41:13.545457] (ka_br_lvl3): Core core_[64.8846, 63.3897, 0.51] Fitness: 2.37495291444806\n",
      "INFO [2020-05-06 17:41:13.619073] (ka_br_lvl3): Core core_[64.8846, 63.3897, 0.51] Fitness: 2.37495291444806\n",
      "INFO [2020-05-06 17:41:15.879168] (bb): Selecting agent ka_br_lvl3 (TV: 3) to execute (TE: 851)\n",
      "INFO [2020-05-06 17:41:17.526490] (ka_br_lvl3): Core core_[66.1954, 63.3897, 0.51] Fitness: 2.3989598924532203\n",
      "INFO [2020-05-06 17:41:18.886984] (bb): Selecting agent ka_br_lvl3 (TV: 3) to execute (TE: 852)\n",
      "INFO [2020-05-06 17:41:20.540065] (ka_br_lvl3): Core core_[65.54, 62.7558, 0.51] Fitness: 2.385144648567876\n",
      "INFO [2020-05-06 17:41:21.895236] (bb): Selecting agent ka_br_lvl3 (TV: 3) to execute (TE: 853)\n",
      "INFO [2020-05-06 17:41:23.540934] (ka_br_lvl3): Core core_[65.54, 64.0236, 0.51] Fitness: 2.388768158333405\n",
      "INFO [2020-05-06 17:41:24.906207] (bb): Selecting agent ka_br_lvl3 (TV: 3) to execute (TE: 854)\n",
      "INFO [2020-05-06 17:41:26.552698] (ka_br_lvl3): Core core_[65.54, 63.3897, 0.5049] Fitness: 2.3981427957299797\n",
      "INFO [2020-05-06 17:41:27.915704] (bb): Selecting agent ka_br_lvl3 (TV: 3) to execute (TE: 855)\n",
      "INFO [2020-05-06 17:41:29.568549] (ka_br_lvl3): Core core_[65.54, 63.3897, 0.5151] Fitness: 2.3757700111713014\n",
      "INFO [2020-05-06 17:41:30.928841] (bb): Selecting agent ka_rp_explore_1 (TV: 2.0) to execute (TE: 856)\n",
      "INFO [2020-05-06 17:41:31.125704] (ka_br_lvl3): Core core_[65.54, 63.3897, 0.5151] Fitness: 2.3757700111713014\n",
      "INFO [2020-05-06 17:41:33.937221] (bb): Selecting agent ka_rp_explore_2 (TV: 2.0) to execute (TE: 857)\n",
      "INFO [2020-05-06 17:41:34.097841] (ka_br_lvl3): Core core_[65.54, 63.3897, 0.5151] Fitness: 2.3757700111713014\n",
      "INFO [2020-05-06 17:41:36.946438] (bb): Selecting agent ka_br_lvl3 (TV: 3) to execute (TE: 858)\n",
      "INFO [2020-05-06 17:41:38.592272] (ka_br_lvl3): Core core_[64.33, 62.88, 0.68] Fitness: 1.9904590320600182\n",
      "INFO [2020-05-06 17:41:39.955860] (bb): Selecting agent ka_br_lvl3 (TV: 3) to execute (TE: 859)\n",
      "INFO [2020-05-06 17:41:42.966309] (bb): Selecting agent ka_rp_explore_1 (TV: 1.0) to execute (TE: 860)\n",
      "INFO [2020-05-06 17:41:42.968711] (bb): Writing blackboard to archive\n",
      "INFO [2020-05-06 17:41:48.980914] (bb): Finished writing to archive\n",
      "INFO [2020-05-06 17:41:51.043848] (ka_br_lvl3): Core core_[69.9435, 67.13, 0.31] Fitness: 2.832874698078759\n",
      "INFO [2020-05-06 17:41:51.120908] (ka_br_lvl3): Core core_[69.9435, 67.13, 0.31] Fitness: 2.832874698078759\n",
      "INFO [2020-05-06 17:41:51.993826] (bb): Selecting agent ka_br_lvl3 (TV: 3) to execute (TE: 861)\n",
      "INFO [2020-05-06 17:41:54.141793] (ka_br_lvl3): Core core_[71.3565, 67.13, 0.31] Fitness: 2.8361648057860043\n",
      "INFO [2020-05-06 17:41:55.006840] (bb): Selecting agent ka_br_lvl3 (TV: 3) to execute (TE: 862)\n",
      "INFO [2020-05-06 17:41:56.652636] (ka_br_lvl3): Core core_[70.65, 66.4587, 0.31] Fitness: 2.8448620789314134\n",
      "INFO [2020-05-06 17:41:58.016094] (bb): Selecting agent ka_rp_explore_2 (TV: 1.5) to execute (TE: 863)\n",
      "INFO [2020-05-06 17:41:58.221422] (ka_br_lvl3): Core core_[70.65, 66.4587, 0.31] Fitness: 2.8448620789314134\n",
      "INFO [2020-05-06 17:42:01.026703] (bb): Selecting agent ka_rp_explore_1 (TV: 1.0) to execute (TE: 864)\n",
      "INFO [2020-05-06 17:42:01.237174] (ka_br_lvl3): Core core_[70.65, 66.4587, 0.31] Fitness: 2.8448620789314134\n",
      "INFO [2020-05-06 17:42:04.034399] (bb): Selecting agent ka_br_lvl3 (TV: 3) to execute (TE: 865)\n",
      "INFO [2020-05-06 17:42:05.675451] (ka_br_lvl3): Core core_[70.65, 67.8013, 0.31] Fitness: 2.824177424933349\n",
      "INFO [2020-05-06 17:42:07.045488] (bb): Selecting agent ka_br_lvl3 (TV: 3) to execute (TE: 866)\n",
      "INFO [2020-05-06 17:42:08.686957] (ka_br_lvl3): Core core_[70.65, 67.13, 0.3069] Fitness: 2.8424845360353466\n",
      "INFO [2020-05-06 17:42:10.057470] (bb): Selecting agent ka_br_lvl3 (TV: 3) to execute (TE: 867)\n",
      "INFO [2020-05-06 17:42:11.704929] (ka_br_lvl3): Core core_[70.65, 67.13, 0.3131] Fitness: 2.826554967829416\n",
      "INFO [2020-05-06 17:42:13.064749] (bb): Selecting agent ka_br_lvl2 (TV: 4) to execute (TE: 868)\n",
      "INFO [2020-05-06 17:42:13.190492] (ka_br_lvl3): Core core_[70.65, 67.13, 0.3131] Fitness: 2.826554967829416\n"
     ]
    },
    {
     "name": "stdout",
     "output_type": "stream",
     "text": [
      "INFO [2020-05-06 17:42:16.072546] (bb): Selecting agent ka_rp_explore_2 (TV: 1.5) to execute (TE: 869)\n",
      "INFO [2020-05-06 17:42:16.231174] (ka_br_lvl3): Core core_[70.65, 67.13, 0.3131] Fitness: 2.826554967829416\n",
      "INFO [2020-05-06 17:42:19.082501] (bb): Selecting agent ka_rp_exploit (TV: 5) to execute (TE: 870)\n",
      "INFO [2020-05-06 17:42:19.324956] (ka_br_lvl3): Core core_[70.65, 67.13, 0.3131] Fitness: 2.826554967829416\n",
      "INFO [2020-05-06 17:42:22.207721] (bb): Selecting agent ka_rp_explore_1 (TV: 1.75) to execute (TE: 871)\n",
      "INFO [2020-05-06 17:42:22.332599] (ka_br_lvl3): Core core_[70.65, 67.13, 0.3131] Fitness: 2.826554967829416\n",
      "INFO [2020-05-06 17:42:25.216652] (bb): Selecting agent ka_br_lvl3 (TV: 3) to execute (TE: 872)\n",
      "INFO [2020-05-06 17:42:26.854430] (ka_br_lvl3): Core core_[53.7273, 67.5378, 0.76] Fitness: 1.6353834611817466\n",
      "INFO [2020-05-06 17:42:28.227306] (bb): Selecting agent ka_br_lvl3 (TV: 3) to execute (TE: 873)\n",
      "INFO [2020-05-06 17:42:29.869761] (ka_br_lvl3): Core core_[54.8127, 67.5378, 0.76] Fitness: 1.6550358412922574\n",
      "INFO [2020-05-06 17:42:31.240159] (bb): Selecting agent ka_br_lvl3 (TV: 3) to execute (TE: 874)\n",
      "INFO [2020-05-06 17:42:32.932649] (ka_br_lvl3): Core core_[54.27, 66.8624, 0.76] Fitness: 1.6570872855700927\n",
      "INFO [2020-05-06 17:42:34.249537] (bb): Selecting agent ka_rp_explore_2 (TV: 1.5) to execute (TE: 875)\n",
      "INFO [2020-05-06 17:42:34.464137] (ka_br_lvl3): Core core_[54.27, 66.8624, 0.76] Fitness: 1.6570872855700927\n",
      "INFO [2020-05-06 17:42:37.262681] (bb): Selecting agent ka_br_lvl3 (TV: 3) to execute (TE: 876)\n",
      "INFO [2020-05-06 17:42:38.913798] (ka_br_lvl3): Core core_[54.27, 68.2132, 0.76] Fitness: 1.6352919869170037\n",
      "INFO [2020-05-06 17:42:40.274485] (bb): Selecting agent ka_rp_explore_1 (TV: 1.5) to execute (TE: 877)\n",
      "INFO [2020-05-06 17:42:40.504740] (ka_br_lvl3): Core core_[54.27, 68.2132, 0.76] Fitness: 1.6352919869170037\n",
      "INFO [2020-05-06 17:42:43.282998] (bb): Selecting agent ka_br_lvl3 (TV: 3) to execute (TE: 878)\n",
      "INFO [2020-05-06 17:42:44.928354] (ka_br_lvl3): Core core_[54.27, 67.5378, 0.7524] Fitness: 1.660541141731266\n",
      "INFO [2020-05-06 17:42:46.292852] (bb): Selecting agent ka_br_lvl3 (TV: 3) to execute (TE: 879)\n",
      "INFO [2020-05-06 17:42:47.939915] (ka_br_lvl3): Core core_[54.27, 67.5378, 0.7676] Fitness: 1.6298781607427375\n",
      "INFO [2020-05-06 17:42:49.300743] (bb): Selecting agent ka_br_lvl3 (TV: 3) to execute (TE: 880)\n",
      "INFO [2020-05-06 17:42:52.310322] (bb): Selecting agent ka_rp_explore_2 (TV: 1.5) to execute (TE: 881)\n",
      "INFO [2020-05-06 17:42:53.059700] (ka_br_lvl3): Core core_[70.45, 56.78, 0.78] Fitness: 1.903039850443715\n",
      "INFO [2020-05-06 17:42:53.142065] (ka_br_lvl3): Core core_[70.45, 56.78, 0.78] Fitness: 1.903039850443715\n",
      "INFO [2020-05-06 17:42:55.323356] (bb): Selecting agent ka_br_lvl2 (TV: 4) to execute (TE: 882)\n",
      "INFO [2020-05-06 17:42:55.451811] (ka_br_lvl3): Core core_[70.45, 56.78, 0.78] Fitness: 1.903039850443715\n",
      "INFO [2020-05-06 17:42:58.333309] (bb): Selecting agent ka_rp_explore_1 (TV: 1.5) to execute (TE: 883)\n",
      "INFO [2020-05-06 17:42:58.540212] (ka_br_lvl3): Core core_[70.45, 56.78, 0.78] Fitness: 1.903039850443715\n",
      "INFO [2020-05-06 17:43:01.342368] (bb): Selecting agent ka_rp_exploit (TV: 5) to execute (TE: 884)\n",
      "INFO [2020-05-06 17:43:01.544800] (ka_br_lvl3): Core core_[70.45, 56.78, 0.78] Fitness: 1.903039850443715\n",
      "INFO [2020-05-06 17:43:04.433190] (bb): Selecting agent ka_br_lvl3 (TV: 3) to execute (TE: 885)\n",
      "INFO [2020-05-06 17:43:07.443988] (bb): Selecting agent ka_rp_explore_2 (TV: 1.25) to execute (TE: 886)\n",
      "INFO [2020-05-06 17:43:09.786777] (ka_br_lvl3): Core core_[63.56, 67.38, 0.96] Fitness: 1.3510457639361457\n",
      "INFO [2020-05-06 17:43:09.876722] (ka_br_lvl3): Core core_[63.56, 67.38, 0.96] Fitness: 1.3510457639361457\n",
      "INFO [2020-05-06 17:43:10.452053] (bb): Selecting agent ka_br_lvl3 (TV: 3) to execute (TE: 887)\n",
      "INFO [2020-05-06 17:43:13.105217] (ka_br_lvl3): Core core_[63.31, 57.91, 0.94] Fitness: 1.498639936254144\n",
      "INFO [2020-05-06 17:43:13.461028] (bb): Selecting agent ka_rp_explore_1 (TV: 1.25) to execute (TE: 888)\n",
      "INFO [2020-05-06 17:43:13.735464] (ka_br_lvl3): Core core_[63.31, 57.91, 0.94] Fitness: 1.498639936254144\n",
      "INFO [2020-05-06 17:43:16.470861] (bb): Selecting agent ka_rp_explore_2 (TV: 0.75) to execute (TE: 889)\n",
      "INFO [2020-05-06 17:43:16.644435] (ka_br_lvl3): Core core_[63.31, 57.91, 0.94] Fitness: 1.498639936254144\n",
      "INFO [2020-05-06 17:43:19.482627] (bb): Selecting agent ka_br_lvl3 (TV: 3) to execute (TE: 890)\n",
      "INFO [2020-05-06 17:43:21.134099] (ka_br_lvl3): Core core_[77.14, 51.05, 0.89] Fitness: 1.8544312168755401\n",
      "INFO [2020-05-06 17:43:22.493715] (bb): Selecting agent ka_rp_explore_1 (TV: 0.75) to execute (TE: 891)\n",
      "INFO [2020-05-06 17:43:22.690405] (ka_br_lvl3): Core core_[77.14, 51.05, 0.89] Fitness: 1.8544312168755401\n",
      "INFO [2020-05-06 17:43:25.501014] (bb): Selecting agent ka_br_lvl3 (TV: 3) to execute (TE: 892)\n",
      "INFO [2020-05-06 17:43:27.144020] (ka_br_lvl3): Core core_[69.9435, 67.8013, 0.31] Fitness: 2.8225323710797263\n",
      "INFO [2020-05-06 17:43:28.507861] (bb): Selecting agent ka_br_lvl3 (TV: 3) to execute (TE: 893)\n",
      "INFO [2020-05-06 17:43:30.152962] (ka_br_lvl3): Core core_[71.3565, 67.8013, 0.31] Fitness: 2.8258224787869715\n",
      "INFO [2020-05-06 17:43:31.516499] (bb): Selecting agent ka_br_lvl3 (TV: 3) to execute (TE: 894)\n",
      "INFO [2020-05-06 17:43:33.171536] (ka_br_lvl3): Core core_[70.65, 67.1233, 0.31] Fitness: 2.8346229749189646\n",
      "INFO [2020-05-06 17:43:34.529017] (bb): Selecting agent ka_br_lvl3 (TV: 3) to execute (TE: 895)\n",
      "INFO [2020-05-06 17:43:36.179858] (ka_br_lvl3): Core core_[70.65, 68.4793, 0.31] Fitness: 2.8118175647485595\n",
      "INFO [2020-05-06 17:43:37.539520] (bb): Selecting agent ka_br_lvl3 (TV: 3) to execute (TE: 896)\n",
      "INFO [2020-05-06 17:43:39.193505] (ka_br_lvl3): Core core_[70.65, 67.8013, 0.3069] Fitness: 2.8321422090363146\n",
      "INFO [2020-05-06 17:43:40.552501] (bb): Selecting agent ka_br_lvl3 (TV: 3) to execute (TE: 897)\n",
      "INFO [2020-05-06 17:43:42.194003] (ka_br_lvl3): Core core_[70.65, 67.8013, 0.3131] Fitness: 2.816212640830383\n",
      "INFO [2020-05-06 17:43:43.559802] (bb): Selecting agent ka_br_lvl3 (TV: 3) to execute (TE: 898)\n",
      "INFO [2020-05-06 17:43:46.567136] (bb): Selecting agent ka_rp_explore_2 (TV: 2.5) to execute (TE: 899)\n",
      "INFO [2020-05-06 17:43:49.388968] (ka_br_lvl3): Core core_[57.02, 67.68, 0.62] Fitness: 1.985576274165905\n",
      "INFO [2020-05-06 17:43:49.472704] (ka_br_lvl3): Core core_[57.02, 67.68, 0.62] Fitness: 1.985576274165905\n",
      "INFO [2020-05-06 17:43:49.575270] (bb): Selecting agent ka_rp_explore_1 (TV: 2.25) to execute (TE: 900)\n",
      "INFO [2020-05-06 17:43:49.706098] (ka_br_lvl3): Core core_[57.02, 67.68, 0.62] Fitness: 1.985576274165905\n",
      "INFO [2020-05-06 17:43:52.586053] (bb): Selecting agent ka_br_lvl3 (TV: 3) to execute (TE: 901)\n",
      "INFO [2020-05-06 17:43:55.296524] (ka_br_lvl3): Core core_[53.7273, 67.5378, 0.7676] Fitness: 1.6200519706874825\n",
      "INFO [2020-05-06 17:43:55.593889] (bb): Selecting agent ka_rp_explore_2 (TV: 0.75) to execute (TE: 902)\n",
      "INFO [2020-05-06 17:43:55.829949] (ka_br_lvl3): Core core_[53.7273, 67.5378, 0.7676] Fitness: 1.6200519706874825\n",
      "INFO [2020-05-06 17:43:58.601115] (bb): Selecting agent ka_rp_explore_1 (TV: 0.75) to execute (TE: 903)\n",
      "INFO [2020-05-06 17:43:58.776974] (ka_br_lvl3): Core core_[53.7273, 67.5378, 0.7676] Fitness: 1.6200519706874825\n",
      "INFO [2020-05-06 17:44:01.609692] (bb): Selecting agent ka_br_lvl3 (TV: 3) to execute (TE: 904)\n",
      "INFO [2020-05-06 17:44:03.266641] (ka_br_lvl3): Core core_[54.8127, 67.5378, 0.7676] Fitness: 1.6397043507979934\n",
      "INFO [2020-05-06 17:44:04.618082] (bb): Selecting agent ka_rp_explore_2 (TV: 0.75) to execute (TE: 905)\n",
      "INFO [2020-05-06 17:44:04.881769] (ka_br_lvl3): Core core_[54.8127, 67.5378, 0.7676] Fitness: 1.6397043507979934\n",
      "INFO [2020-05-06 17:44:07.626471] (bb): Selecting agent ka_rp_explore_1 (TV: 0.75) to execute (TE: 906)\n",
      "INFO [2020-05-06 17:44:07.802492] (ka_br_lvl3): Core core_[54.8127, 67.5378, 0.7676] Fitness: 1.6397043507979934\n",
      "INFO [2020-05-06 17:44:10.634918] (bb): Selecting agent ka_rp_explore_2 (TV: 0.5) to execute (TE: 907)\n",
      "INFO [2020-05-06 17:44:10.802177] (ka_br_lvl3): Core core_[54.8127, 67.5378, 0.7676] Fitness: 1.6397043507979934\n",
      "INFO [2020-05-06 17:44:13.644622] (bb): Selecting agent ka_br_lvl3 (TV: 3) to execute (TE: 908)\n"
     ]
    },
    {
     "name": "stdout",
     "output_type": "stream",
     "text": [
      "INFO [2020-05-06 17:44:15.298873] (ka_br_lvl3): Core core_[54.27, 66.8624, 0.7676] Fitness: 1.6409297243404262\n",
      "INFO [2020-05-06 17:44:16.652110] (bb): Selecting agent ka_br_lvl3 (TV: 3) to execute (TE: 909)\n",
      "INFO [2020-05-06 17:44:18.305552] (ka_br_lvl3): Core core_[54.27, 68.2132, 0.7676] Fitness: 1.61996049642274\n",
      "INFO [2020-05-06 17:44:19.659752] (bb): Selecting agent ka_rp_explore_1 (TV: 1.0) to execute (TE: 910)\n",
      "INFO [2020-05-06 17:44:19.921836] (ka_br_lvl3): Core core_[54.27, 68.2132, 0.7676] Fitness: 1.61996049642274\n",
      "INFO [2020-05-06 17:44:22.666899] (bb): Selecting agent ka_br_lvl3 (TV: 3) to execute (TE: 911)\n",
      "INFO [2020-05-06 17:44:24.322289] (ka_br_lvl3): Core core_[54.27, 67.5378, 0.7599] Fitness: 1.6454113813750841\n",
      "INFO [2020-05-06 17:44:25.676858] (bb): Selecting agent ka_rp_explore_2 (TV: 1.25) to execute (TE: 912)\n",
      "INFO [2020-05-06 17:44:25.880333] (ka_br_lvl3): Core core_[54.27, 67.5378, 0.7599] Fitness: 1.6454113813750841\n",
      "INFO [2020-05-06 17:44:28.683749] (bb): Selecting agent ka_rp_explore_1 (TV: 0.75) to execute (TE: 913)\n",
      "INFO [2020-05-06 17:44:28.853120] (ka_br_lvl3): Core core_[54.27, 67.5378, 0.7599] Fitness: 1.6454113813750841\n",
      "INFO [2020-05-06 17:44:31.691476] (bb): Selecting agent ka_br_lvl3 (TV: 3) to execute (TE: 914)\n",
      "INFO [2020-05-06 17:44:33.393082] (ka_br_lvl3): Core core_[54.27, 67.5378, 0.7753] Fitness: 1.6143449401103906\n",
      "INFO [2020-05-06 17:44:34.701155] (bb): Selecting agent ka_br_lvl3 (TV: 3) to execute (TE: 915)\n",
      "INFO [2020-05-06 17:44:37.710002] (bb): Selecting agent ka_rp_explore_2 (TV: 1.0) to execute (TE: 916)\n",
      "INFO [2020-05-06 17:44:40.717781] (bb): Selecting agent ka_rp_explore_1 (TV: 1.0) to execute (TE: 917)\n",
      "INFO [2020-05-06 17:44:41.604363] (ka_br_lvl3): Core core_[71.65, 61.17, 0.67] Fitness: 2.07547168338719\n",
      "INFO [2020-05-06 17:44:41.687410] (ka_br_lvl3): Core core_[71.65, 61.17, 0.67] Fitness: 2.07547168338719\n",
      "INFO [2020-05-06 17:44:41.769271] (ka_br_lvl3): Core core_[71.65, 61.17, 0.67] Fitness: 2.07547168338719\n",
      "INFO [2020-05-06 17:44:43.726447] (bb): Selecting agent ka_rp_explore_1 (TV: 0.25) to execute (TE: 918)\n",
      "INFO [2020-05-06 17:44:43.949227] (ka_br_lvl3): Core core_[71.65, 61.17, 0.67] Fitness: 2.07547168338719\n",
      "INFO [2020-05-06 17:44:46.734540] (bb): Selecting agent ka_rp_explore_2 (TV: 0.75) to execute (TE: 919)\n",
      "INFO [2020-05-06 17:44:46.906178] (ka_br_lvl3): Core core_[71.65, 61.17, 0.67] Fitness: 2.07547168338719\n",
      "INFO [2020-05-06 17:44:49.748058] (bb): Selecting agent ka_rp_explore_1 (TV: 0.5) to execute (TE: 920)\n",
      "INFO [2020-05-06 17:44:49.917460] (ka_br_lvl3): Core core_[71.65, 61.17, 0.67] Fitness: 2.07547168338719\n",
      "INFO [2020-05-06 17:44:52.758617] (bb): Selecting agent ka_rp_explore_2 (TV: 0.5) to execute (TE: 921)\n",
      "INFO [2020-05-06 17:44:52.929672] (ka_br_lvl3): Core core_[71.65, 61.17, 0.67] Fitness: 2.07547168338719\n",
      "INFO [2020-05-06 17:44:55.768420] (bb): Selecting agent ka_rp_explore_1 (TV: 0.5) to execute (TE: 922)\n",
      "INFO [2020-05-06 17:44:55.947721] (ka_br_lvl3): Core core_[71.65, 61.17, 0.67] Fitness: 2.07547168338719\n",
      "INFO [2020-05-06 17:44:58.781132] (bb): Selecting agent ka_rp_explore_2 (TV: 0.5) to execute (TE: 923)\n",
      "INFO [2020-05-06 17:44:58.954250] (ka_br_lvl3): Core core_[71.65, 61.17, 0.67] Fitness: 2.07547168338719\n",
      "INFO [2020-05-06 17:45:01.792825] (bb): Selecting agent ka_br_lvl3 (TV: 3) to execute (TE: 924)\n",
      "INFO [2020-05-06 17:45:04.801134] (bb): Selecting agent ka_rp_explore_1 (TV: 0.75) to execute (TE: 925)\n",
      "INFO [2020-05-06 17:45:07.813246] (bb): Selecting agent ka_rp_explore_2 (TV: 0.75) to execute (TE: 926)\n",
      "INFO [2020-05-06 17:45:08.785723] (ka_br_lvl3): Core core_[66.18, 65.42, 0.46] Fitness: 2.4708867603642117\n",
      "INFO [2020-05-06 17:45:08.869657] (ka_br_lvl3): Core core_[66.18, 65.42, 0.46] Fitness: 2.4708867603642117\n",
      "INFO [2020-05-06 17:45:08.950285] (ka_br_lvl3): Core core_[66.18, 65.42, 0.46] Fitness: 2.4708867603642117\n",
      "INFO [2020-05-06 17:45:10.826366] (bb): Selecting agent ka_br_lvl3 (TV: 3) to execute (TE: 927)\n",
      "INFO [2020-05-06 17:45:12.987118] (ka_br_lvl3): Core core_[65.11, 63.37, 0.73] Fitness: 1.8964744998135263\n",
      "INFO [2020-05-06 17:45:13.835399] (bb): Selecting agent ka_br_lvl3 (TV: 3) to execute (TE: 928)\n",
      "INFO [2020-05-06 17:45:15.538916] (ka_br_lvl3): Core core_[67.98, 61.44, 0.69] Fitness: 2.031348280854602\n",
      "INFO [2020-05-06 17:45:16.849293] (bb): Selecting agent ka_rp_explore_1 (TV: 1.0) to execute (TE: 929)\n",
      "INFO [2020-05-06 17:45:17.038257] (ka_br_lvl3): Core core_[67.98, 61.44, 0.69] Fitness: 2.031348280854602\n",
      "INFO [2020-05-06 17:45:19.861639] (bb): Selecting agent ka_rp_explore_2 (TV: 1.0) to execute (TE: 930)\n",
      "INFO [2020-05-06 17:45:20.033076] (ka_br_lvl3): Core core_[67.98, 61.44, 0.69] Fitness: 2.031348280854602\n",
      "INFO [2020-05-06 17:45:22.870564] (bb): Selecting agent ka_rp_explore_1 (TV: 0.5) to execute (TE: 931)\n",
      "INFO [2020-05-06 17:45:23.054889] (ka_br_lvl3): Core core_[67.98, 61.44, 0.69] Fitness: 2.031348280854602\n",
      "INFO [2020-05-06 17:45:25.878694] (bb): Selecting agent ka_br_lvl3 (TV: 3) to execute (TE: 932)\n",
      "INFO [2020-05-06 17:45:27.531276] (ka_br_lvl3): Core core_[76.76, 66.01, 0.32] Fitness: 2.8249988486346003\n",
      "INFO [2020-05-06 17:45:28.886826] (bb): Selecting agent ka_br_lvl3 (TV: 3) to execute (TE: 933)\n",
      "INFO [2020-05-06 17:45:30.545525] (ka_br_lvl3): Core core_[79.01, 61.3, 0.75] Fitness: 1.898417917145275\n",
      "INFO [2020-05-06 17:45:31.897580] (bb): Selecting agent ka_rp_explore_2 (TV: 1.0) to execute (TE: 934)\n",
      "INFO [2020-05-06 17:45:32.106909] (ka_br_lvl3): Core core_[79.01, 61.3, 0.75] Fitness: 1.898417917145275\n",
      "INFO [2020-05-06 17:45:34.910923] (bb): Selecting agent ka_br_lvl3 (TV: 3) to execute (TE: 935)\n",
      "INFO [2020-05-06 17:45:37.623299] (ka_br_lvl3): Core core_[78.76, 61.74, 0.35] Fitness: 2.883602443436719\n",
      "INFO [2020-05-06 17:45:37.920738] (bb): Selecting agent ka_br_lvl3 (TV: 3) to execute (TE: 936)\n",
      "INFO [2020-05-06 17:45:40.929642] (bb): Selecting agent ka_rp_explore_1 (TV: 1.5) to execute (TE: 937)\n",
      "INFO [2020-05-06 17:45:43.940703] (bb): Selecting agent ka_rp_explore_2 (TV: 1.0) to execute (TE: 938)\n",
      "INFO [2020-05-06 17:45:46.949956] (bb): No KA to execute, waiting to sends trigger again.\n",
      "INFO [2020-05-06 17:45:47.952994] (ka_br_lvl3): Core core_[56.14, 69.87, 0.38] Fitness: 2.44916507609968\n",
      "INFO [2020-05-06 17:45:48.037380] (ka_br_lvl3): Core core_[56.14, 69.87, 0.38] Fitness: 2.44916507609968\n",
      "INFO [2020-05-06 17:45:48.123028] (ka_br_lvl3): Core core_[56.14, 69.87, 0.38] Fitness: 2.44916507609968\n",
      "INFO [2020-05-06 17:45:48.203961] (ka_br_lvl3): Core core_[56.14, 69.87, 0.38] Fitness: 2.44916507609968\n",
      "INFO [2020-05-06 17:45:49.961077] (bb): Selecting agent ka_rp_explore_1 (TV: 0.75) to execute (TE: 940)\n",
      "INFO [2020-05-06 17:45:50.138846] (ka_br_lvl3): Core core_[56.14, 69.87, 0.38] Fitness: 2.44916507609968\n",
      "INFO [2020-05-06 17:45:52.970950] (bb): Selecting agent ka_br_lvl3 (TV: 3) to execute (TE: 941)\n",
      "INFO [2020-05-06 17:45:54.679053] (ka_br_lvl3): Core core_[76.35, 53.54, 0.6] Fitness: 2.429962830609128\n",
      "INFO [2020-05-06 17:45:55.980692] (bb): Selecting agent ka_rp_explore_2 (TV: 1.0) to execute (TE: 942)\n",
      "INFO [2020-05-06 17:45:56.171820] (ka_br_lvl3): Core core_[76.35, 53.54, 0.6] Fitness: 2.429962830609128\n",
      "INFO [2020-05-06 17:45:58.988420] (bb): Selecting agent ka_br_lvl3 (TV: 3) to execute (TE: 943)\n",
      "INFO [2020-05-06 17:46:02.001032] (bb): Selecting agent ka_rp_explore_1 (TV: 1.0) to execute (TE: 944)\n",
      "INFO [2020-05-06 17:46:05.010868] (bb): Selecting agent ka_rp_explore_2 (TV: 0.75) to execute (TE: 945)\n",
      "INFO [2020-05-06 17:46:06.947551] (ka_br_lvl3): Core core_[54.15, 62.69, 0.89] Fitness: 1.3526920618639133\n",
      "INFO [2020-05-06 17:46:07.031762] (ka_br_lvl3): Core core_[54.15, 62.69, 0.89] Fitness: 1.3526920618639133\n",
      "INFO [2020-05-06 17:46:07.163506] (ka_br_lvl3): Core core_[54.15, 62.69, 0.89] Fitness: 1.3526920618639133\n",
      "INFO [2020-05-06 17:46:08.020544] (bb): Selecting agent ka_rp_explore_2 (TV: 0.25) to execute (TE: 946)\n",
      "INFO [2020-05-06 17:46:08.195622] (ka_br_lvl3): Core core_[54.15, 62.69, 0.89] Fitness: 1.3526920618639133\n",
      "INFO [2020-05-06 17:46:11.030142] (bb): Selecting agent ka_rp_explore_1 (TV: 0.75) to execute (TE: 947)\n",
      "INFO [2020-05-06 17:46:11.203918] (ka_br_lvl3): Core core_[54.15, 62.69, 0.89] Fitness: 1.3526920618639133\n",
      "INFO [2020-05-06 17:46:14.042188] (bb): Selecting agent ka_br_lvl3 (TV: 3) to execute (TE: 948)\n"
     ]
    },
    {
     "name": "stdout",
     "output_type": "stream",
     "text": [
      "INFO [2020-05-06 17:46:17.053661] (bb): Selecting agent ka_rp_explore_2 (TV: 0.75) to execute (TE: 949)\n",
      "INFO [2020-05-06 17:46:17.821766] (ka_br_lvl3): Core core_[67.02, 66.46, 0.67] Fitness: 1.9777917453298612\n",
      "INFO [2020-05-06 17:46:17.906848] (ka_br_lvl3): Core core_[67.02, 66.46, 0.67] Fitness: 1.9777917453298612\n",
      "INFO [2020-05-06 17:46:20.066531] (bb): Selecting agent ka_rp_explore_1 (TV: 0.75) to execute (TE: 950)\n",
      "INFO [2020-05-06 17:46:20.294636] (ka_br_lvl3): Core core_[67.02, 66.46, 0.67] Fitness: 1.9777917453298612\n",
      "INFO [2020-05-06 17:46:23.074245] (bb): Selecting agent ka_rp_explore_2 (TV: 0.5) to execute (TE: 951)\n",
      "INFO [2020-05-06 17:46:23.245585] (ka_br_lvl3): Core core_[67.02, 66.46, 0.67] Fitness: 1.9777917453298612\n",
      "INFO [2020-05-06 17:46:26.084038] (bb): Selecting agent ka_rp_explore_1 (TV: 0.5) to execute (TE: 952)\n",
      "INFO [2020-05-06 17:46:26.256569] (ka_br_lvl3): Core core_[67.02, 66.46, 0.67] Fitness: 1.9777917453298612\n",
      "INFO [2020-05-06 17:46:29.095571] (bb): Selecting agent ka_rp_explore_2 (TV: 0.5) to execute (TE: 953)\n",
      "INFO [2020-05-06 17:46:29.266642] (ka_br_lvl3): Core core_[67.02, 66.46, 0.67] Fitness: 1.9777917453298612\n",
      "INFO [2020-05-06 17:46:32.104586] (bb): Selecting agent ka_rp_explore_1 (TV: 0.5) to execute (TE: 954)\n",
      "INFO [2020-05-06 17:46:32.277716] (ka_br_lvl3): Core core_[67.02, 66.46, 0.67] Fitness: 1.9777917453298612\n",
      "INFO [2020-05-06 17:46:35.113067] (bb): Selecting agent ka_rp_explore_2 (TV: 0.5) to execute (TE: 955)\n",
      "INFO [2020-05-06 17:46:35.296713] (ka_br_lvl3): Core core_[67.02, 66.46, 0.67] Fitness: 1.9777917453298612\n",
      "INFO [2020-05-06 17:46:38.121827] (bb): Selecting agent ka_rp_explore_1 (TV: 0.5) to execute (TE: 956)\n",
      "INFO [2020-05-06 17:46:38.349177] (ka_br_lvl3): Core core_[67.02, 66.46, 0.67] Fitness: 1.9777917453298612\n",
      "INFO [2020-05-06 17:46:41.135278] (bb): Selecting agent ka_br_lvl3 (TV: 3) to execute (TE: 957)\n",
      "INFO [2020-05-06 17:46:44.149269] (bb): Selecting agent ka_rp_explore_2 (TV: 0.75) to execute (TE: 958)\n",
      "INFO [2020-05-06 17:46:47.161781] (bb): Selecting agent ka_rp_explore_1 (TV: 0.75) to execute (TE: 959)\n",
      "INFO [2020-05-06 17:46:49.105892] (ka_br_lvl3): Core core_[74.64, 54.44, 0.81] Fitness: 1.940406878606671\n",
      "INFO [2020-05-06 17:46:49.190443] (ka_br_lvl3): Core core_[74.64, 54.44, 0.81] Fitness: 1.940406878606671\n",
      "INFO [2020-05-06 17:46:49.273315] (ka_br_lvl3): Core core_[74.64, 54.44, 0.81] Fitness: 1.940406878606671\n",
      "INFO [2020-05-06 17:46:50.171949] (bb): Selecting agent ka_br_lvl3 (TV: 3) to execute (TE: 960)\n",
      "INFO [2020-05-06 17:46:50.173878] (bb): Writing blackboard to archive\n",
      "INFO [2020-05-06 17:46:56.180908] (bb): Finished writing to archive\n",
      "INFO [2020-05-06 17:46:57.892030] (ka_br_lvl3): Core core_[64.47, 67.72, 0.7] Fitness: 1.884887371356\n",
      "INFO [2020-05-06 17:46:59.189757] (bb): Selecting agent ka_rp_explore_2 (TV: 0.75) to execute (TE: 961)\n",
      "INFO [2020-05-06 17:46:59.383227] (ka_br_lvl3): Core core_[64.47, 67.72, 0.7] Fitness: 1.884887371356\n",
      "INFO [2020-05-06 17:47:02.200470] (bb): Selecting agent ka_br_lvl3 (TV: 3) to execute (TE: 962)\n",
      "INFO [2020-05-06 17:47:04.918003] (ka_br_lvl3): Core core_[62.06, 59.1, 0.84] Fitness: 1.6510699142290237\n",
      "INFO [2020-05-06 17:47:05.211865] (bb): Selecting agent ka_rp_explore_1 (TV: 1.0) to execute (TE: 963)\n",
      "INFO [2020-05-06 17:47:05.422020] (ka_br_lvl3): Core core_[62.06, 59.1, 0.84] Fitness: 1.6510699142290237\n",
      "INFO [2020-05-06 17:47:08.221710] (bb): Selecting agent ka_br_lvl3 (TV: 3) to execute (TE: 964)\n",
      "INFO [2020-05-06 17:47:10.939499] (ka_br_lvl3): Core core_[70.72, 68.89, 0.4] Fitness: 2.5607952379488617\n",
      "INFO [2020-05-06 17:47:11.234242] (bb): Selecting agent ka_rp_explore_2 (TV: 1.0) to execute (TE: 965)\n",
      "INFO [2020-05-06 17:47:11.448648] (ka_br_lvl3): Core core_[70.72, 68.89, 0.4] Fitness: 2.5607952379488617\n",
      "INFO [2020-05-06 17:47:14.248093] (bb): Selecting agent ka_rp_explore_1 (TV: 0.75) to execute (TE: 966)\n",
      "INFO [2020-05-06 17:47:14.425502] (ka_br_lvl3): Core core_[70.72, 68.89, 0.4] Fitness: 2.5607952379488617\n",
      "INFO [2020-05-06 17:47:17.261798] (bb): Selecting agent ka_rp_explore_2 (TV: 0.5) to execute (TE: 967)\n",
      "INFO [2020-05-06 17:47:17.437630] (ka_br_lvl3): Core core_[70.72, 68.89, 0.4] Fitness: 2.5607952379488617\n",
      "INFO [2020-05-06 17:47:20.269905] (bb): Selecting agent ka_rp_explore_1 (TV: 0.5) to execute (TE: 968)\n",
      "INFO [2020-05-06 17:47:20.507951] (ka_br_lvl3): Core core_[70.72, 68.89, 0.4] Fitness: 2.5607952379488617\n",
      "INFO [2020-05-06 17:47:23.277957] (bb): Selecting agent ka_br_lvl3 (TV: 3) to execute (TE: 969)\n",
      "INFO [2020-05-06 17:47:26.289459] (bb): Selecting agent ka_rp_explore_2 (TV: 0.75) to execute (TE: 970)\n",
      "INFO [2020-05-06 17:47:26.292296] (bb): Writing blackboard to archive\n",
      "INFO [2020-05-06 17:47:32.300704] (bb): Finished writing to archive\n",
      "INFO [2020-05-06 17:47:34.430268] (ka_br_lvl3): Core core_[64.99, 63.43, 0.8] Fitness: 1.7409632636864045\n",
      "INFO [2020-05-06 17:47:34.516963] (ka_br_lvl3): Core core_[64.99, 63.43, 0.8] Fitness: 1.7409632636864045\n",
      "INFO [2020-05-06 17:47:35.310279] (bb): Selecting agent ka_br_lvl3 (TV: 3) to execute (TE: 971)\n",
      "INFO [2020-05-06 17:47:38.318587] (bb): Selecting agent ka_rp_explore_1 (TV: 1.0) to execute (TE: 972)\n",
      "INFO [2020-05-06 17:47:38.618539] (ka_br_lvl3): Core core_[74.71, 52.29, 0.8] Fitness: 1.9658051569484591\n",
      "INFO [2020-05-06 17:47:38.716481] (ka_br_lvl3): Core core_[74.71, 52.29, 0.8] Fitness: 1.9658051569484591\n",
      "INFO [2020-05-06 17:47:41.326823] (bb): Selecting agent ka_rp_explore_2 (TV: 0.75) to execute (TE: 973)\n",
      "INFO [2020-05-06 17:47:41.505857] (ka_br_lvl3): Core core_[74.71, 52.29, 0.8] Fitness: 1.9658051569484591\n",
      "INFO [2020-05-06 17:47:44.336940] (bb): Selecting agent ka_rp_explore_1 (TV: 0.5) to execute (TE: 974)\n",
      "INFO [2020-05-06 17:47:44.514452] (ka_br_lvl3): Core core_[74.71, 52.29, 0.8] Fitness: 1.9658051569484591\n",
      "INFO [2020-05-06 17:47:47.351156] (bb): Selecting agent ka_rp_explore_2 (TV: 0.5) to execute (TE: 975)\n",
      "INFO [2020-05-06 17:47:47.530691] (ka_br_lvl3): Core core_[74.71, 52.29, 0.8] Fitness: 1.9658051569484591\n",
      "INFO [2020-05-06 17:47:50.365014] (bb): Selecting agent ka_rp_explore_1 (TV: 0.5) to execute (TE: 976)\n",
      "INFO [2020-05-06 17:47:50.541487] (ka_br_lvl3): Core core_[74.71, 52.29, 0.8] Fitness: 1.9658051569484591\n",
      "INFO [2020-05-06 17:47:53.373948] (bb): Selecting agent ka_rp_explore_2 (TV: 0.5) to execute (TE: 977)\n",
      "INFO [2020-05-06 17:47:53.554679] (ka_br_lvl3): Core core_[74.71, 52.29, 0.8] Fitness: 1.9658051569484591\n",
      "INFO [2020-05-06 17:47:56.386244] (bb): Selecting agent ka_br_lvl3 (TV: 3) to execute (TE: 978)\n",
      "INFO [2020-05-06 17:47:59.110818] (ka_br_lvl3): Core core_[65.05, 64.99, 0.47] Fitness: 2.469210805020863\n",
      "INFO [2020-05-06 17:47:59.395059] (bb): Selecting agent ka_rp_explore_1 (TV: 0.75) to execute (TE: 979)\n",
      "INFO [2020-05-06 17:47:59.630939] (ka_br_lvl3): Core core_[65.05, 64.99, 0.47] Fitness: 2.469210805020863\n",
      "INFO [2020-05-06 17:48:02.403073] (bb): Selecting agent ka_rp_explore_2 (TV: 0.75) to execute (TE: 980)\n",
      "INFO [2020-05-06 17:48:02.585093] (ka_br_lvl3): Core core_[65.05, 64.99, 0.47] Fitness: 2.469210805020863\n",
      "INFO [2020-05-06 17:48:05.412612] (bb): Selecting agent ka_rp_explore_1 (TV: 0.5) to execute (TE: 981)\n",
      "INFO [2020-05-06 17:48:05.597229] (ka_br_lvl3): Core core_[65.05, 64.99, 0.47] Fitness: 2.469210805020863\n",
      "INFO [2020-05-06 17:48:08.420595] (bb): Selecting agent ka_rp_explore_2 (TV: 0.5) to execute (TE: 982)\n",
      "INFO [2020-05-06 17:48:08.661811] (ka_br_lvl3): Core core_[65.05, 64.99, 0.47] Fitness: 2.469210805020863\n",
      "INFO [2020-05-06 17:48:11.429943] (bb): Selecting agent ka_rp_explore_1 (TV: 0.5) to execute (TE: 983)\n",
      "INFO [2020-05-06 17:48:11.614173] (ka_br_lvl3): Core core_[65.05, 64.99, 0.47] Fitness: 2.469210805020863\n",
      "INFO [2020-05-06 17:48:14.439926] (bb): Selecting agent ka_br_lvl3 (TV: 3) to execute (TE: 984)\n",
      "INFO [2020-05-06 17:48:17.166966] (ka_br_lvl3): Core core_[79.82, 60.52, 0.59] Fitness: 2.2969526614309292\n",
      "INFO [2020-05-06 17:48:17.452235] (bb): Selecting agent ka_br_lvl3 (TV: 3) to execute (TE: 985)\n",
      "INFO [2020-05-06 17:48:20.461572] (bb): Selecting agent ka_rp_explore_2 (TV: 1.0) to execute (TE: 986)\n",
      "INFO [2020-05-06 17:48:23.470115] (bb): Selecting agent ka_rp_explore_1 (TV: 1.0) to execute (TE: 987)\n",
      "INFO [2020-05-06 17:48:25.443964] (ka_br_lvl3): Core core_[70.17, 56.15, 0.92] Fitness: 1.6420008138208013\n"
     ]
    },
    {
     "name": "stdout",
     "output_type": "stream",
     "text": [
      "INFO [2020-05-06 17:48:25.531939] (ka_br_lvl3): Core core_[70.17, 56.15, 0.92] Fitness: 1.6420008138208013\n",
      "INFO [2020-05-06 17:48:25.620757] (ka_br_lvl3): Core core_[70.17, 56.15, 0.92] Fitness: 1.6420008138208013\n",
      "INFO [2020-05-06 17:48:26.483713] (bb): No KA to execute, waiting to sends trigger again.\n",
      "INFO [2020-05-06 17:48:26.697482] (ka_br_lvl3): Core core_[70.17, 56.15, 0.92] Fitness: 1.6420008138208013\n",
      "INFO [2020-05-06 17:48:29.540524] (bb): Selecting agent ka_rp_explore_2 (TV: 0.75) to execute (TE: 989)\n",
      "INFO [2020-05-06 17:48:29.726686] (ka_br_lvl3): Core core_[70.17, 56.15, 0.92] Fitness: 1.6420008138208013\n",
      "INFO [2020-05-06 17:48:32.552438] (bb): Selecting agent ka_br_lvl3 (TV: 3) to execute (TE: 990)\n",
      "INFO [2020-05-06 17:48:35.275603] (ka_br_lvl3): Core core_[65.27, 66.67, 0.52] Fitness: 2.3088606254383284\n",
      "INFO [2020-05-06 17:48:35.559900] (bb): Selecting agent ka_br_lvl3 (TV: 3) to execute (TE: 991)\n",
      "INFO [2020-05-06 17:48:37.226103] (ka_br_lvl3): Core core_[72.01, 60.62, 0.33] Fitness: 2.8937443653762367\n",
      "INFO [2020-05-06 17:48:38.569117] (bb): Selecting agent ka_rp_explore_1 (TV: 1.25) to execute (TE: 992)\n",
      "INFO [2020-05-06 17:48:38.802983] (ka_br_lvl3): Core core_[72.01, 60.62, 0.33] Fitness: 2.8937443653762367\n",
      "INFO [2020-05-06 17:48:41.577515] (bb): Selecting agent ka_rp_explore_2 (TV: 1.0) to execute (TE: 993)\n",
      "INFO [2020-05-06 17:48:41.755678] (ka_br_lvl3): Core core_[72.01, 60.62, 0.33] Fitness: 2.8937443653762367\n",
      "INFO [2020-05-06 17:48:44.586870] (bb): Selecting agent ka_rp_explore_1 (TV: 0.5) to execute (TE: 994)\n",
      "INFO [2020-05-06 17:48:44.773962] (ka_br_lvl3): Core core_[72.01, 60.62, 0.33] Fitness: 2.8937443653762367\n",
      "INFO [2020-05-06 17:48:47.598719] (bb): Selecting agent ka_br_lvl3 (TV: 3) to execute (TE: 995)\n",
      "INFO [2020-05-06 17:48:50.608521] (bb): Selecting agent ka_rp_explore_2 (TV: 0.75) to execute (TE: 996)\n",
      "INFO [2020-05-06 17:48:53.454809] (ka_br_lvl3): Core core_[74.13, 54.52, 0.83] Fitness: 1.8811445026737372\n",
      "INFO [2020-05-06 17:48:53.543755] (ka_br_lvl3): Core core_[74.13, 54.52, 0.83] Fitness: 1.8811445026737372\n",
      "INFO [2020-05-06 17:48:53.620587] (bb): Selecting agent ka_br_lvl2 (TV: 4) to execute (TE: 997)\n",
      "INFO [2020-05-06 17:48:53.766852] (ka_br_lvl3): Core core_[74.13, 54.52, 0.83] Fitness: 1.8811445026737372\n",
      "INFO [2020-05-06 17:48:56.634671] (bb): Selecting agent ka_rp_explore_1 (TV: 1.0) to execute (TE: 998)\n",
      "INFO [2020-05-06 17:48:56.815200] (ka_br_lvl3): Core core_[74.13, 54.52, 0.83] Fitness: 1.8811445026737372\n",
      "INFO [2020-05-06 17:48:59.644759] (bb): Selecting agent ka_rp_exploit (TV: 5) to execute (TE: 999)\n",
      "INFO [2020-05-06 17:48:59.923440] (ka_br_lvl3): Core core_[74.13, 54.52, 0.83] Fitness: 1.8811445026737372\n",
      "INFO [2020-05-06 17:49:02.793230] (bb): Selecting agent ka_rp_explore_2 (TV: 1.0) to execute (TE: 1000)\n",
      "INFO [2020-05-06 17:49:02.795924] (bb): Writing blackboard to archive\n",
      "INFO [2020-05-06 17:49:08.806002] (bb): Finished writing to archive\n",
      "INFO [2020-05-06 17:49:08.951520] (ka_br_lvl3): Core core_[74.13, 54.52, 0.83] Fitness: 1.8811445026737372\n",
      "INFO [2020-05-06 17:49:11.820898] (bb): Selecting agent ka_br_lvl3 (TV: 3) to execute (TE: 1001)\n",
      "INFO [2020-05-06 17:49:13.493575] (ka_br_lvl3): Core core_[66.46, 63.61, 0.63] Fitness: 2.1393335690700774\n",
      "INFO [2020-05-06 17:49:14.832826] (bb): Selecting agent ka_br_lvl3 (TV: 3) to execute (TE: 1002)\n",
      "INFO [2020-05-06 17:49:17.568664] (ka_br_lvl3): Core core_[71.72, 53.01, 0.83] Fitness: 1.8545403500480895\n",
      "INFO [2020-05-06 17:49:17.842242] (bb): Selecting agent ka_rp_explore_1 (TV: 1.25) to execute (TE: 1003)\n",
      "INFO [2020-05-06 17:49:17.982519] (ka_br_lvl3): Core core_[71.72, 53.01, 0.83] Fitness: 1.8545403500480895\n",
      "INFO [2020-05-06 17:49:20.855557] (bb): Selecting agent ka_br_lvl3 (TV: 3) to execute (TE: 1004)\n",
      "INFO [2020-05-06 17:49:23.588939] (ka_br_lvl3): Core core_[71.2899, 60.62, 0.33] Fitness: 2.8932655467120862\n",
      "INFO [2020-05-06 17:49:23.864168] (bb): Selecting agent ka_rp_explore_2 (TV: 1.25) to execute (TE: 1005)\n",
      "INFO [2020-05-06 17:49:24.088483] (ka_br_lvl3): Core core_[71.2899, 60.62, 0.33] Fitness: 2.8932655467120862\n",
      "INFO [2020-05-06 17:49:26.872493] (bb): Selecting agent ka_br_lvl3 (TV: 3) to execute (TE: 1006)\n",
      "INFO [2020-05-06 17:49:28.545111] (ka_br_lvl3): Core core_[72.7301, 60.62, 0.33] Fitness: 2.89492418466238\n",
      "INFO [2020-05-06 17:49:29.879842] (bb): Selecting agent ka_rp_explore_1 (TV: 1.0) to execute (TE: 1007)\n",
      "INFO [2020-05-06 17:49:30.144871] (ka_br_lvl3): Core core_[72.7301, 60.62, 0.33] Fitness: 2.89492418466238\n",
      "INFO [2020-05-06 17:49:32.888820] (bb): Selecting agent ka_rp_explore_2 (TV: 0.75) to execute (TE: 1008)\n",
      "INFO [2020-05-06 17:49:33.076271] (ka_br_lvl3): Core core_[72.7301, 60.62, 0.33] Fitness: 2.89492418466238\n",
      "INFO [2020-05-06 17:49:35.896838] (bb): Selecting agent ka_rp_explore_1 (TV: 0.5) to execute (TE: 1009)\n",
      "INFO [2020-05-06 17:49:36.088158] (ka_br_lvl3): Core core_[72.7301, 60.62, 0.33] Fitness: 2.89492418466238\n",
      "INFO [2020-05-06 17:49:38.904584] (bb): Selecting agent ka_rp_explore_2 (TV: 0.5) to execute (TE: 1010)\n",
      "INFO [2020-05-06 17:49:39.092370] (ka_br_lvl3): Core core_[72.7301, 60.62, 0.33] Fitness: 2.89492418466238\n",
      "INFO [2020-05-06 17:49:41.920754] (bb): Selecting agent ka_rp_explore_1 (TV: 0.5) to execute (TE: 1011)\n",
      "INFO [2020-05-06 17:49:42.108127] (ka_br_lvl3): Core core_[72.7301, 60.62, 0.33] Fitness: 2.89492418466238\n",
      "INFO [2020-05-06 17:49:44.937559] (bb): Selecting agent ka_rp_explore_2 (TV: 0.5) to execute (TE: 1012)\n",
      "INFO [2020-05-06 17:49:45.174969] (ka_br_lvl3): Core core_[72.7301, 60.62, 0.33] Fitness: 2.89492418466238\n",
      "INFO [2020-05-06 17:49:47.953391] (bb): Selecting agent ka_rp_explore_1 (TV: 0.5) to execute (TE: 1013)\n",
      "INFO [2020-05-06 17:49:48.140971] (ka_br_lvl3): Core core_[72.7301, 60.62, 0.33] Fitness: 2.89492418466238\n",
      "INFO [2020-05-06 17:49:50.968016] (bb): Selecting agent ka_br_lvl3 (TV: 3) to execute (TE: 1014)\n",
      "INFO [2020-05-06 17:49:53.707874] (ka_br_lvl3): Core core_[72.01, 61.2262, 0.33] Fitness: 2.882611432674517\n",
      "INFO [2020-05-06 17:49:53.976256] (bb): Selecting agent ka_rp_explore_2 (TV: 0.75) to execute (TE: 1015)\n",
      "INFO [2020-05-06 17:49:54.200955] (ka_br_lvl3): Core core_[72.01, 61.2262, 0.33] Fitness: 2.882611432674517\n",
      "INFO [2020-05-06 17:49:56.992596] (bb): Selecting agent ka_rp_explore_1 (TV: 0.75) to execute (TE: 1016)\n",
      "INFO [2020-05-06 17:49:57.237294] (ka_br_lvl3): Core core_[72.01, 61.2262, 0.33] Fitness: 2.882611432674517\n",
      "INFO [2020-05-06 17:50:00.004076] (bb): Selecting agent ka_br_lvl3 (TV: 3) to execute (TE: 1017)\n",
      "INFO [2020-05-06 17:50:01.680395] (ka_br_lvl3): Core core_[72.01, 60.62, 0.3267] Fitness: 2.9017145622011133\n",
      "INFO [2020-05-06 17:50:03.021994] (bb): Selecting agent ka_br_lvl3 (TV: 3) to execute (TE: 1018)\n",
      "INFO [2020-05-06 17:50:04.700445] (ka_br_lvl3): Core core_[72.01, 60.62, 0.3333] Fitness: 2.8857741685513596\n",
      "INFO [2020-05-06 17:50:06.041094] (bb): Selecting agent ka_br_lvl3 (TV: 3) to execute (TE: 1019)\n",
      "INFO [2020-05-06 17:50:09.056853] (bb): Selecting agent ka_rp_explore_2 (TV: 1.25) to execute (TE: 1020)\n",
      "INFO [2020-05-06 17:50:09.059612] (bb): Writing blackboard to archive\n",
      "INFO [2020-05-06 17:50:15.074495] (bb): Finished writing to archive\n",
      "INFO [2020-05-06 17:50:16.148767] (ka_br_lvl3): Core core_[64.18, 69.59, 0.67] Fitness: 1.9013992278157834\n",
      "INFO [2020-05-06 17:50:16.240317] (ka_br_lvl3): Core core_[64.18, 69.59, 0.67] Fitness: 1.9013992278157834\n",
      "INFO [2020-05-06 17:50:18.085372] (bb): Selecting agent ka_rp_explore_1 (TV: 1.25) to execute (TE: 1021)\n",
      "INFO [2020-05-06 17:50:18.228736] (ka_br_lvl3): Core core_[64.18, 69.59, 0.67] Fitness: 1.9013992278157834\n",
      "INFO [2020-05-06 17:50:21.101898] (bb): Selecting agent ka_rp_explore_2 (TV: 0.5) to execute (TE: 1022)\n",
      "INFO [2020-05-06 17:50:21.285175] (ka_br_lvl3): Core core_[64.18, 69.59, 0.67] Fitness: 1.9013992278157834\n",
      "INFO [2020-05-06 17:50:24.110163] (bb): Selecting agent ka_rp_explore_1 (TV: 0.5) to execute (TE: 1023)\n",
      "INFO [2020-05-06 17:50:24.296159] (ka_br_lvl3): Core core_[64.18, 69.59, 0.67] Fitness: 1.9013992278157834\n",
      "INFO [2020-05-06 17:50:27.118305] (bb): Selecting agent ka_rp_explore_2 (TV: 0.5) to execute (TE: 1024)\n",
      "INFO [2020-05-06 17:50:27.353762] (ka_br_lvl3): Core core_[64.18, 69.59, 0.67] Fitness: 1.9013992278157834\n"
     ]
    },
    {
     "name": "stdout",
     "output_type": "stream",
     "text": [
      "INFO [2020-05-06 17:50:30.126717] (bb): Selecting agent ka_rp_explore_1 (TV: 0.5) to execute (TE: 1025)\n",
      "INFO [2020-05-06 17:50:30.307834] (ka_br_lvl3): Core core_[64.18, 69.59, 0.67] Fitness: 1.9013992278157834\n",
      "INFO [2020-05-06 17:50:33.143837] (bb): Selecting agent ka_br_lvl3 (TV: 3) to execute (TE: 1026)\n",
      "INFO [2020-05-06 17:50:35.874000] (ka_br_lvl3): Core core_[75.92, 53.91, 0.7] Fitness: 2.209468640202405\n",
      "INFO [2020-05-06 17:50:36.160020] (bb): Selecting agent ka_rp_explore_2 (TV: 0.75) to execute (TE: 1027)\n",
      "INFO [2020-05-06 17:50:36.388028] (ka_br_lvl3): Core core_[75.92, 53.91, 0.7] Fitness: 2.209468640202405\n",
      "INFO [2020-05-06 17:50:39.176580] (bb): Selecting agent ka_rp_explore_1 (TV: 0.75) to execute (TE: 1028)\n",
      "INFO [2020-05-06 17:50:39.417300] (ka_br_lvl3): Core core_[75.92, 53.91, 0.7] Fitness: 2.209468640202405\n",
      "INFO [2020-05-06 17:50:42.186214] (bb): Selecting agent ka_rp_explore_2 (TV: 0.5) to execute (TE: 1029)\n",
      "INFO [2020-05-06 17:50:42.368413] (ka_br_lvl3): Core core_[75.92, 53.91, 0.7] Fitness: 2.209468640202405\n",
      "INFO [2020-05-06 17:50:45.205508] (bb): Selecting agent ka_rp_explore_1 (TV: 0.5) to execute (TE: 1030)\n",
      "INFO [2020-05-06 17:50:45.408067] (ka_br_lvl3): Core core_[75.92, 53.91, 0.7] Fitness: 2.209468640202405\n",
      "INFO [2020-05-06 17:50:48.218066] (bb): Selecting agent ka_br_lvl3 (TV: 3) to execute (TE: 1031)\n",
      "INFO [2020-05-06 17:50:51.226177] (bb): Selecting agent ka_rp_explore_2 (TV: 0.75) to execute (TE: 1032)\n",
      "INFO [2020-05-06 17:50:52.038822] (ka_br_lvl3): Core core_[73.67, 53.75, 0.76] Fitness: 1.9997107487562695\n",
      "INFO [2020-05-06 17:50:52.125109] (ka_br_lvl3): Core core_[73.67, 53.75, 0.76] Fitness: 1.9997107487562695\n",
      "INFO [2020-05-06 17:50:54.234559] (bb): Selecting agent ka_br_lvl3 (TV: 3) to execute (TE: 1033)\n",
      "INFO [2020-05-06 17:50:55.904021] (ka_br_lvl3): Core core_[73.14, 54.83, 0.83] Fitness: 1.8711038553174024\n",
      "INFO [2020-05-06 17:50:57.242740] (bb): Selecting agent ka_rp_explore_1 (TV: 1.0) to execute (TE: 1034)\n",
      "INFO [2020-05-06 17:50:57.485599] (ka_br_lvl3): Core core_[73.14, 54.83, 0.83] Fitness: 1.8711038553174024\n",
      "INFO [2020-05-06 17:51:00.256400] (bb): Selecting agent ka_br_lvl3 (TV: 3) to execute (TE: 1035)\n",
      "INFO [2020-05-06 17:51:01.985020] (ka_br_lvl3): Core core_[73.22, 62.29, 0.54] Fitness: 2.3611905898897527\n",
      "INFO [2020-05-06 17:51:03.269939] (bb): Selecting agent ka_rp_explore_2 (TV: 1.0) to execute (TE: 1036)\n",
      "INFO [2020-05-06 17:51:03.491428] (ka_br_lvl3): Core core_[73.22, 62.29, 0.54] Fitness: 2.3611905898897527\n",
      "INFO [2020-05-06 17:51:06.282735] (bb): Selecting agent ka_rp_explore_1 (TV: 0.75) to execute (TE: 1037)\n",
      "INFO [2020-05-06 17:51:06.463671] (ka_br_lvl3): Core core_[73.22, 62.29, 0.54] Fitness: 2.3611905898897527\n",
      "INFO [2020-05-06 17:51:09.294410] (bb): Selecting agent ka_br_lvl3 (TV: 3) to execute (TE: 1038)\n",
      "INFO [2020-05-06 17:51:12.034224] (ka_br_lvl3): Core core_[77.32, 61.17, 0.61] Fitness: 2.2338939108848526\n",
      "INFO [2020-05-06 17:51:12.304608] (bb): Selecting agent ka_br_lvl3 (TV: 3) to execute (TE: 1039)\n",
      "INFO [2020-05-06 17:51:15.320491] (bb): Selecting agent ka_rp_explore_2 (TV: 1.0) to execute (TE: 1040)\n",
      "INFO [2020-05-06 17:51:15.323013] (bb): Writing blackboard to archive\n",
      "INFO [2020-05-06 17:51:21.341946] (bb): Finished writing to archive\n",
      "INFO [2020-05-06 17:51:23.489441] (ka_br_lvl3): Core core_[72.69, 64.97, 0.37] Fitness: 2.7183905479671284\n",
      "INFO [2020-05-06 17:51:23.576500] (ka_br_lvl3): Core core_[72.69, 64.97, 0.37] Fitness: 2.7183905479671284\n",
      "INFO [2020-05-06 17:51:24.352149] (bb): Selecting agent ka_br_lvl3 (TV: 3) to execute (TE: 1041)\n",
      "INFO [2020-05-06 17:51:27.365339] (bb): Selecting agent ka_rp_explore_1 (TV: 1.25) to execute (TE: 1042)\n",
      "INFO [2020-05-06 17:51:29.147510] (ka_br_lvl3): Core core_[76.39, 64.31, 0.62] Fitness: 2.1238866251904702\n",
      "INFO [2020-05-06 17:51:29.233909] (ka_br_lvl3): Core core_[76.39, 64.31, 0.62] Fitness: 2.1238866251904702\n",
      "INFO [2020-05-06 17:51:30.381689] (bb): Selecting agent ka_br_lvl3 (TV: 3) to execute (TE: 1043)\n",
      "INFO [2020-05-06 17:51:32.561415] (ka_br_lvl3): Core core_[70.08, 57.05, 0.58] Fitness: 2.273668033916212\n",
      "INFO [2020-05-06 17:51:33.394457] (bb): Selecting agent ka_rp_explore_2 (TV: 1.0) to execute (TE: 1044)\n",
      "INFO [2020-05-06 17:51:33.634038] (ka_br_lvl3): Core core_[70.08, 57.05, 0.58] Fitness: 2.273668033916212\n",
      "INFO [2020-05-06 17:51:36.410775] (bb): Selecting agent ka_rp_explore_1 (TV: 0.75) to execute (TE: 1045)\n",
      "INFO [2020-05-06 17:51:36.594015] (ka_br_lvl3): Core core_[70.08, 57.05, 0.58] Fitness: 2.273668033916212\n",
      "INFO [2020-05-06 17:51:39.418781] (bb): Selecting agent ka_rp_explore_2 (TV: 0.5) to execute (TE: 1046)\n",
      "INFO [2020-05-06 17:51:39.603165] (ka_br_lvl3): Core core_[70.08, 57.05, 0.58] Fitness: 2.273668033916212\n",
      "INFO [2020-05-06 17:51:42.427306] (bb): Selecting agent ka_br_lvl3 (TV: 3) to execute (TE: 1047)\n",
      "INFO [2020-05-06 17:51:45.435321] (bb): Selecting agent ka_rp_explore_1 (TV: 0.75) to execute (TE: 1048)\n",
      "INFO [2020-05-06 17:51:48.473784] (bb): Selecting agent ka_rp_explore_2 (TV: 0.75) to execute (TE: 1049)\n",
      "INFO [2020-05-06 17:51:51.485643] (bb): Selecting agent ka_rp_explore_1 (TV: 0.5) to execute (TE: 1050)\n",
      "INFO [2020-05-06 17:51:52.083227] (ka_br_lvl3): Core core_[66.16, 62.14, 0.39] Fitness: 2.6533252407645387\n",
      "INFO [2020-05-06 17:51:52.169318] (ka_br_lvl3): Core core_[66.16, 62.14, 0.39] Fitness: 2.6533252407645387\n",
      "INFO [2020-05-06 17:51:52.253243] (ka_br_lvl3): Core core_[66.16, 62.14, 0.39] Fitness: 2.6533252407645387\n",
      "INFO [2020-05-06 17:51:52.345028] (ka_br_lvl3): Core core_[66.16, 62.14, 0.39] Fitness: 2.6533252407645387\n",
      "INFO [2020-05-06 17:51:54.495376] (bb): Selecting agent ka_rp_explore_2 (TV: 0.5) to execute (TE: 1051)\n",
      "INFO [2020-05-06 17:51:54.678011] (ka_br_lvl3): Core core_[66.16, 62.14, 0.39] Fitness: 2.6533252407645387\n",
      "INFO [2020-05-06 17:51:57.510268] (bb): Selecting agent ka_br_lvl3 (TV: 3) to execute (TE: 1052)\n",
      "INFO [2020-05-06 17:52:00.521739] (bb): Selecting agent ka_rp_explore_1 (TV: 0.75) to execute (TE: 1053)\n",
      "INFO [2020-05-06 17:52:01.374520] (ka_br_lvl3): Core core_[74.16, 60.1, 0.8] Fitness: 1.8252256735885102\n",
      "INFO [2020-05-06 17:52:01.462036] (ka_br_lvl3): Core core_[74.16, 60.1, 0.8] Fitness: 1.8252256735885102\n",
      "INFO [2020-05-06 17:52:03.535863] (bb): Selecting agent ka_rp_explore_2 (TV: 0.75) to execute (TE: 1054)\n",
      "INFO [2020-05-06 17:52:03.724076] (ka_br_lvl3): Core core_[74.16, 60.1, 0.8] Fitness: 1.8252256735885102\n",
      "INFO [2020-05-06 17:52:06.547718] (bb): Selecting agent ka_br_lvl3 (TV: 3) to execute (TE: 1055)\n",
      "INFO [2020-05-06 17:52:08.214082] (ka_br_lvl3): Core core_[72.74, 52.31, 0.95] Fitness: 1.652155206254425\n",
      "INFO [2020-05-06 17:52:09.562309] (bb): Selecting agent ka_rp_explore_1 (TV: 0.75) to execute (TE: 1056)\n",
      "INFO [2020-05-06 17:52:09.815395] (ka_br_lvl3): Core core_[72.74, 52.31, 0.95] Fitness: 1.652155206254425\n",
      "INFO [2020-05-06 17:52:12.578587] (bb): Selecting agent ka_rp_explore_2 (TV: 0.75) to execute (TE: 1057)\n",
      "INFO [2020-05-06 17:52:12.765371] (ka_br_lvl3): Core core_[72.74, 52.31, 0.95] Fitness: 1.652155206254425\n",
      "INFO [2020-05-06 17:52:15.595149] (bb): Selecting agent ka_br_lvl3 (TV: 3) to execute (TE: 1058)\n",
      "INFO [2020-05-06 17:52:18.611585] (bb): Selecting agent ka_rp_explore_1 (TV: 0.75) to execute (TE: 1059)\n",
      "INFO [2020-05-06 17:52:20.538142] (ka_br_lvl3): Core core_[67.31, 59.88, 0.47] Fitness: 2.4729527498889654\n",
      "INFO [2020-05-06 17:52:20.624358] (ka_br_lvl3): Core core_[67.31, 59.88, 0.47] Fitness: 2.4729527498889654\n",
      "INFO [2020-05-06 17:52:21.623198] (bb): Selecting agent ka_rp_explore_2 (TV: 0.75) to execute (TE: 1060)\n",
      "INFO [2020-05-06 17:52:21.626297] (bb): Writing blackboard to archive\n",
      "INFO [2020-05-06 17:52:27.643230] (bb): Finished writing to archive\n",
      "INFO [2020-05-06 17:52:27.790326] (ka_br_lvl3): Core core_[67.31, 59.88, 0.47] Fitness: 2.4729527498889654\n",
      "INFO [2020-05-06 17:52:30.652583] (bb): Selecting agent ka_rp_explore_1 (TV: 0.5) to execute (TE: 1061)\n",
      "INFO [2020-05-06 17:52:30.838203] (ka_br_lvl3): Core core_[67.31, 59.88, 0.47] Fitness: 2.4729527498889654\n",
      "INFO [2020-05-06 17:52:33.662310] (bb): Selecting agent ka_br_lvl3 (TV: 3) to execute (TE: 1062)\n",
      "INFO [2020-05-06 17:52:36.674216] (bb): Selecting agent ka_rp_explore_2 (TV: 0.75) to execute (TE: 1063)\n",
      "INFO [2020-05-06 17:52:37.475149] (ka_br_lvl3): Core core_[70.87, 63.99, 0.22] Fitness: 3.129403628340056\n"
     ]
    },
    {
     "name": "stdout",
     "output_type": "stream",
     "text": [
      "INFO [2020-05-06 17:52:37.564689] (ka_br_lvl3): Core core_[70.87, 63.99, 0.22] Fitness: 3.129403628340056\n",
      "INFO [2020-05-06 17:52:39.685744] (bb): Selecting agent ka_rp_explore_1 (TV: 0.75) to execute (TE: 1064)\n",
      "INFO [2020-05-06 17:52:39.871302] (ka_br_lvl3): Core core_[70.87, 63.99, 0.22] Fitness: 3.129403628340056\n",
      "INFO [2020-05-06 17:52:42.695171] (bb): Selecting agent ka_br_lvl3 (TV: 3) to execute (TE: 1065)\n",
      "INFO [2020-05-06 17:52:44.368714] (ka_br_lvl3): Core core_[64.79, 67.92, 0.53] Fitness: 2.2508357253662785\n",
      "INFO [2020-05-06 17:52:45.712679] (bb): Selecting agent ka_rp_explore_2 (TV: 0.75) to execute (TE: 1066)\n",
      "INFO [2020-05-06 17:52:45.983922] (ka_br_lvl3): Core core_[64.79, 67.92, 0.53] Fitness: 2.2508357253662785\n",
      "INFO [2020-05-06 17:52:48.724212] (bb): Selecting agent ka_rp_explore_1 (TV: 0.75) to execute (TE: 1067)\n",
      "INFO [2020-05-06 17:52:48.909831] (ka_br_lvl3): Core core_[64.79, 67.92, 0.53] Fitness: 2.2508357253662785\n",
      "INFO [2020-05-06 17:52:51.735555] (bb): Selecting agent ka_rp_explore_2 (TV: 0.5) to execute (TE: 1068)\n",
      "INFO [2020-05-06 17:52:51.923658] (ka_br_lvl3): Core core_[64.79, 67.92, 0.53] Fitness: 2.2508357253662785\n",
      "INFO [2020-05-06 17:52:54.746132] (bb): Selecting agent ka_br_lvl3 (TV: 3) to execute (TE: 1069)\n",
      "INFO [2020-05-06 17:52:56.419095] (ka_br_lvl3): Core core_[64.21, 58.52, 0.65] Fitness: 2.073426784818442\n",
      "INFO [2020-05-06 17:52:57.763673] (bb): Selecting agent ka_rp_explore_1 (TV: 0.75) to execute (TE: 1070)\n",
      "INFO [2020-05-06 17:52:58.005254] (ka_br_lvl3): Core core_[64.21, 58.52, 0.65] Fitness: 2.073426784818442\n",
      "INFO [2020-05-06 17:53:00.779691] (bb): Selecting agent ka_rp_explore_2 (TV: 0.75) to execute (TE: 1071)\n",
      "INFO [2020-05-06 17:53:00.972766] (ka_br_lvl3): Core core_[64.21, 58.52, 0.65] Fitness: 2.073426784818442\n",
      "INFO [2020-05-06 17:53:03.794170] (bb): Selecting agent ka_rp_explore_1 (TV: 0.5) to execute (TE: 1072)\n",
      "INFO [2020-05-06 17:53:03.981305] (ka_br_lvl3): Core core_[64.21, 58.52, 0.65] Fitness: 2.073426784818442\n",
      "INFO [2020-05-06 17:53:06.802042] (bb): Selecting agent ka_rp_explore_2 (TV: 0.5) to execute (TE: 1073)\n",
      "INFO [2020-05-06 17:53:06.989351] (ka_br_lvl3): Core core_[64.21, 58.52, 0.65] Fitness: 2.073426784818442\n",
      "INFO [2020-05-06 17:53:09.820293] (bb): Selecting agent ka_br_lvl3 (TV: 3) to execute (TE: 1074)\n",
      "INFO [2020-05-06 17:53:12.576188] (ka_br_lvl3): Core core_[70.41, 66.7, 0.63] Fitness: 2.0316297421121274\n",
      "INFO [2020-05-06 17:53:12.838487] (bb): Selecting agent ka_br_lvl3 (TV: 3) to execute (TE: 1075)\n",
      "INFO [2020-05-06 17:53:15.847558] (bb): Selecting agent ka_rp_explore_1 (TV: 1.0) to execute (TE: 1076)\n",
      "INFO [2020-05-06 17:53:18.865385] (bb): Selecting agent ka_rp_explore_2 (TV: 1.0) to execute (TE: 1077)\n",
      "INFO [2020-05-06 17:53:21.881760] (bb): No KA to execute, waiting to sends trigger again.\n",
      "INFO [2020-05-06 17:53:24.895930] (bb): Selecting agent ka_rp_explore_1 (TV: 0.75) to execute (TE: 1079)\n",
      "INFO [2020-05-06 17:53:25.085342] (ka_br_lvl3): Core core_[60.84, 69.42, 0.5] Fitness: 2.2950997631653376\n",
      "INFO [2020-05-06 17:53:25.173558] (ka_br_lvl3): Core core_[60.84, 69.42, 0.5] Fitness: 2.2950997631653376\n",
      "INFO [2020-05-06 17:53:25.261058] (ka_br_lvl3): Core core_[60.84, 69.42, 0.5] Fitness: 2.2950997631653376\n",
      "INFO [2020-05-06 17:53:25.348169] (ka_br_lvl3): Core core_[60.84, 69.42, 0.5] Fitness: 2.2950997631653376\n",
      "INFO [2020-05-06 17:53:25.436652] (ka_br_lvl3): Core core_[60.84, 69.42, 0.5] Fitness: 2.2950997631653376\n",
      "INFO [2020-05-06 17:53:27.911471] (bb): Selecting agent ka_br_lvl3 (TV: 3) to execute (TE: 1080)\n",
      "INFO [2020-05-06 17:53:30.925091] (bb): Selecting agent ka_rp_explore_2 (TV: 1.0) to execute (TE: 1081)\n",
      "INFO [2020-05-06 17:53:31.733081] (ka_br_lvl3): Core core_[67.3, 68.93, 0.45] Fitness: 2.4254826358058703\n",
      "INFO [2020-05-06 17:53:31.826509] (ka_br_lvl3): Core core_[67.3, 68.93, 0.45] Fitness: 2.4254826358058703\n",
      "INFO [2020-05-06 17:53:33.936234] (bb): Selecting agent ka_br_lvl3 (TV: 3) to execute (TE: 1082)\n",
      "INFO [2020-05-06 17:53:36.694162] (ka_br_lvl3): Core core_[67.61, 64.47, 0.82] Fitness: 1.6863312230384337\n",
      "INFO [2020-05-06 17:53:36.946473] (bb): Selecting agent ka_rp_explore_1 (TV: 1.0) to execute (TE: 1083)\n",
      "INFO [2020-05-06 17:53:37.162117] (ka_br_lvl3): Core core_[67.61, 64.47, 0.82] Fitness: 1.6863312230384337\n",
      "INFO [2020-05-06 17:53:39.963544] (bb): Selecting agent ka_rp_explore_2 (TV: 0.75) to execute (TE: 1084)\n",
      "INFO [2020-05-06 17:53:40.202870] (ka_br_lvl3): Core core_[67.61, 64.47, 0.82] Fitness: 1.6863312230384337\n",
      "INFO [2020-05-06 17:53:42.980405] (bb): Selecting agent ka_rp_explore_1 (TV: 0.5) to execute (TE: 1085)\n",
      "INFO [2020-05-06 17:53:43.168658] (ka_br_lvl3): Core core_[67.61, 64.47, 0.82] Fitness: 1.6863312230384337\n",
      "INFO [2020-05-06 17:53:45.996417] (bb): Selecting agent ka_rp_explore_2 (TV: 0.5) to execute (TE: 1086)\n",
      "INFO [2020-05-06 17:53:46.188494] (ka_br_lvl3): Core core_[67.61, 64.47, 0.82] Fitness: 1.6863312230384337\n",
      "INFO [2020-05-06 17:53:49.009052] (bb): Selecting agent ka_rp_explore_1 (TV: 0.5) to execute (TE: 1087)\n",
      "INFO [2020-05-06 17:53:49.193302] (ka_br_lvl3): Core core_[67.61, 64.47, 0.82] Fitness: 1.6863312230384337\n",
      "INFO [2020-05-06 17:53:52.017947] (bb): Selecting agent ka_rp_explore_2 (TV: 0.5) to execute (TE: 1088)\n",
      "INFO [2020-05-06 17:53:52.217600] (ka_br_lvl3): Core core_[67.61, 64.47, 0.82] Fitness: 1.6863312230384337\n",
      "INFO [2020-05-06 17:53:55.028909] (bb): Selecting agent ka_br_lvl3 (TV: 3) to execute (TE: 1089)\n",
      "INFO [2020-05-06 17:53:57.768738] (ka_br_lvl3): Core core_[69.2, 60.05, 0.81] Fitness: 1.8039214269098205\n",
      "INFO [2020-05-06 17:53:58.047517] (bb): Selecting agent ka_rp_explore_1 (TV: 0.75) to execute (TE: 1090)\n",
      "INFO [2020-05-06 17:53:58.278797] (ka_br_lvl3): Core core_[69.2, 60.05, 0.81] Fitness: 1.8039214269098205\n",
      "INFO [2020-05-06 17:54:01.056181] (bb): Selecting agent ka_rp_explore_2 (TV: 0.75) to execute (TE: 1091)\n",
      "INFO [2020-05-06 17:54:01.249133] (ka_br_lvl3): Core core_[69.2, 60.05, 0.81] Fitness: 1.8039214269098205\n",
      "INFO [2020-05-06 17:54:04.069440] (bb): Selecting agent ka_rp_explore_1 (TV: 0.5) to execute (TE: 1092)\n",
      "INFO [2020-05-06 17:54:04.312878] (ka_br_lvl3): Core core_[69.2, 60.05, 0.81] Fitness: 1.8039214269098205\n",
      "INFO [2020-05-06 17:54:07.081443] (bb): Selecting agent ka_br_lvl3 (TV: 3) to execute (TE: 1093)\n",
      "INFO [2020-05-06 17:54:09.845133] (ka_br_lvl3): Core core_[64.41, 57.66, 0.65] Fitness: 2.0705946362888157\n",
      "INFO [2020-05-06 17:54:10.097775] (bb): Selecting agent ka_rp_explore_2 (TV: 0.75) to execute (TE: 1094)\n",
      "INFO [2020-05-06 17:54:10.321220] (ka_br_lvl3): Core core_[64.41, 57.66, 0.65] Fitness: 2.0705946362888157\n",
      "INFO [2020-05-06 17:54:13.108718] (bb): Selecting agent ka_rp_explore_1 (TV: 0.75) to execute (TE: 1095)\n",
      "INFO [2020-05-06 17:54:13.295601] (ka_br_lvl3): Core core_[64.41, 57.66, 0.65] Fitness: 2.0705946362888157\n",
      "INFO [2020-05-06 17:54:16.119877] (bb): Selecting agent ka_rp_explore_2 (TV: 0.5) to execute (TE: 1096)\n",
      "INFO [2020-05-06 17:54:16.362305] (ka_br_lvl3): Core core_[64.41, 57.66, 0.65] Fitness: 2.0705946362888157\n",
      "INFO [2020-05-06 17:54:19.130408] (bb): Selecting agent ka_rp_explore_1 (TV: 0.5) to execute (TE: 1097)\n",
      "INFO [2020-05-06 17:54:19.318504] (ka_br_lvl3): Core core_[64.41, 57.66, 0.65] Fitness: 2.0705946362888157\n",
      "INFO [2020-05-06 17:54:22.145135] (bb): Selecting agent ka_br_lvl3 (TV: 3) to execute (TE: 1098)\n",
      "INFO [2020-05-06 17:54:23.829276] (ka_br_lvl3): Core core_[66.74, 54.73, 0.84] Fitness: 1.7490439155505304\n",
      "INFO [2020-05-06 17:54:25.153095] (bb): Selecting agent ka_rp_explore_2 (TV: 0.75) to execute (TE: 1099)\n",
      "INFO [2020-05-06 17:54:25.378342] (ka_br_lvl3): Core core_[66.74, 54.73, 0.84] Fitness: 1.7490439155505304\n",
      "INFO [2020-05-06 17:54:28.164125] (bb): Selecting agent ka_rp_explore_1 (TV: 0.75) to execute (TE: 1100)\n",
      "INFO [2020-05-06 17:54:28.401461] (ka_br_lvl3): Core core_[66.74, 54.73, 0.84] Fitness: 1.7490439155505304\n",
      "INFO [2020-05-06 17:54:31.179824] (bb): Selecting agent ka_br_lvl3 (TV: 3) to execute (TE: 1101)\n",
      "INFO [2020-05-06 17:54:33.922003] (ka_br_lvl3): Core core_[72.18, 60.9, 0.62] Fitness: 2.1962780656794685\n",
      "INFO [2020-05-06 17:54:34.197960] (bb): Selecting agent ka_rp_explore_2 (TV: 0.75) to execute (TE: 1102)\n",
      "INFO [2020-05-06 17:54:34.417240] (ka_br_lvl3): Core core_[72.18, 60.9, 0.62] Fitness: 2.1962780656794685\n"
     ]
    },
    {
     "name": "stdout",
     "output_type": "stream",
     "text": [
      "INFO [2020-05-06 17:54:37.215704] (bb): Selecting agent ka_rp_explore_1 (TV: 0.75) to execute (TE: 1103)\n",
      "INFO [2020-05-06 17:54:37.406570] (ka_br_lvl3): Core core_[72.18, 60.9, 0.62] Fitness: 2.1962780656794685\n",
      "INFO [2020-05-06 17:54:40.225308] (bb): Selecting agent ka_br_lvl3 (TV: 3) to execute (TE: 1104)\n",
      "INFO [2020-05-06 17:54:41.952289] (ka_br_lvl3): Core core_[68.41, 59.13, 0.47] Fitness: 2.5016024787889615\n",
      "INFO [2020-05-06 17:54:43.233575] (bb): Selecting agent ka_rp_explore_2 (TV: 0.75) to execute (TE: 1105)\n",
      "INFO [2020-05-06 17:54:43.464807] (ka_br_lvl3): Core core_[68.41, 59.13, 0.47] Fitness: 2.5016024787889615\n",
      "INFO [2020-05-06 17:54:46.248336] (bb): Selecting agent ka_br_lvl3 (TV: 3) to execute (TE: 1106)\n",
      "INFO [2020-05-06 17:54:47.934977] (ka_br_lvl3): Core core_[72.64, 63.12, 0.22] Fitness: 3.176914408301632\n",
      "INFO [2020-05-06 17:54:49.265033] (bb): Selecting agent ka_br_lvl3 (TV: 3) to execute (TE: 1107)\n",
      "INFO [2020-05-06 17:54:50.984260] (ka_br_lvl3): Core core_[78.54, 58.85, 0.68] Fitness: 2.1465899934225163\n",
      "INFO [2020-05-06 17:54:52.274174] (bb): Selecting agent ka_rp_explore_1 (TV: 1.25) to execute (TE: 1108)\n",
      "INFO [2020-05-06 17:54:52.482311] (ka_br_lvl3): Core core_[78.54, 58.85, 0.68] Fitness: 2.1465899934225163\n",
      "INFO [2020-05-06 17:54:55.286838] (bb): Selecting agent ka_br_lvl3 (TV: 3) to execute (TE: 1109)\n",
      "INFO [2020-05-06 17:54:56.971408] (ka_br_lvl3): Core core_[70.36, 69.48, 0.56] Fitness: 2.121766829057978\n",
      "INFO [2020-05-06 17:54:58.294883] (bb): Selecting agent ka_rp_explore_2 (TV: 1.25) to execute (TE: 1110)\n",
      "INFO [2020-05-06 17:54:58.497326] (ka_br_lvl3): Core core_[70.36, 69.48, 0.56] Fitness: 2.121766829057978\n",
      "INFO [2020-05-06 17:55:01.304312] (bb): Selecting agent ka_br_lvl2 (TV: 4) to execute (TE: 1111)\n",
      "INFO [2020-05-06 17:55:01.454244] (ka_br_lvl3): Core core_[70.36, 69.48, 0.56] Fitness: 2.121766829057978\n",
      "INFO [2020-05-06 17:55:04.311058] (bb): Selecting agent ka_rp_explore_1 (TV: 1.0) to execute (TE: 1112)\n",
      "INFO [2020-05-06 17:55:04.503908] (ka_br_lvl3): Core core_[70.36, 69.48, 0.56] Fitness: 2.121766829057978\n",
      "INFO [2020-05-06 17:55:07.320992] (bb): Selecting agent ka_rp_exploit (TV: 5) to execute (TE: 1113)\n",
      "INFO [2020-05-06 17:55:07.558250] (ka_br_lvl3): Core core_[70.36, 69.48, 0.56] Fitness: 2.121766829057978\n",
      "INFO [2020-05-06 17:55:10.386668] (bb): Selecting agent ka_rp_explore_2 (TV: 1.0) to execute (TE: 1114)\n",
      "INFO [2020-05-06 17:55:10.538067] (ka_br_lvl3): Core core_[70.36, 69.48, 0.56] Fitness: 2.121766829057978\n",
      "INFO [2020-05-06 17:55:13.404282] (bb): Selecting agent ka_rp_explore_1 (TV: 0.75) to execute (TE: 1115)\n",
      "INFO [2020-05-06 17:55:13.652141] (ka_br_lvl3): Core core_[70.36, 69.48, 0.56] Fitness: 2.121766829057978\n",
      "INFO [2020-05-06 17:55:16.413671] (bb): Selecting agent ka_rp_explore_2 (TV: 0.5) to execute (TE: 1116)\n",
      "INFO [2020-05-06 17:55:16.610081] (ka_br_lvl3): Core core_[70.36, 69.48, 0.56] Fitness: 2.121766829057978\n",
      "INFO [2020-05-06 17:55:19.428041] (bb): Selecting agent ka_br_lvl3 (TV: 3) to execute (TE: 1117)\n",
      "INFO [2020-05-06 17:55:22.177247] (ka_br_lvl3): Core core_[76.6, 53.38, 0.61] Fitness: 2.414961787649446\n",
      "INFO [2020-05-06 17:55:22.435860] (bb): Selecting agent ka_br_lvl3 (TV: 3) to execute (TE: 1118)\n",
      "INFO [2020-05-06 17:55:25.241024] (ka_br_lvl3): Core core_[55.54, 66.57, 0.94] Fitness: 1.3034166104443194\n",
      "INFO [2020-05-06 17:55:25.450601] (bb): Selecting agent ka_rp_explore_1 (TV: 1.0) to execute (TE: 1119)\n",
      "INFO [2020-05-06 17:55:25.601694] (ka_br_lvl3): Core core_[55.54, 66.57, 0.94] Fitness: 1.3034166104443194\n",
      "INFO [2020-05-06 17:55:28.456966] (bb): Selecting agent ka_br_lvl2 (TV: 4) to execute (TE: 1120)\n",
      "INFO [2020-05-06 17:55:28.601500] (ka_br_lvl3): Core core_[55.54, 66.57, 0.94] Fitness: 1.3034166104443194\n",
      "INFO [2020-05-06 17:55:31.463611] (bb): Selecting agent ka_br_lvl3 (TV: 3) to execute (TE: 1121)\n",
      "INFO [2020-05-06 17:55:33.138330] (ka_br_lvl3): Core core_[63.46, 55.44, 0.83] Fitness: 1.6683036158187303\n",
      "INFO [2020-05-06 17:55:34.479747] (bb): Selecting agent ka_rp_exploit (TV: 5) to execute (TE: 1122)\n",
      "INFO [2020-05-06 17:55:34.807454] (ka_br_lvl3): Core core_[63.46, 55.44, 0.83] Fitness: 1.6683036158187303\n",
      "INFO [2020-05-06 17:55:37.546002] (bb): Selecting agent ka_rp_explore_2 (TV: 1.75) to execute (TE: 1123)\n",
      "INFO [2020-05-06 17:55:37.656096] (ka_br_lvl3): Core core_[63.46, 55.44, 0.83] Fitness: 1.6683036158187303\n",
      "INFO [2020-05-06 17:55:40.557703] (bb): Selecting agent ka_br_lvl3 (TV: 3) to execute (TE: 1124)\n",
      "INFO [2020-05-06 17:55:43.566579] (bb): Selecting agent ka_rp_explore_1 (TV: 1.5) to execute (TE: 1125)\n",
      "INFO [2020-05-06 17:55:43.852032] (ka_br_lvl3): Core core_[71.18, 58.97, 0.8] Fitness: 1.8624800366263414\n",
      "INFO [2020-05-06 17:55:43.994894] (ka_br_lvl3): Core core_[71.18, 58.97, 0.8] Fitness: 1.8624800366263414\n",
      "INFO [2020-05-06 17:55:46.578883] (bb): Selecting agent ka_br_lvl2 (TV: 4) to execute (TE: 1126)\n",
      "INFO [2020-05-06 17:55:46.734837] (ka_br_lvl3): Core core_[71.18, 58.97, 0.8] Fitness: 1.8624800366263414\n",
      "INFO [2020-05-06 17:55:49.595214] (bb): Selecting agent ka_br_lvl3 (TV: 3) to execute (TE: 1127)\n",
      "INFO [2020-05-06 17:55:52.610548] (bb): Selecting agent ka_rp_exploit (TV: 5) to execute (TE: 1128)\n",
      "INFO [2020-05-06 17:55:55.678973] (bb): Selecting agent ka_rp_explore_2 (TV: 1.5) to execute (TE: 1129)\n",
      "INFO [2020-05-06 17:55:56.606928] (ka_br_lvl3): Core core_[65.28, 55.47, 0.97] Fitness: 1.4823719674071225\n",
      "INFO [2020-05-06 17:55:56.701000] (ka_br_lvl3): Core core_[65.28, 55.47, 0.97] Fitness: 1.4823719674071225\n",
      "INFO [2020-05-06 17:55:56.793042] (ka_br_lvl3): Core core_[65.28, 55.47, 0.97] Fitness: 1.4823719674071225\n",
      "INFO [2020-05-06 17:55:58.696785] (bb): Selecting agent ka_br_lvl3 (TV: 3) to execute (TE: 1130)\n",
      "INFO [2020-05-06 17:55:58.699372] (bb): Writing blackboard to archive\n",
      "INFO [2020-05-06 17:56:04.707094] (bb): Finished writing to archive\n",
      "INFO [2020-05-06 17:56:07.720737] (bb): Selecting agent ka_rp_explore_1 (TV: 1.5) to execute (TE: 1131)\n",
      "INFO [2020-05-06 17:56:08.922296] (ka_br_lvl3): Core core_[77.7546, 58.85, 0.68] Fitness: 2.1460681264328625\n",
      "INFO [2020-05-06 17:56:09.022949] (ka_br_lvl3): Core core_[77.7546, 58.85, 0.68] Fitness: 2.1460681264328625\n",
      "INFO [2020-05-06 17:56:10.729134] (bb): Selecting agent ka_br_lvl3 (TV: 3) to execute (TE: 1132)\n",
      "INFO [2020-05-06 17:56:12.910672] (ka_br_lvl3): Core core_[79.3254, 58.85, 0.68] Fitness: 2.1410357525622548\n",
      "INFO [2020-05-06 17:56:13.737527] (bb): Selecting agent ka_br_lvl3 (TV: 3) to execute (TE: 1133)\n",
      "INFO [2020-05-06 17:56:15.424627] (ka_br_lvl3): Core core_[78.54, 58.2615, 0.68] Fitness: 2.1647450709631806\n",
      "INFO [2020-05-06 17:56:16.746011] (bb): Selecting agent ka_br_lvl2 (TV: 4) to execute (TE: 1134)\n",
      "INFO [2020-05-06 17:56:16.903029] (ka_br_lvl3): Core core_[78.54, 58.2615, 0.68] Fitness: 2.1647450709631806\n",
      "INFO [2020-05-06 17:56:19.756503] (bb): Selecting agent ka_br_lvl3 (TV: 3) to execute (TE: 1135)\n",
      "INFO [2020-05-06 17:56:21.438178] (ka_br_lvl3): Core core_[78.54, 59.4385, 0.68] Fitness: 2.1248753954018325\n",
      "INFO [2020-05-06 17:56:22.766861] (bb): Selecting agent ka_rp_exploit (TV: 5) to execute (TE: 1136)\n",
      "INFO [2020-05-06 17:56:23.051532] (ka_br_lvl3): Core core_[78.54, 59.4385, 0.68] Fitness: 2.1248753954018325\n",
      "INFO [2020-05-06 17:56:25.834540] (bb): Selecting agent ka_br_lvl3 (TV: 3) to execute (TE: 1137)\n",
      "INFO [2020-05-06 17:56:28.845653] (bb): Selecting agent ka_rp_explore_2 (TV: 2.25) to execute (TE: 1138)\n",
      "INFO [2020-05-06 17:56:30.171593] (ka_br_lvl3): Core core_[78.54, 58.85, 0.6732] Fitness: 2.16267061644518\n",
      "INFO [2020-05-06 17:56:30.277970] (ka_br_lvl3): Core core_[78.54, 58.85, 0.6732] Fitness: 2.16267061644518\n",
      "INFO [2020-05-06 17:56:31.854888] (bb): Selecting agent ka_br_lvl3 (TV: 3) to execute (TE: 1139)\n",
      "INFO [2020-05-06 17:56:33.540004] (ka_br_lvl3): Core core_[78.54, 58.85, 0.6868] Fitness: 2.1305093703998526\n",
      "INFO [2020-05-06 17:56:34.862466] (bb): Selecting agent ka_br_lvl3 (TV: 3) to execute (TE: 1140)\n",
      "INFO [2020-05-06 17:56:37.870922] (bb): Selecting agent ka_rp_explore_1 (TV: 2.5) to execute (TE: 1141)\n",
      "INFO [2020-05-06 17:56:38.722995] (ka_br_lvl3): Core core_[68.59, 62.17, 0.62] Fitness: 2.1775046401848606\n",
      "INFO [2020-05-06 17:56:38.832687] (ka_br_lvl3): Core core_[68.59, 62.17, 0.62] Fitness: 2.1775046401848606\n"
     ]
    },
    {
     "name": "stdout",
     "output_type": "stream",
     "text": [
      "INFO [2020-05-06 17:56:40.883217] (bb): Selecting agent ka_br_lvl3 (TV: 3) to execute (TE: 1142)\n",
      "INFO [2020-05-06 17:56:43.893328] (bb): Selecting agent ka_rp_explore_2 (TV: 1.25) to execute (TE: 1143)\n",
      "INFO [2020-05-06 17:56:44.185837] (ka_br_lvl3): Core core_[75.834, 53.38, 0.61] Fitness: 2.387813924481317\n",
      "INFO [2020-05-06 17:56:44.344919] (ka_br_lvl3): Core core_[75.834, 53.38, 0.61] Fitness: 2.387813924481317\n",
      "INFO [2020-05-06 17:56:46.904639] (bb): Selecting agent ka_br_lvl3 (TV: 3) to execute (TE: 1144)\n",
      "INFO [2020-05-06 17:56:48.597217] (ka_br_lvl3): Core core_[77.366, 53.38, 0.61] Fitness: 2.4150069159689282\n",
      "INFO [2020-05-06 17:56:49.918320] (bb): Selecting agent ka_br_lvl3 (TV: 3) to execute (TE: 1145)\n",
      "INFO [2020-05-06 17:56:51.609803] (ka_br_lvl3): Core core_[76.6, 52.8462, 0.61] Fitness: 2.405922795669398\n",
      "INFO [2020-05-06 17:56:52.929411] (bb): Selecting agent ka_rp_explore_1 (TV: 1.25) to execute (TE: 1146)\n",
      "INFO [2020-05-06 17:56:53.186180] (ka_br_lvl3): Core core_[76.6, 52.8462, 0.61] Fitness: 2.405922795669398\n",
      "INFO [2020-05-06 17:56:55.940558] (bb): Selecting agent ka_br_lvl3 (TV: 3) to execute (TE: 1147)\n",
      "INFO [2020-05-06 17:56:57.630370] (ka_br_lvl3): Core core_[76.6, 53.9138, 0.61] Fitness: 2.405334043483066\n",
      "INFO [2020-05-06 17:56:58.950020] (bb): Selecting agent ka_br_lvl3 (TV: 3) to execute (TE: 1148)\n",
      "INFO [2020-05-06 17:57:00.639468] (ka_br_lvl3): Core core_[76.6, 53.38, 0.6039] Fitness: 2.427864498307137\n",
      "INFO [2020-05-06 17:57:01.957410] (bb): Selecting agent ka_br_lvl3 (TV: 3) to execute (TE: 1149)\n",
      "INFO [2020-05-06 17:57:03.697144] (ka_br_lvl3): Core core_[76.6, 53.38, 0.6161] Fitness: 2.4020590769917547\n",
      "INFO [2020-05-06 17:57:04.966784] (bb): Selecting agent ka_br_lvl3 (TV: 3) to execute (TE: 1150)\n",
      "INFO [2020-05-06 17:57:07.976078] (bb): Selecting agent ka_rp_explore_2 (TV: 2.0) to execute (TE: 1151)\n",
      "INFO [2020-05-06 17:57:10.884273] (ka_br_lvl3): Core core_[62.8254, 55.44, 0.83] Fitness: 1.6369488788559368\n",
      "INFO [2020-05-06 17:57:10.982734] (ka_br_lvl3): Core core_[62.8254, 55.44, 0.83] Fitness: 1.6369488788559368\n",
      "INFO [2020-05-06 17:57:10.986477] (bb): Selecting agent ka_br_lvl3 (TV: 3) to execute (TE: 1152)\n",
      "INFO [2020-05-06 17:57:13.995807] (bb): Selecting agent ka_rp_explore_1 (TV: 1.75) to execute (TE: 1153)\n",
      "INFO [2020-05-06 17:57:14.273164] (ka_br_lvl3): Core core_[64.0946, 55.44, 0.83] Fitness: 1.7087196670940226\n",
      "INFO [2020-05-06 17:57:14.442683] (ka_br_lvl3): Core core_[64.0946, 55.44, 0.83] Fitness: 1.7087196670940226\n",
      "INFO [2020-05-06 17:57:17.008692] (bb): Selecting agent ka_br_lvl3 (TV: 3) to execute (TE: 1154)\n",
      "INFO [2020-05-06 17:57:18.695447] (ka_br_lvl3): Core core_[63.46, 54.8856, 0.83] Fitness: 1.6483535674055267\n",
      "INFO [2020-05-06 17:57:20.023877] (bb): Selecting agent ka_rp_explore_2 (TV: 1.0) to execute (TE: 1155)\n",
      "INFO [2020-05-06 17:57:20.329985] (ka_br_lvl3): Core core_[63.46, 54.8856, 0.83] Fitness: 1.6483535674055267\n",
      "INFO [2020-05-06 17:57:23.033334] (bb): Selecting agent ka_br_lvl3 (TV: 3) to execute (TE: 1156)\n",
      "INFO [2020-05-06 17:57:24.720387] (ka_br_lvl3): Core core_[63.46, 55.9944, 0.83] Fitness: 1.6882536642319328\n",
      "INFO [2020-05-06 17:57:26.042407] (bb): Selecting agent ka_rp_explore_1 (TV: 1.0) to execute (TE: 1157)\n",
      "INFO [2020-05-06 17:57:26.308391] (ka_br_lvl3): Core core_[63.46, 55.9944, 0.83] Fitness: 1.6882536642319328\n",
      "INFO [2020-05-06 17:57:29.050769] (bb): Selecting agent ka_rp_explore_2 (TV: 0.75) to execute (TE: 1158)\n",
      "INFO [2020-05-06 17:57:29.261233] (ka_br_lvl3): Core core_[63.46, 55.9944, 0.83] Fitness: 1.6882536642319328\n",
      "INFO [2020-05-06 17:57:32.058517] (bb): Selecting agent ka_rp_explore_1 (TV: 0.5) to execute (TE: 1159)\n",
      "INFO [2020-05-06 17:57:32.324995] (ka_br_lvl3): Core core_[63.46, 55.9944, 0.83] Fitness: 1.6882536642319328\n",
      "INFO [2020-05-06 17:57:35.066100] (bb): Selecting agent ka_br_lvl3 (TV: 3) to execute (TE: 1160)\n",
      "INFO [2020-05-06 17:57:36.748519] (ka_br_lvl3): Core core_[63.46, 55.44, 0.8217] Fitness: 1.683901967973591\n",
      "INFO [2020-05-06 17:57:38.074642] (bb): Selecting agent ka_rp_explore_2 (TV: 0.75) to execute (TE: 1161)\n",
      "INFO [2020-05-06 17:57:38.343265] (ka_br_lvl3): Core core_[63.46, 55.44, 0.8217] Fitness: 1.683901967973591\n",
      "INFO [2020-05-06 17:57:41.082300] (bb): Selecting agent ka_br_lvl3 (TV: 3) to execute (TE: 1162)\n",
      "INFO [2020-05-06 17:57:42.815862] (ka_br_lvl3): Core core_[63.46, 55.44, 0.8383] Fitness: 1.6539861267774798\n",
      "INFO [2020-05-06 17:57:44.090088] (bb): Selecting agent ka_br_lvl3 (TV: 3) to execute (TE: 1163)\n",
      "INFO [2020-05-06 17:57:46.851458] (ka_br_lvl3): Core core_[76.9771, 58.85, 0.68] Fitness: 2.1455515086782704\n",
      "INFO [2020-05-06 17:57:47.100891] (bb): Selecting agent ka_rp_explore_1 (TV: 1.25) to execute (TE: 1164)\n",
      "INFO [2020-05-06 17:57:47.271685] (ka_br_lvl3): Core core_[76.9771, 58.85, 0.68] Fitness: 2.1455515086782704\n",
      "INFO [2020-05-06 17:57:50.108730] (bb): Selecting agent ka_br_lvl3 (TV: 3) to execute (TE: 1165)\n",
      "INFO [2020-05-06 17:57:51.853179] (ka_br_lvl3): Core core_[78.5321, 58.85, 0.68] Fitness: 2.1465847441874533\n",
      "INFO [2020-05-06 17:57:53.116637] (bb): Selecting agent ka_rp_explore_2 (TV: 1.25) to execute (TE: 1166)\n",
      "INFO [2020-05-06 17:57:53.373856] (ka_br_lvl3): Core core_[78.5321, 58.85, 0.68] Fitness: 2.1465847441874533\n",
      "INFO [2020-05-06 17:57:56.129699] (bb): Selecting agent ka_br_lvl3 (TV: 3) to execute (TE: 1167)\n",
      "INFO [2020-05-06 17:57:57.815123] (ka_br_lvl3): Core core_[77.7546, 58.2615, 0.68] Fitness: 2.167782724453547\n",
      "INFO [2020-05-06 17:57:59.140381] (bb): Selecting agent ka_br_lvl3 (TV: 3) to execute (TE: 1168)\n",
      "INFO [2020-05-06 17:58:00.819036] (ka_br_lvl3): Core core_[77.7546, 59.4385, 0.68] Fitness: 2.124353528412178\n",
      "INFO [2020-05-06 17:58:02.151057] (bb): Selecting agent ka_br_lvl3 (TV: 3) to execute (TE: 1169)\n",
      "INFO [2020-05-06 17:58:03.830438] (ka_br_lvl3): Core core_[77.7546, 58.85, 0.6732] Fitness: 2.1621487494555263\n",
      "INFO [2020-05-06 17:58:05.161351] (bb): Selecting agent ka_br_lvl3 (TV: 3) to execute (TE: 1170)\n",
      "INFO [2020-05-06 17:58:06.897710] (ka_br_lvl3): Core core_[77.7546, 58.85, 0.6868] Fitness: 2.1299875034101987\n",
      "INFO [2020-05-06 17:58:08.172053] (bb): Selecting agent ka_br_lvl3 (TV: 3) to execute (TE: 1171)\n",
      "INFO [2020-05-06 17:58:10.921349] (ka_br_lvl3): Core core_[69.68, 62.72, 0.33] Fitness: 2.848817740302646\n",
      "INFO [2020-05-06 17:58:11.184053] (bb): Selecting agent ka_rp_explore_1 (TV: 2.0) to execute (TE: 1172)\n",
      "INFO [2020-05-06 17:58:11.360837] (ka_br_lvl3): Core core_[69.68, 62.72, 0.33] Fitness: 2.848817740302646\n",
      "INFO [2020-05-06 17:58:14.189600] (bb): Selecting agent ka_br_lvl3 (TV: 3) to execute (TE: 1173)\n",
      "INFO [2020-05-06 17:58:17.199370] (bb): Selecting agent ka_rp_explore_2 (TV: 2.0) to execute (TE: 1174)\n",
      "INFO [2020-05-06 17:58:20.207355] (bb): Selecting agent ka_rp_explore_1 (TV: 0.75) to execute (TE: 1175)\n",
      "INFO [2020-05-06 17:58:23.216905] (bb): Selecting agent ka_rp_explore_2 (TV: 0.5) to execute (TE: 1176)\n",
      "INFO [2020-05-06 17:58:23.350110] (ka_br_lvl3): Core core_[67.03, 61.02, 0.6] Fitness: 2.210065603229891\n",
      "INFO [2020-05-06 17:58:23.468361] (ka_br_lvl3): Core core_[67.03, 61.02, 0.6] Fitness: 2.210065603229891\n",
      "INFO [2020-05-06 17:58:23.587107] (ka_br_lvl3): Core core_[67.03, 61.02, 0.6] Fitness: 2.210065603229891\n",
      "INFO [2020-05-06 17:58:23.753937] (ka_br_lvl3): Core core_[67.03, 61.02, 0.6] Fitness: 2.210065603229891\n",
      "INFO [2020-05-06 17:58:26.227095] (bb): Selecting agent ka_rp_explore_1 (TV: 0.5) to execute (TE: 1177)\n",
      "INFO [2020-05-06 17:58:26.460573] (ka_br_lvl3): Core core_[67.03, 61.02, 0.6] Fitness: 2.210065603229891\n",
      "INFO [2020-05-06 17:58:29.235271] (bb): Selecting agent ka_br_lvl3 (TV: 3) to execute (TE: 1178)\n",
      "INFO [2020-05-06 17:58:30.932988] (ka_br_lvl3): Core core_[60.52, 60.72, 0.87] Fitness: 1.5657305121460765\n",
      "INFO [2020-05-06 17:58:32.247217] (bb): Selecting agent ka_rp_explore_2 (TV: 0.75) to execute (TE: 1179)\n",
      "INFO [2020-05-06 17:58:32.575593] (ka_br_lvl3): Core core_[60.52, 60.72, 0.87] Fitness: 1.5657305121460765\n",
      "INFO [2020-05-06 17:58:35.255502] (bb): Selecting agent ka_br_lvl3 (TV: 3) to execute (TE: 1180)\n",
      "INFO [2020-05-06 17:58:36.988361] (ka_br_lvl3): Core core_[76.51, 60.17, 0.67] Fitness: 2.1220363900156656\n",
      "INFO [2020-05-06 17:58:38.266783] (bb): Selecting agent ka_rp_explore_1 (TV: 1.0) to execute (TE: 1181)\n"
     ]
    },
    {
     "name": "stdout",
     "output_type": "stream",
     "text": [
      "INFO [2020-05-06 17:58:38.543282] (ka_br_lvl3): Core core_[76.51, 60.17, 0.67] Fitness: 2.1220363900156656\n",
      "INFO [2020-05-06 17:58:41.275228] (bb): Selecting agent ka_br_lvl3 (TV: 3) to execute (TE: 1182)\n",
      "INFO [2020-05-06 17:58:42.976777] (ka_br_lvl3): Core core_[53.81, 68.56, 0.95] Fitness: 1.2821048359355363\n",
      "INFO [2020-05-06 17:58:44.283453] (bb): Selecting agent ka_br_lvl3 (TV: 3) to execute (TE: 1183)\n",
      "INFO [2020-05-06 17:58:47.048876] (ka_br_lvl3): Core core_[66.67, 59.82, 0.81] Fitness: 1.769805584869514\n",
      "INFO [2020-05-06 17:58:47.293640] (bb): Selecting agent ka_br_lvl3 (TV: 3) to execute (TE: 1184)\n",
      "INFO [2020-05-06 17:58:50.301353] (bb): Selecting agent ka_rp_explore_2 (TV: 1.5) to execute (TE: 1185)\n",
      "INFO [2020-05-06 17:58:53.312970] (bb): Selecting agent ka_rp_explore_1 (TV: 1.25) to execute (TE: 1186)\n",
      "INFO [2020-05-06 17:58:55.275866] (ka_br_lvl3): Core core_[65.83, 65.0, 0.47] Fitness: 2.462163088491733\n",
      "INFO [2020-05-06 17:58:55.381782] (ka_br_lvl3): Core core_[65.83, 65.0, 0.47] Fitness: 2.462163088491733\n",
      "INFO [2020-05-06 17:58:55.487971] (ka_br_lvl3): Core core_[65.83, 65.0, 0.47] Fitness: 2.462163088491733\n",
      "INFO [2020-05-06 17:58:56.321311] (bb): Selecting agent ka_rp_explore_1 (TV: 0.25) to execute (TE: 1187)\n",
      "INFO [2020-05-06 17:58:56.540561] (ka_br_lvl3): Core core_[65.83, 65.0, 0.47] Fitness: 2.462163088491733\n",
      "INFO [2020-05-06 17:58:59.332898] (bb): Selecting agent ka_rp_explore_2 (TV: 0.75) to execute (TE: 1188)\n",
      "INFO [2020-05-06 17:58:59.556477] (ka_br_lvl3): Core core_[65.83, 65.0, 0.47] Fitness: 2.462163088491733\n",
      "INFO [2020-05-06 17:59:02.344431] (bb): Selecting agent ka_rp_explore_1 (TV: 0.5) to execute (TE: 1189)\n",
      "INFO [2020-05-06 17:59:02.623053] (ka_br_lvl3): Core core_[65.83, 65.0, 0.47] Fitness: 2.462163088491733\n",
      "INFO [2020-05-06 17:59:05.357119] (bb): Selecting agent ka_rp_explore_2 (TV: 0.5) to execute (TE: 1190)\n",
      "INFO [2020-05-06 17:59:05.580215] (ka_br_lvl3): Core core_[65.83, 65.0, 0.47] Fitness: 2.462163088491733\n",
      "INFO [2020-05-06 17:59:08.368316] (bb): Selecting agent ka_rp_explore_1 (TV: 0.5) to execute (TE: 1191)\n",
      "INFO [2020-05-06 17:59:08.589982] (ka_br_lvl3): Core core_[65.83, 65.0, 0.47] Fitness: 2.462163088491733\n",
      "INFO [2020-05-06 17:59:11.379137] (bb): Selecting agent ka_rp_explore_2 (TV: 0.5) to execute (TE: 1192)\n",
      "INFO [2020-05-06 17:59:11.599187] (ka_br_lvl3): Core core_[65.83, 65.0, 0.47] Fitness: 2.462163088491733\n",
      "INFO [2020-05-06 17:59:14.390447] (bb): Selecting agent ka_br_lvl3 (TV: 3) to execute (TE: 1193)\n",
      "INFO [2020-05-06 17:59:16.093137] (ka_br_lvl3): Core core_[75.22, 55.03, 0.56] Fitness: 2.4906702761357433\n",
      "INFO [2020-05-06 17:59:17.403636] (bb): Selecting agent ka_rp_explore_1 (TV: 0.75) to execute (TE: 1194)\n",
      "INFO [2020-05-06 17:59:17.693132] (ka_br_lvl3): Core core_[75.22, 55.03, 0.56] Fitness: 2.4906702761357433\n",
      "INFO [2020-05-06 17:59:20.412157] (bb): Selecting agent ka_rp_explore_2 (TV: 0.75) to execute (TE: 1195)\n",
      "INFO [2020-05-06 17:59:20.645565] (ka_br_lvl3): Core core_[75.22, 55.03, 0.56] Fitness: 2.4906702761357433\n",
      "INFO [2020-05-06 17:59:23.421657] (bb): Selecting agent ka_rp_explore_1 (TV: 0.5) to execute (TE: 1196)\n",
      "INFO [2020-05-06 17:59:23.702543] (ka_br_lvl3): Core core_[75.22, 55.03, 0.56] Fitness: 2.4906702761357433\n",
      "INFO [2020-05-06 17:59:26.434061] (bb): Selecting agent ka_rp_explore_2 (TV: 0.5) to execute (TE: 1197)\n",
      "INFO [2020-05-06 17:59:26.658335] (ka_br_lvl3): Core core_[75.22, 55.03, 0.56] Fitness: 2.4906702761357433\n",
      "INFO [2020-05-06 17:59:29.442850] (bb): Selecting agent ka_br_lvl3 (TV: 3) to execute (TE: 1198)\n",
      "INFO [2020-05-06 17:59:32.206132] (ka_br_lvl3): Core core_[75.5, 52.94, 0.77] Fitness: 2.0299113464148073\n",
      "INFO [2020-05-06 17:59:32.450879] (bb): Selecting agent ka_rp_explore_1 (TV: 0.75) to execute (TE: 1199)\n",
      "INFO [2020-05-06 17:59:32.714666] (ka_br_lvl3): Core core_[75.5, 52.94, 0.77] Fitness: 2.0299113464148073\n",
      "INFO [2020-05-06 17:59:35.459049] (bb): Selecting agent ka_br_lvl3 (TV: 3) to execute (TE: 1200)\n",
      "INFO [2020-05-06 17:59:38.466949] (bb): Selecting agent ka_rp_explore_2 (TV: 1.0) to execute (TE: 1201)\n",
      "INFO [2020-05-06 17:59:41.396694] (ka_br_lvl3): Core core_[52.84, 68.51, 0.96] Fitness: 1.2535285710454662\n",
      "INFO [2020-05-06 17:59:41.504600] (bb): Selecting agent ka_rp_explore_1 (TV: 0.75) to execute (TE: 1202)\n",
      "INFO [2020-05-06 17:59:41.505235] (ka_br_lvl3): Core core_[52.84, 68.51, 0.96] Fitness: 1.2535285710454662\n",
      "INFO [2020-05-06 17:59:41.717082] (ka_br_lvl3): Core core_[52.84, 68.51, 0.96] Fitness: 1.2535285710454662\n",
      "INFO [2020-05-06 17:59:44.517722] (bb): Selecting agent ka_br_lvl3 (TV: 3) to execute (TE: 1203)\n",
      "INFO [2020-05-06 17:59:47.530092] (bb): Selecting agent ka_rp_explore_2 (TV: 0.75) to execute (TE: 1204)\n",
      "INFO [2020-05-06 17:59:50.452220] (ka_br_lvl3): Core core_[76.25, 55.23, 0.5] Fitness: 2.61278633495047\n",
      "INFO [2020-05-06 17:59:50.562971] (bb): Selecting agent ka_rp_explore_1 (TV: 0.75) to execute (TE: 1205)\n",
      "INFO [2020-05-06 17:59:50.563381] (ka_br_lvl3): Core core_[76.25, 55.23, 0.5] Fitness: 2.61278633495047\n",
      "INFO [2020-05-06 17:59:50.774614] (ka_br_lvl3): Core core_[76.25, 55.23, 0.5] Fitness: 2.61278633495047\n",
      "INFO [2020-05-06 17:59:53.572376] (bb): Selecting agent ka_rp_explore_2 (TV: 0.5) to execute (TE: 1206)\n",
      "INFO [2020-05-06 17:59:53.842635] (ka_br_lvl3): Core core_[76.25, 55.23, 0.5] Fitness: 2.61278633495047\n",
      "INFO [2020-05-06 17:59:56.579284] (bb): Selecting agent ka_rp_explore_1 (TV: 0.5) to execute (TE: 1207)\n",
      "INFO [2020-05-06 17:59:56.797586] (ka_br_lvl3): Core core_[76.25, 55.23, 0.5] Fitness: 2.61278633495047\n",
      "INFO [2020-05-06 17:59:59.585363] (bb): Selecting agent ka_rp_explore_2 (TV: 0.5) to execute (TE: 1208)\n",
      "INFO [2020-05-06 17:59:59.815500] (ka_br_lvl3): Core core_[76.25, 55.23, 0.5] Fitness: 2.61278633495047\n",
      "INFO [2020-05-06 18:00:02.595568] (bb): Selecting agent ka_rp_explore_1 (TV: 0.5) to execute (TE: 1209)\n",
      "INFO [2020-05-06 18:00:02.817637] (ka_br_lvl3): Core core_[76.25, 55.23, 0.5] Fitness: 2.61278633495047\n",
      "INFO [2020-05-06 18:00:05.603875] (bb): Selecting agent ka_br_lvl3 (TV: 3) to execute (TE: 1210)\n",
      "INFO [2020-05-06 18:00:08.377170] (ka_br_lvl3): Core core_[72.66, 56.88, 0.66] Fitness: 2.2080344768714646\n",
      "INFO [2020-05-06 18:00:08.611675] (bb): Selecting agent ka_br_lvl3 (TV: 3) to execute (TE: 1211)\n",
      "INFO [2020-05-06 18:00:10.306899] (ka_br_lvl3): Core core_[76.76, 51.22, 0.78] Fitness: 2.052954623347553\n",
      "INFO [2020-05-06 18:00:11.619337] (bb): Selecting agent ka_rp_explore_2 (TV: 1.0) to execute (TE: 1212)\n",
      "INFO [2020-05-06 18:00:11.887878] (ka_br_lvl3): Core core_[76.76, 51.22, 0.78] Fitness: 2.052954623347553\n",
      "INFO [2020-05-06 18:00:14.630994] (bb): Selecting agent ka_rp_explore_1 (TV: 1.0) to execute (TE: 1213)\n",
      "INFO [2020-05-06 18:00:14.851748] (ka_br_lvl3): Core core_[76.76, 51.22, 0.78] Fitness: 2.052954623347553\n",
      "INFO [2020-05-06 18:00:17.639962] (bb): Selecting agent ka_rp_explore_2 (TV: 0.5) to execute (TE: 1214)\n",
      "INFO [2020-05-06 18:00:17.860741] (ka_br_lvl3): Core core_[76.76, 51.22, 0.78] Fitness: 2.052954623347553\n",
      "INFO [2020-05-06 18:00:20.651104] (bb): Selecting agent ka_rp_explore_1 (TV: 0.5) to execute (TE: 1215)\n",
      "INFO [2020-05-06 18:00:20.875944] (ka_br_lvl3): Core core_[76.76, 51.22, 0.78] Fitness: 2.052954623347553\n",
      "INFO [2020-05-06 18:00:23.665202] (bb): Selecting agent ka_rp_explore_2 (TV: 0.5) to execute (TE: 1216)\n",
      "INFO [2020-05-06 18:00:23.886616] (ka_br_lvl3): Core core_[76.76, 51.22, 0.78] Fitness: 2.052954623347553\n",
      "INFO [2020-05-06 18:00:26.675194] (bb): Selecting agent ka_br_lvl3 (TV: 3) to execute (TE: 1217)\n",
      "INFO [2020-05-06 18:00:28.376528] (ka_br_lvl3): Core core_[78.89, 60.62, 0.65] Fitness: 2.1592143373923762\n",
      "INFO [2020-05-06 18:00:29.686703] (bb): Selecting agent ka_rp_explore_1 (TV: 0.75) to execute (TE: 1218)\n",
      "INFO [2020-05-06 18:00:29.959781] (ka_br_lvl3): Core core_[78.89, 60.62, 0.65] Fitness: 2.1592143373923762\n",
      "INFO [2020-05-06 18:00:32.698365] (bb): Selecting agent ka_rp_explore_2 (TV: 0.75) to execute (TE: 1219)\n",
      "INFO [2020-05-06 18:00:32.922122] (ka_br_lvl3): Core core_[78.89, 60.62, 0.65] Fitness: 2.1592143373923762\n",
      "INFO [2020-05-06 18:00:35.708448] (bb): Selecting agent ka_br_lvl3 (TV: 3) to execute (TE: 1220)\n",
      "INFO [2020-05-06 18:00:37.408445] (ka_br_lvl3): Core core_[72.88, 69.53, 0.34] Fitness: 2.6706435832623754\n"
     ]
    },
    {
     "name": "stdout",
     "output_type": "stream",
     "text": [
      "INFO [2020-05-06 18:00:38.716102] (bb): Selecting agent ka_br_lvl3 (TV: 3) to execute (TE: 1221)\n",
      "INFO [2020-05-06 18:00:41.488223] (ka_br_lvl3): Core core_[78.52, 57.75, 0.95] Fitness: 1.5708315967728288\n",
      "INFO [2020-05-06 18:00:41.727660] (bb): Selecting agent ka_br_lvl3 (TV: 3) to execute (TE: 1222)\n",
      "INFO [2020-05-06 18:00:44.738436] (bb): Selecting agent ka_rp_explore_1 (TV: 1.25) to execute (TE: 1223)\n",
      "INFO [2020-05-06 18:00:45.502003] (ka_br_lvl3): Core core_[73.76, 64.27, 0.69] Fitness: 1.9616110422195718\n",
      "INFO [2020-05-06 18:00:45.613168] (ka_br_lvl3): Core core_[73.76, 64.27, 0.69] Fitness: 1.9616110422195718\n",
      "INFO [2020-05-06 18:00:47.751244] (bb): Selecting agent ka_rp_explore_2 (TV: 1.25) to execute (TE: 1224)\n",
      "INFO [2020-05-06 18:00:47.975555] (ka_br_lvl3): Core core_[73.76, 64.27, 0.69] Fitness: 1.9616110422195718\n",
      "INFO [2020-05-06 18:00:50.765194] (bb): Selecting agent ka_rp_explore_1 (TV: 0.5) to execute (TE: 1225)\n",
      "INFO [2020-05-06 18:00:50.989118] (ka_br_lvl3): Core core_[73.76, 64.27, 0.69] Fitness: 1.9616110422195718\n",
      "INFO [2020-05-06 18:00:53.775042] (bb): Selecting agent ka_rp_explore_2 (TV: 0.5) to execute (TE: 1226)\n",
      "INFO [2020-05-06 18:00:54.059426] (ka_br_lvl3): Core core_[73.76, 64.27, 0.69] Fitness: 1.9616110422195718\n",
      "INFO [2020-05-06 18:00:56.784219] (bb): Selecting agent ka_rp_explore_1 (TV: 0.5) to execute (TE: 1227)\n",
      "INFO [2020-05-06 18:00:57.008588] (ka_br_lvl3): Core core_[73.76, 64.27, 0.69] Fitness: 1.9616110422195718\n",
      "INFO [2020-05-06 18:00:59.792197] (bb): Selecting agent ka_br_lvl3 (TV: 3) to execute (TE: 1228)\n",
      "INFO [2020-05-06 18:01:02.803220] (bb): Selecting agent ka_rp_explore_2 (TV: 0.75) to execute (TE: 1229)\n",
      "INFO [2020-05-06 18:01:05.815300] (bb): Selecting agent ka_rp_explore_1 (TV: 0.75) to execute (TE: 1230)\n",
      "INFO [2020-05-06 18:01:08.825518] (bb): Selecting agent ka_rp_explore_2 (TV: 0.5) to execute (TE: 1231)\n",
      "INFO [2020-05-06 18:01:11.834776] (bb): Selecting agent ka_rp_explore_1 (TV: 0.5) to execute (TE: 1232)\n",
      "INFO [2020-05-06 18:01:12.213653] (ka_br_lvl3): Core core_[57.77, 61.24, 0.68] Fitness: 1.8614504828384928\n",
      "INFO [2020-05-06 18:01:12.323298] (ka_br_lvl3): Core core_[57.77, 61.24, 0.68] Fitness: 1.8614504828384928\n",
      "INFO [2020-05-06 18:01:12.431810] (ka_br_lvl3): Core core_[57.77, 61.24, 0.68] Fitness: 1.8614504828384928\n",
      "INFO [2020-05-06 18:01:12.539963] (ka_br_lvl3): Core core_[57.77, 61.24, 0.68] Fitness: 1.8614504828384928\n",
      "INFO [2020-05-06 18:01:12.648889] (ka_br_lvl3): Core core_[57.77, 61.24, 0.68] Fitness: 1.8614504828384928\n",
      "INFO [2020-05-06 18:01:14.847502] (bb): Selecting agent ka_br_lvl3 (TV: 3) to execute (TE: 1233)\n",
      "INFO [2020-05-06 18:01:16.545695] (ka_br_lvl3): Core core_[75.76, 59.53, 0.84] Fitness: 1.7583421364513394\n",
      "INFO [2020-05-06 18:01:17.860814] (bb): Selecting agent ka_rp_explore_2 (TV: 0.75) to execute (TE: 1234)\n",
      "INFO [2020-05-06 18:01:18.128868] (ka_br_lvl3): Core core_[75.76, 59.53, 0.84] Fitness: 1.7583421364513394\n",
      "INFO [2020-05-06 18:01:20.868886] (bb): Selecting agent ka_br_lvl3 (TV: 3) to execute (TE: 1235)\n",
      "INFO [2020-05-06 18:01:23.876465] (bb): Selecting agent ka_rp_explore_1 (TV: 1.0) to execute (TE: 1236)\n",
      "INFO [2020-05-06 18:01:24.725971] (ka_br_lvl3): Core core_[68.63, 63.92, 0.52] Fitness: 2.3541778809147336\n",
      "INFO [2020-05-06 18:01:24.835603] (ka_br_lvl3): Core core_[68.63, 63.92, 0.52] Fitness: 2.3541778809147336\n",
      "INFO [2020-05-06 18:01:26.885073] (bb): Selecting agent ka_rp_explore_2 (TV: 0.75) to execute (TE: 1237)\n",
      "INFO [2020-05-06 18:01:27.114189] (ka_br_lvl3): Core core_[68.63, 63.92, 0.52] Fitness: 2.3541778809147336\n",
      "INFO [2020-05-06 18:01:29.897580] (bb): Selecting agent ka_rp_explore_1 (TV: 0.5) to execute (TE: 1238)\n",
      "INFO [2020-05-06 18:01:30.126920] (ka_br_lvl3): Core core_[68.63, 63.92, 0.52] Fitness: 2.3541778809147336\n",
      "INFO [2020-05-06 18:01:32.910167] (bb): Selecting agent ka_rp_explore_2 (TV: 0.5) to execute (TE: 1239)\n",
      "INFO [2020-05-06 18:01:33.193919] (ka_br_lvl3): Core core_[68.63, 63.92, 0.52] Fitness: 2.3541778809147336\n",
      "INFO [2020-05-06 18:01:35.920562] (bb): Selecting agent ka_rp_explore_1 (TV: 0.5) to execute (TE: 1240)\n",
      "INFO [2020-05-06 18:01:36.155659] (ka_br_lvl3): Core core_[68.63, 63.92, 0.52] Fitness: 2.3541778809147336\n",
      "INFO [2020-05-06 18:01:38.932016] (bb): Selecting agent ka_br_lvl3 (TV: 3) to execute (TE: 1241)\n",
      "INFO [2020-05-06 18:01:41.943935] (bb): Selecting agent ka_rp_explore_2 (TV: 0.75) to execute (TE: 1242)\n",
      "INFO [2020-05-06 18:01:44.954768] (bb): Selecting agent ka_rp_explore_1 (TV: 0.75) to execute (TE: 1243)\n",
      "INFO [2020-05-06 18:01:45.996693] (ka_br_lvl3): Core core_[76.24, 50.69, 0.93] Fitness: 1.7629157538549427\n",
      "INFO [2020-05-06 18:01:46.109613] (ka_br_lvl3): Core core_[76.24, 50.69, 0.93] Fitness: 1.7629157538549427\n",
      "INFO [2020-05-06 18:01:46.218041] (ka_br_lvl3): Core core_[76.24, 50.69, 0.93] Fitness: 1.7629157538549427\n",
      "INFO [2020-05-06 18:01:47.965699] (bb): Selecting agent ka_br_lvl3 (TV: 3) to execute (TE: 1244)\n",
      "INFO [2020-05-06 18:01:49.667361] (ka_br_lvl3): Core core_[79.49, 62.81, 0.41] Fitness: 2.6679890407801174\n",
      "INFO [2020-05-06 18:01:50.976707] (bb): Selecting agent ka_rp_explore_2 (TV: 0.75) to execute (TE: 1245)\n",
      "INFO [2020-05-06 18:01:51.309080] (ka_br_lvl3): Core core_[79.49, 62.81, 0.41] Fitness: 2.6679890407801174\n",
      "INFO [2020-05-06 18:01:53.987546] (bb): Selecting agent ka_br_lvl2 (TV: 4) to execute (TE: 1246)\n",
      "INFO [2020-05-06 18:01:54.165669] (ka_br_lvl3): Core core_[79.49, 62.81, 0.41] Fitness: 2.6679890407801174\n",
      "INFO [2020-05-06 18:01:56.999790] (bb): Selecting agent ka_rp_explore_1 (TV: 1.0) to execute (TE: 1247)\n",
      "INFO [2020-05-06 18:01:57.229534] (ka_br_lvl3): Core core_[79.49, 62.81, 0.41] Fitness: 2.6679890407801174\n",
      "INFO [2020-05-06 18:02:00.010486] (bb): Selecting agent ka_rp_exploit (TV: 5) to execute (TE: 1248)\n",
      "INFO [2020-05-06 18:02:00.296500] (ka_br_lvl3): Core core_[79.49, 62.81, 0.41] Fitness: 2.6679890407801174\n",
      "INFO [2020-05-06 18:02:03.084178] (bb): Selecting agent ka_br_lvl3 (TV: 3) to execute (TE: 1249)\n",
      "INFO [2020-05-06 18:02:06.092757] (bb): Selecting agent ka_rp_explore_2 (TV: 1.25) to execute (TE: 1250)\n",
      "INFO [2020-05-06 18:02:07.498568] (ka_br_lvl3): Core core_[67.93, 62.05, 0.96] Fitness: 1.4762738785862615\n",
      "INFO [2020-05-06 18:02:07.612979] (ka_br_lvl3): Core core_[67.93, 62.05, 0.96] Fitness: 1.4762738785862615\n",
      "INFO [2020-05-06 18:02:09.104446] (bb): Selecting agent ka_rp_explore_1 (TV: 1.0) to execute (TE: 1251)\n",
      "INFO [2020-05-06 18:02:09.331362] (ka_br_lvl3): Core core_[67.93, 62.05, 0.96] Fitness: 1.4762738785862615\n",
      "INFO [2020-05-06 18:02:12.115365] (bb): Selecting agent ka_br_lvl3 (TV: 3) to execute (TE: 1252)\n",
      "INFO [2020-05-06 18:02:15.122650] (bb): Selecting agent ka_rp_explore_2 (TV: 0.75) to execute (TE: 1253)\n",
      "INFO [2020-05-06 18:02:15.974583] (ka_br_lvl3): Core core_[68.63, 66.5, 0.27] Fitness: 2.8977800125672775\n",
      "INFO [2020-05-06 18:02:16.088964] (ka_br_lvl3): Core core_[68.63, 66.5, 0.27] Fitness: 2.8977800125672775\n",
      "INFO [2020-05-06 18:02:18.135402] (bb): Selecting agent ka_rp_explore_1 (TV: 0.75) to execute (TE: 1254)\n",
      "INFO [2020-05-06 18:02:18.365358] (ka_br_lvl3): Core core_[68.63, 66.5, 0.27] Fitness: 2.8977800125672775\n",
      "INFO [2020-05-06 18:02:21.145481] (bb): Selecting agent ka_br_lvl3 (TV: 3) to execute (TE: 1255)\n",
      "INFO [2020-05-06 18:02:23.926339] (ka_br_lvl3): Core core_[73.11, 58.32, 0.58] Fitness: 2.3607511155230605\n",
      "INFO [2020-05-06 18:02:24.156024] (bb): Selecting agent ka_br_lvl3 (TV: 3) to execute (TE: 1256)\n",
      "INFO [2020-05-06 18:02:27.168311] (bb): Selecting agent ka_rp_explore_2 (TV: 1.0) to execute (TE: 1257)\n",
      "INFO [2020-05-06 18:02:30.087258] (ka_br_lvl3): Core core_[75.11, 65.94, 0.55] Fitness: 2.240968331608066\n",
      "INFO [2020-05-06 18:02:30.200579] (bb): Selecting agent ka_rp_explore_1 (TV: 1.0) to execute (TE: 1258)\n",
      "INFO [2020-05-06 18:02:30.202285] (ka_br_lvl3): Core core_[75.11, 65.94, 0.55] Fitness: 2.240968331608066\n",
      "INFO [2020-05-06 18:02:30.372765] (ka_br_lvl3): Core core_[75.11, 65.94, 0.55] Fitness: 2.240968331608066\n",
      "INFO [2020-05-06 18:02:33.211548] (bb): Selecting agent ka_rp_explore_2 (TV: 0.5) to execute (TE: 1259)\n",
      "INFO [2020-05-06 18:02:33.444501] (ka_br_lvl3): Core core_[75.11, 65.94, 0.55] Fitness: 2.240968331608066\n",
      "INFO [2020-05-06 18:02:36.224093] (bb): Selecting agent ka_rp_explore_1 (TV: 0.5) to execute (TE: 1260)\n"
     ]
    },
    {
     "name": "stdout",
     "output_type": "stream",
     "text": [
      "INFO [2020-05-06 18:02:36.457102] (ka_br_lvl3): Core core_[75.11, 65.94, 0.55] Fitness: 2.240968331608066\n",
      "INFO [2020-05-06 18:02:39.235090] (bb): Selecting agent ka_rp_explore_2 (TV: 0.5) to execute (TE: 1261)\n",
      "INFO [2020-05-06 18:02:39.520075] (ka_br_lvl3): Core core_[75.11, 65.94, 0.55] Fitness: 2.240968331608066\n",
      "INFO [2020-05-06 18:02:42.247559] (bb): Selecting agent ka_br_lvl3 (TV: 3) to execute (TE: 1262)\n",
      "INFO [2020-05-06 18:02:43.947663] (ka_br_lvl3): Core core_[75.4776, 50.69, 0.93] Fitness: 1.749084665095536\n",
      "INFO [2020-05-06 18:02:45.258883] (bb): Selecting agent ka_rp_explore_1 (TV: 0.75) to execute (TE: 1263)\n",
      "INFO [2020-05-06 18:02:45.543495] (ka_br_lvl3): Core core_[75.4776, 50.69, 0.93] Fitness: 1.749084665095536\n",
      "INFO [2020-05-06 18:02:48.267463] (bb): Selecting agent ka_rp_explore_2 (TV: 0.75) to execute (TE: 1264)\n",
      "INFO [2020-05-06 18:02:48.554209] (ka_br_lvl3): Core core_[75.4776, 50.69, 0.93] Fitness: 1.749084665095536\n",
      "INFO [2020-05-06 18:02:51.279758] (bb): Selecting agent ka_rp_explore_1 (TV: 0.5) to execute (TE: 1265)\n",
      "INFO [2020-05-06 18:02:51.510955] (ka_br_lvl3): Core core_[75.4776, 50.69, 0.93] Fitness: 1.749084665095536\n",
      "INFO [2020-05-06 18:02:54.287889] (bb): Selecting agent ka_br_lvl3 (TV: 3) to execute (TE: 1266)\n",
      "INFO [2020-05-06 18:02:55.996855] (ka_br_lvl3): Core core_[77.0024, 50.69, 0.93] Fitness: 1.7767468426143485\n",
      "INFO [2020-05-06 18:02:57.299469] (bb): Selecting agent ka_rp_explore_2 (TV: 0.75) to execute (TE: 1267)\n",
      "INFO [2020-05-06 18:02:57.588727] (ka_br_lvl3): Core core_[77.0024, 50.69, 0.93] Fitness: 1.7767468426143485\n",
      "INFO [2020-05-06 18:03:00.307318] (bb): Selecting agent ka_br_lvl3 (TV: 3) to execute (TE: 1268)\n",
      "INFO [2020-05-06 18:03:02.009553] (ka_br_lvl3): Core core_[76.24, 50.1831, 0.93] Fitness: 1.7653929216984445\n",
      "INFO [2020-05-06 18:03:03.317668] (bb): Selecting agent ka_br_lvl3 (TV: 3) to execute (TE: 1269)\n",
      "INFO [2020-05-06 18:03:05.023478] (ka_br_lvl3): Core core_[76.24, 51.1969, 0.93] Fitness: 1.7604385860114407\n",
      "INFO [2020-05-06 18:03:06.328225] (bb): Selecting agent ka_br_lvl3 (TV: 3) to execute (TE: 1270)\n",
      "INFO [2020-05-06 18:03:08.081261] (ka_br_lvl3): Core core_[76.24, 50.69, 0.9207] Fitness: 1.7808060208566345\n",
      "INFO [2020-05-06 18:03:09.339442] (bb): Selecting agent ka_br_lvl3 (TV: 3) to execute (TE: 1271)\n",
      "INFO [2020-05-06 18:03:11.046283] (ka_br_lvl3): Core core_[76.24, 50.69, 0.9393] Fitness: 1.7450254868532515\n",
      "INFO [2020-05-06 18:03:12.351802] (bb): Selecting agent ka_br_lvl3 (TV: 3) to execute (TE: 1272)\n",
      "INFO [2020-05-06 18:03:14.118373] (ka_br_lvl3): Core core_[65.6, 54.1, 0.87] Fitness: 1.6680282254413588\n",
      "INFO [2020-05-06 18:03:15.361761] (bb): Selecting agent ka_br_lvl2 (TV: 4) to execute (TE: 1273)\n",
      "INFO [2020-05-06 18:03:15.541205] (ka_br_lvl3): Core core_[65.6, 54.1, 0.87] Fitness: 1.6680282254413588\n",
      "INFO [2020-05-06 18:03:18.370171] (bb): Selecting agent ka_br_lvl2 (TV: 4) to execute (TE: 1274)\n",
      "INFO [2020-05-06 18:03:18.548525] (ka_br_lvl3): Core core_[65.6, 54.1, 0.87] Fitness: 1.6680282254413588\n",
      "INFO [2020-05-06 18:03:21.380974] (bb): Selecting agent ka_rp_exploit (TV: 5) to execute (TE: 1275)\n",
      "INFO [2020-05-06 18:03:21.721400] (ka_br_lvl3): Core core_[65.6, 54.1, 0.87] Fitness: 1.6680282254413588\n",
      "INFO [2020-05-06 18:03:24.458092] (bb): Selecting agent ka_rp_explore_1 (TV: 2.75) to execute (TE: 1276)\n",
      "INFO [2020-05-06 18:03:24.642257] (ka_br_lvl3): Core core_[65.6, 54.1, 0.87] Fitness: 1.6680282254413588\n",
      "INFO [2020-05-06 18:03:27.469701] (bb): Selecting agent ka_rp_exploit (TV: 5) to execute (TE: 1277)\n",
      "INFO [2020-05-06 18:03:27.763005] (ka_br_lvl3): Core core_[65.6, 54.1, 0.87] Fitness: 1.6680282254413588\n",
      "INFO [2020-05-06 18:03:30.546259] (bb): Selecting agent ka_br_lvl3 (TV: 3) to execute (TE: 1278)\n",
      "INFO [2020-05-06 18:03:33.555124] (bb): Selecting agent ka_rp_explore_2 (TV: 3.0) to execute (TE: 1279)\n",
      "INFO [2020-05-06 18:03:36.562289] (bb): Selecting agent ka_br_lvl2 (TV: 4) to execute (TE: 1280)\n",
      "INFO [2020-05-06 18:03:36.564517] (bb): Writing blackboard to archive\n",
      "INFO [2020-05-06 18:03:42.568383] (bb): Finished writing to archive\n",
      "INFO [2020-05-06 18:03:45.577189] (bb): Selecting agent ka_rp_explore_1 (TV: 1.25) to execute (TE: 1281)\n",
      "INFO [2020-05-06 18:03:45.755042] (ka_br_lvl3): Core core_[66.91, 66.9, 0.76] Fitness: 1.7693944029614048\n",
      "INFO [2020-05-06 18:03:45.868818] (ka_br_lvl3): Core core_[66.91, 66.9, 0.76] Fitness: 1.7693944029614048\n",
      "INFO [2020-05-06 18:03:45.982810] (ka_br_lvl3): Core core_[66.91, 66.9, 0.76] Fitness: 1.7693944029614048\n",
      "INFO [2020-05-06 18:03:46.139064] (ka_br_lvl3): Core core_[66.91, 66.9, 0.76] Fitness: 1.7693944029614048\n",
      "INFO [2020-05-06 18:03:48.584060] (bb): Selecting agent ka_rp_exploit (TV: 5) to execute (TE: 1282)\n",
      "INFO [2020-05-06 18:03:48.872029] (ka_br_lvl3): Core core_[66.91, 66.9, 0.76] Fitness: 1.7693944029614048\n",
      "INFO [2020-05-06 18:03:51.655615] (bb): Selecting agent ka_br_lvl3 (TV: 3) to execute (TE: 1283)\n",
      "INFO [2020-05-06 18:03:54.667352] (bb): Selecting agent ka_rp_explore_2 (TV: 1.25) to execute (TE: 1284)\n",
      "INFO [2020-05-06 18:03:57.678893] (bb): Selecting agent ka_rp_explore_1 (TV: 1.0) to execute (TE: 1285)\n",
      "INFO [2020-05-06 18:03:58.237043] (ka_br_lvl3): Core core_[79.06, 59.79, 0.28] Fitness: 3.12371744243578\n",
      "INFO [2020-05-06 18:03:58.351899] (ka_br_lvl3): Core core_[79.06, 59.79, 0.28] Fitness: 3.12371744243578\n",
      "INFO [2020-05-06 18:03:58.466421] (ka_br_lvl3): Core core_[79.06, 59.79, 0.28] Fitness: 3.12371744243578\n",
      "INFO [2020-05-06 18:04:00.687070] (bb): Selecting agent ka_br_lvl3 (TV: 3) to execute (TE: 1286)\n",
      "INFO [2020-05-06 18:04:02.395543] (ka_br_lvl3): Core core_[70.92, 63.16, 0.47] Fitness: 2.502813370113611\n",
      "INFO [2020-05-06 18:04:03.701048] (bb): Selecting agent ka_br_lvl3 (TV: 3) to execute (TE: 1287)\n",
      "INFO [2020-05-06 18:04:06.712785] (bb): Selecting agent ka_rp_explore_2 (TV: 1.0) to execute (TE: 1288)\n",
      "INFO [2020-05-06 18:04:08.631014] (ka_br_lvl3): Core core_[65.63, 66.42, 0.64] Fitness: 2.052099869086882\n",
      "INFO [2020-05-06 18:04:08.746574] (ka_br_lvl3): Core core_[65.63, 66.42, 0.64] Fitness: 2.052099869086882\n",
      "INFO [2020-05-06 18:04:09.722421] (bb): Selecting agent ka_br_lvl3 (TV: 3) to execute (TE: 1289)\n",
      "INFO [2020-05-06 18:04:12.434881] (ka_br_lvl3): Core core_[75.4776, 50.69, 0.9393] Fitness: 1.7311943980938447\n",
      "INFO [2020-05-06 18:04:12.734081] (bb): Selecting agent ka_br_lvl3 (TV: 3) to execute (TE: 1290)\n",
      "INFO [2020-05-06 18:04:14.443634] (ka_br_lvl3): Core core_[77.0024, 50.69, 0.9393] Fitness: 1.758856575612657\n",
      "INFO [2020-05-06 18:04:15.742018] (bb): Selecting agent ka_br_lvl3 (TV: 3) to execute (TE: 1291)\n",
      "INFO [2020-05-06 18:04:17.453004] (ka_br_lvl3): Core core_[76.24, 50.1831, 0.9393] Fitness: 1.7475026546967531\n",
      "INFO [2020-05-06 18:04:18.753309] (bb): Selecting agent ka_br_lvl2 (TV: 4) to execute (TE: 1292)\n",
      "INFO [2020-05-06 18:04:18.935849] (ka_br_lvl3): Core core_[76.24, 50.1831, 0.9393] Fitness: 1.7475026546967531\n",
      "INFO [2020-05-06 18:04:21.765475] (bb): Selecting agent ka_br_lvl3 (TV: 3) to execute (TE: 1293)\n",
      "INFO [2020-05-06 18:04:23.480485] (ka_br_lvl3): Core core_[76.24, 51.1969, 0.9393] Fitness: 1.742548319009749\n",
      "INFO [2020-05-06 18:04:24.774268] (bb): Selecting agent ka_rp_exploit (TV: 5) to execute (TE: 1294)\n",
      "INFO [2020-05-06 18:04:25.110559] (ka_br_lvl3): Core core_[76.24, 51.1969, 0.9393] Fitness: 1.742548319009749\n",
      "INFO [2020-05-06 18:04:27.852116] (bb): Selecting agent ka_rp_explore_1 (TV: 2.5) to execute (TE: 1295)\n",
      "INFO [2020-05-06 18:04:28.028192] (ka_br_lvl3): Core core_[76.24, 51.1969, 0.9393] Fitness: 1.742548319009749\n",
      "INFO [2020-05-06 18:04:30.868123] (bb): Selecting agent ka_br_lvl3 (TV: 3) to execute (TE: 1296)\n",
      "INFO [2020-05-06 18:04:33.100399] (ka_br_lvl3): Core core_[76.24, 50.69, 0.9299] Fitness: 1.7631081223173268\n",
      "INFO [2020-05-06 18:04:33.875690] (bb): Selecting agent ka_br_lvl3 (TV: 3) to execute (TE: 1297)\n",
      "INFO [2020-05-06 18:04:35.597686] (ka_br_lvl3): Core core_[76.24, 50.69, 0.9487] Fitness: 1.7269428513891767\n",
      "INFO [2020-05-06 18:04:36.885319] (bb): Selecting agent ka_br_lvl3 (TV: 3) to execute (TE: 1298)\n",
      "INFO [2020-05-06 18:04:38.600729] (ka_br_lvl3): Core core_[58.22, 65.68, 0.75] Fitness: 1.7395448603156731\n",
      "INFO [2020-05-06 18:04:39.902416] (bb): Selecting agent ka_br_lvl3 (TV: 3) to execute (TE: 1299)\n"
     ]
    },
    {
     "name": "stdout",
     "output_type": "stream",
     "text": [
      "INFO [2020-05-06 18:04:41.630423] (ka_br_lvl3): Core core_[75.4776, 50.69, 0.9207] Fitness: 1.7669749320972277\n",
      "INFO [2020-05-06 18:04:42.920421] (bb): Selecting agent ka_br_lvl2 (TV: 4) to execute (TE: 1300)\n",
      "INFO [2020-05-06 18:04:43.160766] (ka_br_lvl3): Core core_[75.4776, 50.69, 0.9207] Fitness: 1.7669749320972277\n",
      "INFO [2020-05-06 18:04:45.935369] (bb): Selecting agent ka_rp_explore_2 (TV: 3.25) to execute (TE: 1301)\n",
      "INFO [2020-05-06 18:04:46.176832] (ka_br_lvl3): Core core_[75.4776, 50.69, 0.9207] Fitness: 1.7669749320972277\n",
      "INFO [2020-05-06 18:04:48.952009] (bb): Selecting agent ka_rp_exploit (TV: 5) to execute (TE: 1302)\n",
      "INFO [2020-05-06 18:04:49.248748] (ka_br_lvl3): Core core_[75.4776, 50.69, 0.9207] Fitness: 1.7669749320972277\n",
      "INFO [2020-05-06 18:04:52.031852] (bb): Selecting agent ka_br_lvl3 (TV: 3) to execute (TE: 1303)\n",
      "INFO [2020-05-06 18:04:55.040768] (bb): Selecting agent ka_rp_explore_1 (TV: 2.25) to execute (TE: 1304)\n",
      "INFO [2020-05-06 18:04:55.416024] (ka_br_lvl3): Core core_[77.0024, 50.69, 0.9207] Fitness: 1.7946371096160398\n",
      "INFO [2020-05-06 18:04:55.602808] (ka_br_lvl3): Core core_[77.0024, 50.69, 0.9207] Fitness: 1.7946371096160398\n",
      "INFO [2020-05-06 18:04:58.055387] (bb): Selecting agent ka_br_lvl3 (TV: 3) to execute (TE: 1305)\n",
      "INFO [2020-05-06 18:04:59.769778] (ka_br_lvl3): Core core_[76.24, 50.1831, 0.9207] Fitness: 1.7832831887001361\n",
      "INFO [2020-05-06 18:05:01.069306] (bb): Selecting agent ka_br_lvl3 (TV: 3) to execute (TE: 1306)\n",
      "INFO [2020-05-06 18:05:02.780845] (ka_br_lvl3): Core core_[76.24, 51.1969, 0.9207] Fitness: 1.7783288530131323\n",
      "INFO [2020-05-06 18:05:04.079629] (bb): Selecting agent ka_br_lvl3 (TV: 3) to execute (TE: 1307)\n",
      "INFO [2020-05-06 18:05:05.802900] (ka_br_lvl3): Core core_[76.24, 50.69, 0.9115] Fitness: 1.7985039193959413\n",
      "INFO [2020-05-06 18:05:07.086021] (bb): Selecting agent ka_br_lvl2 (TV: 4) to execute (TE: 1308)\n",
      "INFO [2020-05-06 18:05:07.315531] (ka_br_lvl3): Core core_[76.24, 50.69, 0.9115] Fitness: 1.7985039193959413\n",
      "INFO [2020-05-06 18:05:10.100628] (bb): Selecting agent ka_br_lvl3 (TV: 3) to execute (TE: 1309)\n",
      "INFO [2020-05-06 18:05:12.890065] (ka_br_lvl3): Core core_[68.55, 57.77, 0.88] Fitness: 1.6781470479964489\n",
      "INFO [2020-05-06 18:05:13.114193] (bb): Selecting agent ka_rp_exploit (TV: 5) to execute (TE: 1310)\n",
      "INFO [2020-05-06 18:05:13.533499] (ka_br_lvl3): Core core_[68.55, 57.77, 0.88] Fitness: 1.6781470479964489\n",
      "INFO [2020-05-06 18:05:16.190053] (bb): Selecting agent ka_br_lvl3 (TV: 3) to execute (TE: 1311)\n",
      "INFO [2020-05-06 18:05:19.201279] (bb): Selecting agent ka_rp_explore_2 (TV: 2.75) to execute (TE: 1312)\n",
      "INFO [2020-05-06 18:05:20.538662] (ka_br_lvl3): Core core_[64.944, 54.1, 0.87] Fitness: 1.631383113902589\n",
      "INFO [2020-05-06 18:05:20.657130] (ka_br_lvl3): Core core_[64.944, 54.1, 0.87] Fitness: 1.631383113902589\n",
      "INFO [2020-05-06 18:05:22.216971] (bb): Selecting agent ka_br_lvl3 (TV: 3) to execute (TE: 1313)\n",
      "INFO [2020-05-06 18:05:23.941231] (ka_br_lvl3): Core core_[66.256, 54.1, 0.87] Fitness: 1.6906606034252918\n",
      "INFO [2020-05-06 18:05:25.231159] (bb): Selecting agent ka_br_lvl3 (TV: 3) to execute (TE: 1314)\n",
      "INFO [2020-05-06 18:05:26.959749] (ka_br_lvl3): Core core_[65.6, 53.559, 0.87] Fitness: 1.6471297098886222\n",
      "INFO [2020-05-06 18:05:28.245420] (bb): Selecting agent ka_br_lvl3 (TV: 3) to execute (TE: 1315)\n",
      "INFO [2020-05-06 18:05:30.013879] (ka_br_lvl3): Core core_[65.6, 54.641, 0.87] Fitness: 1.6794405927168032\n",
      "INFO [2020-05-06 18:05:31.255365] (bb): Selecting agent ka_rp_explore_1 (TV: 3.0) to execute (TE: 1316)\n",
      "INFO [2020-05-06 18:05:31.528164] (ka_br_lvl3): Core core_[65.6, 54.641, 0.87] Fitness: 1.6794405927168032\n",
      "INFO [2020-05-06 18:05:34.270832] (bb): Selecting agent ka_br_lvl3 (TV: 3) to execute (TE: 1317)\n",
      "INFO [2020-05-06 18:05:35.994231] (ka_br_lvl3): Core core_[65.6, 54.1, 0.8613] Fitness: 1.683889746683772\n",
      "INFO [2020-05-06 18:05:37.286675] (bb): Selecting agent ka_br_lvl3 (TV: 3) to execute (TE: 1318)\n",
      "INFO [2020-05-06 18:05:39.013747] (ka_br_lvl3): Core core_[65.6, 54.1, 0.8787] Fitness: 1.652166704198946\n",
      "INFO [2020-05-06 18:05:40.302358] (bb): Selecting agent ka_br_lvl3 (TV: 3) to execute (TE: 1319)\n",
      "INFO [2020-05-06 18:05:43.319004] (bb): Selecting agent ka_rp_explore_2 (TV: 2.0) to execute (TE: 1320)\n",
      "INFO [2020-05-06 18:05:43.321216] (bb): Writing blackboard to archive\n",
      "INFO [2020-05-06 18:05:49.328307] (bb): Finished writing to archive\n",
      "INFO [2020-05-06 18:05:52.342314] (bb): Selecting agent ka_rp_explore_1 (TV: 1.25) to execute (TE: 1321)\n",
      "INFO [2020-05-06 18:05:52.497029] (ka_br_lvl3): Core core_[74.7228, 50.69, 0.9393] Fitness: 1.7175011848257449\n",
      "INFO [2020-05-06 18:05:52.618647] (ka_br_lvl3): Core core_[74.7228, 50.69, 0.9393] Fitness: 1.7175011848257449\n",
      "INFO [2020-05-06 18:05:52.735559] (ka_br_lvl3): Core core_[74.7228, 50.69, 0.9393] Fitness: 1.7175011848257449\n",
      "INFO [2020-05-06 18:05:55.355585] (bb): Selecting agent ka_br_lvl3 (TV: 3) to execute (TE: 1322)\n",
      "INFO [2020-05-06 18:05:57.071594] (ka_br_lvl3): Core core_[76.2324, 50.69, 0.9393] Fitness: 1.7448876113619456\n",
      "INFO [2020-05-06 18:05:58.364424] (bb): Selecting agent ka_br_lvl3 (TV: 3) to execute (TE: 1323)\n",
      "INFO [2020-05-06 18:06:00.078363] (ka_br_lvl3): Core core_[75.4776, 50.1831, 0.9393] Fitness: 1.7336715659373465\n",
      "INFO [2020-05-06 18:06:01.372977] (bb): Selecting agent ka_br_lvl3 (TV: 3) to execute (TE: 1324)\n",
      "INFO [2020-05-06 18:06:03.086273] (ka_br_lvl3): Core core_[75.4776, 51.1969, 0.9393] Fitness: 1.7287172302503437\n",
      "INFO [2020-05-06 18:06:04.384824] (bb): Selecting agent ka_br_lvl3 (TV: 3) to execute (TE: 1325)\n",
      "INFO [2020-05-06 18:06:06.103016] (ka_br_lvl3): Core core_[75.4776, 50.69, 0.9299] Fitness: 1.74927703355792\n",
      "INFO [2020-05-06 18:06:07.394987] (bb): Selecting agent ka_br_lvl3 (TV: 3) to execute (TE: 1326)\n",
      "INFO [2020-05-06 18:06:09.109146] (ka_br_lvl3): Core core_[75.4776, 50.69, 0.9487] Fitness: 1.7131117626297694\n",
      "INFO [2020-05-06 18:06:10.403892] (bb): Selecting agent ka_br_lvl3 (TV: 3) to execute (TE: 1327)\n",
      "INFO [2020-05-06 18:06:13.415278] (bb): Selecting agent ka_rp_explore_2 (TV: 2.0) to execute (TE: 1328)\n",
      "INFO [2020-05-06 18:06:14.282394] (ka_br_lvl3): Core core_[77.0024, 50.69, 0.9487] Fitness: 1.7407739401485824\n",
      "INFO [2020-05-06 18:06:14.399230] (ka_br_lvl3): Core core_[77.0024, 50.69, 0.9487] Fitness: 1.7407739401485824\n",
      "INFO [2020-05-06 18:06:16.428092] (bb): Selecting agent ka_br_lvl3 (TV: 3) to execute (TE: 1329)\n",
      "INFO [2020-05-06 18:06:19.204598] (ka_br_lvl3): Core core_[76.24, 50.1831, 0.9487] Fitness: 1.729420019232678\n",
      "INFO [2020-05-06 18:06:19.441127] (bb): Selecting agent ka_br_lvl3 (TV: 3) to execute (TE: 1330)\n",
      "INFO [2020-05-06 18:06:21.153745] (ka_br_lvl3): Core core_[76.24, 51.1969, 0.9487] Fitness: 1.7244656835456742\n",
      "INFO [2020-05-06 18:06:22.452937] (bb): Selecting agent ka_br_lvl3 (TV: 3) to execute (TE: 1331)\n",
      "INFO [2020-05-06 18:06:24.226040] (ka_br_lvl3): Core core_[76.24, 50.69, 0.9392] Fitness: 1.7452178553156354\n",
      "INFO [2020-05-06 18:06:25.460563] (bb): Selecting agent ka_br_lvl3 (TV: 3) to execute (TE: 1332)\n",
      "INFO [2020-05-06 18:06:27.174847] (ka_br_lvl3): Core core_[76.24, 50.69, 0.9582] Fitness: 1.708667847462717\n",
      "INFO [2020-05-06 18:06:28.468556] (bb): Selecting agent ka_rp_explore_1 (TV: 3.0) to execute (TE: 1333)\n",
      "INFO [2020-05-06 18:06:28.781599] (ka_br_lvl3): Core core_[76.24, 50.69, 0.9582] Fitness: 1.708667847462717\n",
      "INFO [2020-05-06 18:06:31.479431] (bb): Selecting agent ka_br_lvl2 (TV: 4) to execute (TE: 1334)\n",
      "INFO [2020-05-06 18:06:31.721852] (ka_br_lvl3): Core core_[76.24, 50.69, 0.9582] Fitness: 1.708667847462717\n",
      "INFO [2020-05-06 18:06:34.490699] (bb): Selecting agent ka_br_lvl3 (TV: 3) to execute (TE: 1335)\n",
      "INFO [2020-05-06 18:06:37.276090] (ka_br_lvl3): Core core_[75.4776, 50.1831, 0.9207] Fitness: 1.76945209994073\n",
      "INFO [2020-05-06 18:06:37.501861] (bb): Selecting agent ka_rp_exploit (TV: 5) to execute (TE: 1336)\n",
      "INFO [2020-05-06 18:06:37.860945] (ka_br_lvl3): Core core_[75.4776, 50.1831, 0.9207] Fitness: 1.76945209994073\n",
      "INFO [2020-05-06 18:06:40.582025] (bb): Selecting agent ka_rp_explore_2 (TV: 2.25) to execute (TE: 1337)\n",
      "INFO [2020-05-06 18:06:40.711352] (ka_br_lvl3): Core core_[75.4776, 50.1831, 0.9207] Fitness: 1.76945209994073\n",
      "INFO [2020-05-06 18:06:43.593497] (bb): Selecting agent ka_br_lvl3 (TV: 3) to execute (TE: 1338)\n"
     ]
    },
    {
     "name": "stdout",
     "output_type": "stream",
     "text": [
      "INFO [2020-05-06 18:06:45.818054] (ka_br_lvl3): Core core_[77.0024, 50.1831, 0.9207] Fitness: 1.7971142774595419\n",
      "INFO [2020-05-06 18:06:46.603541] (bb): Selecting agent ka_br_lvl3 (TV: 3) to execute (TE: 1339)\n",
      "INFO [2020-05-06 18:06:48.361264] (ka_br_lvl3): Core core_[76.24, 49.6813, 0.9207] Fitness: nan\n",
      "INFO [2020-05-06 18:06:49.615222] (bb): Selecting agent ka_br_lvl3 (TV: 3) to execute (TE: 1340)\n",
      "INFO [2020-05-06 18:06:51.330975] (ka_br_lvl3): Core core_[76.24, 50.6849, 0.9207] Fitness: 1.780830944028861\n",
      "INFO [2020-05-06 18:06:52.625739] (bb): Selecting agent ka_br_lvl3 (TV: 3) to execute (TE: 1341)\n",
      "INFO [2020-05-06 18:06:54.385171] (ka_br_lvl3): Core core_[76.24, 50.1831, 0.9115] Fitness: 1.800981087239444\n",
      "INFO [2020-05-06 18:06:55.638006] (bb): Selecting agent ka_rp_explore_1 (TV: 2.25) to execute (TE: 1342)\n",
      "INFO [2020-05-06 18:06:55.934552] (ka_br_lvl3): Core core_[76.24, 50.1831, 0.9115] Fitness: 1.800981087239444\n",
      "INFO [2020-05-06 18:06:58.651115] (bb): Selecting agent ka_br_lvl3 (TV: 3) to execute (TE: 1343)\n",
      "INFO [2020-05-06 18:07:00.366349] (ka_br_lvl3): Core core_[76.24, 50.1831, 0.9299] Fitness: 1.7655852901608287\n",
      "INFO [2020-05-06 18:07:01.659335] (bb): Selecting agent ka_br_lvl3 (TV: 3) to execute (TE: 1344)\n",
      "INFO [2020-05-06 18:07:03.380422] (ka_br_lvl3): Core core_[58.56, 58.76, 0.83] Fitness: 1.5480564796434308\n",
      "INFO [2020-05-06 18:07:04.671354] (bb): Selecting agent ka_br_lvl3 (TV: 3) to execute (TE: 1345)\n",
      "INFO [2020-05-06 18:07:06.387261] (ka_br_lvl3): Core core_[66.14, 60.6, 0.73] Fitness: 1.9114563080337625\n",
      "INFO [2020-05-06 18:07:07.679491] (bb): Selecting agent ka_br_lvl3 (TV: 3) to execute (TE: 1346)\n",
      "INFO [2020-05-06 18:07:10.687282] (bb): Selecting agent ka_rp_explore_2 (TV: 2.5) to execute (TE: 1347)\n",
      "INFO [2020-05-06 18:07:11.561886] (ka_br_lvl3): Core core_[79.05, 57.73, 0.59] Fitness: 2.371433773130594\n",
      "INFO [2020-05-06 18:07:11.681373] (ka_br_lvl3): Core core_[79.05, 57.73, 0.59] Fitness: 2.371433773130594\n",
      "INFO [2020-05-06 18:07:13.696925] (bb): Selecting agent ka_br_lvl3 (TV: 3) to execute (TE: 1348)\n",
      "INFO [2020-05-06 18:07:16.474155] (ka_br_lvl3): Core core_[74.65, 59.11, 0.34] Fitness: 2.917313122259099\n",
      "INFO [2020-05-06 18:07:16.708914] (bb): Selecting agent ka_rp_explore_1 (TV: 1.75) to execute (TE: 1349)\n",
      "INFO [2020-05-06 18:07:17.010501] (ka_br_lvl3): Core core_[74.65, 59.11, 0.34] Fitness: 2.917313122259099\n",
      "INFO [2020-05-06 18:07:19.721255] (bb): Selecting agent ka_br_lvl3 (TV: 3) to execute (TE: 1350)\n",
      "INFO [2020-05-06 18:07:21.434844] (ka_br_lvl3): Core core_[75.4776, 50.69, 0.9392] Fitness: 1.7313867665562284\n",
      "INFO [2020-05-06 18:07:22.731239] (bb): Selecting agent ka_rp_explore_2 (TV: 1.0) to execute (TE: 1351)\n",
      "INFO [2020-05-06 18:07:23.095408] (ka_br_lvl3): Core core_[75.4776, 50.69, 0.9392] Fitness: 1.7313867665562284\n",
      "INFO [2020-05-06 18:07:25.744908] (bb): Selecting agent ka_rp_explore_1 (TV: 0.75) to execute (TE: 1352)\n",
      "INFO [2020-05-06 18:07:25.990982] (ka_br_lvl3): Core core_[75.4776, 50.69, 0.9392] Fitness: 1.7313867665562284\n",
      "INFO [2020-05-06 18:07:28.757356] (bb): Selecting agent ka_rp_explore_2 (TV: 0.5) to execute (TE: 1353)\n",
      "INFO [2020-05-06 18:07:29.002428] (ka_br_lvl3): Core core_[75.4776, 50.69, 0.9392] Fitness: 1.7313867665562284\n",
      "INFO [2020-05-06 18:07:31.770086] (bb): Selecting agent ka_br_lvl3 (TV: 3) to execute (TE: 1354)\n",
      "INFO [2020-05-06 18:07:33.541210] (ka_br_lvl3): Core core_[77.0024, 50.69, 0.9392] Fitness: 1.7590489440750408\n",
      "INFO [2020-05-06 18:07:34.777778] (bb): Selecting agent ka_br_lvl3 (TV: 3) to execute (TE: 1355)\n",
      "INFO [2020-05-06 18:07:36.496966] (ka_br_lvl3): Core core_[76.24, 50.1831, 0.9392] Fitness: 1.7476950231591368\n",
      "INFO [2020-05-06 18:07:37.788593] (bb): Selecting agent ka_br_lvl3 (TV: 3) to execute (TE: 1356)\n",
      "INFO [2020-05-06 18:07:39.562603] (ka_br_lvl3): Core core_[76.24, 51.1969, 0.9392] Fitness: 1.7427406874721334\n",
      "INFO [2020-05-06 18:07:40.802080] (bb): Selecting agent ka_br_lvl2 (TV: 4) to execute (TE: 1357)\n",
      "INFO [2020-05-06 18:07:40.988635] (ka_br_lvl3): Core core_[76.24, 51.1969, 0.9392] Fitness: 1.7427406874721334\n",
      "INFO [2020-05-06 18:07:43.815924] (bb): Selecting agent ka_rp_explore_1 (TV: 1.5) to execute (TE: 1358)\n",
      "INFO [2020-05-06 18:07:44.064524] (ka_br_lvl3): Core core_[76.24, 51.1969, 0.9392] Fitness: 1.7427406874721334\n",
      "INFO [2020-05-06 18:07:46.825358] (bb): Selecting agent ka_rp_exploit (TV: 5) to execute (TE: 1359)\n",
      "INFO [2020-05-06 18:07:47.189738] (ka_br_lvl3): Core core_[76.24, 51.1969, 0.9392] Fitness: 1.7427406874721334\n",
      "INFO [2020-05-06 18:07:49.901848] (bb): Selecting agent ka_rp_explore_2 (TV: 1.75) to execute (TE: 1360)\n",
      "INFO [2020-05-06 18:07:50.090886] (ka_br_lvl3): Core core_[76.24, 51.1969, 0.9392] Fitness: 1.7427406874721334\n",
      "INFO [2020-05-06 18:07:52.909163] (bb): Selecting agent ka_rp_explore_1 (TV: 0.75) to execute (TE: 1361)\n",
      "INFO [2020-05-06 18:07:53.161824] (ka_br_lvl3): Core core_[76.24, 51.1969, 0.9392] Fitness: 1.7427406874721334\n",
      "INFO [2020-05-06 18:07:55.918129] (bb): Selecting agent ka_rp_explore_2 (TV: 0.5) to execute (TE: 1362)\n",
      "INFO [2020-05-06 18:07:56.167866] (ka_br_lvl3): Core core_[76.24, 51.1969, 0.9392] Fitness: 1.7427406874721334\n",
      "INFO [2020-05-06 18:07:58.926062] (bb): Selecting agent ka_br_lvl3 (TV: 3) to execute (TE: 1363)\n",
      "INFO [2020-05-06 18:08:00.646063] (ka_br_lvl3): Core core_[76.24, 50.69, 0.9298] Fitness: 1.7633004907797103\n",
      "INFO [2020-05-06 18:08:01.938437] (bb): Selecting agent ka_br_lvl3 (TV: 3) to execute (TE: 1364)\n",
      "INFO [2020-05-06 18:08:03.662366] (ka_br_lvl3): Core core_[76.24, 50.69, 0.9486] Fitness: 1.7271352198515604\n",
      "INFO [2020-05-06 18:08:04.950689] (bb): Selecting agent ka_br_lvl3 (TV: 3) to execute (TE: 1365)\n",
      "INFO [2020-05-06 18:08:07.960042] (bb): Selecting agent ka_rp_explore_1 (TV: 1.25) to execute (TE: 1366)\n",
      "INFO [2020-05-06 18:08:09.891952] (ka_br_lvl3): Core core_[62.36, 68.45, 0.66] Fitness: 1.9572463367539137\n",
      "INFO [2020-05-06 18:08:10.010635] (ka_br_lvl3): Core core_[62.36, 68.45, 0.66] Fitness: 1.9572463367539137\n",
      "INFO [2020-05-06 18:08:10.972731] (bb): Selecting agent ka_br_lvl3 (TV: 3) to execute (TE: 1367)\n",
      "INFO [2020-05-06 18:08:13.984257] (bb): Selecting agent ka_rp_explore_2 (TV: 1.5) to execute (TE: 1368)\n",
      "INFO [2020-05-06 18:08:16.996013] (bb): Selecting agent ka_br_lvl2 (TV: 4) to execute (TE: 1369)\n",
      "INFO [2020-05-06 18:08:20.008835] (bb): Selecting agent ka_rp_explore_1 (TV: 1.0) to execute (TE: 1370)\n",
      "INFO [2020-05-06 18:08:20.011761] (bb): Writing blackboard to archive\n",
      "INFO [2020-05-06 18:08:26.023252] (bb): Finished writing to archive\n",
      "INFO [2020-05-06 18:08:27.613909] (ka_br_lvl3): Core core_[76.2324, 50.69, 0.9392] Fitness: 1.7450799798243297\n",
      "INFO [2020-05-06 18:08:27.733905] (ka_br_lvl3): Core core_[76.2324, 50.69, 0.9392] Fitness: 1.7450799798243297\n",
      "INFO [2020-05-06 18:08:27.903625] (ka_br_lvl3): Core core_[76.2324, 50.69, 0.9392] Fitness: 1.7450799798243297\n",
      "INFO [2020-05-06 18:08:28.029201] (ka_br_lvl3): Core core_[76.2324, 50.69, 0.9392] Fitness: 1.7450799798243297\n",
      "INFO [2020-05-06 18:08:29.036215] (bb): Selecting agent ka_rp_exploit (TV: 5) to execute (TE: 1371)\n",
      "INFO [2020-05-06 18:08:29.344138] (ka_br_lvl3): Core core_[76.2324, 50.69, 0.9392] Fitness: 1.7450799798243297\n",
      "INFO [2020-05-06 18:08:32.116355] (bb): Selecting agent ka_rp_explore_2 (TV: 1.0) to execute (TE: 1372)\n",
      "INFO [2020-05-06 18:08:32.306649] (ka_br_lvl3): Core core_[76.2324, 50.69, 0.9392] Fitness: 1.7450799798243297\n",
      "INFO [2020-05-06 18:08:35.127077] (bb): Selecting agent ka_rp_explore_1 (TV: 0.75) to execute (TE: 1373)\n",
      "INFO [2020-05-06 18:08:35.428834] (ka_br_lvl3): Core core_[76.2324, 50.69, 0.9392] Fitness: 1.7450799798243297\n",
      "INFO [2020-05-06 18:08:38.139705] (bb): Selecting agent ka_br_lvl3 (TV: 3) to execute (TE: 1374)\n",
      "INFO [2020-05-06 18:08:39.856045] (ka_br_lvl3): Core core_[77.7724, 50.69, 0.9392] Fitness: 1.7730179083257525\n",
      "INFO [2020-05-06 18:08:41.152815] (bb): Selecting agent ka_br_lvl3 (TV: 3) to execute (TE: 1375)\n",
      "INFO [2020-05-06 18:08:42.870516] (ka_br_lvl3): Core core_[77.0024, 50.1831, 0.9392] Fitness: 1.7615261119185417\n",
      "INFO [2020-05-06 18:08:44.162785] (bb): Selecting agent ka_br_lvl3 (TV: 3) to execute (TE: 1376)\n",
      "INFO [2020-05-06 18:08:45.880358] (ka_br_lvl3): Core core_[77.0024, 51.1969, 0.9392] Fitness: 1.7565717762315387\n"
     ]
    },
    {
     "name": "stdout",
     "output_type": "stream",
     "text": [
      "INFO [2020-05-06 18:08:47.176065] (bb): Selecting agent ka_br_lvl3 (TV: 3) to execute (TE: 1377)\n",
      "INFO [2020-05-06 18:08:48.897130] (ka_br_lvl3): Core core_[77.0024, 50.69, 0.9298] Fitness: 1.7771315795391165\n",
      "INFO [2020-05-06 18:08:50.187959] (bb): Selecting agent ka_br_lvl3 (TV: 3) to execute (TE: 1378)\n",
      "INFO [2020-05-06 18:08:51.906419] (ka_br_lvl3): Core core_[77.0024, 50.69, 0.9486] Fitness: 1.740966308610966\n",
      "INFO [2020-05-06 18:08:53.196042] (bb): Selecting agent ka_br_lvl3 (TV: 3) to execute (TE: 1379)\n",
      "INFO [2020-05-06 18:08:54.916049] (ka_br_lvl3): Core core_[74.7, 64.3, 0.54] Fitness: 2.325009599957874\n",
      "INFO [2020-05-06 18:08:56.205813] (bb): Selecting agent ka_rp_explore_2 (TV: 2.0) to execute (TE: 1380)\n",
      "INFO [2020-05-06 18:08:56.539121] (ka_br_lvl3): Core core_[74.7, 64.3, 0.54] Fitness: 2.325009599957874\n",
      "INFO [2020-05-06 18:08:59.216201] (bb): Selecting agent ka_rp_explore_1 (TV: 2.0) to execute (TE: 1381)\n",
      "INFO [2020-05-06 18:08:59.466662] (ka_br_lvl3): Core core_[74.7, 64.3, 0.54] Fitness: 2.325009599957874\n",
      "INFO [2020-05-06 18:09:02.226366] (bb): Selecting agent ka_rp_explore_2 (TV: 0.5) to execute (TE: 1382)\n",
      "INFO [2020-05-06 18:09:02.478389] (ka_br_lvl3): Core core_[74.7, 64.3, 0.54] Fitness: 2.325009599957874\n",
      "INFO [2020-05-06 18:09:05.236986] (bb): Selecting agent ka_rp_explore_1 (TV: 0.5) to execute (TE: 1383)\n",
      "INFO [2020-05-06 18:09:05.548000] (ka_br_lvl3): Core core_[74.7, 64.3, 0.54] Fitness: 2.325009599957874\n",
      "INFO [2020-05-06 18:09:08.249974] (bb): Selecting agent ka_rp_explore_2 (TV: 0.5) to execute (TE: 1384)\n",
      "INFO [2020-05-06 18:09:08.502069] (ka_br_lvl3): Core core_[74.7, 64.3, 0.54] Fitness: 2.325009599957874\n",
      "INFO [2020-05-06 18:09:11.260774] (bb): Selecting agent ka_br_lvl3 (TV: 3) to execute (TE: 1385)\n",
      "INFO [2020-05-06 18:09:12.976283] (ka_br_lvl3): Core core_[63.11, 68.34, 0.46] Fitness: 2.4190266145720987\n",
      "INFO [2020-05-06 18:09:14.273723] (bb): Selecting agent ka_br_lvl3 (TV: 3) to execute (TE: 1386)\n",
      "INFO [2020-05-06 18:09:15.999658] (ka_br_lvl3): Core core_[77.7, 63.39, 0.59] Fitness: 2.2110063771487214\n",
      "INFO [2020-05-06 18:09:17.286202] (bb): Selecting agent ka_br_lvl3 (TV: 3) to execute (TE: 1387)\n",
      "INFO [2020-05-06 18:09:19.007101] (ka_br_lvl3): Core core_[70.4, 54.16, 0.7] Fitness: 2.028472483810568\n",
      "INFO [2020-05-06 18:09:20.295716] (bb): Selecting agent ka_br_lvl3 (TV: 3) to execute (TE: 1388)\n",
      "INFO [2020-05-06 18:09:23.303316] (bb): Selecting agent ka_rp_explore_1 (TV: 1.5) to execute (TE: 1389)\n",
      "INFO [2020-05-06 18:09:24.162643] (ka_br_lvl3): Core core_[61.7364, 68.45, 0.66] Fitness: 1.9590644278191442\n",
      "INFO [2020-05-06 18:09:24.282797] (ka_br_lvl3): Core core_[61.7364, 68.45, 0.66] Fitness: 1.9590644278191442\n",
      "INFO [2020-05-06 18:09:26.312019] (bb): Selecting agent ka_rp_explore_2 (TV: 1.5) to execute (TE: 1390)\n",
      "INFO [2020-05-06 18:09:26.314921] (bb): Writing blackboard to archive\n",
      "INFO [2020-05-06 18:09:32.331010] (bb): Finished writing to archive\n",
      "INFO [2020-05-06 18:09:32.527130] (ka_br_lvl3): Core core_[61.7364, 68.45, 0.66] Fitness: 1.9590644278191442\n",
      "INFO [2020-05-06 18:09:35.340827] (bb): Selecting agent ka_br_lvl3 (TV: 3) to execute (TE: 1391)\n",
      "INFO [2020-05-06 18:09:37.058923] (ka_br_lvl3): Core core_[62.9836, 68.45, 0.66] Fitness: 1.9554282456886827\n",
      "INFO [2020-05-06 18:09:38.352758] (bb): Selecting agent ka_rp_explore_1 (TV: 0.75) to execute (TE: 1392)\n",
      "INFO [2020-05-06 18:09:38.684976] (ka_br_lvl3): Core core_[62.9836, 68.45, 0.66] Fitness: 1.9554282456886827\n",
      "INFO [2020-05-06 18:09:41.361575] (bb): Selecting agent ka_br_lvl3 (TV: 3) to execute (TE: 1393)\n",
      "INFO [2020-05-06 18:09:43.133774] (ka_br_lvl3): Core core_[62.36, 67.7655, 0.66] Fitness: 1.9774107922992976\n",
      "INFO [2020-05-06 18:09:44.373860] (bb): Selecting agent ka_rp_explore_2 (TV: 1.0) to execute (TE: 1394)\n",
      "INFO [2020-05-06 18:09:44.702043] (ka_br_lvl3): Core core_[62.36, 67.7655, 0.66] Fitness: 1.9774107922992976\n",
      "INFO [2020-05-06 18:09:47.385520] (bb): Selecting agent ka_br_lvl3 (TV: 3) to execute (TE: 1395)\n",
      "INFO [2020-05-06 18:09:49.110207] (ka_br_lvl3): Core core_[62.36, 69.1345, 0.66] Fitness: 1.9396648984397211\n",
      "INFO [2020-05-06 18:09:50.390670] (bb): Selecting agent ka_rp_explore_1 (TV: 1.0) to execute (TE: 1396)\n",
      "INFO [2020-05-06 18:09:50.761300] (ka_br_lvl3): Core core_[62.36, 69.1345, 0.66] Fitness: 1.9396648984397211\n",
      "INFO [2020-05-06 18:09:53.397337] (bb): Selecting agent ka_br_lvl3 (TV: 3) to execute (TE: 1397)\n",
      "INFO [2020-05-06 18:09:55.117899] (ka_br_lvl3): Core core_[62.36, 68.45, 0.6534] Fitness: 1.9713576520758367\n",
      "INFO [2020-05-06 18:09:56.403928] (bb): Selecting agent ka_br_lvl3 (TV: 3) to execute (TE: 1398)\n",
      "INFO [2020-05-06 18:09:58.120116] (ka_br_lvl3): Core core_[62.36, 68.45, 0.6666] Fitness: 1.9432147704228877\n",
      "INFO [2020-05-06 18:09:59.409477] (bb): Selecting agent ka_rp_explore_2 (TV: 1.25) to execute (TE: 1399)\n",
      "INFO [2020-05-06 18:09:59.713905] (ka_br_lvl3): Core core_[62.36, 68.45, 0.6666] Fitness: 1.9432147704228877\n",
      "INFO [2020-05-06 18:10:02.415090] (bb): Selecting agent ka_br_lvl3 (TV: 3) to execute (TE: 1400)\n",
      "INFO [2020-05-06 18:10:05.263609] (ka_br_lvl3): Core core_[71.45, 63.38, 0.38] Fitness: 2.718713129834442\n",
      "INFO [2020-05-06 18:10:05.421301] (bb): Selecting agent ka_br_lvl3 (TV: 3) to execute (TE: 1401)\n",
      "INFO [2020-05-06 18:10:08.431133] (bb): Selecting agent ka_rp_explore_1 (TV: 1.5) to execute (TE: 1402)\n",
      "INFO [2020-05-06 18:10:11.439272] (bb): Selecting agent ka_rp_explore_2 (TV: 1.0) to execute (TE: 1403)\n",
      "INFO [2020-05-06 18:10:12.475787] (ka_br_lvl3): Core core_[57.42, 63.48, 0.8] Fitness: 1.6406273751162606\n",
      "INFO [2020-05-06 18:10:12.602321] (ka_br_lvl3): Core core_[57.42, 63.48, 0.8] Fitness: 1.6406273751162606\n",
      "INFO [2020-05-06 18:10:12.723898] (ka_br_lvl3): Core core_[57.42, 63.48, 0.8] Fitness: 1.6406273751162606\n",
      "INFO [2020-05-06 18:10:14.446065] (bb): Selecting agent ka_br_lvl3 (TV: 3) to execute (TE: 1404)\n",
      "INFO [2020-05-06 18:10:17.455156] (bb): Selecting agent ka_rp_explore_1 (TV: 0.75) to execute (TE: 1405)\n",
      "INFO [2020-05-06 18:10:19.991373] (ka_br_lvl3): Core core_[55.02, 64.45, 0.71] Fitness: 1.7714785428673112\n",
      "INFO [2020-05-06 18:10:20.128026] (ka_br_lvl3): Core core_[55.02, 64.45, 0.71] Fitness: 1.7714785428673112\n",
      "INFO [2020-05-06 18:10:20.460880] (bb): Selecting agent ka_rp_explore_2 (TV: 0.75) to execute (TE: 1406)\n",
      "INFO [2020-05-06 18:10:20.667273] (ka_br_lvl3): Core core_[55.02, 64.45, 0.71] Fitness: 1.7714785428673112\n",
      "INFO [2020-05-06 18:10:23.467463] (bb): Selecting agent ka_rp_explore_1 (TV: 0.5) to execute (TE: 1407)\n",
      "INFO [2020-05-06 18:10:23.773115] (ka_br_lvl3): Core core_[55.02, 64.45, 0.71] Fitness: 1.7714785428673112\n",
      "INFO [2020-05-06 18:10:26.475344] (bb): Selecting agent ka_rp_explore_2 (TV: 0.5) to execute (TE: 1408)\n",
      "INFO [2020-05-06 18:10:26.730538] (ka_br_lvl3): Core core_[55.02, 64.45, 0.71] Fitness: 1.7714785428673112\n",
      "INFO [2020-05-06 18:10:29.486446] (bb): Selecting agent ka_rp_explore_1 (TV: 0.5) to execute (TE: 1409)\n",
      "INFO [2020-05-06 18:10:29.743559] (ka_br_lvl3): Core core_[55.02, 64.45, 0.71] Fitness: 1.7714785428673112\n",
      "INFO [2020-05-06 18:10:32.498981] (bb): Selecting agent ka_br_lvl3 (TV: 3) to execute (TE: 1410)\n",
      "INFO [2020-05-06 18:10:34.215783] (ka_br_lvl3): Core core_[68.43, 69.44, 0.66] Fitness: 1.901413602135336\n",
      "INFO [2020-05-06 18:10:35.507642] (bb): Selecting agent ka_br_lvl3 (TV: 3) to execute (TE: 1411)\n",
      "INFO [2020-05-06 18:10:37.219608] (ka_br_lvl3): Core core_[72.7, 67.1, 0.47] Fitness: 2.4116803464143626\n",
      "INFO [2020-05-06 18:10:38.519193] (bb): Selecting agent ka_rp_explore_2 (TV: 1.0) to execute (TE: 1412)\n",
      "INFO [2020-05-06 18:10:38.829946] (ka_br_lvl3): Core core_[72.7, 67.1, 0.47] Fitness: 2.4116803464143626\n",
      "INFO [2020-05-06 18:10:41.531529] (bb): Selecting agent ka_rp_explore_1 (TV: 1.0) to execute (TE: 1413)\n",
      "INFO [2020-05-06 18:10:41.858395] (ka_br_lvl3): Core core_[72.7, 67.1, 0.47] Fitness: 2.4116803464143626\n",
      "INFO [2020-05-06 18:10:44.538780] (bb): Selecting agent ka_rp_explore_2 (TV: 0.5) to execute (TE: 1414)\n",
      "INFO [2020-05-06 18:10:44.825263] (ka_br_lvl3): Core core_[72.7, 67.1, 0.47] Fitness: 2.4116803464143626\n",
      "INFO [2020-05-06 18:10:47.550897] (bb): Selecting agent ka_rp_explore_1 (TV: 0.5) to execute (TE: 1415)\n",
      "INFO [2020-05-06 18:10:47.821531] (ka_br_lvl3): Core core_[72.7, 67.1, 0.47] Fitness: 2.4116803464143626\n"
     ]
    },
    {
     "name": "stdout",
     "output_type": "stream",
     "text": [
      "INFO [2020-05-06 18:10:50.561780] (bb): Selecting agent ka_rp_explore_2 (TV: 0.5) to execute (TE: 1416)\n",
      "INFO [2020-05-06 18:10:50.880897] (ka_br_lvl3): Core core_[72.7, 67.1, 0.47] Fitness: 2.4116803464143626\n",
      "INFO [2020-05-06 18:10:53.568841] (bb): Selecting agent ka_br_lvl3 (TV: 3) to execute (TE: 1417)\n",
      "INFO [2020-05-06 18:10:55.301521] (ka_br_lvl3): Core core_[73.2, 60.97, 0.49] Fitness: 2.5053607160895393\n",
      "INFO [2020-05-06 18:10:56.578623] (bb): Selecting agent ka_rp_explore_1 (TV: 0.75) to execute (TE: 1418)\n",
      "INFO [2020-05-06 18:10:56.923129] (ka_br_lvl3): Core core_[73.2, 60.97, 0.49] Fitness: 2.5053607160895393\n",
      "INFO [2020-05-06 18:10:59.585912] (bb): Selecting agent ka_rp_explore_2 (TV: 0.75) to execute (TE: 1419)\n",
      "INFO [2020-05-06 18:10:59.918208] (ka_br_lvl3): Core core_[73.2, 60.97, 0.49] Fitness: 2.5053607160895393\n",
      "INFO [2020-05-06 18:11:02.595764] (bb): Selecting agent ka_rp_explore_1 (TV: 0.5) to execute (TE: 1420)\n",
      "INFO [2020-05-06 18:11:02.851033] (ka_br_lvl3): Core core_[73.2, 60.97, 0.49] Fitness: 2.5053607160895393\n",
      "INFO [2020-05-06 18:11:05.606522] (bb): Selecting agent ka_br_lvl3 (TV: 3) to execute (TE: 1421)\n",
      "INFO [2020-05-06 18:11:07.338073] (ka_br_lvl3): Core core_[66.57, 60.18, 0.76] Fitness: 1.858816089096114\n",
      "INFO [2020-05-06 18:11:08.616815] (bb): Selecting agent ka_br_lvl3 (TV: 3) to execute (TE: 1422)\n",
      "INFO [2020-05-06 18:11:10.347664] (ka_br_lvl3): Core core_[63.66, 67.27, 0.35] Fitness: 2.7075093607731153\n",
      "INFO [2020-05-06 18:11:11.628102] (bb): Selecting agent ka_rp_explore_2 (TV: 1.0) to execute (TE: 1423)\n",
      "INFO [2020-05-06 18:11:11.941130] (ka_br_lvl3): Core core_[63.66, 67.27, 0.35] Fitness: 2.7075093607731153\n",
      "INFO [2020-05-06 18:11:14.639562] (bb): Selecting agent ka_br_lvl3 (TV: 3) to execute (TE: 1424)\n",
      "INFO [2020-05-06 18:11:17.651443] (bb): Selecting agent ka_rp_explore_1 (TV: 1.25) to execute (TE: 1425)\n",
      "INFO [2020-05-06 18:11:19.653944] (ka_br_lvl3): Core core_[77.59, 60.7, 0.36] Fitness: 2.8713004530872457\n",
      "INFO [2020-05-06 18:11:19.780966] (ka_br_lvl3): Core core_[77.59, 60.7, 0.36] Fitness: 2.8713004530872457\n",
      "INFO [2020-05-06 18:11:20.662284] (bb): Selecting agent ka_rp_explore_2 (TV: 0.75) to execute (TE: 1426)\n",
      "INFO [2020-05-06 18:11:20.859468] (ka_br_lvl3): Core core_[77.59, 60.7, 0.36] Fitness: 2.8713004530872457\n",
      "INFO [2020-05-06 18:11:23.673207] (bb): Selecting agent ka_br_lvl3 (TV: 3) to execute (TE: 1427)\n",
      "INFO [2020-05-06 18:11:26.479469] (ka_br_lvl3): Core core_[64.69, 57.94, 0.67] Fitness: 2.0421797764895118\n",
      "INFO [2020-05-06 18:11:26.681747] (bb): Selecting agent ka_rp_explore_1 (TV: 0.75) to execute (TE: 1428)\n",
      "INFO [2020-05-06 18:11:27.004925] (ka_br_lvl3): Core core_[64.69, 57.94, 0.67] Fitness: 2.0421797764895118\n",
      "INFO [2020-05-06 18:11:29.689989] (bb): Selecting agent ka_rp_explore_2 (TV: 0.75) to execute (TE: 1429)\n",
      "INFO [2020-05-06 18:11:30.008077] (ka_br_lvl3): Core core_[64.69, 57.94, 0.67] Fitness: 2.0421797764895118\n",
      "INFO [2020-05-06 18:11:32.701303] (bb): Selecting agent ka_rp_explore_1 (TV: 0.5) to execute (TE: 1430)\n",
      "INFO [2020-05-06 18:11:32.960697] (ka_br_lvl3): Core core_[64.69, 57.94, 0.67] Fitness: 2.0421797764895118\n",
      "INFO [2020-05-06 18:11:35.712292] (bb): Selecting agent ka_rp_explore_2 (TV: 0.5) to execute (TE: 1431)\n",
      "INFO [2020-05-06 18:11:35.971852] (ka_br_lvl3): Core core_[64.69, 57.94, 0.67] Fitness: 2.0421797764895118\n",
      "INFO [2020-05-06 18:11:38.721190] (bb): Selecting agent ka_rp_explore_1 (TV: 0.5) to execute (TE: 1432)\n",
      "INFO [2020-05-06 18:11:38.979856] (ka_br_lvl3): Core core_[64.69, 57.94, 0.67] Fitness: 2.0421797764895118\n",
      "INFO [2020-05-06 18:11:41.730075] (bb): Selecting agent ka_rp_explore_2 (TV: 0.5) to execute (TE: 1433)\n",
      "INFO [2020-05-06 18:11:42.053450] (ka_br_lvl3): Core core_[64.69, 57.94, 0.67] Fitness: 2.0421797764895118\n",
      "INFO [2020-05-06 18:11:44.740966] (bb): Selecting agent ka_rp_explore_1 (TV: 0.5) to execute (TE: 1434)\n",
      "INFO [2020-05-06 18:11:45.001145] (ka_br_lvl3): Core core_[64.69, 57.94, 0.67] Fitness: 2.0421797764895118\n",
      "INFO [2020-05-06 18:11:47.751238] (bb): Selecting agent ka_br_lvl3 (TV: 3) to execute (TE: 1435)\n",
      "INFO [2020-05-06 18:11:50.562779] (ka_br_lvl3): Core core_[68.54, 57.75, 1.0] Fitness: 1.4432727963547705\n",
      "INFO [2020-05-06 18:11:50.762710] (bb): Selecting agent ka_rp_explore_2 (TV: 0.75) to execute (TE: 1436)\n",
      "INFO [2020-05-06 18:11:51.158288] (ka_br_lvl3): Core core_[68.54, 57.75, 1.0] Fitness: 1.4432727963547705\n",
      "INFO [2020-05-06 18:11:53.775459] (bb): Selecting agent ka_br_lvl3 (TV: 3) to execute (TE: 1437)\n",
      "INFO [2020-05-06 18:11:55.507371] (ka_br_lvl3): Core core_[76.78, 58.93, 0.82] Fitness: 1.8208251089825422\n",
      "INFO [2020-05-06 18:11:56.784889] (bb): Selecting agent ka_rp_explore_1 (TV: 1.0) to execute (TE: 1438)\n",
      "INFO [2020-05-06 18:11:57.105602] (ka_br_lvl3): Core core_[76.78, 58.93, 0.82] Fitness: 1.8208251089825422\n",
      "INFO [2020-05-06 18:11:59.794990] (bb): Selecting agent ka_br_lvl3 (TV: 3) to execute (TE: 1439)\n",
      "INFO [2020-05-06 18:12:02.804833] (bb): Selecting agent ka_rp_explore_2 (TV: 1.0) to execute (TE: 1440)\n",
      "INFO [2020-05-06 18:12:02.807754] (bb): Writing blackboard to archive\n",
      "INFO [2020-05-06 18:12:08.818879] (bb): Finished writing to archive\n",
      "INFO [2020-05-06 18:12:09.904494] (ka_br_lvl3): Core core_[60.39, 66.0, 0.54] Fitness: 2.20216094089808\n",
      "INFO [2020-05-06 18:12:10.034888] (ka_br_lvl3): Core core_[60.39, 66.0, 0.54] Fitness: 2.20216094089808\n",
      "INFO [2020-05-06 18:12:11.830168] (bb): Selecting agent ka_rp_explore_1 (TV: 0.75) to execute (TE: 1441)\n",
      "INFO [2020-05-06 18:12:12.152931] (ka_br_lvl3): Core core_[60.39, 66.0, 0.54] Fitness: 2.20216094089808\n",
      "INFO [2020-05-06 18:12:14.841196] (bb): Selecting agent ka_br_lvl3 (TV: 3) to execute (TE: 1442)\n",
      "INFO [2020-05-06 18:12:17.855713] (bb): Selecting agent ka_rp_explore_2 (TV: 0.75) to execute (TE: 1443)\n"
     ]
    },
    {
     "name": "stderr",
     "output_type": "stream",
     "text": [
      "ERROR [2020-05-06 18:12:18.689607] (ka_br_lvl2): An exception occurred while running! (dictionary changed size during iteration)\n",
      "\n",
      "|>>>>>>>>Traceback (most recent call last):\n",
      "|   File \"/Users/ryanstewart/Library/Python/3.7/lib/python/site-packages/osbrain/agent.py\", line 1680, in run\n",
      "|     self._loop()\n",
      "|   File \"/Users/ryanstewart/Library/Python/3.7/lib/python/site-packages/osbrain/agent.py\", line 1208, in _loop\n",
      "|     if self._iterate():\n",
      "|   File \"/Users/ryanstewart/Library/Python/3.7/lib/python/site-packages/osbrain/agent.py\", line 1245, in _iterate\n",
      "|     self._process_events(events)\n",
      "|   File \"/Users/ryanstewart/Library/Python/3.7/lib/python/site-packages/osbrain/agent.py\", line 1282, in _process_events\n",
      "|     self._process_single_event(socket)\n",
      "|   File \"/Users/ryanstewart/Library/Python/3.7/lib/python/site-packages/osbrain/agent.py\", line 1296, in _process_single_event\n",
      "|     self._process_sub_event(socket, address, data)\n",
      "|   File \"/Users/ryanstewart/Library/Python/3.7/lib/python/site-packages/osbrain/agent.py\", line 1452, in _process_sub_event\n",
      "|     handler(self, message)\n",
      "|   File \"/Users/ryanstewart/projects/multi_agent_blackboard_system/src/ka_br.py\", line 41, in handler_trigger_publish\n",
      "|     new_entry = self.read_bb_lvl()\n",
      "|   File \"/Users/ryanstewart/projects/multi_agent_blackboard_system/src/ka_br.py\", line 124, in read_bb_lvl\n",
      "|     for core_name, core_entry in lvl.items():\n",
      "|   File \"/Users/ryanstewart/projects/multi_agent_blackboard_system/src/ka_br.py\", line 68, in determine_validity\n",
      "|     lvl_3_n = self.bb.get_attr('abstract_lvls')['level 3']['new']\n",
      "|   File \"/Users/ryanstewart/Library/Python/3.7/lib/python/site-packages/Pyro4/core.py\", line 185, in __call__\n",
      "|     return self.__send(self.__name, args, kwargs)\n",
      "|   File \"/Users/ryanstewart/Library/Python/3.7/lib/python/site-packages/Pyro4/core.py\", line 476, in _pyroInvoke\n",
      "|     raise data  # if you see this in your traceback, you should probably inspect the remote traceback as well\n",
      "| RuntimeError: dictionary changed size during iteration\n",
      "|<<<<<<<<\n",
      "Exception in thread oneway-call:\n",
      "Traceback (most recent call last):\n",
      "  File \"/Library/Developer/CommandLineTools/Library/Frameworks/Python3.framework/Versions/3.7/lib/python3.7/threading.py\", line 917, in _bootstrap_inner\n",
      "    self.run()\n",
      "  File \"/Users/ryanstewart/Library/Python/3.7/lib/python/site-packages/Pyro4/core.py\", line 1891, in run\n",
      "    super(_OnewayCallThread, self).run()\n",
      "  File \"/Library/Developer/CommandLineTools/Library/Frameworks/Python3.framework/Versions/3.7/lib/python3.7/threading.py\", line 865, in run\n",
      "    self._target(*self._args, **self._kwargs)\n",
      "  File \"/Users/ryanstewart/Library/Python/3.7/lib/python/site-packages/osbrain/agent.py\", line 1680, in run\n",
      "    self._loop()\n",
      "  File \"/Users/ryanstewart/Library/Python/3.7/lib/python/site-packages/osbrain/agent.py\", line 1208, in _loop\n",
      "    if self._iterate():\n",
      "  File \"/Users/ryanstewart/Library/Python/3.7/lib/python/site-packages/osbrain/agent.py\", line 1245, in _iterate\n",
      "    self._process_events(events)\n",
      "  File \"/Users/ryanstewart/Library/Python/3.7/lib/python/site-packages/osbrain/agent.py\", line 1282, in _process_events\n",
      "    self._process_single_event(socket)\n",
      "  File \"/Users/ryanstewart/Library/Python/3.7/lib/python/site-packages/osbrain/agent.py\", line 1296, in _process_single_event\n",
      "    self._process_sub_event(socket, address, data)\n",
      "  File \"/Users/ryanstewart/Library/Python/3.7/lib/python/site-packages/osbrain/agent.py\", line 1452, in _process_sub_event\n",
      "    handler(self, message)\n",
      "  File \"/Users/ryanstewart/projects/multi_agent_blackboard_system/src/ka_br.py\", line 41, in handler_trigger_publish\n",
      "    new_entry = self.read_bb_lvl()\n",
      "  File \"/Users/ryanstewart/projects/multi_agent_blackboard_system/src/ka_br.py\", line 124, in read_bb_lvl\n",
      "    for core_name, core_entry in lvl.items():\n",
      "  File \"/Users/ryanstewart/projects/multi_agent_blackboard_system/src/ka_br.py\", line 68, in determine_validity\n",
      "    lvl_3_n = self.bb.get_attr('abstract_lvls')['level 3']['new']\n",
      "  File \"/Users/ryanstewart/Library/Python/3.7/lib/python/site-packages/Pyro4/core.py\", line 185, in __call__\n",
      "    return self.__send(self.__name, args, kwargs)\n",
      "  File \"/Users/ryanstewart/Library/Python/3.7/lib/python/site-packages/Pyro4/core.py\", line 476, in _pyroInvoke\n",
      "    raise data  # if you see this in your traceback, you should probably inspect the remote traceback as well\n",
      "RuntimeError: dictionary changed size during iteration\n",
      "\n"
     ]
    },
    {
     "name": "stdout",
     "output_type": "stream",
     "text": [
      "INFO [2020-05-06 18:12:20.961099] (bb): Selecting agent ka_rp_explore_1 (TV: 0.75) to execute (TE: 1444)\n",
      "INFO [2020-05-06 18:12:23.057430] (ka_br_lvl3): Core core_[62.66, 62.13, 0.77] Fitness: 1.7694680267921084\n",
      "INFO [2020-05-06 18:12:23.185430] (ka_br_lvl3): Core core_[62.66, 62.13, 0.77] Fitness: 1.7694680267921084\n",
      "INFO [2020-05-06 18:12:23.312075] (ka_br_lvl3): Core core_[62.66, 62.13, 0.77] Fitness: 1.7694680267921084\n",
      "INFO [2020-05-06 18:12:23.972567] (bb): Selecting agent ka_br_lvl3 (TV: 3) to execute (TE: 1445)\n",
      "INFO [2020-05-06 18:12:25.700548] (ka_br_lvl3): Core core_[68.12, 68.86, 0.54] Fitness: 2.1910004364220517\n",
      "INFO [2020-05-06 18:12:26.986831] (bb): Selecting agent ka_br_lvl3 (TV: 3) to execute (TE: 1446)\n",
      "INFO [2020-05-06 18:12:28.713767] (ka_br_lvl3): Core core_[76.12, 56.31, 0.63] Fitness: 2.316040628170987\n",
      "INFO [2020-05-06 18:12:29.999705] (bb): Selecting agent ka_rp_explore_2 (TV: 1.0) to execute (TE: 1447)\n",
      "INFO [2020-05-06 18:12:30.266722] (ka_br_lvl3): Core core_[76.12, 56.31, 0.63] Fitness: 2.316040628170987\n",
      "INFO [2020-05-06 18:12:33.011055] (bb): Selecting agent ka_br_lvl3 (TV: 3) to execute (TE: 1448)\n",
      "INFO [2020-05-06 18:12:34.742901] (ka_br_lvl3): Core core_[78.22, 65.63, 0.37] Fitness: 2.6757296001607602\n",
      "INFO [2020-05-06 18:12:36.022856] (bb): Selecting agent ka_rp_explore_1 (TV: 1.25) to execute (TE: 1449)\n",
      "INFO [2020-05-06 18:12:36.224378] (ka_br_lvl3): Core core_[78.22, 65.63, 0.37] Fitness: 2.6757296001607602\n",
      "INFO [2020-05-06 18:12:39.032320] (bb): Selecting agent ka_rp_explore_2 (TV: 0.75) to execute (TE: 1450)\n",
      "INFO [2020-05-06 18:12:39.230809] (ka_br_lvl3): Core core_[78.22, 65.63, 0.37] Fitness: 2.6757296001607602\n",
      "INFO [2020-05-06 18:12:42.044422] (bb): Selecting agent ka_br_lvl3 (TV: 3) to execute (TE: 1451)\n",
      "INFO [2020-05-06 18:12:43.763451] (ka_br_lvl3): Core core_[63.97, 64.08, 0.36] Fitness: 2.6635958689226378\n",
      "INFO [2020-05-06 18:12:45.055542] (bb): Selecting agent ka_rp_explore_1 (TV: 0.75) to execute (TE: 1452)\n",
      "INFO [2020-05-06 18:12:45.307991] (ka_br_lvl3): Core core_[63.97, 64.08, 0.36] Fitness: 2.6635958689226378\n",
      "INFO [2020-05-06 18:12:48.068516] (bb): Selecting agent ka_rp_explore_2 (TV: 0.75) to execute (TE: 1453)\n",
      "INFO [2020-05-06 18:12:48.267736] (ka_br_lvl3): Core core_[63.97, 64.08, 0.36] Fitness: 2.6635958689226378\n",
      "INFO [2020-05-06 18:12:51.079627] (bb): Selecting agent ka_rp_explore_1 (TV: 0.5) to execute (TE: 1454)\n",
      "INFO [2020-05-06 18:12:51.278462] (ka_br_lvl3): Core core_[63.97, 64.08, 0.36] Fitness: 2.6635958689226378\n",
      "INFO [2020-05-06 18:12:54.090810] (bb): Selecting agent ka_rp_explore_2 (TV: 0.5) to execute (TE: 1455)\n",
      "INFO [2020-05-06 18:12:54.290921] (ka_br_lvl3): Core core_[63.97, 64.08, 0.36] Fitness: 2.6635958689226378\n",
      "INFO [2020-05-06 18:12:57.102479] (bb): Selecting agent ka_rp_explore_1 (TV: 0.5) to execute (TE: 1456)\n",
      "INFO [2020-05-06 18:12:57.303880] (ka_br_lvl3): Core core_[63.97, 64.08, 0.36] Fitness: 2.6635958689226378\n",
      "INFO [2020-05-06 18:13:00.113492] (bb): Selecting agent ka_rp_explore_2 (TV: 0.5) to execute (TE: 1457)\n",
      "INFO [2020-05-06 18:13:00.380288] (ka_br_lvl3): Core core_[63.97, 64.08, 0.36] Fitness: 2.6635958689226378\n",
      "INFO [2020-05-06 18:13:03.124128] (bb): Selecting agent ka_rp_explore_1 (TV: 0.5) to execute (TE: 1458)\n",
      "INFO [2020-05-06 18:13:03.324157] (ka_br_lvl3): Core core_[63.97, 64.08, 0.36] Fitness: 2.6635958689226378\n",
      "INFO [2020-05-06 18:13:06.138047] (bb): Selecting agent ka_rp_explore_2 (TV: 0.5) to execute (TE: 1459)\n",
      "INFO [2020-05-06 18:13:06.339222] (ka_br_lvl3): Core core_[63.97, 64.08, 0.36] Fitness: 2.6635958689226378\n",
      "INFO [2020-05-06 18:13:09.150328] (bb): Selecting agent ka_br_lvl3 (TV: 3) to execute (TE: 1460)\n",
      "INFO [2020-05-06 18:13:11.961702] (ka_br_lvl3): Core core_[71.81, 69.34, 0.41] Fitness: 2.5061488580135673\n",
      "INFO [2020-05-06 18:13:12.162244] (bb): Selecting agent ka_rp_explore_1 (TV: 0.75) to execute (TE: 1461)\n",
      "INFO [2020-05-06 18:13:12.368624] (ka_br_lvl3): Core core_[71.81, 69.34, 0.41] Fitness: 2.5061488580135673\n",
      "INFO [2020-05-06 18:13:15.175752] (bb): Selecting agent ka_rp_explore_2 (TV: 0.75) to execute (TE: 1462)\n",
      "INFO [2020-05-06 18:13:15.428431] (ka_br_lvl3): Core core_[71.81, 69.34, 0.41] Fitness: 2.5061488580135673\n",
      "INFO [2020-05-06 18:13:18.189662] (bb): Selecting agent ka_br_lvl3 (TV: 3) to execute (TE: 1463)\n",
      "INFO [2020-05-06 18:13:19.918720] (ka_br_lvl3): Core core_[74.73, 62.63, 0.4] Fitness: 2.6895743224417696\n",
      "INFO [2020-05-06 18:13:21.198569] (bb): Selecting agent ka_rp_explore_1 (TV: 0.75) to execute (TE: 1464)\n",
      "INFO [2020-05-06 18:13:21.402535] (ka_br_lvl3): Core core_[74.73, 62.63, 0.4] Fitness: 2.6895743224417696\n",
      "INFO [2020-05-06 18:13:24.210663] (bb): Selecting agent ka_br_lvl3 (TV: 3) to execute (TE: 1465)\n",
      "INFO [2020-05-06 18:13:27.222611] (bb): Selecting agent ka_rp_explore_2 (TV: 1.0) to execute (TE: 1466)\n",
      "INFO [2020-05-06 18:13:29.243704] (ka_br_lvl3): Core core_[70.81, 68.67, 0.19] Fitness: 3.1578889331704065\n",
      "INFO [2020-05-06 18:13:29.372960] (ka_br_lvl3): Core core_[70.81, 68.67, 0.19] Fitness: 3.1578889331704065\n",
      "INFO [2020-05-06 18:13:30.230454] (bb): Selecting agent ka_rp_explore_1 (TV: 0.75) to execute (TE: 1467)\n",
      "INFO [2020-05-06 18:13:30.437756] (ka_br_lvl3): Core core_[70.81, 68.67, 0.19] Fitness: 3.1578889331704065\n",
      "INFO [2020-05-06 18:13:33.241096] (bb): Selecting agent ka_rp_explore_2 (TV: 0.5) to execute (TE: 1468)\n",
      "INFO [2020-05-06 18:13:33.445001] (ka_br_lvl3): Core core_[70.81, 68.67, 0.19] Fitness: 3.1578889331704065\n",
      "INFO [2020-05-06 18:13:36.253192] (bb): Selecting agent ka_rp_explore_1 (TV: 0.5) to execute (TE: 1469)\n",
      "INFO [2020-05-06 18:13:36.458866] (ka_br_lvl3): Core core_[70.81, 68.67, 0.19] Fitness: 3.1578889331704065\n",
      "INFO [2020-05-06 18:13:39.262829] (bb): Selecting agent ka_br_lvl3 (TV: 3) to execute (TE: 1470)\n",
      "INFO [2020-05-06 18:13:42.133560] (ka_br_lvl3): Core core_[79.29, 61.12, 0.27] Fitness: 3.12227189869915\n",
      "INFO [2020-05-06 18:13:42.273306] (bb): Selecting agent ka_rp_explore_2 (TV: 0.75) to execute (TE: 1471)\n",
      "INFO [2020-05-06 18:13:42.477235] (ka_br_lvl3): Core core_[79.29, 61.12, 0.27] Fitness: 3.12227189869915\n",
      "INFO [2020-05-06 18:13:45.286082] (bb): Selecting agent ka_br_lvl3 (TV: 3) to execute (TE: 1472)\n",
      "INFO [2020-05-06 18:13:47.017978] (ka_br_lvl3): Core core_[77.49, 50.06, 0.88] Fitness: 1.8848556198687314\n",
      "INFO [2020-05-06 18:13:48.294870] (bb): Selecting agent ka_br_lvl3 (TV: 3) to execute (TE: 1473)\n",
      "INFO [2020-05-06 18:13:51.108136] (ka_br_lvl3): Core core_[67.35, 54.48, 0.96] Fitness: 1.5304976200314082\n",
      "INFO [2020-05-06 18:13:51.306423] (bb): Selecting agent ka_br_lvl3 (TV: 3) to execute (TE: 1474)\n",
      "INFO [2020-05-06 18:13:54.174162] (ka_br_lvl3): Core core_[57.81, 69.5, 0.92] Fitness: 1.373225253089431\n",
      "INFO [2020-05-06 18:13:54.318125] (bb): Selecting agent ka_rp_explore_1 (TV: 1.5) to execute (TE: 1475)\n",
      "INFO [2020-05-06 18:13:54.523487] (ka_br_lvl3): Core core_[57.81, 69.5, 0.92] Fitness: 1.373225253089431\n",
      "INFO [2020-05-06 18:13:57.327794] (bb): Selecting agent ka_rp_explore_2 (TV: 1.25) to execute (TE: 1476)\n",
      "INFO [2020-05-06 18:13:57.533365] (ka_br_lvl3): Core core_[57.81, 69.5, 0.92] Fitness: 1.373225253089431\n",
      "INFO [2020-05-06 18:14:00.340106] (bb): Selecting agent ka_br_lvl3 (TV: 3) to execute (TE: 1477)\n",
      "INFO [2020-05-06 18:14:02.071288] (ka_br_lvl3): Core core_[79.7, 52.71, 0.95] Fitness: 1.7156596818475158\n",
      "INFO [2020-05-06 18:14:03.350376] (bb): Selecting agent ka_br_lvl3 (TV: 3) to execute (TE: 1478)\n",
      "INFO [2020-05-06 18:14:05.133607] (ka_br_lvl3): Core core_[77.37, 54.07, 0.51] Fitness: 2.6131389633403197\n",
      "INFO [2020-05-06 18:14:06.361477] (bb): Selecting agent ka_rp_explore_1 (TV: 1.0) to execute (TE: 1479)\n",
      "INFO [2020-05-06 18:14:06.570716] (ka_br_lvl3): Core core_[77.37, 54.07, 0.51] Fitness: 2.6131389633403197\n",
      "INFO [2020-05-06 18:14:09.370469] (bb): Selecting agent ka_br_lvl3 (TV: 3) to execute (TE: 1480)\n",
      "INFO [2020-05-06 18:14:12.378838] (bb): Selecting agent ka_rp_explore_2 (TV: 1.25) to execute (TE: 1481)\n",
      "INFO [2020-05-06 18:14:14.365649] (ka_br_lvl3): Core core_[79.69, 55.87, 0.92] Fitness: 1.6771264977512073\n",
      "INFO [2020-05-06 18:14:14.496736] (ka_br_lvl3): Core core_[79.69, 55.87, 0.92] Fitness: 1.6771264977512073\n",
      "INFO [2020-05-06 18:14:15.389726] (bb): Selecting agent ka_rp_explore_1 (TV: 0.75) to execute (TE: 1482)\n"
     ]
    },
    {
     "name": "stdout",
     "output_type": "stream",
     "text": [
      "INFO [2020-05-06 18:14:15.644275] (ka_br_lvl3): Core core_[79.69, 55.87, 0.92] Fitness: 1.6771264977512073\n",
      "INFO [2020-05-06 18:14:18.397629] (bb): Selecting agent ka_rp_explore_2 (TV: 0.5) to execute (TE: 1483)\n",
      "INFO [2020-05-06 18:14:18.607440] (ka_br_lvl3): Core core_[79.69, 55.87, 0.92] Fitness: 1.6771264977512073\n",
      "INFO [2020-05-06 18:14:21.408098] (bb): Selecting agent ka_rp_explore_1 (TV: 0.5) to execute (TE: 1484)\n",
      "INFO [2020-05-06 18:14:21.615528] (ka_br_lvl3): Core core_[79.69, 55.87, 0.92] Fitness: 1.6771264977512073\n",
      "INFO [2020-05-06 18:14:24.420792] (bb): Selecting agent ka_rp_explore_2 (TV: 0.5) to execute (TE: 1485)\n",
      "INFO [2020-05-06 18:14:24.628456] (ka_br_lvl3): Core core_[79.69, 55.87, 0.92] Fitness: 1.6771264977512073\n",
      "INFO [2020-05-06 18:14:27.430814] (bb): Selecting agent ka_br_lvl3 (TV: 3) to execute (TE: 1486)\n",
      "INFO [2020-05-06 18:14:30.441623] (bb): Selecting agent ka_rp_explore_1 (TV: 0.75) to execute (TE: 1487)\n",
      "INFO [2020-05-06 18:14:32.474624] (ka_br_lvl3): Core core_[64.51, 65.67, 0.73] Fitness: 1.8804524157794253\n",
      "INFO [2020-05-06 18:14:32.608114] (ka_br_lvl3): Core core_[64.51, 65.67, 0.73] Fitness: 1.8804524157794253\n",
      "INFO [2020-05-06 18:14:33.453682] (bb): Selecting agent ka_rp_explore_2 (TV: 0.75) to execute (TE: 1488)\n",
      "INFO [2020-05-06 18:14:33.662441] (ka_br_lvl3): Core core_[64.51, 65.67, 0.73] Fitness: 1.8804524157794253\n",
      "INFO [2020-05-06 18:14:36.464877] (bb): Selecting agent ka_rp_explore_1 (TV: 0.5) to execute (TE: 1489)\n",
      "INFO [2020-05-06 18:14:36.671108] (ka_br_lvl3): Core core_[64.51, 65.67, 0.73] Fitness: 1.8804524157794253\n",
      "INFO [2020-05-06 18:14:39.472839] (bb): Selecting agent ka_br_lvl3 (TV: 3) to execute (TE: 1490)\n",
      "INFO [2020-05-06 18:14:41.202909] (ka_br_lvl3): Core core_[73.05, 58.39, 0.41] Fitness: 2.7421732099738185\n",
      "INFO [2020-05-06 18:14:42.481776] (bb): Selecting agent ka_br_lvl3 (TV: 3) to execute (TE: 1491)\n",
      "INFO [2020-05-06 18:14:45.351320] (ka_br_lvl3): Core core_[71.27, 56.74, 0.53] Fitness: 2.425216546676072\n",
      "INFO [2020-05-06 18:14:45.493841] (bb): Selecting agent ka_rp_explore_2 (TV: 1.0) to execute (TE: 1492)\n",
      "INFO [2020-05-06 18:14:45.700380] (ka_br_lvl3): Core core_[71.27, 56.74, 0.53] Fitness: 2.425216546676072\n",
      "INFO [2020-05-06 18:14:48.502899] (bb): Selecting agent ka_rp_explore_1 (TV: 1.0) to execute (TE: 1493)\n",
      "INFO [2020-05-06 18:14:48.708288] (ka_br_lvl3): Core core_[71.27, 56.74, 0.53] Fitness: 2.425216546676072\n",
      "INFO [2020-05-06 18:14:51.514256] (bb): Selecting agent ka_rp_explore_2 (TV: 0.5) to execute (TE: 1494)\n",
      "INFO [2020-05-06 18:14:51.721711] (ka_br_lvl3): Core core_[71.27, 56.74, 0.53] Fitness: 2.425216546676072\n",
      "INFO [2020-05-06 18:14:54.525209] (bb): Selecting agent ka_br_lvl3 (TV: 3) to execute (TE: 1495)\n",
      "INFO [2020-05-06 18:14:57.385700] (ka_br_lvl3): Core core_[61.89, 62.75, 0.51] Fitness: 2.3132825978667806\n",
      "INFO [2020-05-06 18:14:57.534480] (bb): Selecting agent ka_br_lvl3 (TV: 3) to execute (TE: 1496)\n",
      "INFO [2020-05-06 18:15:00.350329] (ka_br_lvl3): Core core_[63.87, 65.24, 0.37] Fitness: 2.6675082509215375\n",
      "INFO [2020-05-06 18:15:00.542349] (bb): Selecting agent ka_rp_explore_1 (TV: 1.0) to execute (TE: 1497)\n",
      "INFO [2020-05-06 18:15:00.744880] (ka_br_lvl3): Core core_[63.87, 65.24, 0.37] Fitness: 2.6675082509215375\n",
      "INFO [2020-05-06 18:15:03.549648] (bb): Selecting agent ka_rp_explore_2 (TV: 1.0) to execute (TE: 1498)\n",
      "INFO [2020-05-06 18:15:03.751647] (ka_br_lvl3): Core core_[63.87, 65.24, 0.37] Fitness: 2.6675082509215375\n",
      "INFO [2020-05-06 18:15:06.561103] (bb): Selecting agent ka_rp_explore_1 (TV: 0.5) to execute (TE: 1499)\n",
      "INFO [2020-05-06 18:15:06.809880] (ka_br_lvl3): Core core_[63.87, 65.24, 0.37] Fitness: 2.6675082509215375\n",
      "INFO [2020-05-06 18:15:09.574440] (bb): Selecting agent ka_br_lvl3 (TV: 3) to execute (TE: 1500)\n",
      "INFO [2020-05-06 18:15:11.311427] (ka_br_lvl3): Core core_[50.9, 68.1, 0.63] Fitness: 1.7986219942543442\n",
      "INFO [2020-05-06 18:15:12.583067] (bb): Selecting agent ka_br_lvl3 (TV: 3) to execute (TE: 1501)\n",
      "INFO [2020-05-06 18:15:14.313453] (ka_br_lvl3): Core core_[56.49, 68.92, 0.65] Fitness: 1.895680267252219\n",
      "INFO [2020-05-06 18:15:15.593758] (bb): Selecting agent ka_rp_explore_2 (TV: 1.0) to execute (TE: 1502)\n",
      "INFO [2020-05-06 18:15:15.798243] (ka_br_lvl3): Core core_[56.49, 68.92, 0.65] Fitness: 1.895680267252219\n",
      "INFO [2020-05-06 18:15:18.602978] (bb): Selecting agent ka_rp_explore_1 (TV: 1.0) to execute (TE: 1503)\n",
      "INFO [2020-05-06 18:15:18.807963] (ka_br_lvl3): Core core_[56.49, 68.92, 0.65] Fitness: 1.895680267252219\n",
      "INFO [2020-05-06 18:15:21.615327] (bb): Selecting agent ka_rp_explore_2 (TV: 0.5) to execute (TE: 1504)\n",
      "INFO [2020-05-06 18:15:21.876418] (ka_br_lvl3): Core core_[56.49, 68.92, 0.65] Fitness: 1.895680267252219\n",
      "INFO [2020-05-06 18:15:24.624973] (bb): Selecting agent ka_br_lvl3 (TV: 3) to execute (TE: 1505)\n",
      "INFO [2020-05-06 18:15:27.637975] (bb): Selecting agent ka_rp_explore_1 (TV: 0.75) to execute (TE: 1506)\n",
      "INFO [2020-05-06 18:15:29.615493] (ka_br_lvl3): Core core_[57.33, 68.53, 0.68] Fitness: 1.8564957273747127\n",
      "INFO [2020-05-06 18:15:29.749265] (ka_br_lvl3): Core core_[57.33, 68.53, 0.68] Fitness: 1.8564957273747127\n",
      "INFO [2020-05-06 18:15:30.648369] (bb): Selecting agent ka_rp_explore_2 (TV: 0.75) to execute (TE: 1507)\n",
      "INFO [2020-05-06 18:15:30.859208] (ka_br_lvl3): Core core_[57.33, 68.53, 0.68] Fitness: 1.8564957273747127\n",
      "INFO [2020-05-06 18:15:33.659038] (bb): Selecting agent ka_br_lvl3 (TV: 3) to execute (TE: 1508)\n",
      "INFO [2020-05-06 18:15:35.396291] (ka_br_lvl3): Core core_[79.18, 50.36, 0.93] Fitness: 1.8178644750258235\n",
      "INFO [2020-05-06 18:15:36.671215] (bb): Selecting agent ka_rp_explore_1 (TV: 0.75) to execute (TE: 1509)\n",
      "INFO [2020-05-06 18:15:36.880679] (ka_br_lvl3): Core core_[79.18, 50.36, 0.93] Fitness: 1.8178644750258235\n",
      "INFO [2020-05-06 18:15:39.681545] (bb): Selecting agent ka_br_lvl3 (TV: 3) to execute (TE: 1510)\n",
      "INFO [2020-05-06 18:15:41.422463] (ka_br_lvl3): Core core_[51.48, 66.29, 0.99] Fitness: 1.1116923468317244\n",
      "INFO [2020-05-06 18:15:42.692329] (bb): Selecting agent ka_br_lvl3 (TV: 3) to execute (TE: 1511)\n",
      "INFO [2020-05-06 18:15:45.703463] (bb): Selecting agent ka_rp_explore_2 (TV: 1.25) to execute (TE: 1512)\n",
      "INFO [2020-05-06 18:15:46.599733] (ka_br_lvl3): Core core_[60.81, 69.94, 0.64] Fitness: 1.9660144516077176\n",
      "INFO [2020-05-06 18:15:46.733212] (ka_br_lvl3): Core core_[60.81, 69.94, 0.64] Fitness: 1.9660144516077176\n",
      "INFO [2020-05-06 18:15:48.715885] (bb): Selecting agent ka_rp_explore_1 (TV: 1.0) to execute (TE: 1513)\n",
      "INFO [2020-05-06 18:15:48.926701] (ka_br_lvl3): Core core_[60.81, 69.94, 0.64] Fitness: 1.9660144516077176\n",
      "INFO [2020-05-06 18:15:51.725625] (bb): Selecting agent ka_rp_explore_2 (TV: 0.5) to execute (TE: 1514)\n",
      "INFO [2020-05-06 18:15:51.935785] (ka_br_lvl3): Core core_[60.81, 69.94, 0.64] Fitness: 1.9660144516077176\n",
      "INFO [2020-05-06 18:15:54.738235] (bb): Selecting agent ka_rp_explore_1 (TV: 0.5) to execute (TE: 1515)\n",
      "INFO [2020-05-06 18:15:54.947516] (ka_br_lvl3): Core core_[60.81, 69.94, 0.64] Fitness: 1.9660144516077176\n",
      "INFO [2020-05-06 18:15:57.748588] (bb): Selecting agent ka_rp_explore_2 (TV: 0.5) to execute (TE: 1516)\n",
      "INFO [2020-05-06 18:15:58.002775] (ka_br_lvl3): Core core_[60.81, 69.94, 0.64] Fitness: 1.9660144516077176\n",
      "INFO [2020-05-06 18:16:00.757605] (bb): Selecting agent ka_br_lvl3 (TV: 3) to execute (TE: 1517)\n",
      "INFO [2020-05-06 18:16:03.766418] (bb): Selecting agent ka_rp_explore_1 (TV: 0.75) to execute (TE: 1518)\n",
      "INFO [2020-05-06 18:16:06.841893] (bb): Selecting agent ka_rp_explore_2 (TV: 0.75) to execute (TE: 1519)\n",
      "INFO [2020-05-06 18:16:09.855326] (bb): Selecting agent ka_rp_explore_1 (TV: 0.5) to execute (TE: 1520)\n",
      "INFO [2020-05-06 18:16:10.545589] (ka_br_lvl3): Core core_[73.7, 51.17, 0.94] Fitness: 1.6952537567739847\n",
      "INFO [2020-05-06 18:16:10.679251] (ka_br_lvl3): Core core_[73.7, 51.17, 0.94] Fitness: 1.6952537567739847\n",
      "INFO [2020-05-06 18:16:10.865477] (ka_br_lvl3): Core core_[73.7, 51.17, 0.94] Fitness: 1.6952537567739847\n",
      "INFO [2020-05-06 18:16:10.997448] (ka_br_lvl3): Core core_[73.7, 51.17, 0.94] Fitness: 1.6952537567739847\n",
      "INFO [2020-05-06 18:16:12.871838] (bb): Selecting agent ka_br_lvl3 (TV: 3) to execute (TE: 1521)\n",
      "INFO [2020-05-06 18:16:14.619838] (ka_br_lvl3): Core core_[76.67, 52.83, 0.76] Fitness: 2.090687149168146\n"
     ]
    },
    {
     "name": "stdout",
     "output_type": "stream",
     "text": [
      "INFO [2020-05-06 18:16:15.882438] (bb): Selecting agent ka_br_lvl3 (TV: 3) to execute (TE: 1522)\n",
      "INFO [2020-05-06 18:16:18.898926] (bb): Selecting agent ka_rp_explore_2 (TV: 1.0) to execute (TE: 1523)\n",
      "INFO [2020-05-06 18:16:20.893742] (ka_br_lvl3): Core core_[58.55, 67.89, 0.42] Fitness: 2.448536693648853\n",
      "INFO [2020-05-06 18:16:21.094889] (ka_br_lvl3): Core core_[58.55, 67.89, 0.42] Fitness: 2.448536693648853\n",
      "INFO [2020-05-06 18:16:21.910427] (bb): Selecting agent ka_rp_explore_1 (TV: 1.0) to execute (TE: 1524)\n",
      "INFO [2020-05-06 18:16:22.130577] (ka_br_lvl3): Core core_[58.55, 67.89, 0.42] Fitness: 2.448536693648853\n",
      "INFO [2020-05-06 18:16:24.921707] (bb): Selecting agent ka_br_lvl3 (TV: 3) to execute (TE: 1525)\n",
      "INFO [2020-05-06 18:16:26.657791] (ka_br_lvl3): Core core_[73.15, 50.08, 0.97] Fitness: 1.6328921036526536\n",
      "INFO [2020-05-06 18:16:27.931511] (bb): Selecting agent ka_rp_explore_2 (TV: 0.75) to execute (TE: 1526)\n",
      "INFO [2020-05-06 18:16:28.173588] (ka_br_lvl3): Core core_[73.15, 50.08, 0.97] Fitness: 1.6328921036526536\n",
      "INFO [2020-05-06 18:16:30.939222] (bb): Selecting agent ka_rp_explore_1 (TV: 0.75) to execute (TE: 1527)\n",
      "INFO [2020-05-06 18:16:31.165784] (ka_br_lvl3): Core core_[73.15, 50.08, 0.97] Fitness: 1.6328921036526536\n",
      "INFO [2020-05-06 18:16:33.950406] (bb): Selecting agent ka_br_lvl3 (TV: 3) to execute (TE: 1528)\n",
      "INFO [2020-05-06 18:16:36.769379] (ka_br_lvl3): Core core_[68.83, 56.98, 0.73] Fitness: 1.9548260992206958\n",
      "INFO [2020-05-06 18:16:36.960714] (bb): Selecting agent ka_rp_explore_2 (TV: 0.75) to execute (TE: 1529)\n",
      "INFO [2020-05-06 18:16:37.186572] (ka_br_lvl3): Core core_[68.83, 56.98, 0.73] Fitness: 1.9548260992206958\n",
      "INFO [2020-05-06 18:16:39.968811] (bb): Selecting agent ka_rp_explore_1 (TV: 0.75) to execute (TE: 1530)\n",
      "INFO [2020-05-06 18:16:40.201237] (ka_br_lvl3): Core core_[68.83, 56.98, 0.73] Fitness: 1.9548260992206958\n",
      "INFO [2020-05-06 18:16:42.978046] (bb): Selecting agent ka_br_lvl3 (TV: 3) to execute (TE: 1531)\n",
      "INFO [2020-05-06 18:16:44.713133] (ka_br_lvl3): Core core_[75.73, 61.07, 0.64] Fitness: 2.1610576001214876\n",
      "INFO [2020-05-06 18:16:45.988364] (bb): Selecting agent ka_rp_explore_2 (TV: 0.75) to execute (TE: 1532)\n",
      "INFO [2020-05-06 18:16:46.264650] (ka_br_lvl3): Core core_[75.73, 61.07, 0.64] Fitness: 2.1610576001214876\n",
      "INFO [2020-05-06 18:16:48.999355] (bb): Selecting agent ka_rp_explore_1 (TV: 0.75) to execute (TE: 1533)\n",
      "INFO [2020-05-06 18:16:49.211837] (ka_br_lvl3): Core core_[75.73, 61.07, 0.64] Fitness: 2.1610576001214876\n",
      "INFO [2020-05-06 18:16:52.010607] (bb): Selecting agent ka_br_lvl3 (TV: 3) to execute (TE: 1534)\n",
      "INFO [2020-05-06 18:16:55.021073] (bb): Selecting agent ka_rp_explore_2 (TV: 0.75) to execute (TE: 1535)\n",
      "INFO [2020-05-06 18:16:55.922454] (ka_br_lvl3): Core core_[64.2, 60.85, 0.74] Fitness: 1.8595235607063267\n",
      "INFO [2020-05-06 18:16:56.062310] (ka_br_lvl3): Core core_[64.2, 60.85, 0.74] Fitness: 1.8595235607063267\n",
      "INFO [2020-05-06 18:16:58.032920] (bb): Selecting agent ka_rp_explore_1 (TV: 0.75) to execute (TE: 1536)\n",
      "INFO [2020-05-06 18:16:58.301557] (ka_br_lvl3): Core core_[64.2, 60.85, 0.74] Fitness: 1.8595235607063267\n",
      "INFO [2020-05-06 18:17:01.040594] (bb): Selecting agent ka_rp_explore_2 (TV: 0.5) to execute (TE: 1537)\n",
      "INFO [2020-05-06 18:17:01.249578] (ka_br_lvl3): Core core_[64.2, 60.85, 0.74] Fitness: 1.8595235607063267\n",
      "INFO [2020-05-06 18:17:04.049975] (bb): Selecting agent ka_rp_explore_1 (TV: 0.5) to execute (TE: 1538)\n",
      "INFO [2020-05-06 18:17:04.257890] (ka_br_lvl3): Core core_[64.2, 60.85, 0.74] Fitness: 1.8595235607063267\n",
      "INFO [2020-05-06 18:17:07.058749] (bb): Selecting agent ka_rp_explore_2 (TV: 0.5) to execute (TE: 1539)\n",
      "INFO [2020-05-06 18:17:07.267751] (ka_br_lvl3): Core core_[64.2, 60.85, 0.74] Fitness: 1.8595235607063267\n",
      "INFO [2020-05-06 18:17:10.067507] (bb): Selecting agent ka_br_lvl3 (TV: 3) to execute (TE: 1540)\n",
      "INFO [2020-05-06 18:17:11.804875] (ka_br_lvl3): Core core_[58.23, 64.48, 0.77] Fitness: 1.7035211832185297\n",
      "INFO [2020-05-06 18:17:13.080091] (bb): Selecting agent ka_rp_explore_1 (TV: 0.75) to execute (TE: 1541)\n",
      "INFO [2020-05-06 18:17:13.340917] (ka_br_lvl3): Core core_[58.23, 64.48, 0.77] Fitness: 1.7035211832185297\n",
      "INFO [2020-05-06 18:17:16.092341] (bb): Selecting agent ka_rp_explore_2 (TV: 0.75) to execute (TE: 1542)\n",
      "INFO [2020-05-06 18:17:16.304149] (ka_br_lvl3): Core core_[58.23, 64.48, 0.77] Fitness: 1.7035211832185297\n",
      "INFO [2020-05-06 18:17:19.105212] (bb): Selecting agent ka_rp_explore_1 (TV: 0.5) to execute (TE: 1543)\n",
      "INFO [2020-05-06 18:17:19.317992] (ka_br_lvl3): Core core_[58.23, 64.48, 0.77] Fitness: 1.7035211832185297\n",
      "INFO [2020-05-06 18:17:22.117577] (bb): Selecting agent ka_br_lvl3 (TV: 3) to execute (TE: 1544)\n",
      "INFO [2020-05-06 18:17:23.860670] (ka_br_lvl3): Core core_[70.62, 61.95, 0.51] Fitness: 2.429426538405201\n",
      "INFO [2020-05-06 18:17:25.130849] (bb): Selecting agent ka_rp_explore_2 (TV: 0.75) to execute (TE: 1545)\n",
      "INFO [2020-05-06 18:17:25.345090] (ka_br_lvl3): Core core_[70.62, 61.95, 0.51] Fitness: 2.429426538405201\n",
      "INFO [2020-05-06 18:17:28.142170] (bb): Selecting agent ka_rp_explore_1 (TV: 0.75) to execute (TE: 1546)\n",
      "INFO [2020-05-06 18:17:28.407257] (ka_br_lvl3): Core core_[70.62, 61.95, 0.51] Fitness: 2.429426538405201\n",
      "INFO [2020-05-06 18:17:31.149789] (bb): Selecting agent ka_br_lvl3 (TV: 3) to execute (TE: 1547)\n",
      "INFO [2020-05-06 18:17:33.972936] (ka_br_lvl3): Core core_[64.67, 67.6, 0.72] Fitness: 1.8447842117265438\n",
      "INFO [2020-05-06 18:17:34.160276] (bb): Selecting agent ka_rp_explore_2 (TV: 0.75) to execute (TE: 1548)\n",
      "INFO [2020-05-06 18:17:34.370475] (ka_br_lvl3): Core core_[64.67, 67.6, 0.72] Fitness: 1.8447842117265438\n",
      "INFO [2020-05-06 18:17:37.173093] (bb): Selecting agent ka_rp_explore_1 (TV: 0.75) to execute (TE: 1549)\n",
      "INFO [2020-05-06 18:17:37.424132] (ka_br_lvl3): Core core_[64.67, 67.6, 0.72] Fitness: 1.8447842117265438\n",
      "INFO [2020-05-06 18:17:40.186822] (bb): Selecting agent ka_rp_explore_2 (TV: 0.5) to execute (TE: 1550)\n",
      "INFO [2020-05-06 18:17:40.451981] (ka_br_lvl3): Core core_[64.67, 67.6, 0.72] Fitness: 1.8447842117265438\n",
      "INFO [2020-05-06 18:17:43.195917] (bb): Selecting agent ka_br_lvl3 (TV: 3) to execute (TE: 1551)\n",
      "INFO [2020-05-06 18:17:46.023106] (ka_br_lvl3): Core core_[79.73, 59.07, 0.24] Fitness: 3.2465100014301407\n",
      "INFO [2020-05-06 18:17:46.206796] (bb): Selecting agent ka_rp_explore_1 (TV: 0.75) to execute (TE: 1552)\n",
      "INFO [2020-05-06 18:17:46.419836] (ka_br_lvl3): Core core_[79.73, 59.07, 0.24] Fitness: 3.2465100014301407\n",
      "INFO [2020-05-06 18:17:49.217148] (bb): Selecting agent ka_br_lvl3 (TV: 3) to execute (TE: 1553)\n",
      "INFO [2020-05-06 18:17:50.959852] (ka_br_lvl3): Core core_[71.65, 58.16, 0.89] Fitness: 1.7053017887888067\n",
      "INFO [2020-05-06 18:17:52.227631] (bb): Selecting agent ka_rp_explore_2 (TV: 1.0) to execute (TE: 1554)\n",
      "INFO [2020-05-06 18:17:52.503424] (ka_br_lvl3): Core core_[71.65, 58.16, 0.89] Fitness: 1.7053017887888067\n",
      "INFO [2020-05-06 18:17:55.238643] (bb): Selecting agent ka_br_lvl3 (TV: 3) to execute (TE: 1555)\n",
      "INFO [2020-05-06 18:17:56.977598] (ka_br_lvl3): Core core_[58.75, 68.2, 0.96] Fitness: 1.3101458512705697\n",
      "INFO [2020-05-06 18:17:58.250748] (bb): Selecting agent ka_rp_explore_1 (TV: 1.0) to execute (TE: 1556)\n",
      "INFO [2020-05-06 18:17:58.465106] (ka_br_lvl3): Core core_[58.75, 68.2, 0.96] Fitness: 1.3101458512705697\n",
      "INFO [2020-05-06 18:18:01.261556] (bb): Selecting agent ka_rp_explore_2 (TV: 0.75) to execute (TE: 1557)\n",
      "INFO [2020-05-06 18:18:01.474443] (ka_br_lvl3): Core core_[58.75, 68.2, 0.96] Fitness: 1.3101458512705697\n",
      "INFO [2020-05-06 18:18:04.269373] (bb): Selecting agent ka_rp_explore_1 (TV: 0.5) to execute (TE: 1558)\n",
      "INFO [2020-05-06 18:18:04.483952] (ka_br_lvl3): Core core_[58.75, 68.2, 0.96] Fitness: 1.3101458512705697\n",
      "INFO [2020-05-06 18:18:07.280322] (bb): Selecting agent ka_br_lvl3 (TV: 3) to execute (TE: 1559)\n",
      "INFO [2020-05-06 18:18:10.289251] (bb): Selecting agent ka_rp_explore_2 (TV: 0.75) to execute (TE: 1560)\n",
      "INFO [2020-05-06 18:18:10.292480] (bb): Writing blackboard to archive\n",
      "INFO [2020-05-06 18:18:16.304046] (bb): Finished writing to archive\n",
      "INFO [2020-05-06 18:18:19.318066] (bb): Selecting agent ka_rp_explore_1 (TV: 0.75) to execute (TE: 1561)\n",
      "INFO [2020-05-06 18:18:20.072144] (ka_br_lvl3): Core core_[65.21, 66.55, 0.74] Fitness: 1.8300843605507384\n"
     ]
    },
    {
     "name": "stdout",
     "output_type": "stream",
     "text": [
      "INFO [2020-05-06 18:18:20.204720] (ka_br_lvl3): Core core_[65.21, 66.55, 0.74] Fitness: 1.8300843605507384\n",
      "INFO [2020-05-06 18:18:20.332971] (ka_br_lvl3): Core core_[65.21, 66.55, 0.74] Fitness: 1.8300843605507384\n",
      "INFO [2020-05-06 18:18:22.326978] (bb): Selecting agent ka_rp_explore_2 (TV: 0.5) to execute (TE: 1562)\n",
      "INFO [2020-05-06 18:18:22.582792] (ka_br_lvl3): Core core_[65.21, 66.55, 0.74] Fitness: 1.8300843605507384\n",
      "INFO [2020-05-06 18:18:25.338472] (bb): Selecting agent ka_rp_explore_1 (TV: 0.5) to execute (TE: 1563)\n",
      "INFO [2020-05-06 18:18:25.559878] (ka_br_lvl3): Core core_[65.21, 66.55, 0.74] Fitness: 1.8300843605507384\n",
      "INFO [2020-05-06 18:18:28.351683] (bb): Selecting agent ka_rp_explore_2 (TV: 0.5) to execute (TE: 1564)\n",
      "INFO [2020-05-06 18:18:28.563967] (ka_br_lvl3): Core core_[65.21, 66.55, 0.74] Fitness: 1.8300843605507384\n",
      "INFO [2020-05-06 18:18:31.361760] (bb): Selecting agent ka_br_lvl3 (TV: 3) to execute (TE: 1565)\n",
      "INFO [2020-05-06 18:18:33.102264] (ka_br_lvl3): Core core_[75.43, 64.71, 0.49] Fitness: 2.435592702715129\n",
      "INFO [2020-05-06 18:18:34.376366] (bb): Selecting agent ka_br_lvl3 (TV: 3) to execute (TE: 1566)\n",
      "INFO [2020-05-06 18:18:36.118999] (ka_br_lvl3): Core core_[54.08, 67.49, 0.96] Fitness: 1.247877582155759\n",
      "INFO [2020-05-06 18:18:37.385420] (bb): Selecting agent ka_rp_explore_1 (TV: 1.0) to execute (TE: 1567)\n",
      "INFO [2020-05-06 18:18:37.651369] (ka_br_lvl3): Core core_[54.08, 67.49, 0.96] Fitness: 1.247877582155759\n",
      "INFO [2020-05-06 18:18:40.394490] (bb): Selecting agent ka_br_lvl3 (TV: 3) to execute (TE: 1568)\n",
      "INFO [2020-05-06 18:18:43.405071] (bb): Selecting agent ka_rp_explore_2 (TV: 1.25) to execute (TE: 1569)\n",
      "INFO [2020-05-06 18:18:45.401112] (ka_br_lvl3): Core core_[67.75, 63.95, 0.81] Fitness: 1.7196656769381642\n",
      "INFO [2020-05-06 18:18:45.533292] (ka_br_lvl3): Core core_[67.75, 63.95, 0.81] Fitness: 1.7196656769381642\n",
      "INFO [2020-05-06 18:18:46.418327] (bb): Selecting agent ka_br_lvl3 (TV: 3) to execute (TE: 1570)\n",
      "INFO [2020-05-06 18:18:49.431063] (bb): Selecting agent ka_rp_explore_1 (TV: 1.0) to execute (TE: 1571)\n",
      "INFO [2020-05-06 18:18:52.443395] (bb): Selecting agent ka_rp_explore_2 (TV: 0.75) to execute (TE: 1572)\n"
     ]
    },
    {
     "name": "stderr",
     "output_type": "stream",
     "text": [
      "ERROR [2020-05-06 18:18:52.992829] (ka_rp_exploit): An exception occurred while running! (dictionary changed size during iteration)\n",
      "\n",
      "|>>>>>>>>Traceback (most recent call last):\n",
      "|   File \"/Users/ryanstewart/Library/Python/3.7/lib/python/site-packages/osbrain/agent.py\", line 1680, in run\n",
      "|     self._loop()\n",
      "|   File \"/Users/ryanstewart/Library/Python/3.7/lib/python/site-packages/osbrain/agent.py\", line 1208, in _loop\n",
      "|     if self._iterate():\n",
      "|   File \"/Users/ryanstewart/Library/Python/3.7/lib/python/site-packages/osbrain/agent.py\", line 1245, in _iterate\n",
      "|     self._process_events(events)\n",
      "|   File \"/Users/ryanstewart/Library/Python/3.7/lib/python/site-packages/osbrain/agent.py\", line 1282, in _process_events\n",
      "|     self._process_single_event(socket)\n",
      "|   File \"/Users/ryanstewart/Library/Python/3.7/lib/python/site-packages/osbrain/agent.py\", line 1296, in _process_single_event\n",
      "|     self._process_sub_event(socket, address, data)\n",
      "|   File \"/Users/ryanstewart/Library/Python/3.7/lib/python/site-packages/osbrain/agent.py\", line 1452, in _process_sub_event\n",
      "|     handler(self, message)\n",
      "|   File \"/Users/ryanstewart/projects/multi_agent_blackboard_system/src/ka_rp.py\", line 182, in handler_trigger_publish\n",
      "|     new_entry = self.read_bb_lvl()\n",
      "|   File \"/Users/ryanstewart/projects/multi_agent_blackboard_system/src/ka_rp.py\", line 223, in read_bb_lvl\n",
      "|     lvl = self.bb.get_attr('abstract_lvls')['level {}'.format(self.bb_lvl_read)][self.new_panel]\n",
      "|   File \"/Users/ryanstewart/Library/Python/3.7/lib/python/site-packages/Pyro4/core.py\", line 185, in __call__\n",
      "|     return self.__send(self.__name, args, kwargs)\n",
      "|   File \"/Users/ryanstewart/Library/Python/3.7/lib/python/site-packages/Pyro4/core.py\", line 476, in _pyroInvoke\n",
      "|     raise data  # if you see this in your traceback, you should probably inspect the remote traceback as well\n",
      "| RuntimeError: dictionary changed size during iteration\n",
      "|<<<<<<<<\n",
      "Exception in thread oneway-call:\n",
      "Traceback (most recent call last):\n",
      "  File \"/Library/Developer/CommandLineTools/Library/Frameworks/Python3.framework/Versions/3.7/lib/python3.7/threading.py\", line 917, in _bootstrap_inner\n",
      "    self.run()\n",
      "  File \"/Users/ryanstewart/Library/Python/3.7/lib/python/site-packages/Pyro4/core.py\", line 1891, in run\n",
      "    super(_OnewayCallThread, self).run()\n",
      "  File \"/Library/Developer/CommandLineTools/Library/Frameworks/Python3.framework/Versions/3.7/lib/python3.7/threading.py\", line 865, in run\n",
      "    self._target(*self._args, **self._kwargs)\n",
      "  File \"/Users/ryanstewart/Library/Python/3.7/lib/python/site-packages/osbrain/agent.py\", line 1680, in run\n",
      "    self._loop()\n",
      "  File \"/Users/ryanstewart/Library/Python/3.7/lib/python/site-packages/osbrain/agent.py\", line 1208, in _loop\n",
      "    if self._iterate():\n",
      "  File \"/Users/ryanstewart/Library/Python/3.7/lib/python/site-packages/osbrain/agent.py\", line 1245, in _iterate\n",
      "    self._process_events(events)\n",
      "  File \"/Users/ryanstewart/Library/Python/3.7/lib/python/site-packages/osbrain/agent.py\", line 1282, in _process_events\n",
      "    self._process_single_event(socket)\n",
      "  File \"/Users/ryanstewart/Library/Python/3.7/lib/python/site-packages/osbrain/agent.py\", line 1296, in _process_single_event\n",
      "    self._process_sub_event(socket, address, data)\n",
      "  File \"/Users/ryanstewart/Library/Python/3.7/lib/python/site-packages/osbrain/agent.py\", line 1452, in _process_sub_event\n",
      "    handler(self, message)\n",
      "  File \"/Users/ryanstewart/projects/multi_agent_blackboard_system/src/ka_rp.py\", line 182, in handler_trigger_publish\n",
      "    new_entry = self.read_bb_lvl()\n",
      "  File \"/Users/ryanstewart/projects/multi_agent_blackboard_system/src/ka_rp.py\", line 223, in read_bb_lvl\n",
      "    lvl = self.bb.get_attr('abstract_lvls')['level {}'.format(self.bb_lvl_read)][self.new_panel]\n",
      "  File \"/Users/ryanstewart/Library/Python/3.7/lib/python/site-packages/Pyro4/core.py\", line 185, in __call__\n",
      "    return self.__send(self.__name, args, kwargs)\n",
      "  File \"/Users/ryanstewart/Library/Python/3.7/lib/python/site-packages/Pyro4/core.py\", line 476, in _pyroInvoke\n",
      "    raise data  # if you see this in your traceback, you should probably inspect the remote traceback as well\n",
      "RuntimeError: dictionary changed size during iteration\n",
      "\n"
     ]
    },
    {
     "name": "stdout",
     "output_type": "stream",
     "text": [
      "INFO [2020-05-06 18:18:54.152385] (ka_br_lvl3): Core core_[63.05, 62.47, 0.64] Fitness: 2.0535807340526446\n",
      "INFO [2020-05-06 18:18:54.278932] (ka_br_lvl3): Core core_[63.05, 62.47, 0.64] Fitness: 2.0535807340526446\n",
      "INFO [2020-05-06 18:18:54.404888] (ka_br_lvl3): Core core_[63.05, 62.47, 0.64] Fitness: 2.0535807340526446\n",
      "INFO [2020-05-06 18:18:55.456217] (bb): Selecting agent ka_br_lvl3 (TV: 3) to execute (TE: 1573)\n",
      "INFO [2020-05-06 18:18:58.466097] (bb): Selecting agent ka_rp_explore_1 (TV: 0.75) to execute (TE: 1574)\n",
      "INFO [2020-05-06 18:19:01.476341] (bb): Selecting agent ka_rp_explore_2 (TV: 0.75) to execute (TE: 1575)\n",
      "INFO [2020-05-06 18:19:04.486357] (bb): Selecting agent ka_rp_explore_1 (TV: 0.5) to execute (TE: 1576)\n",
      "INFO [2020-05-06 18:19:07.495483] (bb): Selecting agent ka_rp_explore_2 (TV: 0.5) to execute (TE: 1577)\n",
      "INFO [2020-05-06 18:19:07.644435] (ka_br_lvl3): Core core_[70.14, 68.06, 0.24] Fitness: 2.992436812116569\n",
      "INFO [2020-05-06 18:19:10.508883] (bb): Selecting agent ka_rp_explore_1 (TV: 0.5) to execute (TE: 1578)\n",
      "INFO [2020-05-06 18:19:10.658655] (ka_br_lvl3): Core core_[70.14, 68.06, 0.24] Fitness: 2.992436812116569\n",
      "INFO [2020-05-06 18:19:13.518660] (bb): Selecting agent ka_rp_explore_2 (TV: 0.5) to execute (TE: 1579)\n",
      "INFO [2020-05-06 18:19:13.715086] (ka_br_lvl3): Core core_[70.14, 68.06, 0.24] Fitness: 2.992436812116569\n",
      "INFO [2020-05-06 18:19:16.528137] (bb): Selecting agent ka_rp_explore_1 (TV: 0.5) to execute (TE: 1580)\n",
      "INFO [2020-05-06 18:19:16.676562] (ka_br_lvl3): Core core_[70.14, 68.06, 0.24] Fitness: 2.992436812116569\n",
      "INFO [2020-05-06 18:19:19.536615] (bb): Selecting agent ka_rp_explore_2 (TV: 0.5) to execute (TE: 1581)\n",
      "INFO [2020-05-06 18:19:19.681304] (ka_br_lvl3): Core core_[70.14, 68.06, 0.24] Fitness: 2.992436812116569\n",
      "INFO [2020-05-06 18:19:22.545110] (bb): Selecting agent ka_rp_explore_1 (TV: 0.5) to execute (TE: 1582)\n",
      "INFO [2020-05-06 18:19:22.688128] (ka_br_lvl3): Core core_[70.14, 68.06, 0.24] Fitness: 2.992436812116569\n",
      "INFO [2020-05-06 18:19:25.558543] (bb): Selecting agent ka_br_lvl3 (TV: 3) to execute (TE: 1583)\n",
      "INFO [2020-05-06 18:19:28.567608] (bb): Selecting agent ka_rp_explore_2 (TV: 0.75) to execute (TE: 1584)\n",
      "INFO [2020-05-06 18:19:29.482246] (ka_br_lvl3): Core core_[71.58, 51.82, 0.85] Fitness: 1.816638414194684\n",
      "INFO [2020-05-06 18:19:29.615394] (ka_br_lvl3): Core core_[71.58, 51.82, 0.85] Fitness: 1.816638414194684\n",
      "INFO [2020-05-06 18:19:31.577358] (bb): Selecting agent ka_rp_explore_1 (TV: 0.75) to execute (TE: 1585)\n",
      "INFO [2020-05-06 18:19:31.722731] (ka_br_lvl3): Core core_[71.58, 51.82, 0.85] Fitness: 1.816638414194684\n",
      "INFO [2020-05-06 18:19:34.591146] (bb): Selecting agent ka_rp_explore_2 (TV: 0.5) to execute (TE: 1586)\n",
      "INFO [2020-05-06 18:19:34.738407] (ka_br_lvl3): Core core_[71.58, 51.82, 0.85] Fitness: 1.816638414194684\n",
      "INFO [2020-05-06 18:19:37.603202] (bb): Selecting agent ka_br_lvl3 (TV: 3) to execute (TE: 1587)\n",
      "INFO [2020-05-06 18:19:40.617739] (bb): Selecting agent ka_rp_explore_1 (TV: 0.75) to execute (TE: 1588)\n",
      "INFO [2020-05-06 18:19:43.629234] (bb): Selecting agent ka_rp_explore_2 (TV: 0.75) to execute (TE: 1589)\n",
      "INFO [2020-05-06 18:19:44.251383] (ka_br_lvl3): Core core_[75.31, 53.77, 0.59] Fitness: 2.4181507551426766\n",
      "INFO [2020-05-06 18:19:44.384821] (ka_br_lvl3): Core core_[75.31, 53.77, 0.59] Fitness: 2.4181507551426766\n",
      "INFO [2020-05-06 18:19:44.514132] (ka_br_lvl3): Core core_[75.31, 53.77, 0.59] Fitness: 2.4181507551426766\n",
      "INFO [2020-05-06 18:19:46.643347] (bb): Selecting agent ka_br_lvl3 (TV: 3) to execute (TE: 1590)\n",
      "INFO [2020-05-06 18:19:49.481620] (ka_br_lvl3): Core core_[72.61, 60.14, 0.62] Fitness: 2.2236344096204403\n",
      "INFO [2020-05-06 18:19:49.652321] (bb): Selecting agent ka_rp_explore_1 (TV: 0.75) to execute (TE: 1591)\n",
      "INFO [2020-05-06 18:19:49.842458] (ka_br_lvl3): Core core_[72.61, 60.14, 0.62] Fitness: 2.2236344096204403\n",
      "INFO [2020-05-06 18:19:52.661858] (bb): Selecting agent ka_rp_explore_2 (TV: 0.75) to execute (TE: 1592)\n",
      "INFO [2020-05-06 18:19:52.809366] (ka_br_lvl3): Core core_[72.61, 60.14, 0.62] Fitness: 2.2236344096204403\n",
      "INFO [2020-05-06 18:19:55.676874] (bb): Selecting agent ka_rp_explore_1 (TV: 0.5) to execute (TE: 1593)\n",
      "INFO [2020-05-06 18:19:55.826251] (ka_br_lvl3): Core core_[72.61, 60.14, 0.62] Fitness: 2.2236344096204403\n",
      "INFO [2020-05-06 18:19:58.685818] (bb): Selecting agent ka_rp_explore_2 (TV: 0.5) to execute (TE: 1594)\n",
      "INFO [2020-05-06 18:19:58.835220] (ka_br_lvl3): Core core_[72.61, 60.14, 0.62] Fitness: 2.2236344096204403\n",
      "INFO [2020-05-06 18:20:01.698117] (bb): Selecting agent ka_br_lvl3 (TV: 3) to execute (TE: 1595)\n",
      "INFO [2020-05-06 18:20:04.536071] (ka_br_lvl3): Core core_[77.97, 55.36, 0.88] Fitness: 1.7834545645320163\n",
      "INFO [2020-05-06 18:20:04.711400] (bb): Selecting agent ka_br_lvl3 (TV: 3) to execute (TE: 1596)\n",
      "INFO [2020-05-06 18:20:07.540033] (ka_br_lvl3): Core core_[58.23, 67.61, 0.83] Fitness: 1.5706932673367515\n",
      "INFO [2020-05-06 18:20:07.725987] (bb): Selecting agent ka_rp_explore_1 (TV: 1.0) to execute (TE: 1597)\n",
      "INFO [2020-05-06 18:20:07.918559] (ka_br_lvl3): Core core_[58.23, 67.61, 0.83] Fitness: 1.5706932673367515\n",
      "INFO [2020-05-06 18:20:10.739646] (bb): Selecting agent ka_br_lvl3 (TV: 3) to execute (TE: 1598)\n",
      "INFO [2020-05-06 18:20:13.754279] (bb): Selecting agent ka_rp_explore_2 (TV: 1.25) to execute (TE: 1599)\n",
      "INFO [2020-05-06 18:20:14.657443] (ka_br_lvl3): Core core_[64.49, 62.1, 0.45] Fitness: 2.4843538096219264\n",
      "INFO [2020-05-06 18:20:14.785884] (ka_br_lvl3): Core core_[64.49, 62.1, 0.45] Fitness: 2.4843538096219264\n",
      "INFO [2020-05-06 18:20:16.764507] (bb): Selecting agent ka_rp_explore_1 (TV: 0.75) to execute (TE: 1600)\n",
      "INFO [2020-05-06 18:20:16.911836] (ka_br_lvl3): Core core_[64.49, 62.1, 0.45] Fitness: 2.4843538096219264\n",
      "INFO [2020-05-06 18:20:19.777778] (bb): Selecting agent ka_rp_explore_2 (TV: 0.5) to execute (TE: 1601)\n",
      "INFO [2020-05-06 18:20:19.925308] (ka_br_lvl3): Core core_[64.49, 62.1, 0.45] Fitness: 2.4843538096219264\n",
      "INFO [2020-05-06 18:20:22.789192] (bb): Selecting agent ka_rp_explore_1 (TV: 0.5) to execute (TE: 1602)\n",
      "INFO [2020-05-06 18:20:22.936415] (ka_br_lvl3): Core core_[64.49, 62.1, 0.45] Fitness: 2.4843538096219264\n",
      "INFO [2020-05-06 18:20:25.803654] (bb): Selecting agent ka_rp_explore_2 (TV: 0.5) to execute (TE: 1603)\n",
      "INFO [2020-05-06 18:20:25.949836] (ka_br_lvl3): Core core_[64.49, 62.1, 0.45] Fitness: 2.4843538096219264\n",
      "INFO [2020-05-06 18:20:28.818480] (bb): Selecting agent ka_rp_explore_1 (TV: 0.5) to execute (TE: 1604)\n",
      "INFO [2020-05-06 18:20:29.018942] (ka_br_lvl3): Core core_[64.49, 62.1, 0.45] Fitness: 2.4843538096219264\n",
      "INFO [2020-05-06 18:20:31.829817] (bb): Selecting agent ka_rp_explore_2 (TV: 0.5) to execute (TE: 1605)\n",
      "INFO [2020-05-06 18:20:31.973861] (ka_br_lvl3): Core core_[64.49, 62.1, 0.45] Fitness: 2.4843538096219264\n",
      "INFO [2020-05-06 18:20:34.842527] (bb): Selecting agent ka_br_lvl3 (TV: 3) to execute (TE: 1606)\n",
      "INFO [2020-05-06 18:20:37.851936] (bb): Selecting agent ka_rp_explore_1 (TV: 0.75) to execute (TE: 1607)\n",
      "INFO [2020-05-06 18:20:38.762647] (ka_br_lvl3): Core core_[73.64, 59.7, 0.83] Fitness: 1.7730553166723442\n",
      "INFO [2020-05-06 18:20:38.894016] (ka_br_lvl3): Core core_[73.64, 59.7, 0.83] Fitness: 1.7730553166723442\n",
      "INFO [2020-05-06 18:20:40.862098] (bb): Selecting agent ka_rp_explore_2 (TV: 0.75) to execute (TE: 1608)\n",
      "INFO [2020-05-06 18:20:41.007509] (ka_br_lvl3): Core core_[73.64, 59.7, 0.83] Fitness: 1.7730553166723442\n",
      "INFO [2020-05-06 18:20:43.876598] (bb): Selecting agent ka_rp_explore_1 (TV: 0.5) to execute (TE: 1609)\n",
      "INFO [2020-05-06 18:20:44.068300] (ka_br_lvl3): Core core_[73.64, 59.7, 0.83] Fitness: 1.7730553166723442\n",
      "INFO [2020-05-06 18:20:46.886434] (bb): Selecting agent ka_rp_explore_2 (TV: 0.5) to execute (TE: 1610)\n",
      "INFO [2020-05-06 18:20:47.038771] (ka_br_lvl3): Core core_[73.64, 59.7, 0.83] Fitness: 1.7730553166723442\n",
      "INFO [2020-05-06 18:20:49.901025] (bb): Selecting agent ka_rp_explore_1 (TV: 0.5) to execute (TE: 1611)\n",
      "INFO [2020-05-06 18:20:50.053504] (ka_br_lvl3): Core core_[73.64, 59.7, 0.83] Fitness: 1.7730553166723442\n",
      "INFO [2020-05-06 18:20:52.911860] (bb): Selecting agent ka_rp_explore_2 (TV: 0.5) to execute (TE: 1612)\n",
      "INFO [2020-05-06 18:20:53.065242] (ka_br_lvl3): Core core_[73.64, 59.7, 0.83] Fitness: 1.7730553166723442\n"
     ]
    },
    {
     "name": "stdout",
     "output_type": "stream",
     "text": [
      "INFO [2020-05-06 18:20:55.925311] (bb): Selecting agent ka_rp_explore_1 (TV: 0.5) to execute (TE: 1613)\n",
      "INFO [2020-05-06 18:20:56.079631] (ka_br_lvl3): Core core_[73.64, 59.7, 0.83] Fitness: 1.7730553166723442\n",
      "INFO [2020-05-06 18:20:58.938744] (bb): Selecting agent ka_rp_explore_2 (TV: 0.5) to execute (TE: 1614)\n",
      "INFO [2020-05-06 18:20:59.092856] (ka_br_lvl3): Core core_[73.64, 59.7, 0.83] Fitness: 1.7730553166723442\n",
      "INFO [2020-05-06 18:21:01.953676] (bb): Selecting agent ka_rp_explore_1 (TV: 0.5) to execute (TE: 1615)\n",
      "INFO [2020-05-06 18:21:02.105715] (ka_br_lvl3): Core core_[73.64, 59.7, 0.83] Fitness: 1.7730553166723442\n",
      "INFO [2020-05-06 18:21:04.964990] (bb): Selecting agent ka_br_lvl3 (TV: 3) to execute (TE: 1616)\n",
      "INFO [2020-05-06 18:21:07.979452] (bb): Selecting agent ka_rp_explore_2 (TV: 0.75) to execute (TE: 1617)\n",
      "INFO [2020-05-06 18:21:08.940422] (ka_br_lvl3): Core core_[69.11, 56.48, 0.57] Fitness: 2.2786817384722395\n",
      "INFO [2020-05-06 18:21:09.076347] (ka_br_lvl3): Core core_[69.11, 56.48, 0.57] Fitness: 2.2786817384722395\n",
      "INFO [2020-05-06 18:21:10.993118] (bb): Selecting agent ka_br_lvl3 (TV: 3) to execute (TE: 1618)\n",
      "INFO [2020-05-06 18:21:13.830066] (ka_br_lvl3): Core core_[57.68, 69.61, 0.38] Fitness: 2.504667585422644\n",
      "INFO [2020-05-06 18:21:14.003633] (bb): Selecting agent ka_rp_explore_1 (TV: 1.0) to execute (TE: 1619)\n",
      "INFO [2020-05-06 18:21:14.155387] (ka_br_lvl3): Core core_[57.68, 69.61, 0.38] Fitness: 2.504667585422644\n",
      "INFO [2020-05-06 18:21:17.016570] (bb): Selecting agent ka_br_lvl3 (TV: 3) to execute (TE: 1620)\n",
      "INFO [2020-05-06 18:21:18.814993] (ka_br_lvl3): Core core_[73.69, 63.98, 0.63] Fitness: 2.1115548497271583\n",
      "INFO [2020-05-06 18:21:20.026591] (bb): Selecting agent ka_rp_explore_2 (TV: 1.0) to execute (TE: 1621)\n",
      "INFO [2020-05-06 18:21:20.178571] (ka_br_lvl3): Core core_[73.69, 63.98, 0.63] Fitness: 2.1115548497271583\n",
      "INFO [2020-05-06 18:21:23.037129] (bb): Selecting agent ka_rp_explore_1 (TV: 0.75) to execute (TE: 1622)\n",
      "INFO [2020-05-06 18:21:23.190648] (ka_br_lvl3): Core core_[73.69, 63.98, 0.63] Fitness: 2.1115548497271583\n",
      "INFO [2020-05-06 18:21:26.046870] (bb): Selecting agent ka_rp_explore_2 (TV: 0.5) to execute (TE: 1623)\n",
      "INFO [2020-05-06 18:21:26.197339] (ka_br_lvl3): Core core_[73.69, 63.98, 0.63] Fitness: 2.1115548497271583\n",
      "INFO [2020-05-06 18:21:29.053934] (bb): Selecting agent ka_br_lvl3 (TV: 3) to execute (TE: 1624)\n",
      "INFO [2020-05-06 18:21:32.061918] (bb): Selecting agent ka_rp_explore_1 (TV: 0.75) to execute (TE: 1625)\n",
      "INFO [2020-05-06 18:21:32.976439] (ka_br_lvl3): Core core_[60.86, 66.4, 0.67] Fitness: 1.930725161560918\n",
      "INFO [2020-05-06 18:21:33.115551] (ka_br_lvl3): Core core_[60.86, 66.4, 0.67] Fitness: 1.930725161560918\n",
      "INFO [2020-05-06 18:21:35.074190] (bb): Selecting agent ka_rp_explore_2 (TV: 0.75) to execute (TE: 1626)\n",
      "INFO [2020-05-06 18:21:35.272826] (ka_br_lvl3): Core core_[60.86, 66.4, 0.67] Fitness: 1.930725161560918\n",
      "INFO [2020-05-06 18:21:38.085865] (bb): Selecting agent ka_rp_explore_1 (TV: 0.5) to execute (TE: 1627)\n",
      "INFO [2020-05-06 18:21:38.233734] (ka_br_lvl3): Core core_[60.86, 66.4, 0.67] Fitness: 1.930725161560918\n",
      "INFO [2020-05-06 18:21:41.096753] (bb): Selecting agent ka_rp_explore_2 (TV: 0.5) to execute (TE: 1628)\n",
      "INFO [2020-05-06 18:21:41.245190] (ka_br_lvl3): Core core_[60.86, 66.4, 0.67] Fitness: 1.930725161560918\n",
      "INFO [2020-05-06 18:21:44.110895] (bb): Selecting agent ka_br_lvl3 (TV: 3) to execute (TE: 1629)\n",
      "INFO [2020-05-06 18:21:45.852686] (ka_br_lvl3): Core core_[72.53, 61.16, 1.0] Fitness: 1.390026954170461\n",
      "INFO [2020-05-06 18:21:47.120431] (bb): Selecting agent ka_br_lvl3 (TV: 3) to execute (TE: 1630)\n",
      "INFO [2020-05-06 18:21:50.129615] (bb): Selecting agent ka_rp_explore_1 (TV: 1.0) to execute (TE: 1631)\n",
      "INFO [2020-05-06 18:21:52.126490] (ka_br_lvl3): Core core_[62.34, 60.02, 0.97] Fitness: 1.416020342803237\n",
      "INFO [2020-05-06 18:21:52.321938] (ka_br_lvl3): Core core_[62.34, 60.02, 0.97] Fitness: 1.416020342803237\n",
      "INFO [2020-05-06 18:21:53.143168] (bb): Selecting agent ka_rp_explore_2 (TV: 1.0) to execute (TE: 1632)\n",
      "INFO [2020-05-06 18:21:53.292675] (ka_br_lvl3): Core core_[62.34, 60.02, 0.97] Fitness: 1.416020342803237\n",
      "INFO [2020-05-06 18:21:56.154133] (bb): Selecting agent ka_rp_explore_1 (TV: 0.5) to execute (TE: 1633)\n",
      "INFO [2020-05-06 18:21:56.304463] (ka_br_lvl3): Core core_[62.34, 60.02, 0.97] Fitness: 1.416020342803237\n",
      "INFO [2020-05-06 18:21:59.164565] (bb): Selecting agent ka_br_lvl3 (TV: 3) to execute (TE: 1634)\n",
      "INFO [2020-05-06 18:22:02.177813] (bb): Selecting agent ka_rp_explore_2 (TV: 0.75) to execute (TE: 1635)\n",
      "INFO [2020-05-06 18:22:03.109472] (ka_br_lvl3): Core core_[69.34, 66.38, 0.67] Fitness: 1.9567820352967575\n",
      "INFO [2020-05-06 18:22:03.242039] (ka_br_lvl3): Core core_[69.34, 66.38, 0.67] Fitness: 1.9567820352967575\n",
      "INFO [2020-05-06 18:22:05.191203] (bb): Selecting agent ka_br_lvl3 (TV: 3) to execute (TE: 1636)\n",
      "INFO [2020-05-06 18:22:06.987971] (ka_br_lvl3): Core core_[64.61, 65.1, 0.75] Fitness: 1.8455465310962866\n",
      "INFO [2020-05-06 18:22:08.204366] (bb): Selecting agent ka_br_lvl3 (TV: 3) to execute (TE: 1637)\n",
      "INFO [2020-05-06 18:22:11.216436] (bb): Selecting agent ka_rp_explore_1 (TV: 1.25) to execute (TE: 1638)\n",
      "INFO [2020-05-06 18:22:13.224531] (ka_br_lvl3): Core core_[70.68, 58.98, 0.8] Fitness: 1.8571707945118532\n",
      "INFO [2020-05-06 18:22:13.359143] (ka_br_lvl3): Core core_[70.68, 58.98, 0.8] Fitness: 1.8571707945118532\n",
      "INFO [2020-05-06 18:22:14.227536] (bb): Selecting agent ka_rp_explore_2 (TV: 1.0) to execute (TE: 1639)\n",
      "INFO [2020-05-06 18:22:14.377884] (ka_br_lvl3): Core core_[70.68, 58.98, 0.8] Fitness: 1.8571707945118532\n",
      "INFO [2020-05-06 18:22:17.236872] (bb): Selecting agent ka_br_lvl3 (TV: 3) to execute (TE: 1640)\n",
      "INFO [2020-05-06 18:22:18.985852] (ka_br_lvl3): Core core_[59.17, 62.31, 1.0] Fitness: 1.2789000753008577\n",
      "INFO [2020-05-06 18:22:20.246792] (bb): Selecting agent ka_rp_explore_1 (TV: 0.75) to execute (TE: 1641)\n",
      "INFO [2020-05-06 18:22:20.451747] (ka_br_lvl3): Core core_[59.17, 62.31, 1.0] Fitness: 1.2789000753008577\n",
      "INFO [2020-05-06 18:22:23.260732] (bb): Selecting agent ka_rp_explore_2 (TV: 0.75) to execute (TE: 1642)\n",
      "INFO [2020-05-06 18:22:23.411241] (ka_br_lvl3): Core core_[59.17, 62.31, 1.0] Fitness: 1.2789000753008577\n",
      "INFO [2020-05-06 18:22:26.272415] (bb): Selecting agent ka_rp_explore_1 (TV: 0.5) to execute (TE: 1643)\n",
      "INFO [2020-05-06 18:22:26.425995] (ka_br_lvl3): Core core_[59.17, 62.31, 1.0] Fitness: 1.2789000753008577\n",
      "INFO [2020-05-06 18:22:29.286557] (bb): Selecting agent ka_rp_explore_2 (TV: 0.5) to execute (TE: 1644)\n",
      "INFO [2020-05-06 18:22:29.437842] (ka_br_lvl3): Core core_[59.17, 62.31, 1.0] Fitness: 1.2789000753008577\n",
      "INFO [2020-05-06 18:22:32.297583] (bb): Selecting agent ka_rp_explore_1 (TV: 0.5) to execute (TE: 1645)\n",
      "INFO [2020-05-06 18:22:32.453411] (ka_br_lvl3): Core core_[59.17, 62.31, 1.0] Fitness: 1.2789000753008577\n",
      "INFO [2020-05-06 18:22:35.311843] (bb): Selecting agent ka_br_lvl3 (TV: 3) to execute (TE: 1646)\n",
      "INFO [2020-05-06 18:22:37.063787] (ka_br_lvl3): Core core_[65.43, 60.0, 0.93] Fitness: 1.5230522716918915\n",
      "INFO [2020-05-06 18:22:38.321373] (bb): Selecting agent ka_br_lvl3 (TV: 3) to execute (TE: 1647)\n",
      "INFO [2020-05-06 18:22:41.335667] (bb): Selecting agent ka_rp_explore_2 (TV: 1.0) to execute (TE: 1648)\n",
      "INFO [2020-05-06 18:22:43.395541] (ka_br_lvl3): Core core_[51.42, 67.62, 0.83] Fitness: 1.4315292541597606\n",
      "INFO [2020-05-06 18:22:43.528421] (ka_br_lvl3): Core core_[51.42, 67.62, 0.83] Fitness: 1.4315292541597606\n",
      "INFO [2020-05-06 18:22:44.345877] (bb): Selecting agent ka_rp_explore_1 (TV: 1.0) to execute (TE: 1649)\n",
      "INFO [2020-05-06 18:22:44.497822] (ka_br_lvl3): Core core_[51.42, 67.62, 0.83] Fitness: 1.4315292541597606\n",
      "INFO [2020-05-06 18:22:47.360507] (bb): Selecting agent ka_br_lvl3 (TV: 3) to execute (TE: 1650)\n",
      "INFO [2020-05-06 18:22:50.371456] (bb): Selecting agent ka_rp_explore_2 (TV: 0.75) to execute (TE: 1651)\n",
      "INFO [2020-05-06 18:22:51.295589] (ka_br_lvl3): Core core_[68.51, 67.29, 0.37] Fitness: 2.667762496499114\n",
      "INFO [2020-05-06 18:22:51.427976] (ka_br_lvl3): Core core_[68.51, 67.29, 0.37] Fitness: 2.667762496499114\n",
      "INFO [2020-05-06 18:22:53.380601] (bb): Selecting agent ka_rp_explore_1 (TV: 0.75) to execute (TE: 1652)\n"
     ]
    },
    {
     "name": "stdout",
     "output_type": "stream",
     "text": [
      "INFO [2020-05-06 18:22:53.589056] (ka_br_lvl3): Core core_[68.51, 67.29, 0.37] Fitness: 2.667762496499114\n",
      "INFO [2020-05-06 18:22:56.393810] (bb): Selecting agent ka_rp_explore_2 (TV: 0.5) to execute (TE: 1653)\n",
      "INFO [2020-05-06 18:22:56.552471] (ka_br_lvl3): Core core_[68.51, 67.29, 0.37] Fitness: 2.667762496499114\n",
      "INFO [2020-05-06 18:22:59.404844] (bb): Selecting agent ka_rp_explore_1 (TV: 0.5) to execute (TE: 1654)\n",
      "INFO [2020-05-06 18:22:59.562803] (ka_br_lvl3): Core core_[68.51, 67.29, 0.37] Fitness: 2.667762496499114\n",
      "INFO [2020-05-06 18:23:02.419575] (bb): Selecting agent ka_rp_explore_2 (TV: 0.5) to execute (TE: 1655)\n",
      "INFO [2020-05-06 18:23:02.576591] (ka_br_lvl3): Core core_[68.51, 67.29, 0.37] Fitness: 2.667762496499114\n",
      "INFO [2020-05-06 18:23:05.430328] (bb): Selecting agent ka_rp_explore_1 (TV: 0.5) to execute (TE: 1656)\n",
      "INFO [2020-05-06 18:23:05.584420] (ka_br_lvl3): Core core_[68.51, 67.29, 0.37] Fitness: 2.667762496499114\n",
      "INFO [2020-05-06 18:23:08.443346] (bb): Selecting agent ka_rp_explore_2 (TV: 0.5) to execute (TE: 1657)\n",
      "INFO [2020-05-06 18:23:08.599744] (ka_br_lvl3): Core core_[68.51, 67.29, 0.37] Fitness: 2.667762496499114\n",
      "INFO [2020-05-06 18:23:11.457045] (bb): Selecting agent ka_br_lvl3 (TV: 3) to execute (TE: 1658)\n",
      "INFO [2020-05-06 18:23:14.471016] (bb): Selecting agent ka_rp_explore_1 (TV: 0.75) to execute (TE: 1659)\n",
      "INFO [2020-05-06 18:23:15.437047] (ka_br_lvl3): Core core_[78.59, 56.1, 0.83] Fitness: 1.8698983950910268\n",
      "INFO [2020-05-06 18:23:15.584273] (ka_br_lvl3): Core core_[78.59, 56.1, 0.83] Fitness: 1.8698983950910268\n",
      "INFO [2020-05-06 18:23:17.481445] (bb): Selecting agent ka_rp_explore_2 (TV: 0.75) to execute (TE: 1660)\n",
      "INFO [2020-05-06 18:23:17.636722] (ka_br_lvl3): Core core_[78.59, 56.1, 0.83] Fitness: 1.8698983950910268\n",
      "INFO [2020-05-06 18:23:20.496301] (bb): Selecting agent ka_br_lvl3 (TV: 3) to execute (TE: 1661)\n",
      "INFO [2020-05-06 18:23:22.250851] (ka_br_lvl3): Core core_[69.56, 58.27, 1.0] Fitness: 1.4500306276928927\n",
      "INFO [2020-05-06 18:23:23.514071] (bb): Selecting agent ka_rp_explore_1 (TV: 0.75) to execute (TE: 1662)\n",
      "INFO [2020-05-06 18:23:23.670417] (ka_br_lvl3): Core core_[69.56, 58.27, 1.0] Fitness: 1.4500306276928927\n",
      "INFO [2020-05-06 18:23:26.527003] (bb): Selecting agent ka_rp_explore_2 (TV: 0.75) to execute (TE: 1663)\n",
      "INFO [2020-05-06 18:23:26.679523] (ka_br_lvl3): Core core_[69.56, 58.27, 1.0] Fitness: 1.4500306276928927\n",
      "INFO [2020-05-06 18:23:29.544283] (bb): Selecting agent ka_br_lvl3 (TV: 3) to execute (TE: 1664)\n",
      "INFO [2020-05-06 18:23:31.356792] (ka_br_lvl3): Core core_[59.42, 68.12, 0.95] Fitness: 1.3383662181928617\n",
      "INFO [2020-05-06 18:23:32.552552] (bb): Selecting agent ka_br_lvl3 (TV: 3) to execute (TE: 1665)\n",
      "INFO [2020-05-06 18:23:35.403319] (ka_br_lvl3): Core core_[59.97, 68.9, 0.89] Fitness: 1.4593669960567102\n",
      "INFO [2020-05-06 18:23:35.564190] (bb): Selecting agent ka_rp_explore_1 (TV: 1.0) to execute (TE: 1666)\n",
      "INFO [2020-05-06 18:23:35.716483] (ka_br_lvl3): Core core_[59.97, 68.9, 0.89] Fitness: 1.4593669960567102\n",
      "INFO [2020-05-06 18:23:38.574970] (bb): Selecting agent ka_rp_explore_2 (TV: 1.0) to execute (TE: 1667)\n",
      "INFO [2020-05-06 18:23:38.726452] (ka_br_lvl3): Core core_[59.97, 68.9, 0.89] Fitness: 1.4593669960567102\n",
      "INFO [2020-05-06 18:23:41.589812] (bb): Selecting agent ka_rp_explore_1 (TV: 0.5) to execute (TE: 1668)\n",
      "INFO [2020-05-06 18:23:41.741091] (ka_br_lvl3): Core core_[59.97, 68.9, 0.89] Fitness: 1.4593669960567102\n",
      "INFO [2020-05-06 18:23:44.596259] (bb): Selecting agent ka_br_lvl3 (TV: 3) to execute (TE: 1669)\n",
      "INFO [2020-05-06 18:23:47.602532] (bb): Selecting agent ka_rp_explore_2 (TV: 0.75) to execute (TE: 1670)\n",
      "INFO [2020-05-06 18:23:48.588045] (ka_br_lvl3): Core core_[57.76, 64.87, 0.73] Fitness: 1.7824479897668513\n",
      "INFO [2020-05-06 18:23:48.724616] (ka_br_lvl3): Core core_[57.76, 64.87, 0.73] Fitness: 1.7824479897668513\n",
      "INFO [2020-05-06 18:23:50.618768] (bb): Selecting agent ka_br_lvl3 (TV: 3) to execute (TE: 1671)\n",
      "INFO [2020-05-06 18:24:13.995352] (ka_br_lvl3): Core core_[57.41, 68.25, 0.47] Fitness: 2.2915008943877586\n",
      "INFO [2020-05-06 18:24:14.132917] (bb): Selecting agent ka_rp_explore_1 (TV: 1.0) to execute (TE: 1672)\n",
      "INFO [2020-05-06 18:24:14.311030] (ka_br_lvl3): Core core_[57.41, 68.25, 0.47] Fitness: 2.2915008943877586\n",
      "INFO [2020-05-06 18:24:17.150634] (bb): Selecting agent ka_rp_explore_2 (TV: 0.75) to execute (TE: 1673)\n",
      "INFO [2020-05-06 18:24:17.397579] (ka_br_lvl3): Core core_[57.41, 68.25, 0.47] Fitness: 2.2915008943877586\n",
      "INFO [2020-05-06 18:24:20.504930] (bb): Selecting agent ka_br_lvl3 (TV: 3) to execute (TE: 1674)\n",
      "INFO [2020-05-06 18:24:23.602607] (bb): Selecting agent ka_rp_explore_1 (TV: 0.75) to execute (TE: 1675)\n",
      "INFO [2020-05-06 18:24:23.833903] (ka_br_lvl3): Core core_[78.89, 65.56, 0.43] Fitness: 2.498770389190165\n",
      "INFO [2020-05-06 18:24:24.583365] (ka_br_lvl3): Core core_[78.89, 65.56, 0.43] Fitness: 2.498770389190165\n",
      "INFO [2020-05-06 18:24:26.845316] (bb): Selecting agent ka_rp_explore_2 (TV: 0.75) to execute (TE: 1676)\n",
      "INFO [2020-05-06 18:24:27.604486] (ka_br_lvl3): Core core_[78.89, 65.56, 0.43] Fitness: 2.498770389190165\n",
      "INFO [2020-05-06 19:01:42.130927] (bb): Selecting agent ka_rp_explore_1 (TV: 0.5) to execute (TE: 1677)\n",
      "INFO [2020-05-06 19:01:42.328563] (ka_br_lvl3): Core core_[78.89, 65.56, 0.43] Fitness: 2.498770389190165\n",
      "INFO [2020-05-06 19:01:45.140990] (bb): Selecting agent ka_br_lvl3 (TV: 3) to execute (TE: 1678)\n",
      "INFO [2020-05-06 19:01:48.150833] (bb): Selecting agent ka_rp_explore_2 (TV: 0.75) to execute (TE: 1679)\n",
      "INFO [2020-05-06 19:01:51.158918] (bb): Selecting agent ka_rp_explore_1 (TV: 0.75) to execute (TE: 1680)\n",
      "INFO [2020-05-06 19:01:54.022288] (ka_br_lvl3): Core core_[77.98, 59.3, 0.9] Fitness: 1.6351167715003143\n",
      "INFO [2020-05-06 19:01:54.175949] (bb): Selecting agent ka_rp_explore_2 (TV: 0.5) to execute (TE: 1681)\n",
      "INFO [2020-05-06 19:01:54.177570] (ka_br_lvl3): Core core_[77.98, 59.3, 0.9] Fitness: 1.6351167715003143\n",
      "INFO [2020-05-06 19:01:54.320990] (ka_br_lvl3): Core core_[77.98, 59.3, 0.9] Fitness: 1.6351167715003143\n",
      "INFO [2020-05-06 19:01:54.466652] (ka_br_lvl3): Core core_[77.98, 59.3, 0.9] Fitness: 1.6351167715003143\n",
      "INFO [2020-05-06 19:01:57.233066] (bb): Selecting agent ka_rp_explore_1 (TV: 0.5) to execute (TE: 1682)\n",
      "INFO [2020-05-06 19:01:57.392618] (ka_br_lvl3): Core core_[77.98, 59.3, 0.9] Fitness: 1.6351167715003143\n",
      "INFO [2020-05-06 19:02:00.249065] (bb): Selecting agent ka_br_lvl3 (TV: 3) to execute (TE: 1683)\n",
      "INFO [2020-05-06 19:02:03.266937] (bb): Selecting agent ka_rp_explore_2 (TV: 0.75) to execute (TE: 1684)\n",
      "INFO [2020-05-06 19:02:04.176030] (ka_br_lvl3): Core core_[70.03, 58.66, 0.52] Fitness: 2.4283576224039907\n",
      "INFO [2020-05-06 19:02:04.370185] (ka_br_lvl3): Core core_[70.03, 58.66, 0.52] Fitness: 2.4283576224039907\n",
      "INFO [2020-05-06 19:02:06.283930] (bb): Selecting agent ka_rp_explore_1 (TV: 0.75) to execute (TE: 1685)\n",
      "INFO [2020-05-06 19:02:06.448737] (ka_br_lvl3): Core core_[70.03, 58.66, 0.52] Fitness: 2.4283576224039907\n",
      "INFO [2020-05-06 19:02:09.294941] (bb): Selecting agent ka_rp_explore_2 (TV: 0.5) to execute (TE: 1686)\n",
      "INFO [2020-05-06 19:02:09.449581] (ka_br_lvl3): Core core_[70.03, 58.66, 0.52] Fitness: 2.4283576224039907\n",
      "INFO [2020-05-06 19:02:12.308060] (bb): Selecting agent ka_rp_explore_1 (TV: 0.5) to execute (TE: 1687)\n",
      "INFO [2020-05-06 19:02:12.470279] (ka_br_lvl3): Core core_[70.03, 58.66, 0.52] Fitness: 2.4283576224039907\n",
      "INFO [2020-05-06 19:02:15.319247] (bb): Selecting agent ka_rp_explore_2 (TV: 0.5) to execute (TE: 1688)\n",
      "INFO [2020-05-06 19:02:15.483168] (ka_br_lvl3): Core core_[70.03, 58.66, 0.52] Fitness: 2.4283576224039907\n",
      "INFO [2020-05-06 19:02:18.329829] (bb): Selecting agent ka_br_lvl3 (TV: 3) to execute (TE: 1689)\n",
      "INFO [2020-05-06 19:02:21.339254] (bb): Selecting agent ka_rp_explore_1 (TV: 0.75) to execute (TE: 1690)\n",
      "INFO [2020-05-06 19:02:24.348131] (bb): Selecting agent ka_rp_explore_2 (TV: 0.75) to execute (TE: 1691)\n",
      "INFO [2020-05-06 19:02:24.978133] (ka_br_lvl3): Core core_[65.04, 63.38, 0.68] Fitness: 2.0048915607416964\n",
      "INFO [2020-05-06 19:02:25.128052] (ka_br_lvl3): Core core_[65.04, 63.38, 0.68] Fitness: 2.0048915607416964\n",
      "INFO [2020-05-06 19:02:25.277977] (ka_br_lvl3): Core core_[65.04, 63.38, 0.68] Fitness: 2.0048915607416964\n"
     ]
    },
    {
     "name": "stdout",
     "output_type": "stream",
     "text": [
      "INFO [2020-05-06 19:02:27.358448] (bb): Selecting agent ka_rp_explore_1 (TV: 0.5) to execute (TE: 1692)\n",
      "INFO [2020-05-06 19:02:27.515888] (ka_br_lvl3): Core core_[65.04, 63.38, 0.68] Fitness: 2.0048915607416964\n",
      "INFO [2020-05-06 19:02:30.366229] (bb): Selecting agent ka_rp_explore_2 (TV: 0.5) to execute (TE: 1693)\n",
      "INFO [2020-05-06 19:02:30.520863] (ka_br_lvl3): Core core_[65.04, 63.38, 0.68] Fitness: 2.0048915607416964\n",
      "INFO [2020-05-06 19:02:33.376198] (bb): Selecting agent ka_rp_explore_1 (TV: 0.5) to execute (TE: 1694)\n",
      "INFO [2020-05-06 19:02:33.544317] (ka_br_lvl3): Core core_[65.04, 63.38, 0.68] Fitness: 2.0048915607416964\n",
      "INFO [2020-05-06 19:02:36.389442] (bb): Selecting agent ka_rp_explore_2 (TV: 0.5) to execute (TE: 1695)\n",
      "INFO [2020-05-06 19:02:36.545077] (ka_br_lvl3): Core core_[65.04, 63.38, 0.68] Fitness: 2.0048915607416964\n",
      "INFO [2020-05-06 19:02:39.401374] (bb): Selecting agent ka_rp_explore_1 (TV: 0.5) to execute (TE: 1696)\n",
      "INFO [2020-05-06 19:02:39.612329] (ka_br_lvl3): Core core_[65.04, 63.38, 0.68] Fitness: 2.0048915607416964\n",
      "INFO [2020-05-06 19:02:42.410937] (bb): Selecting agent ka_br_lvl3 (TV: 3) to execute (TE: 1697)\n",
      "INFO [2020-05-06 19:02:45.425154] (bb): Selecting agent ka_rp_explore_2 (TV: 0.75) to execute (TE: 1698)\n",
      "INFO [2020-05-06 19:02:46.337486] (ka_br_lvl3): Core core_[68.64, 69.45, 0.35] Fitness: 2.6844562964042784\n",
      "INFO [2020-05-06 19:02:46.476449] (ka_br_lvl3): Core core_[68.64, 69.45, 0.35] Fitness: 2.6844562964042784\n",
      "INFO [2020-05-06 19:02:48.435231] (bb): Selecting agent ka_rp_explore_1 (TV: 0.75) to execute (TE: 1699)\n",
      "INFO [2020-05-06 19:02:48.598577] (ka_br_lvl3): Core core_[68.64, 69.45, 0.35] Fitness: 2.6844562964042784\n",
      "INFO [2020-05-06 19:02:51.444083] (bb): Selecting agent ka_rp_explore_2 (TV: 0.5) to execute (TE: 1700)\n",
      "INFO [2020-05-06 19:02:51.598395] (ka_br_lvl3): Core core_[68.64, 69.45, 0.35] Fitness: 2.6844562964042784\n",
      "INFO [2020-05-06 19:02:54.451966] (bb): Selecting agent ka_rp_explore_1 (TV: 0.5) to execute (TE: 1701)\n",
      "INFO [2020-05-06 19:02:54.605921] (ka_br_lvl3): Core core_[68.64, 69.45, 0.35] Fitness: 2.6844562964042784\n",
      "INFO [2020-05-06 19:02:57.462336] (bb): Selecting agent ka_rp_explore_2 (TV: 0.5) to execute (TE: 1702)\n",
      "INFO [2020-05-06 19:02:57.671411] (ka_br_lvl3): Core core_[68.64, 69.45, 0.35] Fitness: 2.6844562964042784\n",
      "INFO [2020-05-06 19:03:00.474744] (bb): Selecting agent ka_br_lvl3 (TV: 3) to execute (TE: 1703)\n",
      "INFO [2020-05-06 19:03:03.303690] (ka_br_lvl3): Core core_[56.16, 68.24, 0.8] Fitness: 1.5906255441566879\n",
      "INFO [2020-05-06 19:03:03.485551] (bb): Selecting agent ka_rp_explore_1 (TV: 0.75) to execute (TE: 1704)\n",
      "INFO [2020-05-06 19:03:03.647211] (ka_br_lvl3): Core core_[56.16, 68.24, 0.8] Fitness: 1.5906255441566879\n",
      "INFO [2020-05-06 19:03:06.497931] (bb): Selecting agent ka_br_lvl3 (TV: 3) to execute (TE: 1705)\n",
      "INFO [2020-05-06 19:03:08.253149] (ka_br_lvl3): Core core_[68.47, 63.59, 0.69] Fitness: 1.9907522919762144\n",
      "INFO [2020-05-06 19:03:09.506729] (bb): Selecting agent ka_br_lvl3 (TV: 3) to execute (TE: 1706)\n",
      "INFO [2020-05-06 19:03:11.258107] (ka_br_lvl3): Core core_[79.18, 61.92, 0.37] Fitness: 2.817666247084527\n",
      "INFO [2020-05-06 19:03:12.518315] (bb): Selecting agent ka_br_lvl3 (TV: 3) to execute (TE: 1707)\n",
      "INFO [2020-05-06 19:03:15.530139] (bb): Selecting agent ka_rp_explore_2 (TV: 1.5) to execute (TE: 1708)\n",
      "INFO [2020-05-06 19:03:17.598745] (ka_br_lvl3): Core core_[78.64, 52.31, 0.67] Fitness: 2.3075274954422538\n",
      "INFO [2020-05-06 19:03:17.747956] (ka_br_lvl3): Core core_[78.64, 52.31, 0.67] Fitness: 2.3075274954422538\n",
      "INFO [2020-05-06 19:03:18.538601] (bb): Selecting agent ka_br_lvl3 (TV: 3) to execute (TE: 1709)\n",
      "INFO [2020-05-06 19:03:20.294921] (ka_br_lvl3): Core core_[72.61, 61.15, 0.78] Fitness: 1.8341110256594735\n",
      "INFO [2020-05-06 19:03:21.546556] (bb): Selecting agent ka_rp_explore_1 (TV: 1.5) to execute (TE: 1710)\n",
      "INFO [2020-05-06 19:03:21.714772] (ka_br_lvl3): Core core_[72.61, 61.15, 0.78] Fitness: 1.8341110256594735\n",
      "INFO [2020-05-06 19:03:24.556812] (bb): Selecting agent ka_br_lvl3 (TV: 3) to execute (TE: 1711)\n",
      "INFO [2020-05-06 19:03:27.565159] (bb): Selecting agent ka_rp_explore_2 (TV: 1.0) to execute (TE: 1712)\n",
      "INFO [2020-05-06 19:03:29.649160] (ka_br_lvl3): Core core_[75.56, 61.29, 0.7] Fitness: 2.021342676793821\n",
      "INFO [2020-05-06 19:03:29.796670] (ka_br_lvl3): Core core_[75.56, 61.29, 0.7] Fitness: 2.021342676793821\n",
      "INFO [2020-05-06 19:03:30.577965] (bb): Selecting agent ka_br_lvl3 (TV: 3) to execute (TE: 1713)\n",
      "INFO [2020-05-06 19:03:33.587091] (bb): Selecting agent ka_rp_explore_1 (TV: 1.0) to execute (TE: 1714)\n",
      "INFO [2020-05-06 19:03:35.623646] (ka_br_lvl3): Core core_[74.99, 56.91, 0.59] Fitness: 2.3814900155813765\n",
      "INFO [2020-05-06 19:03:35.825212] (ka_br_lvl3): Core core_[74.99, 56.91, 0.59] Fitness: 2.3814900155813765\n",
      "INFO [2020-05-06 19:03:36.596566] (bb): Selecting agent ka_br_lvl3 (TV: 3) to execute (TE: 1715)\n",
      "INFO [2020-05-06 19:03:38.354052] (ka_br_lvl3): Core core_[51.78, 66.83, 0.74] Fitness: 1.5987891045664964\n",
      "INFO [2020-05-06 19:03:39.605258] (bb): Selecting agent ka_rp_explore_2 (TV: 1.0) to execute (TE: 1716)\n",
      "INFO [2020-05-06 19:03:39.763247] (ka_br_lvl3): Core core_[51.78, 66.83, 0.74] Fitness: 1.5987891045664964\n",
      "INFO [2020-05-06 19:03:42.614490] (bb): Selecting agent ka_rp_explore_1 (TV: 0.75) to execute (TE: 1717)\n",
      "INFO [2020-05-06 19:03:42.775936] (ka_br_lvl3): Core core_[51.78, 66.83, 0.74] Fitness: 1.5987891045664964\n",
      "INFO [2020-05-06 19:03:45.624150] (bb): Selecting agent ka_rp_explore_2 (TV: 0.5) to execute (TE: 1718)\n",
      "INFO [2020-05-06 19:03:45.785013] (ka_br_lvl3): Core core_[51.78, 66.83, 0.74] Fitness: 1.5987891045664964\n",
      "INFO [2020-05-06 19:03:48.633447] (bb): Selecting agent ka_rp_explore_1 (TV: 0.5) to execute (TE: 1719)\n",
      "INFO [2020-05-06 19:03:48.792994] (ka_br_lvl3): Core core_[51.78, 66.83, 0.74] Fitness: 1.5987891045664964\n",
      "INFO [2020-05-06 19:03:51.646292] (bb): Selecting agent ka_br_lvl3 (TV: 3) to execute (TE: 1720)\n",
      "INFO [2020-05-06 19:03:54.555526] (ka_br_lvl3): Core core_[71.12, 55.68, 0.9] Fitness: 1.7033433532308608\n",
      "INFO [2020-05-06 19:03:54.655178] (bb): Selecting agent ka_rp_explore_2 (TV: 0.75) to execute (TE: 1721)\n",
      "INFO [2020-05-06 19:03:54.821034] (ka_br_lvl3): Core core_[71.12, 55.68, 0.9] Fitness: 1.7033433532308608\n",
      "INFO [2020-05-06 19:03:57.666991] (bb): Selecting agent ka_rp_explore_1 (TV: 0.75) to execute (TE: 1722)\n",
      "INFO [2020-05-06 19:03:57.829116] (ka_br_lvl3): Core core_[71.12, 55.68, 0.9] Fitness: 1.7033433532308608\n",
      "INFO [2020-05-06 19:04:00.680121] (bb): Selecting agent ka_br_lvl3 (TV: 3) to execute (TE: 1723)\n",
      "INFO [2020-05-06 19:04:03.538347] (ka_br_lvl3): Core core_[67.63, 61.35, 0.66] Fitness: 2.0904316729237897\n",
      "INFO [2020-05-06 19:04:03.689774] (bb): Selecting agent ka_rp_explore_2 (TV: 0.75) to execute (TE: 1724)\n",
      "INFO [2020-05-06 19:04:03.846601] (ka_br_lvl3): Core core_[67.63, 61.35, 0.66] Fitness: 2.0904316729237897\n",
      "INFO [2020-05-06 19:04:06.697048] (bb): Selecting agent ka_br_lvl3 (TV: 3) to execute (TE: 1725)\n",
      "INFO [2020-05-06 19:04:09.706013] (bb): Selecting agent ka_rp_explore_1 (TV: 1.0) to execute (TE: 1726)\n",
      "INFO [2020-05-06 19:04:12.718325] (bb): Selecting agent ka_rp_explore_2 (TV: 0.75) to execute (TE: 1727)\n",
      "INFO [2020-05-06 19:04:13.440343] (ka_br_lvl3): Core core_[74.5, 53.48, 0.9] Fitness: 1.7754256203887553\n",
      "INFO [2020-05-06 19:04:13.585026] (ka_br_lvl3): Core core_[74.5, 53.48, 0.9] Fitness: 1.7754256203887553\n",
      "INFO [2020-05-06 19:04:15.731770] (bb): Selecting agent ka_rp_explore_1 (TV: 0.5) to execute (TE: 1728)\n",
      "INFO [2020-05-06 19:04:15.892467] (ka_br_lvl3): Core core_[74.5, 53.48, 0.9] Fitness: 1.7754256203887553\n",
      "NS shut down.\n"
     ]
    }
   ],
   "source": [
    "ns = run_nameserver()\n",
    "bb = run_agent(name='bb', base=bb_sfr_opt.BbSfrOpt)\n",
    "bb.set_attr(desired_results={'cycle length': (180, 720), \n",
    "                             'reactivity swing': (540, 950), \n",
    "                             'burnup': (3.0, 5.5), \n",
    "                             'pu mass': (0, 1891)})\n",
    "bb.generate_sm()\n",
    "\n",
    "bb.connect_agent(karp.KaRpExplore, 'ka_rp_explore_1')\n",
    "bb.connect_agent(karp.KaRpExplore, 'ka_rp_explore_2')\n",
    "bb.connect_agent(karp.KaRpExploit, 'ka_rp_exploit')\n",
    "bb.connect_agent(kabr.KaBr_lvl2, 'ka_br_lvl2')\n",
    "bb.connect_agent(kabr.KaBr_lvl3, 'ka_br_lvl3')"
   ]
  },
  {
   "cell_type": "code",
   "execution_count": 3,
   "metadata": {},
   "outputs": [
    {
     "name": "stdout",
     "output_type": "stream",
     "text": [
      "Finished trigger event: 1\n",
      "Finished trigger event: 2\n",
      "Finished trigger event: 3\n",
      "Finished trigger event: 4\n",
      "Finished trigger event: 5\n",
      "Finished trigger event: 6\n",
      "Finished trigger event: 7\n",
      "Finished trigger event: 8\n",
      "Finished trigger event: 9\n",
      "Finished trigger event: 10\n",
      "Finished trigger event: 11\n",
      "Finished trigger event: 12\n",
      "Finished trigger event: 13\n",
      "Finished trigger event: 14\n",
      "Finished trigger event: 15\n",
      "Finished trigger event: 16\n",
      "Finished trigger event: 17\n",
      "Finished trigger event: 18\n",
      "Finished trigger event: 19\n",
      "Finished trigger event: 20\n",
      "Finished trigger event: 21\n",
      "Finished trigger event: 22\n",
      "Finished trigger event: 23\n",
      "Finished trigger event: 24\n",
      "Finished trigger event: 25\n",
      "Finished trigger event: 26\n",
      "Finished trigger event: 27\n",
      "Finished trigger event: 28\n",
      "Finished trigger event: 29\n",
      "Finished trigger event: 30\n",
      "Finished trigger event: 31\n",
      "Finished trigger event: 32\n",
      "Finished trigger event: 33\n",
      "Finished trigger event: 34\n",
      "Finished trigger event: 35\n",
      "Finished trigger event: 36\n",
      "Finished trigger event: 37\n",
      "Finished trigger event: 38\n",
      "Finished trigger event: 39\n",
      "Finished trigger event: 40\n",
      "Finished trigger event: 41\n",
      "Finished trigger event: 42\n",
      "Finished trigger event: 43\n",
      "Finished trigger event: 44\n",
      "Finished trigger event: 45\n",
      "Finished trigger event: 46\n",
      "Finished trigger event: 47\n",
      "Finished trigger event: 48\n",
      "Finished trigger event: 49\n",
      "Finished trigger event: 50\n",
      "Finished trigger event: 51\n",
      "Finished trigger event: 52\n",
      "Finished trigger event: 53\n",
      "Finished trigger event: 54\n",
      "Finished trigger event: 55\n",
      "Finished trigger event: 56\n",
      "Finished trigger event: 57\n",
      "Finished trigger event: 58\n",
      "Finished trigger event: 59\n",
      "Finished trigger event: 60\n",
      "Finished trigger event: 61\n",
      "Finished trigger event: 62\n",
      "Finished trigger event: 63\n",
      "Finished trigger event: 64\n",
      "Finished trigger event: 65\n",
      "Finished trigger event: 66\n",
      "Finished trigger event: 67\n",
      "Finished trigger event: 68\n",
      "Finished trigger event: 69\n",
      "Finished trigger event: 70\n",
      "Finished trigger event: 71\n",
      "Finished trigger event: 72\n",
      "Finished trigger event: 73\n",
      "Finished trigger event: 74\n",
      "Finished trigger event: 75\n",
      "Finished trigger event: 76\n",
      "Finished trigger event: 77\n",
      "Finished trigger event: 78\n",
      "Finished trigger event: 79\n",
      "Finished trigger event: 80\n",
      "Finished trigger event: 81\n",
      "Finished trigger event: 82\n",
      "Finished trigger event: 83\n",
      "Finished trigger event: 84\n",
      "Finished trigger event: 85\n",
      "Finished trigger event: 86\n",
      "Finished trigger event: 87\n",
      "Finished trigger event: 88\n",
      "Finished trigger event: 89\n",
      "Finished trigger event: 90\n",
      "Finished trigger event: 91\n",
      "Finished trigger event: 92\n",
      "Finished trigger event: 93\n",
      "Finished trigger event: 94\n",
      "Finished trigger event: 95\n",
      "Finished trigger event: 96\n",
      "Finished trigger event: 97\n",
      "Finished trigger event: 98\n",
      "Finished trigger event: 99\n",
      "Finished trigger event: 100\n",
      "Finished trigger event: 101\n",
      "Finished trigger event: 102\n",
      "Finished trigger event: 103\n",
      "Finished trigger event: 104\n",
      "Finished trigger event: 105\n",
      "Finished trigger event: 106\n",
      "Finished trigger event: 107\n",
      "Finished trigger event: 108\n",
      "Finished trigger event: 109\n",
      "Finished trigger event: 110\n",
      "Finished trigger event: 111\n",
      "Finished trigger event: 112\n",
      "Finished trigger event: 113\n",
      "Finished trigger event: 114\n",
      "Finished trigger event: 115\n",
      "Finished trigger event: 116\n",
      "Finished trigger event: 117\n",
      "Finished trigger event: 118\n",
      "Finished trigger event: 119\n",
      "Finished trigger event: 120\n",
      "Finished trigger event: 121\n",
      "Finished trigger event: 122\n",
      "Finished trigger event: 123\n",
      "Finished trigger event: 124\n",
      "Finished trigger event: 125\n",
      "Finished trigger event: 126\n",
      "Finished trigger event: 127\n",
      "Finished trigger event: 128\n",
      "Finished trigger event: 129\n",
      "Finished trigger event: 130\n",
      "Finished trigger event: 131\n",
      "Finished trigger event: 132\n",
      "Finished trigger event: 133\n",
      "Finished trigger event: 134\n",
      "Finished trigger event: 135\n",
      "Finished trigger event: 136\n",
      "Finished trigger event: 137\n",
      "Finished trigger event: 138\n",
      "Finished trigger event: 139\n",
      "Finished trigger event: 140\n",
      "Finished trigger event: 141\n",
      "Finished trigger event: 142\n",
      "Finished trigger event: 143\n",
      "Finished trigger event: 144\n",
      "Finished trigger event: 145\n",
      "Finished trigger event: 146\n",
      "Finished trigger event: 147\n",
      "Finished trigger event: 148\n",
      "Finished trigger event: 149\n",
      "Finished trigger event: 150\n",
      "Finished trigger event: 151\n",
      "Finished trigger event: 152\n",
      "Finished trigger event: 153\n",
      "Finished trigger event: 154\n",
      "Finished trigger event: 155\n",
      "Finished trigger event: 156\n",
      "Finished trigger event: 157\n",
      "Finished trigger event: 158\n",
      "Finished trigger event: 159\n",
      "Finished trigger event: 160\n",
      "Finished trigger event: 161\n",
      "Finished trigger event: 162\n",
      "Finished trigger event: 163\n",
      "Finished trigger event: 164\n",
      "Finished trigger event: 165\n",
      "Finished trigger event: 166\n",
      "Finished trigger event: 167\n",
      "Finished trigger event: 168\n",
      "Finished trigger event: 169\n",
      "Finished trigger event: 170\n",
      "Finished trigger event: 171\n",
      "Finished trigger event: 172\n",
      "Finished trigger event: 173\n",
      "Finished trigger event: 174\n",
      "Finished trigger event: 175\n",
      "Finished trigger event: 176\n",
      "Finished trigger event: 177\n",
      "Finished trigger event: 178\n",
      "Finished trigger event: 179\n",
      "Finished trigger event: 180\n",
      "Finished trigger event: 181\n",
      "Finished trigger event: 182\n",
      "Finished trigger event: 183\n",
      "Finished trigger event: 184\n",
      "Finished trigger event: 185\n",
      "Finished trigger event: 186\n",
      "Finished trigger event: 187\n",
      "Finished trigger event: 188\n",
      "Finished trigger event: 189\n",
      "Finished trigger event: 190\n",
      "Finished trigger event: 191\n",
      "Finished trigger event: 192\n",
      "Finished trigger event: 193\n",
      "Finished trigger event: 194\n",
      "Finished trigger event: 195\n",
      "Finished trigger event: 196\n",
      "Finished trigger event: 197\n",
      "Finished trigger event: 198\n",
      "Finished trigger event: 199\n",
      "Finished trigger event: 200\n",
      "Finished trigger event: 201\n",
      "Finished trigger event: 202\n",
      "Finished trigger event: 203\n",
      "Finished trigger event: 204\n",
      "Finished trigger event: 205\n",
      "Finished trigger event: 206\n",
      "Finished trigger event: 207\n",
      "Finished trigger event: 208\n",
      "Finished trigger event: 209\n",
      "Finished trigger event: 210\n",
      "Finished trigger event: 211\n",
      "Finished trigger event: 212\n",
      "Finished trigger event: 213\n",
      "Finished trigger event: 214\n",
      "Finished trigger event: 215\n",
      "Finished trigger event: 216\n",
      "Finished trigger event: 217\n",
      "Finished trigger event: 218\n",
      "Finished trigger event: 219\n",
      "Finished trigger event: 220\n",
      "Finished trigger event: 221\n",
      "Finished trigger event: 222\n",
      "Finished trigger event: 223\n",
      "Finished trigger event: 224\n",
      "Finished trigger event: 225\n",
      "Finished trigger event: 226\n",
      "Finished trigger event: 227\n",
      "Finished trigger event: 228\n",
      "Finished trigger event: 229\n",
      "Finished trigger event: 230\n",
      "Finished trigger event: 231\n",
      "Finished trigger event: 232\n",
      "Finished trigger event: 233\n",
      "Finished trigger event: 234\n",
      "Finished trigger event: 235\n",
      "Finished trigger event: 236\n",
      "Finished trigger event: 237\n",
      "Finished trigger event: 238\n",
      "Finished trigger event: 239\n",
      "Finished trigger event: 240\n",
      "Finished trigger event: 241\n",
      "Finished trigger event: 242\n",
      "Finished trigger event: 243\n",
      "Finished trigger event: 244\n",
      "Finished trigger event: 245\n",
      "Finished trigger event: 246\n",
      "Finished trigger event: 247\n",
      "Finished trigger event: 248\n",
      "Finished trigger event: 249\n",
      "Finished trigger event: 250\n",
      "Finished trigger event: 251\n",
      "Finished trigger event: 252\n",
      "Finished trigger event: 253\n",
      "Finished trigger event: 254\n",
      "Finished trigger event: 255\n",
      "Finished trigger event: 256\n",
      "Finished trigger event: 257\n",
      "Finished trigger event: 258\n",
      "Finished trigger event: 259\n",
      "Finished trigger event: 260\n",
      "Finished trigger event: 261\n",
      "Finished trigger event: 262\n",
      "Finished trigger event: 263\n",
      "Finished trigger event: 264\n",
      "Finished trigger event: 265\n",
      "Finished trigger event: 266\n",
      "Finished trigger event: 267\n",
      "Finished trigger event: 268\n",
      "Finished trigger event: 269\n",
      "Finished trigger event: 270\n",
      "Finished trigger event: 271\n",
      "Finished trigger event: 272\n",
      "Finished trigger event: 273\n",
      "Finished trigger event: 274\n",
      "Finished trigger event: 275\n",
      "Finished trigger event: 276\n",
      "Finished trigger event: 277\n",
      "Finished trigger event: 278\n",
      "Finished trigger event: 279\n",
      "Finished trigger event: 280\n",
      "Finished trigger event: 281\n",
      "Finished trigger event: 282\n",
      "Finished trigger event: 283\n",
      "Finished trigger event: 284\n",
      "Finished trigger event: 285\n",
      "Finished trigger event: 286\n",
      "Finished trigger event: 287\n",
      "Finished trigger event: 288\n",
      "Finished trigger event: 289\n",
      "Finished trigger event: 290\n",
      "Finished trigger event: 291\n",
      "Finished trigger event: 292\n",
      "Finished trigger event: 293\n",
      "Finished trigger event: 294\n",
      "Finished trigger event: 295\n",
      "Finished trigger event: 296\n",
      "Finished trigger event: 297\n"
     ]
    },
    {
     "name": "stdout",
     "output_type": "stream",
     "text": [
      "Finished trigger event: 298\n",
      "Finished trigger event: 299\n",
      "Finished trigger event: 300\n",
      "Finished trigger event: 301\n",
      "Finished trigger event: 302\n",
      "Finished trigger event: 303\n",
      "Finished trigger event: 304\n",
      "Finished trigger event: 305\n",
      "Finished trigger event: 306\n",
      "Finished trigger event: 307\n",
      "Finished trigger event: 308\n",
      "Finished trigger event: 309\n",
      "Finished trigger event: 310\n",
      "Finished trigger event: 311\n",
      "Finished trigger event: 312\n",
      "Finished trigger event: 313\n",
      "Finished trigger event: 314\n",
      "Finished trigger event: 315\n",
      "Finished trigger event: 316\n",
      "Finished trigger event: 317\n",
      "Finished trigger event: 318\n",
      "Finished trigger event: 319\n",
      "Finished trigger event: 320\n",
      "Finished trigger event: 321\n",
      "Finished trigger event: 322\n",
      "Finished trigger event: 323\n",
      "Finished trigger event: 324\n",
      "Finished trigger event: 325\n",
      "Finished trigger event: 326\n",
      "Finished trigger event: 327\n",
      "Finished trigger event: 328\n",
      "Finished trigger event: 329\n",
      "Finished trigger event: 330\n",
      "Finished trigger event: 331\n",
      "Finished trigger event: 332\n",
      "Finished trigger event: 333\n",
      "Finished trigger event: 334\n",
      "Finished trigger event: 335\n",
      "Finished trigger event: 336\n",
      "Finished trigger event: 337\n",
      "Finished trigger event: 338\n",
      "Finished trigger event: 339\n",
      "Finished trigger event: 340\n",
      "Finished trigger event: 341\n",
      "Finished trigger event: 342\n",
      "Finished trigger event: 343\n",
      "Finished trigger event: 344\n",
      "Finished trigger event: 345\n",
      "Finished trigger event: 346\n",
      "Finished trigger event: 347\n",
      "Finished trigger event: 348\n",
      "Finished trigger event: 349\n",
      "Finished trigger event: 350\n",
      "Finished trigger event: 351\n",
      "Finished trigger event: 352\n",
      "Finished trigger event: 353\n",
      "Finished trigger event: 354\n",
      "Finished trigger event: 355\n",
      "Finished trigger event: 356\n",
      "Finished trigger event: 357\n",
      "Finished trigger event: 358\n",
      "Finished trigger event: 359\n",
      "Finished trigger event: 360\n",
      "Finished trigger event: 361\n",
      "Finished trigger event: 362\n",
      "Finished trigger event: 363\n",
      "Finished trigger event: 364\n",
      "Finished trigger event: 365\n",
      "Finished trigger event: 366\n",
      "Finished trigger event: 367\n",
      "Finished trigger event: 368\n",
      "Finished trigger event: 369\n",
      "Finished trigger event: 370\n",
      "Finished trigger event: 371\n",
      "Finished trigger event: 372\n",
      "Finished trigger event: 373\n",
      "Finished trigger event: 374\n",
      "Finished trigger event: 375\n",
      "Finished trigger event: 376\n",
      "Finished trigger event: 377\n",
      "Finished trigger event: 378\n",
      "Finished trigger event: 379\n",
      "Finished trigger event: 380\n",
      "Finished trigger event: 381\n",
      "Finished trigger event: 382\n",
      "Finished trigger event: 383\n",
      "Finished trigger event: 384\n",
      "Finished trigger event: 385\n",
      "Finished trigger event: 386\n",
      "Finished trigger event: 387\n",
      "Finished trigger event: 388\n",
      "Finished trigger event: 389\n",
      "Finished trigger event: 390\n",
      "Finished trigger event: 391\n",
      "Finished trigger event: 392\n",
      "Finished trigger event: 393\n",
      "Finished trigger event: 394\n",
      "Finished trigger event: 395\n",
      "Finished trigger event: 396\n",
      "Finished trigger event: 397\n",
      "Finished trigger event: 398\n",
      "Finished trigger event: 399\n",
      "Finished trigger event: 400\n",
      "Finished trigger event: 401\n",
      "Finished trigger event: 402\n",
      "Finished trigger event: 403\n",
      "Finished trigger event: 404\n",
      "Finished trigger event: 405\n",
      "Finished trigger event: 406\n",
      "Finished trigger event: 407\n",
      "Finished trigger event: 408\n",
      "Finished trigger event: 409\n",
      "Finished trigger event: 410\n",
      "Finished trigger event: 411\n",
      "Finished trigger event: 412\n",
      "Finished trigger event: 413\n",
      "Finished trigger event: 414\n",
      "Finished trigger event: 415\n",
      "Finished trigger event: 416\n",
      "Finished trigger event: 417\n",
      "Finished trigger event: 418\n",
      "Finished trigger event: 419\n",
      "Finished trigger event: 420\n",
      "Finished trigger event: 421\n",
      "Finished trigger event: 422\n",
      "Finished trigger event: 423\n",
      "Finished trigger event: 424\n",
      "Finished trigger event: 425\n",
      "Finished trigger event: 426\n",
      "Finished trigger event: 427\n",
      "Finished trigger event: 428\n",
      "Finished trigger event: 429\n",
      "Finished trigger event: 430\n",
      "Finished trigger event: 431\n",
      "Finished trigger event: 432\n",
      "Finished trigger event: 433\n",
      "Finished trigger event: 434\n",
      "Finished trigger event: 435\n",
      "Finished trigger event: 436\n",
      "Finished trigger event: 437\n",
      "Finished trigger event: 438\n",
      "Finished trigger event: 439\n",
      "Finished trigger event: 440\n",
      "Finished trigger event: 441\n",
      "Finished trigger event: 442\n",
      "Finished trigger event: 443\n",
      "Finished trigger event: 444\n",
      "Finished trigger event: 445\n",
      "Finished trigger event: 446\n",
      "Finished trigger event: 447\n",
      "Finished trigger event: 448\n",
      "Finished trigger event: 449\n",
      "Finished trigger event: 450\n",
      "Finished trigger event: 451\n",
      "Finished trigger event: 452\n",
      "Finished trigger event: 453\n",
      "Finished trigger event: 454\n",
      "Finished trigger event: 455\n",
      "Finished trigger event: 456\n",
      "Finished trigger event: 457\n",
      "Finished trigger event: 458\n",
      "Finished trigger event: 459\n",
      "Finished trigger event: 460\n",
      "Finished trigger event: 461\n",
      "Finished trigger event: 462\n",
      "Finished trigger event: 463\n",
      "Finished trigger event: 464\n",
      "Finished trigger event: 465\n",
      "Finished trigger event: 466\n",
      "Finished trigger event: 467\n",
      "Finished trigger event: 468\n",
      "Finished trigger event: 469\n",
      "Finished trigger event: 470\n",
      "Finished trigger event: 471\n",
      "Finished trigger event: 472\n",
      "Finished trigger event: 473\n",
      "Finished trigger event: 474\n",
      "Finished trigger event: 475\n",
      "Finished trigger event: 476\n",
      "Finished trigger event: 477\n",
      "Finished trigger event: 478\n",
      "Finished trigger event: 479\n",
      "Finished trigger event: 480\n",
      "Finished trigger event: 481\n",
      "Finished trigger event: 482\n",
      "Finished trigger event: 483\n",
      "Finished trigger event: 484\n",
      "Finished trigger event: 485\n",
      "Finished trigger event: 486\n",
      "Finished trigger event: 487\n",
      "Finished trigger event: 488\n",
      "Finished trigger event: 489\n",
      "Finished trigger event: 490\n",
      "Finished trigger event: 491\n",
      "Finished trigger event: 492\n",
      "Finished trigger event: 493\n",
      "Finished trigger event: 494\n",
      "Finished trigger event: 495\n",
      "Finished trigger event: 496\n",
      "Finished trigger event: 497\n",
      "Finished trigger event: 498\n",
      "Finished trigger event: 499\n",
      "Finished trigger event: 500\n",
      "Finished trigger event: 501\n",
      "Finished trigger event: 502\n",
      "Finished trigger event: 503\n",
      "Finished trigger event: 504\n",
      "Finished trigger event: 505\n",
      "Finished trigger event: 506\n",
      "Finished trigger event: 507\n",
      "Finished trigger event: 508\n",
      "Finished trigger event: 509\n",
      "Finished trigger event: 510\n",
      "Finished trigger event: 511\n",
      "Finished trigger event: 512\n",
      "Finished trigger event: 513\n",
      "Finished trigger event: 514\n",
      "Finished trigger event: 515\n",
      "Finished trigger event: 516\n",
      "Finished trigger event: 517\n",
      "Finished trigger event: 518\n",
      "Finished trigger event: 519\n",
      "Finished trigger event: 520\n",
      "Finished trigger event: 521\n",
      "Finished trigger event: 522\n",
      "Finished trigger event: 523\n",
      "Finished trigger event: 524\n",
      "Finished trigger event: 525\n",
      "Finished trigger event: 526\n",
      "Finished trigger event: 527\n",
      "Finished trigger event: 528\n",
      "Finished trigger event: 529\n",
      "Finished trigger event: 530\n",
      "Finished trigger event: 531\n",
      "Finished trigger event: 532\n",
      "Finished trigger event: 533\n",
      "Finished trigger event: 534\n",
      "Finished trigger event: 535\n",
      "Finished trigger event: 536\n",
      "Finished trigger event: 537\n",
      "Finished trigger event: 538\n",
      "Finished trigger event: 539\n",
      "Finished trigger event: 540\n",
      "Finished trigger event: 541\n",
      "Finished trigger event: 542\n",
      "Finished trigger event: 543\n",
      "Finished trigger event: 544\n",
      "Finished trigger event: 545\n",
      "Finished trigger event: 546\n",
      "Finished trigger event: 547\n",
      "Finished trigger event: 548\n",
      "Finished trigger event: 549\n",
      "Finished trigger event: 550\n",
      "Finished trigger event: 551\n",
      "Finished trigger event: 552\n",
      "Finished trigger event: 553\n",
      "Finished trigger event: 554\n",
      "Finished trigger event: 555\n",
      "Finished trigger event: 556\n",
      "Finished trigger event: 557\n",
      "Finished trigger event: 558\n",
      "Finished trigger event: 559\n",
      "Finished trigger event: 560\n",
      "Finished trigger event: 561\n",
      "Finished trigger event: 562\n",
      "Finished trigger event: 563\n",
      "Finished trigger event: 564\n",
      "Finished trigger event: 565\n",
      "Finished trigger event: 566\n",
      "Finished trigger event: 567\n",
      "Finished trigger event: 568\n",
      "Finished trigger event: 569\n",
      "Finished trigger event: 570\n",
      "Finished trigger event: 571\n",
      "Finished trigger event: 572\n",
      "Finished trigger event: 573\n",
      "Finished trigger event: 574\n",
      "Finished trigger event: 575\n",
      "Finished trigger event: 576\n",
      "Finished trigger event: 577\n",
      "Finished trigger event: 578\n",
      "Finished trigger event: 579\n",
      "Finished trigger event: 580\n",
      "Finished trigger event: 581\n",
      "Finished trigger event: 582\n",
      "Finished trigger event: 583\n",
      "Finished trigger event: 584\n",
      "Finished trigger event: 585\n",
      "Finished trigger event: 586\n",
      "Finished trigger event: 587\n",
      "Finished trigger event: 588\n",
      "Finished trigger event: 589\n",
      "Finished trigger event: 590\n"
     ]
    },
    {
     "name": "stdout",
     "output_type": "stream",
     "text": [
      "Finished trigger event: 591\n",
      "Finished trigger event: 592\n",
      "Finished trigger event: 593\n",
      "Finished trigger event: 594\n",
      "Finished trigger event: 595\n",
      "Finished trigger event: 596\n",
      "Finished trigger event: 597\n",
      "Finished trigger event: 598\n",
      "Finished trigger event: 599\n",
      "Finished trigger event: 600\n",
      "Finished trigger event: 601\n",
      "Finished trigger event: 602\n",
      "Finished trigger event: 603\n",
      "Finished trigger event: 604\n",
      "Finished trigger event: 605\n",
      "Finished trigger event: 606\n",
      "Finished trigger event: 607\n",
      "Finished trigger event: 608\n",
      "Finished trigger event: 609\n",
      "Finished trigger event: 610\n",
      "Finished trigger event: 611\n",
      "Finished trigger event: 612\n",
      "Finished trigger event: 613\n",
      "Finished trigger event: 614\n",
      "Finished trigger event: 615\n",
      "Finished trigger event: 616\n",
      "Finished trigger event: 617\n",
      "Finished trigger event: 618\n",
      "Finished trigger event: 619\n",
      "Finished trigger event: 620\n",
      "Finished trigger event: 621\n",
      "Finished trigger event: 622\n",
      "Finished trigger event: 623\n",
      "Finished trigger event: 624\n",
      "Finished trigger event: 625\n",
      "Finished trigger event: 626\n",
      "Finished trigger event: 627\n",
      "Finished trigger event: 628\n",
      "Finished trigger event: 629\n",
      "Finished trigger event: 630\n",
      "Finished trigger event: 631\n",
      "Finished trigger event: 632\n",
      "Finished trigger event: 633\n",
      "Finished trigger event: 634\n",
      "Finished trigger event: 635\n",
      "Finished trigger event: 636\n",
      "Finished trigger event: 637\n",
      "Finished trigger event: 638\n",
      "Finished trigger event: 639\n",
      "Finished trigger event: 640\n",
      "Finished trigger event: 641\n",
      "Finished trigger event: 642\n",
      "Finished trigger event: 643\n",
      "Finished trigger event: 644\n",
      "Finished trigger event: 645\n",
      "Finished trigger event: 646\n",
      "Finished trigger event: 647\n",
      "Finished trigger event: 648\n",
      "Finished trigger event: 649\n",
      "Finished trigger event: 650\n",
      "Finished trigger event: 651\n",
      "Finished trigger event: 652\n",
      "Finished trigger event: 653\n",
      "Finished trigger event: 654\n",
      "Finished trigger event: 655\n",
      "Finished trigger event: 656\n",
      "Finished trigger event: 657\n",
      "Finished trigger event: 658\n",
      "Finished trigger event: 659\n",
      "Finished trigger event: 660\n",
      "Finished trigger event: 661\n",
      "Finished trigger event: 662\n",
      "Finished trigger event: 663\n",
      "Finished trigger event: 664\n",
      "Finished trigger event: 665\n",
      "Finished trigger event: 666\n",
      "Finished trigger event: 667\n",
      "Finished trigger event: 668\n",
      "Finished trigger event: 669\n",
      "Finished trigger event: 670\n",
      "Finished trigger event: 671\n",
      "Finished trigger event: 672\n",
      "Finished trigger event: 673\n",
      "Finished trigger event: 674\n",
      "Finished trigger event: 675\n",
      "Finished trigger event: 676\n",
      "Finished trigger event: 677\n",
      "Finished trigger event: 678\n",
      "Finished trigger event: 679\n",
      "Finished trigger event: 680\n",
      "Finished trigger event: 681\n",
      "Finished trigger event: 682\n",
      "Finished trigger event: 683\n",
      "Finished trigger event: 684\n",
      "Finished trigger event: 685\n",
      "Finished trigger event: 686\n",
      "Finished trigger event: 687\n",
      "Finished trigger event: 688\n",
      "Finished trigger event: 689\n",
      "Finished trigger event: 690\n",
      "Finished trigger event: 691\n",
      "Finished trigger event: 692\n",
      "Finished trigger event: 693\n",
      "Finished trigger event: 694\n",
      "Finished trigger event: 695\n",
      "Finished trigger event: 696\n",
      "Finished trigger event: 697\n",
      "Finished trigger event: 698\n",
      "Finished trigger event: 699\n",
      "Finished trigger event: 700\n",
      "Finished trigger event: 701\n",
      "Finished trigger event: 702\n",
      "Finished trigger event: 703\n",
      "Finished trigger event: 704\n",
      "Finished trigger event: 705\n",
      "Finished trigger event: 706\n",
      "Finished trigger event: 707\n",
      "Finished trigger event: 708\n",
      "Finished trigger event: 709\n",
      "Finished trigger event: 710\n",
      "Finished trigger event: 711\n",
      "Finished trigger event: 712\n",
      "Finished trigger event: 713\n",
      "Finished trigger event: 714\n",
      "Finished trigger event: 715\n",
      "Finished trigger event: 716\n",
      "Finished trigger event: 717\n",
      "Finished trigger event: 718\n",
      "Finished trigger event: 719\n",
      "Finished trigger event: 720\n",
      "Finished trigger event: 721\n",
      "Finished trigger event: 722\n",
      "Finished trigger event: 723\n",
      "Finished trigger event: 724\n",
      "Finished trigger event: 725\n",
      "Finished trigger event: 726\n",
      "Finished trigger event: 727\n",
      "Finished trigger event: 728\n",
      "Finished trigger event: 729\n",
      "Finished trigger event: 730\n",
      "Finished trigger event: 731\n",
      "Finished trigger event: 732\n",
      "Finished trigger event: 733\n",
      "Finished trigger event: 734\n",
      "Finished trigger event: 735\n",
      "Finished trigger event: 736\n",
      "Finished trigger event: 737\n",
      "Finished trigger event: 738\n",
      "Finished trigger event: 739\n",
      "Finished trigger event: 740\n",
      "Finished trigger event: 741\n",
      "Finished trigger event: 742\n",
      "Finished trigger event: 743\n",
      "Finished trigger event: 744\n",
      "Finished trigger event: 745\n",
      "Finished trigger event: 746\n",
      "Finished trigger event: 747\n",
      "Finished trigger event: 748\n",
      "Finished trigger event: 749\n",
      "Finished trigger event: 750\n",
      "Finished trigger event: 751\n",
      "Finished trigger event: 752\n",
      "Finished trigger event: 753\n",
      "Finished trigger event: 754\n",
      "Finished trigger event: 755\n",
      "Finished trigger event: 756\n",
      "Finished trigger event: 757\n",
      "Finished trigger event: 758\n",
      "Finished trigger event: 759\n",
      "Finished trigger event: 760\n",
      "Finished trigger event: 761\n",
      "Finished trigger event: 762\n",
      "Finished trigger event: 763\n",
      "Finished trigger event: 764\n",
      "Finished trigger event: 765\n",
      "Finished trigger event: 766\n",
      "Finished trigger event: 767\n",
      "Finished trigger event: 768\n",
      "Finished trigger event: 769\n",
      "Finished trigger event: 770\n",
      "Finished trigger event: 771\n",
      "Finished trigger event: 772\n",
      "Finished trigger event: 773\n",
      "Finished trigger event: 774\n",
      "Finished trigger event: 775\n",
      "Finished trigger event: 776\n",
      "Finished trigger event: 777\n",
      "Finished trigger event: 778\n",
      "Finished trigger event: 779\n",
      "Finished trigger event: 780\n",
      "Finished trigger event: 781\n",
      "Finished trigger event: 782\n",
      "Finished trigger event: 783\n",
      "Finished trigger event: 784\n",
      "Finished trigger event: 785\n",
      "Finished trigger event: 786\n",
      "Finished trigger event: 787\n",
      "Finished trigger event: 788\n",
      "Finished trigger event: 789\n",
      "Finished trigger event: 790\n",
      "Finished trigger event: 791\n",
      "Finished trigger event: 792\n",
      "Finished trigger event: 793\n",
      "Finished trigger event: 794\n",
      "Finished trigger event: 795\n",
      "Finished trigger event: 796\n",
      "Finished trigger event: 797\n",
      "Finished trigger event: 798\n",
      "Finished trigger event: 799\n",
      "Finished trigger event: 800\n",
      "Finished trigger event: 801\n",
      "Finished trigger event: 802\n",
      "Finished trigger event: 803\n",
      "Finished trigger event: 804\n",
      "Finished trigger event: 805\n",
      "Finished trigger event: 806\n",
      "Finished trigger event: 807\n",
      "Finished trigger event: 808\n",
      "Finished trigger event: 809\n",
      "Finished trigger event: 810\n",
      "Finished trigger event: 811\n",
      "Finished trigger event: 812\n",
      "Finished trigger event: 813\n",
      "Finished trigger event: 814\n",
      "Finished trigger event: 815\n",
      "Finished trigger event: 816\n",
      "Finished trigger event: 817\n",
      "Finished trigger event: 818\n",
      "Finished trigger event: 819\n",
      "Finished trigger event: 820\n",
      "Finished trigger event: 821\n",
      "Finished trigger event: 822\n",
      "Finished trigger event: 823\n",
      "Finished trigger event: 824\n",
      "Finished trigger event: 825\n",
      "Finished trigger event: 826\n",
      "Finished trigger event: 827\n",
      "Finished trigger event: 828\n",
      "Finished trigger event: 829\n",
      "Finished trigger event: 830\n",
      "Finished trigger event: 831\n",
      "Finished trigger event: 832\n",
      "Finished trigger event: 833\n",
      "Finished trigger event: 834\n",
      "Finished trigger event: 835\n",
      "Finished trigger event: 836\n",
      "Finished trigger event: 837\n",
      "Finished trigger event: 838\n",
      "Finished trigger event: 839\n",
      "Finished trigger event: 840\n",
      "Finished trigger event: 841\n",
      "Finished trigger event: 842\n",
      "Finished trigger event: 843\n",
      "Finished trigger event: 844\n",
      "Finished trigger event: 845\n",
      "Finished trigger event: 846\n",
      "Finished trigger event: 847\n",
      "Finished trigger event: 848\n",
      "Finished trigger event: 849\n",
      "Finished trigger event: 850\n",
      "Finished trigger event: 851\n",
      "Finished trigger event: 852\n",
      "Finished trigger event: 853\n",
      "Finished trigger event: 854\n",
      "Finished trigger event: 855\n",
      "Finished trigger event: 856\n",
      "Finished trigger event: 857\n",
      "Finished trigger event: 858\n",
      "Finished trigger event: 859\n",
      "Finished trigger event: 860\n",
      "Finished trigger event: 861\n",
      "Finished trigger event: 862\n",
      "Finished trigger event: 863\n",
      "Finished trigger event: 864\n",
      "Finished trigger event: 865\n",
      "Finished trigger event: 866\n",
      "Finished trigger event: 867\n",
      "Finished trigger event: 868\n",
      "Finished trigger event: 869\n",
      "Finished trigger event: 870\n",
      "Finished trigger event: 871\n",
      "Finished trigger event: 872\n",
      "Finished trigger event: 873\n",
      "Finished trigger event: 874\n",
      "Finished trigger event: 875\n",
      "Finished trigger event: 876\n",
      "Finished trigger event: 877\n",
      "Finished trigger event: 878\n",
      "Finished trigger event: 879\n",
      "Finished trigger event: 880\n",
      "Finished trigger event: 881\n",
      "Finished trigger event: 882\n",
      "Finished trigger event: 883\n"
     ]
    },
    {
     "name": "stdout",
     "output_type": "stream",
     "text": [
      "Finished trigger event: 884\n",
      "Finished trigger event: 885\n",
      "Finished trigger event: 886\n",
      "Finished trigger event: 887\n",
      "Finished trigger event: 888\n",
      "Finished trigger event: 889\n",
      "Finished trigger event: 890\n",
      "Finished trigger event: 891\n",
      "Finished trigger event: 892\n",
      "Finished trigger event: 893\n",
      "Finished trigger event: 894\n",
      "Finished trigger event: 895\n",
      "Finished trigger event: 896\n",
      "Finished trigger event: 897\n",
      "Finished trigger event: 898\n",
      "Finished trigger event: 899\n",
      "Finished trigger event: 900\n",
      "Finished trigger event: 901\n",
      "Finished trigger event: 902\n",
      "Finished trigger event: 903\n",
      "Finished trigger event: 904\n",
      "Finished trigger event: 905\n",
      "Finished trigger event: 906\n",
      "Finished trigger event: 907\n",
      "Finished trigger event: 908\n",
      "Finished trigger event: 909\n",
      "Finished trigger event: 910\n",
      "Finished trigger event: 911\n",
      "Finished trigger event: 912\n",
      "Finished trigger event: 913\n",
      "Finished trigger event: 914\n",
      "Finished trigger event: 915\n",
      "Finished trigger event: 916\n",
      "Finished trigger event: 917\n",
      "Finished trigger event: 918\n",
      "Finished trigger event: 919\n",
      "Finished trigger event: 920\n",
      "Finished trigger event: 921\n",
      "Finished trigger event: 922\n",
      "Finished trigger event: 923\n",
      "Finished trigger event: 924\n",
      "Finished trigger event: 925\n",
      "Finished trigger event: 926\n",
      "Finished trigger event: 927\n",
      "Finished trigger event: 928\n",
      "Finished trigger event: 929\n",
      "Finished trigger event: 930\n",
      "Finished trigger event: 931\n",
      "Finished trigger event: 932\n",
      "Finished trigger event: 933\n",
      "Finished trigger event: 934\n",
      "Finished trigger event: 935\n",
      "Finished trigger event: 936\n",
      "Finished trigger event: 937\n",
      "Finished trigger event: 938\n",
      "Finished trigger event: 939\n",
      "Finished trigger event: 940\n",
      "Finished trigger event: 941\n",
      "Finished trigger event: 942\n",
      "Finished trigger event: 943\n",
      "Finished trigger event: 944\n",
      "Finished trigger event: 945\n",
      "Finished trigger event: 946\n",
      "Finished trigger event: 947\n",
      "Finished trigger event: 948\n",
      "Finished trigger event: 949\n",
      "Finished trigger event: 950\n",
      "Finished trigger event: 951\n",
      "Finished trigger event: 952\n",
      "Finished trigger event: 953\n",
      "Finished trigger event: 954\n",
      "Finished trigger event: 955\n",
      "Finished trigger event: 956\n",
      "Finished trigger event: 957\n",
      "Finished trigger event: 958\n",
      "Finished trigger event: 959\n",
      "Finished trigger event: 960\n",
      "Finished trigger event: 961\n",
      "Finished trigger event: 962\n",
      "Finished trigger event: 963\n",
      "Finished trigger event: 964\n",
      "Finished trigger event: 965\n",
      "Finished trigger event: 966\n",
      "Finished trigger event: 967\n",
      "Finished trigger event: 968\n",
      "Finished trigger event: 969\n",
      "Finished trigger event: 970\n",
      "Finished trigger event: 971\n",
      "Finished trigger event: 972\n",
      "Finished trigger event: 973\n",
      "Finished trigger event: 974\n",
      "Finished trigger event: 975\n",
      "Finished trigger event: 976\n",
      "Finished trigger event: 977\n",
      "Finished trigger event: 978\n",
      "Finished trigger event: 979\n",
      "Finished trigger event: 980\n",
      "Finished trigger event: 981\n",
      "Finished trigger event: 982\n",
      "Finished trigger event: 983\n",
      "Finished trigger event: 984\n",
      "Finished trigger event: 985\n",
      "Finished trigger event: 986\n",
      "Finished trigger event: 987\n",
      "Finished trigger event: 988\n",
      "Finished trigger event: 989\n",
      "Finished trigger event: 990\n",
      "Finished trigger event: 991\n",
      "Finished trigger event: 992\n",
      "Finished trigger event: 993\n",
      "Finished trigger event: 994\n",
      "Finished trigger event: 995\n",
      "Finished trigger event: 996\n",
      "Finished trigger event: 997\n",
      "Finished trigger event: 998\n",
      "Finished trigger event: 999\n",
      "Finished trigger event: 1000\n",
      "Finished trigger event: 1001\n",
      "Finished trigger event: 1002\n",
      "Finished trigger event: 1003\n",
      "Finished trigger event: 1004\n",
      "Finished trigger event: 1005\n",
      "Finished trigger event: 1006\n",
      "Finished trigger event: 1007\n",
      "Finished trigger event: 1008\n",
      "Finished trigger event: 1009\n",
      "Finished trigger event: 1010\n",
      "Finished trigger event: 1011\n",
      "Finished trigger event: 1012\n",
      "Finished trigger event: 1013\n",
      "Finished trigger event: 1014\n",
      "Finished trigger event: 1015\n",
      "Finished trigger event: 1016\n",
      "Finished trigger event: 1017\n",
      "Finished trigger event: 1018\n",
      "Finished trigger event: 1019\n",
      "Finished trigger event: 1020\n",
      "Finished trigger event: 1021\n",
      "Finished trigger event: 1022\n",
      "Finished trigger event: 1023\n",
      "Finished trigger event: 1024\n",
      "Finished trigger event: 1025\n",
      "Finished trigger event: 1026\n",
      "Finished trigger event: 1027\n",
      "Finished trigger event: 1028\n",
      "Finished trigger event: 1029\n",
      "Finished trigger event: 1030\n",
      "Finished trigger event: 1031\n",
      "Finished trigger event: 1032\n",
      "Finished trigger event: 1033\n",
      "Finished trigger event: 1034\n",
      "Finished trigger event: 1035\n",
      "Finished trigger event: 1036\n",
      "Finished trigger event: 1037\n",
      "Finished trigger event: 1038\n",
      "Finished trigger event: 1039\n",
      "Finished trigger event: 1040\n",
      "Finished trigger event: 1041\n",
      "Finished trigger event: 1042\n",
      "Finished trigger event: 1043\n",
      "Finished trigger event: 1044\n",
      "Finished trigger event: 1045\n",
      "Finished trigger event: 1046\n",
      "Finished trigger event: 1047\n",
      "Finished trigger event: 1048\n",
      "Finished trigger event: 1049\n",
      "Finished trigger event: 1050\n",
      "Finished trigger event: 1051\n",
      "Finished trigger event: 1052\n",
      "Finished trigger event: 1053\n",
      "Finished trigger event: 1054\n",
      "Finished trigger event: 1055\n",
      "Finished trigger event: 1056\n",
      "Finished trigger event: 1057\n",
      "Finished trigger event: 1058\n",
      "Finished trigger event: 1059\n",
      "Finished trigger event: 1060\n",
      "Finished trigger event: 1061\n",
      "Finished trigger event: 1062\n",
      "Finished trigger event: 1063\n",
      "Finished trigger event: 1064\n",
      "Finished trigger event: 1065\n",
      "Finished trigger event: 1066\n",
      "Finished trigger event: 1067\n",
      "Finished trigger event: 1068\n",
      "Finished trigger event: 1069\n",
      "Finished trigger event: 1070\n",
      "Finished trigger event: 1071\n",
      "Finished trigger event: 1072\n",
      "Finished trigger event: 1073\n",
      "Finished trigger event: 1074\n",
      "Finished trigger event: 1075\n",
      "Finished trigger event: 1076\n",
      "Finished trigger event: 1077\n",
      "Finished trigger event: 1078\n",
      "Finished trigger event: 1079\n",
      "Finished trigger event: 1080\n",
      "Finished trigger event: 1081\n",
      "Finished trigger event: 1082\n",
      "Finished trigger event: 1083\n",
      "Finished trigger event: 1084\n",
      "Finished trigger event: 1085\n",
      "Finished trigger event: 1086\n",
      "Finished trigger event: 1087\n",
      "Finished trigger event: 1088\n",
      "Finished trigger event: 1089\n",
      "Finished trigger event: 1090\n",
      "Finished trigger event: 1091\n",
      "Finished trigger event: 1092\n",
      "Finished trigger event: 1093\n",
      "Finished trigger event: 1094\n",
      "Finished trigger event: 1095\n",
      "Finished trigger event: 1096\n",
      "Finished trigger event: 1097\n",
      "Finished trigger event: 1098\n",
      "Finished trigger event: 1099\n",
      "Finished trigger event: 1100\n",
      "Finished trigger event: 1101\n",
      "Finished trigger event: 1102\n",
      "Finished trigger event: 1103\n",
      "Finished trigger event: 1104\n",
      "Finished trigger event: 1105\n",
      "Finished trigger event: 1106\n",
      "Finished trigger event: 1107\n",
      "Finished trigger event: 1108\n",
      "Finished trigger event: 1109\n",
      "Finished trigger event: 1110\n",
      "Finished trigger event: 1111\n",
      "Finished trigger event: 1112\n",
      "Finished trigger event: 1113\n",
      "Finished trigger event: 1114\n",
      "Finished trigger event: 1115\n",
      "Finished trigger event: 1116\n",
      "Finished trigger event: 1117\n",
      "Finished trigger event: 1118\n",
      "Finished trigger event: 1119\n",
      "Finished trigger event: 1120\n",
      "Finished trigger event: 1121\n",
      "Finished trigger event: 1122\n",
      "Finished trigger event: 1123\n",
      "Finished trigger event: 1124\n",
      "Finished trigger event: 1125\n",
      "Finished trigger event: 1126\n",
      "Finished trigger event: 1127\n",
      "Finished trigger event: 1128\n",
      "Finished trigger event: 1129\n",
      "Finished trigger event: 1130\n",
      "Finished trigger event: 1131\n",
      "Finished trigger event: 1132\n",
      "Finished trigger event: 1133\n",
      "Finished trigger event: 1134\n",
      "Finished trigger event: 1135\n",
      "Finished trigger event: 1136\n",
      "Finished trigger event: 1137\n",
      "Finished trigger event: 1138\n",
      "Finished trigger event: 1139\n",
      "Finished trigger event: 1140\n",
      "Finished trigger event: 1141\n",
      "Finished trigger event: 1142\n",
      "Finished trigger event: 1143\n",
      "Finished trigger event: 1144\n",
      "Finished trigger event: 1145\n",
      "Finished trigger event: 1146\n",
      "Finished trigger event: 1147\n",
      "Finished trigger event: 1148\n",
      "Finished trigger event: 1149\n",
      "Finished trigger event: 1150\n",
      "Finished trigger event: 1151\n",
      "Finished trigger event: 1152\n",
      "Finished trigger event: 1153\n",
      "Finished trigger event: 1154\n",
      "Finished trigger event: 1155\n",
      "Finished trigger event: 1156\n",
      "Finished trigger event: 1157\n",
      "Finished trigger event: 1158\n",
      "Finished trigger event: 1159\n",
      "Finished trigger event: 1160\n",
      "Finished trigger event: 1161\n",
      "Finished trigger event: 1162\n",
      "Finished trigger event: 1163\n",
      "Finished trigger event: 1164\n",
      "Finished trigger event: 1165\n",
      "Finished trigger event: 1166\n",
      "Finished trigger event: 1167\n",
      "Finished trigger event: 1168\n",
      "Finished trigger event: 1169\n",
      "Finished trigger event: 1170\n"
     ]
    },
    {
     "name": "stdout",
     "output_type": "stream",
     "text": [
      "Finished trigger event: 1171\n",
      "Finished trigger event: 1172\n",
      "Finished trigger event: 1173\n",
      "Finished trigger event: 1174\n",
      "Finished trigger event: 1175\n",
      "Finished trigger event: 1176\n",
      "Finished trigger event: 1177\n",
      "Finished trigger event: 1178\n",
      "Finished trigger event: 1179\n",
      "Finished trigger event: 1180\n",
      "Finished trigger event: 1181\n",
      "Finished trigger event: 1182\n",
      "Finished trigger event: 1183\n",
      "Finished trigger event: 1184\n",
      "Finished trigger event: 1185\n",
      "Finished trigger event: 1186\n",
      "Finished trigger event: 1187\n",
      "Finished trigger event: 1188\n",
      "Finished trigger event: 1189\n",
      "Finished trigger event: 1190\n",
      "Finished trigger event: 1191\n",
      "Finished trigger event: 1192\n",
      "Finished trigger event: 1193\n",
      "Finished trigger event: 1194\n",
      "Finished trigger event: 1195\n",
      "Finished trigger event: 1196\n",
      "Finished trigger event: 1197\n",
      "Finished trigger event: 1198\n",
      "Finished trigger event: 1199\n",
      "Finished trigger event: 1200\n",
      "Finished trigger event: 1201\n",
      "Finished trigger event: 1202\n",
      "Finished trigger event: 1203\n",
      "Finished trigger event: 1204\n",
      "Finished trigger event: 1205\n",
      "Finished trigger event: 1206\n",
      "Finished trigger event: 1207\n",
      "Finished trigger event: 1208\n",
      "Finished trigger event: 1209\n",
      "Finished trigger event: 1210\n",
      "Finished trigger event: 1211\n",
      "Finished trigger event: 1212\n",
      "Finished trigger event: 1213\n",
      "Finished trigger event: 1214\n",
      "Finished trigger event: 1215\n",
      "Finished trigger event: 1216\n",
      "Finished trigger event: 1217\n",
      "Finished trigger event: 1218\n",
      "Finished trigger event: 1219\n",
      "Finished trigger event: 1220\n",
      "Finished trigger event: 1221\n",
      "Finished trigger event: 1222\n",
      "Finished trigger event: 1223\n",
      "Finished trigger event: 1224\n",
      "Finished trigger event: 1225\n",
      "Finished trigger event: 1226\n",
      "Finished trigger event: 1227\n",
      "Finished trigger event: 1228\n",
      "Finished trigger event: 1229\n",
      "Finished trigger event: 1230\n",
      "Finished trigger event: 1231\n",
      "Finished trigger event: 1232\n",
      "Finished trigger event: 1233\n",
      "Finished trigger event: 1234\n",
      "Finished trigger event: 1235\n",
      "Finished trigger event: 1236\n",
      "Finished trigger event: 1237\n",
      "Finished trigger event: 1238\n",
      "Finished trigger event: 1239\n",
      "Finished trigger event: 1240\n",
      "Finished trigger event: 1241\n",
      "Finished trigger event: 1242\n",
      "Finished trigger event: 1243\n",
      "Finished trigger event: 1244\n",
      "Finished trigger event: 1245\n",
      "Finished trigger event: 1246\n",
      "Finished trigger event: 1247\n",
      "Finished trigger event: 1248\n",
      "Finished trigger event: 1249\n",
      "Finished trigger event: 1250\n",
      "Finished trigger event: 1251\n",
      "Finished trigger event: 1252\n",
      "Finished trigger event: 1253\n",
      "Finished trigger event: 1254\n",
      "Finished trigger event: 1255\n",
      "Finished trigger event: 1256\n",
      "Finished trigger event: 1257\n",
      "Finished trigger event: 1258\n",
      "Finished trigger event: 1259\n",
      "Finished trigger event: 1260\n",
      "Finished trigger event: 1261\n",
      "Finished trigger event: 1262\n",
      "Finished trigger event: 1263\n",
      "Finished trigger event: 1264\n",
      "Finished trigger event: 1265\n",
      "Finished trigger event: 1266\n",
      "Finished trigger event: 1267\n",
      "Finished trigger event: 1268\n",
      "Finished trigger event: 1269\n",
      "Finished trigger event: 1270\n",
      "Finished trigger event: 1271\n",
      "Finished trigger event: 1272\n",
      "Finished trigger event: 1273\n",
      "Finished trigger event: 1274\n",
      "Finished trigger event: 1275\n",
      "Finished trigger event: 1276\n",
      "Finished trigger event: 1277\n",
      "Finished trigger event: 1278\n",
      "Finished trigger event: 1279\n",
      "Finished trigger event: 1280\n",
      "Finished trigger event: 1281\n",
      "Finished trigger event: 1282\n",
      "Finished trigger event: 1283\n",
      "Finished trigger event: 1284\n",
      "Finished trigger event: 1285\n",
      "Finished trigger event: 1286\n",
      "Finished trigger event: 1287\n",
      "Finished trigger event: 1288\n",
      "Finished trigger event: 1289\n",
      "Finished trigger event: 1290\n",
      "Finished trigger event: 1291\n",
      "Finished trigger event: 1292\n",
      "Finished trigger event: 1293\n",
      "Finished trigger event: 1294\n",
      "Finished trigger event: 1295\n",
      "Finished trigger event: 1296\n",
      "Finished trigger event: 1297\n",
      "Finished trigger event: 1298\n",
      "Finished trigger event: 1299\n",
      "Finished trigger event: 1300\n",
      "Finished trigger event: 1301\n",
      "Finished trigger event: 1302\n",
      "Finished trigger event: 1303\n",
      "Finished trigger event: 1304\n",
      "Finished trigger event: 1305\n",
      "Finished trigger event: 1306\n",
      "Finished trigger event: 1307\n",
      "Finished trigger event: 1308\n",
      "Finished trigger event: 1309\n",
      "Finished trigger event: 1310\n",
      "Finished trigger event: 1311\n",
      "Finished trigger event: 1312\n",
      "Finished trigger event: 1313\n",
      "Finished trigger event: 1314\n",
      "Finished trigger event: 1315\n",
      "Finished trigger event: 1316\n",
      "Finished trigger event: 1317\n",
      "Finished trigger event: 1318\n",
      "Finished trigger event: 1319\n",
      "Finished trigger event: 1320\n",
      "Finished trigger event: 1321\n",
      "Finished trigger event: 1322\n",
      "Finished trigger event: 1323\n",
      "Finished trigger event: 1324\n",
      "Finished trigger event: 1325\n",
      "Finished trigger event: 1326\n",
      "Finished trigger event: 1327\n",
      "Finished trigger event: 1328\n",
      "Finished trigger event: 1329\n",
      "Finished trigger event: 1330\n",
      "Finished trigger event: 1331\n",
      "Finished trigger event: 1332\n",
      "Finished trigger event: 1333\n",
      "Finished trigger event: 1334\n",
      "Finished trigger event: 1335\n",
      "Finished trigger event: 1336\n",
      "Finished trigger event: 1337\n",
      "Finished trigger event: 1338\n",
      "Finished trigger event: 1339\n",
      "Finished trigger event: 1340\n",
      "Finished trigger event: 1341\n",
      "Finished trigger event: 1342\n",
      "Finished trigger event: 1343\n",
      "Finished trigger event: 1344\n",
      "Finished trigger event: 1345\n",
      "Finished trigger event: 1346\n",
      "Finished trigger event: 1347\n",
      "Finished trigger event: 1348\n",
      "Finished trigger event: 1349\n",
      "Finished trigger event: 1350\n",
      "Finished trigger event: 1351\n",
      "Finished trigger event: 1352\n",
      "Finished trigger event: 1353\n",
      "Finished trigger event: 1354\n",
      "Finished trigger event: 1355\n",
      "Finished trigger event: 1356\n",
      "Finished trigger event: 1357\n",
      "Finished trigger event: 1358\n",
      "Finished trigger event: 1359\n",
      "Finished trigger event: 1360\n",
      "Finished trigger event: 1361\n",
      "Finished trigger event: 1362\n",
      "Finished trigger event: 1363\n",
      "Finished trigger event: 1364\n",
      "Finished trigger event: 1365\n",
      "Finished trigger event: 1366\n",
      "Finished trigger event: 1367\n",
      "Finished trigger event: 1368\n",
      "Finished trigger event: 1369\n",
      "Finished trigger event: 1370\n",
      "Finished trigger event: 1371\n",
      "Finished trigger event: 1372\n",
      "Finished trigger event: 1373\n",
      "Finished trigger event: 1374\n",
      "Finished trigger event: 1375\n",
      "Finished trigger event: 1376\n",
      "Finished trigger event: 1377\n",
      "Finished trigger event: 1378\n",
      "Finished trigger event: 1379\n",
      "Finished trigger event: 1380\n",
      "Finished trigger event: 1381\n",
      "Finished trigger event: 1382\n",
      "Finished trigger event: 1383\n",
      "Finished trigger event: 1384\n",
      "Finished trigger event: 1385\n",
      "Finished trigger event: 1386\n",
      "Finished trigger event: 1387\n",
      "Finished trigger event: 1388\n",
      "Finished trigger event: 1389\n",
      "Finished trigger event: 1390\n",
      "Finished trigger event: 1391\n",
      "Finished trigger event: 1392\n",
      "Finished trigger event: 1393\n",
      "Finished trigger event: 1394\n",
      "Finished trigger event: 1395\n",
      "Finished trigger event: 1396\n",
      "Finished trigger event: 1397\n",
      "Finished trigger event: 1398\n",
      "Finished trigger event: 1399\n",
      "Finished trigger event: 1400\n",
      "Finished trigger event: 1401\n",
      "Finished trigger event: 1402\n",
      "Finished trigger event: 1403\n",
      "Finished trigger event: 1404\n",
      "Finished trigger event: 1405\n",
      "Finished trigger event: 1406\n",
      "Finished trigger event: 1407\n",
      "Finished trigger event: 1408\n",
      "Finished trigger event: 1409\n",
      "Finished trigger event: 1410\n",
      "Finished trigger event: 1411\n",
      "Finished trigger event: 1412\n",
      "Finished trigger event: 1413\n",
      "Finished trigger event: 1414\n",
      "Finished trigger event: 1415\n",
      "Finished trigger event: 1416\n",
      "Finished trigger event: 1417\n",
      "Finished trigger event: 1418\n",
      "Finished trigger event: 1419\n",
      "Finished trigger event: 1420\n",
      "Finished trigger event: 1421\n",
      "Finished trigger event: 1422\n",
      "Finished trigger event: 1423\n",
      "Finished trigger event: 1424\n",
      "Finished trigger event: 1425\n",
      "Finished trigger event: 1426\n",
      "Finished trigger event: 1427\n",
      "Finished trigger event: 1428\n",
      "Finished trigger event: 1429\n",
      "Finished trigger event: 1430\n",
      "Finished trigger event: 1431\n",
      "Finished trigger event: 1432\n",
      "Finished trigger event: 1433\n",
      "Finished trigger event: 1434\n",
      "Finished trigger event: 1435\n",
      "Finished trigger event: 1436\n",
      "Finished trigger event: 1437\n",
      "Finished trigger event: 1438\n",
      "Finished trigger event: 1439\n",
      "Finished trigger event: 1440\n",
      "Finished trigger event: 1441\n",
      "Finished trigger event: 1442\n",
      "Finished trigger event: 1443\n",
      "Finished trigger event: 1444\n",
      "Finished trigger event: 1445\n",
      "Finished trigger event: 1446\n",
      "Finished trigger event: 1447\n",
      "Finished trigger event: 1448\n",
      "Finished trigger event: 1449\n",
      "Finished trigger event: 1450\n",
      "Finished trigger event: 1451\n",
      "Finished trigger event: 1452\n",
      "Finished trigger event: 1453\n"
     ]
    },
    {
     "name": "stdout",
     "output_type": "stream",
     "text": [
      "Finished trigger event: 1454\n",
      "Finished trigger event: 1455\n",
      "Finished trigger event: 1456\n",
      "Finished trigger event: 1457\n",
      "Finished trigger event: 1458\n",
      "Finished trigger event: 1459\n",
      "Finished trigger event: 1460\n",
      "Finished trigger event: 1461\n",
      "Finished trigger event: 1462\n",
      "Finished trigger event: 1463\n",
      "Finished trigger event: 1464\n",
      "Finished trigger event: 1465\n",
      "Finished trigger event: 1466\n",
      "Finished trigger event: 1467\n",
      "Finished trigger event: 1468\n",
      "Finished trigger event: 1469\n",
      "Finished trigger event: 1470\n",
      "Finished trigger event: 1471\n",
      "Finished trigger event: 1472\n",
      "Finished trigger event: 1473\n",
      "Finished trigger event: 1474\n",
      "Finished trigger event: 1475\n",
      "Finished trigger event: 1476\n",
      "Finished trigger event: 1477\n",
      "Finished trigger event: 1478\n",
      "Finished trigger event: 1479\n",
      "Finished trigger event: 1480\n",
      "Finished trigger event: 1481\n",
      "Finished trigger event: 1482\n",
      "Finished trigger event: 1483\n",
      "Finished trigger event: 1484\n",
      "Finished trigger event: 1485\n",
      "Finished trigger event: 1486\n",
      "Finished trigger event: 1487\n",
      "Finished trigger event: 1488\n",
      "Finished trigger event: 1489\n",
      "Finished trigger event: 1490\n",
      "Finished trigger event: 1491\n",
      "Finished trigger event: 1492\n",
      "Finished trigger event: 1493\n",
      "Finished trigger event: 1494\n",
      "Finished trigger event: 1495\n",
      "Finished trigger event: 1496\n",
      "Finished trigger event: 1497\n",
      "Finished trigger event: 1498\n",
      "Finished trigger event: 1499\n",
      "Finished trigger event: 1500\n",
      "Finished trigger event: 1501\n",
      "Finished trigger event: 1502\n",
      "Finished trigger event: 1503\n",
      "Finished trigger event: 1504\n",
      "Finished trigger event: 1505\n",
      "Finished trigger event: 1506\n",
      "Finished trigger event: 1507\n",
      "Finished trigger event: 1508\n",
      "Finished trigger event: 1509\n",
      "Finished trigger event: 1510\n",
      "Finished trigger event: 1511\n",
      "Finished trigger event: 1512\n",
      "Finished trigger event: 1513\n",
      "Finished trigger event: 1514\n",
      "Finished trigger event: 1515\n",
      "Finished trigger event: 1516\n",
      "Finished trigger event: 1517\n",
      "Finished trigger event: 1518\n",
      "Finished trigger event: 1519\n",
      "Finished trigger event: 1520\n",
      "Finished trigger event: 1521\n",
      "Finished trigger event: 1522\n",
      "Finished trigger event: 1523\n",
      "Finished trigger event: 1524\n",
      "Finished trigger event: 1525\n",
      "Finished trigger event: 1526\n",
      "Finished trigger event: 1527\n",
      "Finished trigger event: 1528\n",
      "Finished trigger event: 1529\n",
      "Finished trigger event: 1530\n",
      "Finished trigger event: 1531\n",
      "Finished trigger event: 1532\n",
      "Finished trigger event: 1533\n",
      "Finished trigger event: 1534\n",
      "Finished trigger event: 1535\n",
      "Finished trigger event: 1536\n",
      "Finished trigger event: 1537\n",
      "Finished trigger event: 1538\n",
      "Finished trigger event: 1539\n",
      "Finished trigger event: 1540\n",
      "Finished trigger event: 1541\n",
      "Finished trigger event: 1542\n",
      "Finished trigger event: 1543\n",
      "Finished trigger event: 1544\n",
      "Finished trigger event: 1545\n",
      "Finished trigger event: 1546\n",
      "Finished trigger event: 1547\n",
      "Finished trigger event: 1548\n",
      "Finished trigger event: 1549\n",
      "Finished trigger event: 1550\n",
      "Finished trigger event: 1551\n",
      "Finished trigger event: 1552\n",
      "Finished trigger event: 1553\n",
      "Finished trigger event: 1554\n",
      "Finished trigger event: 1555\n",
      "Finished trigger event: 1556\n",
      "Finished trigger event: 1557\n",
      "Finished trigger event: 1558\n",
      "Finished trigger event: 1559\n",
      "Finished trigger event: 1560\n",
      "Finished trigger event: 1561\n",
      "Finished trigger event: 1562\n",
      "Finished trigger event: 1563\n",
      "Finished trigger event: 1564\n",
      "Finished trigger event: 1565\n",
      "Finished trigger event: 1566\n",
      "Finished trigger event: 1567\n",
      "Finished trigger event: 1568\n",
      "Finished trigger event: 1569\n",
      "Finished trigger event: 1570\n",
      "Finished trigger event: 1571\n",
      "Finished trigger event: 1572\n",
      "Finished trigger event: 1573\n",
      "Finished trigger event: 1574\n",
      "Finished trigger event: 1575\n",
      "Finished trigger event: 1576\n",
      "Finished trigger event: 1577\n",
      "Finished trigger event: 1578\n",
      "Finished trigger event: 1579\n",
      "Finished trigger event: 1580\n",
      "Finished trigger event: 1581\n",
      "Finished trigger event: 1582\n",
      "Finished trigger event: 1583\n",
      "Finished trigger event: 1584\n",
      "Finished trigger event: 1585\n",
      "Finished trigger event: 1586\n",
      "Finished trigger event: 1587\n",
      "Finished trigger event: 1588\n",
      "Finished trigger event: 1589\n",
      "Finished trigger event: 1590\n",
      "Finished trigger event: 1591\n",
      "Finished trigger event: 1592\n",
      "Finished trigger event: 1593\n",
      "Finished trigger event: 1594\n",
      "Finished trigger event: 1595\n",
      "Finished trigger event: 1596\n",
      "Finished trigger event: 1597\n",
      "Finished trigger event: 1598\n",
      "Finished trigger event: 1599\n",
      "Finished trigger event: 1600\n",
      "Finished trigger event: 1601\n",
      "Finished trigger event: 1602\n",
      "Finished trigger event: 1603\n",
      "Finished trigger event: 1604\n",
      "Finished trigger event: 1605\n",
      "Finished trigger event: 1606\n",
      "Finished trigger event: 1607\n",
      "Finished trigger event: 1608\n",
      "Finished trigger event: 1609\n",
      "Finished trigger event: 1610\n",
      "Finished trigger event: 1611\n",
      "Finished trigger event: 1612\n",
      "Finished trigger event: 1613\n",
      "Finished trigger event: 1614\n",
      "Finished trigger event: 1615\n",
      "Finished trigger event: 1616\n",
      "Finished trigger event: 1617\n",
      "Finished trigger event: 1618\n",
      "Finished trigger event: 1619\n",
      "Finished trigger event: 1620\n",
      "Finished trigger event: 1621\n",
      "Finished trigger event: 1622\n",
      "Finished trigger event: 1623\n",
      "Finished trigger event: 1624\n",
      "Finished trigger event: 1625\n",
      "Finished trigger event: 1626\n",
      "Finished trigger event: 1627\n",
      "Finished trigger event: 1628\n",
      "Finished trigger event: 1629\n",
      "Finished trigger event: 1630\n",
      "Finished trigger event: 1631\n",
      "Finished trigger event: 1632\n",
      "Finished trigger event: 1633\n",
      "Finished trigger event: 1634\n",
      "Finished trigger event: 1635\n",
      "Finished trigger event: 1636\n",
      "Finished trigger event: 1637\n",
      "Finished trigger event: 1638\n",
      "Finished trigger event: 1639\n",
      "Finished trigger event: 1640\n",
      "Finished trigger event: 1641\n",
      "Finished trigger event: 1642\n",
      "Finished trigger event: 1643\n",
      "Finished trigger event: 1644\n",
      "Finished trigger event: 1645\n",
      "Finished trigger event: 1646\n",
      "Finished trigger event: 1647\n",
      "Finished trigger event: 1648\n",
      "Finished trigger event: 1649\n",
      "Finished trigger event: 1650\n",
      "Finished trigger event: 1651\n",
      "Finished trigger event: 1652\n",
      "Finished trigger event: 1653\n",
      "Finished trigger event: 1654\n",
      "Finished trigger event: 1655\n",
      "Finished trigger event: 1656\n",
      "Finished trigger event: 1657\n",
      "Finished trigger event: 1658\n",
      "Finished trigger event: 1659\n",
      "Finished trigger event: 1660\n",
      "Finished trigger event: 1661\n",
      "Finished trigger event: 1662\n",
      "Finished trigger event: 1663\n",
      "Finished trigger event: 1664\n",
      "Finished trigger event: 1665\n",
      "Finished trigger event: 1666\n",
      "Finished trigger event: 1667\n",
      "Finished trigger event: 1668\n",
      "Finished trigger event: 1669\n",
      "Finished trigger event: 1670\n",
      "Finished trigger event: 1671\n",
      "Finished trigger event: 1672\n",
      "Finished trigger event: 1673\n",
      "Finished trigger event: 1674\n",
      "Finished trigger event: 1675\n",
      "Finished trigger event: 1676\n",
      "Finished trigger event: 1677\n",
      "Finished trigger event: 1678\n",
      "Finished trigger event: 1679\n",
      "Finished trigger event: 1680\n",
      "Finished trigger event: 1681\n",
      "Finished trigger event: 1682\n",
      "Finished trigger event: 1683\n",
      "Finished trigger event: 1684\n",
      "Finished trigger event: 1685\n",
      "Finished trigger event: 1686\n",
      "Finished trigger event: 1687\n",
      "Finished trigger event: 1688\n",
      "Finished trigger event: 1689\n",
      "Finished trigger event: 1690\n",
      "Finished trigger event: 1691\n",
      "Finished trigger event: 1692\n",
      "Finished trigger event: 1693\n",
      "Finished trigger event: 1694\n",
      "Finished trigger event: 1695\n",
      "Finished trigger event: 1696\n",
      "Finished trigger event: 1697\n",
      "Finished trigger event: 1698\n",
      "Finished trigger event: 1699\n",
      "Finished trigger event: 1700\n",
      "Finished trigger event: 1701\n",
      "Finished trigger event: 1702\n",
      "Finished trigger event: 1703\n",
      "Finished trigger event: 1704\n",
      "Finished trigger event: 1705\n",
      "Finished trigger event: 1706\n",
      "Finished trigger event: 1707\n",
      "Finished trigger event: 1708\n",
      "Finished trigger event: 1709\n",
      "Finished trigger event: 1710\n",
      "Finished trigger event: 1711\n",
      "Finished trigger event: 1712\n",
      "Finished trigger event: 1713\n",
      "Finished trigger event: 1714\n",
      "Finished trigger event: 1715\n",
      "Finished trigger event: 1716\n",
      "Finished trigger event: 1717\n",
      "Finished trigger event: 1718\n",
      "Finished trigger event: 1719\n",
      "Finished trigger event: 1720\n",
      "Finished trigger event: 1721\n",
      "Finished trigger event: 1722\n",
      "Finished trigger event: 1723\n",
      "Finished trigger event: 1724\n",
      "Finished trigger event: 1725\n",
      "Finished trigger event: 1726\n",
      "Finished trigger event: 1727\n",
      "Finished trigger event: 1728\n"
     ]
    },
    {
     "ename": "KeyboardInterrupt",
     "evalue": "",
     "output_type": "error",
     "traceback": [
      "\u001b[0;31m---------------------------------------------------------------------------\u001b[0m",
      "\u001b[0;31mKeyboardInterrupt\u001b[0m                         Traceback (most recent call last)",
      "\u001b[0;32m<ipython-input-3-2be623e0ff35>\u001b[0m in \u001b[0;36m<module>\u001b[0;34m\u001b[0m\n\u001b[1;32m      1\u001b[0m \u001b[0;32mwhile\u001b[0m \u001b[0;32mnot\u001b[0m \u001b[0mbb\u001b[0m\u001b[0;34m.\u001b[0m\u001b[0mget_attr\u001b[0m\u001b[0;34m(\u001b[0m\u001b[0;34m'_complete'\u001b[0m\u001b[0;34m)\u001b[0m\u001b[0;34m:\u001b[0m\u001b[0;34m\u001b[0m\u001b[0;34m\u001b[0m\u001b[0m\n\u001b[1;32m      2\u001b[0m     \u001b[0mbb\u001b[0m\u001b[0;34m.\u001b[0m\u001b[0mpublish_trigger\u001b[0m\u001b[0;34m(\u001b[0m\u001b[0;34m)\u001b[0m\u001b[0;34m\u001b[0m\u001b[0;34m\u001b[0m\u001b[0m\n\u001b[0;32m----> 3\u001b[0;31m     \u001b[0mtime\u001b[0m\u001b[0;34m.\u001b[0m\u001b[0msleep\u001b[0m\u001b[0;34m(\u001b[0m\u001b[0;36m3\u001b[0m\u001b[0;34m)\u001b[0m\u001b[0;34m\u001b[0m\u001b[0;34m\u001b[0m\u001b[0m\n\u001b[0m\u001b[1;32m      4\u001b[0m     \u001b[0mbb\u001b[0m\u001b[0;34m.\u001b[0m\u001b[0mcontroller\u001b[0m\u001b[0;34m(\u001b[0m\u001b[0;34m)\u001b[0m\u001b[0;34m\u001b[0m\u001b[0;34m\u001b[0m\u001b[0m\n\u001b[1;32m      5\u001b[0m     \u001b[0mbb\u001b[0m\u001b[0;34m.\u001b[0m\u001b[0msend_executor\u001b[0m\u001b[0;34m(\u001b[0m\u001b[0;34m)\u001b[0m\u001b[0;34m\u001b[0m\u001b[0;34m\u001b[0m\u001b[0m\n",
      "\u001b[0;31mKeyboardInterrupt\u001b[0m: "
     ]
    }
   ],
   "source": [
    "while not bb.get_attr('_complete'):\n",
    "    bb.publish_trigger()\n",
    "    time.sleep(3)\n",
    "    bb.controller()\n",
    "    bb.send_executor()\n",
    "    bb.wait_for_ka()\n",
    "    bb.determine_complete()\n",
    "    print('Finished trigger event: {}'.format(bb.get_attr('_trigger_event')))    "
   ]
  },
  {
   "cell_type": "code",
   "execution_count": null,
   "metadata": {},
   "outputs": [],
   "source": []
  },
  {
   "cell_type": "code",
   "execution_count": null,
   "metadata": {},
   "outputs": [],
   "source": []
  }
 ],
 "metadata": {
  "kernelspec": {
   "display_name": "Python 3",
   "language": "python",
   "name": "python3"
  },
  "language_info": {
   "codemirror_mode": {
    "name": "ipython",
    "version": 3
   },
   "file_extension": ".py",
   "mimetype": "text/x-python",
   "name": "python",
   "nbconvert_exporter": "python",
   "pygments_lexer": "ipython3",
   "version": "3.7.3"
  },
  "latex_envs": {
   "LaTeX_envs_menu_present": true,
   "autoclose": false,
   "autocomplete": true,
   "bibliofile": "biblio.bib",
   "cite_by": "apalike",
   "current_citInitial": 1,
   "eqLabelWithNumbers": true,
   "eqNumInitial": 1,
   "hotkeys": {
    "equation": "Ctrl-E",
    "itemize": "Ctrl-I"
   },
   "labels_anchors": false,
   "latex_user_defs": false,
   "report_style_numbering": false,
   "user_envs_cfg": false
  }
 },
 "nbformat": 4,
 "nbformat_minor": 4
}
