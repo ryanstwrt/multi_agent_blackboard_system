{
 "cells": [
  {
   "cell_type": "code",
   "execution_count": 2,
   "metadata": {},
   "outputs": [],
   "source": [
    "import fridge\n",
    "import fridge.utilities.h5Interface as h5i\n",
    "import fridge.utilities.reactorInterface as RI\n",
    "import os\n",
    "import pickle\n",
    "\n",
    "from scipy.interpolate import interp1d as interp\n",
    "from matplotlib import pyplot as plt\n",
    "import plotly.express as px\n",
    "import plotly.graph_objects as go\n",
    "\n",
    "import osbrain\n",
    "from osbrain import run_nameserver\n",
    "from osbrain import run_agent\n",
    "from osbrain import logging\n",
    "import numpy as np\n",
    "import blackboard\n",
    "import ka\n",
    "import ka_rp as karp\n",
    "import ka_br as kabr\n",
    "import bb_sfr_opt\n",
    "import controller\n",
    "import time"
   ]
  },
  {
   "cell_type": "markdown",
   "metadata": {},
   "source": [
    "# SFR Optimization\n",
    "\n",
    "This example seeks to optimize a SFR design utilizing the blackboard framework.\n",
    "We start first by taking a look at the SFR design data using the `h5` add `reactor` interfaces built into `FRDIGe` [cite].\n",
    "For this we'll examine the objectives that will drive the optimization process: cycle length, plutonium mass, reactivity swing, and core average burnup.\n",
    "Upon examination, we note that we have removed a significant portion of the design space by ensuring that the reactor design has a cycle length greater than 0 days."
   ]
  },
  {
   "cell_type": "code",
   "execution_count": 6,
   "metadata": {},
   "outputs": [],
   "source": [
    "h5_interface = h5i.h5Interface()\n",
    "h5_interface.read_h5('/Users/ryanstewart/projects/sfr_database/SFR_DB.h5')"
   ]
  },
  {
   "cell_type": "code",
   "execution_count": 41,
   "metadata": {},
   "outputs": [
    {
     "name": "stdout",
     "output_type": "stream",
     "text": [
      "78\n"
     ]
    }
   ],
   "source": [
    "cycle_length_list = []\n",
    "rx_swing_list = []\n",
    "height = []\n",
    "smear = []\n",
    "pu_content = []\n",
    "bu = []\n",
    "pu_mass = []\n",
    "print(len(h5_interface.h5file.items()))\n",
    "for rx, core in h5_interface.h5file.items():\n",
    "    try:\n",
    "        rx_ = RI.reactorInterface(core)\n",
    "        cycle_length = rx_.extrapolate_value('keff', 'time', 1.0)\n",
    "        rx_swing = rx_.get_reactivity_swing(1.0, cycle_length)\n",
    "        rx_swing_per_day = rx_swing/cycle_length * 30\n",
    "        avg_bu = rx_.get_assembly_avg(cycle_length, 'burnup')\n",
    "        avg_bu_per_day = avg_bu/cycle_length * 100\n",
    "        pu = rx_.get_assembly_pu_mass() * 78 * 365 / (3 * cycle_length)\n",
    "        if cycle_length > 0:\n",
    "            height.append(rx_.rx['independent variables']['height'][0])\n",
    "            smear.append(rx_.rx['independent variables']['smear'][0])\n",
    "            pu_content.append(rx_.rx['independent variables']['pu_content'][0])\n",
    "            cycle_length_list.append(cycle_length)\n",
    "            rx_swing_list.append(rx_swing_per_day)\n",
    "            bu.append(avg_bu)\n",
    "            pu_mass.append(pu)\n",
    "    except (KeyError, TypeError):\n",
    "        print('didnt get {}'.format(core))"
   ]
  },
  {
   "cell_type": "code",
   "execution_count": 42,
   "metadata": {},
   "outputs": [
    {
     "name": "stdout",
     "output_type": "stream",
     "text": [
      "50.0 60.0 1.0 8228.0 60.0 12.0 1075.0\n",
      "50.0 70.0 0.75 5293.0 81.0 14.0 875.0\n",
      "50.0 70.0 1.0 2709.0 212.0 37.0 902.0\n",
      "50.0 80.0 0.56 3678.0 98.0 15.0 743.0\n",
      "50.0 80.0 0.75 2188.0 224.0 35.0 763.0\n",
      "50.0 80.0 1.0 1791.0 367.0 57.0 782.0\n",
      "55.0 55.0 0.88 6707.0 65.0 13.0 1053.0\n",
      "55.0 65.0 0.88 2133.0 240.0 42.0 866.0\n",
      "55.0 75.0 0.4 2650.0 101.0 15.0 706.0\n",
      "55.0 75.0 0.88 1399.0 423.0 63.0 738.0\n",
      "60.0 50.0 0.75 8039.0 46.0 9.0 1050.0\n",
      "60.0 50.0 1.0 2945.0 167.0 34.0 1062.0\n",
      "60.0 60.0 0.56 2626.0 124.0 21.0 826.0\n",
      "60.0 60.0 0.75 1812.0 243.0 42.0 852.0\n",
      "60.0 60.0 1.0 1565.0 378.0 65.0 868.0\n",
      "60.0 70.0 0.56 1204.0 315.0 47.0 703.0\n",
      "60.0 70.0 0.75 1162.0 443.0 65.0 724.0\n",
      "60.0 70.0 1.0 1168.0 591.0 87.0 739.0\n",
      "60.0 70.0 0.25 2451.0 69.0 10.0 675.0\n",
      "60.0 80.0 0.56 842.0 515.0 67.0 602.0\n",
      "60.0 80.0 0.75 891.0 660.0 85.0 614.0\n",
      "60.0 80.0 1.0 959.0 823.0 106.0 629.0\n",
      "60.0 80.0 0.25 784.0 247.0 32.0 573.0\n",
      "65.0 55.0 0.4 3794.0 61.0 11.0 804.0\n",
      "65.0 55.0 0.88 1434.0 357.0 62.0 858.0\n",
      "65.0 65.0 0.4 1008.0 271.0 40.0 676.0\n",
      "65.0 65.0 0.88 1019.0 594.0 87.0 719.0\n",
      "65.0 75.0 0.4 655.0 482.0 62.0 586.0\n",
      "65.0 75.0 0.88 814.0 859.0 109.0 602.0\n",
      "65.0 75.0 0.1 405.0 193.0 25.0 539.0\n",
      "70.0 50.0 0.56 1665.0 190.0 34.0 850.0\n",
      "70.0 50.0 0.75 1398.0 307.0 54.0 876.0\n",
      "70.0 50.0 1.0 1289.0 446.0 79.0 880.0\n",
      "70.0 60.0 0.56 862.0 440.0 65.0 695.0\n",
      "70.0 60.0 0.75 889.0 578.0 85.0 703.0\n",
      "70.0 60.0 1.0 959.0 720.0 106.0 729.0\n",
      "70.0 60.0 0.25 877.0 193.0 29.0 662.0\n",
      "70.0 70.0 0.56 640.0 691.0 88.0 593.0\n",
      "70.0 70.0 0.75 710.0 846.0 107.0 598.0\n",
      "70.0 70.0 1.0 794.0 1014.0 128.0 610.0\n",
      "70.0 70.0 0.25 460.0 429.0 55.0 557.0\n",
      "70.0 80.0 0.56 529.0 956.0 106.0 509.0\n",
      "70.0 80.0 0.75 631.0 1087.0 120.0 533.0\n",
      "70.0 80.0 1.0 712.0 1293.0 142.0 532.0\n",
      "70.0 80.0 0 0.0 57.0 6.0 479.0\n",
      "70.0 80.0 0.25 341.0 662.0 74.0 487.0\n"
     ]
    }
   ],
   "source": [
    "for s, h, p, pu, c, b, r in zip(smear, height, pu_content, pu_mass, cycle_length_list, bu, rx_swing_list):\n",
    "    print(s, h, round(p,2), round(pu,0), round(c,0), round(b,0), round(r,0))"
   ]
  },
  {
   "cell_type": "markdown",
   "metadata": {},
   "source": [
    "# Starting the Blackboard System"
   ]
  },
  {
   "cell_type": "code",
   "execution_count": 1,
   "metadata": {
    "scrolled": false
   },
   "outputs": [
    {
     "ename": "SyntaxError",
     "evalue": "invalid syntax (<ipython-input-1-33ea7c1c8e8e>, line 11)",
     "output_type": "error",
     "traceback": [
      "\u001b[0;36m  File \u001b[0;32m\"<ipython-input-1-33ea7c1c8e8e>\"\u001b[0;36m, line \u001b[0;32m11\u001b[0m\n\u001b[0;31m    'burnup': float,\"\"})\u001b[0m\n\u001b[0m                      ^\u001b[0m\n\u001b[0;31mSyntaxError\u001b[0m\u001b[0;31m:\u001b[0m invalid syntax\n"
     ]
    }
   ],
   "source": [
    "ns = run_nameserver()\n",
    "bb = run_agent(name='bb', base=bb_sfr_opt.BbSfrOpt)\n",
    "#bb.set_attr(objective_ranges={'cycle length': (50, 750), \n",
    "#                             'reactivity swing': (0, 750), \n",
    "#                             'burnup': (0, 16), \n",
    "#                             'pu mass': (0, 1000)})\n",
    "bb.set_attr(objective_ranges={'reactivity swing': (0, 750), \n",
    "                             'burnup': (0, 200),})\n",
    "bb.add_abstract_lvl(3, {'reactor parameters': {'height': float, \n",
    "                                               'smear': float, \n",
    "                                               'pu_content': float, \n",
    "                                               'reactivity swing': float, \n",
    "                                               'burnup': float,}})\n",
    "bb.add_panel(3, ['new','old'])\n",
    "bb.set_attr(objectives=['reactivity swing', 'burnup'])\n",
    "bb.set_attr(objective_goals={'reactivity swing': 'lt',\n",
    "                              'burnup':'gt'})\n",
    "\n",
    "#bb.set_attr(objective_ranges={'keff': (1.0, 1.3), \n",
    "#                             'doppler': (-1.5, 0), \n",
    "#                             'void': (-250, 0), \n",
    "#                             'pu_content': (0, 1.0)})\n",
    "#bb.add_abstract_lvl(3, {'reactor parameters': {'height': float, \n",
    "#                                               'smear': float, \n",
    "#                                               'pu_content': float, \n",
    "#                                               'keff': float, \n",
    "#                                               'doppler': float, \n",
    "#                                               'void': float}})\n",
    "#bb.add_panel(3, ['new','old'])\n",
    "\n",
    "#bb.set_attr(objectives=['keff', 'doppler', 'void', 'pu_content'])\n",
    "#bb.set_attr(objective_goals={'keff': 'gt',\n",
    "#                              'void':'lt',\n",
    "#                              'doppler': 'lt',\n",
    "#                              'pu_content': 'lt'})\n",
    "#bb.set_attr(problem='prelims')\n",
    "\n",
    "model = 'lr'\n",
    "with open('/Users/ryanstewart/projects/Dakota_Interface/GA_BB/sm_{}.pkl'.format(model), 'rb') as pickle_file:\n",
    "    sm_ga = pickle.load(pickle_file)\n",
    "bb.set_attr(sm_type=model)\n",
    "bb.set_attr(_sm=sm_ga)\n",
    "#bb.set_attr(_DEBUG=True)\n",
    "#bb.generate_sm()\n",
    "bb.set_attr(required_agents=[karp.KaRpExplore,karp.KaRpExploit,kabr.KaBr_lvl2,kabr.KaBr_lvl3])\n",
    "bb.connect_agent(karp.KaRpExplore, 'ka_rp_explore_1')\n",
    "bb.connect_agent(karp.KaRpExplore, 'ka_rp_explore_2')\n",
    "bb.connect_agent(karp.KaRpExploit, 'ka_rp_exploit')\n",
    "bb.connect_agent(kabr.KaBr_lvl2, 'ka_br_lvl2')\n",
    "bb.connect_agent(kabr.KaBr_lvl3, 'ka_br_lvl3')\n",
    "#ka = bb.get_attr('_proxy_server')\n",
    "#ka1 = ka.proxy('ka_rp_explore_1')\n",
    "#ka1.set_attr(_DEBUG=True)\n",
    "#ka1 = ka.proxy('ka_rp_explore_2')\n",
    "#ka1.set_attr(_DEBUG=True)\n",
    "\n",
    "#bb.connect_agent(kabr.KaBr_lvl3, 'ka_br_lvl3_2')\n",
    "#sm = bb.get_attr('_sm')\n",
    "#mse_score = sm.models[model]['mse_score']\n",
    "#print('MSE Score: {}'.format(mse_score))"
   ]
  },
  {
   "cell_type": "code",
   "execution_count": 5,
   "metadata": {},
   "outputs": [
    {
     "name": "stdout",
     "output_type": "stream",
     "text": [
      "0.24271961819367802\n",
      "0.08937285282748705\n",
      "0.19365672680083224\n",
      "0.1294654243241577\n",
      "0.11844519218721544\n",
      "0.08170566765995858\n"
     ]
    }
   ],
   "source": [
    "models = ['ann', 'lr', 'pr', 'mars' , 'gpr', 'rf']\n",
    "for model in models:\n",
    "    bb.set_attr(sm_type=model)\n",
    "    bb.generate_sm()\n",
    "    sm = bb.get_attr('_sm')\n",
    "    mse_score = sm.models[model]['mse_score']\n",
    "    print(mse_score)"
   ]
  },
  {
   "cell_type": "code",
   "execution_count": 5,
   "metadata": {},
   "outputs": [
    {
     "name": "stdout",
     "output_type": "stream",
     "text": [
      "waiting 0 (s) for ('ka_rp_explore_1', 0.5) i=0\n",
      "waiting 0 (s) for ('ka_rp_explore_2', 0.5) i=1\n",
      "waiting 0 (s) for ('ka_rp_explore_1', 0.5) i=2\n",
      "waiting 0 (s) for ('ka_rp_explore_2', 0.5) i=3\n",
      "waiting 0 (s) for ('ka_rp_explore_1', 0.5) i=4\n",
      "waiting 0 (s) for ('ka_rp_explore_2', 0.5) i=5\n",
      "waiting 0 (s) for ('ka_rp_explore_1', 0.5) i=6\n",
      "waiting 0 (s) for ('ka_rp_explore_2', 0.5) i=7\n",
      "waiting 0 (s) for ('ka_rp_explore_1', 0.5) i=8\n",
      "waiting 0 (s) for ('ka_rp_explore_2', 0.5) i=9\n",
      "waiting 0 (s) for ('ka_rp_explore_1', 0.5) i=10\n",
      "waiting 0 (s) for ('ka_rp_explore_2', 0.5) i=11\n",
      "waiting 0 (s) for ('ka_rp_explore_1', 0.5) i=12\n",
      "waiting 0 (s) for ('ka_rp_explore_2', 0.5) i=13\n",
      "waiting 0 (s) for ('ka_rp_explore_1', 0.5) i=14\n",
      "waiting 0 (s) for ('ka_rp_explore_2', 0.5) i=15\n",
      "waiting 0 (s) for ('ka_rp_explore_1', 0.5) i=16\n",
      "waiting 0 (s) for ('ka_rp_explore_2', 0.5) i=17\n",
      "waiting 0 (s) for ('ka_rp_explore_1', 0.5) i=18\n",
      "waiting 0 (s) for ('ka_rp_explore_2', 0.5) i=19\n",
      "waiting 0 (s) for ('ka_rp_explore_1', 0.5) i=20\n",
      "waiting 0 (s) for ('ka_rp_explore_2', 0.5) i=21\n",
      "waiting 0 (s) for ('ka_rp_explore_1', 0.5) i=22\n",
      "waiting 0 (s) for ('ka_rp_explore_2', 0.5) i=23\n",
      "waiting 0 (s) for ('ka_rp_explore_1', 0.5) i=24\n",
      "\n",
      "waiting 0 (s) for ('ka_rp_explore_2', 0.5) i=25\n",
      "waiting 0 (s) for ('ka_rp_explore_1', 0.5) i=26\n",
      "waiting 0 (s) for ('ka_rp_explore_2', 0.5) i=27\n",
      "waiting 0 (s) for ('ka_rp_explore_1', 0.5) i=28\n",
      "waiting 0 (s) for ('ka_rp_explore_2', 0.5) i=29\n",
      "waiting 0 (s) for ('ka_rp_explore_1', 0.5) i=30\n",
      "waiting 0 (s) for ('ka_rp_explore_2', 0.5) i=31\n",
      "waiting 0 (s) for ('ka_rp_explore_1', 0.5) i=32\n",
      "waiting 0 (s) for ('ka_rp_explore_2', 0.5) i=33\n",
      "waiting 0 (s) for ('ka_rp_explore_1', 0.5) i=34\n",
      "waiting 0 (s) for ('ka_rp_explore_2', 0.5) i=35\n",
      "waiting 0 (s) for ('ka_rp_explore_1', 0.5) i=36\n",
      "waiting 0 (s) for ('ka_rp_explore_2', 0.5) i=37\n",
      "waiting 0 (s) for ('ka_rp_explore_1', 0.5) i=38\n",
      "waiting 0 (s) for ('ka_rp_explore_2', 0.5) i=39\n",
      "waiting 0 (s) for ('ka_rp_explore_1', 0.5) i=40\n",
      "waiting 0 (s) for ('ka_rp_explore_2', 0.5) i=41\n",
      "waiting 0 (s) for ('ka_rp_explore_1', 0.5) i=42\n",
      "waiting 0 (s) for ('ka_rp_explore_2', 0.5) i=43\n",
      "waiting 0 (s) for ('ka_rp_explore_1', 0.5) i=44\n",
      "waiting 0 (s) for ('ka_rp_explore_2', 0.5) i=45\n",
      "waiting 0 (s) for ('ka_rp_explore_1', 0.5) i=46\n",
      "waiting 0 (s) for ('ka_rp_explore_2', 0.5) i=47\n",
      "waiting 0 (s) for ('ka_rp_explore_1', 0.5) i=48\n",
      "waiting 0 (s) for ('ka_rp_explore_2', 0.5) i=49\n",
      "\n",
      "waiting 0 (s) for ('ka_rp_explore_1', 0.5) i=50\n",
      "waiting 0 (s) for ('ka_rp_explore_2', 0.5) i=51\n",
      "waiting 0 (s) for ('ka_rp_explore_1', 0.5) i=52\n",
      "waiting 0 (s) for ('ka_rp_explore_2', 0.5) i=53\n",
      "waiting 0 (s) for ('ka_rp_explore_1', 0.5) i=54\n",
      "waiting 0 (s) for ('ka_rp_explore_2', 0.5) i=55\n",
      "waiting 0 (s) for ('ka_rp_explore_1', 0.5) i=56\n",
      "waiting 0 (s) for ('ka_rp_explore_2', 0.5) i=57\n",
      "waiting 0 (s) for ('ka_rp_explore_1', 0.5) i=58\n",
      "waiting 0 (s) for ('ka_rp_explore_2', 0.5) i=59\n",
      "waiting 0 (s) for ('ka_rp_explore_1', 0.5) i=60\n",
      "waiting 0 (s) for ('ka_rp_explore_2', 0.5) i=61\n",
      "waiting 0 (s) for ('ka_rp_explore_1', 0.5) i=62\n",
      "waiting 0 (s) for ('ka_rp_explore_2', 0.5) i=63\n",
      "waiting 0 (s) for ('ka_rp_explore_1', 0.5) i=64\n",
      "waiting 0 (s) for ('ka_rp_explore_2', 0.5) i=65\n",
      "waiting 0 (s) for ('ka_rp_explore_1', 0.5) i=66\n",
      "waiting 0 (s) for ('ka_rp_explore_2', 0.5) i=67\n",
      "waiting 0 (s) for ('ka_rp_explore_1', 0.5) i=68\n",
      "waiting 0 (s) for ('ka_rp_explore_2', 0.5) i=69\n"
     ]
    },
    {
     "ename": "KeyboardInterrupt",
     "evalue": "",
     "output_type": "error",
     "traceback": [
      "\u001b[0;31m---------------------------------------------------------------------------\u001b[0m",
      "\u001b[0;31mKeyboardInterrupt\u001b[0m                         Traceback (most recent call last)",
      "\u001b[0;32m<ipython-input-5-74d20fab626a>\u001b[0m in \u001b[0;36m<module>\u001b[0;34m\u001b[0m\n\u001b[1;32m      9\u001b[0m     \u001b[0mresponses\u001b[0m \u001b[0;34m=\u001b[0m \u001b[0;32mFalse\u001b[0m\u001b[0;34m\u001b[0m\u001b[0;34m\u001b[0m\u001b[0m\n\u001b[1;32m     10\u001b[0m     \u001b[0;32mwhile\u001b[0m \u001b[0;32mnot\u001b[0m \u001b[0mresponses\u001b[0m\u001b[0;34m:\u001b[0m\u001b[0;34m\u001b[0m\u001b[0;34m\u001b[0m\u001b[0m\n\u001b[0;32m---> 11\u001b[0;31m         \u001b[0mtime\u001b[0m\u001b[0;34m.\u001b[0m\u001b[0msleep\u001b[0m\u001b[0;34m(\u001b[0m\u001b[0;36m0.1\u001b[0m\u001b[0;34m)\u001b[0m\u001b[0;34m\u001b[0m\u001b[0;34m\u001b[0m\u001b[0m\n\u001b[0m\u001b[1;32m     12\u001b[0m         \u001b[0;32mif\u001b[0m \u001b[0mlen\u001b[0m\u001b[0;34m(\u001b[0m\u001b[0mbb\u001b[0m\u001b[0;34m.\u001b[0m\u001b[0mget_attr\u001b[0m\u001b[0;34m(\u001b[0m\u001b[0;34m'_kaar'\u001b[0m\u001b[0;34m)\u001b[0m\u001b[0;34m[\u001b[0m\u001b[0mtrig_num\u001b[0m\u001b[0;34m]\u001b[0m\u001b[0;34m)\u001b[0m \u001b[0;34m==\u001b[0m \u001b[0;36m5\u001b[0m\u001b[0;34m:\u001b[0m\u001b[0;34m\u001b[0m\u001b[0;34m\u001b[0m\u001b[0m\n\u001b[1;32m     13\u001b[0m             \u001b[0mresponses\u001b[0m \u001b[0;34m=\u001b[0m \u001b[0;32mTrue\u001b[0m\u001b[0;34m\u001b[0m\u001b[0;34m\u001b[0m\u001b[0m\n",
      "\u001b[0;31mKeyboardInterrupt\u001b[0m: "
     ]
    }
   ],
   "source": [
    "#while not bb.get_attr('_complete'):\n",
    "#    i=0\n",
    "#bb.connect_agent(kabr.KaBr_lvl3, 'ka_br_lvl3_2')\n",
    "bb.set_attr(total_solutions=50)\n",
    "for i in range(250):\n",
    "\n",
    "    bb.publish_trigger()\n",
    "    trig_num = bb.get_attr('_trigger_event')\n",
    "    responses = False\n",
    "    while not responses:\n",
    "        time.sleep(0.1)\n",
    "        if len(bb.get_attr('_kaar')[trig_num]) == 5:\n",
    "            responses = True\n",
    "    bb.controller()\n",
    "    bb.set_attr(_new_entry=False)\n",
    "    bb.send_executor()\n",
    "    time_sleep = 0\n",
    "#    bb.log_info((bb.get_attr('_new_entry'), i))\n",
    "    while bb.get_attr('_new_entry') == False:\n",
    "        print('waiting {} (s) for {} i={}'.format(round(time_sleep,2), bb.get_attr('_ka_to_execute'), i))\n",
    "        time.sleep(0.1)\n",
    "        time_sleep += 0.1\n",
    "        if time_sleep > 200:\n",
    "            break\n",
    "    if len(bb.get_attr('_kaar')) % 25 == 0:\n",
    "        bb.write_to_h5()\n",
    "        bb.plot_progress()\n",
    "        bb.diagnostics_replace_agent()\n",
    "        lvls = bb.get_attr('abstract_lvls')\n",
    "\n",
    "        try:\n",
    "            print('')\n",
    "            print('level 1 new: {}, old: {}, frac: {}'.format(len(lvls['level 1']['new']),len(lvls['level 1']['old']),len(lvls['level 1']['new'])/len(lvls['level 1']['old'])))\n",
    "            print('level 2 new: {}, old: {}, frac: {}'.format(len(lvls['level 2']['new']),len(lvls['level 2']['old']),len(lvls['level 2']['new'])/len(lvls['level 2']['old'])))\n",
    "            print('level 3 new: {}, old: {}, frac: {}'.format(len(lvls['level 3']['new']),len(lvls['level 3']['old']),len(lvls['level 3']['new'])/len(lvls['level 3']['old'])))\n",
    "            print('')\n",
    "        except:\n",
    "            pass\n",
    "    if bb.get_attr('_complete'):\n",
    "        break"
   ]
  },
  {
   "cell_type": "code",
   "execution_count": 7,
   "metadata": {},
   "outputs": [
    {
     "name": "stdout",
     "output_type": "stream",
     "text": [
      "304 377 224 345\n"
     ]
    }
   ],
   "source": [
    "br_lvl2 = 0\n",
    "br_lvl3 = 0\n",
    "rp_pert = 0\n",
    "rp_mc = 0\n",
    "for agents in bb.get_attr('_kaar').values():\n",
    "    val = 0\n",
    "    val_max = 0\n",
    "    for a, val in agents.items():\n",
    "        if val > val_max:\n",
    "            agent = a\n",
    "            val_max = val\n",
    "    if 'ka_br_lvl2' in agent:\n",
    "        br_lvl2 += 1\n",
    "    if 'ka_br_lvl3' in agent:\n",
    "        br_lvl3 += 1\n",
    "    if 'ka_rp_exploit' in agent:\n",
    "        rp_pert += 1\n",
    "    if 'ka_rp_explore' in agent:\n",
    "        rp_mc += 1\n",
    "        \n",
    "print(br_lvl2, br_lvl3, rp_pert, rp_mc)"
   ]
  },
  {
   "cell_type": "code",
   "execution_count": null,
   "metadata": {},
   "outputs": [],
   "source": [
    "kas = {'ka_rp_explore': ka_rp.KaRpExplore, \n",
    "       'ka_rp_exploit': ka_rp.KaRpExploit,\n",
    "       'ka_br_lvl3': ka_br.KaBr_lvl3,\n",
    "       'ka_br_lvl2': ka_br.KaBr_lvl2}\n",
    "bb_controller = controller.Controller(bb_name='bb', bb_type=bb_sfr.BbSfrOpt, ka=kas, archive='sfr_opt', agent_wait_time=20)\n",
    "bb_controller.bb.set_attr(total_solutions=50)\n",
    "    \n",
    "bb_controller.run_single_agent_bb()\n"
   ]
  }
 ],
 "metadata": {
  "kernelspec": {
   "display_name": "Python 3",
   "language": "python",
   "name": "python3"
  },
  "language_info": {
   "codemirror_mode": {
    "name": "ipython",
    "version": 3
   },
   "file_extension": ".py",
   "mimetype": "text/x-python",
   "name": "python",
   "nbconvert_exporter": "python",
   "pygments_lexer": "ipython3",
   "version": "3.7.3"
  },
  "latex_envs": {
   "LaTeX_envs_menu_present": true,
   "autoclose": false,
   "autocomplete": true,
   "bibliofile": "biblio.bib",
   "cite_by": "apalike",
   "current_citInitial": 1,
   "eqLabelWithNumbers": true,
   "eqNumInitial": 1,
   "hotkeys": {
    "equation": "Ctrl-E",
    "itemize": "Ctrl-I"
   },
   "labels_anchors": false,
   "latex_user_defs": false,
   "report_style_numbering": false,
   "user_envs_cfg": false
  }
 },
 "nbformat": 4,
 "nbformat_minor": 4
}
