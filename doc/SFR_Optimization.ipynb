{
 "cells": [
  {
   "cell_type": "code",
   "execution_count": 1,
   "metadata": {},
   "outputs": [],
   "source": [
    "import fridge\n",
    "import fridge.utilities.h5Interface as h5i\n",
    "import fridge.utilities.reactorInterface as RI\n",
    "import os\n",
    "\n",
    "from scipy.interpolate import interp1d as interp\n",
    "from matplotlib import pyplot as plt\n",
    "import plotly.express as px\n",
    "import plotly.graph_objects as go\n",
    "\n",
    "import osbrain\n",
    "from osbrain import run_nameserver\n",
    "from osbrain import run_agent\n",
    "from osbrain import logging\n",
    "import numpy as np\n",
    "import blackboard\n",
    "import ka\n",
    "import ka_rp as karp\n",
    "import ka_br as kabr\n",
    "import bb_sfr_opt\n",
    "import time"
   ]
  },
  {
   "cell_type": "markdown",
   "metadata": {},
   "source": [
    "# SFR Optimization\n",
    "\n",
    "This example seeks to optimize a SFR design utilizing the blackboard framework.\n",
    "We start first by taking a look at the SFR design data using the `h5` add `reactor` interfaces built into `FRDIGe` [cite].\n",
    "For this we'll examine the objectives that will drive the optimization process: cycle length, plutonium mass, reactivity swing, and core average burnup.\n",
    "Upon examination, we note that we have removed a significant portion of the design space by ensuring that the reactor design has a cycle length greater than 0 days."
   ]
  },
  {
   "cell_type": "code",
   "execution_count": 3,
   "metadata": {},
   "outputs": [],
   "source": [
    "h5_interface = h5i.h5Interface()\n",
    "h5_interface.read_h5('/Users/ryanstewart/projects/sfr_database/SFR_DB.h5')"
   ]
  },
  {
   "cell_type": "code",
   "execution_count": 8,
   "metadata": {},
   "outputs": [],
   "source": [
    "cycle_length_list = []\n",
    "rx_swing_list = []\n",
    "height = []\n",
    "smear = []\n",
    "pu_content = []\n",
    "bu = []\n",
    "pu_mass = []\n",
    "for rx, core in h5_interface.h5file.items():\n",
    "    try:\n",
    "        rx_ = RI.reactorInterface(core)\n",
    "        cycle_length = rx_.extrapolate_value('keff', 'time', 1.0)\n",
    "        rx_swing = rx_.get_reactivity_swing(1.0, cycle_length)\n",
    "        rx_swing_per_day = rx_swing/cycle_length * 30\n",
    "        avg_bu = rx_.get_assembly_avg(cycle_length, 'burnup')\n",
    "        avg_bu_per_day = avg_bu/cycle_length * 30\n",
    "        pu = rx_.get_assembly_pu_mass() * 78 / 4\n",
    "        if cycle_length > 180:\n",
    "            height.append(rx_.rx['independent variables']['height'][0])\n",
    "            smear.append(rx_.rx['independent variables']['smear'][0])\n",
    "            pu_content.append(rx_.rx['independent variables']['pu_content'][0])\n",
    "            cycle_length_list.append(cycle_length)\n",
    "            rx_swing_list.append(rx_swing_per_day)\n",
    "            bu.append(avg_bu_per_day)\n",
    "            pu_mass.append(pu)\n",
    "    except (KeyError, TypeError):\n",
    "        print('didnt get {}'.format(core))"
   ]
  },
  {
   "cell_type": "code",
   "execution_count": 9,
   "metadata": {
    "scrolled": false
   },
   "outputs": [
    {
     "data": {
      "application/vnd.plotly.v1+json": {
       "config": {
        "plotlyServerURL": "https://plot.ly"
       },
       "data": [
        {
         "hovertemplate": "Height (cm)=%{x}<br>Smear=%{y}<br>Cycle Length (days)=%{z}<br>Pu Fraction=%{marker.color}<extra></extra>",
         "legendgroup": "",
         "marker": {
          "color": [
           1,
           0.75,
           1,
           0.875,
           0.875,
           0.75,
           1,
           0.555555,
           0.75,
           1,
           0.555555,
           0.75,
           1,
           0.25,
           0.875,
           0.4,
           0.875,
           0.4,
           0.875,
           0.1,
           0.555555,
           0.75,
           1,
           0.555555,
           0.75,
           1,
           0.25,
           0.555555,
           0.75,
           1,
           0.25,
           0.555555,
           0.75,
           1,
           0.25
          ],
          "coloraxis": "coloraxis",
          "symbol": "circle"
         },
         "mode": "markers",
         "name": "",
         "scene": "scene",
         "showlegend": false,
         "type": "scatter3d",
         "x": [
          70,
          80,
          80,
          65,
          75,
          60,
          60,
          70,
          70,
          70,
          80,
          80,
          80,
          80,
          55,
          65,
          65,
          75,
          75,
          75,
          50,
          50,
          50,
          60,
          60,
          60,
          60,
          70,
          70,
          70,
          70,
          80,
          80,
          80,
          80
         ],
         "y": [
          50,
          50,
          50,
          55,
          55,
          60,
          60,
          60,
          60,
          60,
          60,
          60,
          60,
          60,
          65,
          65,
          65,
          65,
          65,
          65,
          70,
          70,
          70,
          70,
          70,
          70,
          70,
          70,
          70,
          70,
          70,
          70,
          70,
          70,
          70
         ],
         "z": [
          212.32833957553032,
          223.95451210564917,
          367.0816044260034,
          240.31755915317575,
          422.6773957571314,
          243.30916282135797,
          378.0830280830276,
          315.0193050193048,
          442.57246376811554,
          590.8653846153866,
          514.592658907791,
          660.1859678782757,
          822.5474683544314,
          246.71968190854875,
          357.36409608091077,
          271.3991769547327,
          594.4209039548033,
          481.7359855334528,
          858.7551867219967,
          193.48739495798316,
          189.80352303523043,
          306.6827212522581,
          446.15613825983314,
          439.77709454265994,
          578.3753709198829,
          720.0270635994584,
          193.08873720136535,
          691.3569576490896,
          845.6774729842065,
          1014.2968750000044,
          429.1543756145525,
          956.1274509803932,
          1086.794986571164,
          1293.0795847750853,
          661.8634886240491
         ]
        }
       ],
       "layout": {
        "coloraxis": {
         "colorbar": {
          "title": {
           "text": "Pu Fraction"
          }
         },
         "colorscale": [
          [
           0,
           "#0d0887"
          ],
          [
           0.1111111111111111,
           "#46039f"
          ],
          [
           0.2222222222222222,
           "#7201a8"
          ],
          [
           0.3333333333333333,
           "#9c179e"
          ],
          [
           0.4444444444444444,
           "#bd3786"
          ],
          [
           0.5555555555555556,
           "#d8576b"
          ],
          [
           0.6666666666666666,
           "#ed7953"
          ],
          [
           0.7777777777777778,
           "#fb9f3a"
          ],
          [
           0.8888888888888888,
           "#fdca26"
          ],
          [
           1,
           "#f0f921"
          ]
         ]
        },
        "legend": {
         "tracegroupgap": 0
        },
        "margin": {
         "t": 60
        },
        "scene": {
         "domain": {
          "x": [
           0,
           1
          ],
          "y": [
           0,
           1
          ]
         },
         "xaxis": {
          "title": {
           "text": "Height (cm)"
          }
         },
         "yaxis": {
          "title": {
           "text": "Smear"
          }
         },
         "zaxis": {
          "title": {
           "text": "Cycle Length (days)"
          }
         }
        },
        "template": {
         "data": {
          "bar": [
           {
            "error_x": {
             "color": "#2a3f5f"
            },
            "error_y": {
             "color": "#2a3f5f"
            },
            "marker": {
             "line": {
              "color": "#E5ECF6",
              "width": 0.5
             }
            },
            "type": "bar"
           }
          ],
          "barpolar": [
           {
            "marker": {
             "line": {
              "color": "#E5ECF6",
              "width": 0.5
             }
            },
            "type": "barpolar"
           }
          ],
          "carpet": [
           {
            "aaxis": {
             "endlinecolor": "#2a3f5f",
             "gridcolor": "white",
             "linecolor": "white",
             "minorgridcolor": "white",
             "startlinecolor": "#2a3f5f"
            },
            "baxis": {
             "endlinecolor": "#2a3f5f",
             "gridcolor": "white",
             "linecolor": "white",
             "minorgridcolor": "white",
             "startlinecolor": "#2a3f5f"
            },
            "type": "carpet"
           }
          ],
          "choropleth": [
           {
            "colorbar": {
             "outlinewidth": 0,
             "ticks": ""
            },
            "type": "choropleth"
           }
          ],
          "contour": [
           {
            "colorbar": {
             "outlinewidth": 0,
             "ticks": ""
            },
            "colorscale": [
             [
              0,
              "#0d0887"
             ],
             [
              0.1111111111111111,
              "#46039f"
             ],
             [
              0.2222222222222222,
              "#7201a8"
             ],
             [
              0.3333333333333333,
              "#9c179e"
             ],
             [
              0.4444444444444444,
              "#bd3786"
             ],
             [
              0.5555555555555556,
              "#d8576b"
             ],
             [
              0.6666666666666666,
              "#ed7953"
             ],
             [
              0.7777777777777778,
              "#fb9f3a"
             ],
             [
              0.8888888888888888,
              "#fdca26"
             ],
             [
              1,
              "#f0f921"
             ]
            ],
            "type": "contour"
           }
          ],
          "contourcarpet": [
           {
            "colorbar": {
             "outlinewidth": 0,
             "ticks": ""
            },
            "type": "contourcarpet"
           }
          ],
          "heatmap": [
           {
            "colorbar": {
             "outlinewidth": 0,
             "ticks": ""
            },
            "colorscale": [
             [
              0,
              "#0d0887"
             ],
             [
              0.1111111111111111,
              "#46039f"
             ],
             [
              0.2222222222222222,
              "#7201a8"
             ],
             [
              0.3333333333333333,
              "#9c179e"
             ],
             [
              0.4444444444444444,
              "#bd3786"
             ],
             [
              0.5555555555555556,
              "#d8576b"
             ],
             [
              0.6666666666666666,
              "#ed7953"
             ],
             [
              0.7777777777777778,
              "#fb9f3a"
             ],
             [
              0.8888888888888888,
              "#fdca26"
             ],
             [
              1,
              "#f0f921"
             ]
            ],
            "type": "heatmap"
           }
          ],
          "heatmapgl": [
           {
            "colorbar": {
             "outlinewidth": 0,
             "ticks": ""
            },
            "colorscale": [
             [
              0,
              "#0d0887"
             ],
             [
              0.1111111111111111,
              "#46039f"
             ],
             [
              0.2222222222222222,
              "#7201a8"
             ],
             [
              0.3333333333333333,
              "#9c179e"
             ],
             [
              0.4444444444444444,
              "#bd3786"
             ],
             [
              0.5555555555555556,
              "#d8576b"
             ],
             [
              0.6666666666666666,
              "#ed7953"
             ],
             [
              0.7777777777777778,
              "#fb9f3a"
             ],
             [
              0.8888888888888888,
              "#fdca26"
             ],
             [
              1,
              "#f0f921"
             ]
            ],
            "type": "heatmapgl"
           }
          ],
          "histogram": [
           {
            "marker": {
             "colorbar": {
              "outlinewidth": 0,
              "ticks": ""
             }
            },
            "type": "histogram"
           }
          ],
          "histogram2d": [
           {
            "colorbar": {
             "outlinewidth": 0,
             "ticks": ""
            },
            "colorscale": [
             [
              0,
              "#0d0887"
             ],
             [
              0.1111111111111111,
              "#46039f"
             ],
             [
              0.2222222222222222,
              "#7201a8"
             ],
             [
              0.3333333333333333,
              "#9c179e"
             ],
             [
              0.4444444444444444,
              "#bd3786"
             ],
             [
              0.5555555555555556,
              "#d8576b"
             ],
             [
              0.6666666666666666,
              "#ed7953"
             ],
             [
              0.7777777777777778,
              "#fb9f3a"
             ],
             [
              0.8888888888888888,
              "#fdca26"
             ],
             [
              1,
              "#f0f921"
             ]
            ],
            "type": "histogram2d"
           }
          ],
          "histogram2dcontour": [
           {
            "colorbar": {
             "outlinewidth": 0,
             "ticks": ""
            },
            "colorscale": [
             [
              0,
              "#0d0887"
             ],
             [
              0.1111111111111111,
              "#46039f"
             ],
             [
              0.2222222222222222,
              "#7201a8"
             ],
             [
              0.3333333333333333,
              "#9c179e"
             ],
             [
              0.4444444444444444,
              "#bd3786"
             ],
             [
              0.5555555555555556,
              "#d8576b"
             ],
             [
              0.6666666666666666,
              "#ed7953"
             ],
             [
              0.7777777777777778,
              "#fb9f3a"
             ],
             [
              0.8888888888888888,
              "#fdca26"
             ],
             [
              1,
              "#f0f921"
             ]
            ],
            "type": "histogram2dcontour"
           }
          ],
          "mesh3d": [
           {
            "colorbar": {
             "outlinewidth": 0,
             "ticks": ""
            },
            "type": "mesh3d"
           }
          ],
          "parcoords": [
           {
            "line": {
             "colorbar": {
              "outlinewidth": 0,
              "ticks": ""
             }
            },
            "type": "parcoords"
           }
          ],
          "pie": [
           {
            "automargin": true,
            "type": "pie"
           }
          ],
          "scatter": [
           {
            "marker": {
             "colorbar": {
              "outlinewidth": 0,
              "ticks": ""
             }
            },
            "type": "scatter"
           }
          ],
          "scatter3d": [
           {
            "line": {
             "colorbar": {
              "outlinewidth": 0,
              "ticks": ""
             }
            },
            "marker": {
             "colorbar": {
              "outlinewidth": 0,
              "ticks": ""
             }
            },
            "type": "scatter3d"
           }
          ],
          "scattercarpet": [
           {
            "marker": {
             "colorbar": {
              "outlinewidth": 0,
              "ticks": ""
             }
            },
            "type": "scattercarpet"
           }
          ],
          "scattergeo": [
           {
            "marker": {
             "colorbar": {
              "outlinewidth": 0,
              "ticks": ""
             }
            },
            "type": "scattergeo"
           }
          ],
          "scattergl": [
           {
            "marker": {
             "colorbar": {
              "outlinewidth": 0,
              "ticks": ""
             }
            },
            "type": "scattergl"
           }
          ],
          "scattermapbox": [
           {
            "marker": {
             "colorbar": {
              "outlinewidth": 0,
              "ticks": ""
             }
            },
            "type": "scattermapbox"
           }
          ],
          "scatterpolar": [
           {
            "marker": {
             "colorbar": {
              "outlinewidth": 0,
              "ticks": ""
             }
            },
            "type": "scatterpolar"
           }
          ],
          "scatterpolargl": [
           {
            "marker": {
             "colorbar": {
              "outlinewidth": 0,
              "ticks": ""
             }
            },
            "type": "scatterpolargl"
           }
          ],
          "scatterternary": [
           {
            "marker": {
             "colorbar": {
              "outlinewidth": 0,
              "ticks": ""
             }
            },
            "type": "scatterternary"
           }
          ],
          "surface": [
           {
            "colorbar": {
             "outlinewidth": 0,
             "ticks": ""
            },
            "colorscale": [
             [
              0,
              "#0d0887"
             ],
             [
              0.1111111111111111,
              "#46039f"
             ],
             [
              0.2222222222222222,
              "#7201a8"
             ],
             [
              0.3333333333333333,
              "#9c179e"
             ],
             [
              0.4444444444444444,
              "#bd3786"
             ],
             [
              0.5555555555555556,
              "#d8576b"
             ],
             [
              0.6666666666666666,
              "#ed7953"
             ],
             [
              0.7777777777777778,
              "#fb9f3a"
             ],
             [
              0.8888888888888888,
              "#fdca26"
             ],
             [
              1,
              "#f0f921"
             ]
            ],
            "type": "surface"
           }
          ],
          "table": [
           {
            "cells": {
             "fill": {
              "color": "#EBF0F8"
             },
             "line": {
              "color": "white"
             }
            },
            "header": {
             "fill": {
              "color": "#C8D4E3"
             },
             "line": {
              "color": "white"
             }
            },
            "type": "table"
           }
          ]
         },
         "layout": {
          "annotationdefaults": {
           "arrowcolor": "#2a3f5f",
           "arrowhead": 0,
           "arrowwidth": 1
          },
          "coloraxis": {
           "colorbar": {
            "outlinewidth": 0,
            "ticks": ""
           }
          },
          "colorscale": {
           "diverging": [
            [
             0,
             "#8e0152"
            ],
            [
             0.1,
             "#c51b7d"
            ],
            [
             0.2,
             "#de77ae"
            ],
            [
             0.3,
             "#f1b6da"
            ],
            [
             0.4,
             "#fde0ef"
            ],
            [
             0.5,
             "#f7f7f7"
            ],
            [
             0.6,
             "#e6f5d0"
            ],
            [
             0.7,
             "#b8e186"
            ],
            [
             0.8,
             "#7fbc41"
            ],
            [
             0.9,
             "#4d9221"
            ],
            [
             1,
             "#276419"
            ]
           ],
           "sequential": [
            [
             0,
             "#0d0887"
            ],
            [
             0.1111111111111111,
             "#46039f"
            ],
            [
             0.2222222222222222,
             "#7201a8"
            ],
            [
             0.3333333333333333,
             "#9c179e"
            ],
            [
             0.4444444444444444,
             "#bd3786"
            ],
            [
             0.5555555555555556,
             "#d8576b"
            ],
            [
             0.6666666666666666,
             "#ed7953"
            ],
            [
             0.7777777777777778,
             "#fb9f3a"
            ],
            [
             0.8888888888888888,
             "#fdca26"
            ],
            [
             1,
             "#f0f921"
            ]
           ],
           "sequentialminus": [
            [
             0,
             "#0d0887"
            ],
            [
             0.1111111111111111,
             "#46039f"
            ],
            [
             0.2222222222222222,
             "#7201a8"
            ],
            [
             0.3333333333333333,
             "#9c179e"
            ],
            [
             0.4444444444444444,
             "#bd3786"
            ],
            [
             0.5555555555555556,
             "#d8576b"
            ],
            [
             0.6666666666666666,
             "#ed7953"
            ],
            [
             0.7777777777777778,
             "#fb9f3a"
            ],
            [
             0.8888888888888888,
             "#fdca26"
            ],
            [
             1,
             "#f0f921"
            ]
           ]
          },
          "colorway": [
           "#636efa",
           "#EF553B",
           "#00cc96",
           "#ab63fa",
           "#FFA15A",
           "#19d3f3",
           "#FF6692",
           "#B6E880",
           "#FF97FF",
           "#FECB52"
          ],
          "font": {
           "color": "#2a3f5f"
          },
          "geo": {
           "bgcolor": "white",
           "lakecolor": "white",
           "landcolor": "#E5ECF6",
           "showlakes": true,
           "showland": true,
           "subunitcolor": "white"
          },
          "hoverlabel": {
           "align": "left"
          },
          "hovermode": "closest",
          "mapbox": {
           "style": "light"
          },
          "paper_bgcolor": "white",
          "plot_bgcolor": "#E5ECF6",
          "polar": {
           "angularaxis": {
            "gridcolor": "white",
            "linecolor": "white",
            "ticks": ""
           },
           "bgcolor": "#E5ECF6",
           "radialaxis": {
            "gridcolor": "white",
            "linecolor": "white",
            "ticks": ""
           }
          },
          "scene": {
           "xaxis": {
            "backgroundcolor": "#E5ECF6",
            "gridcolor": "white",
            "gridwidth": 2,
            "linecolor": "white",
            "showbackground": true,
            "ticks": "",
            "zerolinecolor": "white"
           },
           "yaxis": {
            "backgroundcolor": "#E5ECF6",
            "gridcolor": "white",
            "gridwidth": 2,
            "linecolor": "white",
            "showbackground": true,
            "ticks": "",
            "zerolinecolor": "white"
           },
           "zaxis": {
            "backgroundcolor": "#E5ECF6",
            "gridcolor": "white",
            "gridwidth": 2,
            "linecolor": "white",
            "showbackground": true,
            "ticks": "",
            "zerolinecolor": "white"
           }
          },
          "shapedefaults": {
           "line": {
            "color": "#2a3f5f"
           }
          },
          "ternary": {
           "aaxis": {
            "gridcolor": "white",
            "linecolor": "white",
            "ticks": ""
           },
           "baxis": {
            "gridcolor": "white",
            "linecolor": "white",
            "ticks": ""
           },
           "bgcolor": "#E5ECF6",
           "caxis": {
            "gridcolor": "white",
            "linecolor": "white",
            "ticks": ""
           }
          },
          "title": {
           "x": 0.05
          },
          "xaxis": {
           "automargin": true,
           "gridcolor": "white",
           "linecolor": "white",
           "ticks": "",
           "title": {
            "standoff": 15
           },
           "zerolinecolor": "white",
           "zerolinewidth": 2
          },
          "yaxis": {
           "automargin": true,
           "gridcolor": "white",
           "linecolor": "white",
           "ticks": "",
           "title": {
            "standoff": 15
           },
           "zerolinecolor": "white",
           "zerolinewidth": 2
          }
         }
        }
       }
      },
      "text/html": [
       "<div>\n",
       "        \n",
       "        \n",
       "            <div id=\"0f5adf45-6e21-4741-84a4-ddbead676017\" class=\"plotly-graph-div\" style=\"height:525px; width:100%;\"></div>\n",
       "            <script type=\"text/javascript\">\n",
       "                require([\"plotly\"], function(Plotly) {\n",
       "                    window.PLOTLYENV=window.PLOTLYENV || {};\n",
       "                    \n",
       "                if (document.getElementById(\"0f5adf45-6e21-4741-84a4-ddbead676017\")) {\n",
       "                    Plotly.newPlot(\n",
       "                        '0f5adf45-6e21-4741-84a4-ddbead676017',\n",
       "                        [{\"hovertemplate\": \"Height (cm)=%{x}<br>Smear=%{y}<br>Cycle Length (days)=%{z}<br>Pu Fraction=%{marker.color}<extra></extra>\", \"legendgroup\": \"\", \"marker\": {\"color\": [1.0, 0.75, 1.0, 0.875, 0.875, 0.75, 1.0, 0.555555, 0.75, 1.0, 0.555555, 0.75, 1.0, 0.25, 0.875, 0.4, 0.875, 0.4, 0.875, 0.1, 0.555555, 0.75, 1.0, 0.555555, 0.75, 1.0, 0.25, 0.555555, 0.75, 1.0, 0.25, 0.555555, 0.75, 1.0, 0.25], \"coloraxis\": \"coloraxis\", \"symbol\": \"circle\"}, \"mode\": \"markers\", \"name\": \"\", \"scene\": \"scene\", \"showlegend\": false, \"type\": \"scatter3d\", \"x\": [70.0, 80.0, 80.0, 65.0, 75.0, 60.0, 60.0, 70.0, 70.0, 70.0, 80.0, 80.0, 80.0, 80.0, 55.0, 65.0, 65.0, 75.0, 75.0, 75.0, 50.0, 50.0, 50.0, 60.0, 60.0, 60.0, 60.0, 70.0, 70.0, 70.0, 70.0, 80.0, 80.0, 80.0, 80.0], \"y\": [50.0, 50.0, 50.0, 55.0, 55.0, 60.0, 60.0, 60.0, 60.0, 60.0, 60.0, 60.0, 60.0, 60.0, 65.0, 65.0, 65.0, 65.0, 65.0, 65.0, 70.0, 70.0, 70.0, 70.0, 70.0, 70.0, 70.0, 70.0, 70.0, 70.0, 70.0, 70.0, 70.0, 70.0, 70.0], \"z\": [212.32833957553032, 223.95451210564917, 367.0816044260034, 240.31755915317575, 422.6773957571314, 243.30916282135797, 378.0830280830276, 315.0193050193048, 442.57246376811554, 590.8653846153866, 514.592658907791, 660.1859678782757, 822.5474683544314, 246.71968190854875, 357.36409608091077, 271.3991769547327, 594.4209039548033, 481.7359855334528, 858.7551867219967, 193.48739495798316, 189.80352303523043, 306.6827212522581, 446.15613825983314, 439.77709454265994, 578.3753709198829, 720.0270635994584, 193.08873720136535, 691.3569576490896, 845.6774729842065, 1014.2968750000044, 429.1543756145525, 956.1274509803932, 1086.794986571164, 1293.0795847750853, 661.8634886240491]}],\n",
       "                        {\"coloraxis\": {\"colorbar\": {\"title\": {\"text\": \"Pu Fraction\"}}, \"colorscale\": [[0.0, \"#0d0887\"], [0.1111111111111111, \"#46039f\"], [0.2222222222222222, \"#7201a8\"], [0.3333333333333333, \"#9c179e\"], [0.4444444444444444, \"#bd3786\"], [0.5555555555555556, \"#d8576b\"], [0.6666666666666666, \"#ed7953\"], [0.7777777777777778, \"#fb9f3a\"], [0.8888888888888888, \"#fdca26\"], [1.0, \"#f0f921\"]]}, \"legend\": {\"tracegroupgap\": 0}, \"margin\": {\"t\": 60}, \"scene\": {\"domain\": {\"x\": [0.0, 1.0], \"y\": [0.0, 1.0]}, \"xaxis\": {\"title\": {\"text\": \"Height (cm)\"}}, \"yaxis\": {\"title\": {\"text\": \"Smear\"}}, \"zaxis\": {\"title\": {\"text\": \"Cycle Length (days)\"}}}, \"template\": {\"data\": {\"bar\": [{\"error_x\": {\"color\": \"#2a3f5f\"}, \"error_y\": {\"color\": \"#2a3f5f\"}, \"marker\": {\"line\": {\"color\": \"#E5ECF6\", \"width\": 0.5}}, \"type\": \"bar\"}], \"barpolar\": [{\"marker\": {\"line\": {\"color\": \"#E5ECF6\", \"width\": 0.5}}, \"type\": \"barpolar\"}], \"carpet\": [{\"aaxis\": {\"endlinecolor\": \"#2a3f5f\", \"gridcolor\": \"white\", \"linecolor\": \"white\", \"minorgridcolor\": \"white\", \"startlinecolor\": \"#2a3f5f\"}, \"baxis\": {\"endlinecolor\": \"#2a3f5f\", \"gridcolor\": \"white\", \"linecolor\": \"white\", \"minorgridcolor\": \"white\", \"startlinecolor\": \"#2a3f5f\"}, \"type\": \"carpet\"}], \"choropleth\": [{\"colorbar\": {\"outlinewidth\": 0, \"ticks\": \"\"}, \"type\": \"choropleth\"}], \"contour\": [{\"colorbar\": {\"outlinewidth\": 0, \"ticks\": \"\"}, \"colorscale\": [[0.0, \"#0d0887\"], [0.1111111111111111, \"#46039f\"], [0.2222222222222222, \"#7201a8\"], [0.3333333333333333, \"#9c179e\"], [0.4444444444444444, \"#bd3786\"], [0.5555555555555556, \"#d8576b\"], [0.6666666666666666, \"#ed7953\"], [0.7777777777777778, \"#fb9f3a\"], [0.8888888888888888, \"#fdca26\"], [1.0, \"#f0f921\"]], \"type\": \"contour\"}], \"contourcarpet\": [{\"colorbar\": {\"outlinewidth\": 0, \"ticks\": \"\"}, \"type\": \"contourcarpet\"}], \"heatmap\": [{\"colorbar\": {\"outlinewidth\": 0, \"ticks\": \"\"}, \"colorscale\": [[0.0, \"#0d0887\"], [0.1111111111111111, \"#46039f\"], [0.2222222222222222, \"#7201a8\"], [0.3333333333333333, \"#9c179e\"], [0.4444444444444444, \"#bd3786\"], [0.5555555555555556, \"#d8576b\"], [0.6666666666666666, \"#ed7953\"], [0.7777777777777778, \"#fb9f3a\"], [0.8888888888888888, \"#fdca26\"], [1.0, \"#f0f921\"]], \"type\": \"heatmap\"}], \"heatmapgl\": [{\"colorbar\": {\"outlinewidth\": 0, \"ticks\": \"\"}, \"colorscale\": [[0.0, \"#0d0887\"], [0.1111111111111111, \"#46039f\"], [0.2222222222222222, \"#7201a8\"], [0.3333333333333333, \"#9c179e\"], [0.4444444444444444, \"#bd3786\"], [0.5555555555555556, \"#d8576b\"], [0.6666666666666666, \"#ed7953\"], [0.7777777777777778, \"#fb9f3a\"], [0.8888888888888888, \"#fdca26\"], [1.0, \"#f0f921\"]], \"type\": \"heatmapgl\"}], \"histogram\": [{\"marker\": {\"colorbar\": {\"outlinewidth\": 0, \"ticks\": \"\"}}, \"type\": \"histogram\"}], \"histogram2d\": [{\"colorbar\": {\"outlinewidth\": 0, \"ticks\": \"\"}, \"colorscale\": [[0.0, \"#0d0887\"], [0.1111111111111111, \"#46039f\"], [0.2222222222222222, \"#7201a8\"], [0.3333333333333333, \"#9c179e\"], [0.4444444444444444, \"#bd3786\"], [0.5555555555555556, \"#d8576b\"], [0.6666666666666666, \"#ed7953\"], [0.7777777777777778, \"#fb9f3a\"], [0.8888888888888888, \"#fdca26\"], [1.0, \"#f0f921\"]], \"type\": \"histogram2d\"}], \"histogram2dcontour\": [{\"colorbar\": {\"outlinewidth\": 0, \"ticks\": \"\"}, \"colorscale\": [[0.0, \"#0d0887\"], [0.1111111111111111, \"#46039f\"], [0.2222222222222222, \"#7201a8\"], [0.3333333333333333, \"#9c179e\"], [0.4444444444444444, \"#bd3786\"], [0.5555555555555556, \"#d8576b\"], [0.6666666666666666, \"#ed7953\"], [0.7777777777777778, \"#fb9f3a\"], [0.8888888888888888, \"#fdca26\"], [1.0, \"#f0f921\"]], \"type\": \"histogram2dcontour\"}], \"mesh3d\": [{\"colorbar\": {\"outlinewidth\": 0, \"ticks\": \"\"}, \"type\": \"mesh3d\"}], \"parcoords\": [{\"line\": {\"colorbar\": {\"outlinewidth\": 0, \"ticks\": \"\"}}, \"type\": \"parcoords\"}], \"pie\": [{\"automargin\": true, \"type\": \"pie\"}], \"scatter\": [{\"marker\": {\"colorbar\": {\"outlinewidth\": 0, \"ticks\": \"\"}}, \"type\": \"scatter\"}], \"scatter3d\": [{\"line\": {\"colorbar\": {\"outlinewidth\": 0, \"ticks\": \"\"}}, \"marker\": {\"colorbar\": {\"outlinewidth\": 0, \"ticks\": \"\"}}, \"type\": \"scatter3d\"}], \"scattercarpet\": [{\"marker\": {\"colorbar\": {\"outlinewidth\": 0, \"ticks\": \"\"}}, \"type\": \"scattercarpet\"}], \"scattergeo\": [{\"marker\": {\"colorbar\": {\"outlinewidth\": 0, \"ticks\": \"\"}}, \"type\": \"scattergeo\"}], \"scattergl\": [{\"marker\": {\"colorbar\": {\"outlinewidth\": 0, \"ticks\": \"\"}}, \"type\": \"scattergl\"}], \"scattermapbox\": [{\"marker\": {\"colorbar\": {\"outlinewidth\": 0, \"ticks\": \"\"}}, \"type\": \"scattermapbox\"}], \"scatterpolar\": [{\"marker\": {\"colorbar\": {\"outlinewidth\": 0, \"ticks\": \"\"}}, \"type\": \"scatterpolar\"}], \"scatterpolargl\": [{\"marker\": {\"colorbar\": {\"outlinewidth\": 0, \"ticks\": \"\"}}, \"type\": \"scatterpolargl\"}], \"scatterternary\": [{\"marker\": {\"colorbar\": {\"outlinewidth\": 0, \"ticks\": \"\"}}, \"type\": \"scatterternary\"}], \"surface\": [{\"colorbar\": {\"outlinewidth\": 0, \"ticks\": \"\"}, \"colorscale\": [[0.0, \"#0d0887\"], [0.1111111111111111, \"#46039f\"], [0.2222222222222222, \"#7201a8\"], [0.3333333333333333, \"#9c179e\"], [0.4444444444444444, \"#bd3786\"], [0.5555555555555556, \"#d8576b\"], [0.6666666666666666, \"#ed7953\"], [0.7777777777777778, \"#fb9f3a\"], [0.8888888888888888, \"#fdca26\"], [1.0, \"#f0f921\"]], \"type\": \"surface\"}], \"table\": [{\"cells\": {\"fill\": {\"color\": \"#EBF0F8\"}, \"line\": {\"color\": \"white\"}}, \"header\": {\"fill\": {\"color\": \"#C8D4E3\"}, \"line\": {\"color\": \"white\"}}, \"type\": \"table\"}]}, \"layout\": {\"annotationdefaults\": {\"arrowcolor\": \"#2a3f5f\", \"arrowhead\": 0, \"arrowwidth\": 1}, \"coloraxis\": {\"colorbar\": {\"outlinewidth\": 0, \"ticks\": \"\"}}, \"colorscale\": {\"diverging\": [[0, \"#8e0152\"], [0.1, \"#c51b7d\"], [0.2, \"#de77ae\"], [0.3, \"#f1b6da\"], [0.4, \"#fde0ef\"], [0.5, \"#f7f7f7\"], [0.6, \"#e6f5d0\"], [0.7, \"#b8e186\"], [0.8, \"#7fbc41\"], [0.9, \"#4d9221\"], [1, \"#276419\"]], \"sequential\": [[0.0, \"#0d0887\"], [0.1111111111111111, \"#46039f\"], [0.2222222222222222, \"#7201a8\"], [0.3333333333333333, \"#9c179e\"], [0.4444444444444444, \"#bd3786\"], [0.5555555555555556, \"#d8576b\"], [0.6666666666666666, \"#ed7953\"], [0.7777777777777778, \"#fb9f3a\"], [0.8888888888888888, \"#fdca26\"], [1.0, \"#f0f921\"]], \"sequentialminus\": [[0.0, \"#0d0887\"], [0.1111111111111111, \"#46039f\"], [0.2222222222222222, \"#7201a8\"], [0.3333333333333333, \"#9c179e\"], [0.4444444444444444, \"#bd3786\"], [0.5555555555555556, \"#d8576b\"], [0.6666666666666666, \"#ed7953\"], [0.7777777777777778, \"#fb9f3a\"], [0.8888888888888888, \"#fdca26\"], [1.0, \"#f0f921\"]]}, \"colorway\": [\"#636efa\", \"#EF553B\", \"#00cc96\", \"#ab63fa\", \"#FFA15A\", \"#19d3f3\", \"#FF6692\", \"#B6E880\", \"#FF97FF\", \"#FECB52\"], \"font\": {\"color\": \"#2a3f5f\"}, \"geo\": {\"bgcolor\": \"white\", \"lakecolor\": \"white\", \"landcolor\": \"#E5ECF6\", \"showlakes\": true, \"showland\": true, \"subunitcolor\": \"white\"}, \"hoverlabel\": {\"align\": \"left\"}, \"hovermode\": \"closest\", \"mapbox\": {\"style\": \"light\"}, \"paper_bgcolor\": \"white\", \"plot_bgcolor\": \"#E5ECF6\", \"polar\": {\"angularaxis\": {\"gridcolor\": \"white\", \"linecolor\": \"white\", \"ticks\": \"\"}, \"bgcolor\": \"#E5ECF6\", \"radialaxis\": {\"gridcolor\": \"white\", \"linecolor\": \"white\", \"ticks\": \"\"}}, \"scene\": {\"xaxis\": {\"backgroundcolor\": \"#E5ECF6\", \"gridcolor\": \"white\", \"gridwidth\": 2, \"linecolor\": \"white\", \"showbackground\": true, \"ticks\": \"\", \"zerolinecolor\": \"white\"}, \"yaxis\": {\"backgroundcolor\": \"#E5ECF6\", \"gridcolor\": \"white\", \"gridwidth\": 2, \"linecolor\": \"white\", \"showbackground\": true, \"ticks\": \"\", \"zerolinecolor\": \"white\"}, \"zaxis\": {\"backgroundcolor\": \"#E5ECF6\", \"gridcolor\": \"white\", \"gridwidth\": 2, \"linecolor\": \"white\", \"showbackground\": true, \"ticks\": \"\", \"zerolinecolor\": \"white\"}}, \"shapedefaults\": {\"line\": {\"color\": \"#2a3f5f\"}}, \"ternary\": {\"aaxis\": {\"gridcolor\": \"white\", \"linecolor\": \"white\", \"ticks\": \"\"}, \"baxis\": {\"gridcolor\": \"white\", \"linecolor\": \"white\", \"ticks\": \"\"}, \"bgcolor\": \"#E5ECF6\", \"caxis\": {\"gridcolor\": \"white\", \"linecolor\": \"white\", \"ticks\": \"\"}}, \"title\": {\"x\": 0.05}, \"xaxis\": {\"automargin\": true, \"gridcolor\": \"white\", \"linecolor\": \"white\", \"ticks\": \"\", \"title\": {\"standoff\": 15}, \"zerolinecolor\": \"white\", \"zerolinewidth\": 2}, \"yaxis\": {\"automargin\": true, \"gridcolor\": \"white\", \"linecolor\": \"white\", \"ticks\": \"\", \"title\": {\"standoff\": 15}, \"zerolinecolor\": \"white\", \"zerolinewidth\": 2}}}},\n",
       "                        {\"responsive\": true}\n",
       "                    ).then(function(){\n",
       "                            \n",
       "var gd = document.getElementById('0f5adf45-6e21-4741-84a4-ddbead676017');\n",
       "var x = new MutationObserver(function (mutations, observer) {{\n",
       "        var display = window.getComputedStyle(gd).display;\n",
       "        if (!display || display === 'none') {{\n",
       "            console.log([gd, 'removed!']);\n",
       "            Plotly.purge(gd);\n",
       "            observer.disconnect();\n",
       "        }}\n",
       "}});\n",
       "\n",
       "// Listen for the removal of the full notebook cells\n",
       "var notebookContainer = gd.closest('#notebook-container');\n",
       "if (notebookContainer) {{\n",
       "    x.observe(notebookContainer, {childList: true});\n",
       "}}\n",
       "\n",
       "// Listen for the clearing of the current output cell\n",
       "var outputEl = gd.closest('.output');\n",
       "if (outputEl) {{\n",
       "    x.observe(outputEl, {childList: true});\n",
       "}}\n",
       "\n",
       "                        })\n",
       "                };\n",
       "                });\n",
       "            </script>\n",
       "        </div>"
      ]
     },
     "metadata": {},
     "output_type": "display_data"
    },
    {
     "data": {
      "application/vnd.plotly.v1+json": {
       "config": {
        "plotlyServerURL": "https://plot.ly"
       },
       "data": [
        {
         "hovertemplate": "Height (cm)=%{x}<br>Smear=%{y}<br>Rx Swing (pcm)=%{z}<br>Pu Fraction=%{marker.color}<extra></extra>",
         "legendgroup": "",
         "marker": {
          "color": [
           1,
           0.75,
           1,
           0.875,
           0.875,
           0.75,
           1,
           0.555555,
           0.75,
           1,
           0.555555,
           0.75,
           1,
           0.25,
           0.875,
           0.4,
           0.875,
           0.4,
           0.875,
           0.1,
           0.555555,
           0.75,
           1,
           0.555555,
           0.75,
           1,
           0.25,
           0.555555,
           0.75,
           1,
           0.25,
           0.555555,
           0.75,
           1,
           0.25
          ],
          "coloraxis": "coloraxis",
          "symbol": "circle"
         },
         "mode": "markers",
         "name": "",
         "scene": "scene",
         "showlegend": false,
         "type": "scatter3d",
         "x": [
          70,
          80,
          80,
          65,
          75,
          60,
          60,
          70,
          70,
          70,
          80,
          80,
          80,
          80,
          55,
          65,
          65,
          75,
          75,
          75,
          50,
          50,
          50,
          60,
          60,
          60,
          60,
          70,
          70,
          70,
          70,
          80,
          80,
          80,
          80
         ],
         "y": [
          50,
          50,
          50,
          55,
          55,
          60,
          60,
          60,
          60,
          60,
          60,
          60,
          60,
          60,
          65,
          65,
          65,
          65,
          65,
          65,
          70,
          70,
          70,
          70,
          70,
          70,
          70,
          70,
          70,
          70,
          70,
          70,
          70,
          70,
          70
         ],
         "z": [
          902.0305487734581,
          763.1216015357402,
          781.87223268903,
          866.181315689739,
          738.4226636239974,
          851.6365715275583,
          867.8283125786721,
          703.0132815567816,
          724.1942945156775,
          739.3837138701537,
          602.0777473703077,
          614.3474481693219,
          628.8522549615084,
          573.31687731325,
          857.8306788105779,
          676.4864835468359,
          719.1600528593492,
          585.6918225519196,
          601.8148214160676,
          538.9329487140416,
          850.273567552309,
          876.3990113124241,
          880.004422011664,
          695.4981685540677,
          703.0493866561735,
          728.5458669189048,
          662.3915191798575,
          592.6000874692522,
          598.3267333727388,
          609.7643779606141,
          557.3209972502796,
          508.5092521656354,
          533.085999680031,
          532.0498486399061,
          487.0165883533776
         ]
        }
       ],
       "layout": {
        "coloraxis": {
         "colorbar": {
          "title": {
           "text": "Pu Fraction"
          }
         },
         "colorscale": [
          [
           0,
           "#0d0887"
          ],
          [
           0.1111111111111111,
           "#46039f"
          ],
          [
           0.2222222222222222,
           "#7201a8"
          ],
          [
           0.3333333333333333,
           "#9c179e"
          ],
          [
           0.4444444444444444,
           "#bd3786"
          ],
          [
           0.5555555555555556,
           "#d8576b"
          ],
          [
           0.6666666666666666,
           "#ed7953"
          ],
          [
           0.7777777777777778,
           "#fb9f3a"
          ],
          [
           0.8888888888888888,
           "#fdca26"
          ],
          [
           1,
           "#f0f921"
          ]
         ]
        },
        "legend": {
         "tracegroupgap": 0
        },
        "margin": {
         "t": 60
        },
        "scene": {
         "domain": {
          "x": [
           0,
           1
          ],
          "y": [
           0,
           1
          ]
         },
         "xaxis": {
          "title": {
           "text": "Height (cm)"
          }
         },
         "yaxis": {
          "title": {
           "text": "Smear"
          }
         },
         "zaxis": {
          "title": {
           "text": "Rx Swing (pcm)"
          }
         }
        },
        "template": {
         "data": {
          "bar": [
           {
            "error_x": {
             "color": "#2a3f5f"
            },
            "error_y": {
             "color": "#2a3f5f"
            },
            "marker": {
             "line": {
              "color": "#E5ECF6",
              "width": 0.5
             }
            },
            "type": "bar"
           }
          ],
          "barpolar": [
           {
            "marker": {
             "line": {
              "color": "#E5ECF6",
              "width": 0.5
             }
            },
            "type": "barpolar"
           }
          ],
          "carpet": [
           {
            "aaxis": {
             "endlinecolor": "#2a3f5f",
             "gridcolor": "white",
             "linecolor": "white",
             "minorgridcolor": "white",
             "startlinecolor": "#2a3f5f"
            },
            "baxis": {
             "endlinecolor": "#2a3f5f",
             "gridcolor": "white",
             "linecolor": "white",
             "minorgridcolor": "white",
             "startlinecolor": "#2a3f5f"
            },
            "type": "carpet"
           }
          ],
          "choropleth": [
           {
            "colorbar": {
             "outlinewidth": 0,
             "ticks": ""
            },
            "type": "choropleth"
           }
          ],
          "contour": [
           {
            "colorbar": {
             "outlinewidth": 0,
             "ticks": ""
            },
            "colorscale": [
             [
              0,
              "#0d0887"
             ],
             [
              0.1111111111111111,
              "#46039f"
             ],
             [
              0.2222222222222222,
              "#7201a8"
             ],
             [
              0.3333333333333333,
              "#9c179e"
             ],
             [
              0.4444444444444444,
              "#bd3786"
             ],
             [
              0.5555555555555556,
              "#d8576b"
             ],
             [
              0.6666666666666666,
              "#ed7953"
             ],
             [
              0.7777777777777778,
              "#fb9f3a"
             ],
             [
              0.8888888888888888,
              "#fdca26"
             ],
             [
              1,
              "#f0f921"
             ]
            ],
            "type": "contour"
           }
          ],
          "contourcarpet": [
           {
            "colorbar": {
             "outlinewidth": 0,
             "ticks": ""
            },
            "type": "contourcarpet"
           }
          ],
          "heatmap": [
           {
            "colorbar": {
             "outlinewidth": 0,
             "ticks": ""
            },
            "colorscale": [
             [
              0,
              "#0d0887"
             ],
             [
              0.1111111111111111,
              "#46039f"
             ],
             [
              0.2222222222222222,
              "#7201a8"
             ],
             [
              0.3333333333333333,
              "#9c179e"
             ],
             [
              0.4444444444444444,
              "#bd3786"
             ],
             [
              0.5555555555555556,
              "#d8576b"
             ],
             [
              0.6666666666666666,
              "#ed7953"
             ],
             [
              0.7777777777777778,
              "#fb9f3a"
             ],
             [
              0.8888888888888888,
              "#fdca26"
             ],
             [
              1,
              "#f0f921"
             ]
            ],
            "type": "heatmap"
           }
          ],
          "heatmapgl": [
           {
            "colorbar": {
             "outlinewidth": 0,
             "ticks": ""
            },
            "colorscale": [
             [
              0,
              "#0d0887"
             ],
             [
              0.1111111111111111,
              "#46039f"
             ],
             [
              0.2222222222222222,
              "#7201a8"
             ],
             [
              0.3333333333333333,
              "#9c179e"
             ],
             [
              0.4444444444444444,
              "#bd3786"
             ],
             [
              0.5555555555555556,
              "#d8576b"
             ],
             [
              0.6666666666666666,
              "#ed7953"
             ],
             [
              0.7777777777777778,
              "#fb9f3a"
             ],
             [
              0.8888888888888888,
              "#fdca26"
             ],
             [
              1,
              "#f0f921"
             ]
            ],
            "type": "heatmapgl"
           }
          ],
          "histogram": [
           {
            "marker": {
             "colorbar": {
              "outlinewidth": 0,
              "ticks": ""
             }
            },
            "type": "histogram"
           }
          ],
          "histogram2d": [
           {
            "colorbar": {
             "outlinewidth": 0,
             "ticks": ""
            },
            "colorscale": [
             [
              0,
              "#0d0887"
             ],
             [
              0.1111111111111111,
              "#46039f"
             ],
             [
              0.2222222222222222,
              "#7201a8"
             ],
             [
              0.3333333333333333,
              "#9c179e"
             ],
             [
              0.4444444444444444,
              "#bd3786"
             ],
             [
              0.5555555555555556,
              "#d8576b"
             ],
             [
              0.6666666666666666,
              "#ed7953"
             ],
             [
              0.7777777777777778,
              "#fb9f3a"
             ],
             [
              0.8888888888888888,
              "#fdca26"
             ],
             [
              1,
              "#f0f921"
             ]
            ],
            "type": "histogram2d"
           }
          ],
          "histogram2dcontour": [
           {
            "colorbar": {
             "outlinewidth": 0,
             "ticks": ""
            },
            "colorscale": [
             [
              0,
              "#0d0887"
             ],
             [
              0.1111111111111111,
              "#46039f"
             ],
             [
              0.2222222222222222,
              "#7201a8"
             ],
             [
              0.3333333333333333,
              "#9c179e"
             ],
             [
              0.4444444444444444,
              "#bd3786"
             ],
             [
              0.5555555555555556,
              "#d8576b"
             ],
             [
              0.6666666666666666,
              "#ed7953"
             ],
             [
              0.7777777777777778,
              "#fb9f3a"
             ],
             [
              0.8888888888888888,
              "#fdca26"
             ],
             [
              1,
              "#f0f921"
             ]
            ],
            "type": "histogram2dcontour"
           }
          ],
          "mesh3d": [
           {
            "colorbar": {
             "outlinewidth": 0,
             "ticks": ""
            },
            "type": "mesh3d"
           }
          ],
          "parcoords": [
           {
            "line": {
             "colorbar": {
              "outlinewidth": 0,
              "ticks": ""
             }
            },
            "type": "parcoords"
           }
          ],
          "pie": [
           {
            "automargin": true,
            "type": "pie"
           }
          ],
          "scatter": [
           {
            "marker": {
             "colorbar": {
              "outlinewidth": 0,
              "ticks": ""
             }
            },
            "type": "scatter"
           }
          ],
          "scatter3d": [
           {
            "line": {
             "colorbar": {
              "outlinewidth": 0,
              "ticks": ""
             }
            },
            "marker": {
             "colorbar": {
              "outlinewidth": 0,
              "ticks": ""
             }
            },
            "type": "scatter3d"
           }
          ],
          "scattercarpet": [
           {
            "marker": {
             "colorbar": {
              "outlinewidth": 0,
              "ticks": ""
             }
            },
            "type": "scattercarpet"
           }
          ],
          "scattergeo": [
           {
            "marker": {
             "colorbar": {
              "outlinewidth": 0,
              "ticks": ""
             }
            },
            "type": "scattergeo"
           }
          ],
          "scattergl": [
           {
            "marker": {
             "colorbar": {
              "outlinewidth": 0,
              "ticks": ""
             }
            },
            "type": "scattergl"
           }
          ],
          "scattermapbox": [
           {
            "marker": {
             "colorbar": {
              "outlinewidth": 0,
              "ticks": ""
             }
            },
            "type": "scattermapbox"
           }
          ],
          "scatterpolar": [
           {
            "marker": {
             "colorbar": {
              "outlinewidth": 0,
              "ticks": ""
             }
            },
            "type": "scatterpolar"
           }
          ],
          "scatterpolargl": [
           {
            "marker": {
             "colorbar": {
              "outlinewidth": 0,
              "ticks": ""
             }
            },
            "type": "scatterpolargl"
           }
          ],
          "scatterternary": [
           {
            "marker": {
             "colorbar": {
              "outlinewidth": 0,
              "ticks": ""
             }
            },
            "type": "scatterternary"
           }
          ],
          "surface": [
           {
            "colorbar": {
             "outlinewidth": 0,
             "ticks": ""
            },
            "colorscale": [
             [
              0,
              "#0d0887"
             ],
             [
              0.1111111111111111,
              "#46039f"
             ],
             [
              0.2222222222222222,
              "#7201a8"
             ],
             [
              0.3333333333333333,
              "#9c179e"
             ],
             [
              0.4444444444444444,
              "#bd3786"
             ],
             [
              0.5555555555555556,
              "#d8576b"
             ],
             [
              0.6666666666666666,
              "#ed7953"
             ],
             [
              0.7777777777777778,
              "#fb9f3a"
             ],
             [
              0.8888888888888888,
              "#fdca26"
             ],
             [
              1,
              "#f0f921"
             ]
            ],
            "type": "surface"
           }
          ],
          "table": [
           {
            "cells": {
             "fill": {
              "color": "#EBF0F8"
             },
             "line": {
              "color": "white"
             }
            },
            "header": {
             "fill": {
              "color": "#C8D4E3"
             },
             "line": {
              "color": "white"
             }
            },
            "type": "table"
           }
          ]
         },
         "layout": {
          "annotationdefaults": {
           "arrowcolor": "#2a3f5f",
           "arrowhead": 0,
           "arrowwidth": 1
          },
          "coloraxis": {
           "colorbar": {
            "outlinewidth": 0,
            "ticks": ""
           }
          },
          "colorscale": {
           "diverging": [
            [
             0,
             "#8e0152"
            ],
            [
             0.1,
             "#c51b7d"
            ],
            [
             0.2,
             "#de77ae"
            ],
            [
             0.3,
             "#f1b6da"
            ],
            [
             0.4,
             "#fde0ef"
            ],
            [
             0.5,
             "#f7f7f7"
            ],
            [
             0.6,
             "#e6f5d0"
            ],
            [
             0.7,
             "#b8e186"
            ],
            [
             0.8,
             "#7fbc41"
            ],
            [
             0.9,
             "#4d9221"
            ],
            [
             1,
             "#276419"
            ]
           ],
           "sequential": [
            [
             0,
             "#0d0887"
            ],
            [
             0.1111111111111111,
             "#46039f"
            ],
            [
             0.2222222222222222,
             "#7201a8"
            ],
            [
             0.3333333333333333,
             "#9c179e"
            ],
            [
             0.4444444444444444,
             "#bd3786"
            ],
            [
             0.5555555555555556,
             "#d8576b"
            ],
            [
             0.6666666666666666,
             "#ed7953"
            ],
            [
             0.7777777777777778,
             "#fb9f3a"
            ],
            [
             0.8888888888888888,
             "#fdca26"
            ],
            [
             1,
             "#f0f921"
            ]
           ],
           "sequentialminus": [
            [
             0,
             "#0d0887"
            ],
            [
             0.1111111111111111,
             "#46039f"
            ],
            [
             0.2222222222222222,
             "#7201a8"
            ],
            [
             0.3333333333333333,
             "#9c179e"
            ],
            [
             0.4444444444444444,
             "#bd3786"
            ],
            [
             0.5555555555555556,
             "#d8576b"
            ],
            [
             0.6666666666666666,
             "#ed7953"
            ],
            [
             0.7777777777777778,
             "#fb9f3a"
            ],
            [
             0.8888888888888888,
             "#fdca26"
            ],
            [
             1,
             "#f0f921"
            ]
           ]
          },
          "colorway": [
           "#636efa",
           "#EF553B",
           "#00cc96",
           "#ab63fa",
           "#FFA15A",
           "#19d3f3",
           "#FF6692",
           "#B6E880",
           "#FF97FF",
           "#FECB52"
          ],
          "font": {
           "color": "#2a3f5f"
          },
          "geo": {
           "bgcolor": "white",
           "lakecolor": "white",
           "landcolor": "#E5ECF6",
           "showlakes": true,
           "showland": true,
           "subunitcolor": "white"
          },
          "hoverlabel": {
           "align": "left"
          },
          "hovermode": "closest",
          "mapbox": {
           "style": "light"
          },
          "paper_bgcolor": "white",
          "plot_bgcolor": "#E5ECF6",
          "polar": {
           "angularaxis": {
            "gridcolor": "white",
            "linecolor": "white",
            "ticks": ""
           },
           "bgcolor": "#E5ECF6",
           "radialaxis": {
            "gridcolor": "white",
            "linecolor": "white",
            "ticks": ""
           }
          },
          "scene": {
           "xaxis": {
            "backgroundcolor": "#E5ECF6",
            "gridcolor": "white",
            "gridwidth": 2,
            "linecolor": "white",
            "showbackground": true,
            "ticks": "",
            "zerolinecolor": "white"
           },
           "yaxis": {
            "backgroundcolor": "#E5ECF6",
            "gridcolor": "white",
            "gridwidth": 2,
            "linecolor": "white",
            "showbackground": true,
            "ticks": "",
            "zerolinecolor": "white"
           },
           "zaxis": {
            "backgroundcolor": "#E5ECF6",
            "gridcolor": "white",
            "gridwidth": 2,
            "linecolor": "white",
            "showbackground": true,
            "ticks": "",
            "zerolinecolor": "white"
           }
          },
          "shapedefaults": {
           "line": {
            "color": "#2a3f5f"
           }
          },
          "ternary": {
           "aaxis": {
            "gridcolor": "white",
            "linecolor": "white",
            "ticks": ""
           },
           "baxis": {
            "gridcolor": "white",
            "linecolor": "white",
            "ticks": ""
           },
           "bgcolor": "#E5ECF6",
           "caxis": {
            "gridcolor": "white",
            "linecolor": "white",
            "ticks": ""
           }
          },
          "title": {
           "x": 0.05
          },
          "xaxis": {
           "automargin": true,
           "gridcolor": "white",
           "linecolor": "white",
           "ticks": "",
           "title": {
            "standoff": 15
           },
           "zerolinecolor": "white",
           "zerolinewidth": 2
          },
          "yaxis": {
           "automargin": true,
           "gridcolor": "white",
           "linecolor": "white",
           "ticks": "",
           "title": {
            "standoff": 15
           },
           "zerolinecolor": "white",
           "zerolinewidth": 2
          }
         }
        }
       }
      },
      "text/html": [
       "<div>\n",
       "        \n",
       "        \n",
       "            <div id=\"068c397c-f2d2-4ad3-8954-4f98b981b278\" class=\"plotly-graph-div\" style=\"height:525px; width:100%;\"></div>\n",
       "            <script type=\"text/javascript\">\n",
       "                require([\"plotly\"], function(Plotly) {\n",
       "                    window.PLOTLYENV=window.PLOTLYENV || {};\n",
       "                    \n",
       "                if (document.getElementById(\"068c397c-f2d2-4ad3-8954-4f98b981b278\")) {\n",
       "                    Plotly.newPlot(\n",
       "                        '068c397c-f2d2-4ad3-8954-4f98b981b278',\n",
       "                        [{\"hovertemplate\": \"Height (cm)=%{x}<br>Smear=%{y}<br>Rx Swing (pcm)=%{z}<br>Pu Fraction=%{marker.color}<extra></extra>\", \"legendgroup\": \"\", \"marker\": {\"color\": [1.0, 0.75, 1.0, 0.875, 0.875, 0.75, 1.0, 0.555555, 0.75, 1.0, 0.555555, 0.75, 1.0, 0.25, 0.875, 0.4, 0.875, 0.4, 0.875, 0.1, 0.555555, 0.75, 1.0, 0.555555, 0.75, 1.0, 0.25, 0.555555, 0.75, 1.0, 0.25, 0.555555, 0.75, 1.0, 0.25], \"coloraxis\": \"coloraxis\", \"symbol\": \"circle\"}, \"mode\": \"markers\", \"name\": \"\", \"scene\": \"scene\", \"showlegend\": false, \"type\": \"scatter3d\", \"x\": [70.0, 80.0, 80.0, 65.0, 75.0, 60.0, 60.0, 70.0, 70.0, 70.0, 80.0, 80.0, 80.0, 80.0, 55.0, 65.0, 65.0, 75.0, 75.0, 75.0, 50.0, 50.0, 50.0, 60.0, 60.0, 60.0, 60.0, 70.0, 70.0, 70.0, 70.0, 80.0, 80.0, 80.0, 80.0], \"y\": [50.0, 50.0, 50.0, 55.0, 55.0, 60.0, 60.0, 60.0, 60.0, 60.0, 60.0, 60.0, 60.0, 60.0, 65.0, 65.0, 65.0, 65.0, 65.0, 65.0, 70.0, 70.0, 70.0, 70.0, 70.0, 70.0, 70.0, 70.0, 70.0, 70.0, 70.0, 70.0, 70.0, 70.0, 70.0], \"z\": [902.0305487734581, 763.1216015357402, 781.87223268903, 866.181315689739, 738.4226636239974, 851.6365715275583, 867.8283125786721, 703.0132815567816, 724.1942945156775, 739.3837138701537, 602.0777473703077, 614.3474481693219, 628.8522549615084, 573.31687731325, 857.8306788105779, 676.4864835468359, 719.1600528593492, 585.6918225519196, 601.8148214160676, 538.9329487140416, 850.273567552309, 876.3990113124241, 880.004422011664, 695.4981685540677, 703.0493866561735, 728.5458669189048, 662.3915191798575, 592.6000874692522, 598.3267333727388, 609.7643779606141, 557.3209972502796, 508.5092521656354, 533.085999680031, 532.0498486399061, 487.0165883533776]}],\n",
       "                        {\"coloraxis\": {\"colorbar\": {\"title\": {\"text\": \"Pu Fraction\"}}, \"colorscale\": [[0.0, \"#0d0887\"], [0.1111111111111111, \"#46039f\"], [0.2222222222222222, \"#7201a8\"], [0.3333333333333333, \"#9c179e\"], [0.4444444444444444, \"#bd3786\"], [0.5555555555555556, \"#d8576b\"], [0.6666666666666666, \"#ed7953\"], [0.7777777777777778, \"#fb9f3a\"], [0.8888888888888888, \"#fdca26\"], [1.0, \"#f0f921\"]]}, \"legend\": {\"tracegroupgap\": 0}, \"margin\": {\"t\": 60}, \"scene\": {\"domain\": {\"x\": [0.0, 1.0], \"y\": [0.0, 1.0]}, \"xaxis\": {\"title\": {\"text\": \"Height (cm)\"}}, \"yaxis\": {\"title\": {\"text\": \"Smear\"}}, \"zaxis\": {\"title\": {\"text\": \"Rx Swing (pcm)\"}}}, \"template\": {\"data\": {\"bar\": [{\"error_x\": {\"color\": \"#2a3f5f\"}, \"error_y\": {\"color\": \"#2a3f5f\"}, \"marker\": {\"line\": {\"color\": \"#E5ECF6\", \"width\": 0.5}}, \"type\": \"bar\"}], \"barpolar\": [{\"marker\": {\"line\": {\"color\": \"#E5ECF6\", \"width\": 0.5}}, \"type\": \"barpolar\"}], \"carpet\": [{\"aaxis\": {\"endlinecolor\": \"#2a3f5f\", \"gridcolor\": \"white\", \"linecolor\": \"white\", \"minorgridcolor\": \"white\", \"startlinecolor\": \"#2a3f5f\"}, \"baxis\": {\"endlinecolor\": \"#2a3f5f\", \"gridcolor\": \"white\", \"linecolor\": \"white\", \"minorgridcolor\": \"white\", \"startlinecolor\": \"#2a3f5f\"}, \"type\": \"carpet\"}], \"choropleth\": [{\"colorbar\": {\"outlinewidth\": 0, \"ticks\": \"\"}, \"type\": \"choropleth\"}], \"contour\": [{\"colorbar\": {\"outlinewidth\": 0, \"ticks\": \"\"}, \"colorscale\": [[0.0, \"#0d0887\"], [0.1111111111111111, \"#46039f\"], [0.2222222222222222, \"#7201a8\"], [0.3333333333333333, \"#9c179e\"], [0.4444444444444444, \"#bd3786\"], [0.5555555555555556, \"#d8576b\"], [0.6666666666666666, \"#ed7953\"], [0.7777777777777778, \"#fb9f3a\"], [0.8888888888888888, \"#fdca26\"], [1.0, \"#f0f921\"]], \"type\": \"contour\"}], \"contourcarpet\": [{\"colorbar\": {\"outlinewidth\": 0, \"ticks\": \"\"}, \"type\": \"contourcarpet\"}], \"heatmap\": [{\"colorbar\": {\"outlinewidth\": 0, \"ticks\": \"\"}, \"colorscale\": [[0.0, \"#0d0887\"], [0.1111111111111111, \"#46039f\"], [0.2222222222222222, \"#7201a8\"], [0.3333333333333333, \"#9c179e\"], [0.4444444444444444, \"#bd3786\"], [0.5555555555555556, \"#d8576b\"], [0.6666666666666666, \"#ed7953\"], [0.7777777777777778, \"#fb9f3a\"], [0.8888888888888888, \"#fdca26\"], [1.0, \"#f0f921\"]], \"type\": \"heatmap\"}], \"heatmapgl\": [{\"colorbar\": {\"outlinewidth\": 0, \"ticks\": \"\"}, \"colorscale\": [[0.0, \"#0d0887\"], [0.1111111111111111, \"#46039f\"], [0.2222222222222222, \"#7201a8\"], [0.3333333333333333, \"#9c179e\"], [0.4444444444444444, \"#bd3786\"], [0.5555555555555556, \"#d8576b\"], [0.6666666666666666, \"#ed7953\"], [0.7777777777777778, \"#fb9f3a\"], [0.8888888888888888, \"#fdca26\"], [1.0, \"#f0f921\"]], \"type\": \"heatmapgl\"}], \"histogram\": [{\"marker\": {\"colorbar\": {\"outlinewidth\": 0, \"ticks\": \"\"}}, \"type\": \"histogram\"}], \"histogram2d\": [{\"colorbar\": {\"outlinewidth\": 0, \"ticks\": \"\"}, \"colorscale\": [[0.0, \"#0d0887\"], [0.1111111111111111, \"#46039f\"], [0.2222222222222222, \"#7201a8\"], [0.3333333333333333, \"#9c179e\"], [0.4444444444444444, \"#bd3786\"], [0.5555555555555556, \"#d8576b\"], [0.6666666666666666, \"#ed7953\"], [0.7777777777777778, \"#fb9f3a\"], [0.8888888888888888, \"#fdca26\"], [1.0, \"#f0f921\"]], \"type\": \"histogram2d\"}], \"histogram2dcontour\": [{\"colorbar\": {\"outlinewidth\": 0, \"ticks\": \"\"}, \"colorscale\": [[0.0, \"#0d0887\"], [0.1111111111111111, \"#46039f\"], [0.2222222222222222, \"#7201a8\"], [0.3333333333333333, \"#9c179e\"], [0.4444444444444444, \"#bd3786\"], [0.5555555555555556, \"#d8576b\"], [0.6666666666666666, \"#ed7953\"], [0.7777777777777778, \"#fb9f3a\"], [0.8888888888888888, \"#fdca26\"], [1.0, \"#f0f921\"]], \"type\": \"histogram2dcontour\"}], \"mesh3d\": [{\"colorbar\": {\"outlinewidth\": 0, \"ticks\": \"\"}, \"type\": \"mesh3d\"}], \"parcoords\": [{\"line\": {\"colorbar\": {\"outlinewidth\": 0, \"ticks\": \"\"}}, \"type\": \"parcoords\"}], \"pie\": [{\"automargin\": true, \"type\": \"pie\"}], \"scatter\": [{\"marker\": {\"colorbar\": {\"outlinewidth\": 0, \"ticks\": \"\"}}, \"type\": \"scatter\"}], \"scatter3d\": [{\"line\": {\"colorbar\": {\"outlinewidth\": 0, \"ticks\": \"\"}}, \"marker\": {\"colorbar\": {\"outlinewidth\": 0, \"ticks\": \"\"}}, \"type\": \"scatter3d\"}], \"scattercarpet\": [{\"marker\": {\"colorbar\": {\"outlinewidth\": 0, \"ticks\": \"\"}}, \"type\": \"scattercarpet\"}], \"scattergeo\": [{\"marker\": {\"colorbar\": {\"outlinewidth\": 0, \"ticks\": \"\"}}, \"type\": \"scattergeo\"}], \"scattergl\": [{\"marker\": {\"colorbar\": {\"outlinewidth\": 0, \"ticks\": \"\"}}, \"type\": \"scattergl\"}], \"scattermapbox\": [{\"marker\": {\"colorbar\": {\"outlinewidth\": 0, \"ticks\": \"\"}}, \"type\": \"scattermapbox\"}], \"scatterpolar\": [{\"marker\": {\"colorbar\": {\"outlinewidth\": 0, \"ticks\": \"\"}}, \"type\": \"scatterpolar\"}], \"scatterpolargl\": [{\"marker\": {\"colorbar\": {\"outlinewidth\": 0, \"ticks\": \"\"}}, \"type\": \"scatterpolargl\"}], \"scatterternary\": [{\"marker\": {\"colorbar\": {\"outlinewidth\": 0, \"ticks\": \"\"}}, \"type\": \"scatterternary\"}], \"surface\": [{\"colorbar\": {\"outlinewidth\": 0, \"ticks\": \"\"}, \"colorscale\": [[0.0, \"#0d0887\"], [0.1111111111111111, \"#46039f\"], [0.2222222222222222, \"#7201a8\"], [0.3333333333333333, \"#9c179e\"], [0.4444444444444444, \"#bd3786\"], [0.5555555555555556, \"#d8576b\"], [0.6666666666666666, \"#ed7953\"], [0.7777777777777778, \"#fb9f3a\"], [0.8888888888888888, \"#fdca26\"], [1.0, \"#f0f921\"]], \"type\": \"surface\"}], \"table\": [{\"cells\": {\"fill\": {\"color\": \"#EBF0F8\"}, \"line\": {\"color\": \"white\"}}, \"header\": {\"fill\": {\"color\": \"#C8D4E3\"}, \"line\": {\"color\": \"white\"}}, \"type\": \"table\"}]}, \"layout\": {\"annotationdefaults\": {\"arrowcolor\": \"#2a3f5f\", \"arrowhead\": 0, \"arrowwidth\": 1}, \"coloraxis\": {\"colorbar\": {\"outlinewidth\": 0, \"ticks\": \"\"}}, \"colorscale\": {\"diverging\": [[0, \"#8e0152\"], [0.1, \"#c51b7d\"], [0.2, \"#de77ae\"], [0.3, \"#f1b6da\"], [0.4, \"#fde0ef\"], [0.5, \"#f7f7f7\"], [0.6, \"#e6f5d0\"], [0.7, \"#b8e186\"], [0.8, \"#7fbc41\"], [0.9, \"#4d9221\"], [1, \"#276419\"]], \"sequential\": [[0.0, \"#0d0887\"], [0.1111111111111111, \"#46039f\"], [0.2222222222222222, \"#7201a8\"], [0.3333333333333333, \"#9c179e\"], [0.4444444444444444, \"#bd3786\"], [0.5555555555555556, \"#d8576b\"], [0.6666666666666666, \"#ed7953\"], [0.7777777777777778, \"#fb9f3a\"], [0.8888888888888888, \"#fdca26\"], [1.0, \"#f0f921\"]], \"sequentialminus\": [[0.0, \"#0d0887\"], [0.1111111111111111, \"#46039f\"], [0.2222222222222222, \"#7201a8\"], [0.3333333333333333, \"#9c179e\"], [0.4444444444444444, \"#bd3786\"], [0.5555555555555556, \"#d8576b\"], [0.6666666666666666, \"#ed7953\"], [0.7777777777777778, \"#fb9f3a\"], [0.8888888888888888, \"#fdca26\"], [1.0, \"#f0f921\"]]}, \"colorway\": [\"#636efa\", \"#EF553B\", \"#00cc96\", \"#ab63fa\", \"#FFA15A\", \"#19d3f3\", \"#FF6692\", \"#B6E880\", \"#FF97FF\", \"#FECB52\"], \"font\": {\"color\": \"#2a3f5f\"}, \"geo\": {\"bgcolor\": \"white\", \"lakecolor\": \"white\", \"landcolor\": \"#E5ECF6\", \"showlakes\": true, \"showland\": true, \"subunitcolor\": \"white\"}, \"hoverlabel\": {\"align\": \"left\"}, \"hovermode\": \"closest\", \"mapbox\": {\"style\": \"light\"}, \"paper_bgcolor\": \"white\", \"plot_bgcolor\": \"#E5ECF6\", \"polar\": {\"angularaxis\": {\"gridcolor\": \"white\", \"linecolor\": \"white\", \"ticks\": \"\"}, \"bgcolor\": \"#E5ECF6\", \"radialaxis\": {\"gridcolor\": \"white\", \"linecolor\": \"white\", \"ticks\": \"\"}}, \"scene\": {\"xaxis\": {\"backgroundcolor\": \"#E5ECF6\", \"gridcolor\": \"white\", \"gridwidth\": 2, \"linecolor\": \"white\", \"showbackground\": true, \"ticks\": \"\", \"zerolinecolor\": \"white\"}, \"yaxis\": {\"backgroundcolor\": \"#E5ECF6\", \"gridcolor\": \"white\", \"gridwidth\": 2, \"linecolor\": \"white\", \"showbackground\": true, \"ticks\": \"\", \"zerolinecolor\": \"white\"}, \"zaxis\": {\"backgroundcolor\": \"#E5ECF6\", \"gridcolor\": \"white\", \"gridwidth\": 2, \"linecolor\": \"white\", \"showbackground\": true, \"ticks\": \"\", \"zerolinecolor\": \"white\"}}, \"shapedefaults\": {\"line\": {\"color\": \"#2a3f5f\"}}, \"ternary\": {\"aaxis\": {\"gridcolor\": \"white\", \"linecolor\": \"white\", \"ticks\": \"\"}, \"baxis\": {\"gridcolor\": \"white\", \"linecolor\": \"white\", \"ticks\": \"\"}, \"bgcolor\": \"#E5ECF6\", \"caxis\": {\"gridcolor\": \"white\", \"linecolor\": \"white\", \"ticks\": \"\"}}, \"title\": {\"x\": 0.05}, \"xaxis\": {\"automargin\": true, \"gridcolor\": \"white\", \"linecolor\": \"white\", \"ticks\": \"\", \"title\": {\"standoff\": 15}, \"zerolinecolor\": \"white\", \"zerolinewidth\": 2}, \"yaxis\": {\"automargin\": true, \"gridcolor\": \"white\", \"linecolor\": \"white\", \"ticks\": \"\", \"title\": {\"standoff\": 15}, \"zerolinecolor\": \"white\", \"zerolinewidth\": 2}}}},\n",
       "                        {\"responsive\": true}\n",
       "                    ).then(function(){\n",
       "                            \n",
       "var gd = document.getElementById('068c397c-f2d2-4ad3-8954-4f98b981b278');\n",
       "var x = new MutationObserver(function (mutations, observer) {{\n",
       "        var display = window.getComputedStyle(gd).display;\n",
       "        if (!display || display === 'none') {{\n",
       "            console.log([gd, 'removed!']);\n",
       "            Plotly.purge(gd);\n",
       "            observer.disconnect();\n",
       "        }}\n",
       "}});\n",
       "\n",
       "// Listen for the removal of the full notebook cells\n",
       "var notebookContainer = gd.closest('#notebook-container');\n",
       "if (notebookContainer) {{\n",
       "    x.observe(notebookContainer, {childList: true});\n",
       "}}\n",
       "\n",
       "// Listen for the clearing of the current output cell\n",
       "var outputEl = gd.closest('.output');\n",
       "if (outputEl) {{\n",
       "    x.observe(outputEl, {childList: true});\n",
       "}}\n",
       "\n",
       "                        })\n",
       "                };\n",
       "                });\n",
       "            </script>\n",
       "        </div>"
      ]
     },
     "metadata": {},
     "output_type": "display_data"
    },
    {
     "data": {
      "application/vnd.plotly.v1+json": {
       "config": {
        "plotlyServerURL": "https://plot.ly"
       },
       "data": [
        {
         "hovertemplate": "Height (cm)=%{x}<br>Smear=%{y}<br>Burnup (GWd/MTU)=%{z}<br>Pu Fraction=%{marker.color}<extra></extra>",
         "legendgroup": "",
         "marker": {
          "color": [
           1,
           0.75,
           1,
           0.875,
           0.875,
           0.75,
           1,
           0.555555,
           0.75,
           1,
           0.555555,
           0.75,
           1,
           0.25,
           0.875,
           0.4,
           0.875,
           0.4,
           0.875,
           0.1,
           0.555555,
           0.75,
           1,
           0.555555,
           0.75,
           1,
           0.25,
           0.555555,
           0.75,
           1,
           0.25,
           0.555555,
           0.75,
           1,
           0.25
          ],
          "coloraxis": "coloraxis",
          "symbol": "circle"
         },
         "mode": "markers",
         "name": "",
         "scene": "scene",
         "showlegend": false,
         "type": "scatter3d",
         "x": [
          70,
          80,
          80,
          65,
          75,
          60,
          60,
          70,
          70,
          70,
          80,
          80,
          80,
          80,
          55,
          65,
          65,
          75,
          75,
          75,
          50,
          50,
          50,
          60,
          60,
          60,
          60,
          70,
          70,
          70,
          70,
          80,
          80,
          80,
          80
         ],
         "y": [
          50,
          50,
          50,
          55,
          55,
          60,
          60,
          60,
          60,
          60,
          60,
          60,
          60,
          60,
          65,
          65,
          65,
          65,
          65,
          65,
          70,
          70,
          70,
          70,
          70,
          70,
          70,
          70,
          70,
          70,
          70,
          70,
          70,
          70,
          70
         ],
         "z": [
          5.284147967569695,
          4.653187198059925,
          4.6236020170485155,
          5.189265761832412,
          4.497347325052933,
          5.170224818530157,
          5.137271880065679,
          4.4533172450787335,
          4.431423691331182,
          4.403607980302854,
          3.8967219111785925,
          3.877502923325075,
          3.852855006876358,
          3.926944211308433,
          5.1894500659860165,
          4.444191368904029,
          4.390967349627917,
          3.8515060255060254,
          3.8055909944327033,
          3.881514954101272,
          5.343920413693035,
          5.317956541691523,
          5.283992833854184,
          4.453225609486206,
          4.431567120111338,
          4.403336578662834,
          4.4879394666314685,
          3.8171462893900676,
          3.7985819129020593,
          3.774510883863113,
          3.8469834749967644,
          3.340093196216754,
          3.3234590771887187,
          3.3029335045473656,
          3.3657634403573167
         ]
        }
       ],
       "layout": {
        "coloraxis": {
         "colorbar": {
          "title": {
           "text": "Pu Fraction"
          }
         },
         "colorscale": [
          [
           0,
           "#0d0887"
          ],
          [
           0.1111111111111111,
           "#46039f"
          ],
          [
           0.2222222222222222,
           "#7201a8"
          ],
          [
           0.3333333333333333,
           "#9c179e"
          ],
          [
           0.4444444444444444,
           "#bd3786"
          ],
          [
           0.5555555555555556,
           "#d8576b"
          ],
          [
           0.6666666666666666,
           "#ed7953"
          ],
          [
           0.7777777777777778,
           "#fb9f3a"
          ],
          [
           0.8888888888888888,
           "#fdca26"
          ],
          [
           1,
           "#f0f921"
          ]
         ]
        },
        "legend": {
         "tracegroupgap": 0
        },
        "margin": {
         "t": 60
        },
        "scene": {
         "domain": {
          "x": [
           0,
           1
          ],
          "y": [
           0,
           1
          ]
         },
         "xaxis": {
          "title": {
           "text": "Height (cm)"
          }
         },
         "yaxis": {
          "title": {
           "text": "Smear"
          }
         },
         "zaxis": {
          "title": {
           "text": "Burnup (GWd/MTU)"
          }
         }
        },
        "template": {
         "data": {
          "bar": [
           {
            "error_x": {
             "color": "#2a3f5f"
            },
            "error_y": {
             "color": "#2a3f5f"
            },
            "marker": {
             "line": {
              "color": "#E5ECF6",
              "width": 0.5
             }
            },
            "type": "bar"
           }
          ],
          "barpolar": [
           {
            "marker": {
             "line": {
              "color": "#E5ECF6",
              "width": 0.5
             }
            },
            "type": "barpolar"
           }
          ],
          "carpet": [
           {
            "aaxis": {
             "endlinecolor": "#2a3f5f",
             "gridcolor": "white",
             "linecolor": "white",
             "minorgridcolor": "white",
             "startlinecolor": "#2a3f5f"
            },
            "baxis": {
             "endlinecolor": "#2a3f5f",
             "gridcolor": "white",
             "linecolor": "white",
             "minorgridcolor": "white",
             "startlinecolor": "#2a3f5f"
            },
            "type": "carpet"
           }
          ],
          "choropleth": [
           {
            "colorbar": {
             "outlinewidth": 0,
             "ticks": ""
            },
            "type": "choropleth"
           }
          ],
          "contour": [
           {
            "colorbar": {
             "outlinewidth": 0,
             "ticks": ""
            },
            "colorscale": [
             [
              0,
              "#0d0887"
             ],
             [
              0.1111111111111111,
              "#46039f"
             ],
             [
              0.2222222222222222,
              "#7201a8"
             ],
             [
              0.3333333333333333,
              "#9c179e"
             ],
             [
              0.4444444444444444,
              "#bd3786"
             ],
             [
              0.5555555555555556,
              "#d8576b"
             ],
             [
              0.6666666666666666,
              "#ed7953"
             ],
             [
              0.7777777777777778,
              "#fb9f3a"
             ],
             [
              0.8888888888888888,
              "#fdca26"
             ],
             [
              1,
              "#f0f921"
             ]
            ],
            "type": "contour"
           }
          ],
          "contourcarpet": [
           {
            "colorbar": {
             "outlinewidth": 0,
             "ticks": ""
            },
            "type": "contourcarpet"
           }
          ],
          "heatmap": [
           {
            "colorbar": {
             "outlinewidth": 0,
             "ticks": ""
            },
            "colorscale": [
             [
              0,
              "#0d0887"
             ],
             [
              0.1111111111111111,
              "#46039f"
             ],
             [
              0.2222222222222222,
              "#7201a8"
             ],
             [
              0.3333333333333333,
              "#9c179e"
             ],
             [
              0.4444444444444444,
              "#bd3786"
             ],
             [
              0.5555555555555556,
              "#d8576b"
             ],
             [
              0.6666666666666666,
              "#ed7953"
             ],
             [
              0.7777777777777778,
              "#fb9f3a"
             ],
             [
              0.8888888888888888,
              "#fdca26"
             ],
             [
              1,
              "#f0f921"
             ]
            ],
            "type": "heatmap"
           }
          ],
          "heatmapgl": [
           {
            "colorbar": {
             "outlinewidth": 0,
             "ticks": ""
            },
            "colorscale": [
             [
              0,
              "#0d0887"
             ],
             [
              0.1111111111111111,
              "#46039f"
             ],
             [
              0.2222222222222222,
              "#7201a8"
             ],
             [
              0.3333333333333333,
              "#9c179e"
             ],
             [
              0.4444444444444444,
              "#bd3786"
             ],
             [
              0.5555555555555556,
              "#d8576b"
             ],
             [
              0.6666666666666666,
              "#ed7953"
             ],
             [
              0.7777777777777778,
              "#fb9f3a"
             ],
             [
              0.8888888888888888,
              "#fdca26"
             ],
             [
              1,
              "#f0f921"
             ]
            ],
            "type": "heatmapgl"
           }
          ],
          "histogram": [
           {
            "marker": {
             "colorbar": {
              "outlinewidth": 0,
              "ticks": ""
             }
            },
            "type": "histogram"
           }
          ],
          "histogram2d": [
           {
            "colorbar": {
             "outlinewidth": 0,
             "ticks": ""
            },
            "colorscale": [
             [
              0,
              "#0d0887"
             ],
             [
              0.1111111111111111,
              "#46039f"
             ],
             [
              0.2222222222222222,
              "#7201a8"
             ],
             [
              0.3333333333333333,
              "#9c179e"
             ],
             [
              0.4444444444444444,
              "#bd3786"
             ],
             [
              0.5555555555555556,
              "#d8576b"
             ],
             [
              0.6666666666666666,
              "#ed7953"
             ],
             [
              0.7777777777777778,
              "#fb9f3a"
             ],
             [
              0.8888888888888888,
              "#fdca26"
             ],
             [
              1,
              "#f0f921"
             ]
            ],
            "type": "histogram2d"
           }
          ],
          "histogram2dcontour": [
           {
            "colorbar": {
             "outlinewidth": 0,
             "ticks": ""
            },
            "colorscale": [
             [
              0,
              "#0d0887"
             ],
             [
              0.1111111111111111,
              "#46039f"
             ],
             [
              0.2222222222222222,
              "#7201a8"
             ],
             [
              0.3333333333333333,
              "#9c179e"
             ],
             [
              0.4444444444444444,
              "#bd3786"
             ],
             [
              0.5555555555555556,
              "#d8576b"
             ],
             [
              0.6666666666666666,
              "#ed7953"
             ],
             [
              0.7777777777777778,
              "#fb9f3a"
             ],
             [
              0.8888888888888888,
              "#fdca26"
             ],
             [
              1,
              "#f0f921"
             ]
            ],
            "type": "histogram2dcontour"
           }
          ],
          "mesh3d": [
           {
            "colorbar": {
             "outlinewidth": 0,
             "ticks": ""
            },
            "type": "mesh3d"
           }
          ],
          "parcoords": [
           {
            "line": {
             "colorbar": {
              "outlinewidth": 0,
              "ticks": ""
             }
            },
            "type": "parcoords"
           }
          ],
          "pie": [
           {
            "automargin": true,
            "type": "pie"
           }
          ],
          "scatter": [
           {
            "marker": {
             "colorbar": {
              "outlinewidth": 0,
              "ticks": ""
             }
            },
            "type": "scatter"
           }
          ],
          "scatter3d": [
           {
            "line": {
             "colorbar": {
              "outlinewidth": 0,
              "ticks": ""
             }
            },
            "marker": {
             "colorbar": {
              "outlinewidth": 0,
              "ticks": ""
             }
            },
            "type": "scatter3d"
           }
          ],
          "scattercarpet": [
           {
            "marker": {
             "colorbar": {
              "outlinewidth": 0,
              "ticks": ""
             }
            },
            "type": "scattercarpet"
           }
          ],
          "scattergeo": [
           {
            "marker": {
             "colorbar": {
              "outlinewidth": 0,
              "ticks": ""
             }
            },
            "type": "scattergeo"
           }
          ],
          "scattergl": [
           {
            "marker": {
             "colorbar": {
              "outlinewidth": 0,
              "ticks": ""
             }
            },
            "type": "scattergl"
           }
          ],
          "scattermapbox": [
           {
            "marker": {
             "colorbar": {
              "outlinewidth": 0,
              "ticks": ""
             }
            },
            "type": "scattermapbox"
           }
          ],
          "scatterpolar": [
           {
            "marker": {
             "colorbar": {
              "outlinewidth": 0,
              "ticks": ""
             }
            },
            "type": "scatterpolar"
           }
          ],
          "scatterpolargl": [
           {
            "marker": {
             "colorbar": {
              "outlinewidth": 0,
              "ticks": ""
             }
            },
            "type": "scatterpolargl"
           }
          ],
          "scatterternary": [
           {
            "marker": {
             "colorbar": {
              "outlinewidth": 0,
              "ticks": ""
             }
            },
            "type": "scatterternary"
           }
          ],
          "surface": [
           {
            "colorbar": {
             "outlinewidth": 0,
             "ticks": ""
            },
            "colorscale": [
             [
              0,
              "#0d0887"
             ],
             [
              0.1111111111111111,
              "#46039f"
             ],
             [
              0.2222222222222222,
              "#7201a8"
             ],
             [
              0.3333333333333333,
              "#9c179e"
             ],
             [
              0.4444444444444444,
              "#bd3786"
             ],
             [
              0.5555555555555556,
              "#d8576b"
             ],
             [
              0.6666666666666666,
              "#ed7953"
             ],
             [
              0.7777777777777778,
              "#fb9f3a"
             ],
             [
              0.8888888888888888,
              "#fdca26"
             ],
             [
              1,
              "#f0f921"
             ]
            ],
            "type": "surface"
           }
          ],
          "table": [
           {
            "cells": {
             "fill": {
              "color": "#EBF0F8"
             },
             "line": {
              "color": "white"
             }
            },
            "header": {
             "fill": {
              "color": "#C8D4E3"
             },
             "line": {
              "color": "white"
             }
            },
            "type": "table"
           }
          ]
         },
         "layout": {
          "annotationdefaults": {
           "arrowcolor": "#2a3f5f",
           "arrowhead": 0,
           "arrowwidth": 1
          },
          "coloraxis": {
           "colorbar": {
            "outlinewidth": 0,
            "ticks": ""
           }
          },
          "colorscale": {
           "diverging": [
            [
             0,
             "#8e0152"
            ],
            [
             0.1,
             "#c51b7d"
            ],
            [
             0.2,
             "#de77ae"
            ],
            [
             0.3,
             "#f1b6da"
            ],
            [
             0.4,
             "#fde0ef"
            ],
            [
             0.5,
             "#f7f7f7"
            ],
            [
             0.6,
             "#e6f5d0"
            ],
            [
             0.7,
             "#b8e186"
            ],
            [
             0.8,
             "#7fbc41"
            ],
            [
             0.9,
             "#4d9221"
            ],
            [
             1,
             "#276419"
            ]
           ],
           "sequential": [
            [
             0,
             "#0d0887"
            ],
            [
             0.1111111111111111,
             "#46039f"
            ],
            [
             0.2222222222222222,
             "#7201a8"
            ],
            [
             0.3333333333333333,
             "#9c179e"
            ],
            [
             0.4444444444444444,
             "#bd3786"
            ],
            [
             0.5555555555555556,
             "#d8576b"
            ],
            [
             0.6666666666666666,
             "#ed7953"
            ],
            [
             0.7777777777777778,
             "#fb9f3a"
            ],
            [
             0.8888888888888888,
             "#fdca26"
            ],
            [
             1,
             "#f0f921"
            ]
           ],
           "sequentialminus": [
            [
             0,
             "#0d0887"
            ],
            [
             0.1111111111111111,
             "#46039f"
            ],
            [
             0.2222222222222222,
             "#7201a8"
            ],
            [
             0.3333333333333333,
             "#9c179e"
            ],
            [
             0.4444444444444444,
             "#bd3786"
            ],
            [
             0.5555555555555556,
             "#d8576b"
            ],
            [
             0.6666666666666666,
             "#ed7953"
            ],
            [
             0.7777777777777778,
             "#fb9f3a"
            ],
            [
             0.8888888888888888,
             "#fdca26"
            ],
            [
             1,
             "#f0f921"
            ]
           ]
          },
          "colorway": [
           "#636efa",
           "#EF553B",
           "#00cc96",
           "#ab63fa",
           "#FFA15A",
           "#19d3f3",
           "#FF6692",
           "#B6E880",
           "#FF97FF",
           "#FECB52"
          ],
          "font": {
           "color": "#2a3f5f"
          },
          "geo": {
           "bgcolor": "white",
           "lakecolor": "white",
           "landcolor": "#E5ECF6",
           "showlakes": true,
           "showland": true,
           "subunitcolor": "white"
          },
          "hoverlabel": {
           "align": "left"
          },
          "hovermode": "closest",
          "mapbox": {
           "style": "light"
          },
          "paper_bgcolor": "white",
          "plot_bgcolor": "#E5ECF6",
          "polar": {
           "angularaxis": {
            "gridcolor": "white",
            "linecolor": "white",
            "ticks": ""
           },
           "bgcolor": "#E5ECF6",
           "radialaxis": {
            "gridcolor": "white",
            "linecolor": "white",
            "ticks": ""
           }
          },
          "scene": {
           "xaxis": {
            "backgroundcolor": "#E5ECF6",
            "gridcolor": "white",
            "gridwidth": 2,
            "linecolor": "white",
            "showbackground": true,
            "ticks": "",
            "zerolinecolor": "white"
           },
           "yaxis": {
            "backgroundcolor": "#E5ECF6",
            "gridcolor": "white",
            "gridwidth": 2,
            "linecolor": "white",
            "showbackground": true,
            "ticks": "",
            "zerolinecolor": "white"
           },
           "zaxis": {
            "backgroundcolor": "#E5ECF6",
            "gridcolor": "white",
            "gridwidth": 2,
            "linecolor": "white",
            "showbackground": true,
            "ticks": "",
            "zerolinecolor": "white"
           }
          },
          "shapedefaults": {
           "line": {
            "color": "#2a3f5f"
           }
          },
          "ternary": {
           "aaxis": {
            "gridcolor": "white",
            "linecolor": "white",
            "ticks": ""
           },
           "baxis": {
            "gridcolor": "white",
            "linecolor": "white",
            "ticks": ""
           },
           "bgcolor": "#E5ECF6",
           "caxis": {
            "gridcolor": "white",
            "linecolor": "white",
            "ticks": ""
           }
          },
          "title": {
           "x": 0.05
          },
          "xaxis": {
           "automargin": true,
           "gridcolor": "white",
           "linecolor": "white",
           "ticks": "",
           "title": {
            "standoff": 15
           },
           "zerolinecolor": "white",
           "zerolinewidth": 2
          },
          "yaxis": {
           "automargin": true,
           "gridcolor": "white",
           "linecolor": "white",
           "ticks": "",
           "title": {
            "standoff": 15
           },
           "zerolinecolor": "white",
           "zerolinewidth": 2
          }
         }
        }
       }
      },
      "text/html": [
       "<div>\n",
       "        \n",
       "        \n",
       "            <div id=\"6ca706bb-e7c4-4402-b63d-378f7bc3805c\" class=\"plotly-graph-div\" style=\"height:525px; width:100%;\"></div>\n",
       "            <script type=\"text/javascript\">\n",
       "                require([\"plotly\"], function(Plotly) {\n",
       "                    window.PLOTLYENV=window.PLOTLYENV || {};\n",
       "                    \n",
       "                if (document.getElementById(\"6ca706bb-e7c4-4402-b63d-378f7bc3805c\")) {\n",
       "                    Plotly.newPlot(\n",
       "                        '6ca706bb-e7c4-4402-b63d-378f7bc3805c',\n",
       "                        [{\"hovertemplate\": \"Height (cm)=%{x}<br>Smear=%{y}<br>Burnup (GWd/MTU)=%{z}<br>Pu Fraction=%{marker.color}<extra></extra>\", \"legendgroup\": \"\", \"marker\": {\"color\": [1.0, 0.75, 1.0, 0.875, 0.875, 0.75, 1.0, 0.555555, 0.75, 1.0, 0.555555, 0.75, 1.0, 0.25, 0.875, 0.4, 0.875, 0.4, 0.875, 0.1, 0.555555, 0.75, 1.0, 0.555555, 0.75, 1.0, 0.25, 0.555555, 0.75, 1.0, 0.25, 0.555555, 0.75, 1.0, 0.25], \"coloraxis\": \"coloraxis\", \"symbol\": \"circle\"}, \"mode\": \"markers\", \"name\": \"\", \"scene\": \"scene\", \"showlegend\": false, \"type\": \"scatter3d\", \"x\": [70.0, 80.0, 80.0, 65.0, 75.0, 60.0, 60.0, 70.0, 70.0, 70.0, 80.0, 80.0, 80.0, 80.0, 55.0, 65.0, 65.0, 75.0, 75.0, 75.0, 50.0, 50.0, 50.0, 60.0, 60.0, 60.0, 60.0, 70.0, 70.0, 70.0, 70.0, 80.0, 80.0, 80.0, 80.0], \"y\": [50.0, 50.0, 50.0, 55.0, 55.0, 60.0, 60.0, 60.0, 60.0, 60.0, 60.0, 60.0, 60.0, 60.0, 65.0, 65.0, 65.0, 65.0, 65.0, 65.0, 70.0, 70.0, 70.0, 70.0, 70.0, 70.0, 70.0, 70.0, 70.0, 70.0, 70.0, 70.0, 70.0, 70.0, 70.0], \"z\": [5.284147967569695, 4.653187198059925, 4.6236020170485155, 5.189265761832412, 4.497347325052933, 5.170224818530157, 5.137271880065679, 4.4533172450787335, 4.431423691331182, 4.403607980302854, 3.8967219111785925, 3.877502923325075, 3.852855006876358, 3.926944211308433, 5.1894500659860165, 4.444191368904029, 4.390967349627917, 3.8515060255060254, 3.8055909944327033, 3.881514954101272, 5.343920413693035, 5.317956541691523, 5.283992833854184, 4.453225609486206, 4.431567120111338, 4.403336578662834, 4.4879394666314685, 3.8171462893900676, 3.7985819129020593, 3.774510883863113, 3.8469834749967644, 3.340093196216754, 3.3234590771887187, 3.3029335045473656, 3.3657634403573167]}],\n",
       "                        {\"coloraxis\": {\"colorbar\": {\"title\": {\"text\": \"Pu Fraction\"}}, \"colorscale\": [[0.0, \"#0d0887\"], [0.1111111111111111, \"#46039f\"], [0.2222222222222222, \"#7201a8\"], [0.3333333333333333, \"#9c179e\"], [0.4444444444444444, \"#bd3786\"], [0.5555555555555556, \"#d8576b\"], [0.6666666666666666, \"#ed7953\"], [0.7777777777777778, \"#fb9f3a\"], [0.8888888888888888, \"#fdca26\"], [1.0, \"#f0f921\"]]}, \"legend\": {\"tracegroupgap\": 0}, \"margin\": {\"t\": 60}, \"scene\": {\"domain\": {\"x\": [0.0, 1.0], \"y\": [0.0, 1.0]}, \"xaxis\": {\"title\": {\"text\": \"Height (cm)\"}}, \"yaxis\": {\"title\": {\"text\": \"Smear\"}}, \"zaxis\": {\"title\": {\"text\": \"Burnup (GWd/MTU)\"}}}, \"template\": {\"data\": {\"bar\": [{\"error_x\": {\"color\": \"#2a3f5f\"}, \"error_y\": {\"color\": \"#2a3f5f\"}, \"marker\": {\"line\": {\"color\": \"#E5ECF6\", \"width\": 0.5}}, \"type\": \"bar\"}], \"barpolar\": [{\"marker\": {\"line\": {\"color\": \"#E5ECF6\", \"width\": 0.5}}, \"type\": \"barpolar\"}], \"carpet\": [{\"aaxis\": {\"endlinecolor\": \"#2a3f5f\", \"gridcolor\": \"white\", \"linecolor\": \"white\", \"minorgridcolor\": \"white\", \"startlinecolor\": \"#2a3f5f\"}, \"baxis\": {\"endlinecolor\": \"#2a3f5f\", \"gridcolor\": \"white\", \"linecolor\": \"white\", \"minorgridcolor\": \"white\", \"startlinecolor\": \"#2a3f5f\"}, \"type\": \"carpet\"}], \"choropleth\": [{\"colorbar\": {\"outlinewidth\": 0, \"ticks\": \"\"}, \"type\": \"choropleth\"}], \"contour\": [{\"colorbar\": {\"outlinewidth\": 0, \"ticks\": \"\"}, \"colorscale\": [[0.0, \"#0d0887\"], [0.1111111111111111, \"#46039f\"], [0.2222222222222222, \"#7201a8\"], [0.3333333333333333, \"#9c179e\"], [0.4444444444444444, \"#bd3786\"], [0.5555555555555556, \"#d8576b\"], [0.6666666666666666, \"#ed7953\"], [0.7777777777777778, \"#fb9f3a\"], [0.8888888888888888, \"#fdca26\"], [1.0, \"#f0f921\"]], \"type\": \"contour\"}], \"contourcarpet\": [{\"colorbar\": {\"outlinewidth\": 0, \"ticks\": \"\"}, \"type\": \"contourcarpet\"}], \"heatmap\": [{\"colorbar\": {\"outlinewidth\": 0, \"ticks\": \"\"}, \"colorscale\": [[0.0, \"#0d0887\"], [0.1111111111111111, \"#46039f\"], [0.2222222222222222, \"#7201a8\"], [0.3333333333333333, \"#9c179e\"], [0.4444444444444444, \"#bd3786\"], [0.5555555555555556, \"#d8576b\"], [0.6666666666666666, \"#ed7953\"], [0.7777777777777778, \"#fb9f3a\"], [0.8888888888888888, \"#fdca26\"], [1.0, \"#f0f921\"]], \"type\": \"heatmap\"}], \"heatmapgl\": [{\"colorbar\": {\"outlinewidth\": 0, \"ticks\": \"\"}, \"colorscale\": [[0.0, \"#0d0887\"], [0.1111111111111111, \"#46039f\"], [0.2222222222222222, \"#7201a8\"], [0.3333333333333333, \"#9c179e\"], [0.4444444444444444, \"#bd3786\"], [0.5555555555555556, \"#d8576b\"], [0.6666666666666666, \"#ed7953\"], [0.7777777777777778, \"#fb9f3a\"], [0.8888888888888888, \"#fdca26\"], [1.0, \"#f0f921\"]], \"type\": \"heatmapgl\"}], \"histogram\": [{\"marker\": {\"colorbar\": {\"outlinewidth\": 0, \"ticks\": \"\"}}, \"type\": \"histogram\"}], \"histogram2d\": [{\"colorbar\": {\"outlinewidth\": 0, \"ticks\": \"\"}, \"colorscale\": [[0.0, \"#0d0887\"], [0.1111111111111111, \"#46039f\"], [0.2222222222222222, \"#7201a8\"], [0.3333333333333333, \"#9c179e\"], [0.4444444444444444, \"#bd3786\"], [0.5555555555555556, \"#d8576b\"], [0.6666666666666666, \"#ed7953\"], [0.7777777777777778, \"#fb9f3a\"], [0.8888888888888888, \"#fdca26\"], [1.0, \"#f0f921\"]], \"type\": \"histogram2d\"}], \"histogram2dcontour\": [{\"colorbar\": {\"outlinewidth\": 0, \"ticks\": \"\"}, \"colorscale\": [[0.0, \"#0d0887\"], [0.1111111111111111, \"#46039f\"], [0.2222222222222222, \"#7201a8\"], [0.3333333333333333, \"#9c179e\"], [0.4444444444444444, \"#bd3786\"], [0.5555555555555556, \"#d8576b\"], [0.6666666666666666, \"#ed7953\"], [0.7777777777777778, \"#fb9f3a\"], [0.8888888888888888, \"#fdca26\"], [1.0, \"#f0f921\"]], \"type\": \"histogram2dcontour\"}], \"mesh3d\": [{\"colorbar\": {\"outlinewidth\": 0, \"ticks\": \"\"}, \"type\": \"mesh3d\"}], \"parcoords\": [{\"line\": {\"colorbar\": {\"outlinewidth\": 0, \"ticks\": \"\"}}, \"type\": \"parcoords\"}], \"pie\": [{\"automargin\": true, \"type\": \"pie\"}], \"scatter\": [{\"marker\": {\"colorbar\": {\"outlinewidth\": 0, \"ticks\": \"\"}}, \"type\": \"scatter\"}], \"scatter3d\": [{\"line\": {\"colorbar\": {\"outlinewidth\": 0, \"ticks\": \"\"}}, \"marker\": {\"colorbar\": {\"outlinewidth\": 0, \"ticks\": \"\"}}, \"type\": \"scatter3d\"}], \"scattercarpet\": [{\"marker\": {\"colorbar\": {\"outlinewidth\": 0, \"ticks\": \"\"}}, \"type\": \"scattercarpet\"}], \"scattergeo\": [{\"marker\": {\"colorbar\": {\"outlinewidth\": 0, \"ticks\": \"\"}}, \"type\": \"scattergeo\"}], \"scattergl\": [{\"marker\": {\"colorbar\": {\"outlinewidth\": 0, \"ticks\": \"\"}}, \"type\": \"scattergl\"}], \"scattermapbox\": [{\"marker\": {\"colorbar\": {\"outlinewidth\": 0, \"ticks\": \"\"}}, \"type\": \"scattermapbox\"}], \"scatterpolar\": [{\"marker\": {\"colorbar\": {\"outlinewidth\": 0, \"ticks\": \"\"}}, \"type\": \"scatterpolar\"}], \"scatterpolargl\": [{\"marker\": {\"colorbar\": {\"outlinewidth\": 0, \"ticks\": \"\"}}, \"type\": \"scatterpolargl\"}], \"scatterternary\": [{\"marker\": {\"colorbar\": {\"outlinewidth\": 0, \"ticks\": \"\"}}, \"type\": \"scatterternary\"}], \"surface\": [{\"colorbar\": {\"outlinewidth\": 0, \"ticks\": \"\"}, \"colorscale\": [[0.0, \"#0d0887\"], [0.1111111111111111, \"#46039f\"], [0.2222222222222222, \"#7201a8\"], [0.3333333333333333, \"#9c179e\"], [0.4444444444444444, \"#bd3786\"], [0.5555555555555556, \"#d8576b\"], [0.6666666666666666, \"#ed7953\"], [0.7777777777777778, \"#fb9f3a\"], [0.8888888888888888, \"#fdca26\"], [1.0, \"#f0f921\"]], \"type\": \"surface\"}], \"table\": [{\"cells\": {\"fill\": {\"color\": \"#EBF0F8\"}, \"line\": {\"color\": \"white\"}}, \"header\": {\"fill\": {\"color\": \"#C8D4E3\"}, \"line\": {\"color\": \"white\"}}, \"type\": \"table\"}]}, \"layout\": {\"annotationdefaults\": {\"arrowcolor\": \"#2a3f5f\", \"arrowhead\": 0, \"arrowwidth\": 1}, \"coloraxis\": {\"colorbar\": {\"outlinewidth\": 0, \"ticks\": \"\"}}, \"colorscale\": {\"diverging\": [[0, \"#8e0152\"], [0.1, \"#c51b7d\"], [0.2, \"#de77ae\"], [0.3, \"#f1b6da\"], [0.4, \"#fde0ef\"], [0.5, \"#f7f7f7\"], [0.6, \"#e6f5d0\"], [0.7, \"#b8e186\"], [0.8, \"#7fbc41\"], [0.9, \"#4d9221\"], [1, \"#276419\"]], \"sequential\": [[0.0, \"#0d0887\"], [0.1111111111111111, \"#46039f\"], [0.2222222222222222, \"#7201a8\"], [0.3333333333333333, \"#9c179e\"], [0.4444444444444444, \"#bd3786\"], [0.5555555555555556, \"#d8576b\"], [0.6666666666666666, \"#ed7953\"], [0.7777777777777778, \"#fb9f3a\"], [0.8888888888888888, \"#fdca26\"], [1.0, \"#f0f921\"]], \"sequentialminus\": [[0.0, \"#0d0887\"], [0.1111111111111111, \"#46039f\"], [0.2222222222222222, \"#7201a8\"], [0.3333333333333333, \"#9c179e\"], [0.4444444444444444, \"#bd3786\"], [0.5555555555555556, \"#d8576b\"], [0.6666666666666666, \"#ed7953\"], [0.7777777777777778, \"#fb9f3a\"], [0.8888888888888888, \"#fdca26\"], [1.0, \"#f0f921\"]]}, \"colorway\": [\"#636efa\", \"#EF553B\", \"#00cc96\", \"#ab63fa\", \"#FFA15A\", \"#19d3f3\", \"#FF6692\", \"#B6E880\", \"#FF97FF\", \"#FECB52\"], \"font\": {\"color\": \"#2a3f5f\"}, \"geo\": {\"bgcolor\": \"white\", \"lakecolor\": \"white\", \"landcolor\": \"#E5ECF6\", \"showlakes\": true, \"showland\": true, \"subunitcolor\": \"white\"}, \"hoverlabel\": {\"align\": \"left\"}, \"hovermode\": \"closest\", \"mapbox\": {\"style\": \"light\"}, \"paper_bgcolor\": \"white\", \"plot_bgcolor\": \"#E5ECF6\", \"polar\": {\"angularaxis\": {\"gridcolor\": \"white\", \"linecolor\": \"white\", \"ticks\": \"\"}, \"bgcolor\": \"#E5ECF6\", \"radialaxis\": {\"gridcolor\": \"white\", \"linecolor\": \"white\", \"ticks\": \"\"}}, \"scene\": {\"xaxis\": {\"backgroundcolor\": \"#E5ECF6\", \"gridcolor\": \"white\", \"gridwidth\": 2, \"linecolor\": \"white\", \"showbackground\": true, \"ticks\": \"\", \"zerolinecolor\": \"white\"}, \"yaxis\": {\"backgroundcolor\": \"#E5ECF6\", \"gridcolor\": \"white\", \"gridwidth\": 2, \"linecolor\": \"white\", \"showbackground\": true, \"ticks\": \"\", \"zerolinecolor\": \"white\"}, \"zaxis\": {\"backgroundcolor\": \"#E5ECF6\", \"gridcolor\": \"white\", \"gridwidth\": 2, \"linecolor\": \"white\", \"showbackground\": true, \"ticks\": \"\", \"zerolinecolor\": \"white\"}}, \"shapedefaults\": {\"line\": {\"color\": \"#2a3f5f\"}}, \"ternary\": {\"aaxis\": {\"gridcolor\": \"white\", \"linecolor\": \"white\", \"ticks\": \"\"}, \"baxis\": {\"gridcolor\": \"white\", \"linecolor\": \"white\", \"ticks\": \"\"}, \"bgcolor\": \"#E5ECF6\", \"caxis\": {\"gridcolor\": \"white\", \"linecolor\": \"white\", \"ticks\": \"\"}}, \"title\": {\"x\": 0.05}, \"xaxis\": {\"automargin\": true, \"gridcolor\": \"white\", \"linecolor\": \"white\", \"ticks\": \"\", \"title\": {\"standoff\": 15}, \"zerolinecolor\": \"white\", \"zerolinewidth\": 2}, \"yaxis\": {\"automargin\": true, \"gridcolor\": \"white\", \"linecolor\": \"white\", \"ticks\": \"\", \"title\": {\"standoff\": 15}, \"zerolinecolor\": \"white\", \"zerolinewidth\": 2}}}},\n",
       "                        {\"responsive\": true}\n",
       "                    ).then(function(){\n",
       "                            \n",
       "var gd = document.getElementById('6ca706bb-e7c4-4402-b63d-378f7bc3805c');\n",
       "var x = new MutationObserver(function (mutations, observer) {{\n",
       "        var display = window.getComputedStyle(gd).display;\n",
       "        if (!display || display === 'none') {{\n",
       "            console.log([gd, 'removed!']);\n",
       "            Plotly.purge(gd);\n",
       "            observer.disconnect();\n",
       "        }}\n",
       "}});\n",
       "\n",
       "// Listen for the removal of the full notebook cells\n",
       "var notebookContainer = gd.closest('#notebook-container');\n",
       "if (notebookContainer) {{\n",
       "    x.observe(notebookContainer, {childList: true});\n",
       "}}\n",
       "\n",
       "// Listen for the clearing of the current output cell\n",
       "var outputEl = gd.closest('.output');\n",
       "if (outputEl) {{\n",
       "    x.observe(outputEl, {childList: true});\n",
       "}}\n",
       "\n",
       "                        })\n",
       "                };\n",
       "                });\n",
       "            </script>\n",
       "        </div>"
      ]
     },
     "metadata": {},
     "output_type": "display_data"
    },
    {
     "data": {
      "application/vnd.plotly.v1+json": {
       "config": {
        "plotlyServerURL": "https://plot.ly"
       },
       "data": [
        {
         "hovertemplate": "Height (cm)=%{x}<br>Smear=%{y}<br>Pu Mass per Cycle (kg)=%{z}<br>Pu Fraction=%{marker.color}<extra></extra>",
         "legendgroup": "",
         "marker": {
          "color": [
           1,
           0.75,
           1,
           0.875,
           0.875,
           0.75,
           1,
           0.555555,
           0.75,
           1,
           0.555555,
           0.75,
           1,
           0.25,
           0.875,
           0.4,
           0.875,
           0.4,
           0.875,
           0.1,
           0.555555,
           0.75,
           1,
           0.555555,
           0.75,
           1,
           0.25,
           0.555555,
           0.75,
           1,
           0.25,
           0.555555,
           0.75,
           1,
           0.25
          ],
          "coloraxis": "coloraxis",
          "symbol": "circle"
         },
         "mode": "markers",
         "name": "",
         "scene": "scene",
         "showlegend": false,
         "type": "scatter3d",
         "x": [
          70,
          80,
          80,
          65,
          75,
          60,
          60,
          70,
          70,
          70,
          80,
          80,
          80,
          80,
          55,
          65,
          65,
          75,
          75,
          75,
          50,
          50,
          50,
          60,
          60,
          60,
          60,
          70,
          70,
          70,
          70,
          80,
          80,
          80,
          80
         ],
         "y": [
          50,
          50,
          50,
          55,
          55,
          60,
          60,
          60,
          60,
          60,
          60,
          60,
          60,
          60,
          65,
          65,
          65,
          65,
          65,
          65,
          70,
          70,
          70,
          70,
          70,
          70,
          70,
          70,
          70,
          70,
          70,
          70,
          70,
          70,
          70
         ],
         "z": [
          1181.9608990061608,
          1006.703762001612,
          1350.8124560070412,
          1053.0379776619268,
          1215.0438203791466,
          906.0333858014503,
          1215.7312104063367,
          779.1160442058998,
          1057.0389501016923,
          1418.353078807393,
          890.4183362353139,
          1208.0445144019338,
          1620.9749472084486,
          397.5570407977096,
          1053.0379776619268,
          562.0579184980147,
          1244.4994281459135,
          648.5283674977092,
          1435.9608786299002,
          160.8830037737118,
          649.2633701715832,
          880.8657917514103,
          1181.9608990061608,
          779.1160442058998,
          1057.0389501016923,
          1418.353078807393,
          347.8624106979959,
          908.9687182402163,
          1233.2121084519745,
          1654.7452586086251,
          405.8394791476619,
          1038.821392274533,
          1409.3852668022564,
          1891.1374384098576,
          463.81654759732794
         ]
        }
       ],
       "layout": {
        "coloraxis": {
         "colorbar": {
          "title": {
           "text": "Pu Fraction"
          }
         },
         "colorscale": [
          [
           0,
           "#0d0887"
          ],
          [
           0.1111111111111111,
           "#46039f"
          ],
          [
           0.2222222222222222,
           "#7201a8"
          ],
          [
           0.3333333333333333,
           "#9c179e"
          ],
          [
           0.4444444444444444,
           "#bd3786"
          ],
          [
           0.5555555555555556,
           "#d8576b"
          ],
          [
           0.6666666666666666,
           "#ed7953"
          ],
          [
           0.7777777777777778,
           "#fb9f3a"
          ],
          [
           0.8888888888888888,
           "#fdca26"
          ],
          [
           1,
           "#f0f921"
          ]
         ]
        },
        "legend": {
         "tracegroupgap": 0
        },
        "margin": {
         "t": 60
        },
        "scene": {
         "domain": {
          "x": [
           0,
           1
          ],
          "y": [
           0,
           1
          ]
         },
         "xaxis": {
          "title": {
           "text": "Height (cm)"
          }
         },
         "yaxis": {
          "title": {
           "text": "Smear"
          }
         },
         "zaxis": {
          "title": {
           "text": "Pu Mass per Cycle (kg)"
          }
         }
        },
        "template": {
         "data": {
          "bar": [
           {
            "error_x": {
             "color": "#2a3f5f"
            },
            "error_y": {
             "color": "#2a3f5f"
            },
            "marker": {
             "line": {
              "color": "#E5ECF6",
              "width": 0.5
             }
            },
            "type": "bar"
           }
          ],
          "barpolar": [
           {
            "marker": {
             "line": {
              "color": "#E5ECF6",
              "width": 0.5
             }
            },
            "type": "barpolar"
           }
          ],
          "carpet": [
           {
            "aaxis": {
             "endlinecolor": "#2a3f5f",
             "gridcolor": "white",
             "linecolor": "white",
             "minorgridcolor": "white",
             "startlinecolor": "#2a3f5f"
            },
            "baxis": {
             "endlinecolor": "#2a3f5f",
             "gridcolor": "white",
             "linecolor": "white",
             "minorgridcolor": "white",
             "startlinecolor": "#2a3f5f"
            },
            "type": "carpet"
           }
          ],
          "choropleth": [
           {
            "colorbar": {
             "outlinewidth": 0,
             "ticks": ""
            },
            "type": "choropleth"
           }
          ],
          "contour": [
           {
            "colorbar": {
             "outlinewidth": 0,
             "ticks": ""
            },
            "colorscale": [
             [
              0,
              "#0d0887"
             ],
             [
              0.1111111111111111,
              "#46039f"
             ],
             [
              0.2222222222222222,
              "#7201a8"
             ],
             [
              0.3333333333333333,
              "#9c179e"
             ],
             [
              0.4444444444444444,
              "#bd3786"
             ],
             [
              0.5555555555555556,
              "#d8576b"
             ],
             [
              0.6666666666666666,
              "#ed7953"
             ],
             [
              0.7777777777777778,
              "#fb9f3a"
             ],
             [
              0.8888888888888888,
              "#fdca26"
             ],
             [
              1,
              "#f0f921"
             ]
            ],
            "type": "contour"
           }
          ],
          "contourcarpet": [
           {
            "colorbar": {
             "outlinewidth": 0,
             "ticks": ""
            },
            "type": "contourcarpet"
           }
          ],
          "heatmap": [
           {
            "colorbar": {
             "outlinewidth": 0,
             "ticks": ""
            },
            "colorscale": [
             [
              0,
              "#0d0887"
             ],
             [
              0.1111111111111111,
              "#46039f"
             ],
             [
              0.2222222222222222,
              "#7201a8"
             ],
             [
              0.3333333333333333,
              "#9c179e"
             ],
             [
              0.4444444444444444,
              "#bd3786"
             ],
             [
              0.5555555555555556,
              "#d8576b"
             ],
             [
              0.6666666666666666,
              "#ed7953"
             ],
             [
              0.7777777777777778,
              "#fb9f3a"
             ],
             [
              0.8888888888888888,
              "#fdca26"
             ],
             [
              1,
              "#f0f921"
             ]
            ],
            "type": "heatmap"
           }
          ],
          "heatmapgl": [
           {
            "colorbar": {
             "outlinewidth": 0,
             "ticks": ""
            },
            "colorscale": [
             [
              0,
              "#0d0887"
             ],
             [
              0.1111111111111111,
              "#46039f"
             ],
             [
              0.2222222222222222,
              "#7201a8"
             ],
             [
              0.3333333333333333,
              "#9c179e"
             ],
             [
              0.4444444444444444,
              "#bd3786"
             ],
             [
              0.5555555555555556,
              "#d8576b"
             ],
             [
              0.6666666666666666,
              "#ed7953"
             ],
             [
              0.7777777777777778,
              "#fb9f3a"
             ],
             [
              0.8888888888888888,
              "#fdca26"
             ],
             [
              1,
              "#f0f921"
             ]
            ],
            "type": "heatmapgl"
           }
          ],
          "histogram": [
           {
            "marker": {
             "colorbar": {
              "outlinewidth": 0,
              "ticks": ""
             }
            },
            "type": "histogram"
           }
          ],
          "histogram2d": [
           {
            "colorbar": {
             "outlinewidth": 0,
             "ticks": ""
            },
            "colorscale": [
             [
              0,
              "#0d0887"
             ],
             [
              0.1111111111111111,
              "#46039f"
             ],
             [
              0.2222222222222222,
              "#7201a8"
             ],
             [
              0.3333333333333333,
              "#9c179e"
             ],
             [
              0.4444444444444444,
              "#bd3786"
             ],
             [
              0.5555555555555556,
              "#d8576b"
             ],
             [
              0.6666666666666666,
              "#ed7953"
             ],
             [
              0.7777777777777778,
              "#fb9f3a"
             ],
             [
              0.8888888888888888,
              "#fdca26"
             ],
             [
              1,
              "#f0f921"
             ]
            ],
            "type": "histogram2d"
           }
          ],
          "histogram2dcontour": [
           {
            "colorbar": {
             "outlinewidth": 0,
             "ticks": ""
            },
            "colorscale": [
             [
              0,
              "#0d0887"
             ],
             [
              0.1111111111111111,
              "#46039f"
             ],
             [
              0.2222222222222222,
              "#7201a8"
             ],
             [
              0.3333333333333333,
              "#9c179e"
             ],
             [
              0.4444444444444444,
              "#bd3786"
             ],
             [
              0.5555555555555556,
              "#d8576b"
             ],
             [
              0.6666666666666666,
              "#ed7953"
             ],
             [
              0.7777777777777778,
              "#fb9f3a"
             ],
             [
              0.8888888888888888,
              "#fdca26"
             ],
             [
              1,
              "#f0f921"
             ]
            ],
            "type": "histogram2dcontour"
           }
          ],
          "mesh3d": [
           {
            "colorbar": {
             "outlinewidth": 0,
             "ticks": ""
            },
            "type": "mesh3d"
           }
          ],
          "parcoords": [
           {
            "line": {
             "colorbar": {
              "outlinewidth": 0,
              "ticks": ""
             }
            },
            "type": "parcoords"
           }
          ],
          "pie": [
           {
            "automargin": true,
            "type": "pie"
           }
          ],
          "scatter": [
           {
            "marker": {
             "colorbar": {
              "outlinewidth": 0,
              "ticks": ""
             }
            },
            "type": "scatter"
           }
          ],
          "scatter3d": [
           {
            "line": {
             "colorbar": {
              "outlinewidth": 0,
              "ticks": ""
             }
            },
            "marker": {
             "colorbar": {
              "outlinewidth": 0,
              "ticks": ""
             }
            },
            "type": "scatter3d"
           }
          ],
          "scattercarpet": [
           {
            "marker": {
             "colorbar": {
              "outlinewidth": 0,
              "ticks": ""
             }
            },
            "type": "scattercarpet"
           }
          ],
          "scattergeo": [
           {
            "marker": {
             "colorbar": {
              "outlinewidth": 0,
              "ticks": ""
             }
            },
            "type": "scattergeo"
           }
          ],
          "scattergl": [
           {
            "marker": {
             "colorbar": {
              "outlinewidth": 0,
              "ticks": ""
             }
            },
            "type": "scattergl"
           }
          ],
          "scattermapbox": [
           {
            "marker": {
             "colorbar": {
              "outlinewidth": 0,
              "ticks": ""
             }
            },
            "type": "scattermapbox"
           }
          ],
          "scatterpolar": [
           {
            "marker": {
             "colorbar": {
              "outlinewidth": 0,
              "ticks": ""
             }
            },
            "type": "scatterpolar"
           }
          ],
          "scatterpolargl": [
           {
            "marker": {
             "colorbar": {
              "outlinewidth": 0,
              "ticks": ""
             }
            },
            "type": "scatterpolargl"
           }
          ],
          "scatterternary": [
           {
            "marker": {
             "colorbar": {
              "outlinewidth": 0,
              "ticks": ""
             }
            },
            "type": "scatterternary"
           }
          ],
          "surface": [
           {
            "colorbar": {
             "outlinewidth": 0,
             "ticks": ""
            },
            "colorscale": [
             [
              0,
              "#0d0887"
             ],
             [
              0.1111111111111111,
              "#46039f"
             ],
             [
              0.2222222222222222,
              "#7201a8"
             ],
             [
              0.3333333333333333,
              "#9c179e"
             ],
             [
              0.4444444444444444,
              "#bd3786"
             ],
             [
              0.5555555555555556,
              "#d8576b"
             ],
             [
              0.6666666666666666,
              "#ed7953"
             ],
             [
              0.7777777777777778,
              "#fb9f3a"
             ],
             [
              0.8888888888888888,
              "#fdca26"
             ],
             [
              1,
              "#f0f921"
             ]
            ],
            "type": "surface"
           }
          ],
          "table": [
           {
            "cells": {
             "fill": {
              "color": "#EBF0F8"
             },
             "line": {
              "color": "white"
             }
            },
            "header": {
             "fill": {
              "color": "#C8D4E3"
             },
             "line": {
              "color": "white"
             }
            },
            "type": "table"
           }
          ]
         },
         "layout": {
          "annotationdefaults": {
           "arrowcolor": "#2a3f5f",
           "arrowhead": 0,
           "arrowwidth": 1
          },
          "coloraxis": {
           "colorbar": {
            "outlinewidth": 0,
            "ticks": ""
           }
          },
          "colorscale": {
           "diverging": [
            [
             0,
             "#8e0152"
            ],
            [
             0.1,
             "#c51b7d"
            ],
            [
             0.2,
             "#de77ae"
            ],
            [
             0.3,
             "#f1b6da"
            ],
            [
             0.4,
             "#fde0ef"
            ],
            [
             0.5,
             "#f7f7f7"
            ],
            [
             0.6,
             "#e6f5d0"
            ],
            [
             0.7,
             "#b8e186"
            ],
            [
             0.8,
             "#7fbc41"
            ],
            [
             0.9,
             "#4d9221"
            ],
            [
             1,
             "#276419"
            ]
           ],
           "sequential": [
            [
             0,
             "#0d0887"
            ],
            [
             0.1111111111111111,
             "#46039f"
            ],
            [
             0.2222222222222222,
             "#7201a8"
            ],
            [
             0.3333333333333333,
             "#9c179e"
            ],
            [
             0.4444444444444444,
             "#bd3786"
            ],
            [
             0.5555555555555556,
             "#d8576b"
            ],
            [
             0.6666666666666666,
             "#ed7953"
            ],
            [
             0.7777777777777778,
             "#fb9f3a"
            ],
            [
             0.8888888888888888,
             "#fdca26"
            ],
            [
             1,
             "#f0f921"
            ]
           ],
           "sequentialminus": [
            [
             0,
             "#0d0887"
            ],
            [
             0.1111111111111111,
             "#46039f"
            ],
            [
             0.2222222222222222,
             "#7201a8"
            ],
            [
             0.3333333333333333,
             "#9c179e"
            ],
            [
             0.4444444444444444,
             "#bd3786"
            ],
            [
             0.5555555555555556,
             "#d8576b"
            ],
            [
             0.6666666666666666,
             "#ed7953"
            ],
            [
             0.7777777777777778,
             "#fb9f3a"
            ],
            [
             0.8888888888888888,
             "#fdca26"
            ],
            [
             1,
             "#f0f921"
            ]
           ]
          },
          "colorway": [
           "#636efa",
           "#EF553B",
           "#00cc96",
           "#ab63fa",
           "#FFA15A",
           "#19d3f3",
           "#FF6692",
           "#B6E880",
           "#FF97FF",
           "#FECB52"
          ],
          "font": {
           "color": "#2a3f5f"
          },
          "geo": {
           "bgcolor": "white",
           "lakecolor": "white",
           "landcolor": "#E5ECF6",
           "showlakes": true,
           "showland": true,
           "subunitcolor": "white"
          },
          "hoverlabel": {
           "align": "left"
          },
          "hovermode": "closest",
          "mapbox": {
           "style": "light"
          },
          "paper_bgcolor": "white",
          "plot_bgcolor": "#E5ECF6",
          "polar": {
           "angularaxis": {
            "gridcolor": "white",
            "linecolor": "white",
            "ticks": ""
           },
           "bgcolor": "#E5ECF6",
           "radialaxis": {
            "gridcolor": "white",
            "linecolor": "white",
            "ticks": ""
           }
          },
          "scene": {
           "xaxis": {
            "backgroundcolor": "#E5ECF6",
            "gridcolor": "white",
            "gridwidth": 2,
            "linecolor": "white",
            "showbackground": true,
            "ticks": "",
            "zerolinecolor": "white"
           },
           "yaxis": {
            "backgroundcolor": "#E5ECF6",
            "gridcolor": "white",
            "gridwidth": 2,
            "linecolor": "white",
            "showbackground": true,
            "ticks": "",
            "zerolinecolor": "white"
           },
           "zaxis": {
            "backgroundcolor": "#E5ECF6",
            "gridcolor": "white",
            "gridwidth": 2,
            "linecolor": "white",
            "showbackground": true,
            "ticks": "",
            "zerolinecolor": "white"
           }
          },
          "shapedefaults": {
           "line": {
            "color": "#2a3f5f"
           }
          },
          "ternary": {
           "aaxis": {
            "gridcolor": "white",
            "linecolor": "white",
            "ticks": ""
           },
           "baxis": {
            "gridcolor": "white",
            "linecolor": "white",
            "ticks": ""
           },
           "bgcolor": "#E5ECF6",
           "caxis": {
            "gridcolor": "white",
            "linecolor": "white",
            "ticks": ""
           }
          },
          "title": {
           "x": 0.05
          },
          "xaxis": {
           "automargin": true,
           "gridcolor": "white",
           "linecolor": "white",
           "ticks": "",
           "title": {
            "standoff": 15
           },
           "zerolinecolor": "white",
           "zerolinewidth": 2
          },
          "yaxis": {
           "automargin": true,
           "gridcolor": "white",
           "linecolor": "white",
           "ticks": "",
           "title": {
            "standoff": 15
           },
           "zerolinecolor": "white",
           "zerolinewidth": 2
          }
         }
        }
       }
      },
      "text/html": [
       "<div>\n",
       "        \n",
       "        \n",
       "            <div id=\"11beb7c3-973a-4899-ac9a-529468b4cf53\" class=\"plotly-graph-div\" style=\"height:525px; width:100%;\"></div>\n",
       "            <script type=\"text/javascript\">\n",
       "                require([\"plotly\"], function(Plotly) {\n",
       "                    window.PLOTLYENV=window.PLOTLYENV || {};\n",
       "                    \n",
       "                if (document.getElementById(\"11beb7c3-973a-4899-ac9a-529468b4cf53\")) {\n",
       "                    Plotly.newPlot(\n",
       "                        '11beb7c3-973a-4899-ac9a-529468b4cf53',\n",
       "                        [{\"hovertemplate\": \"Height (cm)=%{x}<br>Smear=%{y}<br>Pu Mass per Cycle (kg)=%{z}<br>Pu Fraction=%{marker.color}<extra></extra>\", \"legendgroup\": \"\", \"marker\": {\"color\": [1.0, 0.75, 1.0, 0.875, 0.875, 0.75, 1.0, 0.555555, 0.75, 1.0, 0.555555, 0.75, 1.0, 0.25, 0.875, 0.4, 0.875, 0.4, 0.875, 0.1, 0.555555, 0.75, 1.0, 0.555555, 0.75, 1.0, 0.25, 0.555555, 0.75, 1.0, 0.25, 0.555555, 0.75, 1.0, 0.25], \"coloraxis\": \"coloraxis\", \"symbol\": \"circle\"}, \"mode\": \"markers\", \"name\": \"\", \"scene\": \"scene\", \"showlegend\": false, \"type\": \"scatter3d\", \"x\": [70.0, 80.0, 80.0, 65.0, 75.0, 60.0, 60.0, 70.0, 70.0, 70.0, 80.0, 80.0, 80.0, 80.0, 55.0, 65.0, 65.0, 75.0, 75.0, 75.0, 50.0, 50.0, 50.0, 60.0, 60.0, 60.0, 60.0, 70.0, 70.0, 70.0, 70.0, 80.0, 80.0, 80.0, 80.0], \"y\": [50.0, 50.0, 50.0, 55.0, 55.0, 60.0, 60.0, 60.0, 60.0, 60.0, 60.0, 60.0, 60.0, 60.0, 65.0, 65.0, 65.0, 65.0, 65.0, 65.0, 70.0, 70.0, 70.0, 70.0, 70.0, 70.0, 70.0, 70.0, 70.0, 70.0, 70.0, 70.0, 70.0, 70.0, 70.0], \"z\": [1181.9608990061608, 1006.703762001612, 1350.8124560070412, 1053.0379776619268, 1215.0438203791466, 906.0333858014503, 1215.7312104063367, 779.1160442058998, 1057.0389501016923, 1418.353078807393, 890.4183362353139, 1208.0445144019338, 1620.9749472084486, 397.5570407977096, 1053.0379776619268, 562.0579184980147, 1244.4994281459135, 648.5283674977092, 1435.9608786299002, 160.8830037737118, 649.2633701715832, 880.8657917514103, 1181.9608990061608, 779.1160442058998, 1057.0389501016923, 1418.353078807393, 347.8624106979959, 908.9687182402163, 1233.2121084519745, 1654.7452586086251, 405.8394791476619, 1038.821392274533, 1409.3852668022564, 1891.1374384098576, 463.81654759732794]}],\n",
       "                        {\"coloraxis\": {\"colorbar\": {\"title\": {\"text\": \"Pu Fraction\"}}, \"colorscale\": [[0.0, \"#0d0887\"], [0.1111111111111111, \"#46039f\"], [0.2222222222222222, \"#7201a8\"], [0.3333333333333333, \"#9c179e\"], [0.4444444444444444, \"#bd3786\"], [0.5555555555555556, \"#d8576b\"], [0.6666666666666666, \"#ed7953\"], [0.7777777777777778, \"#fb9f3a\"], [0.8888888888888888, \"#fdca26\"], [1.0, \"#f0f921\"]]}, \"legend\": {\"tracegroupgap\": 0}, \"margin\": {\"t\": 60}, \"scene\": {\"domain\": {\"x\": [0.0, 1.0], \"y\": [0.0, 1.0]}, \"xaxis\": {\"title\": {\"text\": \"Height (cm)\"}}, \"yaxis\": {\"title\": {\"text\": \"Smear\"}}, \"zaxis\": {\"title\": {\"text\": \"Pu Mass per Cycle (kg)\"}}}, \"template\": {\"data\": {\"bar\": [{\"error_x\": {\"color\": \"#2a3f5f\"}, \"error_y\": {\"color\": \"#2a3f5f\"}, \"marker\": {\"line\": {\"color\": \"#E5ECF6\", \"width\": 0.5}}, \"type\": \"bar\"}], \"barpolar\": [{\"marker\": {\"line\": {\"color\": \"#E5ECF6\", \"width\": 0.5}}, \"type\": \"barpolar\"}], \"carpet\": [{\"aaxis\": {\"endlinecolor\": \"#2a3f5f\", \"gridcolor\": \"white\", \"linecolor\": \"white\", \"minorgridcolor\": \"white\", \"startlinecolor\": \"#2a3f5f\"}, \"baxis\": {\"endlinecolor\": \"#2a3f5f\", \"gridcolor\": \"white\", \"linecolor\": \"white\", \"minorgridcolor\": \"white\", \"startlinecolor\": \"#2a3f5f\"}, \"type\": \"carpet\"}], \"choropleth\": [{\"colorbar\": {\"outlinewidth\": 0, \"ticks\": \"\"}, \"type\": \"choropleth\"}], \"contour\": [{\"colorbar\": {\"outlinewidth\": 0, \"ticks\": \"\"}, \"colorscale\": [[0.0, \"#0d0887\"], [0.1111111111111111, \"#46039f\"], [0.2222222222222222, \"#7201a8\"], [0.3333333333333333, \"#9c179e\"], [0.4444444444444444, \"#bd3786\"], [0.5555555555555556, \"#d8576b\"], [0.6666666666666666, \"#ed7953\"], [0.7777777777777778, \"#fb9f3a\"], [0.8888888888888888, \"#fdca26\"], [1.0, \"#f0f921\"]], \"type\": \"contour\"}], \"contourcarpet\": [{\"colorbar\": {\"outlinewidth\": 0, \"ticks\": \"\"}, \"type\": \"contourcarpet\"}], \"heatmap\": [{\"colorbar\": {\"outlinewidth\": 0, \"ticks\": \"\"}, \"colorscale\": [[0.0, \"#0d0887\"], [0.1111111111111111, \"#46039f\"], [0.2222222222222222, \"#7201a8\"], [0.3333333333333333, \"#9c179e\"], [0.4444444444444444, \"#bd3786\"], [0.5555555555555556, \"#d8576b\"], [0.6666666666666666, \"#ed7953\"], [0.7777777777777778, \"#fb9f3a\"], [0.8888888888888888, \"#fdca26\"], [1.0, \"#f0f921\"]], \"type\": \"heatmap\"}], \"heatmapgl\": [{\"colorbar\": {\"outlinewidth\": 0, \"ticks\": \"\"}, \"colorscale\": [[0.0, \"#0d0887\"], [0.1111111111111111, \"#46039f\"], [0.2222222222222222, \"#7201a8\"], [0.3333333333333333, \"#9c179e\"], [0.4444444444444444, \"#bd3786\"], [0.5555555555555556, \"#d8576b\"], [0.6666666666666666, \"#ed7953\"], [0.7777777777777778, \"#fb9f3a\"], [0.8888888888888888, \"#fdca26\"], [1.0, \"#f0f921\"]], \"type\": \"heatmapgl\"}], \"histogram\": [{\"marker\": {\"colorbar\": {\"outlinewidth\": 0, \"ticks\": \"\"}}, \"type\": \"histogram\"}], \"histogram2d\": [{\"colorbar\": {\"outlinewidth\": 0, \"ticks\": \"\"}, \"colorscale\": [[0.0, \"#0d0887\"], [0.1111111111111111, \"#46039f\"], [0.2222222222222222, \"#7201a8\"], [0.3333333333333333, \"#9c179e\"], [0.4444444444444444, \"#bd3786\"], [0.5555555555555556, \"#d8576b\"], [0.6666666666666666, \"#ed7953\"], [0.7777777777777778, \"#fb9f3a\"], [0.8888888888888888, \"#fdca26\"], [1.0, \"#f0f921\"]], \"type\": \"histogram2d\"}], \"histogram2dcontour\": [{\"colorbar\": {\"outlinewidth\": 0, \"ticks\": \"\"}, \"colorscale\": [[0.0, \"#0d0887\"], [0.1111111111111111, \"#46039f\"], [0.2222222222222222, \"#7201a8\"], [0.3333333333333333, \"#9c179e\"], [0.4444444444444444, \"#bd3786\"], [0.5555555555555556, \"#d8576b\"], [0.6666666666666666, \"#ed7953\"], [0.7777777777777778, \"#fb9f3a\"], [0.8888888888888888, \"#fdca26\"], [1.0, \"#f0f921\"]], \"type\": \"histogram2dcontour\"}], \"mesh3d\": [{\"colorbar\": {\"outlinewidth\": 0, \"ticks\": \"\"}, \"type\": \"mesh3d\"}], \"parcoords\": [{\"line\": {\"colorbar\": {\"outlinewidth\": 0, \"ticks\": \"\"}}, \"type\": \"parcoords\"}], \"pie\": [{\"automargin\": true, \"type\": \"pie\"}], \"scatter\": [{\"marker\": {\"colorbar\": {\"outlinewidth\": 0, \"ticks\": \"\"}}, \"type\": \"scatter\"}], \"scatter3d\": [{\"line\": {\"colorbar\": {\"outlinewidth\": 0, \"ticks\": \"\"}}, \"marker\": {\"colorbar\": {\"outlinewidth\": 0, \"ticks\": \"\"}}, \"type\": \"scatter3d\"}], \"scattercarpet\": [{\"marker\": {\"colorbar\": {\"outlinewidth\": 0, \"ticks\": \"\"}}, \"type\": \"scattercarpet\"}], \"scattergeo\": [{\"marker\": {\"colorbar\": {\"outlinewidth\": 0, \"ticks\": \"\"}}, \"type\": \"scattergeo\"}], \"scattergl\": [{\"marker\": {\"colorbar\": {\"outlinewidth\": 0, \"ticks\": \"\"}}, \"type\": \"scattergl\"}], \"scattermapbox\": [{\"marker\": {\"colorbar\": {\"outlinewidth\": 0, \"ticks\": \"\"}}, \"type\": \"scattermapbox\"}], \"scatterpolar\": [{\"marker\": {\"colorbar\": {\"outlinewidth\": 0, \"ticks\": \"\"}}, \"type\": \"scatterpolar\"}], \"scatterpolargl\": [{\"marker\": {\"colorbar\": {\"outlinewidth\": 0, \"ticks\": \"\"}}, \"type\": \"scatterpolargl\"}], \"scatterternary\": [{\"marker\": {\"colorbar\": {\"outlinewidth\": 0, \"ticks\": \"\"}}, \"type\": \"scatterternary\"}], \"surface\": [{\"colorbar\": {\"outlinewidth\": 0, \"ticks\": \"\"}, \"colorscale\": [[0.0, \"#0d0887\"], [0.1111111111111111, \"#46039f\"], [0.2222222222222222, \"#7201a8\"], [0.3333333333333333, \"#9c179e\"], [0.4444444444444444, \"#bd3786\"], [0.5555555555555556, \"#d8576b\"], [0.6666666666666666, \"#ed7953\"], [0.7777777777777778, \"#fb9f3a\"], [0.8888888888888888, \"#fdca26\"], [1.0, \"#f0f921\"]], \"type\": \"surface\"}], \"table\": [{\"cells\": {\"fill\": {\"color\": \"#EBF0F8\"}, \"line\": {\"color\": \"white\"}}, \"header\": {\"fill\": {\"color\": \"#C8D4E3\"}, \"line\": {\"color\": \"white\"}}, \"type\": \"table\"}]}, \"layout\": {\"annotationdefaults\": {\"arrowcolor\": \"#2a3f5f\", \"arrowhead\": 0, \"arrowwidth\": 1}, \"coloraxis\": {\"colorbar\": {\"outlinewidth\": 0, \"ticks\": \"\"}}, \"colorscale\": {\"diverging\": [[0, \"#8e0152\"], [0.1, \"#c51b7d\"], [0.2, \"#de77ae\"], [0.3, \"#f1b6da\"], [0.4, \"#fde0ef\"], [0.5, \"#f7f7f7\"], [0.6, \"#e6f5d0\"], [0.7, \"#b8e186\"], [0.8, \"#7fbc41\"], [0.9, \"#4d9221\"], [1, \"#276419\"]], \"sequential\": [[0.0, \"#0d0887\"], [0.1111111111111111, \"#46039f\"], [0.2222222222222222, \"#7201a8\"], [0.3333333333333333, \"#9c179e\"], [0.4444444444444444, \"#bd3786\"], [0.5555555555555556, \"#d8576b\"], [0.6666666666666666, \"#ed7953\"], [0.7777777777777778, \"#fb9f3a\"], [0.8888888888888888, \"#fdca26\"], [1.0, \"#f0f921\"]], \"sequentialminus\": [[0.0, \"#0d0887\"], [0.1111111111111111, \"#46039f\"], [0.2222222222222222, \"#7201a8\"], [0.3333333333333333, \"#9c179e\"], [0.4444444444444444, \"#bd3786\"], [0.5555555555555556, \"#d8576b\"], [0.6666666666666666, \"#ed7953\"], [0.7777777777777778, \"#fb9f3a\"], [0.8888888888888888, \"#fdca26\"], [1.0, \"#f0f921\"]]}, \"colorway\": [\"#636efa\", \"#EF553B\", \"#00cc96\", \"#ab63fa\", \"#FFA15A\", \"#19d3f3\", \"#FF6692\", \"#B6E880\", \"#FF97FF\", \"#FECB52\"], \"font\": {\"color\": \"#2a3f5f\"}, \"geo\": {\"bgcolor\": \"white\", \"lakecolor\": \"white\", \"landcolor\": \"#E5ECF6\", \"showlakes\": true, \"showland\": true, \"subunitcolor\": \"white\"}, \"hoverlabel\": {\"align\": \"left\"}, \"hovermode\": \"closest\", \"mapbox\": {\"style\": \"light\"}, \"paper_bgcolor\": \"white\", \"plot_bgcolor\": \"#E5ECF6\", \"polar\": {\"angularaxis\": {\"gridcolor\": \"white\", \"linecolor\": \"white\", \"ticks\": \"\"}, \"bgcolor\": \"#E5ECF6\", \"radialaxis\": {\"gridcolor\": \"white\", \"linecolor\": \"white\", \"ticks\": \"\"}}, \"scene\": {\"xaxis\": {\"backgroundcolor\": \"#E5ECF6\", \"gridcolor\": \"white\", \"gridwidth\": 2, \"linecolor\": \"white\", \"showbackground\": true, \"ticks\": \"\", \"zerolinecolor\": \"white\"}, \"yaxis\": {\"backgroundcolor\": \"#E5ECF6\", \"gridcolor\": \"white\", \"gridwidth\": 2, \"linecolor\": \"white\", \"showbackground\": true, \"ticks\": \"\", \"zerolinecolor\": \"white\"}, \"zaxis\": {\"backgroundcolor\": \"#E5ECF6\", \"gridcolor\": \"white\", \"gridwidth\": 2, \"linecolor\": \"white\", \"showbackground\": true, \"ticks\": \"\", \"zerolinecolor\": \"white\"}}, \"shapedefaults\": {\"line\": {\"color\": \"#2a3f5f\"}}, \"ternary\": {\"aaxis\": {\"gridcolor\": \"white\", \"linecolor\": \"white\", \"ticks\": \"\"}, \"baxis\": {\"gridcolor\": \"white\", \"linecolor\": \"white\", \"ticks\": \"\"}, \"bgcolor\": \"#E5ECF6\", \"caxis\": {\"gridcolor\": \"white\", \"linecolor\": \"white\", \"ticks\": \"\"}}, \"title\": {\"x\": 0.05}, \"xaxis\": {\"automargin\": true, \"gridcolor\": \"white\", \"linecolor\": \"white\", \"ticks\": \"\", \"title\": {\"standoff\": 15}, \"zerolinecolor\": \"white\", \"zerolinewidth\": 2}, \"yaxis\": {\"automargin\": true, \"gridcolor\": \"white\", \"linecolor\": \"white\", \"ticks\": \"\", \"title\": {\"standoff\": 15}, \"zerolinecolor\": \"white\", \"zerolinewidth\": 2}}}},\n",
       "                        {\"responsive\": true}\n",
       "                    ).then(function(){\n",
       "                            \n",
       "var gd = document.getElementById('11beb7c3-973a-4899-ac9a-529468b4cf53');\n",
       "var x = new MutationObserver(function (mutations, observer) {{\n",
       "        var display = window.getComputedStyle(gd).display;\n",
       "        if (!display || display === 'none') {{\n",
       "            console.log([gd, 'removed!']);\n",
       "            Plotly.purge(gd);\n",
       "            observer.disconnect();\n",
       "        }}\n",
       "}});\n",
       "\n",
       "// Listen for the removal of the full notebook cells\n",
       "var notebookContainer = gd.closest('#notebook-container');\n",
       "if (notebookContainer) {{\n",
       "    x.observe(notebookContainer, {childList: true});\n",
       "}}\n",
       "\n",
       "// Listen for the clearing of the current output cell\n",
       "var outputEl = gd.closest('.output');\n",
       "if (outputEl) {{\n",
       "    x.observe(outputEl, {childList: true});\n",
       "}}\n",
       "\n",
       "                        })\n",
       "                };\n",
       "                });\n",
       "            </script>\n",
       "        </div>"
      ]
     },
     "metadata": {},
     "output_type": "display_data"
    }
   ],
   "source": [
    "fig = px.scatter_3d(x=height, y=smear, z=cycle_length_list, color=pu_content, labels={'x':'Height (cm)', 'y': 'Smear', 'z':'Cycle Length (days)','color':'Pu Fraction'})\n",
    "fig.show()\n",
    "fig2 = px.scatter_3d(x=height, y=smear, z=rx_swing_list, color=pu_content, labels={'x':'Height (cm)', 'y': 'Smear', 'z':'Rx Swing (pcm)','color':'Pu Fraction'})\n",
    "fig2.show()\n",
    "fig3 = px.scatter_3d(x=height, y=smear, z=bu, color=pu_content, labels={'x':'Height (cm)', 'y': 'Smear', 'z':'Burnup (GWd/MTU)','color':'Pu Fraction'})\n",
    "fig3.show()\n",
    "fig4 = px.scatter_3d(x=height, y=smear, z=pu_mass, color=pu_content, labels={'x':'Height (cm)', 'y': 'Smear', 'z':'Pu Mass per Cycle (kg)','color':'Pu Fraction'})\n",
    "fig4.show()"
   ]
  },
  {
   "cell_type": "markdown",
   "metadata": {},
   "source": [
    "# Starting the Blackboard System"
   ]
  },
  {
   "cell_type": "code",
   "execution_count": 2,
   "metadata": {
    "scrolled": false
   },
   "outputs": [
    {
     "name": "stdout",
     "output_type": "stream",
     "text": [
      "Broadcast server running on 0.0.0.0:9091\n",
      "NS running on 127.0.0.1:16592 (127.0.0.1)\n",
      "URI = PYRO:Pyro.NameServer@127.0.0.1:16592\n",
      "INFO [2020-05-08 18:22:03.308036] (bb): Connected agent ka_rp_explore_1 of agent type <class 'ka_rp.KaRpExplore'>\n",
      "INFO [2020-05-08 18:22:03.359624] (bb): Connected agent ka_rp_explore_2 of agent type <class 'ka_rp.KaRpExplore'>\n",
      "INFO [2020-05-08 18:22:03.413606] (bb): Connected agent ka_rp_exploit of agent type <class 'ka_rp.KaRpExploit'>\n",
      "INFO [2020-05-08 18:22:03.461560] (bb): Connected agent ka_br_lvl2 of agent type <class 'ka_br.KaBr_lvl2'>\n",
      "INFO [2020-05-08 18:22:03.511099] (bb): Connected agent ka_br_lvl3 of agent type <class 'ka_br.KaBr_lvl3'>\n",
      "INFO [2020-05-08 18:22:04.527422] (bb): Selecting agent ka_rp_explore_1 (TV: 1) to execute (TE: 1)\n",
      "INFO [2020-05-08 18:22:05.542632] (bb): Selecting agent ka_rp_explore_2 (TV: 2) to execute (TE: 2)\n",
      "INFO [2020-05-08 18:22:06.557153] (bb): Selecting agent ka_rp_explore_1 (TV: 2) to execute (TE: 3)\n",
      "INFO [2020-05-08 18:22:07.571034] (bb): Selecting agent ka_rp_explore_2 (TV: 2) to execute (TE: 4)\n",
      "INFO [2020-05-08 18:22:08.586172] (bb): Selecting agent ka_rp_explore_1 (TV: 2) to execute (TE: 5)\n",
      "INFO [2020-05-08 18:22:09.601020] (bb): Selecting agent ka_rp_explore_2 (TV: 2) to execute (TE: 6)\n",
      "INFO [2020-05-08 18:22:10.613396] (bb): Selecting agent ka_br_lvl3 (TV: 3) to execute (TE: 7)\n",
      "INFO [2020-05-08 18:22:11.628205] (bb): Selecting agent ka_rp_explore_1 (TV: 3) to execute (TE: 8)\n",
      "INFO [2020-05-08 18:22:12.641909] (bb): Selecting agent ka_rp_explore_2 (TV: 3) to execute (TE: 9)\n",
      "INFO [2020-05-08 18:22:13.655449] (bb): Selecting agent ka_br_lvl3 (TV: 3) to execute (TE: 10)\n",
      "INFO [2020-05-08 18:22:13.658524] (bb): Writing blackboard to archive\n",
      "INFO [2020-05-08 18:22:19.675690] (bb): Finished writing to archive\n",
      "INFO [2020-05-08 18:22:20.709393] (bb): Selecting agent ka_rp_explore_1 (TV: 3) to execute (TE: 11)\n",
      "INFO [2020-05-08 18:22:21.722421] (bb): Selecting agent ka_rp_explore_2 (TV: 3) to execute (TE: 12)\n",
      "INFO [2020-05-08 18:22:22.736210] (bb): Selecting agent ka_rp_explore_1 (TV: 2) to execute (TE: 13)\n",
      "INFO [2020-05-08 18:22:23.749321] (bb): Selecting agent ka_rp_explore_2 (TV: 2) to execute (TE: 14)\n",
      "INFO [2020-05-08 18:22:24.759464] (bb): Selecting agent ka_rp_explore_1 (TV: 2) to execute (TE: 15)\n",
      "INFO [2020-05-08 18:22:25.770468] (bb): No KA to execute, waiting to sends trigger again.\n",
      "INFO [2020-05-08 18:22:26.779730] (bb): Selecting agent ka_rp_explore_1 (TV: 2) to execute (TE: 17)\n",
      "INFO [2020-05-08 18:22:27.792416] (bb): Selecting agent ka_rp_explore_2 (TV: 4) to execute (TE: 18)\n",
      "INFO [2020-05-08 18:22:28.806471] (bb): Selecting agent ka_br_lvl3 (TV: 3) to execute (TE: 19)\n",
      "INFO [2020-05-08 18:22:29.819836] (bb): Selecting agent ka_rp_explore_1 (TV: 3) to execute (TE: 20)\n",
      "INFO [2020-05-08 18:22:43.296907] (bb): Selecting agent ka_rp_explore_2 (TV: 3) to execute (TE: 21)\n",
      "INFO [2020-05-08 18:22:44.311214] (bb): Selecting agent ka_rp_explore_1 (TV: 2) to execute (TE: 22)\n",
      "INFO [2020-05-08 18:22:45.320552] (bb): Selecting agent ka_rp_explore_2 (TV: 2) to execute (TE: 23)\n",
      "INFO [2020-05-08 18:22:46.334008] (bb): Selecting agent ka_br_lvl3 (TV: 3) to execute (TE: 24)\n",
      "INFO [2020-05-08 18:22:47.348456] (bb): Selecting agent ka_rp_explore_1 (TV: 3) to execute (TE: 25)\n",
      "INFO [2020-05-08 18:22:48.363195] (bb): Selecting agent ka_rp_explore_2 (TV: 3) to execute (TE: 26)\n",
      "INFO [2020-05-08 18:22:49.377199] (bb): Selecting agent ka_rp_explore_1 (TV: 2) to execute (TE: 27)\n",
      "INFO [2020-05-08 18:22:50.394913] (bb): Selecting agent ka_rp_explore_2 (TV: 2) to execute (TE: 28)\n",
      "INFO [2020-05-08 18:22:51.402869] (bb): No KA to execute, waiting to sends trigger again.\n",
      "INFO [2020-05-08 18:22:52.415804] (bb): Selecting agent ka_rp_explore_1 (TV: 3) to execute (TE: 30)\n",
      "INFO [2020-05-08 18:22:53.424344] (bb): Selecting agent ka_rp_explore_2 (TV: 3) to execute (TE: 31)\n",
      "INFO [2020-05-08 18:22:54.436149] (bb): Selecting agent ka_br_lvl3 (TV: 3) to execute (TE: 32)\n",
      "INFO [2020-05-08 18:22:55.446689] (bb): Selecting agent ka_rp_explore_1 (TV: 3) to execute (TE: 33)\n",
      "INFO [2020-05-08 18:22:56.455844] (bb): Selecting agent ka_rp_explore_2 (TV: 3) to execute (TE: 34)\n",
      "INFO [2020-05-08 18:22:57.472946] (bb): Selecting agent ka_rp_explore_1 (TV: 2) to execute (TE: 35)\n",
      "INFO [2020-05-08 18:22:58.483885] (bb): Selecting agent ka_rp_explore_2 (TV: 2) to execute (TE: 36)\n",
      "INFO [2020-05-08 18:22:59.494022] (bb): Selecting agent ka_rp_explore_1 (TV: 2) to execute (TE: 37)\n",
      "INFO [2020-05-08 18:23:00.505489] (bb): No KA to execute, waiting to sends trigger again.\n",
      "INFO [2020-05-08 18:23:01.516798] (bb): Selecting agent ka_rp_explore_1 (TV: 2) to execute (TE: 39)\n",
      "INFO [2020-05-08 18:23:02.527384] (bb): Selecting agent ka_rp_explore_2 (TV: 4) to execute (TE: 40)\n",
      "INFO [2020-05-08 18:23:02.530177] (bb): Writing blackboard to archive\n",
      "INFO [2020-05-08 18:23:08.545978] (bb): Finished writing to archive\n",
      "INFO [2020-05-08 18:23:09.582702] (bb): Selecting agent ka_rp_explore_1 (TV: 2) to execute (TE: 41)\n",
      "INFO [2020-05-08 18:23:10.615083] (bb): Selecting agent ka_br_lvl3 (TV: 3) to execute (TE: 42)\n",
      "INFO [2020-05-08 18:23:11.628923] (bb): Selecting agent ka_rp_explore_2 (TV: 3) to execute (TE: 43)\n",
      "INFO [2020-05-08 18:23:12.637459] (bb): Selecting agent ka_rp_explore_1 (TV: 3) to execute (TE: 44)\n",
      "INFO [2020-05-08 18:23:13.647100] (bb): Selecting agent ka_br_lvl3 (TV: 3) to execute (TE: 45)\n",
      "INFO [2020-05-08 18:23:14.659822] (bb): Selecting agent ka_rp_explore_2 (TV: 3) to execute (TE: 46)\n",
      "INFO [2020-05-08 18:23:15.673437] (bb): Selecting agent ka_rp_explore_1 (TV: 3) to execute (TE: 47)\n"
     ]
    },
    {
     "name": "stderr",
     "output_type": "stream",
     "text": [
      "ERROR [2020-05-08 18:23:15.704284] (ka_br_lvl2): An exception occurred while running! ('core_[57.85, 53.45, 0.92]')\n",
      "\n",
      "|>>>>>>>>Traceback (most recent call last):\n",
      "|   File \"/Users/ryanstewart/Library/Python/3.7/lib/python/site-packages/osbrain/agent.py\", line 1680, in run\n",
      "|     self._loop()\n",
      "|   File \"/Users/ryanstewart/Library/Python/3.7/lib/python/site-packages/osbrain/agent.py\", line 1208, in _loop\n",
      "|     if self._iterate():\n",
      "|   File \"/Users/ryanstewart/Library/Python/3.7/lib/python/site-packages/osbrain/agent.py\", line 1245, in _iterate\n",
      "|     self._process_events(events)\n",
      "|   File \"/Users/ryanstewart/Library/Python/3.7/lib/python/site-packages/osbrain/agent.py\", line 1282, in _process_events\n",
      "|     self._process_single_event(socket)\n",
      "|   File \"/Users/ryanstewart/Library/Python/3.7/lib/python/site-packages/osbrain/agent.py\", line 1296, in _process_single_event\n",
      "|     self._process_sub_event(socket, address, data)\n",
      "|   File \"/Users/ryanstewart/Library/Python/3.7/lib/python/site-packages/osbrain/agent.py\", line 1452, in _process_sub_event\n",
      "|     handler(self, message)\n",
      "|   File \"/Users/ryanstewart/projects/multi_agent_blackboard_system/src/ka_br.py\", line 41, in handler_trigger_publish\n",
      "|     new_entry = self.read_bb_lvl()\n",
      "|   File \"/Users/ryanstewart/projects/multi_agent_blackboard_system/src/ka_br.py\", line 136, in read_bb_lvl\n",
      "|     valid = self.determine_validity(core_name)\n",
      "|   File \"/Users/ryanstewart/projects/multi_agent_blackboard_system/src/ka_br.py\", line 71, in determine_validity\n",
      "|     self._fitness = self.determine_fitness_function(core_name, lvl_3[core_name]['reactor parameters'])\n",
      "| KeyError: 'core_[57.85, 53.45, 0.92]'\n",
      "|<<<<<<<<\n",
      "Exception in thread oneway-call:\n",
      "Traceback (most recent call last):\n",
      "  File \"/Library/Developer/CommandLineTools/Library/Frameworks/Python3.framework/Versions/3.7/lib/python3.7/threading.py\", line 917, in _bootstrap_inner\n",
      "    self.run()\n",
      "  File \"/Users/ryanstewart/Library/Python/3.7/lib/python/site-packages/Pyro4/core.py\", line 1891, in run\n",
      "    super(_OnewayCallThread, self).run()\n",
      "  File \"/Library/Developer/CommandLineTools/Library/Frameworks/Python3.framework/Versions/3.7/lib/python3.7/threading.py\", line 865, in run\n",
      "    self._target(*self._args, **self._kwargs)\n",
      "  File \"/Users/ryanstewart/Library/Python/3.7/lib/python/site-packages/osbrain/agent.py\", line 1680, in run\n",
      "    self._loop()\n",
      "  File \"/Users/ryanstewart/Library/Python/3.7/lib/python/site-packages/osbrain/agent.py\", line 1208, in _loop\n",
      "    if self._iterate():\n",
      "  File \"/Users/ryanstewart/Library/Python/3.7/lib/python/site-packages/osbrain/agent.py\", line 1245, in _iterate\n",
      "    self._process_events(events)\n",
      "  File \"/Users/ryanstewart/Library/Python/3.7/lib/python/site-packages/osbrain/agent.py\", line 1282, in _process_events\n",
      "    self._process_single_event(socket)\n",
      "  File \"/Users/ryanstewart/Library/Python/3.7/lib/python/site-packages/osbrain/agent.py\", line 1296, in _process_single_event\n",
      "    self._process_sub_event(socket, address, data)\n",
      "  File \"/Users/ryanstewart/Library/Python/3.7/lib/python/site-packages/osbrain/agent.py\", line 1452, in _process_sub_event\n",
      "    handler(self, message)\n",
      "  File \"/Users/ryanstewart/projects/multi_agent_blackboard_system/src/ka_br.py\", line 41, in handler_trigger_publish\n",
      "    new_entry = self.read_bb_lvl()\n",
      "  File \"/Users/ryanstewart/projects/multi_agent_blackboard_system/src/ka_br.py\", line 136, in read_bb_lvl\n",
      "    valid = self.determine_validity(core_name)\n",
      "  File \"/Users/ryanstewart/projects/multi_agent_blackboard_system/src/ka_br.py\", line 71, in determine_validity\n",
      "    self._fitness = self.determine_fitness_function(core_name, lvl_3[core_name]['reactor parameters'])\n",
      "KeyError: 'core_[57.85, 53.45, 0.92]'\n",
      "\n"
     ]
    },
    {
     "name": "stdout",
     "output_type": "stream",
     "text": [
      "INFO [2020-05-08 18:23:16.686583] (bb): Selecting agent ka_rp_explore_2 (TV: 2) to execute (TE: 48)\n",
      "INFO [2020-05-08 18:23:17.704298] (bb): Selecting agent ka_rp_explore_1 (TV: 2) to execute (TE: 49)\n",
      "INFO [2020-05-08 18:23:18.722422] (bb): Selecting agent ka_br_lvl3 (TV: 3) to execute (TE: 50)\n",
      "INFO [2020-05-08 18:23:19.734843] (bb): Selecting agent ka_rp_explore_2 (TV: 3) to execute (TE: 51)\n",
      "INFO [2020-05-08 18:23:20.748993] (bb): Selecting agent ka_rp_explore_1 (TV: 3) to execute (TE: 52)\n",
      "INFO [2020-05-08 18:23:21.757444] (bb): Selecting agent ka_br_lvl3 (TV: 3) to execute (TE: 53)\n",
      "INFO [2020-05-08 18:23:22.769973] (bb): Selecting agent ka_rp_explore_2 (TV: 3) to execute (TE: 54)\n",
      "INFO [2020-05-08 18:23:23.785371] (bb): Selecting agent ka_rp_explore_1 (TV: 3) to execute (TE: 55)\n",
      "INFO [2020-05-08 18:23:24.799560] (bb): Selecting agent ka_rp_explore_2 (TV: 2) to execute (TE: 56)\n",
      "INFO [2020-05-08 18:23:25.816596] (bb): Selecting agent ka_rp_explore_1 (TV: 2) to execute (TE: 57)\n",
      "INFO [2020-05-08 18:23:26.824588] (bb): Selecting agent ka_rp_explore_2 (TV: 2) to execute (TE: 58)\n",
      "INFO [2020-05-08 18:23:27.835403] (bb): Selecting agent ka_br_lvl3 (TV: 3) to execute (TE: 59)\n",
      "INFO [2020-05-08 18:23:28.844206] (bb): Selecting agent ka_rp_explore_1 (TV: 3) to execute (TE: 60)\n",
      "INFO [2020-05-08 18:23:44.397035] (bb): Selecting agent ka_rp_explore_2 (TV: 3) to execute (TE: 61)\n",
      "INFO [2020-05-08 18:23:45.411671] (bb): Selecting agent ka_br_lvl3 (TV: 3) to execute (TE: 62)\n",
      "INFO [2020-05-08 18:23:46.425100] (bb): Selecting agent ka_rp_explore_1 (TV: 3) to execute (TE: 63)\n",
      "INFO [2020-05-08 18:23:47.438804] (bb): Selecting agent ka_rp_explore_2 (TV: 3) to execute (TE: 64)\n",
      "INFO [2020-05-08 18:23:48.448160] (bb): Selecting agent ka_br_lvl3 (TV: 3) to execute (TE: 65)\n",
      "INFO [2020-05-08 18:23:49.461777] (bb): Selecting agent ka_rp_explore_1 (TV: 3) to execute (TE: 66)\n",
      "INFO [2020-05-08 18:23:50.475592] (bb): Selecting agent ka_rp_explore_2 (TV: 3) to execute (TE: 67)\n",
      "INFO [2020-05-08 18:23:51.489009] (bb): Selecting agent ka_br_lvl3 (TV: 3) to execute (TE: 68)\n",
      "INFO [2020-05-08 18:23:52.502804] (bb): Selecting agent ka_rp_explore_1 (TV: 3) to execute (TE: 69)\n",
      "INFO [2020-05-08 18:23:53.512205] (bb): Selecting agent ka_rp_explore_2 (TV: 3) to execute (TE: 70)\n",
      "INFO [2020-05-08 18:23:54.525987] (bb): Selecting agent ka_br_lvl3 (TV: 3) to execute (TE: 71)\n",
      "INFO [2020-05-08 18:23:55.539720] (bb): Selecting agent ka_rp_explore_1 (TV: 3) to execute (TE: 72)\n",
      "INFO [2020-05-08 18:23:56.553193] (bb): Selecting agent ka_rp_explore_2 (TV: 3) to execute (TE: 73)\n",
      "INFO [2020-05-08 18:23:57.565941] (bb): Selecting agent ka_br_lvl3 (TV: 3) to execute (TE: 74)\n",
      "INFO [2020-05-08 18:23:58.578683] (bb): Selecting agent ka_rp_explore_1 (TV: 3) to execute (TE: 75)\n",
      "INFO [2020-05-08 18:23:59.593602] (bb): Selecting agent ka_rp_explore_2 (TV: 3) to execute (TE: 76)\n",
      "INFO [2020-05-08 18:24:00.615502] (bb): Selecting agent ka_rp_explore_1 (TV: 2) to execute (TE: 77)\n",
      "INFO [2020-05-08 18:24:01.641518] (bb): Selecting agent ka_br_lvl3 (TV: 3) to execute (TE: 78)\n",
      "INFO [2020-05-08 18:24:02.655069] (bb): Selecting agent ka_rp_explore_2 (TV: 3) to execute (TE: 79)\n",
      "INFO [2020-05-08 18:24:03.679141] (bb): Selecting agent ka_rp_explore_1 (TV: 3) to execute (TE: 80)\n",
      "INFO [2020-05-08 18:24:16.359646] (bb): Selecting agent ka_br_lvl3 (TV: 3) to execute (TE: 81)\n",
      "INFO [2020-05-08 18:24:17.371722] (bb): Selecting agent ka_rp_explore_2 (TV: 3) to execute (TE: 82)\n",
      "INFO [2020-05-08 18:24:18.384463] (bb): Selecting agent ka_rp_explore_1 (TV: 3) to execute (TE: 83)\n",
      "INFO [2020-05-08 18:24:19.398769] (bb): Selecting agent ka_br_lvl3 (TV: 3) to execute (TE: 84)\n",
      "INFO [2020-05-08 18:24:20.412752] (bb): Selecting agent ka_rp_explore_2 (TV: 3) to execute (TE: 85)\n",
      "INFO [2020-05-08 18:24:21.426471] (bb): Selecting agent ka_rp_explore_1 (TV: 3) to execute (TE: 86)\n",
      "INFO [2020-05-08 18:24:22.440297] (bb): Selecting agent ka_br_lvl3 (TV: 3) to execute (TE: 87)\n",
      "INFO [2020-05-08 18:24:23.452574] (bb): Selecting agent ka_rp_explore_2 (TV: 3) to execute (TE: 88)\n",
      "INFO [2020-05-08 18:24:24.465767] (bb): Selecting agent ka_rp_explore_1 (TV: 3) to execute (TE: 89)\n",
      "INFO [2020-05-08 18:24:25.481728] (bb): Selecting agent ka_rp_explore_2 (TV: 2) to execute (TE: 90)\n",
      "INFO [2020-05-08 18:24:26.517543] (bb): Selecting agent ka_br_lvl3 (TV: 3) to execute (TE: 91)\n",
      "INFO [2020-05-08 18:24:27.526156] (bb): Selecting agent ka_rp_explore_1 (TV: 3) to execute (TE: 92)\n",
      "INFO [2020-05-08 18:24:28.540173] (bb): Selecting agent ka_rp_explore_2 (TV: 3) to execute (TE: 93)\n",
      "INFO [2020-05-08 18:24:29.550496] (bb): No KA to execute, waiting to sends trigger again.\n",
      "INFO [2020-05-08 18:24:30.562736] (bb): Selecting agent ka_br_lvl3 (TV: 3) to execute (TE: 95)\n",
      "INFO [2020-05-08 18:24:31.576931] (bb): Selecting agent ka_rp_explore_1 (TV: 4) to execute (TE: 96)\n",
      "INFO [2020-05-08 18:24:32.589394] (bb): Selecting agent ka_rp_explore_2 (TV: 4) to execute (TE: 97)\n",
      "INFO [2020-05-08 18:24:33.602182] (bb): Selecting agent ka_rp_explore_1 (TV: 2) to execute (TE: 98)\n",
      "INFO [2020-05-08 18:24:34.621180] (bb): Selecting agent ka_br_lvl3 (TV: 3) to execute (TE: 99)\n",
      "INFO [2020-05-08 18:24:35.643375] (bb): Selecting agent ka_rp_explore_2 (TV: 3) to execute (TE: 100)\n",
      "INFO [2020-05-08 18:24:39.895048] (bb): Selecting agent ka_rp_explore_1 (TV: 3) to execute (TE: 101)\n",
      "INFO [2020-05-08 18:24:40.909405] (bb): Selecting agent ka_br_lvl3 (TV: 3) to execute (TE: 102)\n",
      "INFO [2020-05-08 18:24:41.923266] (bb): Selecting agent ka_rp_explore_2 (TV: 3) to execute (TE: 103)\n",
      "INFO [2020-05-08 18:24:42.936889] (bb): Selecting agent ka_rp_explore_1 (TV: 3) to execute (TE: 104)\n",
      "INFO [2020-05-08 18:24:43.950387] (bb): Selecting agent ka_br_lvl3 (TV: 3) to execute (TE: 105)\n",
      "INFO [2020-05-08 18:24:44.964930] (bb): Selecting agent ka_rp_explore_2 (TV: 3) to execute (TE: 106)\n",
      "INFO [2020-05-08 18:24:45.979647] (bb): Selecting agent ka_rp_explore_1 (TV: 3) to execute (TE: 107)\n",
      "INFO [2020-05-08 18:24:46.993286] (bb): Selecting agent ka_rp_explore_2 (TV: 2) to execute (TE: 108)\n",
      "INFO [2020-05-08 18:24:48.007194] (bb): Selecting agent ka_rp_explore_1 (TV: 2) to execute (TE: 109)\n",
      "INFO [2020-05-08 18:24:49.017692] (bb): Selecting agent ka_br_lvl3 (TV: 3) to execute (TE: 110)\n",
      "INFO [2020-05-08 18:24:49.020991] (bb): Writing blackboard to archive\n",
      "INFO [2020-05-08 18:24:55.036218] (bb): Finished writing to archive\n",
      "INFO [2020-05-08 18:24:55.154348] (bb): Found agent type {} not connect. \n",
      " Reconnecting agent.\n",
      "INFO [2020-05-08 18:24:55.207307] (bb): Connected agent ka_br_lvl2 of agent type <class 'ka_br.KaBr_lvl2'>\n",
      "INFO [2020-05-08 18:24:56.221825] (bb): Selecting agent ka_rp_explore_2 (TV: 3) to execute (TE: 111)\n",
      "INFO [2020-05-08 18:24:57.237028] (bb): Selecting agent ka_rp_explore_1 (TV: 3) to execute (TE: 112)\n",
      "INFO [2020-05-08 18:24:58.249713] (bb): Selecting agent ka_br_lvl2 (TV: 4) to execute (TE: 113)\n",
      "INFO [2020-05-08 18:24:59.262291] (bb): No KA to execute, waiting to sends trigger again.\n",
      "INFO [2020-05-08 18:25:00.274193] (bb): Selecting agent ka_br_lvl3 (TV: 3) to execute (TE: 115)\n",
      "INFO [2020-05-08 18:25:01.287440] (bb): Selecting agent ka_br_lvl2 (TV: 4) to execute (TE: 116)\n",
      "INFO [2020-05-08 18:25:02.297502] (bb): Selecting agent ka_br_lvl2 (TV: 4) to execute (TE: 117)\n",
      "INFO [2020-05-08 18:25:03.308904] (bb): No KA to execute, waiting to sends trigger again.\n",
      "INFO [2020-05-08 18:25:04.319660] (bb): Selecting agent ka_rp_exploit (TV: 5) to execute (TE: 119)\n",
      "INFO [2020-05-08 18:25:05.338786] (bb): Selecting agent ka_br_lvl2 (TV: 4) to execute (TE: 120)\n",
      "INFO [2020-05-08 18:25:05.341532] (bb): Writing blackboard to archive\n",
      "INFO [2020-05-08 18:25:11.354792] (bb): Finished writing to archive\n",
      "INFO [2020-05-08 18:26:13.724428] (bb): Selecting agent ka_rp_explore_2 (TV: 10) to execute (TE: 121)\n",
      "INFO [2020-05-08 18:26:14.737345] (bb): Selecting agent ka_rp_explore_1 (TV: 10) to execute (TE: 122)\n",
      "INFO [2020-05-08 18:26:15.750518] (bb): Selecting agent ka_rp_exploit (TV: 5) to execute (TE: 123)\n",
      "INFO [2020-05-08 18:26:16.779438] (bb): Selecting agent ka_br_lvl2 (TV: 4) to execute (TE: 124)\n",
      "INFO [2020-05-08 18:26:17.793598] (bb): Selecting agent ka_br_lvl2 (TV: 4) to execute (TE: 125)\n",
      "INFO [2020-05-08 18:26:18.804934] (bb): Selecting agent ka_br_lvl2 (TV: 4) to execute (TE: 126)\n"
     ]
    },
    {
     "name": "stdout",
     "output_type": "stream",
     "text": [
      "INFO [2020-05-08 18:26:19.818916] (bb): Selecting agent ka_br_lvl2 (TV: 4) to execute (TE: 127)\n",
      "INFO [2020-05-08 18:26:20.832636] (bb): Selecting agent ka_br_lvl3 (TV: 3) to execute (TE: 128)\n",
      "INFO [2020-05-08 18:26:21.844704] (bb): Selecting agent ka_br_lvl2 (TV: 4) to execute (TE: 129)\n",
      "INFO [2020-05-08 18:26:22.854245] (bb): No KA to execute, waiting to sends trigger again.\n",
      "INFO [2020-05-08 18:26:22.856969] (bb): Writing blackboard to archive\n",
      "INFO [2020-05-08 18:26:28.867129] (bb): Finished writing to archive\n",
      "INFO [2020-05-08 18:26:29.897984] (bb): Selecting agent ka_rp_explore_1 (TV: 9) to execute (TE: 131)\n",
      "INFO [2020-05-08 18:26:30.907152] (bb): Selecting agent ka_rp_explore_2 (TV: 11) to execute (TE: 132)\n",
      "INFO [2020-05-08 18:26:31.919117] (bb): Selecting agent ka_rp_explore_1 (TV: 2) to execute (TE: 133)\n",
      "INFO [2020-05-08 18:26:32.927938] (bb): No KA to execute, waiting to sends trigger again.\n",
      "INFO [2020-05-08 18:26:33.940172] (bb): Selecting agent ka_br_lvl2 (TV: 4) to execute (TE: 135)\n",
      "INFO [2020-05-08 18:26:34.953884] (bb): No KA to execute, waiting to sends trigger again.\n",
      "INFO [2020-05-08 18:26:35.970041] (bb): No KA to execute, waiting to sends trigger again.\n",
      "INFO [2020-05-08 18:26:36.982243] (bb): Selecting agent ka_rp_exploit (TV: 5) to execute (TE: 138)\n",
      "INFO [2020-05-08 18:26:38.011052] (bb): Selecting agent ka_rp_explore_2 (TV: 7) to execute (TE: 139)\n",
      "INFO [2020-05-08 18:26:39.026331] (bb): Selecting agent ka_rp_explore_1 (TV: 7) to execute (TE: 140)\n",
      "INFO [2020-05-08 18:26:39.028357] (bb): Writing blackboard to archive\n"
     ]
    },
    {
     "name": "stderr",
     "output_type": "stream",
     "text": [
      "ERROR [2020-05-08 18:26:39.037099] (ka_br_lvl2): An exception occurred while running! ('core_[63.68, 53.02, 0.73]')\n",
      "\n",
      "|>>>>>>>>Traceback (most recent call last):\n",
      "|   File \"/Users/ryanstewart/Library/Python/3.7/lib/python/site-packages/osbrain/agent.py\", line 1680, in run\n",
      "|     self._loop()\n",
      "|   File \"/Users/ryanstewart/Library/Python/3.7/lib/python/site-packages/osbrain/agent.py\", line 1208, in _loop\n",
      "|     if self._iterate():\n",
      "|   File \"/Users/ryanstewart/Library/Python/3.7/lib/python/site-packages/osbrain/agent.py\", line 1245, in _iterate\n",
      "|     self._process_events(events)\n",
      "|   File \"/Users/ryanstewart/Library/Python/3.7/lib/python/site-packages/osbrain/agent.py\", line 1282, in _process_events\n",
      "|     self._process_single_event(socket)\n",
      "|   File \"/Users/ryanstewart/Library/Python/3.7/lib/python/site-packages/osbrain/agent.py\", line 1296, in _process_single_event\n",
      "|     self._process_sub_event(socket, address, data)\n",
      "|   File \"/Users/ryanstewart/Library/Python/3.7/lib/python/site-packages/osbrain/agent.py\", line 1452, in _process_sub_event\n",
      "|     handler(self, message)\n",
      "|   File \"/Users/ryanstewart/projects/multi_agent_blackboard_system/src/ka_br.py\", line 41, in handler_trigger_publish\n",
      "|     new_entry = self.read_bb_lvl()\n",
      "|   File \"/Users/ryanstewart/projects/multi_agent_blackboard_system/src/ka_br.py\", line 136, in read_bb_lvl\n",
      "|     valid = self.determine_validity(core_name)\n",
      "|   File \"/Users/ryanstewart/projects/multi_agent_blackboard_system/src/ka_br.py\", line 71, in determine_validity\n",
      "|     self._fitness = self.determine_fitness_function(core_name, lvl_3[core_name]['reactor parameters'])\n",
      "| KeyError: 'core_[63.68, 53.02, 0.73]'\n",
      "|<<<<<<<<\n",
      "Exception in thread oneway-call:\n",
      "Traceback (most recent call last):\n",
      "  File \"/Library/Developer/CommandLineTools/Library/Frameworks/Python3.framework/Versions/3.7/lib/python3.7/threading.py\", line 917, in _bootstrap_inner\n",
      "    self.run()\n",
      "  File \"/Users/ryanstewart/Library/Python/3.7/lib/python/site-packages/Pyro4/core.py\", line 1891, in run\n",
      "    super(_OnewayCallThread, self).run()\n",
      "  File \"/Library/Developer/CommandLineTools/Library/Frameworks/Python3.framework/Versions/3.7/lib/python3.7/threading.py\", line 865, in run\n",
      "    self._target(*self._args, **self._kwargs)\n",
      "  File \"/Users/ryanstewart/Library/Python/3.7/lib/python/site-packages/osbrain/agent.py\", line 1680, in run\n",
      "    self._loop()\n",
      "  File \"/Users/ryanstewart/Library/Python/3.7/lib/python/site-packages/osbrain/agent.py\", line 1208, in _loop\n",
      "    if self._iterate():\n",
      "  File \"/Users/ryanstewart/Library/Python/3.7/lib/python/site-packages/osbrain/agent.py\", line 1245, in _iterate\n",
      "    self._process_events(events)\n",
      "  File \"/Users/ryanstewart/Library/Python/3.7/lib/python/site-packages/osbrain/agent.py\", line 1282, in _process_events\n",
      "    self._process_single_event(socket)\n",
      "  File \"/Users/ryanstewart/Library/Python/3.7/lib/python/site-packages/osbrain/agent.py\", line 1296, in _process_single_event\n",
      "    self._process_sub_event(socket, address, data)\n",
      "  File \"/Users/ryanstewart/Library/Python/3.7/lib/python/site-packages/osbrain/agent.py\", line 1452, in _process_sub_event\n",
      "    handler(self, message)\n",
      "  File \"/Users/ryanstewart/projects/multi_agent_blackboard_system/src/ka_br.py\", line 41, in handler_trigger_publish\n",
      "    new_entry = self.read_bb_lvl()\n",
      "  File \"/Users/ryanstewart/projects/multi_agent_blackboard_system/src/ka_br.py\", line 136, in read_bb_lvl\n",
      "    valid = self.determine_validity(core_name)\n",
      "  File \"/Users/ryanstewart/projects/multi_agent_blackboard_system/src/ka_br.py\", line 71, in determine_validity\n",
      "    self._fitness = self.determine_fitness_function(core_name, lvl_3[core_name]['reactor parameters'])\n",
      "KeyError: 'core_[63.68, 53.02, 0.73]'\n",
      "\n"
     ]
    },
    {
     "name": "stdout",
     "output_type": "stream",
     "text": [
      "INFO [2020-05-08 18:26:45.041486] (bb): Finished writing to archive\n",
      "INFO [2020-05-08 18:26:45.162212] (bb): Found agent type {} not connect. \n",
      " Reconnecting agent.\n",
      "INFO [2020-05-08 18:26:45.216345] (bb): Connected agent ka_br_lvl2 of agent type <class 'ka_br.KaBr_lvl2'>\n"
     ]
    },
    {
     "name": "stderr",
     "output_type": "stream",
     "text": [
      "ERROR [2020-05-08 18:26:45.256190] (ka_br_lvl2): An exception occurred while running! ('core_[63.68, 53.02, 0.73]')\n",
      "\n",
      "|>>>>>>>>Traceback (most recent call last):\n",
      "|   File \"/Users/ryanstewart/Library/Python/3.7/lib/python/site-packages/osbrain/agent.py\", line 1680, in run\n",
      "|     self._loop()\n",
      "|   File \"/Users/ryanstewart/Library/Python/3.7/lib/python/site-packages/osbrain/agent.py\", line 1208, in _loop\n",
      "|     if self._iterate():\n",
      "|   File \"/Users/ryanstewart/Library/Python/3.7/lib/python/site-packages/osbrain/agent.py\", line 1245, in _iterate\n",
      "|     self._process_events(events)\n",
      "|   File \"/Users/ryanstewart/Library/Python/3.7/lib/python/site-packages/osbrain/agent.py\", line 1282, in _process_events\n",
      "|     self._process_single_event(socket)\n",
      "|   File \"/Users/ryanstewart/Library/Python/3.7/lib/python/site-packages/osbrain/agent.py\", line 1296, in _process_single_event\n",
      "|     self._process_sub_event(socket, address, data)\n",
      "|   File \"/Users/ryanstewart/Library/Python/3.7/lib/python/site-packages/osbrain/agent.py\", line 1452, in _process_sub_event\n",
      "|     handler(self, message)\n",
      "|   File \"/Users/ryanstewart/projects/multi_agent_blackboard_system/src/ka_br.py\", line 41, in handler_trigger_publish\n",
      "|     new_entry = self.read_bb_lvl()\n",
      "|   File \"/Users/ryanstewart/projects/multi_agent_blackboard_system/src/ka_br.py\", line 136, in read_bb_lvl\n",
      "|     valid = self.determine_validity(core_name)\n",
      "|   File \"/Users/ryanstewart/projects/multi_agent_blackboard_system/src/ka_br.py\", line 71, in determine_validity\n",
      "|     self._fitness = self.determine_fitness_function(core_name, lvl_3[core_name]['reactor parameters'])\n",
      "| KeyError: 'core_[63.68, 53.02, 0.73]'\n",
      "|<<<<<<<<\n",
      "Exception in thread oneway-call:\n",
      "Traceback (most recent call last):\n",
      "  File \"/Library/Developer/CommandLineTools/Library/Frameworks/Python3.framework/Versions/3.7/lib/python3.7/threading.py\", line 917, in _bootstrap_inner\n",
      "    self.run()\n",
      "  File \"/Users/ryanstewart/Library/Python/3.7/lib/python/site-packages/Pyro4/core.py\", line 1891, in run\n",
      "    super(_OnewayCallThread, self).run()\n",
      "  File \"/Library/Developer/CommandLineTools/Library/Frameworks/Python3.framework/Versions/3.7/lib/python3.7/threading.py\", line 865, in run\n",
      "    self._target(*self._args, **self._kwargs)\n",
      "  File \"/Users/ryanstewart/Library/Python/3.7/lib/python/site-packages/osbrain/agent.py\", line 1680, in run\n",
      "    self._loop()\n",
      "  File \"/Users/ryanstewart/Library/Python/3.7/lib/python/site-packages/osbrain/agent.py\", line 1208, in _loop\n",
      "    if self._iterate():\n",
      "  File \"/Users/ryanstewart/Library/Python/3.7/lib/python/site-packages/osbrain/agent.py\", line 1245, in _iterate\n",
      "    self._process_events(events)\n",
      "  File \"/Users/ryanstewart/Library/Python/3.7/lib/python/site-packages/osbrain/agent.py\", line 1282, in _process_events\n",
      "    self._process_single_event(socket)\n",
      "  File \"/Users/ryanstewart/Library/Python/3.7/lib/python/site-packages/osbrain/agent.py\", line 1296, in _process_single_event\n",
      "    self._process_sub_event(socket, address, data)\n",
      "  File \"/Users/ryanstewart/Library/Python/3.7/lib/python/site-packages/osbrain/agent.py\", line 1452, in _process_sub_event\n",
      "    handler(self, message)\n",
      "  File \"/Users/ryanstewart/projects/multi_agent_blackboard_system/src/ka_br.py\", line 41, in handler_trigger_publish\n",
      "    new_entry = self.read_bb_lvl()\n",
      "  File \"/Users/ryanstewart/projects/multi_agent_blackboard_system/src/ka_br.py\", line 136, in read_bb_lvl\n",
      "    valid = self.determine_validity(core_name)\n",
      "  File \"/Users/ryanstewart/projects/multi_agent_blackboard_system/src/ka_br.py\", line 71, in determine_validity\n",
      "    self._fitness = self.determine_fitness_function(core_name, lvl_3[core_name]['reactor parameters'])\n",
      "KeyError: 'core_[63.68, 53.02, 0.73]'\n",
      "\n"
     ]
    },
    {
     "name": "stdout",
     "output_type": "stream",
     "text": [
      "INFO [2020-05-08 18:26:46.232222] (bb): Selecting agent ka_rp_explore_1 (TV: 1) to execute (TE: 141)\n",
      "INFO [2020-05-08 18:26:47.242071] (bb): Selecting agent ka_rp_explore_2 (TV: 3) to execute (TE: 142)\n",
      "INFO [2020-05-08 18:26:48.256627] (bb): Selecting agent ka_br_lvl3 (TV: 3) to execute (TE: 143)\n",
      "INFO [2020-05-08 18:26:49.271728] (bb): Selecting agent ka_rp_explore_1 (TV: 3) to execute (TE: 144)\n",
      "INFO [2020-05-08 18:26:50.284858] (bb): No KA to execute, waiting to sends trigger again.\n",
      "INFO [2020-05-08 18:26:51.308399] (bb): Selecting agent ka_rp_exploit (TV: 5) to execute (TE: 146)\n",
      "INFO [2020-05-08 18:26:52.355592] (bb): Selecting agent ka_rp_explore_2 (TV: 5) to execute (TE: 147)\n",
      "INFO [2020-05-08 18:26:53.370042] (bb): Selecting agent ka_rp_explore_1 (TV: 4) to execute (TE: 148)\n",
      "INFO [2020-05-08 18:26:54.384050] (bb): Selecting agent ka_rp_explore_2 (TV: 2) to execute (TE: 149)\n",
      "INFO [2020-05-08 18:26:55.393501] (bb): Selecting agent ka_rp_explore_1 (TV: 2) to execute (TE: 150)\n",
      "INFO [2020-05-08 18:26:55.396394] (bb): Writing blackboard to archive\n",
      "INFO [2020-05-08 18:27:01.413233] (bb): Finished writing to archive\n",
      "INFO [2020-05-08 18:27:01.534771] (bb): Found agent type {} not connect. \n",
      " Reconnecting agent.\n",
      "INFO [2020-05-08 18:27:01.586916] (bb): Connected agent ka_br_lvl2 of agent type <class 'ka_br.KaBr_lvl2'>\n",
      "INFO [2020-05-08 18:27:02.600052] (bb): Selecting agent ka_rp_explore_2 (TV: 2) to execute (TE: 151)\n",
      "INFO [2020-05-08 18:27:03.623806] (bb): Selecting agent ka_rp_explore_1 (TV: 2) to execute (TE: 152)\n",
      "INFO [2020-05-08 18:27:04.636544] (bb): Selecting agent ka_rp_explore_2 (TV: 2) to execute (TE: 153)\n",
      "INFO [2020-05-08 18:27:05.647149] (bb): Selecting agent ka_rp_exploit (TV: 5) to execute (TE: 154)\n",
      "INFO [2020-05-08 18:27:06.677850] (bb): Selecting agent ka_br_lvl3 (TV: 3) to execute (TE: 155)\n",
      "INFO [2020-05-08 18:27:07.691965] (bb): Selecting agent ka_rp_explore_1 (TV: 4) to execute (TE: 156)\n",
      "INFO [2020-05-08 18:27:08.702059] (bb): Selecting agent ka_rp_explore_2 (TV: 4) to execute (TE: 157)\n",
      "INFO [2020-05-08 18:27:09.713739] (bb): No KA to execute, waiting to sends trigger again.\n",
      "INFO [2020-05-08 18:27:10.723980] (bb): No KA to execute, waiting to sends trigger again.\n"
     ]
    },
    {
     "name": "stderr",
     "output_type": "stream",
     "text": [
      "ERROR [2020-05-08 18:27:11.248889] (ka_br_lvl2): An exception occurred while running! ('core_[70.64, 55.64, 0.35]')\n",
      "\n",
      "|>>>>>>>>Traceback (most recent call last):\n",
      "|   File \"/Users/ryanstewart/Library/Python/3.7/lib/python/site-packages/osbrain/agent.py\", line 1680, in run\n",
      "|     self._loop()\n",
      "|   File \"/Users/ryanstewart/Library/Python/3.7/lib/python/site-packages/osbrain/agent.py\", line 1208, in _loop\n",
      "|     if self._iterate():\n",
      "|   File \"/Users/ryanstewart/Library/Python/3.7/lib/python/site-packages/osbrain/agent.py\", line 1245, in _iterate\n",
      "|     self._process_events(events)\n",
      "|   File \"/Users/ryanstewart/Library/Python/3.7/lib/python/site-packages/osbrain/agent.py\", line 1282, in _process_events\n",
      "|     self._process_single_event(socket)\n",
      "|   File \"/Users/ryanstewart/Library/Python/3.7/lib/python/site-packages/osbrain/agent.py\", line 1296, in _process_single_event\n",
      "|     self._process_sub_event(socket, address, data)\n",
      "|   File \"/Users/ryanstewart/Library/Python/3.7/lib/python/site-packages/osbrain/agent.py\", line 1452, in _process_sub_event\n",
      "|     handler(self, message)\n",
      "|   File \"/Users/ryanstewart/projects/multi_agent_blackboard_system/src/ka_br.py\", line 41, in handler_trigger_publish\n",
      "|     new_entry = self.read_bb_lvl()\n",
      "|   File \"/Users/ryanstewart/projects/multi_agent_blackboard_system/src/ka_br.py\", line 136, in read_bb_lvl\n",
      "|     valid = self.determine_validity(core_name)\n",
      "|   File \"/Users/ryanstewart/projects/multi_agent_blackboard_system/src/ka_br.py\", line 71, in determine_validity\n",
      "|     self._fitness = self.determine_fitness_function(core_name, lvl_3[core_name]['reactor parameters'])\n",
      "| KeyError: 'core_[70.64, 55.64, 0.35]'\n",
      "|<<<<<<<<\n",
      "Exception in thread oneway-call:\n",
      "Traceback (most recent call last):\n",
      "  File \"/Library/Developer/CommandLineTools/Library/Frameworks/Python3.framework/Versions/3.7/lib/python3.7/threading.py\", line 917, in _bootstrap_inner\n",
      "    self.run()\n",
      "  File \"/Users/ryanstewart/Library/Python/3.7/lib/python/site-packages/Pyro4/core.py\", line 1891, in run\n",
      "    super(_OnewayCallThread, self).run()\n",
      "  File \"/Library/Developer/CommandLineTools/Library/Frameworks/Python3.framework/Versions/3.7/lib/python3.7/threading.py\", line 865, in run\n",
      "    self._target(*self._args, **self._kwargs)\n",
      "  File \"/Users/ryanstewart/Library/Python/3.7/lib/python/site-packages/osbrain/agent.py\", line 1680, in run\n",
      "    self._loop()\n",
      "  File \"/Users/ryanstewart/Library/Python/3.7/lib/python/site-packages/osbrain/agent.py\", line 1208, in _loop\n",
      "    if self._iterate():\n",
      "  File \"/Users/ryanstewart/Library/Python/3.7/lib/python/site-packages/osbrain/agent.py\", line 1245, in _iterate\n",
      "    self._process_events(events)\n",
      "  File \"/Users/ryanstewart/Library/Python/3.7/lib/python/site-packages/osbrain/agent.py\", line 1282, in _process_events\n",
      "    self._process_single_event(socket)\n",
      "  File \"/Users/ryanstewart/Library/Python/3.7/lib/python/site-packages/osbrain/agent.py\", line 1296, in _process_single_event\n",
      "    self._process_sub_event(socket, address, data)\n",
      "  File \"/Users/ryanstewart/Library/Python/3.7/lib/python/site-packages/osbrain/agent.py\", line 1452, in _process_sub_event\n",
      "    handler(self, message)\n",
      "  File \"/Users/ryanstewart/projects/multi_agent_blackboard_system/src/ka_br.py\", line 41, in handler_trigger_publish\n",
      "    new_entry = self.read_bb_lvl()\n",
      "  File \"/Users/ryanstewart/projects/multi_agent_blackboard_system/src/ka_br.py\", line 136, in read_bb_lvl\n",
      "    valid = self.determine_validity(core_name)\n",
      "  File \"/Users/ryanstewart/projects/multi_agent_blackboard_system/src/ka_br.py\", line 71, in determine_validity\n",
      "    self._fitness = self.determine_fitness_function(core_name, lvl_3[core_name]['reactor parameters'])\n",
      "KeyError: 'core_[70.64, 55.64, 0.35]'\n",
      "\n"
     ]
    },
    {
     "name": "stdout",
     "output_type": "stream",
     "text": [
      "INFO [2020-05-08 18:27:11.732701] (bb): No KA to execute, waiting to sends trigger again.\n",
      "INFO [2020-05-08 18:27:11.735010] (bb): Writing blackboard to archive\n",
      "INFO [2020-05-08 18:27:17.752314] (bb): Finished writing to archive\n",
      "INFO [2020-05-08 18:27:17.870442] (bb): Found agent type {} not connect. \n",
      " Reconnecting agent.\n",
      "INFO [2020-05-08 18:27:17.925944] (bb): Connected agent ka_br_lvl2 of agent type <class 'ka_br.KaBr_lvl2'>\n",
      "INFO [2020-05-08 18:28:11.510674] (bb): Selecting agent ka_rp_explore_1 (TV: 5) to execute (TE: 161)\n",
      "INFO [2020-05-08 18:28:12.525835] (bb): Selecting agent ka_rp_explore_2 (TV: 5) to execute (TE: 162)\n",
      "INFO [2020-05-08 18:28:13.540839] (bb): Selecting agent ka_rp_exploit (TV: 5) to execute (TE: 163)\n",
      "INFO [2020-05-08 18:28:14.572273] (bb): Selecting agent ka_rp_explore_1 (TV: 3) to execute (TE: 164)\n",
      "INFO [2020-05-08 18:28:15.587039] (bb): Selecting agent ka_rp_explore_2 (TV: 3) to execute (TE: 165)\n",
      "INFO [2020-05-08 18:28:16.600641] (bb): Selecting agent ka_br_lvl3 (TV: 3) to execute (TE: 166)\n",
      "INFO [2020-05-08 18:28:17.615091] (bb): Selecting agent ka_rp_explore_1 (TV: 3) to execute (TE: 167)\n",
      "INFO [2020-05-08 18:28:18.629082] (bb): Selecting agent ka_rp_explore_2 (TV: 3) to execute (TE: 168)\n"
     ]
    },
    {
     "name": "stderr",
     "output_type": "stream",
     "text": [
      "ERROR [2020-05-08 18:28:18.681625] (ka_br_lvl2): An exception occurred while running! ('core_[68.14, 62.96, 0.14]')\n",
      "\n",
      "|>>>>>>>>Traceback (most recent call last):\n",
      "|   File \"/Users/ryanstewart/Library/Python/3.7/lib/python/site-packages/osbrain/agent.py\", line 1680, in run\n",
      "|     self._loop()\n",
      "|   File \"/Users/ryanstewart/Library/Python/3.7/lib/python/site-packages/osbrain/agent.py\", line 1208, in _loop\n",
      "|     if self._iterate():\n",
      "|   File \"/Users/ryanstewart/Library/Python/3.7/lib/python/site-packages/osbrain/agent.py\", line 1245, in _iterate\n",
      "|     self._process_events(events)\n",
      "|   File \"/Users/ryanstewart/Library/Python/3.7/lib/python/site-packages/osbrain/agent.py\", line 1282, in _process_events\n",
      "|     self._process_single_event(socket)\n",
      "|   File \"/Users/ryanstewart/Library/Python/3.7/lib/python/site-packages/osbrain/agent.py\", line 1296, in _process_single_event\n",
      "|     self._process_sub_event(socket, address, data)\n",
      "|   File \"/Users/ryanstewart/Library/Python/3.7/lib/python/site-packages/osbrain/agent.py\", line 1452, in _process_sub_event\n",
      "|     handler(self, message)\n",
      "|   File \"/Users/ryanstewart/projects/multi_agent_blackboard_system/src/ka_br.py\", line 41, in handler_trigger_publish\n",
      "|     new_entry = self.read_bb_lvl()\n",
      "|   File \"/Users/ryanstewart/projects/multi_agent_blackboard_system/src/ka_br.py\", line 136, in read_bb_lvl\n",
      "|     valid = self.determine_validity(core_name)\n",
      "|   File \"/Users/ryanstewart/projects/multi_agent_blackboard_system/src/ka_br.py\", line 71, in determine_validity\n",
      "|     self._fitness = self.determine_fitness_function(core_name, lvl_3[core_name]['reactor parameters'])\n",
      "| KeyError: 'core_[68.14, 62.96, 0.14]'\n",
      "|<<<<<<<<\n",
      "Exception in thread oneway-call:\n",
      "Traceback (most recent call last):\n",
      "  File \"/Library/Developer/CommandLineTools/Library/Frameworks/Python3.framework/Versions/3.7/lib/python3.7/threading.py\", line 917, in _bootstrap_inner\n",
      "    self.run()\n",
      "  File \"/Users/ryanstewart/Library/Python/3.7/lib/python/site-packages/Pyro4/core.py\", line 1891, in run\n",
      "    super(_OnewayCallThread, self).run()\n",
      "  File \"/Library/Developer/CommandLineTools/Library/Frameworks/Python3.framework/Versions/3.7/lib/python3.7/threading.py\", line 865, in run\n",
      "    self._target(*self._args, **self._kwargs)\n",
      "  File \"/Users/ryanstewart/Library/Python/3.7/lib/python/site-packages/osbrain/agent.py\", line 1680, in run\n",
      "    self._loop()\n",
      "  File \"/Users/ryanstewart/Library/Python/3.7/lib/python/site-packages/osbrain/agent.py\", line 1208, in _loop\n",
      "    if self._iterate():\n",
      "  File \"/Users/ryanstewart/Library/Python/3.7/lib/python/site-packages/osbrain/agent.py\", line 1245, in _iterate\n",
      "    self._process_events(events)\n",
      "  File \"/Users/ryanstewart/Library/Python/3.7/lib/python/site-packages/osbrain/agent.py\", line 1282, in _process_events\n",
      "    self._process_single_event(socket)\n",
      "  File \"/Users/ryanstewart/Library/Python/3.7/lib/python/site-packages/osbrain/agent.py\", line 1296, in _process_single_event\n",
      "    self._process_sub_event(socket, address, data)\n",
      "  File \"/Users/ryanstewart/Library/Python/3.7/lib/python/site-packages/osbrain/agent.py\", line 1452, in _process_sub_event\n",
      "    handler(self, message)\n",
      "  File \"/Users/ryanstewart/projects/multi_agent_blackboard_system/src/ka_br.py\", line 41, in handler_trigger_publish\n",
      "    new_entry = self.read_bb_lvl()\n",
      "  File \"/Users/ryanstewart/projects/multi_agent_blackboard_system/src/ka_br.py\", line 136, in read_bb_lvl\n",
      "    valid = self.determine_validity(core_name)\n",
      "  File \"/Users/ryanstewart/projects/multi_agent_blackboard_system/src/ka_br.py\", line 71, in determine_validity\n",
      "    self._fitness = self.determine_fitness_function(core_name, lvl_3[core_name]['reactor parameters'])\n",
      "KeyError: 'core_[68.14, 62.96, 0.14]'\n",
      "\n"
     ]
    },
    {
     "name": "stdout",
     "output_type": "stream",
     "text": [
      "INFO [2020-05-08 18:28:19.642777] (bb): Selecting agent ka_rp_exploit (TV: 5) to execute (TE: 169)\n",
      "INFO [2020-05-08 18:28:20.675066] (bb): Selecting agent ka_rp_explore_1 (TV: 3) to execute (TE: 170)\n",
      "INFO [2020-05-08 18:28:20.678890] (bb): Writing blackboard to archive\n",
      "INFO [2020-05-08 18:28:26.691033] (bb): Finished writing to archive\n",
      "INFO [2020-05-08 18:28:26.806847] (bb): Found agent type {} not connect. \n",
      " Reconnecting agent.\n",
      "INFO [2020-05-08 18:28:26.860239] (bb): Connected agent ka_br_lvl2 of agent type <class 'ka_br.KaBr_lvl2'>\n",
      "NS shut down.\n"
     ]
    }
   ],
   "source": [
    "ns = run_nameserver()\n",
    "bb = run_agent(name='bb', base=bb_sfr_opt.BbSfrOpt)\n",
    "bb.set_attr(desired_results={'cycle length': (180, 720), \n",
    "                             'reactivity swing': (540, 950), \n",
    "                             'burnup': (3.0, 5.5), \n",
    "                             'pu mass': (0, 1891)})\n",
    "bb.generate_sm()\n",
    "bb.set_attr(required_agents=[karp.KaRpExplore,karp.KaRpExploit,kabr.KaBr_lvl2,kabr.KaBr_lvl3])\n",
    "bb.connect_agent(karp.KaRpExplore, 'ka_rp_explore_1')\n",
    "bb.connect_agent(karp.KaRpExplore, 'ka_rp_explore_2')\n",
    "bb.connect_agent(karp.KaRpExploit, 'ka_rp_exploit')\n",
    "bb.connect_agent(kabr.KaBr_lvl2, 'ka_br_lvl2')\n",
    "bb.connect_agent(kabr.KaBr_lvl3, 'ka_br_lvl3')"
   ]
  },
  {
   "cell_type": "code",
   "execution_count": 11,
   "metadata": {},
   "outputs": [
    {
     "name": "stdout",
     "output_type": "stream",
     "text": [
      "Finished trigger event: 161\n",
      "Finished trigger event: 162\n",
      "Finished trigger event: 163\n",
      "Finished trigger event: 164\n",
      "Finished trigger event: 165\n",
      "Finished trigger event: 166\n",
      "Finished trigger event: 167\n",
      "Finished trigger event: 168\n",
      "Finished trigger event: 169\n",
      "Finished trigger event: 170\n"
     ]
    }
   ],
   "source": [
    "#while not bb.get_attr('_complete'):\n",
    "#    i=0\n",
    "for i in range(10):\n",
    "    bb.publish_trigger()\n",
    "    time.sleep(1)\n",
    "    bb.controller()\n",
    "    bb.send_executor()\n",
    "    bb.wait_for_ka()\n",
    "    bb.determine_complete()\n",
    "    print('Finished trigger event: {}'.format(bb.get_attr('_trigger_event')))\n"
   ]
  },
  {
   "cell_type": "code",
   "execution_count": 6,
   "metadata": {},
   "outputs": [
    {
     "name": "stdout",
     "output_type": "stream",
     "text": [
      "['bb', 'ka_rp_explore_1', 'ka_rp_explore_2', 'ka_rp_exploit', 'ka_br_lvl2', 'ka_br_lvl3']\n"
     ]
    }
   ],
   "source": [
    "print(ns.agents())\n",
    "#bblvl2 = ns.proxy('ka_br_lvl2')"
   ]
  },
  {
   "cell_type": "code",
   "execution_count": 12,
   "metadata": {},
   "outputs": [
    {
     "name": "stdout",
     "output_type": "stream",
     "text": [
      "False\n"
     ]
    }
   ],
   "source": [
    "print(bblvl2.get_attr('_running'))"
   ]
  },
  {
   "cell_type": "code",
   "execution_count": null,
   "metadata": {},
   "outputs": [],
   "source": []
  }
 ],
 "metadata": {
  "kernelspec": {
   "display_name": "Python 3",
   "language": "python",
   "name": "python3"
  },
  "language_info": {
   "codemirror_mode": {
    "name": "ipython",
    "version": 3
   },
   "file_extension": ".py",
   "mimetype": "text/x-python",
   "name": "python",
   "nbconvert_exporter": "python",
   "pygments_lexer": "ipython3",
   "version": "3.7.3"
  },
  "latex_envs": {
   "LaTeX_envs_menu_present": true,
   "autoclose": false,
   "autocomplete": true,
   "bibliofile": "biblio.bib",
   "cite_by": "apalike",
   "current_citInitial": 1,
   "eqLabelWithNumbers": true,
   "eqNumInitial": 1,
   "hotkeys": {
    "equation": "Ctrl-E",
    "itemize": "Ctrl-I"
   },
   "labels_anchors": false,
   "latex_user_defs": false,
   "report_style_numbering": false,
   "user_envs_cfg": false
  }
 },
 "nbformat": 4,
 "nbformat_minor": 4
}
