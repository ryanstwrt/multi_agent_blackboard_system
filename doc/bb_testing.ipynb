{
 "cells": [
  {
   "cell_type": "code",
   "execution_count": 6,
   "metadata": {},
   "outputs": [],
   "source": [
    "import osbrain\n",
    "from osbrain import run_nameserver\n",
    "from osbrain import run_agent\n",
    "from osbrain import logging\n",
    "import numpy as np\n",
    "import blackboard\n",
    "import ka\n",
    "import ka_rp as karp\n",
    "import ka_br as kabr\n",
    "import database_generator as dg\n",
    "import bb_basic\n",
    "import time\n",
    "import h5py\n",
    "import train_surrogate_models as tm\n",
    "import scipy.interpolate"
   ]
  },
  {
   "cell_type": "code",
   "execution_count": 16,
   "metadata": {},
   "outputs": [
    {
     "name": "stdout",
     "output_type": "stream",
     "text": [
      "Warning: Core FS65_H55_23Pu4U10Zr does not have a burnup core. No assemblies are present\n"
     ]
    }
   ],
   "source": [
    "ind, obj = dg.get_data(['height', 'smear', 'pu_content'], ['keff', 'void', 'doppler'])"
   ]
  },
  {
   "cell_type": "code",
   "execution_count": 30,
   "metadata": {},
   "outputs": [
    {
     "name": "stdout",
     "output_type": "stream",
     "text": [
      "R2 Score: 0.9106211494727335\n",
      "MSE Score: 0.08937885052726642\n"
     ]
    }
   ],
   "source": [
    "sm = tm.Surrogate_Models()\n",
    "model = 'ann'\n",
    "\n",
    "sm.random = 0\n",
    "sm.update_database(ind, obj)\n",
    "sm.optimize_model(model)\n",
    "print('R2 Score: {}'.format(sm.models[model]['score']))\n",
    "print('MSE Score: {}'.format(sm.models[model]['mse_score']))\n",
    "#print('CV Results: {}'.format(sm.models[model]['cv_results']))"
   ]
  },
  {
   "cell_type": "code",
   "execution_count": 31,
   "metadata": {},
   "outputs": [
    {
     "name": "stdout",
     "output_type": "stream",
     "text": [
      "Predicted: [[   0.99941341 -113.84909307   -0.70747017]]\n",
      "Predicted: [[   0.99826766 -110.86682936   -0.72453021]]\n",
      "Predicted: [[   1.00595744 -117.80498917   -0.6638631 ]]\n"
     ]
    }
   ],
   "source": [
    "print('Predicted: {}'.format(sm.predict(model, [[61.37,51.58,0.7340]])))\n",
    "print('Predicted: {}'.format(sm.predict(model, [[59.72,50.01,0.8694]])))\n",
    "print('Predicted: {}'.format(sm.predict(model, [[71.06,55.77,0.3536]])))"
   ]
  },
  {
   "cell_type": "code",
   "execution_count": 17,
   "metadata": {},
   "outputs": [],
   "source": [
    "sm2 = {}\n",
    "design_var, objective_func = np.asarray(ind), np.asarray(obj)\n",
    "for num, objective in enumerate(['keff', 'void', 'doppler']):\n",
    "    sm2[objective] = scipy.interpolate.LinearNDInterpolator(design_var, objective_func[:,num]) "
   ]
  },
  {
   "cell_type": "code",
   "execution_count": 18,
   "metadata": {},
   "outputs": [
    {
     "name": "stdout",
     "output_type": "stream",
     "text": [
      "[0.9992587833657331, -116.3956786137983, -0.7162576521744397]\n",
      "[0.9986864120000001, -111.95413008061794, -0.7529935737270184]\n",
      "[1.0063239933333332, -119.45645329200596, -0.6373027564232986]\n"
     ]
    }
   ],
   "source": [
    "x_list = [[61.37,51.58,0.7340],[59.72,50.01,0.8694],[71.06,55.77,0.3536]]\n",
    "for design in x_list:\n",
    "    x = []\n",
    "    for interpolator in sm2.values():\n",
    "        x.append(float(interpolator(tuple(design))))\n",
    "    print(x)"
   ]
  },
  {
   "cell_type": "code",
   "execution_count": 3,
   "metadata": {},
   "outputs": [
    {
     "name": "stdout",
     "output_type": "stream",
     "text": [
      "Broadcast server running on 0.0.0.0:9091\n",
      "NS running on 127.0.0.1:16801 (127.0.0.1)\n",
      "URI = PYRO:Pyro.NameServer@127.0.0.1:16801\n",
      "INFO [2020-04-14 18:34:09.242815] (bb): Connected agent ka_rp of agent type rp\n",
      "INFO [2020-04-14 18:34:09.281582] (bb): Connected agent ka_br of agent type br\n",
      "NS shut down.\n"
     ]
    }
   ],
   "source": [
    "ns = run_nameserver()\n",
    "bb = run_agent(name='bb', base=bb_basic.BbTraditional)\n",
    "\n",
    "bb.connect_agent('rp', 'ka_rp')\n",
    "bb.connect_agent('br', 'ka_br')\n",
    "\n",
    "bb.add_abstract_lvl(1, {'valid': bool})\n",
    "bb.add_abstract_lvl(2, {'reactor parameters': {'height': float, 'smear': float, 'pu_content': float, 'keff': float, 'void_coeff': float, 'doppler_coeff': float}})\n",
    "#bb.load_h5()"
   ]
  },
  {
   "cell_type": "code",
   "execution_count": null,
   "metadata": {},
   "outputs": [],
   "source": []
  },
  {
   "cell_type": "code",
   "execution_count": null,
   "metadata": {},
   "outputs": [],
   "source": [
    "while not bb.get_attr('_complete'):\n",
    "    bb.publish_trigger()\n",
    "    bb.controller()\n",
    "    bb.send_executor()\n",
    "    bb.wait_for_ka()\n",
    "    print('Finished trigger event: {}'.format(bb.get_attr('_trigger_event')))\n",
    "\n",
    "print(bb.get_attr('abstract_lvls')['level 1'])"
   ]
  },
  {
   "cell_type": "code",
   "execution_count": null,
   "metadata": {},
   "outputs": [],
   "source": [
    "h5 = h5py.File('bb_archive.h5', 'r')\n",
    "for k,v in h5['level 2']['core_[67.38, 57.01, 0.42]']['reactor parameters'].items():\n",
    "    print(k,v[0])\n",
    "h5.close()"
   ]
  }
 ],
 "metadata": {
  "kernelspec": {
   "display_name": "Python 3",
   "language": "python",
   "name": "python3"
  },
  "language_info": {
   "codemirror_mode": {
    "name": "ipython",
    "version": 3
   },
   "file_extension": ".py",
   "mimetype": "text/x-python",
   "name": "python",
   "nbconvert_exporter": "python",
   "pygments_lexer": "ipython3",
   "version": "3.7.3"
  }
 },
 "nbformat": 4,
 "nbformat_minor": 4
}
