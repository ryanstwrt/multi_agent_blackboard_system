{
 "cells": [
  {
   "cell_type": "code",
   "execution_count": 1,
   "metadata": {},
   "outputs": [],
   "source": [
    "import osbrain\n",
    "from osbrain import run_nameserver\n",
    "from osbrain import run_agent\n",
    "from osbrain import logging\n",
    "import numpy as np\n",
    "import blackboard\n",
    "import ka\n",
    "import ka_rp as karp\n",
    "import ka_br as kabr\n",
    "import database_generator as dg\n",
    "import bb_basic\n",
    "import time\n",
    "import h5py\n",
    "import train_surrogate_models as tm\n",
    "import scipy.interpolate"
   ]
  },
  {
   "cell_type": "code",
   "execution_count": 2,
   "metadata": {},
   "outputs": [
    {
     "name": "stdout",
     "output_type": "stream",
     "text": [
      "Warning: Core FS65_H55_23Pu4U10Zr does not have a burnup core. No assemblies are present\n"
     ]
    }
   ],
   "source": [
    "#ind2, obj2 = dg.get_data(['height', 'smear', 'pu_content'], ['cycle length', 'reactivity swing'])\n",
    "#ind3, obj3 = dg.get_data(['height', 'smear', 'pu_content'], ['cycle length', 'reactivity swing', 'burnup'])\n",
    "ind,  obj  = dg.get_data(['height', 'smear', 'pu_content'], ['cycle length', 'reactivity swing', 'burnup', 'pu mass'])\n",
    "#ind1, obj1 = dg.get_data(['height', 'smear', 'pu_content'], ['cycle length', 'reactivity swing', 'burnup', 'pu mass', 'void'])\n",
    "#ind4, obj4 = dg.get_data(['height', 'smear', 'pu_content'], ['cycle length', 'reactivity swing', 'burnup', 'pu mass', 'void', 'doppler'])\n",
    "#ind5, obj5 = dg.get_data(['height', 'smear', 'pu_content'], ['cycle length', 'reactivity swing', 'burnup', 'pu mass', 'void', 'doppler', 'keff'])"
   ]
  },
  {
   "cell_type": "code",
   "execution_count": 3,
   "metadata": {},
   "outputs": [
    {
     "ename": "ValueError",
     "evalue": "Multioutput not supported in max_error",
     "output_type": "error",
     "traceback": [
      "\u001b[0;31m---------------------------------------------------------------------------\u001b[0m",
      "\u001b[0;31mValueError\u001b[0m                                Traceback (most recent call last)",
      "\u001b[0;32m<ipython-input-3-c40333d1cd18>\u001b[0m in \u001b[0;36m<module>\u001b[0;34m\u001b[0m\n\u001b[1;32m      6\u001b[0m     \u001b[0msm\u001b[0m\u001b[0;34m.\u001b[0m\u001b[0mrandom\u001b[0m \u001b[0;34m=\u001b[0m \u001b[0;36m0\u001b[0m\u001b[0;34m\u001b[0m\u001b[0;34m\u001b[0m\u001b[0m\n\u001b[1;32m      7\u001b[0m     \u001b[0msm\u001b[0m\u001b[0;34m.\u001b[0m\u001b[0mupdate_database\u001b[0m\u001b[0;34m(\u001b[0m\u001b[0minde\u001b[0m\u001b[0;34m,\u001b[0m \u001b[0mobjc\u001b[0m\u001b[0;34m)\u001b[0m\u001b[0;34m\u001b[0m\u001b[0;34m\u001b[0m\u001b[0m\n\u001b[0;32m----> 8\u001b[0;31m     \u001b[0msm\u001b[0m\u001b[0;34m.\u001b[0m\u001b[0moptimize_model\u001b[0m\u001b[0;34m(\u001b[0m\u001b[0mmodel\u001b[0m\u001b[0;34m)\u001b[0m\u001b[0;34m\u001b[0m\u001b[0;34m\u001b[0m\u001b[0m\n\u001b[0m\u001b[1;32m      9\u001b[0m     \u001b[0mprint\u001b[0m\u001b[0;34m(\u001b[0m\u001b[0;34m'R2 Score: {}'\u001b[0m\u001b[0;34m.\u001b[0m\u001b[0mformat\u001b[0m\u001b[0;34m(\u001b[0m\u001b[0msm\u001b[0m\u001b[0;34m.\u001b[0m\u001b[0mmodels\u001b[0m\u001b[0;34m[\u001b[0m\u001b[0mmodel\u001b[0m\u001b[0;34m]\u001b[0m\u001b[0;34m[\u001b[0m\u001b[0;34m'score'\u001b[0m\u001b[0;34m]\u001b[0m\u001b[0;34m)\u001b[0m\u001b[0;34m)\u001b[0m\u001b[0;34m\u001b[0m\u001b[0;34m\u001b[0m\u001b[0m\n\u001b[1;32m     10\u001b[0m     \u001b[0mprint\u001b[0m\u001b[0;34m(\u001b[0m\u001b[0;34m'MSE Score: {}'\u001b[0m\u001b[0;34m.\u001b[0m\u001b[0mformat\u001b[0m\u001b[0;34m(\u001b[0m\u001b[0msm\u001b[0m\u001b[0;34m.\u001b[0m\u001b[0mmodels\u001b[0m\u001b[0;34m[\u001b[0m\u001b[0mmodel\u001b[0m\u001b[0;34m]\u001b[0m\u001b[0;34m[\u001b[0m\u001b[0;34m'mse_score'\u001b[0m\u001b[0;34m]\u001b[0m\u001b[0;34m)\u001b[0m\u001b[0;34m)\u001b[0m\u001b[0;34m\u001b[0m\u001b[0;34m\u001b[0m\u001b[0m\n",
      "\u001b[0;32m~/projects/surrogate_modeling/src/train_surrogate_models.py\u001b[0m in \u001b[0;36moptimize_model\u001b[0;34m(self, model_type, hp)\u001b[0m\n\u001b[1;32m    138\u001b[0m     \u001b[0;32melse\u001b[0m\u001b[0;34m:\u001b[0m\u001b[0;34m\u001b[0m\u001b[0;34m\u001b[0m\u001b[0m\n\u001b[1;32m    139\u001b[0m         \u001b[0mhyper_parameters\u001b[0m \u001b[0;34m=\u001b[0m \u001b[0mself\u001b[0m\u001b[0;34m.\u001b[0m\u001b[0mhyper_parameters\u001b[0m\u001b[0;34m[\u001b[0m\u001b[0mmodel_type\u001b[0m\u001b[0;34m]\u001b[0m\u001b[0;34m\u001b[0m\u001b[0;34m\u001b[0m\u001b[0m\n\u001b[0;32m--> 140\u001b[0;31m     \u001b[0mself\u001b[0m\u001b[0;34m.\u001b[0m\u001b[0mset_model\u001b[0m\u001b[0;34m(\u001b[0m\u001b[0mmodel_type\u001b[0m\u001b[0;34m,\u001b[0m \u001b[0mhyper_parameters\u001b[0m\u001b[0;34m)\u001b[0m\u001b[0;34m\u001b[0m\u001b[0;34m\u001b[0m\u001b[0m\n\u001b[0m\u001b[1;32m    141\u001b[0m \u001b[0;34m\u001b[0m\u001b[0m\n\u001b[1;32m    142\u001b[0m   \u001b[0;32mdef\u001b[0m \u001b[0mreturn_best_model\u001b[0m\u001b[0;34m(\u001b[0m\u001b[0mself\u001b[0m\u001b[0;34m)\u001b[0m\u001b[0;34m:\u001b[0m\u001b[0;34m\u001b[0m\u001b[0;34m\u001b[0m\u001b[0m\n",
      "\u001b[0;32m~/projects/surrogate_modeling/src/train_surrogate_models.py\u001b[0m in \u001b[0;36mset_model\u001b[0;34m(self, model_type, hyper_parameters)\u001b[0m\n\u001b[1;32m    190\u001b[0m         \u001b[0mfit\u001b[0m \u001b[0;34m=\u001b[0m \u001b[0mhyper_model\u001b[0m\u001b[0;34m.\u001b[0m\u001b[0mfit\u001b[0m\u001b[0;34m(\u001b[0m\u001b[0mself\u001b[0m\u001b[0;34m.\u001b[0m\u001b[0mscaled_var_train\u001b[0m\u001b[0;34m,\u001b[0m\u001b[0mself\u001b[0m\u001b[0;34m.\u001b[0m\u001b[0mscaled_obj_train\u001b[0m\u001b[0;34m)\u001b[0m\u001b[0;34m\u001b[0m\u001b[0;34m\u001b[0m\u001b[0m\n\u001b[1;32m    191\u001b[0m         \u001b[0mr2_score\u001b[0m \u001b[0;34m=\u001b[0m \u001b[0mhyper_model\u001b[0m\u001b[0;34m.\u001b[0m\u001b[0mscore\u001b[0m\u001b[0;34m(\u001b[0m\u001b[0mself\u001b[0m\u001b[0;34m.\u001b[0m\u001b[0mscaled_var_test\u001b[0m\u001b[0;34m,\u001b[0m\u001b[0mself\u001b[0m\u001b[0;34m.\u001b[0m\u001b[0mscaled_obj_test\u001b[0m\u001b[0;34m)\u001b[0m\u001b[0;34m\u001b[0m\u001b[0;34m\u001b[0m\u001b[0m\n\u001b[0;32m--> 192\u001b[0;31m         \u001b[0mmax_error\u001b[0m \u001b[0;34m=\u001b[0m \u001b[0mself\u001b[0m\u001b[0;34m.\u001b[0m\u001b[0m_get_max_error\u001b[0m\u001b[0;34m(\u001b[0m\u001b[0mhyper_model\u001b[0m\u001b[0;34m)\u001b[0m\u001b[0;34m\u001b[0m\u001b[0;34m\u001b[0m\u001b[0m\n\u001b[0m\u001b[1;32m    193\u001b[0m         \u001b[0mmse_score\u001b[0m \u001b[0;34m=\u001b[0m \u001b[0mself\u001b[0m\u001b[0;34m.\u001b[0m\u001b[0m_get_mse\u001b[0m\u001b[0;34m(\u001b[0m\u001b[0mhyper_model\u001b[0m\u001b[0;34m)\u001b[0m\u001b[0;34m\u001b[0m\u001b[0;34m\u001b[0m\u001b[0m\n\u001b[1;32m    194\u001b[0m         self.models[model_type].update({'model': hyper_model, \n",
      "\u001b[0;32m~/projects/surrogate_modeling/src/train_surrogate_models.py\u001b[0m in \u001b[0;36m_get_max_error\u001b[0;34m(self, model)\u001b[0m\n\u001b[1;32m     98\u001b[0m     \u001b[0mpredict\u001b[0m \u001b[0;34m=\u001b[0m \u001b[0;34m[\u001b[0m\u001b[0mmodel\u001b[0m\u001b[0;34m.\u001b[0m\u001b[0mpredict\u001b[0m\u001b[0;34m(\u001b[0m\u001b[0;34m[\u001b[0m\u001b[0mval\u001b[0m\u001b[0;34m]\u001b[0m\u001b[0;34m)\u001b[0m\u001b[0;34m[\u001b[0m\u001b[0;36m0\u001b[0m\u001b[0;34m]\u001b[0m \u001b[0;32mfor\u001b[0m \u001b[0mval\u001b[0m \u001b[0;32min\u001b[0m \u001b[0mself\u001b[0m\u001b[0;34m.\u001b[0m\u001b[0mscaled_var_test\u001b[0m\u001b[0;34m]\u001b[0m\u001b[0;34m\u001b[0m\u001b[0;34m\u001b[0m\u001b[0m\n\u001b[1;32m     99\u001b[0m     \u001b[0mknown\u001b[0m \u001b[0;34m=\u001b[0m \u001b[0mself\u001b[0m\u001b[0;34m.\u001b[0m\u001b[0mscaled_obj_test\u001b[0m\u001b[0;34m\u001b[0m\u001b[0;34m\u001b[0m\u001b[0m\n\u001b[0;32m--> 100\u001b[0;31m     \u001b[0;32mreturn\u001b[0m \u001b[0mmax_error\u001b[0m\u001b[0;34m(\u001b[0m\u001b[0mknown\u001b[0m\u001b[0;34m,\u001b[0m \u001b[0mpredict\u001b[0m\u001b[0;34m)\u001b[0m\u001b[0;34m\u001b[0m\u001b[0;34m\u001b[0m\u001b[0m\n\u001b[0m\u001b[1;32m    101\u001b[0m \u001b[0;34m\u001b[0m\u001b[0m\n\u001b[1;32m    102\u001b[0m \u001b[0;34m\u001b[0m\u001b[0m\n",
      "\u001b[0;32m~/Library/Python/3.7/lib/python/site-packages/sklearn/metrics/_regression.py\u001b[0m in \u001b[0;36mmax_error\u001b[0;34m(y_true, y_pred)\u001b[0m\n\u001b[1;32m    653\u001b[0m     \u001b[0my_type\u001b[0m\u001b[0;34m,\u001b[0m \u001b[0my_true\u001b[0m\u001b[0;34m,\u001b[0m \u001b[0my_pred\u001b[0m\u001b[0;34m,\u001b[0m \u001b[0m_\u001b[0m \u001b[0;34m=\u001b[0m \u001b[0m_check_reg_targets\u001b[0m\u001b[0;34m(\u001b[0m\u001b[0my_true\u001b[0m\u001b[0;34m,\u001b[0m \u001b[0my_pred\u001b[0m\u001b[0;34m,\u001b[0m \u001b[0;32mNone\u001b[0m\u001b[0;34m)\u001b[0m\u001b[0;34m\u001b[0m\u001b[0;34m\u001b[0m\u001b[0m\n\u001b[1;32m    654\u001b[0m     \u001b[0;32mif\u001b[0m \u001b[0my_type\u001b[0m \u001b[0;34m==\u001b[0m \u001b[0;34m'continuous-multioutput'\u001b[0m\u001b[0;34m:\u001b[0m\u001b[0;34m\u001b[0m\u001b[0;34m\u001b[0m\u001b[0m\n\u001b[0;32m--> 655\u001b[0;31m         \u001b[0;32mraise\u001b[0m \u001b[0mValueError\u001b[0m\u001b[0;34m(\u001b[0m\u001b[0;34m\"Multioutput not supported in max_error\"\u001b[0m\u001b[0;34m)\u001b[0m\u001b[0;34m\u001b[0m\u001b[0;34m\u001b[0m\u001b[0m\n\u001b[0m\u001b[1;32m    656\u001b[0m     \u001b[0;32mreturn\u001b[0m \u001b[0mnp\u001b[0m\u001b[0;34m.\u001b[0m\u001b[0mmax\u001b[0m\u001b[0;34m(\u001b[0m\u001b[0mnp\u001b[0m\u001b[0;34m.\u001b[0m\u001b[0mabs\u001b[0m\u001b[0;34m(\u001b[0m\u001b[0my_true\u001b[0m \u001b[0;34m-\u001b[0m \u001b[0my_pred\u001b[0m\u001b[0;34m)\u001b[0m\u001b[0;34m)\u001b[0m\u001b[0;34m\u001b[0m\u001b[0;34m\u001b[0m\u001b[0m\n\u001b[1;32m    657\u001b[0m \u001b[0;34m\u001b[0m\u001b[0m\n",
      "\u001b[0;31mValueError\u001b[0m: Multioutput not supported in max_error"
     ]
    }
   ],
   "source": [
    "ind_obj = [(ind,obj)]#,(ind3,obj3),(ind,obj),(ind1,obj1),(ind4,obj4),(ind5,obj5)]\n",
    "\n",
    "for inde,objc in ind_obj:\n",
    "    sm = tm.Surrogate_Models()\n",
    "    model = 'pr'\n",
    "    sm.random = 0\n",
    "    sm.update_database(inde, objc)\n",
    "    sm.optimize_model(model)\n",
    "    print('R2 Score: {}'.format(sm.models[model]['score']))\n",
    "    print('MSE Score: {}'.format(sm.models[model]['mse_score']))\n",
    "    print('Max Error: {}'.format(sm.models[model]['max_error']))\n",
    "    print('Predicted: {}'.format(sm.predict(model, [[61.37,51.58,0.7340]])))\n",
    "    print('Predicted: {}'.format(sm.predict(model, [[59.72,50.01,0.8694]])))\n",
    "    print('Predicted: {}'.format(sm.predict(model, [[71.06,55.77,0.3536]])))\n",
    "    print('\\n')\n",
    "#print('CV Results: {}'.format(sm.models[model]['cv_results']))"
   ]
  },
  {
   "cell_type": "code",
   "execution_count": 16,
   "metadata": {},
   "outputs": [
    {
     "name": "stdout",
     "output_type": "stream",
     "text": [
      "Predicted: [[-2.07370742e+01 -3.26741136e+02 -2.28597409e+00  7.79351364e+02\n",
      "  -1.15467566e+02 -7.26898230e-01]]\n",
      "Predicted: [[-2.00536853e+01 -4.97142401e+02 -2.90019526e+00  8.73936535e+02\n",
      "  -1.12556496e+02 -7.45237719e-01]]\n",
      "Predicted: [[ 5.07838663e+01  1.36500348e+03  8.43246359e+00  4.65483905e+02\n",
      "  -1.16589224e+02 -6.27947046e-01]]\n"
     ]
    }
   ],
   "source": [
    "print('Predicted: {}'.format(sm.predict(model, [[61.37,51.58,0.7340]])))\n",
    "print('Predicted: {}'.format(sm.predict(model, [[59.72,50.01,0.8694]])))\n",
    "print('Predicted: {}'.format(sm.predict(model, [[71.06,55.77,0.3536]])))"
   ]
  },
  {
   "cell_type": "code",
   "execution_count": 17,
   "metadata": {},
   "outputs": [],
   "source": [
    "sm2 = {}\n",
    "design_var, objective_func = np.asarray(ind), np.asarray(obj)\n",
    "for num, objective in enumerate(['keff', 'void', 'doppler']):\n",
    "    sm2[objective] = scipy.interpolate.LinearNDInterpolator(design_var, objective_func[:,num]) "
   ]
  },
  {
   "cell_type": "code",
   "execution_count": 18,
   "metadata": {},
   "outputs": [
    {
     "name": "stdout",
     "output_type": "stream",
     "text": [
      "[0.9992587833657331, -116.3956786137983, -0.7162576521744397]\n",
      "[0.9986864120000001, -111.95413008061794, -0.7529935737270184]\n",
      "[1.0063239933333332, -119.45645329200596, -0.6373027564232986]\n"
     ]
    }
   ],
   "source": [
    "x_list = [[61.37,51.58,0.7340],[59.72,50.01,0.8694],[71.06,55.77,0.3536]]\n",
    "for design in x_list:\n",
    "    x = []\n",
    "    for interpolator in sm2.values():\n",
    "        x.append(float(interpolator(tuple(design))))\n",
    "    print(x)"
   ]
  },
  {
   "cell_type": "code",
   "execution_count": 3,
   "metadata": {},
   "outputs": [
    {
     "name": "stdout",
     "output_type": "stream",
     "text": [
      "Broadcast server running on 0.0.0.0:9091\n",
      "NS running on 127.0.0.1:16801 (127.0.0.1)\n",
      "URI = PYRO:Pyro.NameServer@127.0.0.1:16801\n",
      "INFO [2020-04-14 18:34:09.242815] (bb): Connected agent ka_rp of agent type rp\n",
      "INFO [2020-04-14 18:34:09.281582] (bb): Connected agent ka_br of agent type br\n",
      "NS shut down.\n"
     ]
    }
   ],
   "source": [
    "ns = run_nameserver()\n",
    "bb = run_agent(name='bb', base=bb_basic.BbTraditional)\n",
    "\n",
    "bb.connect_agent('rp', 'ka_rp')\n",
    "bb.connect_agent('br', 'ka_br')\n",
    "\n",
    "bb.add_abstract_lvl(1, {'valid': bool})\n",
    "bb.add_abstract_lvl(2, {'reactor parameters': {'height': float, 'smear': float, 'pu_content': float, 'keff': float, 'void_coeff': float, 'doppler_coeff': float}})\n",
    "#bb.load_h5()"
   ]
  },
  {
   "cell_type": "code",
   "execution_count": null,
   "metadata": {},
   "outputs": [],
   "source": []
  },
  {
   "cell_type": "code",
   "execution_count": null,
   "metadata": {},
   "outputs": [],
   "source": [
    "while not bb.get_attr('_complete'):\n",
    "    bb.publish_trigger()\n",
    "    bb.controller()\n",
    "    bb.send_executor()\n",
    "    bb.wait_for_ka()\n",
    "    print('Finished trigger event: {}'.format(bb.get_attr('_trigger_event')))\n",
    "\n",
    "print(bb.get_attr('abstract_lvls')['level 1'])"
   ]
  },
  {
   "cell_type": "code",
   "execution_count": null,
   "metadata": {},
   "outputs": [],
   "source": [
    "h5 = h5py.File('bb_archive.h5', 'r')\n",
    "for k,v in h5['level 2']['core_[67.38, 57.01, 0.42]']['reactor parameters'].items():\n",
    "    print(k,v[0])\n",
    "h5.close()"
   ]
  }
 ],
 "metadata": {
  "kernelspec": {
   "display_name": "Python 3",
   "language": "python",
   "name": "python3"
  },
  "language_info": {
   "codemirror_mode": {
    "name": "ipython",
    "version": 3
   },
   "file_extension": ".py",
   "mimetype": "text/x-python",
   "name": "python",
   "nbconvert_exporter": "python",
   "pygments_lexer": "ipython3",
   "version": "3.7.3"
  }
 },
 "nbformat": 4,
 "nbformat_minor": 4
}
