{
 "cells": [
  {
   "cell_type": "code",
   "execution_count": 1,
   "metadata": {},
   "outputs": [],
   "source": [
    "import osbrain\n",
    "from osbrain import run_nameserver\n",
    "from osbrain import run_agent\n",
    "from osbrain import logging\n",
    "import numpy as np\n",
    "import blackboard\n",
    "import ka\n",
    "import ka_rp as karp\n",
    "import ka_br as kabr\n",
    "import database_generator as dg\n",
    "import bb_basic\n",
    "import time\n",
    "import h5py"
   ]
  },
  {
   "cell_type": "code",
   "execution_count": 3,
   "metadata": {},
   "outputs": [
    {
     "name": "stdout",
     "output_type": "stream",
     "text": [
      "Warning: Core FS50_H50_15Pu12U10Zr does not have a burnup core. No assemblies are present\n",
      "Warning: Core FS50_H50_20Pu7U10Zr does not have a burnup core. No assemblies are present\n",
      "Warning: Core FS50_H50_27Pu0U10Zr does not have a burnup core. No assemblies are present\n",
      "Warning: Core FS50_H50_27U10Zr does not have a burnup core. No assemblies are present\n",
      "Warning: Core FS50_H50_7Pu20U10Zr does not have a burnup core. No assemblies are present\n",
      "Warning: Core FS50_H60_15Pu12U10Zr does not have a burnup core. No assemblies are present\n",
      "Warning: Core FS50_H60_20Pu7U10Zr does not have a burnup core. No assemblies are present\n",
      "Warning: Core FS50_H60_27Pu0U10Zr does not have a burnup core. No assemblies are present\n",
      "Warning: Core FS50_H60_27U10Zr does not have a burnup core. No assemblies are present\n",
      "Warning: Core FS50_H60_7Pu20U10Zr does not have a burnup core. No assemblies are present\n",
      "Warning: Core FS50_H70_15Pu12U10Zr does not have a burnup core. No assemblies are present\n",
      "Warning: Core FS50_H70_20Pu7U10Zr does not have a burnup core. No assemblies are present\n",
      "Warning: Core FS50_H70_27Pu0U10Zr does not have a burnup core. No assemblies are present\n",
      "Warning: Core FS50_H70_27U10Zr does not have a burnup core. No assemblies are present\n",
      "Warning: Core FS50_H70_7Pu20U10Zr does not have a burnup core. No assemblies are present\n",
      "Warning: Core FS50_H80_15Pu12U10Zr does not have a burnup core. No assemblies are present\n",
      "Warning: Core FS50_H80_20Pu7U10Zr does not have a burnup core. No assemblies are present\n",
      "Warning: Core FS50_H80_27Pu0U10Zr does not have a burnup core. No assemblies are present\n",
      "Warning: Core FS50_H80_27U10Zr does not have a burnup core. No assemblies are present\n",
      "Warning: Core FS50_H80_7Pu20U10Zr does not have a burnup core. No assemblies are present\n",
      "Warning: Core FS55_H55_23Pu4U10Zr does not have a base core.\n",
      "Warning: Core FS55_H55_23Pu4U10Zr does not have a voided core.\n",
      "Warning: Core FS55_H55_23Pu4U10Zr does not have a 600K core.\n",
      "Warning: Core FS55_H65_11Pu16U10Zr does not have a base core.\n",
      "Warning: Core FS55_H65_11Pu16U10Zr does not have a voided core.\n",
      "Warning: Core FS55_H65_11Pu16U10Zr does not have a 600K core.\n",
      "Warning: Core FS55_H65_23Pu4U10Zr does not have a base core.\n",
      "Warning: Core FS55_H65_23Pu4U10Zr does not have a voided core.\n",
      "Warning: Core FS55_H65_23Pu4U10Zr does not have a 600K core.\n",
      "Warning: Core FS55_H65_3Pu24U10Zr does not have a base core.\n",
      "Warning: Core FS55_H65_3Pu24U10Zr does not have a voided core.\n",
      "Warning: Core FS55_H65_3Pu24U10Zr does not have a 600K core.\n",
      "[[None], [None], [None], [None], [None], [None], [None], [None], [None], [None], [None], [None], [None], [None], [None], [None], [None], [None], [None], [None], [array(-197.29987294)], [None], [array(-407.51905752)], [array(-51.26995646)], [array(240.31755915)], [array(-291.10751819)], [array(100.78903654)], [array(415.83742116)], [array(-161.26373626)], [array(-58.87986071)], [array(45.70957096)], [array(167.43192739)], [array(-642.17939214)], [array(-256.73139159)], [array(123.76203576)], [array(243.30916282)], [array(378.08302808)], [array(-517.48747913)], [array(-99.80916031)], [array(315.01930502)], [array(442.57246377)], [array(590.86538462)], [array(-408.36538462)], [array(69.06052394)], [array(514.59265891)], [array(660.18596788)], [array(816.95379796)], [array(-284.77564103)], [array(246.71968191)], [None], [None], [None], [array(271.39917695)], [array(594.42090395)], [array(-2.19885277)], [array(481.73598553)], [array(858.75518672)], [array(193.48739496)], [array(189.80352304)], [array(306.68272125)], [array(445.08002371)], [array(-457.1369637)], [array(-33.64312268)], [array(439.77709454)], [array(578.37537092)], [array(720.0270636)], [array(-297.86407767)], [array(193.0887372)], [array(691.35695765)], [array(845.67747298)], [array(1014.296875)], [array(-121.09289617)], [array(429.15437561)], [array(956.12745098)], [array(1086.79498657)], [array(1313.80070547)], [array(55.68031704)], [array(661.86348862)]]\n"
     ]
    }
   ],
   "source": [
    "ind, obj = dg.get_data(['height', 'smear', 'pu_content'], ['cycle length'])\n",
    "print(obj)"
   ]
  },
  {
   "cell_type": "code",
   "execution_count": 3,
   "metadata": {},
   "outputs": [
    {
     "name": "stdout",
     "output_type": "stream",
     "text": [
      "Broadcast server running on 0.0.0.0:9091\n",
      "NS running on 127.0.0.1:16801 (127.0.0.1)\n",
      "URI = PYRO:Pyro.NameServer@127.0.0.1:16801\n",
      "INFO [2020-04-14 18:34:09.242815] (bb): Connected agent ka_rp of agent type rp\n",
      "INFO [2020-04-14 18:34:09.281582] (bb): Connected agent ka_br of agent type br\n",
      "NS shut down.\n"
     ]
    }
   ],
   "source": [
    "ns = run_nameserver()\n",
    "bb = run_agent(name='bb', base=bb_basic.BbTraditional)\n",
    "\n",
    "bb.connect_agent('rp', 'ka_rp')\n",
    "bb.connect_agent('br', 'ka_br')\n",
    "\n",
    "bb.add_abstract_lvl(1, {'valid': bool})\n",
    "bb.add_abstract_lvl(2, {'reactor parameters': {'height': float, 'smear': float, 'pu_content': float, 'keff': float, 'void_coeff': float, 'doppler_coeff': float}})\n",
    "#bb.load_h5()"
   ]
  },
  {
   "cell_type": "code",
   "execution_count": null,
   "metadata": {},
   "outputs": [],
   "source": [
    "while not bb.get_attr('_complete'):\n",
    "    bb.publish_trigger()\n",
    "    bb.controller()\n",
    "    bb.send_executor()\n",
    "    bb.wait_for_ka()\n",
    "    print('Finished trigger event: {}'.format(bb.get_attr('_trigger_event')))\n",
    "\n",
    "print(bb.get_attr('abstract_lvls')['level 1'])"
   ]
  },
  {
   "cell_type": "code",
   "execution_count": null,
   "metadata": {},
   "outputs": [],
   "source": [
    "h5 = h5py.File('bb_archive.h5', 'r')\n",
    "for k,v in h5['level 2']['core_[67.38, 57.01, 0.42]']['reactor parameters'].items():\n",
    "    print(k,v[0])\n",
    "h5.close()"
   ]
  }
 ],
 "metadata": {
  "kernelspec": {
   "display_name": "Python 3",
   "language": "python",
   "name": "python3"
  },
  "language_info": {
   "codemirror_mode": {
    "name": "ipython",
    "version": 3
   },
   "file_extension": ".py",
   "mimetype": "text/x-python",
   "name": "python",
   "nbconvert_exporter": "python",
   "pygments_lexer": "ipython3",
   "version": "3.7.3"
  }
 },
 "nbformat": 4,
 "nbformat_minor": 4
}
