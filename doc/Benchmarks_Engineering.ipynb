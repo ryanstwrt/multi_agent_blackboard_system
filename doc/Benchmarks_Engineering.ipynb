{
 "cells": [
  {
   "cell_type": "code",
   "execution_count": null,
   "metadata": {},
   "outputs": [],
   "source": [
    "import src.controller as controller\n",
    "import src.bb.blackboard_optimization as bb_opt\n",
    "from src.ka.ka_s.pymoo_plugin import PyMooAlgorithm\n",
    "from src.ka.ka_brs.level3 import KaBrLevel3\n",
    "from src.ka.ka_brs.level2 import KaBrLevel2\n",
    "from src.ka.ka_brs.level1 import KaBrLevel1\n",
    "from src.ka.ka_s.stochastic import Stochastic\n",
    "from src.ka.ka_s.latin_hypercube import LatinHypercube\n",
    "from src.ka.ka_s.neighborhood_search import NeighborhoodSearch\n",
    "from src.ka.ka_s.hill_climb import HillClimb\n",
    "from src.ka.ka_s.genetic_algorithm import GeneticAlgorithm\n",
    "from src.utils.problem import BenchmarkProblem\n",
    "\n",
    "import shutil\n",
    "import time\n",
    "import plotly.graph_objects as go\n",
    "from osbrain import run_nameserver\n",
    "from osbrain import run_agent\n",
    "import plotly.express as px\n",
    "import os\n",
    "import numpy as np\n",
    "import Pyro4\n",
    "Pyro4.config.THREADPOOL_SIZE = 300\n",
    "import numpy.random as random\n",
    "import copy"
   ]
  },
  {
   "cell_type": "code",
   "execution_count": null,
   "metadata": {},
   "outputs": [],
   "source": [
    "def BenchmarkController(bb, kas, problem, num, rand=None):\n",
    "\n",
    "    bb_controller = controller.Controller()\n",
    "    bb_controller.initialize_blackboard(blackboard=bb,\n",
    "                                  ka=kas, \n",
    "                                  agent_wait_time=10,\n",
    "                                  plot_progress=False,\n",
    "                                  random_seed=rand,\n",
    "                                  problem=problem,\n",
    "                                       ) \n",
    "    \n",
    "    bb = bb_controller.bb_opt\n",
    "    server = bb.get_attr('_proxy_server')\n",
    "    for agent in kas.keys():\n",
    "        agent_ = server.proxy(agent)\n",
    "        agent_.set_attr(_design_accuracy=18)\n",
    "        agent_.set_attr(_objective_accuracy=18)\n",
    "        agent_.set_attr(debug_wait=True)\n",
    "        agent_.set_attr(debug_wait_time=10)\n",
    "        if 'pymoo' in agent:\n",
    "            agent_.set_attr(debug_wait=True)            \n",
    "            #agent_.set_attr(debug_wait_time=0.25)\n",
    "   \n",
    "    bb_controller.run_multi_agent_bb('bb_opt')    \n",
    "    print(bb.get_blackboard()['level 100']['final'])\n",
    "    print()\n",
    "    time.sleep(30.0)\n",
    "    bb_controller.shutdown()\n",
    "    time.sleep(0.05)\n",
    "    return bb\n",
    "\n",
    "def run_algorithm(dv, obj, const, model):\n",
    "    problem = BenchmarkProblem(design_variables=dvs,\n",
    "                         objectives=objs,\n",
    "                         constraints=const,\n",
    "                         benchmark_name = model) \n",
    "    dvi_ = {obj_name: 2.5 for obj_name, obj_dict in obj.items()}\n",
    "\n",
    "\n",
    "    bb = {'name': 'bb_opt', 'type': bb_opt.BbOpt, 'attr': {'archive_name': '{}.h5'.format(model), \n",
    "                                                       'convergence_interval': 25,\n",
    "                                                       'convergence_type': 'function evals',\n",
    "                                                       'function_evals': 5_000,\n",
    "                                                       'pf_size': 500,\n",
    "                                                       'meta_data_to_log': ['function evals', 'hvi', 'gd', 'igd']}}\n",
    "#    bb = {'name': 'bb_opt', 'type': bb_opt.BbOpt, 'attr': {'archive_name': '{}.h5'.format(model), \n",
    "#                                                       'convergence_interval': 25,\n",
    "#                                                       'convergence_type': 'trigger evals',\n",
    "#                                                       'total_tvs': 1_500,\n",
    "#                                                       'pf_size': 500,\n",
    "#                                                       'meta_data_to_log': ['function evals', 'hvi', 'gd', 'igd']}}\n",
    "\n",
    "    kas = {'ka_rp_explore': {'type': Stochastic, 'attr' : {}}, \n",
    "       'ka_rp_lhc': {'type': LatinHypercube, 'attr' : {'samples': len(dvs)*100,'debug_wait':False, 'execute_once': True}},\n",
    "       'ka_rp_lhc2': {'type': LatinHypercube, 'attr' : {'samples': len(dvs)*100,'debug_wait':False, 'lhc_criterion': 'simple', 'execute_once': True}},\n",
    "       'ka_rp_hc1': {'type': HillClimb, 'attr' : {'step_size':0.01,'step_limit':50, 'reanalyze_designs': True}},\n",
    "       'ka_rp_hc2': {'type': HillClimb, 'attr' : {'hc_type':'steepest ascent','step_limit':100}},\n",
    "       'ka_rp_pert1': {'type': NeighborhoodSearch, 'attr' : {'perturbation_size':0.01, 'neighboorhood_search':'random','reanalyze_designs': True}},\n",
    "       'ka_rp_pert4': {'type': NeighborhoodSearch, 'attr' : {'perturbation_size':0.01, 'neighboorhood_search':'random','reanalyze_designs': True}},\n",
    "       'ka_rp_pert5': {'type': NeighborhoodSearch, 'attr' : {'perturbation_size':0.01, 'neighboorhood_search':'random','reanalyze_designs': True}},\n",
    "       'ka_rp_pert6': {'type': NeighborhoodSearch, 'attr' : {'perturbation_size':0.01, 'neighboorhood_search':'random','reanalyze_designs': True}},\n",
    "       'ka_rp_pert2': {'type': NeighborhoodSearch, 'attr' : {'perturbation_size':0.005}},\n",
    "       'ka_rp_pert3': {'type': NeighborhoodSearch, 'attr' : {'perturbation_size':0.005, 'neighboorhood_search':'random','reanalyze_designs': True}},\n",
    "       'ka_rp_pymoo2': {'type': PyMooAlgorithm, 'attr' : {'pymoo_algorithm_name': 'nsga2', 'pop_size': 50, 'n_offspring': 50, 'termination_criteria':2500, 'execute_once': True}},\n",
    "       'ka_br_lvl3': {'type': KaBrLevel3, 'attr' : {}},\n",
    "       'ka_br_lvl2': {'type': KaBrLevel2, 'attr' : {}},\n",
    "       'ka_br_lvl1': {'type': KaBrLevel1, 'attr' : {}}}#'total_pf_size':500, 'pareto_sorter':'dci', 'dci_div':dvi_}}}\n",
    "\n",
    "\n",
    "    for num in range(10,20):\n",
    "        BenchmarkController(bb, kas, problem, num, rand=None)\n",
    "        directory = model\n",
    "        if not os.path.isdir('benchmarks/{}'.format(directory)):\n",
    "            os.mkdir('benchmarks/{}'.format(directory))\n",
    "        shutil.move('{}.h5'.format(model, num), 'benchmarks/{}/{}_{}.h5'.format(directory,model,num))\n",
    "        time.sleep(5) "
   ]
  },
  {
   "cell_type": "markdown",
   "metadata": {},
   "source": [
    "# Parallelization Study"
   ]
  },
  {
   "cell_type": "code",
   "execution_count": null,
   "metadata": {},
   "outputs": [],
   "source": [
    "def BenchmarkController(bb, kas, problem, num, base_time, rand=None):\n",
    "\n",
    "    bb_controller = controller.Controller()\n",
    "    bb_controller.initialize_blackboard(blackboard=bb,\n",
    "                                  ka=kas, \n",
    "                                  agent_wait_time=300,\n",
    "                                  plot_progress=False,\n",
    "                                  random_seed=rand,\n",
    "                                  problem=problem,\n",
    "                                       ) \n",
    "    \n",
    "    bb = bb_controller.bb_opt\n",
    "    server = bb.get_attr('_proxy_server')\n",
    "    for agent in kas.keys():\n",
    "        agent_ = server.proxy(agent)\n",
    "        agent_.set_attr(_design_accuracy=18)\n",
    "        agent_.set_attr(_objective_accuracy=18)\n",
    "        agent_.set_attr(debug_wait=True)\n",
    "        agent_.set_attr(debug_wait_time=base_time)        \n",
    "        if 'pymoo' in agent:\n",
    "            agent_.set_attr(debug_wait_time=base_time/agent_.get_attr('pop_size'))\n",
    "#        elif 'lhc' in agent:\n",
    "#            agent_.set_attr(debug_wait_time=base_time/agent_.get_attr('samples'))   \n",
    "#        elif 'ga' in agent:\n",
    "#            agent_.set_attr(debug_wait_time=base_time/agent_.get_attr('offspring_per_generation'))      \n",
    "#        elif 'ns' in agent:\n",
    "#            agent_.set_attr(debug_wait_time=base_time/(len(agent_.get_attr('_design_variables'))*2)                  )\n",
    "        else:\n",
    "            agent_.set_attr(debug_wait_time=base_time)\n",
    "                    \n",
    "   \n",
    "    bb_controller.run_multi_agent_bb('bb_opt')    \n",
    "    #bb_controller.run_single_agent_bb('bb_opt')    \n",
    "    data_meta = bb.get_blackboard()['level 100']['final']\n",
    "    time.sleep(30.0)\n",
    "    bb_controller.shutdown()\n",
    "    time.sleep(0.05)\n",
    "    return data_meta\n",
    "\n",
    "def run_parallel_algorithm(dv, obj, const, model, num_agent_list, base_time):\n",
    "    problem = BenchmarkProblem(design_variables=dvs,\n",
    "                         objectives=objs,\n",
    "                         constraints=const,\n",
    "                         benchmark_name = model) \n",
    "    dvi_ = {obj_name: 2.5 for obj_name, obj_dict in obj.items()}\n",
    "\n",
    "\n",
    "    bb = {'name': 'bb_opt', 'type': bb_opt.BbOpt, 'attr': {'archive_name': '{}_{}A_{}s.h5'.format(model,len(num_agent_list),base_time), \n",
    "                                                       'convergence_interval': 10,\n",
    "                                                       'convergence_type': 'function evals',\n",
    "                                                       'function_evals': 5_000,\n",
    "                                                       'pf_size': 500,\n",
    "                                                       'skipped_tvs': 10,\n",
    "                                                       'meta_data_to_log': ['function evals', 'hvi', 'gd', 'igd'],\n",
    "                                                       'write_h5': False}}\n",
    "\n",
    "    stochastic_base = {'type': Stochastic, 'attr' : {}}\n",
    "    stochastic_options = {}\n",
    "    lhc_base = {'type': LatinHypercube, 'attr' : {'samples': len(dvs)*100, 'lhc_criterion': 'simple', 'execute_once': False}}\n",
    "    lhc_options ={'lhc_criterion': ['simple', 'corr']}\n",
    "    hc_base = {'type': HillClimb, 'attr' : {'hc_type': 'simple', 'converge criteria': 0.001, 'step_size':0.1, 'step_rate': 0.1, 'step_limit':100, 'reanalyze_designs': True}}\n",
    "    hc_options = {'hc_type': ['simple', 'steepest ascent'], 'converge criteria': (0.0001,0.1), 'step_size': (0.01,0.5), 'step_rate': (0.01,0.5), 'step_limit':(5,10), 'reanalyze_designs': [True,False]}\n",
    "    ns_base = {'type': NeighborhoodSearch, 'attr' : {'perturbation_size':0.05, 'neighboorhood_search':'fixed','reanalyze_designs': True}}\n",
    "    ns_options = {'perturbation_size':(0.005,0.5), 'neighboorhood_search': ['fixed', 'random'], 'reanalyze_designs': [True,False]}\n",
    "    ga_base = {'type': GeneticAlgorithm, 'attr': {'offspring_per_generation':20, 'mutation_rate':0.1, 'perturbation_size':0.05,\n",
    "                                                  'crossover_type': 'single point', 'mutation_type':'random', 'k':5, 'T':100, 'reanalyze_designs': True}}\n",
    "    ga_options = {'crossover_type': ['linear crossover', 'single point'], 'mutation_type': ['random','non-uniform'], 'offspring_per_generation': (10,100),\n",
    "                  'mutation_rate':(0.05, 0.25), 'k': (1,10), 'T':(50,150), 'reanalyze_designs': [True,False]}\n",
    "    pymoo_base = {'type': PyMooAlgorithm, 'attr' : {'pymoo_algorithm_name': 'nsga2', 'pop_size': 50, 'n_offspring': 50, 'termination_criteria':2500, 'execute_once': True}}\n",
    "    pymoo_options = {'pop_size': (25,150)}\n",
    "    \n",
    "    ka_options = {'mc': {'base': stochastic_base, 'options': stochastic_options},\n",
    "                  'lhc': {'base': lhc_base, 'options': lhc_options},\n",
    "                  'h-c': {'base': hc_base, 'options': hc_options},\n",
    "                  'ns': {'base': ns_base, 'options': ns_options},\n",
    "                  'ga': {'base': ga_base, 'options': ga_options},\n",
    "                  'pymoo': {'base': pymoo_base, 'options': pymoo_options},}\n",
    "                  \n",
    "    kas = {'ka_br_lvl3': {'type': KaBrLevel3, 'attr' : {}},\n",
    "           'ka_br_lvl2': {'type': KaBrLevel2, 'attr' : {}},\n",
    "           'ka_br_lvl1': {'type': KaBrLevel1, 'attr' : {}}}\n",
    "    \n",
    "    random.seed(101)\n",
    "    pop_size = 20\n",
    "    for num_agents in num_agent_list:\n",
    "        for ka, num_agent in num_agents.items():\n",
    "            old_kas = copy.copy(kas)\n",
    "            for num in range(num_agent):\n",
    "                prev_num = num + sum([1 if ka in x else 0 for x in old_kas.keys()])\n",
    "                ka_name = 'ka_s_{}_{}'.format(ka, prev_num)\n",
    "                kas[ka_name] = copy.deepcopy(ka_options[ka]['base'])\n",
    "                for opt, val in ka_options[ka]['options'].items():\n",
    "                    if 'pymoo' in ka:\n",
    "                        kas[ka_name]['attr'] = {'pop_size': pop_size, 'n_offspring': random.randint(low=pop_size/2,high=pop_size), 'termination_criteria': 1000, 'execute_once': random.choice([True, False])}\n",
    "                        pop_size += 20\n",
    "                    elif type(val) == list:\n",
    "                        kas[ka_name]['attr'][opt] = random.choice(val)\n",
    "                    else:\n",
    "                        kas[ka_name]['attr'][opt] = random.uniform(low=val[0],high=val[1])\n",
    "\n",
    "                    \n",
    "#    for ka, ka_dict in kas.items():\n",
    "#        print(ka, ka_dict)\n",
    "#        print('')\n",
    "    bb_list = []\n",
    "    for num in range(0,10):\n",
    "        time1 = time.time()\n",
    "        meta_data = BenchmarkController(bb, kas, problem, num, base_time, rand=None)\n",
    "        bb_list.append(meta_data)\n",
    "#        print('*********************************')   \n",
    "#        print(time.time()-time1)\n",
    "#        directory = model\n",
    "#        if not os.path.isdir('benchmarks/parallel/{}'.format(directory)):\n",
    "#            os.mkdir('benchmarks/parallel/{}'.format(directory))\n",
    "#        shutil.move('{}.h5'.format(model, num), 'benchmarks/parallel/{}/{}_{}.h5'.format(directory,model,num))\n",
    "        time.sleep(5) \n",
    "    return bb_list"
   ]
  },
  {
   "cell_type": "code",
   "execution_count": null,
   "metadata": {
    "scrolled": true
   },
   "outputs": [],
   "source": [
    "model = 're32'\n",
    "base_time = 3\n",
    "\n",
    "objs = {'f0': {'ll':0.0,      'ul':35.5,        'goal':'lt', 'variable type': float},\n",
    "        'f1': {'ll':0.0,      'ul':8_500_000.0,  'goal':'lt', 'variable type': float},\n",
    "        'f2': {'ll':0.0,      'ul':426_000_000.0, 'goal':'lt', 'variable type': float},}\n",
    "dvs =  {'x0':  {'ll': 0.125,  'ul':5.0,  'variable type': float},\n",
    "        'x1':  {'ll': 0.1,    'ul':10.0, 'variable type': float},\n",
    "        'x2':  {'ll': 0.1,    'ul':10.0, 'variable type': float},\n",
    "        'x3':  {'ll': 0.125,  'ul':5.0, 'variable type': float}}\n",
    "const = {}\n",
    "num_agents = [{'mc':1, 'lhc': 1, 'h-c': 1, 'ns':1, 'ga':1, 'pymoo':1},\n",
    "              {'mc':1, 'lhc': 1, 'h-c': 1, 'ns':1, 'ga':1, 'pymoo':1},\n",
    "              {'mc':1, 'lhc': 1, 'h-c': 1, 'ns':1, 'ga':1, 'pymoo':1},\n",
    "              {'mc':1, 'lhc': 1, 'h-c': 1, 'ns':1, 'ga':1, 'pymoo':1},\n",
    "              {'mc':1, 'lhc': 1, 'h-c': 1, 'ns':1, 'ga':1, 'pymoo':1},\n",
    "              {'mc':1, 'lhc': 1, 'h-c': 1, 'ns':1, 'ga':1, 'pymoo':1},\n",
    "              {'mc':1, 'lhc': 1, 'h-c': 1, 'ns':1, 'ga':1, 'pymoo':1},\n",
    "              {'mc':1, 'lhc': 1, 'h-c': 1, 'ns':1, 'ga':1, 'pymoo':1},]\n",
    "bb_list = run_parallel_algorithm(dvs, objs, const, model, num_agents, base_time)\n",
    "print(bb_list)"
   ]
  },
  {
   "cell_type": "code",
   "execution_count": null,
   "metadata": {},
   "outputs": [],
   "source": [
    "meta = [{'function evals': 5306.0, 'hvi': 0.9987159870286868, 'gd': 13545.62372128425, 'igd': 14871369.861052953, 'agent': 'final', 'time': 173.30706787109375}, {'function evals': 5249.0, 'hvi': 0.9990509103350764, 'gd': 7878.4410239753115, 'igd': 25073737.30526427, 'agent': 'final', 'time': 143.4419708251953}, {'function evals': 5308.0, 'hvi': 0.9987372236063421, 'gd': 6149.899972338535, 'igd': 27207893.056309972, 'agent': 'final', 'time': 158.89577388763428}, {'function evals': 5154.0, 'hvi': 0.9991441661116729, 'gd': 8187.984167859975, 'igd': 41980911.41701728, 'agent': 'final', 'time': 187.5201930999756}, {'function evals': 5022.0, 'hvi': 0.9988795249952862, 'gd': 14233.629952707583, 'igd': 25129583.580892578, 'agent': 'final', 'time': 166.47065424919128}]\n",
    "\n",
    "hvi = [result['hvi'] for result in meta]\n",
    "gd = [result['gd'] for result in meta]\n",
    "igd= [result['igd'] for result in meta]\n",
    "time = [result['time'] for result in meta]\n",
    "import math\n",
    "def mean_std(results):\n",
    "    mean = sum([x for x in results]) / len(results)\n",
    "    var  = sum(pow(x-mean,2) for x in results) / len(results)\n",
    "    std  = math.sqrt(var)\n",
    "    return mean, std\n",
    "        \n",
    "def print_results(gd, gdp, hv, pf_len):\n",
    "    m,s = mean_std(gd)\n",
    "    print('Mean: {:.3e} ({:.3e})   Max: {}   Min  {}'.format(m,s,max(gd),min(gd)))\n",
    "    m,s = mean_std(gdp)\n",
    "    print('Mean: {:.3e} ({:.3e})   Max: {}   Min  {}'.format(m,s,max(gdp),min(gdp)))\n",
    "    m,s = mean_std(hv)\n",
    "    print('Mean: {:.3e} ({:.3e})   Max: {}   Min  {}'.format(m,s,max(hv),min(hv)))\n",
    "    m,s = mean_std(pf_len)\n",
    "    print('Mean: {:.3e} ({:.3e})   Max: {}   Min  {}'.format(m,s,max(pf_len),min(pf_len)))  \n",
    "    \n",
    "print_results(gd, igd, hvi, time)"
   ]
  },
  {
   "cell_type": "code",
   "execution_count": null,
   "metadata": {},
   "outputs": [],
   "source": [
    "model = 're61'\n",
    "base_time = 0.025\n",
    "\n",
    "objs = {'f0': {'ll':63_000.0, 'ul':77_000.0, 'goal':'lt', 'variable type': float},\n",
    "        'f1': {'ll':0.0,  'ul':1_400.0, 'goal':'lt', 'variable type': float},   \n",
    "        'f2': {'ll':250_000.0,  'ul':2_900_000.0, 'goal':'lt', 'variable type': float},\n",
    "        'f3': {'ll':70_000.0, 'ul':16_000_000.0, 'goal':'lt', 'variable type': float},\n",
    "        'f4': {'ll':0.0,  'ul':350_000.0, 'goal':'lt', 'variable type': float},\n",
    "        'f5': {'ll':0.0,  'ul':95_000.0, 'goal':'lt', 'variable type': float}}\n",
    "dvs =  {'x0':  {'ll': 0.01,  'ul':0.45,  'variable type': float},\n",
    "        'x1':  {'ll': 0.01,  'ul':0.1,  'variable type': float},\n",
    "        'x2':  {'ll': 0.01,  'ul':0.1,  'variable type': float}}\n",
    "const = {}\n",
    "\n",
    "num_agents = [#{'mc':1, 'lhc': 1, 'h-c': 1, 'ns':1, 'ga':1, 'pymoo':1},\n",
    "              #{'mc':1, 'lhc': 1, 'h-c': 1, 'ns':1, 'ga':1, 'pymoo':1},\n",
    "              #{'mc':1, 'lhc': 1, 'h-c': 1, 'ns':1, 'ga':1, 'pymoo':1},\n",
    "              #{'mc':1, 'lhc': 1, 'h-c': 1, 'ns':1, 'ga':1, 'pymoo':1},\n",
    "              #{'mc':1, 'lhc': 1, 'h-c': 1, 'ns':1, 'ga':1, 'pymoo':1},\n",
    "              #{'mc':1, 'lhc': 1, 'h-c': 1, 'ns':1, 'ga':1, 'pymoo':1},\n",
    "              #{'mc':1, 'lhc': 1, 'h-c': 1, 'ns':1, 'ga':1, 'pymoo':1},\n",
    "              {'mc':1, 'lhc': 1, 'h-c': 1, 'ns':1, 'ga':1, 'pymoo':1},]\n",
    "bb = run_parallel_algorithm(dvs, objs, const, model, num_agents, base_time)"
   ]
  },
  {
   "cell_type": "code",
   "execution_count": null,
   "metadata": {},
   "outputs": [],
   "source": [
    "def get_re_pf(benchmark, path_to_pf='projects/reproblems-master/approximated_Pareto_fronts/'):\n",
    "    home = os.getenv(\"HOME\")\n",
    "    os.chdir(home)\n",
    "    os.chdir(path_to_pf)\n",
    "    pf = []\n",
    "    with open('reference_points_{}.dat'.format(benchmark.upper()), 'r') as f:\n",
    "        for line in f:\n",
    "            pf.append([float(x) for x in line.split(' ')])\n",
    "    return np.array(pf)\n",
    "pf2 = get_re_pf('re32')\n",
    "\n",
    "\n",
    "fig = go.Figure()\n",
    "#fig.add_trace(go.Scatter(x=pf[:,0], y=pf[:,1], mode='markers', name='MABS'))\n",
    "fig.add_trace(go.Scatter(x=pf2[:,0], y=pf2[:,1], mode='markers', name='True'))\n",
    "fig.show()\n",
    "fig = go.Figure()\n",
    "#fig.add_trace(go.Scatter(x=pf[:,0], y=pf[:,2], mode='markers', name='MABS'))\n",
    "fig.add_trace(go.Scatter(x=pf2[:,0], y=pf2[:,2], mode='markers', name='True'))\n",
    "fig.show()\n",
    "fig = go.Figure()\n",
    "#fig.add_trace(go.Scatter(x=pf[:,1], y=pf[:,2], mode='markers', name='MABS'))\n",
    "fig.add_trace(go.Scatter(x=pf2[:,1], y=pf2[:,2], mode='markers', name='True'))\n",
    "fig.show()\n",
    "fig = go.Figure()\n",
    "#fig.add_trace(go.Scatter3d(x=pf[:,0], y=pf[:,1], z=pf[:,2], mode='markers', name='MABS'))\n",
    "fig.add_trace(go.Scatter3d(x=pf2[:,0], y=pf2[:,1], z=pf2[:,2], mode='markers', name='True'))\n",
    "fig.show()"
   ]
  },
  {
   "cell_type": "markdown",
   "metadata": {},
   "source": [
    "# Welded Beam (RE32)"
   ]
  },
  {
   "cell_type": "code",
   "execution_count": null,
   "metadata": {
    "scrolled": false
   },
   "outputs": [],
   "source": [
    "model = 'welded_beam'\n",
    "objs = {'f0': {'ll':0.0,       'ul':40.0, 'goal':'lt', 'variable type': float},\n",
    "        'f1': {'ll':0.0,       'ul':0.015, 'goal':'lt', 'variable type': float},}\n",
    "dvs =  {'x0':  {'ll': 0.125, 'ul':5.0,  'variable type': float},\n",
    "        'x1':  {'ll': 0.1,   'ul':10.0, 'variable type': float},\n",
    "        'x2':  {'ll': 0.1,   'ul':10.0, 'variable type': float},\n",
    "        'x3':  {'ll': 0.125, 'ul':5.0,  'variable type': float}}\n",
    "const = {'c0': {'ll': -1E6,   'ul':0.0,  'variable type': float},\n",
    "         'c1': {'ll': -1E6,   'ul':0.0,  'variable type': float},\n",
    "         'c2': {'ll': -1E6,   'ul':0.0,   'variable type': float},\n",
    "         'c3': {'ll': -1E6,   'ul':0.0,   'variable type': float},}\n",
    "dvi_ = {'f0': 200, 'f1':100}\n",
    "\n",
    "problem = BenchmarkProblem(design_variables=dvs,\n",
    "                         objectives=objs,\n",
    "                         constraints=const,\n",
    "                         benchmark_name = model) \n",
    "\n",
    "bb = {'name': 'bb_opt', 'type': bb_opt.BbOpt, 'attr': {'archive_name': '{}.h5'.format(model), \n",
    "                                                       'convergence_interval': 25,\n",
    "                                                       'convergence_type': 'function evals',\n",
    "                                                       'function_evals': 25_000,\n",
    "                                                       'pf_size': 200,\n",
    "                                                       'plot': False,\n",
    "                                                       'meta_data_to_log': ['function evals',]}}#'hvi', 'gd', 'igd']}}\n",
    "\n",
    "kas = {'ka_rp_explore': {'type': Stochastic, 'attr' : {}}, \n",
    "       'ka_rp_lhc': {'type': LatinHypercube, 'attr' : {'samples': len(dvs)*100,'debug_wait':False, 'execute_once': True}},\n",
    "       'ka_rp_lhc2': {'type': LatinHypercube, 'attr' : {'samples': len(dvs)*100,'debug_wait':False, 'lhc_criterion': 'simple', 'execute_once': True}},\n",
    "       'ka_rp_hc1': {'type': HillClimb, 'attr' : {'step_size':0.01,'step_limit':50, 'reanalyze_designs': True}},\n",
    "       'ka_rp_hc2': {'type': HillClimb, 'attr' : {'hc_type':'steepest ascent','step_limit':100}},\n",
    "       'ka_rp_pert1': {'type': NeighborhoodSearch, 'attr' : {'perturbation_size':0.01, 'neighboorhood_search':'random','reanalyze_designs': True}},\n",
    "       'ka_rp_pert4': {'type': NeighborhoodSearch, 'attr' : {'perturbation_size':0.01, 'neighboorhood_search':'random','reanalyze_designs': True}},\n",
    "       'ka_rp_pert5': {'type': NeighborhoodSearch, 'attr' : {'perturbation_size':0.01, 'neighboorhood_search':'random','reanalyze_designs': True}},\n",
    "       'ka_rp_pert6': {'type': NeighborhoodSearch, 'attr' : {'perturbation_size':0.01, 'neighboorhood_search':'random','reanalyze_designs': True}},\n",
    "       'ka_rp_pert7': {'type': NeighborhoodSearch, 'attr' : {'perturbation_size':0.01, 'neighboorhood_search':'random','reanalyze_designs': True}},\n",
    "       'ka_rp_pert8': {'type': NeighborhoodSearch, 'attr' : {'perturbation_size':0.01, 'neighboorhood_search':'random','reanalyze_designs': True}},\n",
    "       'ka_rp_pert9': {'type': NeighborhoodSearch, 'attr' : {'perturbation_size':0.11, 'neighboorhood_search':'random','reanalyze_designs': True}},\n",
    "       'ka_rp_pert10': {'type': NeighborhoodSearch, 'attr' : {'perturbation_size':0.09, 'neighboorhood_search':'random','reanalyze_designs': True}},\n",
    "       'ka_rp_pert11': {'type': NeighborhoodSearch, 'attr' : {'perturbation_size':0.08, 'neighboorhood_search':'random','reanalyze_designs': True}},\n",
    "       'ka_rp_pert12': {'type': NeighborhoodSearch, 'attr' : {'perturbation_size':0.07, 'neighboorhood_search':'random','reanalyze_designs': True}},\n",
    "       'ka_rp_pert13': {'type': NeighborhoodSearch, 'attr' : {'perturbation_size':0.06, 'neighboorhood_search':'random','reanalyze_designs': True}},\n",
    "       'ka_rp_pert14': {'type': NeighborhoodSearch, 'attr' : {'perturbation_size':0.05, 'neighboorhood_search':'random','reanalyze_designs': True}},\n",
    "       'ka_rp_pert2': {'type': NeighborhoodSearch, 'attr' : {'perturbation_size':0.005}},\n",
    "       'ka_rp_pert3': {'type': NeighborhoodSearch, 'attr' : {'perturbation_size':0.005, 'neighboorhood_search':'random','reanalyze_designs': True}},\n",
    "       'ka_rp_pymoo2': {'type': PyMooAlgorithm, 'attr' : {'pymoo_algorithm_name': 'nsga2', 'pop_size': 50, 'n_offspring': 50, 'termination_criteria':2500, 'execute_once': True}},\n",
    "       'ka_rp_pymoo3': {'type': PyMooAlgorithm, 'attr' : {'pymoo_algorithm_name': 'nsga2', 'pop_size': 100, 'n_offspring': 100, 'termination_criteria':3000, 'execute_once': True}},\n",
    "       'ka_rp_pymoo4': {'type': PyMooAlgorithm, 'attr' : {'pymoo_algorithm_name': 'nsga2', 'pop_size': 250, 'n_offspring': 250, 'termination_criteria':5000, 'execute_once': True}},\n",
    "       'ka_br_lvl3': {'type': KaBrLevel3, 'attr' : {}},\n",
    "       'ka_br_lvl2': {'type': KaBrLevel2, 'attr' : {}},\n",
    "       'ka_br_lvl1': {'type': KaBrLevel1, 'attr' : {}}}#'total_pf_size':500, 'pareto_sorter':'dci', 'dci_div':dvi_}}}\n",
    "\n",
    "\n",
    "\n",
    "for num in range(0,1):\n",
    "    BenchmarkController(bb, kas, problem, num, rand=None)\n",
    "    directory = 'welded_beam2'\n",
    "    if not os.path.isdir('benchmarks/{}'.format(directory)):\n",
    "        os.mkdir('benchmarks/{}'.format(directory))\n",
    "    shutil.move('{}.h5'.format(model, num), 'benchmarks/{}/{}_{}.h5'.format(directory,model,num))\n",
    "    time.sleep(5)    "
   ]
  },
  {
   "cell_type": "markdown",
   "metadata": {},
   "source": [
    "# Truss2D"
   ]
  },
  {
   "cell_type": "code",
   "execution_count": null,
   "metadata": {},
   "outputs": [],
   "source": [
    "model = 'truss2d'\n",
    "objs = {'f0': {'ll':0.0,      'ul':0.055, 'goal':'lt', 'variable type': float},\n",
    "        'f1': {'ll':0.0,      'ul':100_000, 'goal':'lt', 'variable type': float},}\n",
    "dvs =  {'x0':  {'ll': 0.0,    'ul':0.01,  'variable type': float},\n",
    "        'x1':  {'ll': 0.0,    'ul':0.01, 'variable type': float},\n",
    "        'x2':  {'ll': 1.0,    'ul':3.0, 'variable type': float}}\n",
    "const = {'c0': {'ll': -1E5,   'ul':0.0,  'variable type': float},}\n",
    "dvi_ = {'f0': 100000, 'f1':55}\n",
    "\n",
    "problem = BenchmarkProblem(design_variables=dvs,\n",
    "                         objectives=objs,\n",
    "                         constraints=const,\n",
    "                         benchmark_name = model) \n",
    "\n",
    "bb = {'name': 'bb_opt', 'type': bb_opt.BbOpt, 'attr': {'archive_name': '{}.h5'.format(model), \n",
    "                                                       'convergence_interval': 10,\n",
    "                                                       'convergence_type': 'function evals',\n",
    "                                                       'function_evals': 10000,\n",
    "                                                       'pf_size': 200,\n",
    "                                                       'meta_data_to_log': ['hvi', 'gd', 'igd', 'function evals']}}\n",
    "\n",
    "kas = {'ka_rp_explore': {'type': Stochastic, 'attr' : {}}, \n",
    "       'ka_rp_lhc': {'type': LatinHypercube, 'attr' : {'samples': len(dvs)*100,'debug_wait':False, 'execute_once': True}},\n",
    "       'ka_rp_lhc2': {'type': LatinHypercube, 'attr' : {'samples': len(dvs)*100,'debug_wait':False, 'lhc_criterion': 'simple', 'execute_once': True}},\n",
    "       'ka_rp_hc1': {'type': HillClimb, 'attr' : {'step_size':0.01,'step_limit':50, 'reanalyze_designs': True}},\n",
    "       'ka_rp_hc2': {'type': HillClimb, 'attr' : {'hc_type':'steepest ascent','step_limit':100}},\n",
    "       'ka_rp_pert1': {'type': NeighborhoodSearch, 'attr' : {'perturbation_size':0.01, 'neighboorhood_search':'random','reanalyze_designs': True}},\n",
    "       'ka_rp_pert2': {'type': NeighborhoodSearch, 'attr' : {'perturbation_size':0.005}},\n",
    "       'ka_rp_pert3': {'type': NeighborhoodSearch, 'attr' : {'perturbation_size':0.005, 'neighboorhood_search':'random','reanalyze_designs': True}},\n",
    "       'ka_rp_pymoo2': {'type': PyMooAlgorithm, 'attr' : {'pymoo_algorithm_name': 'nsga2', 'pop_size': 50, 'n_offspring': 50, 'termination_criteria':2500, 'execute_once': True}},\n",
    "       'ka_br_lvl3': {'type': KaBrLevel3, 'attr' : {}},\n",
    "       'ka_br_lvl2': {'type': KaBrLevel2, 'attr' : {}},\n",
    "       'ka_br_lvl1': {'type': KaBrLevel1, 'attr' : {}}}#'pareto_sorter':'dci', 'dci_div':dvi_}}}\n",
    "\n",
    "\n",
    "for num in range(10,20):\n",
    "    BenchmarkController(bb, kas, problem, num, rand=1)\n",
    "    directory = 'truss2d'\n",
    "    if not os.path.isdir('benchmarks/{}'.format(directory)):\n",
    "        os.mkdir('benchmarks/{}'.format(directory))\n",
    "    shutil.move('{}.h5'.format(model, num), 'benchmarks/{}/{}_{}.h5'.format(directory,model,num))\n",
    "    time.sleep(5)  "
   ]
  },
  {
   "cell_type": "markdown",
   "metadata": {},
   "source": [
    " # RE21"
   ]
  },
  {
   "cell_type": "code",
   "execution_count": null,
   "metadata": {
    "scrolled": true
   },
   "outputs": [],
   "source": [
    "model = 're21'\n",
    "objs = {'f0': {'ll':0.0,      'ul':3_000.0, 'goal':'lt', 'variable type': float},\n",
    "        'f1': {'ll':0.0,      'ul':1.0, 'goal':'lt', 'variable type': float},}\n",
    "\n",
    "a = float(np.sqrt(2.))\n",
    "\n",
    "dvs =  {'x0':  {'ll': 1.0,  'ul':3.0,  'variable type': float},\n",
    "        'x1':  {'ll': a,    'ul':3.0, 'variable type': float},\n",
    "        'x2':  {'ll': a,    'ul':3.0, 'variable type': float},\n",
    "        'x3':  {'ll': 1.0,  'ul':3.0, 'variable type': float},}\n",
    "const = {}\n",
    "\n",
    "run_algorithm(dvs, objs, const, model) "
   ]
  },
  {
   "cell_type": "markdown",
   "metadata": {},
   "source": [
    "# RE22"
   ]
  },
  {
   "cell_type": "code",
   "execution_count": null,
   "metadata": {
    "scrolled": true
   },
   "outputs": [],
   "source": [
    "model = 're22'\n",
    "objs = {'f0': {'ll':0.0,    'ul':500.0, 'goal':'lt', 'variable type': float},\n",
    "        'f1': {'ll':0.0,    'ul':50.0, 'goal':'lt', 'variable type': float},}\n",
    "dvs =  {'x0':  {'options' : [0.20, 0.31, 0.40, 0.44, 0.60, 0.62, 0.79, 0.80, 0.88, 0.93, 1.0, 1.20, \n",
    "                             1.24, 1.32, 1.40, 1.55, 1.58, 1.60, 1.76, 1.80, 1.86, 2.0, 2.17, 2.20, \n",
    "                             2.37, 2.40, 2.48, 2.60, 2.64, 2.79, 2.80, 3.0, 3.08, 3,10, 3.16, 3.41, \n",
    "                             3.52, 3.60, 3.72, 3.95, 3.96, 4.0, 4.03, 4.20, 4.34, 4.40, 4.65, 4.74, \n",
    "                             4.80, 4.84, 5.0, 5.28, 5.40, 5.53, 5.72, 6.0, 6.16, 6.32, 6.60, 7.11, \n",
    "                             7.20, 7.80, 7.90, 8.0, 8.40, 8.69, 9.0, 9.48, 10.27, 11.0, 11.06, 11.85, \n",
    "                             12.0, 13.0, 14.0, 15.0], 'variable type': float},\n",
    "        'x1':  {'ll': 0.0,  'ul':20.0, 'variable type': float},\n",
    "        'x2':  {'ll': 0.0,  'ul':40.0, 'variable type': float},}\n",
    "const = {}\n",
    "\n",
    "run_algorithm(dvs, objs, const, model) "
   ]
  },
  {
   "cell_type": "markdown",
   "metadata": {},
   "source": [
    "# RE23"
   ]
  },
  {
   "cell_type": "code",
   "execution_count": null,
   "metadata": {},
   "outputs": [],
   "source": [
    "model = 're23'\n",
    "objs = {'f0': {'ll':0.0,    'ul':6_000.0, 'goal':'lt', 'variable type': float},\n",
    "        'f1': {'ll':0.0,    'ul':1_300_000.0, 'goal':'lt', 'variable type': float},}\n",
    "dvs =  {'x0':  {'options' : [x for x in range(100)], 'variable type': int},\n",
    "        'x1':  {'options' : [x for x in range(100)], 'variable type': int},\n",
    "        'x2':  {'ll': 10.0,  'ul':200.0, 'variable type': float},\n",
    "        'x3':  {'ll': 10.0,  'ul':240.0, 'variable type': float},}\n",
    "const = {}\n",
    "\n",
    "run_algorithm(dvs, objs, const, model) "
   ]
  },
  {
   "cell_type": "markdown",
   "metadata": {},
   "source": [
    "# RE24"
   ]
  },
  {
   "cell_type": "code",
   "execution_count": null,
   "metadata": {},
   "outputs": [],
   "source": [
    "model = 're24'\n",
    "\n",
    "objs = {'f0': {'ll':0.0,      'ul':500.0, 'goal':'lt', 'variable type': float},\n",
    "        'f1': {'ll':0.0,      'ul':50.0, 'goal':'lt', 'variable type': float},}\n",
    "dvs =  {'x0':  {'ll': 0.5,  'ul':4.0,  'variable type': float},\n",
    "        'x1':  {'ll': 0.5,  'ul':50.0, 'variable type': float},}\n",
    "const = {}\n",
    "\n",
    "run_algorithm(dvs, objs, const, model) "
   ]
  },
  {
   "cell_type": "markdown",
   "metadata": {},
   "source": [
    "# RE31"
   ]
  },
  {
   "cell_type": "code",
   "execution_count": null,
   "metadata": {},
   "outputs": [],
   "source": [
    "model = 're31'\n",
    "\n",
    "objs = {'f0': {'ll':0.0,      'ul':500,        'goal':'lt', 'variable type': float},\n",
    "        'f1': {'ll':0.0,      'ul':8_500_000,  'goal':'lt', 'variable type': float},\n",
    "        'f2': {'ll':0.0,      'ul':20_000_000, 'goal':'lt', 'variable type': float},}\n",
    "dvs =  {'x0':  {'ll': 0.00001,  'ul':100.0,  'variable type': float},\n",
    "        'x1':  {'ll': 0.00001,  'ul':100.0, 'variable type': float},\n",
    "        'x2':  {'ll': 1.0,    'ul':3.0, 'variable type': float}}\n",
    "const = {}\n",
    "\n",
    "run_algorithm(dvs, objs, const, model) "
   ]
  },
  {
   "cell_type": "markdown",
   "metadata": {},
   "source": [
    "# RE32"
   ]
  },
  {
   "cell_type": "code",
   "execution_count": null,
   "metadata": {},
   "outputs": [],
   "source": [
    "model = 're32'\n",
    "\n",
    "objs = {'f0': {'ll':0.0,      'ul':35.0,        'goal':'lt', 'variable type': float},\n",
    "        'f1': {'ll':0.0,      'ul':18_000,  'goal':'lt', 'variable type': float},\n",
    "        'f2': {'ll':0.0,      'ul':426_000_000, 'goal':'lt', 'variable type': float},}\n",
    "dvs =  {'x0':  {'ll': 0.125,  'ul':5.0,  'variable type': float},\n",
    "        'x1':  {'ll': 0.1,    'ul':10.0, 'variable type': float},\n",
    "        'x2':  {'ll': 0.1,    'ul':10.0, 'variable type': float},\n",
    "        'x3':  {'ll': 0.125,  'ul':5.0, 'variable type': float}}\n",
    "const = {}\n",
    "\n",
    "run_algorithm(dvs, objs, const, model) "
   ]
  },
  {
   "cell_type": "markdown",
   "metadata": {},
   "source": [
    "# RE33"
   ]
  },
  {
   "cell_type": "code",
   "execution_count": null,
   "metadata": {},
   "outputs": [],
   "source": [
    "model = 're33'\n",
    "\n",
    "objs = {'f0': {'ll':-1.0,      'ul':6.0,   'goal':'lt', 'variable type': float},\n",
    "        'f1': {'ll':0.0,      'ul':10.0,  'goal':'lt', 'variable type': float},\n",
    "        'f2': {'ll':0.0,      'ul':4.5E9, 'goal':'lt', 'variable type': float},}\n",
    "dvs =  {'x0':  {'ll': 55.0,   'ul':80.0,   'variable type': float},\n",
    "        'x1':  {'ll': 75.0,   'ul':110.0,  'variable type': float},\n",
    "        'x2':  {'ll': 1000.0, 'ul':3000.0, 'variable type': float},\n",
    "        'x3':  {'ll': 11.0,   'ul':20.0,   'variable type': float}}\n",
    "const = {}\n",
    "\n",
    "run_algorithm(dvs, objs, const, model) "
   ]
  },
  {
   "cell_type": "markdown",
   "metadata": {},
   "source": [
    "# RE34"
   ]
  },
  {
   "cell_type": "code",
   "execution_count": null,
   "metadata": {},
   "outputs": [],
   "source": [
    "model = 're34'\n",
    "\n",
    "objs = {'f0': {'ll':1_650.0,  'ul':1_700.0, 'goal':'lt', 'variable type': float},\n",
    "        'f1': {'ll':6.0,      'ul':11.0,    'goal':'lt', 'variable type': float},\n",
    "        'f2': {'ll':0.0,      'ul':0.3,     'goal':'lt', 'variable type': float},}\n",
    "dvs =  {'x0':  {'ll': 1.0,   'ul':3.0,  'variable type': float},\n",
    "        'x1':  {'ll': 1.0,   'ul':3.0,  'variable type': float},\n",
    "        'x2':  {'ll': 1.0,   'ul':3.0,  'variable type': float},\n",
    "        'x3':  {'ll': 1.0,   'ul':3.0,  'variable type': float},\n",
    "        'x4':  {'ll': 1.0,   'ul':3.0,  'variable type': float}}\n",
    "const = {}\n",
    "\n",
    "run_algorithm(dvs, objs, const, model) "
   ]
  },
  {
   "cell_type": "markdown",
   "metadata": {},
   "source": [
    "# RE35"
   ]
  },
  {
   "cell_type": "code",
   "execution_count": null,
   "metadata": {
    "scrolled": true
   },
   "outputs": [],
   "source": [
    "model = 're35'\n",
    "\n",
    "objs = {'f0': {'ll':2_000.0,  'ul':7_100.0, 'goal':'lt', 'variable type': float},\n",
    "        'f1': {'ll':650.0,      'ul':1_700.0,    'goal':'lt', 'variable type': float},\n",
    "        'f2': {'ll':0.0,      'ul':400.0,     'goal':'lt', 'variable type': float},}\n",
    "dvs =  {'x0':  {'ll': 2.6,   'ul':3.6,  'variable type': float},\n",
    "        'x1':  {'ll': 0.7,   'ul':0.8,  'variable type': float},\n",
    "        'x2':  {'options': [x for x in range(17,29)],  'variable type': int},\n",
    "        'x3':  {'ll': 7.3,   'ul':8.3,  'variable type': float},\n",
    "        'x4':  {'ll': 7.3,   'ul':8.3,  'variable type': float},\n",
    "        'x5':  {'ll': 2.9,   'ul':3.9,  'variable type': float},\n",
    "        'x6':  {'ll': 5.0,   'ul':5.5,  'variable type': float},}\n",
    "\n",
    "const = {}\n",
    "\n",
    "run_algorithm(dvs, objs, const, model) "
   ]
  },
  {
   "cell_type": "markdown",
   "metadata": {},
   "source": [
    "# RE36"
   ]
  },
  {
   "cell_type": "code",
   "execution_count": null,
   "metadata": {},
   "outputs": [],
   "source": [
    "model = 're36'\n",
    "\n",
    "objs = {'f0': {'ll':0.0,  'ul':6.0, 'goal':'lt', 'variable type': float},\n",
    "        'f1': {'ll':11.0,      'ul':40.0,    'goal':'lt', 'variable type': float},\n",
    "        'f2': {'ll':0.0,      'ul':0.36,     'goal':'lt', 'variable type': float},}\n",
    "dvs =  {'x0':  {'options': [x for x in range(12,61)],  'variable type': int},\n",
    "        'x1':  {'options': [x for x in range(12,61)],  'variable type': int},\n",
    "        'x2':  {'options': [x for x in range(12,61)],  'variable type': int},\n",
    "        'x3':  {'options': [x for x in range(12,61)],  'variable type': int},}\n",
    "\n",
    "const = {}\n",
    "\n",
    "run_algorithm(dvs, objs, const, model) "
   ]
  },
  {
   "cell_type": "markdown",
   "metadata": {},
   "source": [
    "# RE37"
   ]
  },
  {
   "cell_type": "code",
   "execution_count": null,
   "metadata": {},
   "outputs": [],
   "source": []
  },
  {
   "cell_type": "markdown",
   "metadata": {},
   "source": [
    "# RE41"
   ]
  },
  {
   "cell_type": "code",
   "execution_count": null,
   "metadata": {
    "scrolled": true
   },
   "outputs": [],
   "source": [
    "model = 're41'\n",
    "\n",
    "objs = {'f0': {'ll':15.0, 'ul':45.0, 'goal':'lt', 'variable type': float},\n",
    "        'f1': {'ll':3.5,  'ul':4.5, 'goal':'lt', 'variable type': float},\n",
    "        'f2': {'ll':10.5, 'ul':13.1, 'goal':'lt', 'variable type': float},\n",
    "        'f3': {'ll':0.0,  'ul':9.5, 'goal':'lt', 'variable type': float},       }\n",
    "dvs =  {'x0':  {'ll': 0.5,   'ul':1.5,  'variable type': float},\n",
    "        'x1':  {'ll': 0.45,  'ul':1.35,  'variable type': float},\n",
    "        'x2':  {'ll': 0.5,   'ul':1.5,  'variable type': float},\n",
    "        'x3':  {'ll': 0.5,   'ul':1.5,  'variable type': float},\n",
    "        'x4':  {'ll': 0.875, 'ul':2.625,  'variable type': float},\n",
    "        'x5':  {'ll': 0.4,   'ul':1.2,  'variable type': float},\n",
    "        'x6':  {'ll': 0.4,   'ul':1.2,  'variable type': float},       }\n",
    "const = {}\n",
    "\n",
    "\n",
    "run_algorithm(dvs, objs, const, model) "
   ]
  },
  {
   "cell_type": "markdown",
   "metadata": {},
   "source": [
    "# RE61"
   ]
  },
  {
   "cell_type": "code",
   "execution_count": null,
   "metadata": {
    "scrolled": true
   },
   "outputs": [],
   "source": [
    "model = 're61'\n",
    "\n",
    "objs = {'f0': {'ll':63_000.0, 'ul':77_000.0, 'goal':'lt', 'variable type': float},\n",
    "        'f1': {'ll':0.0,  'ul':1_400.0, 'goal':'lt', 'variable type': float},   \n",
    "        'f2': {'ll':250_000.0,  'ul':2_900_000.0, 'goal':'lt', 'variable type': float},\n",
    "        'f3': {'ll':70_000.0, 'ul':16_000_000.0, 'goal':'lt', 'variable type': float},\n",
    "        'f4': {'ll':0.0,  'ul':350_000.0, 'goal':'lt', 'variable type': float},\n",
    "        'f5': {'ll':0.0,  'ul':95_000.0, 'goal':'lt', 'variable type': float}}\n",
    "dvs =  {'x0':  {'ll': 0.01,  'ul':0.45,  'variable type': float},\n",
    "        'x1':  {'ll': 0.01,  'ul':0.1,  'variable type': float},\n",
    "        'x2':  {'ll': 0.01,  'ul':0.1,  'variable type': float}}\n",
    "const = {}\n",
    "\n",
    "run_algorithm(dvs, objs, const, model) "
   ]
  },
  {
   "cell_type": "markdown",
   "metadata": {},
   "source": [
    "# RE91"
   ]
  },
  {
   "cell_type": "code",
   "execution_count": null,
   "metadata": {},
   "outputs": [],
   "source": [
    "model = 're91'\n",
    "\n",
    "objs = {'f0': {'ll':15.0, 'ul':45.0, 'goal':'lt', 'variable type': float},\n",
    "        'f1': {'ll':0.0,  'ul':1.4, 'goal':'lt', 'variable type': float}, \n",
    "        'f2': {'ll':0.0,  'ul':350.0, 'goal':'lt', 'variable type': float},        \n",
    "        'f3': {'ll':0.0,  'ul':1.1, 'goal':'lt', 'variable type': float},\n",
    "        'f4': {'ll':0.3,  'ul':1.6, 'goal':'lt', 'variable type': float},\n",
    "        'f5': {'ll':0.5,  'ul':1.31, 'goal':'lt', 'variable type': float},\n",
    "        'f6': {'ll':0.7,  'ul':1.3, 'goal':'lt', 'variable type': float},\n",
    "        'f7': {'ll':0.6,  'ul':1.2, 'goal':'lt', 'variable type': float},\n",
    "        'f8': {'ll':0.65, 'ul':1.05, 'goal':'lt', 'variable type': float},}\n",
    "\n",
    "dvs =  {'x0':  {'ll': 0.5,   'ul':1.5,  'variable type': float},\n",
    "        'x1':  {'ll': 0.45,  'ul':1.35,  'variable type': float},\n",
    "        'x2':  {'ll': 0.5,   'ul':1.5,  'variable type': float},\n",
    "        'x3':  {'ll': 0.5,   'ul':1.5,  'variable type': float},\n",
    "        'x4':  {'ll': 0.875, 'ul':2.625,  'variable type': float},\n",
    "        'x5':  {'ll': 0.4,   'ul':1.2,  'variable type': float},\n",
    "        'x6':  {'ll': 0.4,   'ul':1.2,  'variable type': float},       }\n",
    "const = {}\n",
    "\n",
    "run_algorithm(dvs, objs, const, model)"
   ]
  },
  {
   "cell_type": "code",
   "execution_count": null,
   "metadata": {
    "scrolled": false
   },
   "outputs": [],
   "source": [
    "from src.utils.benchmark_utils import get_re_pf\n",
    "\n",
    "pf2 = get_re_pf('re36')\n",
    "\n",
    "for num in range(1,3):\n",
    "    fig = go.Figure()\n",
    "    fig.add_trace(go.Scatter(x=pf2[:,0], y=pf2[:,num], mode='markers', name='True'))\n",
    "    fig.show()"
   ]
  },
  {
   "cell_type": "code",
   "execution_count": null,
   "metadata": {},
   "outputs": [],
   "source": []
  }
 ],
 "metadata": {
  "kernelspec": {
   "display_name": "Python 3",
   "language": "python",
   "name": "python3"
  },
  "language_info": {
   "codemirror_mode": {
    "name": "ipython",
    "version": 3
   },
   "file_extension": ".py",
   "mimetype": "text/x-python",
   "name": "python",
   "nbconvert_exporter": "python",
   "pygments_lexer": "ipython3",
   "version": "3.7.3"
  },
  "latex_envs": {
   "LaTeX_envs_menu_present": true,
   "autoclose": false,
   "autocomplete": true,
   "bibliofile": "biblio.bib",
   "cite_by": "apalike",
   "current_citInitial": 1,
   "eqLabelWithNumbers": true,
   "eqNumInitial": 1,
   "hotkeys": {
    "equation": "Ctrl-E",
    "itemize": "Ctrl-I"
   },
   "labels_anchors": false,
   "latex_user_defs": false,
   "report_style_numbering": false,
   "user_envs_cfg": false
  }
 },
 "nbformat": 4,
 "nbformat_minor": 4
}
