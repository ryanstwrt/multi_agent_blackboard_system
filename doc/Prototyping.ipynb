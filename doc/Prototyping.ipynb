{
 "cells": [
  {
   "cell_type": "code",
   "execution_count": 1,
   "metadata": {},
   "outputs": [],
   "source": [
    "import osbrain\n",
    "from osbrain import run_nameserver\n",
    "from osbrain import run_agent\n",
    "from osbrain import logging\n",
    "import pandas as pd\n",
    "import numpy as np\n",
    "import blackboard\n",
    "import knowledge_agent as ka\n",
    "import time\n",
    "import train_surrogate_models as tm\n",
    "import random"
   ]
  },
  {
   "cell_type": "code",
   "execution_count": 2,
   "metadata": {},
   "outputs": [
    {
     "name": "stdout",
     "output_type": "stream",
     "text": [
      "Broadcast server running on 0.0.0.0:9091\n",
      "NS running on 127.0.0.1:15982 (127.0.0.1)\n",
      "URI = PYRO:Pyro.NameServer@127.0.0.1:15982\n",
      "INFO [2020-02-21 18:02:16.541957] (blackboard): Agent ka_rp given permission to write\n",
      "INFO [2020-02-21 18:02:16.557048] (blackboard): Trigger Value: 1.0 From Agent: ka_rp1\n",
      "INFO [2020-02-21 18:02:16.558644] (blackboard): Trigger Value: 1.0 From Agent: ka_rp\n",
      "INFO [2020-02-21 18:02:16.558733] (ka_rp1): ka_rp1 triggered\n",
      "INFO [2020-02-21 18:02:16.560383] (ka_rp): ka_rp triggered\n",
      "INFO [2020-02-21 18:02:19.560345] (blackboard): Agent ka_rp1 given permission to write\n",
      "{'core_1': {'reactor_parameters': None, 'xs_set': None}, 'core_2': {'reactor_parameters': None, 'xs_set': None}}\n",
      "{0: {'ka_rp1': 1.0, 'ka_rp': 1.0}}\n",
      "NS shut down.\n"
     ]
    }
   ],
   "source": [
    "ns = run_nameserver()\n",
    "bb = run_agent(name='blackboard', base=blackboard.Blackboard)\n",
    "ka_rp = run_agent(name='ka_rp', base=ka.KaReactorPhysics_Proxy)\n",
    "ka_rp1 = run_agent(name='ka_rp1', base=ka.KaReactorPhysics_Proxy)\n",
    "\n",
    "ka_rp.add_blackboard(bb)\n",
    "ka_rp1.add_blackboard(bb)\n",
    "\n",
    "ka_rp.set_attr(core_name='core_1')\n",
    "ka_rp1.set_attr(core_name='core_2')\n",
    "\n",
    "\n",
    "ka_rp.connect_writer()\n",
    "ka_rp1.connect_writer()\n",
    "ka_rp.write_to_bb()\n",
    "ka_rp.connect_trigger_event()\n",
    "ka_rp1.connect_trigger_event()\n",
    "\n",
    "\n",
    "bb.set_attr(trigger_events={0: {}})\n",
    "bb.send('trigger', 'message')\n",
    "time.sleep(2)\n",
    "ka_rp1.write_to_bb()\n",
    "\n",
    "print(bb.get_attr('lvl_3'))\n",
    "\n",
    "print(bb.get_attr('trigger_events'))\n",
    "ns.shutdown()"
   ]
  },
  {
   "cell_type": "markdown",
   "metadata": {},
   "source": [
    "# Building our Multi-Agent Blackbaord System\n",
    "\n",
    "We start by initializing our multi-agent system using osBrain.\n",
    "For the basic program, three agents will be required.\n",
    "\n",
    "* Agent 1: Blackboard\n",
    "* Agent 2: Knowledge Agent - Neutronics\n",
    "* Agent 3: Knowledge Agent - Blackboard checker\n",
    "\n",
    "The blackboard agent will retain all of the optimization results obtained by the neutronics agent on the third level of the blackboard.\n",
    "Abstract level 3 contains raw data in the form of Pandas Dataframe. \n",
    "This data consists of the design variables (height, smear, and plutonium fraction), objectives (keff, void coefficient, doppler coefficient, plutonium fraction), and the weights for each objective.\n",
    "\n",
    "The neutronics knowledge agent (KA) will run a neutronics optimization for a given set of objective weights.\n",
    "This is performed using Dakota as the optimization engine, and a surrogate model to obtain the reactor paramters (i.e. our objective functions).\n",
    "Once an optimal solution has been determined, the neutronics KA writes the associated design variables, objective functions, and weights to the blackboard.\n",
    "\n",
    "The blackboard checker KA examines abstract level 3 of the blackboard to determine if solutions are close to the desired solution.\n",
    "If a solution is within some percent of the desired solution, the blackboard check KA will take basic information from abstract level 3 and place it in abstract level 2.\n",
    "\n",
    "We start off by simply initializing the blackboard and neutronics KA.\n",
    "This will allow us to see how the Dakota interface operates, and will run 5 Dakota optimizations for five different weighting schemes."
   ]
  },
  {
   "cell_type": "code",
   "execution_count": null,
   "metadata": {},
   "outputs": [],
   "source": [
    "ns = run_nameserver()\n",
    "bb = run_agent(name='blackboard', base=blackboard.Blackboard)\n",
    "ka_rp = run_agent(name='ka_rp', base=ka.KaReactorPhysics_Proxy)\n",
    "ka_rp1 = run_agent(name='ka_rp1', base=ka.KaReactorPhysics_Proxy)\n",
    "\n",
    "ka_rp.add_blackboard(bb)\n",
    "ka_rp1.add_blackboard(bb)\n",
    "\n",
    "ka_rp.connect_writer()\n",
    "ka_rp.write_to_blackboard()\n",
    "print(bb.get_attr('lvl_3'))\n",
    "ka_rp.connect_trigger_event()\n",
    "ka_rp1.connect_trigger_event()\n",
    "\n",
    "bb.set_attr(trigger_events={0: {}})\n",
    "bb.send('trigger', 'message')\n",
    "time.sleep(2)\n",
    "print(bb.get_attr('trigger_events'))\n",
    "ns.shutdown()"
   ]
  },
  {
   "cell_type": "code",
   "execution_count": 6,
   "metadata": {},
   "outputs": [
    {
     "name": "stdout",
     "output_type": "stream",
     "text": [
      "Broadcast server running on 0.0.0.0:9091\n",
      "NS running on 127.0.0.1:14579 (127.0.0.1)\n",
      "URI = PYRO:Pyro.NameServer@127.0.0.1:14579\n",
      "Examining Reactor: Core_0_0_0_0\n",
      "INFO [2020-02-21 22:59:57.943421] (blackboard): Agent ka_rp given permission to write\n",
      "INFO [2020-02-21 22:59:58.958749] (blackboard): Agent ka_bb_lvl2 given permission to write\n",
      "INFO [2020-02-21 22:59:58.967043] (ka_bb_lvl2): 1.9124102787769361\n",
      "Examining Reactor: Core_1_0_0_0\n",
      "INFO [2020-02-21 23:00:13.264129] (blackboard): Agent ka_rp given permission to write\n",
      "INFO [2020-02-21 23:00:14.276396] (blackboard): Agent ka_bb_lvl2 given permission to write\n",
      "INFO [2020-02-21 23:00:14.283532] (ka_bb_lvl2): 1.9124102787769361\n",
      "INFO [2020-02-21 23:00:14.285118] (ka_bb_lvl2): 1.9124102787769361\n",
      "Examining Reactor: Core_0_0_1_0\n",
      "INFO [2020-02-21 23:00:28.055395] (blackboard): Agent ka_rp given permission to write\n",
      "INFO [2020-02-21 23:00:29.067473] (blackboard): Agent ka_bb_lvl2 given permission to write\n",
      "INFO [2020-02-21 23:00:29.075643] (ka_bb_lvl2): 1.9124102787769361\n",
      "INFO [2020-02-21 23:00:29.077092] (ka_bb_lvl2): 1.9124102787769361\n",
      "INFO [2020-02-21 23:00:29.078616] (ka_bb_lvl2): 2.2422790331462723\n",
      "Examining Reactor: Core_0_1_0_0\n",
      "INFO [2020-02-21 23:00:42.658958] (blackboard): Agent ka_rp given permission to write\n",
      "INFO [2020-02-21 23:00:43.670735] (blackboard): Agent ka_bb_lvl2 given permission to write\n",
      "INFO [2020-02-21 23:00:43.680079] (ka_bb_lvl2): 1.9124102787769361\n",
      "INFO [2020-02-21 23:00:43.681554] (ka_bb_lvl2): 1.9124102787769361\n",
      "INFO [2020-02-21 23:00:43.682965] (ka_bb_lvl2): 2.2422790331462723\n",
      "INFO [2020-02-21 23:00:43.684429] (ka_bb_lvl2): 2.1147811201007642\n",
      "Examining Reactor: Core_0_0_0_1\n",
      "INFO [2020-02-21 23:00:57.662165] (blackboard): Agent ka_rp given permission to write\n",
      "INFO [2020-02-21 23:00:58.671424] (blackboard): Agent ka_bb_lvl2 given permission to write\n",
      "INFO [2020-02-21 23:00:58.681851] (ka_bb_lvl2): 1.9124102787769361\n",
      "INFO [2020-02-21 23:00:58.683216] (ka_bb_lvl2): 1.9124102787769361\n",
      "INFO [2020-02-21 23:00:58.684388] (ka_bb_lvl2): 2.2422790331462723\n",
      "INFO [2020-02-21 23:00:58.685573] (ka_bb_lvl2): 2.1147811201007642\n",
      "INFO [2020-02-21 23:00:58.686641] (ka_bb_lvl2): 2.2422790331462723\n"
     ]
    }
   ],
   "source": [
    "ns = run_nameserver()\n",
    "bb = run_agent(name='blackboard', base=blackboard.Blackboard)\n",
    "ka_rp = run_agent(name='ka_rp', base=ka.KaReactorPhysics_Proxy)\n",
    "ka_rp.set_attr(function_evals=50)\n",
    "ka_rp.add_blackboard(bb)\n",
    "ka_rp.connect_writer()\n",
    "ka_bb_lvl2 = run_agent(name='ka_bb_lvl2', base=ka.KaBbLvl2_Proxy)\n",
    "ka_bb_lvl2.add_blackboard(bb)\n",
    "ka_bb_lvl2.connect_writer()    \n",
    "\n",
    "\n",
    "ka_rp.objectives = ['keff', 'void_coeff', 'doppler_coeff', 'pu_content']\n",
    "ka_rp.design_variables = ['height', 'smear', 'pu_content']\n",
    "ka_rp.results_path = '/Users/ryanstewart/projects/Dakota_Interface/GA/mabs_results/'\n",
    "\n",
    "lists = {'a': [0,0,0,0], 'w': [1,0,0,0], 'x': [0,0,1,0], 'y': [0,1,0,0], 'z': [0,0,0,1]}\n",
    "for wl in lists.values():\n",
    "    print('Examining Reactor: Core_{}_{}_{}_{}'.format(wl[0],wl[1],wl[2],wl[3]))\n",
    "    ka_rp.set_attr(weights=wl)\n",
    "    ka_rp.run_dakota_proxy()\n",
    "    ka_rp.read_dakota_results()\n",
    "    ka_rp.write_to_bb()\n",
    "    ka_bb_lvl2.write_to_bb()"
   ]
  },
  {
   "cell_type": "code",
   "execution_count": 5,
   "metadata": {},
   "outputs": [],
   "source": [
    "ns.shutdown()"
   ]
  },
  {
   "cell_type": "markdown",
   "metadata": {},
   "source": [
    "# Data Extraction \n",
    "\n",
    "The previous cell built and ran 5 different Dakota optimization runs to examine the effects that the weighting scheme has on the objectives.\n",
    "The neutronics KA obtained this informatin using a surrogate model to perform the optimization proces.\n",
    "Results were then written to the blackboard, where they can easily be examined.\n",
    "Below we print out the optimized design variables along with the associated objective functions.\n"
   ]
  },
  {
   "cell_type": "code",
   "execution_count": 3,
   "metadata": {},
   "outputs": [
    {
     "name": "stdout",
     "output_type": "stream",
     "text": [
      "Reactor: core_0000 \n",
      " Height: 79.8 Smear: 67.05 Pu: 0.6025 \n",
      " keff: 1.1702 Void: -64.89  Doppler: -0.4401 \n",
      " Weights : (0,0,0,0)\n",
      "Reactor: core_1000 \n",
      " Height: 78.95 Smear: 67.25 Pu: 0.9175 \n",
      " keff: 1.2474 Void: -35.97  Doppler: -0.3506 \n",
      " Weights : (1,0,0,0)\n",
      "Reactor: core_0010 \n",
      " Height: 51.7 Smear: 50.65 Pu: 0.14 \n",
      " keff: 0.7944 Void: -196.49  Doppler: -0.9912 \n",
      " Weights : (0,0,1,0)\n",
      "Reactor: core_0100 \n",
      " Height: 51.2 Smear: 50.75 Pu: 0.0575 \n",
      " keff: 0.7721 Void: -204.77  Doppler: -1.0157 \n",
      " Weights : (0,1,0,0)\n",
      "Reactor: core_0001 \n",
      " Height: 67.15 Smear: 57.0 Pu: 0.0025 \n",
      " keff: 0.8809 Void: -168.29  Doppler: -0.8457 \n",
      " Weights : (0,0,0,1)\n"
     ]
    }
   ],
   "source": [
    "lvl_3 = bb.get_attr('lvl_3')\n",
    "for k,v in lvl_3.items():\n",
    "    print('Reactor: {} \\n Height: {} Smear: {} Pu: {} \\n keff: {} Void: {}  Doppler: {} \\n Weights : ({},{},{},{})'.format(k, \n",
    "        v['reactor_parameters']['height'][k], v['reactor_parameters']['smear'][k], v['reactor_parameters']['pu_content'][k], round(v['reactor_parameters']['keff'][k],4), round(v['reactor_parameters']['void'][k],2), round(v['reactor_parameters']['Doppler'][k],4),\n",
    "        v['reactor_parameters']['w_keff'][k],v['reactor_parameters']['w_void'][k],v['reactor_parameters']['w_dopp'][k],v['reactor_parameters']['w_pu'][k],))\n",
    "    "
   ]
  },
  {
   "cell_type": "code",
   "execution_count": 4,
   "metadata": {},
   "outputs": [
    {
     "name": "stdout",
     "output_type": "stream",
     "text": [
      "Examining Reactor: Core_1_1_1_1\n",
      "Examining Reactor: Core_1_2_2_2\n",
      "Examining Reactor: Core_2_1_1_1\n",
      "Examining Reactor: Core_3_1_1_1\n",
      "Examining Reactor: Core_3_2_1_1\n",
      "Examining Reactor: Core_0.5_0.2_0.1_2\n",
      "Examining Reactor: Core_0.4_0.1_0.2_0.3\n",
      "Examining Reactor: Core_0.6_0.2_0.1_0.1\n",
      "Examining Reactor: Core_0.3_0.3_0.3_0.1\n",
      "Examining Reactor: Core_3_2_1_1\n"
     ]
    }
   ],
   "source": [
    "lists = {'a': [1,1,1,1], 'w': [1,2,2,2], 'x': [2,1,1,1], 'y': [3,1,1,1], 'z': [3,2,1,1],\n",
    "         'b': [0.5,0.2,0.1,2], 'c': [0.4,0.1,0.2,0.3], 'd': [0.6,0.2,0.1,0.1], 'e': [0.3,0.3,0.3,0.1], 'f': [3,2,1,1]}\n",
    "for wl in lists.values():\n",
    "    print('Examining Reactor: Core_{}_{}_{}_{}'.format(wl[0],wl[1],wl[2],wl[3]))\n",
    "    ka_rp.set_attr(weights=wl)\n",
    "    ka_rp.run_dakota_proxy()\n",
    "    ka_rp.read_dakota_results()\n",
    "    ka_rp.write_to_blackboard()"
   ]
  },
  {
   "cell_type": "code",
   "execution_count": 48,
   "metadata": {},
   "outputs": [
    {
     "name": "stdout",
     "output_type": "stream",
     "text": [
      "Examining Reactor: Core_8.0707_9.5284_3.4966_2.7676\n",
      "Examining Reactor: Core_2.5585_1.8056_7.5348_5.4819\n",
      "Examining Reactor: Core_2.6661_7.6023_9.5919_3.1685\n",
      "Examining Reactor: Core_5.5613_9.9184_3.9322_5.1531\n",
      "Examining Reactor: Core_3.8562_2.1938_0.6832_2.7551\n",
      "Examining Reactor: Core_5.6895_9.6485_7.0977_6.6008\n",
      "Examining Reactor: Core_5.9168_4.6631_0.6357_4.0691\n",
      "Examining Reactor: Core_6.9784_4.2185_1.1668_6.4702\n",
      "Examining Reactor: Core_8.0338_7.9_8.273_4.3106\n",
      "Examining Reactor: Core_6.2128_3.0202_5.1883_4.7563\n"
     ]
    }
   ],
   "source": [
    "for x in range(10):\n",
    "    wl = [round(10*random.random(),4) for i in range(4)]\n",
    "    print('Examining Reactor: Core_{}_{}_{}_{}'.format(wl[0],wl[1],wl[2],wl[3]))\n",
    "    ka_rp.set_attr(weights=wl)\n",
    "    ka_rp.run_dakota_proxy()\n",
    "    ka_rp.read_dakota_results()\n",
    "    ka_rp.write_to_blackboard()    "
   ]
  },
  {
   "cell_type": "code",
   "execution_count": 57,
   "metadata": {},
   "outputs": [
    {
     "name": "stdout",
     "output_type": "stream",
     "text": [
      "0.7725662865705842\n",
      "106\n"
     ]
    },
    {
     "data": {
      "text/plain": [
       "array([[   0.94305477, -145.46843639,   -0.76456695,    0.20273155]])"
      ]
     },
     "execution_count": 57,
     "metadata": {},
     "output_type": "execute_result"
    }
   ],
   "source": [
    "ka_rp.set_attr(weights=[1.15,1,1,1])\n",
    "ka_rp.run_dakota_proxy()\n",
    "ka_rp.read_dakota_results()\n",
    "ka_rp.write_to_blackboard()  \n",
    "temp_des = []\n",
    "temp_obj = []\n",
    "lvl_3 = bb.get_attr('lvl_3')\n",
    "print(lvl_3['core_1.5111']['reactor_parameters']['keff']['core_1.5111'])\n",
    "for k,v in lvl_3.items():\n",
    "    temp_des.append((v['reactor_parameters']['w_keff'][k],v['reactor_parameters']['w_void'][k],v['reactor_parameters']['w_dopp'][k],v['reactor_parameters']['w_pu'][k]))\n",
    "    temp_obj.append((v['reactor_parameters']['keff'][k],v['reactor_parameters']['void'][k],v['reactor_parameters']['Doppler'][k],v['reactor_parameters']['pu_content'][k]))\n",
    "print(len(temp_des))\n",
    "sm = tm.Surrogate_Models()\n",
    "sm.random=0\n",
    "sm.update_database(temp_des, temp_obj)\n",
    "model = 'lr'\n",
    "sm.update_model(model)\n",
    "sm.optimize_model(model)\n",
    "sm.predict(model, [[1.15,1,1,1]])"
   ]
  },
  {
   "cell_type": "code",
   "execution_count": null,
   "metadata": {},
   "outputs": [],
   "source": [
    "model = 'ann'\n",
    "sm.update_model(model)\n",
    "sm.optimize_model(model)\n",
    "print(lvl_3['core_1.5111']['reactor_parameters']['keff']['core_1.5111'],lvl_3['core_1.5111']['reactor_parameters']['void']['core_1.5111'],\n",
    "      lvl_3['core_1.5111']['reactor_parameters']['Doppler']['core_1.5111'],lvl_3['core_1.5111']['reactor_parameters']['pu_content']['core_1.5111'])\n",
    "print(sm.predict(model, [[1.15,1,1,1]]))\n",
    "print(sm.models[model]['mse_score'], sm.models[model]['score'])"
   ]
  },
  {
   "cell_type": "code",
   "execution_count": null,
   "metadata": {},
   "outputs": [],
   "source": [
    "1.15,1,1,1\n",
    "104 - array([[   0.95067783, -142.97894534,   -0.75043104,    0.19088695]])\n",
    "94 - array([[   0.9458636 , -144.3811169 ,   -0.76500257,    0.21920749]])\n",
    "84 - array([[   0.93697795, -147.64010498,   -0.7750269 ,    0.19071838]])\n",
    "74 - array([[   0.92148437, -153.11656489,   -0.7958003 ,    0.16533378]])\n",
    "64 - array([[   0.9188606 , -153.81344203,   -0.80680371,    0.18924554]])\n",
    "54 - array([[   0.94344721, -145.17364131,   -0.77106811,    0.22301122]])\n",
    "44 - array([[   0.92699738, -150.78454251,   -0.79527818,    0.2197479 ]])\n",
    "34 - array([[   0.93131904, -149.41960065,   -0.7891247 ,    0.20827811]])\n",
    "5 - array([[   1.00889294, -121.2877934 ,   -0.67933475,    0.41458333]])\n"
   ]
  }
 ],
 "metadata": {
  "kernelspec": {
   "display_name": "Python 3",
   "language": "python",
   "name": "python3"
  },
  "language_info": {
   "codemirror_mode": {
    "name": "ipython",
    "version": 3
   },
   "file_extension": ".py",
   "mimetype": "text/x-python",
   "name": "python",
   "nbconvert_exporter": "python",
   "pygments_lexer": "ipython3",
   "version": "3.7.3"
  }
 },
 "nbformat": 4,
 "nbformat_minor": 4
}
