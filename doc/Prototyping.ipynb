{
 "cells": [
  {
   "cell_type": "code",
   "execution_count": 4,
   "metadata": {},
   "outputs": [],
   "source": [
    "import osbrain\n",
    "from osbrain import run_nameserver\n",
    "from osbrain import run_agent\n",
    "import blackboard as bb\n",
    "import ka_base as ka_b\n",
    "import os\n",
    "import time\n",
    "import h5py\n",
    "import tables as tb\n",
    "\n",
    "class KA_A(ka_b.ka_base):\n",
    "\n",
    "  def simulate(self, i):\n",
    "    self.doubled = self.squared(i)\n",
    "    time.sleep(1)\n",
    "    self.ask_permission_to_write()\n",
    "    self.ask_bb()\n",
    "\n",
    "class KA_B(ka_b.ka_base):\n",
    "\n",
    "  def simulate(self, i):\n",
    "    self.doubled = self.squared(i)\n",
    "    time.sleep(1)\n",
    "    self.ask_permission_to_write()\n",
    "    self.ask_bb() "
   ]
  },
  {
   "cell_type": "code",
   "execution_count": 7,
   "metadata": {},
   "outputs": [
    {
     "name": "stdout",
     "output_type": "stream",
     "text": [
      "Broadcast server running on 0.0.0.0:9091\n",
      "NS running on 127.0.0.1:15121 (127.0.0.1)\n",
      "URI = PYRO:Pyro.NameServer@127.0.0.1:15121\n",
      "INFO [2020-01-29 22:33:42.194043] (blackboard): Agent ka_a can write to BB\n",
      "INFO [2020-01-29 22:33:42.197984] (blackboard): Agent ka_b cannot write to BB\n",
      "INFO [2020-01-29 22:33:42.702057] (blackboard): Agent ka_b cannot write to BB\n",
      "INFO [2020-01-29 22:33:43.207530] (blackboard): Agent ka_b can write to BB\n",
      "INFO [2020-01-29 22:33:43.714973] (blackboard): Agent ka_a cannot write to BB\n",
      "INFO [2020-01-29 22:33:44.219425] (blackboard): Agent ka_a can write to BB\n",
      "INFO [2020-01-29 22:33:44.725953] (blackboard): Agent ka_b cannot write to BB\n",
      "INFO [2020-01-29 22:33:45.231870] (blackboard): Agent ka_b can write to BB\n",
      "INFO [2020-01-29 22:33:45.738567] (blackboard): Agent ka_a cannot write to BB\n",
      "INFO [2020-01-29 22:33:46.243864] (blackboard): Agent ka_a can write to BB\n",
      "INFO [2020-01-29 22:33:46.751994] (blackboard): Agent ka_b cannot write to BB\n",
      "INFO [2020-01-29 22:33:47.256397] (blackboard): Agent ka_b can write to BB\n",
      "INFO [2020-01-29 22:33:47.763018] (blackboard): Agent ka_a cannot write to BB\n",
      "INFO [2020-01-29 22:33:48.268524] (blackboard): Agent ka_a can write to BB\n",
      "INFO [2020-01-29 22:33:48.776230] (blackboard): Agent ka_b cannot write to BB\n",
      "INFO [2020-01-29 22:33:49.280672] (blackboard): Agent ka_b can write to BB\n",
      "INFO [2020-01-29 22:33:49.787012] (blackboard): Agent ka_a cannot write to BB\n",
      "INFO [2020-01-29 22:33:50.292295] (blackboard): Agent ka_a can write to BB\n",
      "INFO [2020-01-29 22:33:50.800348] (blackboard): Agent ka_b cannot write to BB\n",
      "Shutting down\n",
      "INFO [2020-01-29 22:33:51.306888] (blackboard): Agent ka_b can write to BB\n",
      "Shutting down\n",
      "blackboard_db (File) ''\n",
      "Last modif.: 'Wed Jan 29 15:33:56 2020'\n",
      "Object Tree: \n",
      "/ (RootGroup) ''\n",
      "/ka_a (Group) ''\n",
      "/ka_a/Val_0 (Array(1,)) ''\n",
      "/ka_a/Val_1 (Array(1,)) ''\n",
      "/ka_a/Val_3 (Array(1,)) ''\n",
      "/ka_a/Val_5 (Array(1,)) ''\n",
      "/ka_a/Val_7 (Array(1,)) ''\n",
      "/ka_b (Group) ''\n",
      "/ka_b/Val_2 (Array(1,)) ''\n",
      "/ka_b/Val_4 (Array(1,)) ''\n",
      "/ka_b/Val_6 (Array(1,)) ''\n",
      "/ka_b/Val_8 (Array(1,)) ''\n",
      "\n",
      "NS shut down.\n"
     ]
    }
   ],
   "source": [
    "os.system('rm blackboard_db')\n",
    "ns = run_nameserver()\n",
    "bb_s = run_agent(name='blackboard', base=bb.Blackboard)\n",
    "ka_a = run_agent(name='ka_a', base=KA_A, attributes={'bb_addr':bb_s.addr,\n",
    "                                                     'bb_permission_alias':'ask_permission',\n",
    "                                                     'bb_opt_alias':'run_opt_A'})\n",
    "ka_b = run_agent(name='ka_b', base=KA_B, attributes={'bb_addr':bb_s.addr,\n",
    "                                                     'bb_permission_alias':'ask_permission',\n",
    "                                                     'bb_opt_alias':'run_opt_B'})  \n",
    "bb_s.add_agent(ka_a)\n",
    "bb_s.add_agent(ka_b)\n",
    "contributions = bb_s.solve_problem()\n",
    "\n",
    "#Let the agent continue to run until only the blackboard agent is left.\n",
    "while len(ns.agents()) > 1:\n",
    "  time.sleep(5)\n",
    "else:\n",
    "  h5db = tb.open_file('blackboard_db', 'r+')\n",
    "  print(h5db)\n",
    "  h5db.close()\n",
    "  ns.shutdown()"
   ]
  },
  {
   "cell_type": "code",
   "execution_count": null,
   "metadata": {},
   "outputs": [],
   "source": []
  }
 ],
 "metadata": {
  "kernelspec": {
   "display_name": "Python 3",
   "language": "python",
   "name": "python3"
  },
  "language_info": {
   "codemirror_mode": {
    "name": "ipython",
    "version": 3
   },
   "file_extension": ".py",
   "mimetype": "text/x-python",
   "name": "python",
   "nbconvert_exporter": "python",
   "pygments_lexer": "ipython3",
   "version": "3.7.3"
  }
 },
 "nbformat": 4,
 "nbformat_minor": 4
}
