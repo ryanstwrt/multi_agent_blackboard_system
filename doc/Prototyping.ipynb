{
 "cells": [
  {
   "cell_type": "code",
   "execution_count": 1,
   "metadata": {},
   "outputs": [],
   "source": [
    "import osbrain\n",
    "from osbrain import run_nameserver\n",
    "from osbrain import run_agent\n",
    "import pandas as pd\n",
    "import numpy as np\n",
    "import blackboard\n",
    "import knowledge_agent as ka\n",
    "import time\n"
   ]
  },
  {
   "cell_type": "code",
   "execution_count": 2,
   "metadata": {},
   "outputs": [
    {
     "name": "stdout",
     "output_type": "stream",
     "text": [
      "Broadcast server running on 0.0.0.0:9091\n",
      "NS running on 127.0.0.1:10007 (127.0.0.1)\n",
      "URI = PYRO:Pyro.NameServer@127.0.0.1:10007\n",
      "0\n",
      "Examining Reactor: Core_0_0_0_0\n",
      "1\n",
      "Examining Reactor: Core_1_0_0_0\n",
      "0\n",
      "Examining Reactor: Core_0_0_1_0\n",
      "0\n",
      "Examining Reactor: Core_0_1_0_0\n",
      "0\n",
      "Examining Reactor: Core_0_0_0_1\n",
      "NS shut down.\n"
     ]
    }
   ],
   "source": [
    "ns = run_nameserver()\n",
    "bb = run_agent(name='blackboard', base=blackboard.Blackboard)\n",
    "ka_rp = run_agent(name='ka_rp', base=ka.KaReactorPhysics_Proxy)\n",
    "ka_rp.add_blackboard(bb)\n",
    "ka_rp.connect_REP_blackboard()\n",
    "\n",
    "ka_rp.objectives = ['keff', 'void_coeff', 'doppler_coeff', 'pu_content']\n",
    "ka_rp.design_variables = ['height', 'smear', 'pu_content']\n",
    "ka_rp.results_path = '/Users/ryanstewart/projects/Dakota_Interface/GA/mabs_results/'\n",
    "\n",
    "\n",
    "lists = {'a': [0,0,0,0], 'w': [1,0,0,0], 'x': [0,0,1,0], 'y': [0,1,0,0], 'z': [0,0,0,1]}\n",
    "for wl in lists.values():\n",
    "    print('Examining Reactor: Core_{}_{}_{}_{}'.format(wl[0],wl[1],wl[2],wl[3]))\n",
    "    ka_rp.set_attr(weights=wl)\n",
    "    ka_rp.run_dakota_proxy()\n",
    "    ka_rp.read_dakota_results()\n",
    "    ka_rp.write_to_blackboard()\n",
    "\n",
    "lvl_3 = bb.get_attr('lvl_3')"
   ]
  },
  {
   "cell_type": "code",
   "execution_count": 3,
   "metadata": {},
   "outputs": [
    {
     "name": "stdout",
     "output_type": "stream",
     "text": [
      "Reactor: core_0000 \n",
      " Height: 76.5 Smear: 64.7 Pu: 0.9375 \n",
      " keff: 1.2241 Void: -42.8  Doppler: -0.3897\n",
      "Reactor: core_1000 \n",
      " Height: 76.5 Smear: 64.7 Pu: 0.9375 \n",
      " keff: 1.22 Void: -44.76  Doppler: -0.402\n",
      "Reactor: core_0010 \n",
      " Height: 51.6 Smear: 50.75 Pu: 0.2125 \n",
      " keff: 0.8154 Void: -196.64  Doppler: -0.9956\n",
      "Reactor: core_0100 \n",
      " Height: 51.6 Smear: 50.75 Pu: 0.2125 \n",
      " keff: 0.8135 Void: -198.45  Doppler: -1.0099\n",
      "Reactor: core_0001 \n",
      " Height: 67.15 Smear: 50.8 Pu: 0.0025 \n",
      " keff: 0.8283 Void: -192.79  Doppler: -0.9831\n"
     ]
    }
   ],
   "source": [
    "for k,v in lvl_3.items():\n",
    "    print('Reactor: {} \\n Height: {} Smear: {} Pu: {} \\n keff: {} Void: {}  Doppler: {}'.format(k,\n",
    "                                                                                                v['reactor_parameters']['height'][k],\n",
    "                                                                                                v['reactor_parameters']['smear'][k],\n",
    "                                                                                                v['reactor_parameters']['pu_content'][k],\n",
    "                                                                                                round(v['reactor_parameters']['keff'][k],4),\n",
    "                                                                                                round(v['reactor_parameters']['void'][k],2),\n",
    "                                                                                                round(v['reactor_parameters']['Doppler'][k],4)))\n"
   ]
  },
  {
   "cell_type": "code",
   "execution_count": 13,
   "metadata": {},
   "outputs": [],
   "source": [
    "ka_rp.set_attr(weights=[0.6,0.1,0.1,0.2])\n",
    "ka_rp.run_dakota_proxy()\n",
    "ka_rp.read_dakota_results()\n",
    "ka_rp.write_to_blackboard()\n",
    "lvl_3 = bb.get_attr('lvl_3')\n",
    "\n"
   ]
  },
  {
   "cell_type": "code",
   "execution_count": 15,
   "metadata": {},
   "outputs": [
    {
     "name": "stdout",
     "output_type": "stream",
     "text": [
      "Reactor: core_0000 \n",
      " Height: 76.5 Smear: 64.7 Pu: 0.9375 \n",
      " keff: 1.2233 Void: -41.42  Doppler: -0.3878\n",
      "Reactor: core_1000 \n",
      " Height: 76.5 Smear: 64.7 Pu: 0.9375 \n",
      " keff: 1.2207 Void: -45.11  Doppler: -0.4007\n",
      "Reactor: core_0010 \n",
      " Height: 51.6 Smear: 50.75 Pu: 0.2125 \n",
      " keff: 0.8123 Void: -196.45  Doppler: -0.9908\n",
      "Reactor: core_0100 \n",
      " Height: 57.05 Smear: 52.25 Pu: 0.075 \n",
      " keff: 0.8188 Void: -199.5  Doppler: -0.9862\n",
      "Reactor: core_0001 \n",
      " Height: 67.15 Smear: 50.8 Pu: 0.0025 \n",
      " keff: 0.8329 Void: -191.55  Doppler: -0.974\n",
      "Reactor: core_0.60.10.10.2 \n",
      " Height: 78.95 Smear: 67.25 Pu: 0.5725 \n",
      " keff: 1.1608 Void: -68.21  Doppler: -0.4501\n"
     ]
    }
   ],
   "source": [
    "for k,v in lvl_3.items():\n",
    "    print('Reactor: {} \\n Height: {} Smear: {} Pu: {} \\n keff: {} Void: {}  Doppler: {}'.format(k,\n",
    "                                                                                                v['reactor_parameters']['height'][k],\n",
    "                                                                                                v['reactor_parameters']['smear'][k],\n",
    "                                                                                                v['reactor_parameters']['pu_content'][k],\n",
    "                                                                                                round(v['reactor_parameters']['keff'][k],4),\n",
    "                                                                                                round(v['reactor_parameters']['void'][k],2),\n",
    "                                                                                                round(v['reactor_parameters']['Doppler'][k],4)))\n"
   ]
  },
  {
   "cell_type": "code",
   "execution_count": 4,
   "metadata": {},
   "outputs": [],
   "source": [
    "ns.shutdown()"
   ]
  },
  {
   "cell_type": "code",
   "execution_count": null,
   "metadata": {},
   "outputs": [],
   "source": []
  }
 ],
 "metadata": {
  "kernelspec": {
   "display_name": "Python 3",
   "language": "python",
   "name": "python3"
  },
  "language_info": {
   "codemirror_mode": {
    "name": "ipython",
    "version": 3
   },
   "file_extension": ".py",
   "mimetype": "text/x-python",
   "name": "python",
   "nbconvert_exporter": "python",
   "pygments_lexer": "ipython3",
   "version": "3.7.3"
  }
 },
 "nbformat": 4,
 "nbformat_minor": 4
}
