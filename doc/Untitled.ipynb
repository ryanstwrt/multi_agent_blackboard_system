{
 "cells": [
  {
   "cell_type": "code",
   "execution_count": 56,
   "metadata": {},
   "outputs": [],
   "source": [
    "import osbrain\n",
    "from osbrain import run_nameserver\n",
    "from osbrain import run_agent\n",
    "from osbrain import Agent\n",
    "import time\n",
    "\n",
    "class Blackboard(Agent):\n",
    "\n",
    "    def on_init(self):\n",
    "        self.ka_to_execute = (None, 0)\n",
    "        self.trigger_event_num = 0\n",
    "        self.trigger_events = {}\n",
    "        self.pub_trigger_alias = 'trigger'\n",
    "        self.pub_trigger_addr = self.bind('PUB', alias=self.pub_trigger_alias)\n",
    "\n",
    "    def connect_pub_trigger(self, message):\n",
    "        agent_name, response_addr, response_alias = message\n",
    "        self.connect(response_addr, alias=response_alias, handler=self.response_trigger_handler)\n",
    "        return (self.pub_trigger_alias, self.pub_trigger_addr)\n",
    "\n",
    "    def send_pub_trigger(self):\n",
    "        self.send(self.pub_trigger_alias, 'sending trigger')\n",
    "\n",
    "    def response_trigger_handler(self, message):\n",
    "        self.log_info('Writing Trigger Response')\n",
    "        agent, trig_val = message\n",
    "    \n",
    "    def run_problem(self):\n",
    "        \n",
    "        for i in range(2):\n",
    "            #self.log('Starting Timer')\n",
    "            self.send_pub_trigger()\n",
    "            time.sleep(1)\n",
    "\n",
    "        \n",
    "class KaBase(Agent):\n",
    "    \n",
    "    def on_init(self):\n",
    "        self.trigger_val = 0\n",
    "        self.trigger_response_alias = None\n",
    "        self.trigger_response_addr = None\n",
    "    \n",
    "    def add_blackboard(self, blackboard):\n",
    "        self.bb = blackboard\n",
    "    \n",
    "    def connect_pub_trigger(self):\n",
    "        if self.bb:\n",
    "            self.trigger_response_alias = 'trigger_response_{}'.format(self.name)\n",
    "            self.trigger_response_addr = self.bind('PUSH', alias=self.trigger_response_alias)\n",
    "            self.pub_trigger_alias, self.pub_trigger_addr = self.bb.connect_pub_trigger((self.name, self.trigger_response_addr, self.trigger_response_alias))\n",
    "            self.connect(self.pub_trigger_addr, alias=self.pub_trigger_alias, handler=self.pub_trigger_handler)\n",
    "    \n",
    "    def pub_trigger_handler(self, message):\n",
    "        self.log_info('Sent trigger handler')\n",
    "        self.send(self.trigger_response_alias, (self.name, self.trigger_val))"
   ]
  },
  {
   "cell_type": "code",
   "execution_count": 57,
   "metadata": {},
   "outputs": [
    {
     "name": "stdout",
     "output_type": "stream",
     "text": [
      "Broadcast server running on 0.0.0.0:9091\n",
      "NS running on 127.0.0.1:17733 (127.0.0.1)\n",
      "URI = PYRO:Pyro.NameServer@127.0.0.1:17733\n",
      "INFO [2020-02-26 16:47:29.409920] (ka_rp): Sent trigger handler\n",
      "INFO [2020-02-26 16:47:29.411943] (blackboard): Writing Trigger Response\n",
      "INFO [2020-02-26 16:47:30.413244] (ka_rp): Sent trigger handler\n",
      "INFO [2020-02-26 16:47:30.415158] (blackboard): Writing Trigger Response\n",
      "NS shut down.\n"
     ]
    }
   ],
   "source": [
    "ns = run_nameserver()\n",
    "bb = run_agent(name='blackboard', base=Blackboard)\n",
    "ka_rp = run_agent(name='ka_rp', base=KaBase)\n",
    "\n",
    "ka_rp.add_blackboard(bb)\n",
    "ka_rp.connect_pub_trigger()\n",
    "\n",
    "for i in range(2):\n",
    "    bb.send_pub_trigger()\n",
    "    time.sleep(1)\n",
    "\n",
    "ns.shutdown()"
   ]
  },
  {
   "cell_type": "code",
   "execution_count": 58,
   "metadata": {},
   "outputs": [
    {
     "name": "stdout",
     "output_type": "stream",
     "text": [
      "Broadcast server running on 0.0.0.0:9091\n",
      "NS running on 127.0.0.1:18727 (127.0.0.1)\n",
      "URI = PYRO:Pyro.NameServer@127.0.0.1:18727\n",
      "INFO [2020-02-26 16:47:34.983973] (ka_rp): Sent trigger handler\n",
      "INFO [2020-02-26 16:47:35.985655] (ka_rp): Sent trigger handler\n",
      "INFO [2020-02-26 16:47:36.987399] (blackboard): Writing Trigger Response\n",
      "INFO [2020-02-26 16:47:36.990119] (blackboard): Writing Trigger Response\n",
      "NS shut down.\n"
     ]
    }
   ],
   "source": [
    "ns = run_nameserver()\n",
    "bb = run_agent(name='blackboard', base=Blackboard)\n",
    "ka_rp = run_agent(name='ka_rp', base=KaBase)\n",
    "\n",
    "ka_rp.add_blackboard(bb)\n",
    "ka_rp.connect_pub_trigger()\n",
    "\n",
    "bb.run_problem()\n",
    "\n",
    "ns.shutdown()"
   ]
  },
  {
   "cell_type": "code",
   "execution_count": null,
   "metadata": {},
   "outputs": [],
   "source": []
  }
 ],
 "metadata": {
  "kernelspec": {
   "display_name": "Python 3",
   "language": "python",
   "name": "python3"
  },
  "language_info": {
   "codemirror_mode": {
    "name": "ipython",
    "version": 3
   },
   "file_extension": ".py",
   "mimetype": "text/x-python",
   "name": "python",
   "nbconvert_exporter": "python",
   "pygments_lexer": "ipython3",
   "version": "3.7.3"
  }
 },
 "nbformat": 4,
 "nbformat_minor": 4
}
