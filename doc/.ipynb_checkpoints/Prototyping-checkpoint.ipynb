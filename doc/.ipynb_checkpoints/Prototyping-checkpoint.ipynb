{
 "cells": [
  {
   "cell_type": "code",
   "execution_count": 1,
   "metadata": {},
   "outputs": [],
   "source": [
    "import osbrain\n",
    "from osbrain import run_nameserver\n",
    "from osbrain import run_agent\n",
    "from osbrain import logging\n",
    "import pandas as pd\n",
    "import numpy as np\n",
    "import blackboard\n",
    "import knowledge_agent as ka\n",
    "import ka_rp\n",
    "import ka_br\n",
    "import time\n",
    "\n",
    "import train_surrogate_models as tm\n",
    "import random\n",
    "import h5py"
   ]
  },
  {
   "cell_type": "markdown",
   "metadata": {},
   "source": [
    "# Building a Blackboard System\n",
    "\n",
    "We start by initializing our multi-agent system using osBrain [1].\n",
    "For the basic program, three agents will be required.\n",
    "\n",
    "* Agent 1: Blackboard\n",
    "* Agent 2: Knowledge Agent - Neutronics\n",
    "* Agent 3: Knowledge Agent - Blackboard Level 2 Synthesizer\n",
    "\n",
    "The blackboard agent will retain all of the optimization results obtained by the neutronics agent on the third level of the blackboard.\n",
    "Abstract level 3 contains raw data in the form of Pandas Dataframe. \n",
    "This data consists of the design variables (height, smear, and plutonium fraction), objectives (keff, void coefficient, Doppler coefficient, plutonium fraction), and the weights for each objective.\n",
    "\n",
    "The neutronics knowledge agent (KA) will run a neutronics optimization for a given set of objective weights.\n",
    "For the traditional blackboard system, as seen here, we use a proxy neutronics KA, which has features unique to performing sodium fast reactor optimization.\n",
    "This is performed using Dakota as the optimization engine, and a surrogate model to obtain the reactor parameters (i.e. our objective functions).\n",
    "Once an optimal solution has been determined, the neutronics KA writes the associated design variables, objective functions, and weights to the blackboard.\n",
    "\n",
    "The Blackboard Level 2 Synthesizer KA examines abstract level 3 of the blackboard to determine if solutions are close to the desired solution.\n",
    "A proxy is also used for the Blackboard Level 2 Synthesizer, as the properties associated with core design are slightly different compared with the full scale MABS.\n",
    "If a solution is within some percent of the desired solution, the Blackboard Level 2 Synthesizer KA will take basic information from abstract level 3 and place it in abstract level 2.\n",
    "\n",
    "## Agent Initialization\n",
    "\n",
    "We start off by simply initializing the blackboard and neutronics KA.\n",
    "Both agents are initialized using the `connect_agent` function.\n",
    "This connects each agent to the blackboard and connects the three different types of communication that are required to interact with the blackboard.\n",
    "The blackboard is the only agent that knowledge agents interact with.\n",
    "KA never talk with other KA, and only pass information to each other by writing to the blackboard. \n",
    "This ia a fundamental property of blackboard systems, even in a multi-agent environment.\n",
    "Three channels of communication are used in the blackboard system: writer, trigger, and execute.\n",
    "\n",
    "The writer channel is a request-reply communication channel, which allows the KA to continually request if the blackboard is currently being written to.\n",
    "If it is, the blackboard informs the KA that another KA is writing and that it will have to wait.\n",
    "The KA will then wait for a second and request the state of the blackboard again, until it is able to write its information.\n",
    "For the traditional blackboard, only one knowledge agent is active at a time, and as such it should never encounter a situation where it will be denied access to the blackboard.\n",
    "\n",
    "The trigger channel contains two communication channels, a publish-subscribe channel and a push-pull channel.\n",
    "The blackboard initiates the publish-subscribe channel which allows the blackboard publish to trigger event.\n",
    "The trigger event is used to determine which KA will be selected for execution in the next step.\n",
    "The KAs initiate the push-pull channel, which allows them respond to the trigger publication with their associated trigger value.\n",
    "Trigger values will change for some KAs depending on how the problem is progressing.\n",
    "For the traditional blackboard scheme, the trigger value for the neutroncis knowledge agent will always be 1.0, and the blackboard level 2 synthesizer's trigger value will oscillate between 0 and 2 every 10 evaluations to periodically check the blackboard for a good solution.\n",
    "\n",
    "The execute channel is a push-pull channel, where the blackboard will inform a KA that they have been selected for execution.\n",
    "We then enter a while loop until the KA has finished their action for the traditional blackboard system.\n",
    "Otherwise, the blackboard could continue on with the process and send another trigger event."
   ]
  },
  {
   "cell_type": "code",
   "execution_count": 2,
   "metadata": {},
   "outputs": [
    {
     "name": "stdout",
     "output_type": "stream",
     "text": [
      "Broadcast server running on 0.0.0.0:9091\n",
      "NS running on 127.0.0.1:15524 (127.0.0.1)\n",
      "URI = PYRO:Pyro.NameServer@127.0.0.1:15524\n",
      "INFO [2020-03-18 16:52:02.614869] (bb_sfr_opt): BB connected writer to ka_rp\n",
      "INFO [2020-03-18 16:52:02.617969] (ka_rp): Agent ka_rp connected writer to BB\n",
      "INFO [2020-03-18 16:52:02.625107] (ka_rp): Agent ka_rp connected executor to BB\n",
      "INFO [2020-03-18 16:52:02.639153] (bb_sfr_opt): BB connected writer to ka_br\n",
      "INFO [2020-03-18 16:52:02.641075] (ka_br): Agent ka_br connected writer to BB\n",
      "INFO [2020-03-18 16:52:02.648252] (ka_br): Agent ka_br connected executor to BB\n",
      "INFO [2020-03-18 16:52:03.671764] (bb_sfr_opt): Determining which KA to execute\n",
      "INFO [2020-03-18 16:52:04.680761] (bb_sfr_opt): Selecting agent ka_rp (TV: 1.0) to execute (TE: 1)\n",
      "INFO [2020-03-18 16:52:04.682903] (ka_rp): Executing agent ka_rp\n",
      "INFO [2020-03-18 16:52:04.684607] (ka_rp): Core design variables determined: {'height': 58.79, 'smear': 55.83, 'pu_content': 0.48}\n",
      "INFO [2020-03-18 16:52:05.687865] (bb_sfr_opt): Writing blackboard to archive\n",
      "INFO [2020-03-18 16:52:05.693339] (bb_sfr_opt): Agent ka_rp given permission to write\n"
     ]
    },
    {
     "name": "stderr",
     "output_type": "stream",
     "text": [
      "ERROR [2020-03-18 16:52:34.536198] (ka_br): An exception occurred while running! ('reactor_parameters')\n",
      "\n",
      "|>>>>>>>>Traceback (most recent call last):\n",
      "|   File \"/Users/ryanstewart/Library/Python/3.7/lib/python/site-packages/osbrain/agent.py\", line 1680, in run\n",
      "|     self._loop()\n",
      "|   File \"/Users/ryanstewart/Library/Python/3.7/lib/python/site-packages/osbrain/agent.py\", line 1208, in _loop\n",
      "|     if self._iterate():\n",
      "|   File \"/Users/ryanstewart/Library/Python/3.7/lib/python/site-packages/osbrain/agent.py\", line 1245, in _iterate\n",
      "|     self._process_events(events)\n",
      "|   File \"/Users/ryanstewart/Library/Python/3.7/lib/python/site-packages/osbrain/agent.py\", line 1282, in _process_events\n",
      "|     self._process_single_event(socket)\n",
      "|   File \"/Users/ryanstewart/Library/Python/3.7/lib/python/site-packages/osbrain/agent.py\", line 1296, in _process_single_event\n",
      "|     self._process_sub_event(socket, address, data)\n",
      "|   File \"/Users/ryanstewart/Library/Python/3.7/lib/python/site-packages/osbrain/agent.py\", line 1452, in _process_sub_event\n",
      "|     handler(self, message)\n",
      "|   File \"/Users/ryanstewart/projects/multi_agent_blackboard_system/src/ka_br.py\", line 50, in handler_trigger_publish\n",
      "|     self.read_bb_lvl_2()\n",
      "|   File \"/Users/ryanstewart/projects/multi_agent_blackboard_system/src/ka_br.py\", line 77, in read_bb_lvl_2\n",
      "|     valid = self.determine_valid_core(k, v['reactor_parameters'])\n",
      "| KeyError: 'reactor_parameters'\n",
      "|<<<<<<<<\n",
      "Exception in thread oneway-call:\n",
      "Traceback (most recent call last):\n",
      "  File \"/Library/Developer/CommandLineTools/Library/Frameworks/Python3.framework/Versions/3.7/lib/python3.7/threading.py\", line 917, in _bootstrap_inner\n",
      "    self.run()\n",
      "  File \"/Users/ryanstewart/Library/Python/3.7/lib/python/site-packages/Pyro4/core.py\", line 1891, in run\n",
      "    super(_OnewayCallThread, self).run()\n",
      "  File \"/Library/Developer/CommandLineTools/Library/Frameworks/Python3.framework/Versions/3.7/lib/python3.7/threading.py\", line 865, in run\n",
      "    self._target(*self._args, **self._kwargs)\n",
      "  File \"/Users/ryanstewart/Library/Python/3.7/lib/python/site-packages/osbrain/agent.py\", line 1680, in run\n",
      "    self._loop()\n",
      "  File \"/Users/ryanstewart/Library/Python/3.7/lib/python/site-packages/osbrain/agent.py\", line 1208, in _loop\n",
      "    if self._iterate():\n",
      "  File \"/Users/ryanstewart/Library/Python/3.7/lib/python/site-packages/osbrain/agent.py\", line 1245, in _iterate\n",
      "    self._process_events(events)\n",
      "  File \"/Users/ryanstewart/Library/Python/3.7/lib/python/site-packages/osbrain/agent.py\", line 1282, in _process_events\n",
      "    self._process_single_event(socket)\n",
      "  File \"/Users/ryanstewart/Library/Python/3.7/lib/python/site-packages/osbrain/agent.py\", line 1296, in _process_single_event\n",
      "    self._process_sub_event(socket, address, data)\n",
      "  File \"/Users/ryanstewart/Library/Python/3.7/lib/python/site-packages/osbrain/agent.py\", line 1452, in _process_sub_event\n",
      "    handler(self, message)\n",
      "  File \"/Users/ryanstewart/projects/multi_agent_blackboard_system/src/ka_br.py\", line 50, in handler_trigger_publish\n",
      "    self.read_bb_lvl_2()\n",
      "  File \"/Users/ryanstewart/projects/multi_agent_blackboard_system/src/ka_br.py\", line 77, in read_bb_lvl_2\n",
      "    valid = self.determine_valid_core(k, v['reactor_parameters'])\n",
      "KeyError: 'reactor_parameters'\n",
      "\n"
     ]
    },
    {
     "name": "stdout",
     "output_type": "stream",
     "text": [
      "INFO [2020-03-18 16:52:35.526509] (bb_sfr_opt): Determining which KA to execute\n",
      "INFO [2020-03-18 16:52:36.533066] (bb_sfr_opt): Selecting agent ka_rp (TV: 1.0) to execute (TE: 2)\n",
      "INFO [2020-03-18 16:52:36.534993] (ka_rp): Executing agent ka_rp\n",
      "INFO [2020-03-18 16:52:36.536474] (ka_rp): Core design variables determined: {'height': 67.79, 'smear': 63.37, 'pu_content': 0.0}\n",
      "INFO [2020-03-18 16:52:37.540934] (bb_sfr_opt): Writing blackboard to archive\n",
      "INFO [2020-03-18 16:52:37.542069] (bb_sfr_opt): Agent ka_rp given permission to write\n",
      "INFO [2020-03-18 16:52:58.583370] (bb_sfr_opt): Determining which KA to execute\n",
      "INFO [2020-03-18 16:52:59.590392] (bb_sfr_opt): Selecting agent ka_rp (TV: 1.0) to execute (TE: 3)\n",
      "INFO [2020-03-18 16:52:59.592202] (ka_rp): Executing agent ka_rp\n",
      "INFO [2020-03-18 16:52:59.593663] (ka_rp): Core design variables determined: {'height': 79.52, 'smear': 50.26, 'pu_content': 0.61}\n",
      "INFO [2020-03-18 16:53:00.597654] (bb_sfr_opt): Writing blackboard to archive\n",
      "INFO [2020-03-18 16:53:00.598692] (bb_sfr_opt): Agent ka_rp given permission to write\n"
     ]
    }
   ],
   "source": [
    "ns = run_nameserver()\n",
    "bb = run_agent(name='bb_sfr_opt', base=blackboard.Blackboard)\n",
    "ka_rp = run_agent(name='ka_rp', base=ka_rp.KaReactorPhysics_verify)\n",
    "ka_lvl2 = run_agent(name='ka_br', base=ka_br.KaBbLvl2_verify)\n",
    "\n",
    "bb.add_abstract_lvl(1, {'valid': bool})\n",
    "bb.add_abstract_lvl(2, {'reactor parameters': {'height': float, 'smear': float, 'pu_content': float, 'keff': float, 'void_coeff': float, 'doppler_coeff': float}})\n",
    "\n",
    "def connect_agent(agent, bb):\n",
    "    agent.add_blackboard(bb)\n",
    "    agent.connect_writer()\n",
    "    agent.connect_trigger()\n",
    "    agent.connect_executor()\n",
    "    if 'rp' in agent.get_attr('name'):\n",
    "        agent.set_attr(function_evals=750)\n",
    "        agent.set_attr(results_path='/Users/ryanstewart/projects/Dakota_Interface/GA_3Obj/mabs_results/')\n",
    "        agent.set_attr(xs_set='continuous')\n",
    "    elif 'lvl2' in agent.get_attr('name'):\n",
    "        agent.set_attr(desired_error=0.1)\n",
    "connect_agent(ka_rp, bb)\n",
    "connect_agent(ka_lvl2, bb)"
   ]
  },
  {
   "cell_type": "code",
   "execution_count": 3,
   "metadata": {},
   "outputs": [],
   "source": [
    "#bb.load_h5()"
   ]
  },
  {
   "cell_type": "markdown",
   "metadata": {},
   "source": [
    "# Running the Blackboard System\n",
    "\n",
    "The multi-agent module used for the blackboard system is osBrain.\n",
    "osBrain requires that the blackboard sytsem be run externally from the blackboard agent.\n",
    "If the loop seen below is implemented into a function within the blackboard, we get errors associated with blackboard communication.\n",
    "This is due to the fact that each agent is a separate process, and when the blackboard runs a method, it consumes the entire process, prevent the blackboard from processing incoming messages [1].\n",
    "Future iterations of the blackboard system may split the blackboard into a controller and blackboard segment to separate the communication and administration portions.\n",
    "\n",
    "Below we see a simple loop which iterates over the three major steps associated with the blackboard: trigger, controller, and execute).\n",
    "As noted previously, the trigger publishes a request for trigger values, when the agents have responded the controller is initiated, a waiting period of 1.0 seconds is used to ensure the trigger communication has enough time to process the responses.\n",
    "The controller examines all of the KA's trigger values and selects the knowledge agent with the highest trigger values.\n",
    "Execute sends a message the the KA with the highest trigger value and tells it to execute its main code.\n",
    "\n",
    "This will allow us to see how the Dakota interface operates, and will run 10 Dakota optimizations for 10 different weighting schemes. \n",
    "10 optimization will allow for the Blackboard Level 2 Synthesizer to examine the results and determine if any solution is within 10% of our desired solution.\n",
    "Note: due to the random nature in assigning the objective weights you will not always get a solution present in blackboard abstract level 2 (`lvl_2`)."
   ]
  },
  {
   "cell_type": "code",
   "execution_count": 6,
   "metadata": {},
   "outputs": [
    {
     "name": "stdout",
     "output_type": "stream",
     "text": [
      "Finished trigger event: 3\n",
      "{'core_[58.79, 55.83, 0.48]': {'reactor parameters': {'height': 58.79, 'smear': 55.83, 'pu_content': 0.48, 'keff': 0.9777346148272212, 'void_coeff': -127.4713691425696, 'doppler_coeff': -0.6809117783842912}}, 'core_[67.79, 63.37, 0.0]': {'reactor parameters': {'height': 67.79, 'smear': 63.37, 'pu_content': 0.0, 'keff': 0.928634250819683, 'void_coeff': -146.64680059814452, 'doppler_coeff': -0.7363241546045174}}, 'core_[79.52, 50.26, 0.61]': {'reactor parameters': {'height': 79.52, 'smear': 50.26, 'pu_content': 0.61, 'keff': 1.0366499076105717, 'void_coeff': -104.94288116212017, 'doppler_coeff': -0.697290009256717}}}\n"
     ]
    }
   ],
   "source": [
    "for i in range(100):\n",
    "    bb.publish_trigger()\n",
    "    time.sleep(1)\n",
    "    bb.controller()\n",
    "    time.sleep(1)\n",
    "    bb.send_executor()\n",
    "    time.sleep(1)\n",
    "    bb.unsafe.wait_for_ka()\n",
    "    time.sleep(1)\n",
    "    print('Finished trigger event: {}'.format(bb.get_attr('trigger_event_num')))\n",
    "    if bb.get_attr('abstract_lvls')['level 1'] != {}:\n",
    "        break\n",
    "\n",
    "print(bb.get_attr('abstract_lvls')['level 1'])\n",
    "#ns.shutdown()"
   ]
  },
  {
   "cell_type": "code",
   "execution_count": 9,
   "metadata": {},
   "outputs": [
    {
     "name": "stdout",
     "output_type": "stream",
     "text": [
      "{}\n",
      "dict_keys([])\n"
     ]
    }
   ],
   "source": [
    "level_2 = bb.get_attr('abstract_lvls')['level 1']\n",
    "print(level_2)\n",
    "print(level_2.keys())"
   ]
  },
  {
   "cell_type": "code",
   "execution_count": null,
   "metadata": {},
   "outputs": [],
   "source": [
    "h5 = h5py.File('bb_sfr_opt_archive.h5', 'r')\n",
    "for k,v in h5['level 3']['core_0.780.180.760.06']['reactor_parameters'].items():\n",
    "    print(k,v[0])\n",
    "#for k,v in h5['level 3'].items():\n",
    "#    print('Core: {}'.format(k))\n",
    "#    for param in v['reactor_parameters']:\n",
    "#        print('    {}  {}'.format(param, v['reactor_parameters'][param][0]))\n",
    "h5.close()\n",
    "#lvl3 = bb.get_attr('lvl_3')\n",
    "#print(lvl3['core_0.540.70.710.11'])"
   ]
  },
  {
   "cell_type": "markdown",
   "metadata": {},
   "source": [
    "# Behind the Scenes\n",
    "\n",
    "The previous two aspects have shown off the blackboard and its interactions with the two types of knowledge agents, but from the outside, the knowledge agents act like a black-box; we tell the agent to run and it returns some value to the blackboard.\n",
    "The glean a better understanding of the blackboard system as a whole, an more in-depth discussion of the knowledge agents inner workings is required.\n",
    "\n",
    "## Neutronics (Reactor Physics) Agent\n",
    "\n",
    "The neutronics agent (`ka_rp`) performs three steps when it is executed: run Dakota, read Dakota results, and write results to the blackboard.\n",
    "Running Dakota initiates a single-objective optimization scheme using a genetic algorithm (SOGA) [2].\n",
    "For each SOGA, Dakota attempts to create an optimized core by adjusting the design variables: fuel height, smear, and plutonium fraction.\n",
    "An optimized core is dependent on the three objective functions: k-eigenvalue, sodium void coefficent, and Doppler coefficient.\n",
    "\n",
    "For each objective funcion, an associated weight is required.\n",
    "These weights are initially found using random number generator, which assigns a weight between 0 and 1 for each objective.\n",
    "Once a set number of simulations have been run, a surrogate model is used to calculate the objective weights.\n",
    "This is performed using an in-house surrogate model generator wrapped around the `scikit-learn` module [3].\n",
    "A desired solutions is known (see next section), and the surrogate model predicts what weights would yield that solution.\n",
    "\n",
    "The Dakota optimization scheme also uses a surrogate model to determine how the design variables affect the objective functions.\n",
    "This is used in place of a full MCNP calculation [4].\n",
    "The surrogate model uses a database to perform an interpolation between the known values present in the database, and the values Dakota requires.\n",
    "The module `train_surrogate_models` is used as the surrogate model.\n",
    "\n",
    "Upon completion of an optimization scheme, the `ka_rp` reads the Dakota associated H5 file [5].\n",
    "This file contains all the values for each design variable and objective function for the optimal core, based on the weighting scheme.\n",
    "These results are read in by the `ka_rp` and converted to a Pandas dataframe [6].\n",
    "\n",
    "The final step for the `ka_rp` is to write the results for the optimal core configuration to the blackboard on the third level of abstraction (`lvl_3`), where raw reactor physics data is kept.\n",
    "This creates an entry containing the core name and the Pandas dataframe containing all of the design and objective variables.\n",
    "\n",
    "## Blackboard Level 2 Synthesizer Agent\n",
    "\n",
    "The blackboard level 2 synthesizer agent (`ka_lvl2`) reads the blackboard and examines each of the solutions to determine if any solution is within some percent of the desired solution.\n",
    "The desired solutions is based on utilizing physical programming in place of a weighting scheme for the SOGA [7]. \n",
    "The solutions should have the following objective function values:\n",
    "\n",
    "* k-eigenvalue: 1.0303\n",
    "* Void Coefficient: -110.023\n",
    "* Doppler Coefficient: -0.6926\n",
    "* Pu Fraction: 54.75\n",
    "\n",
    "The `ka_lvl2` agent find the percent difference between each objective and sums these values. \n",
    "If the resulting sum is less than the `ind_err` set for `ka_lvl2` then it gets placed in abstract level 2 of the blackboard (`lvl_2`).\n",
    "\n",
    "## Blackboard Agent\n",
    "\n",
    "The blackboard is unique agent which holds the all of the information obtained by the `ka_rp` agent, and information that has been updated by `ka_lvl2`.\n",
    "This information is stored in two separate abstract levels as hinted at in the previous sections.\n",
    "\n",
    "Abstract level 3 (`lvl_3`) contains data from the `ka_rp` in the form of a dictionary, whose keys are the core name (in the form of `Core_(weights)`).\n",
    "The value for each dictionary is a nested dictionary with the keys for the reactor parameters (`rx_parameters`) and the cross-section set used (`xs_set`).\n",
    "The cross-section set is currently not used for this analysis, but will be used in future research.\n",
    "The `rx_parameters` entry contains a pandas dataframe consisting of various reactor data information including all of the design and objective variables along with the weights associated with each objective variable.\n",
    "\n",
    "Abstract level 2 (`lvl_2`) stores core designs that meet the error requirements set up by `ka_lvl2`."
   ]
  },
  {
   "cell_type": "markdown",
   "metadata": {},
   "source": [
    "# References\n",
    "\n",
    "[1] osBrain v0.6.5, (2019), GitHub repository, https://github.com/opensistemas-hub/osbrain.\n",
    "\n",
    "[2] B.M. Adams, et al, “Dakota, A Multilevel Parallel Object-Oriented Framework for DesignOptimization, Parameter Estimation, Uncertainty Quantification, and Sensitivity Analysis:Version 6.10 User’s Manual,” Sandia Technical Report SAND2014-4253, May 2019.\n",
    "\n",
    "[3] Pedregosa et al, \"Scikit-learn: Machine Learning in Python,\" *Journal of Machine Learning Research*, vol. 12, pp. 2825-2830, 2011.\n",
    "\n",
    "[4] C.J. Werner,  et al.,  “MCNP6.2 Release Notes”,  Los Alamos National Laboratory,  reportLA-UR-18-20808 (2018).\n",
    "\n",
    "[5] The HDF Group. \"Hierarchical Data Format, version 5,\"  http://www.hdfgroup.org/HDF5/, (1997).\n",
    "\n",
    "[5] R. Stewart and T.S. Palmer, \"Utilizing a Reduced-Order Model and Physical Programming for Preliminary Reactor Design Optimization,\" PHYSOR-2020, Cambridge, UK, 2020.\n",
    "\n",
    "[6] W. McKinney. \"Data Structures for Statistical Computing in Python\", *Proceedings of the 9th Python in Science Conference*, 51-56 (2010)."
   ]
  },
  {
   "cell_type": "markdown",
   "metadata": {},
   "source": [
    "# Data Extraction \n",
    "\n",
    "The previous cell built and ran 5 different Dakota optimization runs to examine the effects that the weighting scheme has on the objectives.\n",
    "The neutronics KA obtained this informatin using a surrogate model to perform the optimization proces.\n",
    "Results were then written to the blackboard, where they can easily be examined.\n",
    "Below we print out the optimized design variables along with the associated objective functions.\n"
   ]
  },
  {
   "cell_type": "code",
   "execution_count": null,
   "metadata": {},
   "outputs": [],
   "source": [
    "lvl_3 = bb.get_attr('lvl_3')\n",
    "for k,v in lvl_3.items():\n",
    "    print('Reactor: {} \\n Height: {} Smear: {} Pu: {} \\n keff: {} Void: {}  Doppler: {} \\n Weights : ({},{},{},{})'.format(k, \n",
    "        v['reactor_parameters']['height'][k], v['reactor_parameters']['smear'][k], v['reactor_parameters']['pu_content'][k], round(v['reactor_parameters']['keff'][k],4), round(v['reactor_parameters']['void'][k],2), round(v['reactor_parameters']['Doppler'][k],4),\n",
    "        v['reactor_parameters']['w_keff'][k],v['reactor_parameters']['w_void'][k],v['reactor_parameters']['w_dopp'][k],v['reactor_parameters']['w_pu'][k],))\n",
    "    "
   ]
  },
  {
   "cell_type": "code",
   "execution_count": null,
   "metadata": {},
   "outputs": [],
   "source": [
    "temp_des = []\n",
    "temp_obj = []\n",
    "lvl_3 = bb.get_attr('lvl_3')\n",
    "for k,v in lvl_3.items():\n",
    "    temp_des.append((v['reactor_parameters']['w_keff'][k],v['reactor_parameters']['w_void'][k],v['reactor_parameters']['w_dopp'][k],v['reactor_parameters']['w_pu'][k]))\n",
    "    temp_obj.append((v['reactor_parameters']['keff'][k],v['reactor_parameters']['void'][k],v['reactor_parameters']['Doppler'][k],v['reactor_parameters']['pu_content'][k]))\n",
    "print(len(temp_des))\n",
    "sm = tm.Surrogate_Models()\n",
    "sm.random=0\n",
    "sm.clear_surrogate_model()\n",
    "sm.update_database(temp_obj, temp_des)\n",
    "model = 'lr'\n",
    "sm.update_model(model)\n",
    "sm.optimize_model(model)\n",
    "sm.predict(model, [[1.0303, -110.023, -0.6926, 0.5475]])\n",
    "print(sm.models[model]['mse_score'], sm.models[model]['score'])"
   ]
  },
  {
   "cell_type": "markdown",
   "metadata": {},
   "source": [
    "# Notes on Solution Convergence\n",
    "\n",
    "1. Cut keff off at 1.0\n",
    "    * solution was obtainable, but not reliably reproducable\n",
    "    * could try with higher number of samples with surrogate model\n",
    "    * contained four objectives\n",
    "2. Reduced number of objectives to 3 (removed pu frac)\n",
    "    * solution oscilates bewteen high keff and low keff\n",
    "    * no solution had error less than 5.0\n",
    "3. Changed random numbers to sum to 1, changed rounding to 3 digits\n",
    "    * same problem as 2, now just oscillates between +/- values greater than 5.0 after 100 samples\n",
    "4. Changed rounding to 1 digit for training, removed sum to 1"
   ]
  }
 ],
 "metadata": {
  "kernelspec": {
   "display_name": "Python 3",
   "language": "python",
   "name": "python3"
  },
  "language_info": {
   "codemirror_mode": {
    "name": "ipython",
    "version": 3
   },
   "file_extension": ".py",
   "mimetype": "text/x-python",
   "name": "python",
   "nbconvert_exporter": "python",
   "pygments_lexer": "ipython3",
   "version": "3.7.3"
  }
 },
 "nbformat": 4,
 "nbformat_minor": 4
}
