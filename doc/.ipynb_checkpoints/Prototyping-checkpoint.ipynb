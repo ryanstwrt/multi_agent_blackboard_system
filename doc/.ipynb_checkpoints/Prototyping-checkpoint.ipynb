{
 "cells": [
  {
   "cell_type": "code",
   "execution_count": 1,
   "metadata": {},
   "outputs": [],
   "source": [
    "import osbrain\n",
    "from osbrain import run_nameserver\n",
    "from osbrain import run_agent\n",
    "import pandas as pd\n",
    "import numpy as np\n",
    "import blackboard\n",
    "import knowledge_agent as ka\n",
    "import time\n"
   ]
  },
  {
   "cell_type": "code",
   "execution_count": 3,
   "metadata": {},
   "outputs": [
    {
     "name": "stdout",
     "output_type": "stream",
     "text": [
      "Broadcast server running on 0.0.0.0:9091\n",
      "NS running on 127.0.0.1:13557 (127.0.0.1)\n",
      "URI = PYRO:Pyro.NameServer@127.0.0.1:13557\n",
      "Examining Reactor: Core_0_0_0_0\n",
      "----------------------------------------------------\n",
      " EXCEPTION <class 'TypeError'>: Error executing `run_dakota_proxy`! (object of type 'NoneType' has no len())\n",
      "\n",
      "> method: run_dakota_proxy\n",
      "> args: ()\n",
      "> kwargs: {}\n",
      "\n",
      "|>>>>>>>>Traceback (most recent call last):\n",
      "|   File \"/Users/ryanstewart/Library/Python/3.7/lib/python/site-packages/osbrain/agent.py\", line 310, in _handle_loopback_safe\n",
      "|     response = getattr(self, method)(*args, **kwargs)\n",
      "|   File \"/Users/ryanstewart/projects/multi_agent_blackboard_system/src/knowledge_agent.py\", line 84, in run_dakota_proxy\n",
      "|     assert len(self.weights) == len(self.objectives)\n",
      "| TypeError: object of type 'NoneType' has no len()\n",
      "|<<<<<<<<\n",
      " Extended stacktrace follows (most recent call last)\n",
      "----------------------------------------------------\n",
      "File \"/Users/ryanstewart/Library/Python/3.7/lib/python/site-packages/osbrain/proxy.py\", line 219, in Proxy._pyroInvoke\n",
      "Source code:\n",
      "    methodname, args, kwargs, flags, objectId)\n",
      "----------------------------------------------------\n",
      "File \"/Users/ryanstewart/Library/Python/3.7/lib/python/site-packages/osbrain/proxy.py\", line 265, in Proxy._remote_call\n",
      "Source code:\n",
      "    raise result\n",
      "Local values:\n",
      "    __class__ = <class 'osbrain.proxy.Proxy'>\n",
      "    args = ()\n",
      "    flags = 0\n",
      "    kwargs = {}\n",
      "    methodname = 'run_dakota_proxy'\n",
      "    objectId = None\n",
      "    result = TypeError('Error executing `run_dakota_proxy`! (object of type \\'NoneType\\' has no len())\\n\\n> method: run_dakota_proxy\\n> args: ()\\n> kwargs: {}\\n\\n|>>>>>>>>Traceback (most recent call last):\\n|   File \"/Users/ryanstewart/Library/Python/3.7/lib/python/site-packages/osbrain/agent.py\", line 310, in _handle_loopback_safe\\n|     response = getattr(self, method)(*args, **kwargs)\\n|   File \"/Users/ryanstewart/projects/multi_agent_blackboard_system/src/knowledge_agent.py\", line 84, in run_dakota_proxy\\n|     assert len(self.weights) == len(self.objectives)\\n| TypeError: object of type \\'NoneType\\' has no len()\\n|<<<<<<<<')\n",
      "    safe_args = ['run_dakota_proxy']\n",
      "    self = <osbrain.proxy.Proxy at 0x11db6df98; connected IPv4; for PYRONAME:ka_rp@127.0.0.1:13557>\n",
      "        self._pyroUri = <Pyro4.core.URI at 0x104fcb6a0; PYRONAME:ka_rp@127.0.0.1:13557>\n",
      "        self._pyroConnection = <Pyro4.socketutil.SocketConnection object at 0x11dac2f98>\n",
      "        self._pyroSerializer = None\n",
      "        self._pyroMethods = {'after', 'connect', 'has_socket', 'close_all', 'log_info', 'send', 'bind', 'recv', 'stop_timer', 'log_warning', 'send_recv', 'add_blackboard', 'safe_call', 'log_error', 'set_method', 'connect_REP_blackboard', 'shutdown', 'each', 'write_to_blackboard', 'kill', 'get_attr', 'close', 'execute_as_method', 'list_timers', 'set_logger', 'subscribe', 'log_debug', 'execute_as_function', 'set_attr', 'run_dakota_proxy', 'stop', 'stop_all_timers', 'unsubscribe', 'raise_exception', 'is_running', 'run', 'ping', 'read_dakota_results', 'addr', 'before_loop', 'idle', 'on_init'}\n",
      "        self._pyroAttrs = {'weights'}\n",
      "        self._pyroOneway = {'run'}\n",
      "        self._pyroSeq = 7\n",
      "        self._pyroRawWireResponse = False\n",
      "        self._pyroHandshake = 'hello'\n",
      "        self._pyroMaxRetries = 0\n",
      "        self._Proxy__pyroHmacKey = None\n",
      "        self._Proxy__pyroTimeout = 0.0\n",
      "        self._Proxy__pyroConnLock = <unlocked _thread.RLock object owner=0 count=0 at 0x11da35a50>\n",
      "        self._Proxy__async = False\n",
      "        self._default_safe = True\n",
      "        self._safe = True\n",
      "        self._next_oneway = False\n",
      "----------------------------------------------------\n",
      " EXCEPTION <class 'TypeError'>: Error executing `run_dakota_proxy`! (object of type 'NoneType' has no len())\n",
      "\n",
      "> method: run_dakota_proxy\n",
      "> args: ()\n",
      "> kwargs: {}\n",
      "\n",
      "|>>>>>>>>Traceback (most recent call last):\n",
      "|   File \"/Users/ryanstewart/Library/Python/3.7/lib/python/site-packages/osbrain/agent.py\", line 310, in _handle_loopback_safe\n",
      "|     response = getattr(self, method)(*args, **kwargs)\n",
      "|   File \"/Users/ryanstewart/projects/multi_agent_blackboard_system/src/knowledge_agent.py\", line 84, in run_dakota_proxy\n",
      "|     assert len(self.weights) == len(self.objectives)\n",
      "| TypeError: object of type 'NoneType' has no len()\n",
      "|<<<<<<<<\n",
      "----------------------------------------------------\n"
     ]
    },
    {
     "name": "stderr",
     "output_type": "stream",
     "text": [
      "ERROR [2020-02-19 20:51:52.601687] (ka_rp): An exception occurred while running! (object of type 'NoneType' has no len())\n",
      "\n",
      "|>>>>>>>>Traceback (most recent call last):\n",
      "|   File \"/Users/ryanstewart/Library/Python/3.7/lib/python/site-packages/osbrain/agent.py\", line 1680, in run\n",
      "|     self._loop()\n",
      "|   File \"/Users/ryanstewart/Library/Python/3.7/lib/python/site-packages/osbrain/agent.py\", line 1208, in _loop\n",
      "|     if self._iterate():\n",
      "|   File \"/Users/ryanstewart/Library/Python/3.7/lib/python/site-packages/osbrain/agent.py\", line 1245, in _iterate\n",
      "|     self._process_events(events)\n",
      "|   File \"/Users/ryanstewart/Library/Python/3.7/lib/python/site-packages/osbrain/agent.py\", line 1282, in _process_events\n",
      "|     self._process_single_event(socket)\n",
      "|   File \"/Users/ryanstewart/Library/Python/3.7/lib/python/site-packages/osbrain/agent.py\", line 1300, in _process_single_event\n",
      "|     self._process_rep_event(socket, address, data)\n",
      "|   File \"/Users/ryanstewart/Library/Python/3.7/lib/python/site-packages/osbrain/agent.py\", line 1342, in _process_rep_event\n",
      "|     execute_code_after_yield(generator)\n",
      "|   File \"/Users/ryanstewart/Library/Python/3.7/lib/python/site-packages/osbrain/agent.py\", line 158, in execute_code_after_yield\n",
      "|     next(generator)\n",
      "|   File \"/Users/ryanstewart/Library/Python/3.7/lib/python/site-packages/osbrain/agent.py\", line 310, in _handle_loopback_safe\n",
      "|     response = getattr(self, method)(*args, **kwargs)\n",
      "|   File \"/Users/ryanstewart/projects/multi_agent_blackboard_system/src/knowledge_agent.py\", line 84, in run_dakota_proxy\n",
      "|     assert len(self.weights) == len(self.objectives)\n",
      "| TypeError: object of type 'NoneType' has no len()\n",
      "|<<<<<<<<\n",
      "Exception in thread oneway-call:\n",
      "Traceback (most recent call last):\n",
      "  File \"/Library/Developer/CommandLineTools/Library/Frameworks/Python3.framework/Versions/3.7/lib/python3.7/threading.py\", line 917, in _bootstrap_inner\n",
      "    self.run()\n",
      "  File \"/Users/ryanstewart/Library/Python/3.7/lib/python/site-packages/Pyro4/core.py\", line 1891, in run\n",
      "    super(_OnewayCallThread, self).run()\n",
      "  File \"/Library/Developer/CommandLineTools/Library/Frameworks/Python3.framework/Versions/3.7/lib/python3.7/threading.py\", line 865, in run\n",
      "    self._target(*self._args, **self._kwargs)\n",
      "  File \"/Users/ryanstewart/Library/Python/3.7/lib/python/site-packages/osbrain/agent.py\", line 1680, in run\n",
      "    self._loop()\n",
      "  File \"/Users/ryanstewart/Library/Python/3.7/lib/python/site-packages/osbrain/agent.py\", line 1208, in _loop\n",
      "    if self._iterate():\n",
      "  File \"/Users/ryanstewart/Library/Python/3.7/lib/python/site-packages/osbrain/agent.py\", line 1245, in _iterate\n",
      "    self._process_events(events)\n",
      "  File \"/Users/ryanstewart/Library/Python/3.7/lib/python/site-packages/osbrain/agent.py\", line 1282, in _process_events\n",
      "    self._process_single_event(socket)\n",
      "  File \"/Users/ryanstewart/Library/Python/3.7/lib/python/site-packages/osbrain/agent.py\", line 1300, in _process_single_event\n",
      "    self._process_rep_event(socket, address, data)\n",
      "  File \"/Users/ryanstewart/Library/Python/3.7/lib/python/site-packages/osbrain/agent.py\", line 1342, in _process_rep_event\n",
      "    execute_code_after_yield(generator)\n",
      "  File \"/Users/ryanstewart/Library/Python/3.7/lib/python/site-packages/osbrain/agent.py\", line 158, in execute_code_after_yield\n",
      "    next(generator)\n",
      "  File \"/Users/ryanstewart/Library/Python/3.7/lib/python/site-packages/osbrain/agent.py\", line 310, in _handle_loopback_safe\n",
      "    response = getattr(self, method)(*args, **kwargs)\n",
      "  File \"/Users/ryanstewart/projects/multi_agent_blackboard_system/src/knowledge_agent.py\", line 84, in run_dakota_proxy\n",
      "    assert len(self.weights) == len(self.objectives)\n",
      "TypeError: object of type 'NoneType' has no len()\n",
      "\n"
     ]
    },
    {
     "ename": "TypeError",
     "evalue": "Error executing `run_dakota_proxy`! (object of type 'NoneType' has no len())\n\n> method: run_dakota_proxy\n> args: ()\n> kwargs: {}\n\n|>>>>>>>>Traceback (most recent call last):\n|   File \"/Users/ryanstewart/Library/Python/3.7/lib/python/site-packages/osbrain/agent.py\", line 310, in _handle_loopback_safe\n|     response = getattr(self, method)(*args, **kwargs)\n|   File \"/Users/ryanstewart/projects/multi_agent_blackboard_system/src/knowledge_agent.py\", line 84, in run_dakota_proxy\n|     assert len(self.weights) == len(self.objectives)\n| TypeError: object of type 'NoneType' has no len()\n|<<<<<<<<",
     "output_type": "error",
     "traceback": [
      "\u001b[0;31m---------------------------------------------------------------------------\u001b[0m",
      "\u001b[0;31mTypeError\u001b[0m                                 Traceback (most recent call last)",
      "\u001b[0;32m<ipython-input-3-f700e2a5bfd5>\u001b[0m in \u001b[0;36m<module>\u001b[0;34m\u001b[0m\n\u001b[1;32m      8\u001b[0m     \u001b[0mprint\u001b[0m\u001b[0;34m(\u001b[0m\u001b[0;34m'Examining Reactor: Core_{}_{}_{}_{}'\u001b[0m\u001b[0;34m.\u001b[0m\u001b[0mformat\u001b[0m\u001b[0;34m(\u001b[0m\u001b[0mwl\u001b[0m\u001b[0;34m[\u001b[0m\u001b[0;36m0\u001b[0m\u001b[0;34m]\u001b[0m\u001b[0;34m,\u001b[0m\u001b[0mwl\u001b[0m\u001b[0;34m[\u001b[0m\u001b[0;36m1\u001b[0m\u001b[0;34m]\u001b[0m\u001b[0;34m,\u001b[0m\u001b[0mwl\u001b[0m\u001b[0;34m[\u001b[0m\u001b[0;36m2\u001b[0m\u001b[0;34m]\u001b[0m\u001b[0;34m,\u001b[0m\u001b[0mwl\u001b[0m\u001b[0;34m[\u001b[0m\u001b[0;36m3\u001b[0m\u001b[0;34m]\u001b[0m\u001b[0;34m)\u001b[0m\u001b[0;34m)\u001b[0m\u001b[0;34m\u001b[0m\u001b[0;34m\u001b[0m\u001b[0m\n\u001b[1;32m      9\u001b[0m     \u001b[0mka_rp\u001b[0m\u001b[0;34m.\u001b[0m\u001b[0mset_attr\u001b[0m\u001b[0;34m(\u001b[0m\u001b[0mweights\u001b[0m\u001b[0;34m=\u001b[0m\u001b[0mwl\u001b[0m\u001b[0;34m)\u001b[0m\u001b[0;34m\u001b[0m\u001b[0;34m\u001b[0m\u001b[0m\n\u001b[0;32m---> 10\u001b[0;31m     \u001b[0mka_rp\u001b[0m\u001b[0;34m.\u001b[0m\u001b[0mrun_dakota_proxy\u001b[0m\u001b[0;34m(\u001b[0m\u001b[0;34m)\u001b[0m\u001b[0;34m\u001b[0m\u001b[0;34m\u001b[0m\u001b[0m\n\u001b[0m\u001b[1;32m     11\u001b[0m     \u001b[0mka_rp\u001b[0m\u001b[0;34m.\u001b[0m\u001b[0mread_dakota_results\u001b[0m\u001b[0;34m(\u001b[0m\u001b[0;34m)\u001b[0m\u001b[0;34m\u001b[0m\u001b[0;34m\u001b[0m\u001b[0m\n\u001b[1;32m     12\u001b[0m     \u001b[0mka_rp\u001b[0m\u001b[0;34m.\u001b[0m\u001b[0mwrite_to_blackboard\u001b[0m\u001b[0;34m(\u001b[0m\u001b[0;34m)\u001b[0m\u001b[0;34m\u001b[0m\u001b[0;34m\u001b[0m\u001b[0m\n",
      "\u001b[0;32m~/Library/Python/3.7/lib/python/site-packages/Pyro4/core.py\u001b[0m in \u001b[0;36m__call__\u001b[0;34m(self, *args, **kwargs)\u001b[0m\n\u001b[1;32m    183\u001b[0m         \u001b[0;32mfor\u001b[0m \u001b[0mattempt\u001b[0m \u001b[0;32min\u001b[0m \u001b[0mrange\u001b[0m\u001b[0;34m(\u001b[0m\u001b[0mself\u001b[0m\u001b[0;34m.\u001b[0m\u001b[0m__max_retries\u001b[0m \u001b[0;34m+\u001b[0m \u001b[0;36m1\u001b[0m\u001b[0;34m)\u001b[0m\u001b[0;34m:\u001b[0m\u001b[0;34m\u001b[0m\u001b[0;34m\u001b[0m\u001b[0m\n\u001b[1;32m    184\u001b[0m             \u001b[0;32mtry\u001b[0m\u001b[0;34m:\u001b[0m\u001b[0;34m\u001b[0m\u001b[0;34m\u001b[0m\u001b[0m\n\u001b[0;32m--> 185\u001b[0;31m                 \u001b[0;32mreturn\u001b[0m \u001b[0mself\u001b[0m\u001b[0;34m.\u001b[0m\u001b[0m__send\u001b[0m\u001b[0;34m(\u001b[0m\u001b[0mself\u001b[0m\u001b[0;34m.\u001b[0m\u001b[0m__name\u001b[0m\u001b[0;34m,\u001b[0m \u001b[0margs\u001b[0m\u001b[0;34m,\u001b[0m \u001b[0mkwargs\u001b[0m\u001b[0;34m)\u001b[0m\u001b[0;34m\u001b[0m\u001b[0;34m\u001b[0m\u001b[0m\n\u001b[0m\u001b[1;32m    186\u001b[0m             \u001b[0;32mexcept\u001b[0m \u001b[0;34m(\u001b[0m\u001b[0merrors\u001b[0m\u001b[0;34m.\u001b[0m\u001b[0mConnectionClosedError\u001b[0m\u001b[0;34m,\u001b[0m \u001b[0merrors\u001b[0m\u001b[0;34m.\u001b[0m\u001b[0mTimeoutError\u001b[0m\u001b[0;34m)\u001b[0m\u001b[0;34m:\u001b[0m\u001b[0;34m\u001b[0m\u001b[0;34m\u001b[0m\u001b[0m\n\u001b[1;32m    187\u001b[0m                 \u001b[0;31m# only retry for recoverable network errors\u001b[0m\u001b[0;34m\u001b[0m\u001b[0;34m\u001b[0m\u001b[0;34m\u001b[0m\u001b[0m\n",
      "\u001b[0;32m~/Library/Python/3.7/lib/python/site-packages/osbrain/proxy.py\u001b[0m in \u001b[0;36m_pyroInvoke\u001b[0;34m(self, methodname, args, kwargs, flags, objectId)\u001b[0m\n\u001b[1;32m    217\u001b[0m         \u001b[0;32mtry\u001b[0m\u001b[0;34m:\u001b[0m\u001b[0;34m\u001b[0m\u001b[0;34m\u001b[0m\u001b[0m\n\u001b[1;32m    218\u001b[0m             result = self._remote_call(\n\u001b[0;32m--> 219\u001b[0;31m                 methodname, args, kwargs, flags, objectId)\n\u001b[0m\u001b[1;32m    220\u001b[0m         \u001b[0;32mexcept\u001b[0m \u001b[0mException\u001b[0m\u001b[0;34m:\u001b[0m\u001b[0;34m\u001b[0m\u001b[0;34m\u001b[0m\u001b[0m\n\u001b[1;32m    221\u001b[0m             \u001b[0msys\u001b[0m\u001b[0;34m.\u001b[0m\u001b[0mstdout\u001b[0m\u001b[0;34m.\u001b[0m\u001b[0mwrite\u001b[0m\u001b[0;34m(\u001b[0m\u001b[0;34m''\u001b[0m\u001b[0;34m.\u001b[0m\u001b[0mjoin\u001b[0m\u001b[0;34m(\u001b[0m\u001b[0mPyro4\u001b[0m\u001b[0;34m.\u001b[0m\u001b[0mutil\u001b[0m\u001b[0;34m.\u001b[0m\u001b[0mgetPyroTraceback\u001b[0m\u001b[0;34m(\u001b[0m\u001b[0;34m)\u001b[0m\u001b[0;34m)\u001b[0m\u001b[0;34m)\u001b[0m\u001b[0;34m\u001b[0m\u001b[0;34m\u001b[0m\u001b[0m\n",
      "\u001b[0;32m~/Library/Python/3.7/lib/python/site-packages/osbrain/proxy.py\u001b[0m in \u001b[0;36m_remote_call\u001b[0;34m(self, methodname, args, kwargs, flags, objectId)\u001b[0m\n\u001b[1;32m    263\u001b[0m                 flags=flags, objectId=objectId)\n\u001b[1;32m    264\u001b[0m             \u001b[0;32mif\u001b[0m \u001b[0misinstance\u001b[0m\u001b[0;34m(\u001b[0m\u001b[0mresult\u001b[0m\u001b[0;34m,\u001b[0m \u001b[0mException\u001b[0m\u001b[0;34m)\u001b[0m\u001b[0;34m:\u001b[0m\u001b[0;34m\u001b[0m\u001b[0;34m\u001b[0m\u001b[0m\n\u001b[0;32m--> 265\u001b[0;31m                 \u001b[0;32mraise\u001b[0m \u001b[0mresult\u001b[0m\u001b[0;34m\u001b[0m\u001b[0;34m\u001b[0m\u001b[0m\n\u001b[0m\u001b[1;32m    266\u001b[0m         \u001b[0;32melse\u001b[0m\u001b[0;34m:\u001b[0m\u001b[0;34m\u001b[0m\u001b[0;34m\u001b[0m\u001b[0m\n\u001b[1;32m    267\u001b[0m             result = super()._pyroInvoke(\n",
      "\u001b[0;31mTypeError\u001b[0m: Error executing `run_dakota_proxy`! (object of type 'NoneType' has no len())\n\n> method: run_dakota_proxy\n> args: ()\n> kwargs: {}\n\n|>>>>>>>>Traceback (most recent call last):\n|   File \"/Users/ryanstewart/Library/Python/3.7/lib/python/site-packages/osbrain/agent.py\", line 310, in _handle_loopback_safe\n|     response = getattr(self, method)(*args, **kwargs)\n|   File \"/Users/ryanstewart/projects/multi_agent_blackboard_system/src/knowledge_agent.py\", line 84, in run_dakota_proxy\n|     assert len(self.weights) == len(self.objectives)\n| TypeError: object of type 'NoneType' has no len()\n|<<<<<<<<"
     ]
    }
   ],
   "source": [
    "ns = run_nameserver()\n",
    "bb = run_agent(name='blackboard', base=blackboard.Blackboard)\n",
    "ka_rp = run_agent(name='ka_rp', base=ka.KaReactorPhysics_Proxy)\n",
    "ka_rp.add_blackboard(bb)\n",
    "ka_rp.connect_REP_blackboard()\n",
    "\n",
    "ka_rp.objectives = ['keff', 'void_coeff', 'doppler_coeff', 'pu_content']\n",
    "ka_rp.design_variables = ['height', 'smear', 'pu_content']\n",
    "ka_rp.results_path = '/Users/ryanstewart/projects/Dakota_Interface/GA/mabs_results/'\n",
    "\n",
    "\n",
    "lists = {'a': [0,0,0,0], 'w': [1,0,0,0], 'x': [0,0,1,0], 'y': [0,1,0,0], 'z': [0,0,0,1]}\n",
    "for wl in lists.values():\n",
    "    print('Examining Reactor: Core_{}_{}_{}_{}'.format(wl[0],wl[1],wl[2],wl[3]))\n",
    "    ka_rp.set_attr(weights=wl)\n",
    "    ka_rp.run_dakota_proxy()\n",
    "    ka_rp.read_dakota_results()\n",
    "    ka_rp.write_to_blackboard()\n",
    "\n",
    "lvl_3 = bb.get_attr('lvl_3')"
   ]
  },
  {
   "cell_type": "code",
   "execution_count": 12,
   "metadata": {},
   "outputs": [
    {
     "name": "stdout",
     "output_type": "stream",
     "text": [
      "Reactor: core_0000 \n",
      " Height: 76.5 Smear: 64.7 Pu: 0.9375 \n",
      " keff: 1.2233 Void: -41.42  Doppler: -0.3878\n",
      "Reactor: core_1000 \n",
      " Height: 76.5 Smear: 64.7 Pu: 0.9375 \n",
      " keff: 1.2207 Void: -45.11  Doppler: -0.4007\n",
      "Reactor: core_0010 \n",
      " Height: 51.6 Smear: 50.75 Pu: 0.2125 \n",
      " keff: 0.8123 Void: -196.45  Doppler: -0.9908\n",
      "Reactor: core_0100 \n",
      " Height: 57.05 Smear: 52.25 Pu: 0.075 \n",
      " keff: 0.8188 Void: -199.5  Doppler: -0.9862\n",
      "Reactor: core_0001 \n",
      " Height: 67.15 Smear: 50.8 Pu: 0.0025 \n",
      " keff: 0.8329 Void: -191.55  Doppler: -0.974\n"
     ]
    }
   ],
   "source": [
    "for k,v in lvl_3.items():\n",
    "    print('Reactor: {} \\n Height: {} Smear: {} Pu: {} \\n keff: {} Void: {}  Doppler: {}'.format(k,\n",
    "                                                                                                v['reactor_parameters']['height'][k],\n",
    "                                                                                                v['reactor_parameters']['smear'][k],\n",
    "                                                                                                v['reactor_parameters']['pu_content'][k],\n",
    "                                                                                                round(v['reactor_parameters']['keff'][k],4),\n",
    "                                                                                                round(v['reactor_parameters']['void'][k],2),\n",
    "                                                                                                round(v['reactor_parameters']['Doppler'][k],4)))\n"
   ]
  },
  {
   "cell_type": "code",
   "execution_count": 13,
   "metadata": {},
   "outputs": [],
   "source": [
    "ka_rp.set_attr(weights=[0.6,0.1,0.1,0.2])\n",
    "ka_rp.run_dakota_proxy()\n",
    "ka_rp.read_dakota_results()\n",
    "ka_rp.write_to_blackboard()\n",
    "lvl_3 = bb.get_attr('lvl_3')\n",
    "\n"
   ]
  },
  {
   "cell_type": "code",
   "execution_count": 15,
   "metadata": {},
   "outputs": [
    {
     "name": "stdout",
     "output_type": "stream",
     "text": [
      "Reactor: core_0000 \n",
      " Height: 76.5 Smear: 64.7 Pu: 0.9375 \n",
      " keff: 1.2233 Void: -41.42  Doppler: -0.3878\n",
      "Reactor: core_1000 \n",
      " Height: 76.5 Smear: 64.7 Pu: 0.9375 \n",
      " keff: 1.2207 Void: -45.11  Doppler: -0.4007\n",
      "Reactor: core_0010 \n",
      " Height: 51.6 Smear: 50.75 Pu: 0.2125 \n",
      " keff: 0.8123 Void: -196.45  Doppler: -0.9908\n",
      "Reactor: core_0100 \n",
      " Height: 57.05 Smear: 52.25 Pu: 0.075 \n",
      " keff: 0.8188 Void: -199.5  Doppler: -0.9862\n",
      "Reactor: core_0001 \n",
      " Height: 67.15 Smear: 50.8 Pu: 0.0025 \n",
      " keff: 0.8329 Void: -191.55  Doppler: -0.974\n",
      "Reactor: core_0.60.10.10.2 \n",
      " Height: 78.95 Smear: 67.25 Pu: 0.5725 \n",
      " keff: 1.1608 Void: -68.21  Doppler: -0.4501\n"
     ]
    }
   ],
   "source": [
    "for k,v in lvl_3.items():\n",
    "    print('Reactor: {} \\n Height: {} Smear: {} Pu: {} \\n keff: {} Void: {}  Doppler: {}'.format(k,\n",
    "                                                                                                v['reactor_parameters']['height'][k],\n",
    "                                                                                                v['reactor_parameters']['smear'][k],\n",
    "                                                                                                v['reactor_parameters']['pu_content'][k],\n",
    "                                                                                                round(v['reactor_parameters']['keff'][k],4),\n",
    "                                                                                                round(v['reactor_parameters']['void'][k],2),\n",
    "                                                                                                round(v['reactor_parameters']['Doppler'][k],4)))\n"
   ]
  },
  {
   "cell_type": "code",
   "execution_count": 16,
   "metadata": {},
   "outputs": [],
   "source": [
    "ns.shutdown()"
   ]
  },
  {
   "cell_type": "code",
   "execution_count": null,
   "metadata": {},
   "outputs": [],
   "source": []
  }
 ],
 "metadata": {
  "kernelspec": {
   "display_name": "Python 3",
   "language": "python",
   "name": "python3"
  },
  "language_info": {
   "codemirror_mode": {
    "name": "ipython",
    "version": 3
   },
   "file_extension": ".py",
   "mimetype": "text/x-python",
   "name": "python",
   "nbconvert_exporter": "python",
   "pygments_lexer": "ipython3",
   "version": "3.7.3"
  }
 },
 "nbformat": 4,
 "nbformat_minor": 4
}
