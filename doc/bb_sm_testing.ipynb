{
 "cells": [
  {
   "cell_type": "code",
   "execution_count": 4,
   "metadata": {},
   "outputs": [],
   "source": [
    "import numpy as np\n",
    "import src.database_generator as dbgr\n",
    "import time\n",
    "import h5py\n",
    "import src.train_surrogate_models as tm\n",
    "import scipy.interpolate\n",
    "import warnings\n",
    "import math\n",
    "import pickle\n",
    "warnings.filterwarnings(\"ignore\")"
   ]
  },
  {
   "cell_type": "code",
   "execution_count": null,
   "metadata": {},
   "outputs": [],
   "source": [
    "ind, obj = dg.get_data(['height', 'smear', 'pu_content'], \n",
    "                       ['cycle length', 'pu mass', 'reactivity swing', 'burnup'])"
   ]
  },
  {
   "cell_type": "code",
   "execution_count": 9,
   "metadata": {},
   "outputs": [
    {
     "name": "stdout",
     "output_type": "stream",
     "text": [
      "Predicted: [[242.85502093  39.01472636]]\n"
     ]
    }
   ],
   "source": [
    "with open('../test/sm_lr_2obj.pkl', 'rb') as pickle_file:\n",
    "    sm = pickle.load(pickle_file)\n",
    "print('Predicted: {}'.format(sm.predict('lr', [[79.63313,69.95625,0.99652]])))"
   ]
  },
  {
   "cell_type": "code",
   "execution_count": 8,
   "metadata": {},
   "outputs": [
    {
     "name": "stdout",
     "output_type": "stream",
     "text": [
      "Predicted: [[439.55794102  46.45755984   1.25666173]]\n"
     ]
    }
   ],
   "source": [
    "with open('../test/sm_lr_2var_1const.pkl', 'rb') as pickle_file:\n",
    "    sm = pickle.load(pickle_file)\n",
    "print('Predicted: {}'.format(sm.predict('lr', [[79.63313,69.95625,0.99652]])))"
   ]
  },
  {
   "cell_type": "code",
   "execution_count": 12,
   "metadata": {},
   "outputs": [
    {
     "name": "stdout",
     "output_type": "stream",
     "text": [
      "Predicted: [[419.57416505  44.26569797]]\n"
     ]
    }
   ],
   "source": [
    "with open('../sm_lr_2obj_1const.pkl', 'rb') as pickle_file:\n",
    "    sm = pickle.load(pickle_file)\n",
    "print('Predicted: {}'.format(sm.predict('lr', [[79.63313,69.95625,0.99652]])))"
   ]
  },
  {
   "cell_type": "code",
   "execution_count": 11,
   "metadata": {},
   "outputs": [
    {
     "name": "stdout",
     "output_type": "stream",
     "text": [
      "lr\n",
      "pr\n",
      "ann\n",
      "gpr\n",
      "rf\n",
      "{0: {'lr': {'R2': 0.9247633187623482, 'MSE': 0.05642751092823881}, 'pr': {'R2': 0.9871374977096206, 'MSE': 0.009646876717784612}, 'ann': {'R2': 0.991807967830867, 'MSE': 0.006156345515959851}, 'gpr': {'R2': 0.9694344732833668, 'MSE': 0.022924145037477958}, 'rf': {'R2': 0.9355814569395542, 'MSE': 0.04831390729533437}}}\n",
      "lr\n",
      "pr\n",
      "ann\n",
      "gpr\n",
      "rf\n",
      "{0: {'lr': {'R2': 0.9247633187623482, 'MSE': 0.05642751092823881}, 'pr': {'R2': 0.9871374977096206, 'MSE': 0.009646876717784612}, 'ann': {'R2': 0.991807967830867, 'MSE': 0.006156345515959851}, 'gpr': {'R2': 0.9694344732833668, 'MSE': 0.022924145037477958}, 'rf': {'R2': 0.9355814569395542, 'MSE': 0.04831390729533437}}, 1: {'lr': {'R2': 0.8816213417518889, 'MSE': 0.08878399368608339}, 'pr': {'R2': 0.9840258866269106, 'MSE': 0.011980585029816943}, 'ann': {'R2': 0.9901772034013456, 'MSE': 0.00738624955404747}, 'gpr': {'R2': 0.9857535011103511, 'MSE': 0.01068487416723871}, 'rf': {'R2': 0.9602877760218411, 'MSE': 0.029784167983619138}}}\n",
      "lr\n",
      "pr\n",
      "ann\n",
      "gpr\n",
      "rf\n",
      "{0: {'lr': {'R2': 0.9247633187623482, 'MSE': 0.05642751092823881}, 'pr': {'R2': 0.9871374977096206, 'MSE': 0.009646876717784612}, 'ann': {'R2': 0.991807967830867, 'MSE': 0.006156345515959851}, 'gpr': {'R2': 0.9694344732833668, 'MSE': 0.022924145037477958}, 'rf': {'R2': 0.9355814569395542, 'MSE': 0.04831390729533437}}, 1: {'lr': {'R2': 0.8816213417518889, 'MSE': 0.08878399368608339}, 'pr': {'R2': 0.9840258866269106, 'MSE': 0.011980585029816943}, 'ann': {'R2': 0.9901772034013456, 'MSE': 0.00738624955404747}, 'gpr': {'R2': 0.9857535011103511, 'MSE': 0.01068487416723871}, 'rf': {'R2': 0.9602877760218411, 'MSE': 0.029784167983619138}}, 2: {'lr': {'R2': 0.9148542018495592, 'MSE': 0.06385934861283055}, 'pr': {'R2': 0.9892778861069381, 'MSE': 0.008041585419796469}, 'ann': {'R2': 0.9916454776029213, 'MSE': 0.006283636666810884}, 'gpr': {'R2': 0.9965214790726986, 'MSE': 0.0026088906954765245}, 'rf': {'R2': 0.9593766381467508, 'MSE': 0.0304675213899371}}}\n",
      "lr\n",
      "pr\n",
      "ann\n",
      "gpr\n",
      "rf\n",
      "{0: {'lr': {'R2': 0.9247633187623482, 'MSE': 0.05642751092823881}, 'pr': {'R2': 0.9871374977096206, 'MSE': 0.009646876717784612}, 'ann': {'R2': 0.991807967830867, 'MSE': 0.006156345515959851}, 'gpr': {'R2': 0.9694344732833668, 'MSE': 0.022924145037477958}, 'rf': {'R2': 0.9355814569395542, 'MSE': 0.04831390729533437}}, 1: {'lr': {'R2': 0.8816213417518889, 'MSE': 0.08878399368608339}, 'pr': {'R2': 0.9840258866269106, 'MSE': 0.011980585029816943}, 'ann': {'R2': 0.9901772034013456, 'MSE': 0.00738624955404747}, 'gpr': {'R2': 0.9857535011103511, 'MSE': 0.01068487416723871}, 'rf': {'R2': 0.9602877760218411, 'MSE': 0.029784167983619138}}, 2: {'lr': {'R2': 0.9148542018495592, 'MSE': 0.06385934861283055}, 'pr': {'R2': 0.9892778861069381, 'MSE': 0.008041585419796469}, 'ann': {'R2': 0.9916454776029213, 'MSE': 0.006283636666810884}, 'gpr': {'R2': 0.9965214790726986, 'MSE': 0.0026088906954765245}, 'rf': {'R2': 0.9593766381467508, 'MSE': 0.0304675213899371}}, 3: {'lr': {'R2': 0.9280741818537037, 'MSE': 0.053944363609722296}, 'pr': {'R2': 0.9660825899539127, 'MSE': 0.025438057534565458}, 'ann': {'R2': 0.9938715930719272, 'MSE': 0.004600590575700865}, 'gpr': {'R2': 0.989434406933527, 'MSE': 0.007924194799853748}, 'rf': {'R2': 0.8437163481504815, 'MSE': 0.11721273888713893}}}\n",
      "lr\n",
      "pr\n",
      "ann\n",
      "gpr\n",
      "rf\n",
      "{0: {'lr': {'R2': 0.9247633187623482, 'MSE': 0.05642751092823881}, 'pr': {'R2': 0.9871374977096206, 'MSE': 0.009646876717784612}, 'ann': {'R2': 0.991807967830867, 'MSE': 0.006156345515959851}, 'gpr': {'R2': 0.9694344732833668, 'MSE': 0.022924145037477958}, 'rf': {'R2': 0.9355814569395542, 'MSE': 0.04831390729533437}}, 1: {'lr': {'R2': 0.8816213417518889, 'MSE': 0.08878399368608339}, 'pr': {'R2': 0.9840258866269106, 'MSE': 0.011980585029816943}, 'ann': {'R2': 0.9901772034013456, 'MSE': 0.00738624955404747}, 'gpr': {'R2': 0.9857535011103511, 'MSE': 0.01068487416723871}, 'rf': {'R2': 0.9602877760218411, 'MSE': 0.029784167983619138}}, 2: {'lr': {'R2': 0.9148542018495592, 'MSE': 0.06385934861283055}, 'pr': {'R2': 0.9892778861069381, 'MSE': 0.008041585419796469}, 'ann': {'R2': 0.9916454776029213, 'MSE': 0.006283636666810884}, 'gpr': {'R2': 0.9965214790726986, 'MSE': 0.0026088906954765245}, 'rf': {'R2': 0.9593766381467508, 'MSE': 0.0304675213899371}}, 3: {'lr': {'R2': 0.9280741818537037, 'MSE': 0.053944363609722296}, 'pr': {'R2': 0.9660825899539127, 'MSE': 0.025438057534565458}, 'ann': {'R2': 0.9938715930719272, 'MSE': 0.004600590575700865}, 'gpr': {'R2': 0.989434406933527, 'MSE': 0.007924194799853748}, 'rf': {'R2': 0.8437163481504815, 'MSE': 0.11721273888713893}}, 4: {'lr': {'R2': 0.9160606402476824, 'MSE': 0.06295451981423823}, 'pr': {'R2': 0.9829926500221714, 'MSE': 0.01275551248337157}, 'ann': {'R2': 0.981373230878707, 'MSE': 0.013978056325940982}, 'gpr': {'R2': 0.99133686859351, 'MSE': 0.006497348554867904}, 'rf': {'R2': 0.9451658915428872, 'MSE': 0.041125581342834575}}}\n",
      "lr\n",
      "pr\n",
      "ann\n",
      "gpr\n",
      "rf\n",
      "{0: {'lr': {'R2': 0.9247633187623482, 'MSE': 0.05642751092823881}, 'pr': {'R2': 0.9871374977096206, 'MSE': 0.009646876717784612}, 'ann': {'R2': 0.991807967830867, 'MSE': 0.006156345515959851}, 'gpr': {'R2': 0.9694344732833668, 'MSE': 0.022924145037477958}, 'rf': {'R2': 0.9355814569395542, 'MSE': 0.04831390729533437}}, 1: {'lr': {'R2': 0.8816213417518889, 'MSE': 0.08878399368608339}, 'pr': {'R2': 0.9840258866269106, 'MSE': 0.011980585029816943}, 'ann': {'R2': 0.9901772034013456, 'MSE': 0.00738624955404747}, 'gpr': {'R2': 0.9857535011103511, 'MSE': 0.01068487416723871}, 'rf': {'R2': 0.9602877760218411, 'MSE': 0.029784167983619138}}, 2: {'lr': {'R2': 0.9148542018495592, 'MSE': 0.06385934861283055}, 'pr': {'R2': 0.9892778861069381, 'MSE': 0.008041585419796469}, 'ann': {'R2': 0.9916454776029213, 'MSE': 0.006283636666810884}, 'gpr': {'R2': 0.9965214790726986, 'MSE': 0.0026088906954765245}, 'rf': {'R2': 0.9593766381467508, 'MSE': 0.0304675213899371}}, 3: {'lr': {'R2': 0.9280741818537037, 'MSE': 0.053944363609722296}, 'pr': {'R2': 0.9660825899539127, 'MSE': 0.025438057534565458}, 'ann': {'R2': 0.9938715930719272, 'MSE': 0.004600590575700865}, 'gpr': {'R2': 0.989434406933527, 'MSE': 0.007924194799853748}, 'rf': {'R2': 0.8437163481504815, 'MSE': 0.11721273888713893}}, 4: {'lr': {'R2': 0.9160606402476824, 'MSE': 0.06295451981423823}, 'pr': {'R2': 0.9829926500221714, 'MSE': 0.01275551248337157}, 'ann': {'R2': 0.981373230878707, 'MSE': 0.013978056325940982}, 'gpr': {'R2': 0.99133686859351, 'MSE': 0.006497348554867904}, 'rf': {'R2': 0.9451658915428872, 'MSE': 0.041125581342834575}}, 5: {'lr': {'R2': 0.9084127566029415, 'MSE': 0.06869043254779393}, 'pr': {'R2': 0.9840455697878935, 'MSE': 0.011965822659079882}, 'ann': {'R2': 0.988787689604721, 'MSE': 0.008417916858932842}, 'gpr': {'R2': 0.9760360148002408, 'MSE': 0.01797298889982158}, 'rf': {'R2': 0.9215924826484854, 'MSE': 0.058805638013635905}}}\n",
      "lr\n",
      "pr\n",
      "ann\n",
      "gpr\n",
      "rf\n",
      "{0: {'lr': {'R2': 0.9247633187623482, 'MSE': 0.05642751092823881}, 'pr': {'R2': 0.9871374977096206, 'MSE': 0.009646876717784612}, 'ann': {'R2': 0.991807967830867, 'MSE': 0.006156345515959851}, 'gpr': {'R2': 0.9694344732833668, 'MSE': 0.022924145037477958}, 'rf': {'R2': 0.9355814569395542, 'MSE': 0.04831390729533437}}, 1: {'lr': {'R2': 0.8816213417518889, 'MSE': 0.08878399368608339}, 'pr': {'R2': 0.9840258866269106, 'MSE': 0.011980585029816943}, 'ann': {'R2': 0.9901772034013456, 'MSE': 0.00738624955404747}, 'gpr': {'R2': 0.9857535011103511, 'MSE': 0.01068487416723871}, 'rf': {'R2': 0.9602877760218411, 'MSE': 0.029784167983619138}}, 2: {'lr': {'R2': 0.9148542018495592, 'MSE': 0.06385934861283055}, 'pr': {'R2': 0.9892778861069381, 'MSE': 0.008041585419796469}, 'ann': {'R2': 0.9916454776029213, 'MSE': 0.006283636666810884}, 'gpr': {'R2': 0.9965214790726986, 'MSE': 0.0026088906954765245}, 'rf': {'R2': 0.9593766381467508, 'MSE': 0.0304675213899371}}, 3: {'lr': {'R2': 0.9280741818537037, 'MSE': 0.053944363609722296}, 'pr': {'R2': 0.9660825899539127, 'MSE': 0.025438057534565458}, 'ann': {'R2': 0.9938715930719272, 'MSE': 0.004600590575700865}, 'gpr': {'R2': 0.989434406933527, 'MSE': 0.007924194799853748}, 'rf': {'R2': 0.8437163481504815, 'MSE': 0.11721273888713893}}, 4: {'lr': {'R2': 0.9160606402476824, 'MSE': 0.06295451981423823}, 'pr': {'R2': 0.9829926500221714, 'MSE': 0.01275551248337157}, 'ann': {'R2': 0.981373230878707, 'MSE': 0.013978056325940982}, 'gpr': {'R2': 0.99133686859351, 'MSE': 0.006497348554867904}, 'rf': {'R2': 0.9451658915428872, 'MSE': 0.041125581342834575}}, 5: {'lr': {'R2': 0.9084127566029415, 'MSE': 0.06869043254779393}, 'pr': {'R2': 0.9840455697878935, 'MSE': 0.011965822659079882}, 'ann': {'R2': 0.988787689604721, 'MSE': 0.008417916858932842}, 'gpr': {'R2': 0.9760360148002408, 'MSE': 0.01797298889982158}, 'rf': {'R2': 0.9215924826484854, 'MSE': 0.058805638013635905}}, 6: {'lr': {'R2': 0.933768948415839, 'MSE': 0.04967328868812074}, 'pr': {'R2': 0.9966384195487017, 'MSE': 0.002521185338473666}, 'ann': {'R2': 0.9929353101140191, 'MSE': 0.005303984405168905}, 'gpr': {'R2': 0.9973277061134004, 'MSE': 0.002004220414949707}, 'rf': {'R2': 0.9247485782344296, 'MSE': 0.05643856632417766}}}\n",
      "lr\n",
      "pr\n",
      "ann\n",
      "gpr\n",
      "rf\n",
      "{0: {'lr': {'R2': 0.9247633187623482, 'MSE': 0.05642751092823881}, 'pr': {'R2': 0.9871374977096206, 'MSE': 0.009646876717784612}, 'ann': {'R2': 0.991807967830867, 'MSE': 0.006156345515959851}, 'gpr': {'R2': 0.9694344732833668, 'MSE': 0.022924145037477958}, 'rf': {'R2': 0.9355814569395542, 'MSE': 0.04831390729533437}}, 1: {'lr': {'R2': 0.8816213417518889, 'MSE': 0.08878399368608339}, 'pr': {'R2': 0.9840258866269106, 'MSE': 0.011980585029816943}, 'ann': {'R2': 0.9901772034013456, 'MSE': 0.00738624955404747}, 'gpr': {'R2': 0.9857535011103511, 'MSE': 0.01068487416723871}, 'rf': {'R2': 0.9602877760218411, 'MSE': 0.029784167983619138}}, 2: {'lr': {'R2': 0.9148542018495592, 'MSE': 0.06385934861283055}, 'pr': {'R2': 0.9892778861069381, 'MSE': 0.008041585419796469}, 'ann': {'R2': 0.9916454776029213, 'MSE': 0.006283636666810884}, 'gpr': {'R2': 0.9965214790726986, 'MSE': 0.0026088906954765245}, 'rf': {'R2': 0.9593766381467508, 'MSE': 0.0304675213899371}}, 3: {'lr': {'R2': 0.9280741818537037, 'MSE': 0.053944363609722296}, 'pr': {'R2': 0.9660825899539127, 'MSE': 0.025438057534565458}, 'ann': {'R2': 0.9938715930719272, 'MSE': 0.004600590575700865}, 'gpr': {'R2': 0.989434406933527, 'MSE': 0.007924194799853748}, 'rf': {'R2': 0.8437163481504815, 'MSE': 0.11721273888713893}}, 4: {'lr': {'R2': 0.9160606402476824, 'MSE': 0.06295451981423823}, 'pr': {'R2': 0.9829926500221714, 'MSE': 0.01275551248337157}, 'ann': {'R2': 0.981373230878707, 'MSE': 0.013978056325940982}, 'gpr': {'R2': 0.99133686859351, 'MSE': 0.006497348554867904}, 'rf': {'R2': 0.9451658915428872, 'MSE': 0.041125581342834575}}, 5: {'lr': {'R2': 0.9084127566029415, 'MSE': 0.06869043254779393}, 'pr': {'R2': 0.9840455697878935, 'MSE': 0.011965822659079882}, 'ann': {'R2': 0.988787689604721, 'MSE': 0.008417916858932842}, 'gpr': {'R2': 0.9760360148002408, 'MSE': 0.01797298889982158}, 'rf': {'R2': 0.9215924826484854, 'MSE': 0.058805638013635905}}, 6: {'lr': {'R2': 0.933768948415839, 'MSE': 0.04967328868812074}, 'pr': {'R2': 0.9966384195487017, 'MSE': 0.002521185338473666}, 'ann': {'R2': 0.9929353101140191, 'MSE': 0.005303984405168905}, 'gpr': {'R2': 0.9973277061134004, 'MSE': 0.002004220414949707}, 'rf': {'R2': 0.9247485782344296, 'MSE': 0.05643856632417766}}, 7: {'lr': {'R2': 0.9064195883071491, 'MSE': 0.07018530876963819}, 'pr': {'R2': 0.9856136748472616, 'MSE': 0.010789743864553808}, 'ann': {'R2': 0.9736049558981668, 'MSE': 0.019807003229236404}, 'gpr': {'R2': 0.9620822881395066, 'MSE': 0.028438283895372517}, 'rf': {'R2': 0.9314757833001901, 'MSE': 0.05139316252485739}}}\n",
      "lr\n",
      "pr\n",
      "ann\n",
      "gpr\n",
      "rf\n",
      "{0: {'lr': {'R2': 0.9247633187623482, 'MSE': 0.05642751092823881}, 'pr': {'R2': 0.9871374977096206, 'MSE': 0.009646876717784612}, 'ann': {'R2': 0.991807967830867, 'MSE': 0.006156345515959851}, 'gpr': {'R2': 0.9694344732833668, 'MSE': 0.022924145037477958}, 'rf': {'R2': 0.9355814569395542, 'MSE': 0.04831390729533437}}, 1: {'lr': {'R2': 0.8816213417518889, 'MSE': 0.08878399368608339}, 'pr': {'R2': 0.9840258866269106, 'MSE': 0.011980585029816943}, 'ann': {'R2': 0.9901772034013456, 'MSE': 0.00738624955404747}, 'gpr': {'R2': 0.9857535011103511, 'MSE': 0.01068487416723871}, 'rf': {'R2': 0.9602877760218411, 'MSE': 0.029784167983619138}}, 2: {'lr': {'R2': 0.9148542018495592, 'MSE': 0.06385934861283055}, 'pr': {'R2': 0.9892778861069381, 'MSE': 0.008041585419796469}, 'ann': {'R2': 0.9916454776029213, 'MSE': 0.006283636666810884}, 'gpr': {'R2': 0.9965214790726986, 'MSE': 0.0026088906954765245}, 'rf': {'R2': 0.9593766381467508, 'MSE': 0.0304675213899371}}, 3: {'lr': {'R2': 0.9280741818537037, 'MSE': 0.053944363609722296}, 'pr': {'R2': 0.9660825899539127, 'MSE': 0.025438057534565458}, 'ann': {'R2': 0.9938715930719272, 'MSE': 0.004600590575700865}, 'gpr': {'R2': 0.989434406933527, 'MSE': 0.007924194799853748}, 'rf': {'R2': 0.8437163481504815, 'MSE': 0.11721273888713893}}, 4: {'lr': {'R2': 0.9160606402476824, 'MSE': 0.06295451981423823}, 'pr': {'R2': 0.9829926500221714, 'MSE': 0.01275551248337157}, 'ann': {'R2': 0.981373230878707, 'MSE': 0.013978056325940982}, 'gpr': {'R2': 0.99133686859351, 'MSE': 0.006497348554867904}, 'rf': {'R2': 0.9451658915428872, 'MSE': 0.041125581342834575}}, 5: {'lr': {'R2': 0.9084127566029415, 'MSE': 0.06869043254779393}, 'pr': {'R2': 0.9840455697878935, 'MSE': 0.011965822659079882}, 'ann': {'R2': 0.988787689604721, 'MSE': 0.008417916858932842}, 'gpr': {'R2': 0.9760360148002408, 'MSE': 0.01797298889982158}, 'rf': {'R2': 0.9215924826484854, 'MSE': 0.058805638013635905}}, 6: {'lr': {'R2': 0.933768948415839, 'MSE': 0.04967328868812074}, 'pr': {'R2': 0.9966384195487017, 'MSE': 0.002521185338473666}, 'ann': {'R2': 0.9929353101140191, 'MSE': 0.005303984405168905}, 'gpr': {'R2': 0.9973277061134004, 'MSE': 0.002004220414949707}, 'rf': {'R2': 0.9247485782344296, 'MSE': 0.05643856632417766}}, 7: {'lr': {'R2': 0.9064195883071491, 'MSE': 0.07018530876963819}, 'pr': {'R2': 0.9856136748472616, 'MSE': 0.010789743864553808}, 'ann': {'R2': 0.9736049558981668, 'MSE': 0.019807003229236404}, 'gpr': {'R2': 0.9620822881395066, 'MSE': 0.028438283895372517}, 'rf': {'R2': 0.9314757833001901, 'MSE': 0.05139316252485739}}, 8: {'lr': {'R2': 0.9089407302580659, 'MSE': 0.06829445230645052}, 'pr': {'R2': 0.9801125841165216, 'MSE': 0.014915561912608812}, 'ann': {'R2': 0.9969349338704061, 'MSE': 0.0023059515936116074}, 'gpr': {'R2': 0.9623199290078335, 'MSE': 0.028260053244127316}, 'rf': {'R2': 0.8978098156780252, 'MSE': 0.07664263824148113}}}\n",
      "lr\n",
      "pr\n",
      "ann\n",
      "gpr\n",
      "rf\n",
      "{0: {'lr': {'R2': 0.9247633187623482, 'MSE': 0.05642751092823881}, 'pr': {'R2': 0.9871374977096206, 'MSE': 0.009646876717784612}, 'ann': {'R2': 0.991807967830867, 'MSE': 0.006156345515959851}, 'gpr': {'R2': 0.9694344732833668, 'MSE': 0.022924145037477958}, 'rf': {'R2': 0.9355814569395542, 'MSE': 0.04831390729533437}}, 1: {'lr': {'R2': 0.8816213417518889, 'MSE': 0.08878399368608339}, 'pr': {'R2': 0.9840258866269106, 'MSE': 0.011980585029816943}, 'ann': {'R2': 0.9901772034013456, 'MSE': 0.00738624955404747}, 'gpr': {'R2': 0.9857535011103511, 'MSE': 0.01068487416723871}, 'rf': {'R2': 0.9602877760218411, 'MSE': 0.029784167983619138}}, 2: {'lr': {'R2': 0.9148542018495592, 'MSE': 0.06385934861283055}, 'pr': {'R2': 0.9892778861069381, 'MSE': 0.008041585419796469}, 'ann': {'R2': 0.9916454776029213, 'MSE': 0.006283636666810884}, 'gpr': {'R2': 0.9965214790726986, 'MSE': 0.0026088906954765245}, 'rf': {'R2': 0.9593766381467508, 'MSE': 0.0304675213899371}}, 3: {'lr': {'R2': 0.9280741818537037, 'MSE': 0.053944363609722296}, 'pr': {'R2': 0.9660825899539127, 'MSE': 0.025438057534565458}, 'ann': {'R2': 0.9938715930719272, 'MSE': 0.004600590575700865}, 'gpr': {'R2': 0.989434406933527, 'MSE': 0.007924194799853748}, 'rf': {'R2': 0.8437163481504815, 'MSE': 0.11721273888713893}}, 4: {'lr': {'R2': 0.9160606402476824, 'MSE': 0.06295451981423823}, 'pr': {'R2': 0.9829926500221714, 'MSE': 0.01275551248337157}, 'ann': {'R2': 0.981373230878707, 'MSE': 0.013978056325940982}, 'gpr': {'R2': 0.99133686859351, 'MSE': 0.006497348554867904}, 'rf': {'R2': 0.9451658915428872, 'MSE': 0.041125581342834575}}, 5: {'lr': {'R2': 0.9084127566029415, 'MSE': 0.06869043254779393}, 'pr': {'R2': 0.9840455697878935, 'MSE': 0.011965822659079882}, 'ann': {'R2': 0.988787689604721, 'MSE': 0.008417916858932842}, 'gpr': {'R2': 0.9760360148002408, 'MSE': 0.01797298889982158}, 'rf': {'R2': 0.9215924826484854, 'MSE': 0.058805638013635905}}, 6: {'lr': {'R2': 0.933768948415839, 'MSE': 0.04967328868812074}, 'pr': {'R2': 0.9966384195487017, 'MSE': 0.002521185338473666}, 'ann': {'R2': 0.9929353101140191, 'MSE': 0.005303984405168905}, 'gpr': {'R2': 0.9973277061134004, 'MSE': 0.002004220414949707}, 'rf': {'R2': 0.9247485782344296, 'MSE': 0.05643856632417766}}, 7: {'lr': {'R2': 0.9064195883071491, 'MSE': 0.07018530876963819}, 'pr': {'R2': 0.9856136748472616, 'MSE': 0.010789743864553808}, 'ann': {'R2': 0.9736049558981668, 'MSE': 0.019807003229236404}, 'gpr': {'R2': 0.9620822881395066, 'MSE': 0.028438283895372517}, 'rf': {'R2': 0.9314757833001901, 'MSE': 0.05139316252485739}}, 8: {'lr': {'R2': 0.9089407302580659, 'MSE': 0.06829445230645052}, 'pr': {'R2': 0.9801125841165216, 'MSE': 0.014915561912608812}, 'ann': {'R2': 0.9969349338704061, 'MSE': 0.0023059515936116074}, 'gpr': {'R2': 0.9623199290078335, 'MSE': 0.028260053244127316}, 'rf': {'R2': 0.8978098156780252, 'MSE': 0.07664263824148113}}, 9: {'lr': {'R2': 0.9177240914761641, 'MSE': 0.06170693139287704}, 'pr': {'R2': 0.9789581950385466, 'MSE': 0.01578135372108991}, 'ann': {'R2': 0.9684083040255262, 'MSE': 0.023698807278448066}, 'gpr': {'R2': 0.9894031646364646, 'MSE': 0.007947626522652181}, 'rf': {'R2': 0.8988308270021431, 'MSE': 0.07587687974839266}}}\n"
     ]
    }
   ],
   "source": [
    "#sm = tm.Surrogate_Models()\n",
    "models = ['lr', 'pr', 'ann', 'gpr', 'rf']\n",
    "#sm.random = 0\n",
    "\n",
    "model_dict = {}\n",
    "\n",
    "for num in range(10):\n",
    "    model_dict[num] = {}\n",
    "    for model in models:\n",
    "        print(model)\n",
    "        sm = tm.Surrogate_Models()\n",
    "        sm.update_database(ind, obj)\n",
    "        sm.optimize_model(model)\n",
    "        model_dict[num][model] = {'R2': sm.models[model]['score'], 'MSE': sm.models[model]['mse_score']}\n",
    "        sm.clear_surrogate_model()\n",
    "    print(model_dict)\n"
   ]
  },
  {
   "cell_type": "code",
   "execution_count": 24,
   "metadata": {},
   "outputs": [
    {
     "name": "stdout",
     "output_type": "stream",
     "text": [
      "lr 0.06445 0.0103\n",
      "pr 0.01238 0.00561\n",
      "ann 0.00979 0.00669\n",
      "gpr 0.01353 0.00959\n",
      "rf 0.05861 0.0248\n"
     ]
    }
   ],
   "source": [
    "model_dict_2 = {}\n",
    "for model in ['lr', 'pr', 'ann', 'gpr', 'rf']:\n",
    "    model_dict_2[model] = []\n",
    "    s = 0\n",
    "    for num, models in model_dict.items():\n",
    "        model_dict_2[model].append(models[model]['MSE'])\n",
    "    mean = sum(model_dict_2[model])/len(model_dict)\n",
    "    var  = sum(pow(x-mean,2) for x in model_dict_2[model]) / len(model_dict_2[model])  # variance\n",
    "    std  = math.sqrt(var)  # standard deviation\n",
    "    print(model, round(mean,5), round(std,5))"
   ]
  },
  {
   "cell_type": "code",
   "execution_count": null,
   "metadata": {},
   "outputs": [],
   "source": [
    "print('Predicted: {}'.format(sm.predict(model, [[61.37,51.58,0.7340]])))\n",
    "print('Predicted: {}'.format(sm.predict(model, [[59.72,50.01,0.8694]])))\n",
    "print('Predicted: {}'.format(sm.predict(model, [[71.06,55.77,0.3536]])))"
   ]
  },
  {
   "cell_type": "code",
   "execution_count": 23,
   "metadata": {},
   "outputs": [
    {
     "name": "stdout",
     "output_type": "stream",
     "text": [
      "Warning: Core FS50_H100_15Pu12U10Zr does not have a base core.\n",
      "Warning: Core FS50_H100_20Pu7U10Zr does not have a base core.\n",
      "Warning: Core FS50_H100_27Pu0U10Zr does not have a base core.\n",
      "Warning: Core FS50_H100_27U10Zr does not have a base core.\n",
      "Warning: Core FS50_H100_7Pu20U10Zr does not have a base core.\n",
      "Warning: Core FS50_H90_15Pu12U10Zr does not have a base core.\n",
      "Warning: Core FS50_H90_20Pu7U10Zr does not have a base core.\n",
      "Warning: Core FS50_H90_27Pu0U10Zr does not have a base core.\n",
      "Warning: Core FS50_H90_27U10Zr does not have a base core.\n",
      "Warning: Core FS50_H90_7Pu20U10Zr does not have a base core.\n",
      "Warning: Core FS55_H85_11Pu16U10Zr does not have a base core.\n",
      "Warning: Core FS55_H85_11Pu16U10Zr does not have a voided core.\n",
      "Warning: Core FS55_H85_11Pu16U10Zr does not have a 600K core.\n",
      "Warning: Core FS55_H85_23Pu4U10Zr does not have a base core.\n",
      "Warning: Core FS55_H85_23Pu4U10Zr does not have a voided core.\n",
      "Warning: Core FS55_H85_23Pu4U10Zr does not have a 600K core.\n",
      "Warning: Core FS55_H85_3Pu24U10Zr does not have a base core.\n",
      "Warning: Core FS55_H85_3Pu24U10Zr does not have a voided core.\n",
      "Warning: Core FS55_H85_3Pu24U10Zr does not have a 600K core.\n",
      "Warning: Core FS55_H95_11Pu16U10Zr does not have a base core.\n",
      "Warning: Core FS55_H95_11Pu16U10Zr does not have a voided core.\n",
      "Warning: Core FS55_H95_11Pu16U10Zr does not have a 600K core.\n",
      "Warning: Core FS55_H95_23Pu4U10Zr does not have a base core.\n",
      "Warning: Core FS55_H95_23Pu4U10Zr does not have a voided core.\n",
      "Warning: Core FS55_H95_23Pu4U10Zr does not have a 600K core.\n",
      "Warning: Core FS55_H95_3Pu24U10Zr does not have a base core.\n",
      "Warning: Core FS55_H95_3Pu24U10Zr does not have a voided core.\n",
      "Warning: Core FS55_H95_3Pu24U10Zr does not have a 600K core.\n",
      "Warning: Core FS60_H100_15Pu12U10Zr does not have a base core.\n",
      "Warning: Core FS60_H100_20Pu7U10Zr does not have a base core.\n",
      "Warning: Core FS60_H100_27Pu0U10Zr does not have a base core.\n",
      "Warning: Core FS60_H100_27U10Zr does not have a base core.\n",
      "Warning: Core FS60_H100_7Pu20U10Zr does not have a base core.\n",
      "Warning: Core FS60_H90_15Pu12U10Zr does not have a base core.\n",
      "Warning: Core FS60_H90_20Pu7U10Zr does not have a base core.\n",
      "Warning: Core FS60_H90_27Pu0U10Zr does not have a base core.\n",
      "Warning: Core FS60_H90_27U10Zr does not have a base core.\n",
      "Warning: Core FS60_H90_7Pu20U10Zr does not have a base core.\n",
      "Warning: Core FS65_H85_11Pu16U10Zr does not have a base core.\n",
      "Warning: Core FS65_H85_11Pu16U10Zr does not have a voided core.\n",
      "Warning: Core FS65_H85_11Pu16U10Zr does not have a 600K core.\n",
      "Warning: Core FS65_H85_23Pu4U10Zr does not have a base core.\n",
      "Warning: Core FS65_H85_23Pu4U10Zr does not have a voided core.\n",
      "Warning: Core FS65_H85_23Pu4U10Zr does not have a 600K core.\n",
      "Warning: Core FS65_H85_3Pu24U10Zr does not have a base core.\n",
      "Warning: Core FS65_H85_3Pu24U10Zr does not have a voided core.\n",
      "Warning: Core FS65_H85_3Pu24U10Zr does not have a 600K core.\n",
      "Warning: Core FS65_H95_11Pu16U10Zr does not have a base core.\n",
      "Warning: Core FS65_H95_11Pu16U10Zr does not have a voided core.\n",
      "Warning: Core FS65_H95_11Pu16U10Zr does not have a 600K core.\n",
      "Warning: Core FS65_H95_23Pu4U10Zr does not have a base core.\n",
      "Warning: Core FS65_H95_23Pu4U10Zr does not have a voided core.\n",
      "Warning: Core FS65_H95_23Pu4U10Zr does not have a 600K core.\n",
      "Warning: Core FS65_H95_3Pu24U10Zr does not have a base core.\n",
      "Warning: Core FS65_H95_3Pu24U10Zr does not have a voided core.\n",
      "Warning: Core FS65_H95_3Pu24U10Zr does not have a 600K core.\n",
      "Warning: Core FS70_H100_15Pu12U10Zr does not have a base core.\n",
      "Warning: Core FS70_H100_20Pu7U10Zr does not have a base core.\n",
      "Warning: Core FS70_H100_20Pu7U10Zr does not have a voided core.\n",
      "Warning: Core FS70_H100_27Pu0U10Zr does not have a base core.\n",
      "Warning: Core FS70_H100_27U10Zr does not have a base core.\n",
      "Warning: Core FS70_H100_7Pu20U10Zr does not have a base core.\n",
      "Warning: Core FS70_H90_15Pu12U10Zr does not have a base core.\n",
      "Warning: Core FS70_H90_20Pu7U10Zr does not have a base core.\n",
      "Warning: Core FS70_H90_27Pu0U10Zr does not have a base core.\n",
      "Warning: Core FS70_H90_27U10Zr does not have a base core.\n",
      "Warning: Core FS70_H90_27U10Zr does not have a voided core.\n",
      "Warning: Core FS70_H90_7Pu20U10Zr does not have a base core.\n",
      "Warning: Core FS75_H55_11Pu16U10Zr does not have a base core.\n",
      "Warning: Core FS75_H55_23Pu4U10Zr does not have a base core.\n",
      "Warning: Core FS75_H55_3Pu24U10Zr does not have a base core.\n",
      "Warning: Core FS75_H65_11Pu16U10Zr does not have a base core.\n",
      "Warning: Core FS75_H65_23Pu4U10Zr does not have a base core.\n",
      "Warning: Core FS75_H65_3Pu24U10Zr does not have a base core.\n",
      "Warning: Core FS75_H75_11Pu16U10Zr does not have a base core.\n",
      "Warning: Core FS75_H75_23Pu4U10Zr does not have a base core.\n",
      "Warning: Core FS75_H75_3Pu24U10Zr does not have a base core.\n",
      "Warning: Core FS75_H85_11Pu16U10Zr does not have a base core.\n",
      "Warning: Core FS75_H85_23Pu4U10Zr does not have a base core.\n",
      "Warning: Core FS75_H85_3Pu24U10Zr does not have a base core.\n",
      "Warning: Core FS75_H95_11Pu16U10Zr does not have a base core.\n",
      "Warning: Core FS75_H95_23Pu4U10Zr does not have a base core.\n",
      "Warning: Core FS75_H95_3Pu24U10Zr does not have a base core.\n",
      "Warning: Core FS80_H100_15Pu12U10Zr does not have a base core.\n",
      "Warning: Core FS80_H100_15Pu12U10Zr does not have a voided core.\n",
      "Warning: Core FS80_H100_15Pu12U10Zr does not have a 600K core.\n",
      "Warning: Core FS80_H100_20Pu7U10Zr does not have a base core.\n",
      "Warning: Core FS80_H100_20Pu7U10Zr does not have a voided core.\n",
      "Warning: Core FS80_H100_20Pu7U10Zr does not have a 600K core.\n",
      "Warning: Core FS80_H100_27Pu0U10Zr does not have a base core.\n",
      "Warning: Core FS80_H100_27Pu0U10Zr does not have a voided core.\n",
      "Warning: Core FS80_H100_27Pu0U10Zr does not have a 600K core.\n",
      "Warning: Core FS80_H100_27U10Zr does not have a base core.\n",
      "Warning: Core FS80_H100_27U10Zr does not have a voided core.\n",
      "Warning: Core FS80_H100_27U10Zr does not have a 600K core.\n",
      "Warning: Core FS80_H100_7Pu20U10Zr does not have a base core.\n",
      "Warning: Core FS80_H100_7Pu20U10Zr does not have a voided core.\n",
      "Warning: Core FS80_H100_7Pu20U10Zr does not have a 600K core.\n",
      "Warning: Core FS80_H50_15Pu12U10Zr does not have a base core.\n",
      "Warning: Core FS80_H50_15Pu12U10Zr does not have a voided core.\n",
      "Warning: Core FS80_H50_15Pu12U10Zr does not have a 600K core.\n",
      "Warning: Core FS80_H50_20Pu7U10Zr does not have a base core.\n",
      "Warning: Core FS80_H50_20Pu7U10Zr does not have a voided core.\n",
      "Warning: Core FS80_H50_20Pu7U10Zr does not have a 600K core.\n",
      "Warning: Core FS80_H50_27Pu0U10Zr does not have a base core.\n",
      "Warning: Core FS80_H50_27Pu0U10Zr does not have a voided core.\n",
      "Warning: Core FS80_H50_27Pu0U10Zr does not have a 600K core.\n",
      "Warning: Core FS80_H50_27U10Zr does not have a base core.\n",
      "Warning: Core FS80_H50_27U10Zr does not have a voided core.\n",
      "Warning: Core FS80_H50_27U10Zr does not have a 600K core.\n",
      "Warning: Core FS80_H50_7Pu20U10Zr does not have a base core.\n",
      "Warning: Core FS80_H50_7Pu20U10Zr does not have a voided core.\n",
      "Warning: Core FS80_H50_7Pu20U10Zr does not have a 600K core.\n",
      "Warning: Core FS80_H60_15Pu12U10Zr does not have a base core.\n",
      "Warning: Core FS80_H60_15Pu12U10Zr does not have a voided core.\n",
      "Warning: Core FS80_H60_15Pu12U10Zr does not have a 600K core.\n",
      "Warning: Core FS80_H60_20Pu7U10Zr does not have a base core.\n",
      "Warning: Core FS80_H60_20Pu7U10Zr does not have a voided core.\n",
      "Warning: Core FS80_H60_20Pu7U10Zr does not have a 600K core.\n",
      "Warning: Core FS80_H60_27Pu0U10Zr does not have a base core.\n",
      "Warning: Core FS80_H60_27Pu0U10Zr does not have a voided core.\n",
      "Warning: Core FS80_H60_27Pu0U10Zr does not have a 600K core.\n",
      "Warning: Core FS80_H60_27U10Zr does not have a base core.\n",
      "Warning: Core FS80_H60_27U10Zr does not have a voided core.\n",
      "Warning: Core FS80_H60_27U10Zr does not have a 600K core.\n",
      "Warning: Core FS80_H60_7Pu20U10Zr does not have a base core.\n",
      "Warning: Core FS80_H60_7Pu20U10Zr does not have a voided core.\n",
      "Warning: Core FS80_H60_7Pu20U10Zr does not have a 600K core.\n",
      "Warning: Core FS80_H70_15Pu12U10Zr does not have a base core.\n",
      "Warning: Core FS80_H70_15Pu12U10Zr does not have a voided core.\n",
      "Warning: Core FS80_H70_15Pu12U10Zr does not have a 600K core.\n",
      "Warning: Core FS80_H70_20Pu7U10Zr does not have a base core.\n",
      "Warning: Core FS80_H70_20Pu7U10Zr does not have a voided core.\n",
      "Warning: Core FS80_H70_20Pu7U10Zr does not have a 600K core.\n"
     ]
    },
    {
     "name": "stdout",
     "output_type": "stream",
     "text": [
      "Warning: Core FS80_H70_27Pu0U10Zr does not have a base core.\n",
      "Warning: Core FS80_H70_27Pu0U10Zr does not have a voided core.\n",
      "Warning: Core FS80_H70_27Pu0U10Zr does not have a 600K core.\n",
      "Warning: Core FS80_H70_27U10Zr does not have a base core.\n",
      "Warning: Core FS80_H70_27U10Zr does not have a voided core.\n",
      "Warning: Core FS80_H70_27U10Zr does not have a 600K core.\n",
      "Warning: Core FS80_H70_7Pu20U10Zr does not have a base core.\n",
      "Warning: Core FS80_H70_7Pu20U10Zr does not have a voided core.\n",
      "Warning: Core FS80_H70_7Pu20U10Zr does not have a 600K core.\n",
      "Warning: Core FS80_H80_15Pu12U10Zr does not have a base core.\n",
      "Warning: Core FS80_H80_15Pu12U10Zr does not have a voided core.\n",
      "Warning: Core FS80_H80_15Pu12U10Zr does not have a 600K core.\n",
      "Warning: Core FS80_H80_20Pu7U10Zr does not have a base core.\n",
      "Warning: Core FS80_H80_20Pu7U10Zr does not have a voided core.\n",
      "Warning: Core FS80_H80_20Pu7U10Zr does not have a 600K core.\n",
      "Warning: Core FS80_H80_27Pu0U10Zr does not have a base core.\n",
      "Warning: Core FS80_H80_27Pu0U10Zr does not have a voided core.\n",
      "Warning: Core FS80_H80_27Pu0U10Zr does not have a 600K core.\n",
      "Warning: Core FS80_H80_27U10Zr does not have a base core.\n",
      "Warning: Core FS80_H80_27U10Zr does not have a voided core.\n",
      "Warning: Core FS80_H80_27U10Zr does not have a 600K core.\n",
      "Warning: Core FS80_H80_7Pu20U10Zr does not have a base core.\n",
      "Warning: Core FS80_H80_7Pu20U10Zr does not have a voided core.\n",
      "Warning: Core FS80_H80_7Pu20U10Zr does not have a 600K core.\n",
      "Warning: Core FS80_H90_20Pu7U10Zr does not have a base core.\n",
      "Warning: Core FS80_H90_20Pu7U10Zr does not have a voided core.\n",
      "Warning: Core FS80_H90_20Pu7U10Zr does not have a 600K core.\n",
      "Warning: Core FS80_H90_27Pu0U10Zr does not have a base core.\n",
      "Warning: Core FS80_H90_27Pu0U10Zr does not have a voided core.\n",
      "Warning: Core FS80_H90_27Pu0U10Zr does not have a 600K core.\n",
      "Warning: Core FS80_H90_27U10Zr does not have a base core.\n",
      "Warning: Core FS80_H90_27U10Zr does not have a voided core.\n",
      "Warning: Core FS80_H90_27U10Zr does not have a 600K core.\n",
      "Warning: Core FS80_H90_7Pu20U10Zr does not have a base core.\n",
      "Warning: Core FS80_H90_7Pu20U10Zr does not have a voided core.\n",
      "Warning: Core FS80_H90_7Pu20U10Zr does not have a 600K core.\n",
      "0.9892731050672201 0.008322373472298849\n"
     ]
    }
   ],
   "source": [
    "design_variables = ['height', 'smear', 'pu_content']\n",
    "objective_functions = ['reactivity swing', 'burnup', 'pu mass', 'cycle length', \n",
    "                       'bol keff', 'eol keff', 'void', 'doppler', 'excess reactivity']\n",
    "model = 'gpr'\n",
    "\n",
    "df_ind, df_obj = dbgr.get_data(design_variables, objective_functions, \n",
    "                               database_name='SFR_DB_3', output='DataFrame', fixed_cycle_length=360, num_cycles=3)\n",
    "sm = tm.Surrogate_Models()\n",
    "sm.random = None\n",
    "sm.update_database(df_ind, df_obj, dataframe=True)\n",
    "sm.optimize_model(model)\n",
    "#file_name = open('sm_{}_no_cl.pkl'.format(model), 'wb')\n",
    "#pickle.dump(sm, file_name)\n",
    "#file_name.close()\n",
    "print(sm.models[model]['score'], sm.models[model]['mse_score'])"
   ]
  },
  {
   "cell_type": "code",
   "execution_count": 12,
   "metadata": {},
   "outputs": [
    {
     "name": "stdout",
     "output_type": "stream",
     "text": [
      "Predicted: [[ 3.79756488e+02  7.22961955e+02  2.29390901e+03  2.17679396e+03\n",
      "   1.00000000e+00 -3.29353581e+01 -3.11951446e-01]]\n"
     ]
    }
   ],
   "source": [
    "print('Predicted: {}'.format(sm.predict(model, [[100,80,1.0]])))"
   ]
  },
  {
   "cell_type": "code",
   "execution_count": 31,
   "metadata": {},
   "outputs": [],
   "source": [
    "file_name = open('sm_{}_360days_updated.pkl'.format(model), 'wb')\n",
    "pickle.dump(sm, file_name)\n",
    "file_name.close()"
   ]
  },
  {
   "cell_type": "code",
   "execution_count": 30,
   "metadata": {},
   "outputs": [
    {
     "name": "stdout",
     "output_type": "stream",
     "text": [
      "27093.868167508714\n",
      "26839.62090479232\n",
      "-254.2472627163952\n"
     ]
    }
   ],
   "source": [
    "print((1.0396-1.01112)/(1.0396*1.01112)*10E5)\n",
    "print((1.0396-1.01138)/(1.0396*1.01138)*10E5)\n",
    "print((1.0396-1.01138)/(1.0396*1.01138)*10E5-(1.0396-1.01112)/(1.0396*1.01112)*10E5)"
   ]
  },
  {
   "cell_type": "code",
   "execution_count": null,
   "metadata": {},
   "outputs": [],
   "source": []
  }
 ],
 "metadata": {
  "kernelspec": {
   "display_name": "Python 3",
   "language": "python",
   "name": "python3"
  },
  "language_info": {
   "codemirror_mode": {
    "name": "ipython",
    "version": 3
   },
   "file_extension": ".py",
   "mimetype": "text/x-python",
   "name": "python",
   "nbconvert_exporter": "python",
   "pygments_lexer": "ipython3",
   "version": "3.7.3"
  },
  "latex_envs": {
   "LaTeX_envs_menu_present": true,
   "autoclose": false,
   "autocomplete": true,
   "bibliofile": "biblio.bib",
   "cite_by": "apalike",
   "current_citInitial": 1,
   "eqLabelWithNumbers": true,
   "eqNumInitial": 1,
   "hotkeys": {
    "equation": "Ctrl-E",
    "itemize": "Ctrl-I"
   },
   "labels_anchors": false,
   "latex_user_defs": false,
   "report_style_numbering": false,
   "user_envs_cfg": false
  }
 },
 "nbformat": 4,
 "nbformat_minor": 4
}
