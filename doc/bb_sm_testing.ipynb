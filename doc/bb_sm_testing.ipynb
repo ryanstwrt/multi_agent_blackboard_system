{
 "cells": [
  {
   "cell_type": "code",
   "execution_count": 1,
   "metadata": {},
   "outputs": [],
   "source": [
    "import osbrain\n",
    "from osbrain import run_nameserver\n",
    "from osbrain import run_agent\n",
    "from osbrain import logging\n",
    "import numpy as np\n",
    "import blackboard\n",
    "import ka\n",
    "import ka_rp as karp\n",
    "import ka_br as kabr\n",
    "import database_generator as dg\n",
    "import bb_sfr_opt\n",
    "import time\n",
    "import h5py\n",
    "import train_surrogate_models as tm\n",
    "import scipy.interpolate"
   ]
  },
  {
   "cell_type": "code",
   "execution_count": 2,
   "metadata": {},
   "outputs": [],
   "source": [
    "ind, obj = dg.get_data(['height', 'smear', 'pu_content'], ['cycle length', 'pu mass', 'reactivity swing'])\n"
   ]
  },
  {
   "cell_type": "code",
   "execution_count": 11,
   "metadata": {},
   "outputs": [
    {
     "name": "stdout",
     "output_type": "stream",
     "text": [
      "R2 Score: 0.9126872478660997\n",
      "MSE Score: 0.0873127521339005\n"
     ]
    }
   ],
   "source": [
    "sm = tm.Surrogate_Models()\n",
    "model = 'rf'\n",
    "\n",
    "#sm.random = 0\n",
    "sm.update_database(ind, obj)\n",
    "sm.optimize_model(model)\n",
    "print('R2 Score: {}'.format(sm.models[model]['score']))\n",
    "print('MSE Score: {}'.format(sm.models[model]['mse_score']))"
   ]
  },
  {
   "cell_type": "code",
   "execution_count": 7,
   "metadata": {},
   "outputs": [
    {
     "name": "stdout",
     "output_type": "stream",
     "text": [
      "Predicted: [[-15.74503115 782.15099701 -38.57967523]]\n",
      "Predicted: [[-10.99286205 880.57346703 -77.72921952]]\n",
      "Predicted: [[ 30.13940124 465.2053216  749.5089876 ]]\n"
     ]
    }
   ],
   "source": [
    "print('Predicted: {}'.format(sm.predict(model, [[61.37,51.58,0.7340]])))\n",
    "print('Predicted: {}'.format(sm.predict(model, [[59.72,50.01,0.8694]])))\n",
    "print('Predicted: {}'.format(sm.predict(model, [[71.06,55.77,0.3536]])))"
   ]
  },
  {
   "cell_type": "code",
   "execution_count": null,
   "metadata": {},
   "outputs": [],
   "source": []
  }
 ],
 "metadata": {
  "kernelspec": {
   "display_name": "Python 3",
   "language": "python",
   "name": "python3"
  },
  "language_info": {
   "codemirror_mode": {
    "name": "ipython",
    "version": 3
   },
   "file_extension": ".py",
   "mimetype": "text/x-python",
   "name": "python",
   "nbconvert_exporter": "python",
   "pygments_lexer": "ipython3",
   "version": "3.7.3"
  }
 },
 "nbformat": 4,
 "nbformat_minor": 4
}
